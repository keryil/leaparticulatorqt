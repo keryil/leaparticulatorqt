{
 "metadata": {
  "name": "",
  "signature": "sha256:0bb42f9dc6dcb55bbde9d2252d35c3bf7f0e3eaf2e9fd51b2cd820a0b7389232"
 },
 "nbformat": 3,
 "nbformat_minor": 0,
 "worksheets": []
}