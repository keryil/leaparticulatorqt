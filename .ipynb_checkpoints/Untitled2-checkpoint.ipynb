{
 "metadata": {
  "name": "",
  "signature": "sha256:e9d16f2852e23a05341836846b3ae76cc8a834547172398ea0022eb5903e41d7"
 },
 "nbformat": 3,
 "nbformat_minor": 0,
 "worksheets": []
}