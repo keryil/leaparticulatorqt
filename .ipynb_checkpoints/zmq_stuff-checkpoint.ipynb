{
 "metadata": {
  "name": "",
  "signature": "sha256:e60394a4eca6d47a4025bb9fa5d7cc788bf7ac0eac285e478ec7419628c61b33"
 },
 "nbformat": 3,
 "nbformat_minor": 0,
 "worksheets": [
  {
   "cells": [
    {
     "cell_type": "code",
     "collapsed": false,
     "input": [
      "%%writefile zmq_server.py\n",
      "import zmq\n",
      "from time import sleep\n",
      "context = zmq.Context()\n",
      "\n",
      "socket = context.socket(zmq.REP)\n",
      "socket.bind(\"tcp://*:5555\")\n",
      "while True:\n",
      "    a = socket.recv()\n",
      "    print a\n",
      "    sleep(1)\n",
      "    socket.send(\"World\")"
     ],
     "language": "python",
     "metadata": {},
     "outputs": [
      {
       "output_type": "stream",
       "stream": "stdout",
       "text": [
        "Overwriting zmq_server.py\n"
       ]
      }
     ],
     "prompt_number": 1
    },
    {
     "cell_type": "code",
     "collapsed": false,
     "input": [
      "%%writefile zmq_client.py\n",
      "import zmq\n",
      "\n",
      "context = zmq.Context()\n",
      "\n",
      "# Socket to talk to server\n",
      "print(\"Connecting to hello world server...\")\n",
      "socket = context.socket(zmq.REQ)\n",
      "socket.connect(\"tcp://localhost:5555\")\n",
      "\n",
      "# Do 10 requests, waiting each time for a response\n",
      "for request in range(10):\n",
      "    print(\"Sending request %s ...\" % request)\n",
      "    socket.send(b\"Hello\")\n",
      "\n",
      "    # Get the reply.\n",
      "    message = socket.recv()\n",
      "    print(\"Received reply %s [ %s ]\" % (request, message))\n"
     ],
     "language": "python",
     "metadata": {},
     "outputs": [
      {
       "output_type": "stream",
       "stream": "stdout",
       "text": [
        "Overwriting zmq_client.py\n"
       ]
      }
     ]
    },
    {
     "cell_type": "code",
     "collapsed": false,
     "input": [
      "%run zmq_server.py"
     ],
     "language": "python",
     "metadata": {},
     "outputs": [
      {
       "output_type": "stream",
       "stream": "stdout",
       "text": [
        "Hello\n",
        "Hello"
       ]
      }
     ]
    },
    {
     "cell_type": "code",
     "collapsed": false,
     "input": [],
     "language": "python",
     "metadata": {},
     "outputs": []
    }
   ],
   "metadata": {}
  }
 ]
}