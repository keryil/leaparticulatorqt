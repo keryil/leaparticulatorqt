{
 "metadata": {
  "name": ""
 },
 "nbformat": 3,
 "nbformat_minor": 0,
 "worksheets": [
  {
   "cells": [
    {
     "cell_type": "code",
     "collapsed": false,
     "input": [
      "import sys, os\n",
      "sys.path.append(os.path.expanduser(\"~/Dropbox/ABACUS/Workspace/Abacus/\"))\n",
      "sys.path.append(os.path.expanduser(\"~/Dropbox/ABACUS/Workspace/LeapArticulator\"))\n",
      "from scipy.spatial.distance import euclidean"
     ],
     "language": "python",
     "metadata": {},
     "outputs": [],
     "prompt_number": 1
    },
    {
     "cell_type": "code",
     "collapsed": false,
     "input": [
      "from abacus.experiments.artificial.symbol_generator import SymbolGenerator\n",
      "from abacus.experiments.artificial.trajectory import Trajectory\n",
      "import numpy as np\n",
      "np.seterr(all='raise')"
     ],
     "language": "python",
     "metadata": {},
     "outputs": [
      {
       "metadata": {},
       "output_type": "pyout",
       "prompt_number": 2,
       "text": [
        "{'divide': 'raise', 'invalid': 'raise', 'over': 'raise', 'under': 'raise'}"
       ]
      }
     ],
     "prompt_number": 2
    },
    {
     "cell_type": "code",
     "collapsed": false,
     "input": [
      "t = Trajectory(duration=36, step_size=4, prob_c=.25, dim_size=(100,100), ndim=2, plot=False, width=0.002)"
     ],
     "language": "python",
     "metadata": {},
     "outputs": [],
     "prompt_number": 3
    },
    {
     "cell_type": "code",
     "collapsed": false,
     "input": [
      "colors = ['red','green','yellow','pink', 'navy', 'magenta', 'purple', 'pink', 'grey']\n",
      "# width = 0.004\n",
      "def show_trajectory(t, n_gen=2, generations_arr=None, width=0.003, noise=True):\n",
      "    plt.quiverkey(t.plot2d(), 0.01, .98, 1, \"Orig\")\n",
      "#     n_gen = 2\n",
      "    t.plot2d(color=\"black\", width=width)\n",
      "    for i, c in zip(range(n_gen), colors):\n",
      "        t_new = t\n",
      "        if noise:\n",
      "            t_new = t.noise(spread=1, in_place=False)\n",
      "        q = t_new.plot2d(color=c, width=width)\n",
      "        plt.quiverkey(q,i/float(n_gen) + .2, .98, 1, \"Generation %d\" % (int(i)+1), coordinates='axes')\n",
      "        if generations_arr is not None:\n",
      "            generations_arr.append(t_new)\n",
      "    plt.legend()\n",
      "\n",
      "def plot_discretized(trajectory, symbol_generator, figure=1, color=\"blue\", width=0.003, *args, **kwargs):\n",
      "    discrete_path = [symbol_generator.codebook[i] for i in symbol_generator.generate(t.data)]\n",
      "    print discrete_path\n",
      "    x, y = zip(*discrete_path)\n",
      "    x, y = np.array(x), np.array(y)\n",
      "    plt.figure(figure)\n",
      "    q = plt.quiver(x[:-1], y[:-1], x[1:]-x[:-1], y[1:]-y[:-1], scale_units='xy', angles='xy', scale=1, color=color, width=width, *args, **kwargs)\n",
      "    return q"
     ],
     "language": "python",
     "metadata": {},
     "outputs": [],
     "prompt_number": 4
    },
    {
     "cell_type": "code",
     "collapsed": false,
     "input": [
      "width = 0.004\n",
      "generations = []\n",
      "plt.figure(0)\n",
      "show_trajectory(t, n_gen=4, generations_arr=generations)\n",
      "all_data = []\n",
      "all_data.extend(t.data)\n",
      "for g in generations:\n",
      "    all_data.extend(g.data)\n",
      "    \n",
      "symbols = SymbolGenerator(all_data, 36)\n",
      "# print all_data\n",
      "print generations\n",
      "x, y = [], []\n",
      "for xi, yi, in symbols.codebook:\n",
      "    x.append(xi)\n",
      "    y.append(yi)\n",
      "# x, y = list(x), list(y)\n",
      "# plt.figure(1)\n",
      "x, y = np.array(x), np.array(y)\n",
      "plt.scatter(x,y, marker='x', color=\"blue\", s=25)\n",
      "q = plot_discretized(t, symbols, figure=1, color=\"black\", alpha=.25, width=width)\n",
      "plt.quiverkey(q, 0.01, .98, 1, \"Orig\")\n",
      "for color, g in zip(colors, generations):\n",
      "    i = colors.index(color)\n",
      "    q = plot_discretized(g, symbols, figure=1, color=color, alpha=0.25, width=width)\n",
      "    plt.quiverkey(q,i/float(len(generations)) + .2, .98, 1, \"Generation %d\" % (i+1), coordinates='axes')\n",
      "    print \"Plotted generation %d\" % (i + 1)\n",
      "\n",
      "plt.figure(2)\n",
      "show_trajectory(t, n_gen=0, width=width, noise=False)\n"
     ],
     "language": "python",
     "metadata": {},
     "outputs": [
      {
       "output_type": "stream",
       "stream": "stdout",
       "text": [
        "[<abacus.experiments.artificial.trajectory.Trajectory object at 0x11311fa10>, <abacus.experiments.artificial.trajectory.Trajectory object at 0x113123410>, <abacus.experiments.artificial.trajectory.Trajectory object at 0x113123e90>, <abacus.experiments.artificial.trajectory.Trajectory object at 0x113125950>]\n",
        "[array([48, 83], dtype=uint8), array([45, 86], dtype=uint8), array([44, 88], dtype=uint8), array([40, 87], dtype=uint8), array([39, 92], dtype=uint8), array([41, 96], dtype=uint8), array([39, 92], dtype=uint8), array([36, 97], dtype=uint8), array([40, 97], dtype=uint8), array([44, 95], dtype=uint8), array([46, 90], dtype=uint8), array([49, 90], dtype=uint8), array([48, 87], dtype=uint8), array([48, 91], dtype=uint8), array([48, 87], dtype=uint8), array([48, 83], dtype=uint8), array([50, 80], dtype=uint8), array([50, 76], dtype=uint8), array([46, 76], dtype=uint8), array([43, 71], dtype=uint8), array([47, 71], dtype=uint8), array([46, 76], dtype=uint8), array([48, 79], dtype=uint8), array([48, 83], dtype=uint8), array([48, 87], dtype=uint8), array([49, 90], dtype=uint8), array([46, 90], dtype=uint8), array([42, 90], dtype=uint8), array([40, 87], dtype=uint8), array([41, 82], dtype=uint8), array([42, 85], dtype=uint8), array([42, 90], dtype=uint8), array([42, 85], dtype=uint8), array([44, 88], dtype=uint8), array([45, 86], dtype=uint8), array([46, 90], dtype=uint8)]\n",
        "[array([48, 83], dtype=uint8), array([45, 86], dtype=uint8), array([44, 88], dtype=uint8), array([40, 87], dtype=uint8), array([39, 92], dtype=uint8), array([41, 96], dtype=uint8), array([39, 92], dtype=uint8), array([36, 97], dtype=uint8), array([40, 97], dtype=uint8), array([44, 95], dtype=uint8), array([46, 90], dtype=uint8), array([49, 90], dtype=uint8), array([48, 87], dtype=uint8), array([48, 91], dtype=uint8), array([48, 87], dtype=uint8), array([48, 83], dtype=uint8), array([50, 80], dtype=uint8), array([50, 76], dtype=uint8), array([46, 76], dtype=uint8), array([43, 71], dtype=uint8), array([47, 71], dtype=uint8), array([46, 76], dtype=uint8), array([48, 79], dtype=uint8), array([48, 83], dtype=uint8), array([48, 87], dtype=uint8), array([49, 90], dtype=uint8), array([46, 90], dtype=uint8), array([42, 90], dtype=uint8), array([40, 87], dtype=uint8), array([41, 82], dtype=uint8), array([42, 85], dtype=uint8), array([42, 90], dtype=uint8), array([42, 85], dtype=uint8), array([44, 88], dtype=uint8), array([45, 86], dtype=uint8), array([46, 90], dtype=uint8)]"
       ]
      },
      {
       "output_type": "stream",
       "stream": "stdout",
       "text": [
        "\n",
        "Plotted generation 1\n",
        "[array([48, 83], dtype=uint8), array([45, 86], dtype=uint8), array([44, 88], dtype=uint8), array([40, 87], dtype=uint8), array([39, 92], dtype=uint8), array([41, 96], dtype=uint8), array([39, 92], dtype=uint8), array([36, 97], dtype=uint8), array([40, 97], dtype=uint8), array([44, 95], dtype=uint8), array([46, 90], dtype=uint8), array([49, 90], dtype=uint8), array([48, 87], dtype=uint8), array([48, 91], dtype=uint8), array([48, 87], dtype=uint8), array([48, 83], dtype=uint8), array([50, 80], dtype=uint8), array([50, 76], dtype=uint8), array([46, 76], dtype=uint8), array([43, 71], dtype=uint8), array([47, 71], dtype=uint8), array([46, 76], dtype=uint8), array([48, 79], dtype=uint8), array([48, 83], dtype=uint8), array([48, 87], dtype=uint8), array([49, 90], dtype=uint8), array([46, 90], dtype=uint8), array([42, 90], dtype=uint8), array([40, 87], dtype=uint8), array([41, 82], dtype=uint8), array([42, 85], dtype=uint8), array([42, 90], dtype=uint8), array([42, 85], dtype=uint8), array([44, 88], dtype=uint8), array([45, 86], dtype=uint8), array([46, 90], dtype=uint8)]\n",
        "Plotted generation 2\n",
        "[array([48, 83], dtype=uint8), array([45, 86], dtype=uint8), array([44, 88], dtype=uint8), array([40, 87], dtype=uint8), array([39, 92], dtype=uint8), array([41, 96], dtype=uint8), array([39, 92], dtype=uint8), array([36, 97], dtype=uint8), array([40, 97], dtype=uint8), array([44, 95], dtype=uint8), array([46, 90], dtype=uint8), array([49, 90], dtype=uint8), array([48, 87], dtype=uint8), array([48, 91], dtype=uint8), array([48, 87], dtype=uint8), array([48, 83], dtype=uint8), array([50, 80], dtype=uint8), array([50, 76], dtype=uint8), array([46, 76], dtype=uint8), array([43, 71], dtype=uint8), array([47, 71], dtype=uint8), array([46, 76], dtype=uint8), array([48, 79], dtype=uint8), array([48, 83], dtype=uint8), array([48, 87], dtype=uint8), array([49, 90], dtype=uint8), array([46, 90], dtype=uint8), array([42, 90], dtype=uint8), array([40, 87], dtype=uint8), array([41, 82], dtype=uint8), array([42, 85], dtype=uint8), array([42, 90], dtype=uint8), array([42, 85], dtype=uint8), array([44, 88], dtype=uint8), array([45, 86], dtype=uint8), array([46, 90], dtype=uint8)]\n",
        "Plotted generation 3\n",
        "[array([48, 83], dtype=uint8), array([45, 86], dtype=uint8), array([44, 88], dtype=uint8), array([40, 87], dtype=uint8), array([39, 92], dtype=uint8), array([41, 96], dtype=uint8), array([39, 92], dtype=uint8), array([36, 97], dtype=uint8), array([40, 97], dtype=uint8), array([44, 95], dtype=uint8), array([46, 90], dtype=uint8), array([49, 90], dtype=uint8), array([48, 87], dtype=uint8), array([48, 91], dtype=uint8), array([48, 87], dtype=uint8), array([48, 83], dtype=uint8), array([50, 80], dtype=uint8), array([50, 76], dtype=uint8), array([46, 76], dtype=uint8), array([43, 71], dtype=uint8), array([47, 71], dtype=uint8), array([46, 76], dtype=uint8), array([48, 79], dtype=uint8), array([48, 83], dtype=uint8), array([48, 87], dtype=uint8), array([49, 90], dtype=uint8), array([46, 90], dtype=uint8), array([42, 90], dtype=uint8), array([40, 87], dtype=uint8), array([41, 82], dtype=uint8), array([42, 85], dtype=uint8), array([42, 90], dtype=uint8), array([42, 85], dtype=uint8), array([44, 88], dtype=uint8), array([45, 86], dtype=uint8), array([46, 90], dtype=uint8)]"
       ]
      },
      {
       "output_type": "stream",
       "stream": "stdout",
       "text": [
        "\n",
        "Plotted generation 4\n"
       ]
      },
      {
       "output_type": "stream",
       "stream": "stderr",
       "text": [
        "/usr/local/lib/python2.7/site-packages/matplotlib/axes.py:4747: UserWarning: No labeled objects found. Use label='...' kwarg on individual plots.\n",
        "  warnings.warn(\"No labeled objects found. \"\n"
       ]
      }
     ],
     "prompt_number": 5
    },
    {
     "cell_type": "code",
     "collapsed": false,
     "input": [
      "plt.figure(2)\n",
      "t.plot2d()plt.figure(2)\n",
      "t.plot2d()"
     ],
     "language": "python",
     "metadata": {},
     "outputs": [
      {
       "ename": "SyntaxError",
       "evalue": "invalid syntax (<ipython-input-17-20410c934e30>, line 2)",
       "output_type": "pyerr",
       "traceback": [
        "\u001b[0;36m  File \u001b[0;32m\"<ipython-input-17-20410c934e30>\"\u001b[0;36m, line \u001b[0;32m2\u001b[0m\n\u001b[0;31m    t.plot2d()plt.figure(2)\u001b[0m\n\u001b[0m                ^\u001b[0m\n\u001b[0;31mSyntaxError\u001b[0m\u001b[0;31m:\u001b[0m invalid syntax\n"
       ]
      }
     ],
     "prompt_number": 17
    }
   ],
   "metadata": {}
  }
 ]
}