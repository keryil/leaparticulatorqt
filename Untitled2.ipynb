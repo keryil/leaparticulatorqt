{
 "metadata": {
  "name": "",
  "signature": "sha256:c69586489a256cd2cbaf9f5a167b4a2b1cb09bc9833dd6cb5bb559acaf019449"
 },
 "nbformat": 3,
 "nbformat_minor": 0,
 "worksheets": [
  {
   "cells": [
    {
     "cell_type": "code",
     "collapsed": false,
     "input": [
      "f = map(lambda x: int(x.rstrip()), open(\"/home/kerem/tmp/5\").readlines())"
     ],
     "language": "python",
     "metadata": {},
     "outputs": [],
     "prompt_number": 6
    },
    {
     "cell_type": "code",
     "collapsed": false,
     "input": [
      "from matplotlib import pyplot as plt"
     ],
     "language": "python",
     "metadata": {},
     "outputs": [],
     "prompt_number": 7
    },
    {
     "cell_type": "code",
     "collapsed": false,
     "input": [
      "f"
     ],
     "language": "python",
     "metadata": {},
     "outputs": [
      {
       "metadata": {},
       "output_type": "pyout",
       "prompt_number": 8,
       "text": [
        "[5,\n",
        " 17,\n",
        " 11,\n",
        " 13,\n",
        " 16,\n",
        " 7,\n",
        " 18,\n",
        " 18,\n",
        " 9,\n",
        " 10,\n",
        " 9,\n",
        " 18,\n",
        " 14,\n",
        " 14,\n",
        " 18,\n",
        " 13,\n",
        " 13,\n",
        " 12,\n",
        " 14,\n",
        " 13,\n",
        " 16,\n",
        " 13,\n",
        " 12]"
       ]
      }
     ],
     "prompt_number": 8
    },
    {
     "cell_type": "code",
     "collapsed": false,
     "input": [
      "%matplotlib qt\n",
      "plt.hist(f, 8)"
     ],
     "language": "python",
     "metadata": {},
     "outputs": [
      {
       "metadata": {},
       "output_type": "pyout",
       "prompt_number": 13,
       "text": [
        "(array([ 1.,  1.,  2.,  2.,  7.,  3.,  2.,  5.]),\n",
        " array([  5.   ,   6.625,   8.25 ,   9.875,  11.5  ,  13.125,  14.75 ,\n",
        "         16.375,  18.   ]),\n",
        " <a list of 8 Patch objects>)"
       ]
      }
     ],
     "prompt_number": 13
    }
   ],
   "metadata": {}
  }
 ]
}