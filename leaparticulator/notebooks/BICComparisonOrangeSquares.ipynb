{
 "cells": [
  {
   "cell_type": "code",
   "execution_count": 1,
   "metadata": {
    "collapsed": false
   },
   "outputs": [],
   "source": [
    "%load_ext autoreload\n",
    "%autoreload 2\n",
    "import numpy as np\n",
    "from IPython.parallel import Client\n",
    "client = Client()\n",
    "lview = client.load_balanced_view()"
   ]
  },
  {
   "cell_type": "code",
   "execution_count": 2,
   "metadata": {
    "collapsed": false
   },
   "outputs": [
    {
     "name": "stdout",
     "output_type": "stream",
     "text": [
      "/home/kerem/ThereminData/logs\n",
      "/home/kerem/Dropbox/ABACUS/Workspace/LeapArticulatorQt\n"
     ]
    }
   ],
   "source": [
    "import sys, os\n",
    "ROOT = \"~/ThereminData/logs/orange_squares\"\n",
    "root = os.path.expanduser(ROOT)\n",
    "p = os.path.expanduser(\"~/ThereminData/logs\")\n",
    "print p\n",
    "sys.path.append(p)\n",
    "p = os.path.expanduser(\"~/Dropbox/ABACUS/Workspace/LeapArticulatorQt\")\n",
    "print p\n",
    "sys.path.append(p)"
   ]
  },
  {
   "cell_type": "code",
   "execution_count": 3,
   "metadata": {
    "collapsed": false
   },
   "outputs": [
    {
     "name": "stdout",
     "output_type": "stream",
     "text": [
      "/shared/Dropbox/ABACUS/Workspace/LeapArticulatorQt/leaparticulator/notebooks\r\n"
     ]
    }
   ],
   "source": [
    "# gather HMM files\n",
    "files = !ls $ROOT/*phase*.*\n",
    "!pwd"
   ]
  },
  {
   "cell_type": "code",
   "execution_count": 4,
   "metadata": {
    "collapsed": false
   },
   "outputs": [
    {
     "name": "stdout",
     "output_type": "stream",
     "text": [
      "207 files\n",
      "/home/kerem/ThereminData/logs/orange_squares/OS10.1.exp.log.phase0.xy.hmms /home/kerem/ThereminData/logs/orange_squares/OS10.1.exp.log.phase0.amp_and_mel.hmms /home/kerem/ThereminData/logs/orange_squares/OS10.1.exp.log.phase0.amp_and_freq.hmms /home/kerem/ThereminData/logs/orange_squares/OS10.1.exp.log.phase0.amp_and_freq.hmms\n",
      "69 69 69\n",
      "defaultdict(<type 'int'>, {'OS15': 9, 'OS17': 9, 'OS16': 9, 'OS11': 9, 'OS10': 9, 'OS13': 9, 'OS19': 9, 'OS18': 9, 'OS9': 9, 'OS8': 9, 'OS1': 9, 'OS3': 9, 'OS2': 9, 'OS5': 9, 'OS4': 9, 'OS7': 9, 'OS6': 9, 'OS24': 9, 'OS25': 9, 'OS20': 9, 'OS21': 9, 'OS22': 9, 'OS23': 9})\n",
      "[]\n",
      "['/home/kerem/ThereminData/logs/orange_squares/OS10.1.exp.log.phase0.xy.hmms', '/home/kerem/ThereminData/logs/orange_squares/OS10.1.exp.log.phase1.xy.hmms', '/home/kerem/ThereminData/logs/orange_squares/OS10.1.exp.log.phase2.xy.hmms', '/home/kerem/ThereminData/logs/orange_squares/OS11.1.exp.log.phase0.xy.hmms', '/home/kerem/ThereminData/logs/orange_squares/OS11.1.exp.log.phase1.xy.hmms', '/home/kerem/ThereminData/logs/orange_squares/OS11.1.exp.log.phase2.xy.hmms', '/home/kerem/ThereminData/logs/orange_squares/OS1.1.exp.log.phase0.xy.hmms', '/home/kerem/ThereminData/logs/orange_squares/OS1.1.exp.log.phase1.xy.hmms', '/home/kerem/ThereminData/logs/orange_squares/OS1.1.exp.log.phase2.xy.hmms', '/home/kerem/ThereminData/logs/orange_squares/OS13.1.exp.log.phase0.xy.hmms', '/home/kerem/ThereminData/logs/orange_squares/OS13.1.exp.log.phase1.xy.hmms', '/home/kerem/ThereminData/logs/orange_squares/OS13.1.exp.log.phase2.xy.hmms', '/home/kerem/ThereminData/logs/orange_squares/OS15.1.exp.log.phase0.xy.hmms', '/home/kerem/ThereminData/logs/orange_squares/OS15.1.exp.log.phase1.xy.hmms', '/home/kerem/ThereminData/logs/orange_squares/OS15.1.exp.log.phase2.xy.hmms', '/home/kerem/ThereminData/logs/orange_squares/OS16.1.exp.log.phase0.xy.hmms', '/home/kerem/ThereminData/logs/orange_squares/OS16.1.exp.log.phase1.xy.hmms', '/home/kerem/ThereminData/logs/orange_squares/OS16.1.exp.log.phase2.xy.hmms', '/home/kerem/ThereminData/logs/orange_squares/OS17.1.exp.log.phase0.xy.hmms', '/home/kerem/ThereminData/logs/orange_squares/OS17.1.exp.log.phase1.xy.hmms', '/home/kerem/ThereminData/logs/orange_squares/OS17.1.exp.log.phase2.xy.hmms', '/home/kerem/ThereminData/logs/orange_squares/OS18.1.exp.log.phase0.xy.hmms', '/home/kerem/ThereminData/logs/orange_squares/OS18.1.exp.log.phase1.xy.hmms', '/home/kerem/ThereminData/logs/orange_squares/OS18.1.exp.log.phase2.xy.hmms', '/home/kerem/ThereminData/logs/orange_squares/OS19.1.exp.log.phase0.xy.hmms', '/home/kerem/ThereminData/logs/orange_squares/OS19.1.exp.log.phase1.xy.hmms', '/home/kerem/ThereminData/logs/orange_squares/OS19.1.exp.log.phase2.xy.hmms', '/home/kerem/ThereminData/logs/orange_squares/OS20.1.exp.log.phase0.xy.hmms', '/home/kerem/ThereminData/logs/orange_squares/OS20.1.exp.log.phase1.xy.hmms', '/home/kerem/ThereminData/logs/orange_squares/OS20.1.exp.log.phase2.xy.hmms', '/home/kerem/ThereminData/logs/orange_squares/OS21.1.exp.log.phase0.xy.hmms', '/home/kerem/ThereminData/logs/orange_squares/OS21.1.exp.log.phase1.xy.hmms', '/home/kerem/ThereminData/logs/orange_squares/OS21.1.exp.log.phase2.xy.hmms', '/home/kerem/ThereminData/logs/orange_squares/OS2.1.exp.log.phase0.xy.hmms', '/home/kerem/ThereminData/logs/orange_squares/OS2.1.exp.log.phase1.xy.hmms', '/home/kerem/ThereminData/logs/orange_squares/OS2.1.exp.log.phase2.xy.hmms', '/home/kerem/ThereminData/logs/orange_squares/OS22.1.exp.log.phase0.xy.hmms', '/home/kerem/ThereminData/logs/orange_squares/OS22.1.exp.log.phase1.xy.hmms', '/home/kerem/ThereminData/logs/orange_squares/OS22.1.exp.log.phase2.xy.hmms', '/home/kerem/ThereminData/logs/orange_squares/OS23.1.exp.log.phase0.xy.hmms', '/home/kerem/ThereminData/logs/orange_squares/OS23.1.exp.log.phase1.xy.hmms', '/home/kerem/ThereminData/logs/orange_squares/OS23.1.exp.log.phase2.xy.hmms', '/home/kerem/ThereminData/logs/orange_squares/OS24.1.exp.log.phase0.xy.hmms', '/home/kerem/ThereminData/logs/orange_squares/OS24.1.exp.log.phase1.xy.hmms', '/home/kerem/ThereminData/logs/orange_squares/OS24.1.exp.log.phase2.xy.hmms', '/home/kerem/ThereminData/logs/orange_squares/OS25.1.exp.log.phase0.xy.hmms', '/home/kerem/ThereminData/logs/orange_squares/OS25.1.exp.log.phase1.xy.hmms', '/home/kerem/ThereminData/logs/orange_squares/OS25.1.exp.log.phase2.xy.hmms', '/home/kerem/ThereminData/logs/orange_squares/OS3.1.exp.log.phase0.xy.hmms', '/home/kerem/ThereminData/logs/orange_squares/OS3.1.exp.log.phase1.xy.hmms', '/home/kerem/ThereminData/logs/orange_squares/OS3.1.exp.log.phase2.xy.hmms', '/home/kerem/ThereminData/logs/orange_squares/OS4.1.exp.log.phase0.xy.hmms', '/home/kerem/ThereminData/logs/orange_squares/OS4.1.exp.log.phase1.xy.hmms', '/home/kerem/ThereminData/logs/orange_squares/OS4.1.exp.log.phase2.xy.hmms', '/home/kerem/ThereminData/logs/orange_squares/OS5.1.exp.log.phase0.xy.hmms', '/home/kerem/ThereminData/logs/orange_squares/OS5.1.exp.log.phase1.xy.hmms', '/home/kerem/ThereminData/logs/orange_squares/OS5.1.exp.log.phase2.xy.hmms', '/home/kerem/ThereminData/logs/orange_squares/OS6.1.exp.log.phase0.xy.hmms', '/home/kerem/ThereminData/logs/orange_squares/OS6.1.exp.log.phase1.xy.hmms', '/home/kerem/ThereminData/logs/orange_squares/OS6.1.exp.log.phase2.xy.hmms', '/home/kerem/ThereminData/logs/orange_squares/OS7.1.exp.log.phase0.xy.hmms', '/home/kerem/ThereminData/logs/orange_squares/OS7.1.exp.log.phase1.xy.hmms', '/home/kerem/ThereminData/logs/orange_squares/OS7.1.exp.log.phase2.xy.hmms', '/home/kerem/ThereminData/logs/orange_squares/OS8.1.exp.log.phase0.xy.hmms', '/home/kerem/ThereminData/logs/orange_squares/OS8.1.exp.log.phase1.xy.hmms', '/home/kerem/ThereminData/logs/orange_squares/OS8.1.exp.log.phase2.xy.hmms', '/home/kerem/ThereminData/logs/orange_squares/OS9.1.exp.log.phase0.xy.hmms', '/home/kerem/ThereminData/logs/orange_squares/OS9.1.exp.log.phase1.xy.hmms', '/home/kerem/ThereminData/logs/orange_squares/OS9.1.exp.log.phase2.xy.hmms']\n"
     ]
    }
   ],
   "source": [
    "# configure arrays for HMM files of different units\n",
    "\n",
    "blacklist = []\n",
    "# files = [\".\".join((f.split('.')[:-1])) for f in files]\n",
    "files = filter(lambda x: x.endswith(\".hmms\"), files)\n",
    "files = filter(lambda x: not any([el in x for el in blacklist]), files)\n",
    "file_to_id = lambda f: \".\".join(f.split('/')[-1].split('.')[:2])\n",
    "files_xy = filter(lambda x: '.xy.' in x, files)\n",
    "files_amp_and_mel = filter(lambda x: '.amp_and_mel.' in x, files)\n",
    "files_amp_and_freq = filter(lambda x: '.amp_and_freq.' in x, files)\n",
    "# files_iconicity\n",
    "# for f in files:\n",
    "#     print f\n",
    "# print files\n",
    "ids = [file_to_id(f) for f in files]\n",
    "# print ids\n",
    "print len(files), \"files\"\n",
    "print files_xy[0], files_amp_and_mel[0], files_amp_and_freq[0], files[0]\n",
    "print len(files_xy), len(files_amp_and_mel), len(files_amp_and_freq)\n",
    "\n",
    "from collections import defaultdict\n",
    "d = defaultdict(int)\n",
    "dd = defaultdict(list)\n",
    "from os.path import basename\n",
    "for f in files:\n",
    "    id = basename(f).split('.')[0]\n",
    "    d[id] += 1\n",
    "    dd[id].append(basename(f))\n",
    "print d\n",
    "print dd['D12300311014']\n",
    "del d, dd\n",
    "# print dd\n",
    "assert len(files_xy) == len(files_amp_and_mel) == len(files_amp_and_freq)\n",
    "# files_xy = files_xy[:2]\n",
    "# files_amp_and_freq = files_amp_and_freq[:2]\n",
    "# files_amp_and_mel = files_amp_and_mel[:2]\n",
    "print files_xy"
   ]
  },
  {
   "cell_type": "code",
   "execution_count": 8,
   "metadata": {
    "collapsed": false
   },
   "outputs": [],
   "source": [
    "def pick_lowest_bic(hmms):\n",
    "    hmm, bic = None, 99999999999999\n",
    "    for h in hmms:\n",
    "        if h is None:\n",
    "            continue\n",
    "#         print h\n",
    "        if h.bic < bic:\n",
    "            hmm = h\n",
    "            bic = h.bic\n",
    "    if hmm == None:\n",
    "        print f, hmms\n",
    "    return (hmm, bic)\n",
    "\n",
    "def hmm_to_pykov_chain(hmm):\n",
    "    from pykov import Chain\n",
    "    chain = Chain()\n",
    "    alphabet = [str(i) for i in range(hmm.nstates)]\n",
    "    for r, row in enumerate(hmm.transmat):\n",
    "        for c, cell in enumerate(row):\n",
    "            chain[str(r), str(c)] = cell\n",
    "    return chain"
   ]
  },
  {
   "cell_type": "code",
   "execution_count": 9,
   "metadata": {
    "collapsed": false
   },
   "outputs": [],
   "source": [
    "import pandas as pd\n",
    "from matplotlib.pyplot import *\n",
    "from rpy2.rinterface import RRuntimeError\n",
    "from leaparticulator import constants\n",
    "from StreamlinedDataAnalysisGhmm import unpickle_results\n",
    "pd.set_option('mode.chained_assignment','warn')\n",
    "pd.set_option(\"display.max_rows\", 300)\n",
    "\n",
    "da_dict = {}\n",
    "states_xy = []\n",
    "bics_xy = []\n",
    "hmms_xy = []\n",
    "states_freq = []\n",
    "bics_freq = []\n",
    "hmms_freq = []\n",
    "states_mel = []\n",
    "bics_mel = []\n",
    "hmms_mel = []\n",
    "phases = []\n",
    "entropies_xy = []\n",
    "entropies_freq = []\n",
    "entropies_mel = []\n",
    "llhs_xy = []\n",
    "llhs_freq = []\n",
    "llhs_mel = []\n",
    "total_score = []\n",
    "cols = []\n",
    "\n",
    "# add a 5 \n",
    "for u in ('xy', 'amp_and_freq', 'amp_and_mel'):\n",
    "    for c in (\"nstates_%s\", \"bic_%s\", \"nstates_%s_n\", \"bic_%s_n\"):\n",
    "        cols.append(c % u)\n",
    "\n",
    "# print cols\n",
    "all_data = pd.DataFrame(index=range(len(files_xy)),columns = tuple(cols))\n",
    "score_cols = [\"Test1\", \"Test2\", \"Test3\"]\n",
    "series = lambda x: pd.Series(x, index=all_data.index)\n",
    "normalize = lambda x: (x - np.average(x)) / np.std(x)\n",
    "norm_series = lambda x: series(normalize(x))\n",
    "fname_to_phase = lambda fname: int(fname.split(\"phase\")[-1].split(\".\")[0])\n",
    "\n",
    "all_data[\"id\"] = series([file_to_id(f).split(\".\")[0] for f in files_xy])\n",
    "all_data[\"phase\"] = series([fname_to_phase(f) for f in files_xy])\n",
    "all_data[\"phase_order\"] = series([fname_to_phase(f) for f in files_xy])"
   ]
  },
  {
   "cell_type": "code",
   "execution_count": 10,
   "metadata": {
    "collapsed": false,
    "scrolled": false
   },
   "outputs": [
    {
     "name": "stdout",
     "output_type": "stream",
     "text": [
      "Unpickle XvY HMMS...\n",
      "Unpickle AMPvFREQ HMMS...\n",
      "Unpickle AMPvMEL HMMS...\n"
     ]
    }
   ],
   "source": [
    "print \"Unpickle XvY HMMS...\"\n",
    "# res_array = parallel_unpickle(files_xy)\n",
    "hmms_xy = [pick_lowest_bic(unpickle_results(f, fname_to_phase(f), \n",
    "                                              units=constants.XY).hmms)[0] \\\n",
    "            for f in files_xy]\n",
    "# print hmms_xy\n",
    "print \"Unpickle AMPvFREQ HMMS...\"\n",
    "hmms_freq = [pick_lowest_bic(unpickle_results(f, fname_to_phase(f), \n",
    "                                              units=constants.AMP_AND_FREQ).hmms)[0] \\\n",
    "            for f in files_amp_and_freq]\n",
    "\n",
    "print \"Unpickle AMPvMEL HMMS...\"\n",
    "hmms_mel = [pick_lowest_bic(unpickle_results(f, fname_to_phase(f), \n",
    "                                             units=constants.AMP_AND_MEL).hmms)[0] \\\n",
    "            for f in files_amp_and_mel]"
   ]
  },
  {
   "cell_type": "code",
   "execution_count": 11,
   "metadata": {
    "collapsed": false
   },
   "outputs": [
    {
     "name": "stdout",
     "output_type": "stream",
     "text": [
      "Lengths of HMM arrays: 69, 69, 69\n"
     ]
    }
   ],
   "source": [
    "print \"Lengths of HMM arrays: %d, %d, %d\" % (len(hmms_xy), \n",
    "                                             len(hmms_freq), \n",
    "                                             len(hmms_mel))"
   ]
  },
  {
   "cell_type": "code",
   "execution_count": 12,
   "metadata": {
    "collapsed": false
   },
   "outputs": [
    {
     "name": "stdout",
     "output_type": "stream",
     "text": [
      "Processed 69x3 HMMs, added 207 entries\n",
      "69 69\n",
      "Output CSV to /home/kerem/ThereminData/logs/orange_squares/all_scores_bics_nstates_by_phase.csv\n"
     ]
    }
   ],
   "source": [
    "def process_hmm(hmm, states, bics, llhs, i=None):\n",
    "    states.append(hmm.nstates)\n",
    "    bics.append(hmm.bic)\n",
    "    llhs.append(np.product(hmm.loglikelihood))\n",
    "\n",
    "# print hmms\n",
    "# add HMM details to the table\n",
    "counter = 0\n",
    "for i, (hmm_xy, hmm_freq, hmm_mel) in enumerate(zip(hmms_xy, hmms_freq, hmms_mel)):\n",
    "    process_hmm(hmm_xy, states_xy, bics_xy, llhs_xy, i)\n",
    "    process_hmm(hmm_freq, states_freq, bics_freq, llhs_freq, i)\n",
    "    process_hmm(hmm_mel, states_mel, bics_mel, llhs_mel, i)\n",
    "    counter += 1\n",
    "print \"Processed %dx%d HMMs, added %d entries\" % (counter, 3, counter*3)\n",
    "    \n",
    "print len(bics_xy), len(all_data)\n",
    "assert len(bics_xy) == len(all_data)\n",
    "all_data[\"bic_xy\"] = series(bics_xy)\n",
    "all_data[\"bic_amp_and_freq\"] = series(bics_freq)\n",
    "all_data[\"bic_amp_and_mel\"] = series(bics_mel)\n",
    "all_data[\"nstates_xy\"] = series(states_xy)\n",
    "all_data[\"nstates_amp_and_freq\"] = series(states_freq)\n",
    "all_data[\"nstates_amp_and_mel\"] = series(states_mel)\n",
    "all_data[\"llh_xy\"] = series(llhs_xy)\n",
    "all_data[\"llh_amp_and_freq\"] = series(llhs_freq)\n",
    "all_data[\"llh_amp_and_mel\"] = series(llhs_mel)\n",
    "\n",
    "scores = []\n",
    "for id, phase in zip(all_data[\"id\"], all_data[\"phase\"]):\n",
    "#     print \"ID\", id\n",
    "    \n",
    "    # this piece of trickery makes sure we don't screw up\n",
    "    # due to differences in case\n",
    "    row = d[d[\"ID\"] == id].index.tolist()\n",
    "    if len(row) < 1:\n",
    "        row = d[d[\"ID\"] == id.upper()].index.tolist()\n",
    "    if len(row) < 1:\n",
    "        row = d[d[\"ID\"] == id.lower()].index.tolist()\n",
    "    if len(row) < 1:\n",
    "        print id, phase\n",
    "        print \"FUUUUCK\"\n",
    "    \n",
    "    row = row[0]\n",
    "    scores.append(d.at[row, score_cols[phase]])\n",
    "    total_score.append(d.at[row, \"TestAll\"])\n",
    "    \n",
    "all_data[\"score\"] = series(scores)\n",
    "all_data[\"total_score\"] = series(total_score)\n",
    "\n",
    "all_data[\"bic_xy_n\"] = norm_series(bics_xy)\n",
    "all_data[\"bic_amp_and_freq_n\"] = norm_series(bics_freq)\n",
    "all_data[\"bic_amp_and_mel_n\"] = norm_series(bics_mel)\n",
    "all_data[\"nstates_xy_n\"] = norm_series(states_xy)\n",
    "all_data[\"nstates_amp_and_freq_n\"] = norm_series(states_freq)\n",
    "all_data[\"nstates_amp_and_mel_n\"] = norm_series(states_mel)\n",
    "all_data[\"llh_xy_n\"] = norm_series(llhs_xy)\n",
    "all_data[\"llh_amp_and_freq_n\"] = norm_series(llhs_freq)\n",
    "all_data[\"llh_amp_and_mel_n\"] = norm_series(llhs_mel)\n",
    "all_data[\"score_n\"] = norm_series(scores)\n",
    "\n",
    "from os.path import join\n",
    "all_data.to_csv(join(root, \"all_scores_bics_nstates_by_phase.csv\"))\n",
    "print \"Output CSV to\", join(root, \"all_scores_bics_nstates_by_phase.csv\")\n",
    "\n",
    "colors = \"Blue BlueViolet Chocolate Crimson Yellow Green DarkSlateBlue DeepPink GreenYellow DarkKhaki Olive LightGray Black\".split()\n"
   ]
  },
  {
   "cell_type": "code",
   "execution_count": 21,
   "metadata": {
    "collapsed": false,
    "scrolled": true
   },
   "outputs": [
    {
     "data": {
      "image/png": "[encoded data removed]",
      "text/plain": [
       "<matplotlib.figure.Figure at 0x57bf750>"
      ]
     },
     "metadata": {},
     "output_type": "display_data"
    },
    {
     "data": {
      "image/png": "[encoded data removed]",
      "text/plain": [
       "<matplotlib.figure.Figure at 0x5825710>"
      ]
     },
     "metadata": {},
     "output_type": "display_data"
    },
    {
     "data": {
      "image/png": "[encoded data removed]",
      "text/plain": [
       "<matplotlib.figure.Figure at 0x7b0d9d0>"
      ]
     },
     "metadata": {},
     "output_type": "display_data"
    },
    {
     "data": {
      "image/png": "[encoded data removed]",
      "text/plain": [
       "<matplotlib.figure.Figure at 0x7cb2690>"
      ]
     },
     "metadata": {},
     "output_type": "display_data"
    }
   ],
   "source": [
    "# print all_data[\"phase\"]\n",
    "import pandas as pd\n",
    "from matplotlib.pyplot import *\n",
    "%matplotlib inline\n",
    "all_data = pd.read_csv(root + \"/all_scores_bics_nstates_by_phase.csv\")\n",
    "from matplotlib.patches import Patch\n",
    "zero = all_data[all_data.phase == 0]\n",
    "one = all_data[all_data.phase == 1]\n",
    "two = all_data[all_data.phase == 2]\n",
    "get_values = lambda x: x[\"nstates_amp_and_mel\"].values\n",
    "figure(figsize=(12,7))\n",
    "mappings = ['1:1', \"1:2\", \"2:2\"]\n",
    "colors = [gca()._get_lines.color_cycle.next() for i in mappings] \n",
    "# print dir(colors)\n",
    "# print colors\n",
    "handles = [Patch(color=c, label=m) for c,m in zip(colors, mappings)]\n",
    "hist([get_values(zero),get_values(one),get_values(two)], stacked=True, \n",
    "     color=colors)#, histtype=\"stepfilled\")\n",
    "legend(handles=handles)\n",
    "for dataset in (get_values(zero), get_values(one), get_values(two)):\n",
    "    figure()\n",
    "    hist(dataset)"
   ]
  },
  {
   "cell_type": "code",
   "execution_count": 20,
   "metadata": {
    "collapsed": false
   },
   "outputs": [
    {
     "data": {
      "image/png": "[encoded data removed]",
      "text/plain": [
       "<matplotlib.figure.Figure at 0x707ee50>"
      ]
     },
     "metadata": {},
     "output_type": "display_data"
    },
    {
     "data": {
      "image/png": "[encoded data removed]",
      "text/plain": [
       "<matplotlib.figure.Figure at 0x7b0ce50>"
      ]
     },
     "metadata": {},
     "output_type": "display_data"
    },
    {
     "data": {
      "image/png": "[encoded data removed]",
      "text/plain": [
       "<matplotlib.figure.Figure at 0x7088a90>"
      ]
     },
     "metadata": {},
     "output_type": "display_data"
    }
   ],
   "source": [
    "# %matplotlib inline\n",
    "# print all_data['llh']\n",
    "# scatter(all_data[\"score\"], all_data[\"llh\"])\n",
    "import numpy as np\n",
    "import matplotlib.pyplot as plt\n",
    "def plot_trend(target_col, source_col):\n",
    "    for unit in (\"xy\", \"amp_and_freq\", \"amp_and_mel\"):\n",
    "        figure()\n",
    "        scatter(all_data[\"%s_%s\" % (source_col, unit)],all_data[target_col])\n",
    "        ylabel(target_col)\n",
    "        xlabel(\"%s_%s\" % (source_col, unit))\n",
    "        plt.gca().set_xscale(\"log\")\n",
    "#         plt.gca().set_yscale(\"log\")\n",
    "\n",
    "plot_trend(\"score\", \"nstates\")\n",
    "\n",
    "# figure()\n",
    "# plot(np.divide(range(1,100),100.), np.log(np.divide(range(1,100),100.)))\n",
    "# xlabel(\"X\")\n",
    "# ylabel(\"log(X)\")\n",
    "# print all_data[\"llh_xy\"]\n",
    "# print ids"
   ]
  },
  {
   "cell_type": "code",
   "execution_count": null,
   "metadata": {
    "collapsed": true
   },
   "outputs": [],
   "source": []
  }
 ],
 "metadata": {
  "kernelspec": {
   "display_name": "Python 2",
   "language": "python",
   "name": "python2"
  },
  "language_info": {
   "codemirror_mode": {
    "name": "ipython",
    "version": 2
   },
   "file_extension": ".py",
   "mimetype": "text/x-python",
   "name": "python",
   "nbconvert_exporter": "python",
   "pygments_lexer": "ipython2",
   "version": "2.7.6"
  }
 },
 "nbformat": 4,
 "nbformat_minor": 0
}
