{
 "cells": [
  {
   "cell_type": "code",
   "execution_count": 1,
   "metadata": {
    "collapsed": false
   },
   "outputs": [],
   "source": [
    "import numpy as np"
   ]
  },
  {
   "cell_type": "code",
   "execution_count": 8,
   "metadata": {
    "collapsed": false
   },
   "outputs": [
    {
     "name": "stdout",
     "output_type": "stream",
     "text": [
      "/home/kerem/ThereminData/logs\n"
     ]
    }
   ],
   "source": [
    "import sys, os\n",
    "ROOT = \"~/ThereminData/logs/orange_squares\"\n",
    "root = os.path.expanduser(ROOT)\n",
    "p = os.path.expanduser(\"~/ThereminData/logs\")\n",
    "print p\n",
    "sys.path.append(p)"
   ]
  },
  {
   "cell_type": "code",
   "execution_count": 9,
   "metadata": {
    "collapsed": false
   },
   "outputs": [],
   "source": [
    "files = !ls $ROOT/*phase*.*"
   ]
  },
  {
   "cell_type": "code",
   "execution_count": 10,
   "metadata": {
    "collapsed": false
   },
   "outputs": [
    {
     "name": "stdout",
     "output_type": "stream",
     "text": [
      "207 files\n",
      "/home/kerem/ThereminData/logs/orange_squares/OS10.1.exp.log.phase0.xy /home/kerem/ThereminData/logs/orange_squares/OS10.1.exp.log.phase0.amp_and_mel /home/kerem/ThereminData/logs/orange_squares/OS10.1.exp.log.phase0.amp_and_freq /home/kerem/ThereminData/logs/orange_squares/OS10.1.exp.log.phase0.amp_and_freq\n",
      "69 69 69\n",
      "defaultdict(<type 'int'>, {'OS15': 9, 'OS17': 9, 'OS16': 9, 'OS11': 9, 'OS10': 9, 'OS13': 9, 'OS19': 9, 'OS18': 9, 'OS9': 9, 'OS8': 9, 'OS1': 9, 'OS3': 9, 'OS2': 9, 'OS5': 9, 'OS4': 9, 'OS7': 9, 'OS6': 9, 'OS24': 9, 'OS25': 9, 'OS20': 9, 'OS21': 9, 'OS22': 9, 'OS23': 9})\n",
      "[]\n"
     ]
    }
   ],
   "source": [
    "blacklist = []\n",
    "files = [\".\".join((f.split('.')[:-1])) for f in files]\n",
    "files = filter(lambda x: x.split(\".\")[-1] in ('xy', 'amp_and_freq', 'amp_and_mel'), files)\n",
    "files = filter(lambda x: not any([el in x for el in blacklist]), files)\n",
    "file_to_id = lambda f: \".\".join(f.split('/')[-1].split('.')[:2])\n",
    "files_xy = filter(lambda x: x.split(\".\")[-1] in ('xy',), files)\n",
    "files_amp_and_mel = filter(lambda x: x.split(\".\")[-1] in ('amp_and_mel',), files)\n",
    "files_amp_and_freq = filter(lambda x: x.split(\".\")[-1] in ('amp_and_freq',), files)\n",
    "# files_iconicity\n",
    "# for f in files:\n",
    "#     print f\n",
    "# print files\n",
    "ids = [file_to_id(f) for f in files]\n",
    "# print ids\n",
    "print len(files), \"files\"\n",
    "print files_xy[0], files_amp_and_mel[0], files_amp_and_freq[0], files[0]\n",
    "print len(files_xy), len(files_amp_and_mel), len(files_amp_and_freq)\n",
    "\n",
    "from collections import defaultdict\n",
    "d = defaultdict(int)\n",
    "dd = defaultdict(list)\n",
    "from os.path import basename\n",
    "for f in files:\n",
    "    id = basename(f).split('.')[0]\n",
    "    d[id] += 1\n",
    "    dd[id].append(basename(f))\n",
    "print d\n",
    "print dd['D12300311014']\n",
    "del d, dd\n",
    "# print dd\n",
    "assert len(files_xy) == len(files_amp_and_mel) == len(files_amp_and_freq)\n",
    "# files_xy = files_xy[:2]\n",
    "# files_amp_and_freq = files_amp_and_freq[:2]\n",
    "# files_amp_and_mel = files_amp_and_mel[:2]"
   ]
  },
  {
   "cell_type": "code",
   "execution_count": 17,
   "metadata": {
    "collapsed": false
   },
   "outputs": [],
   "source": [
    "from StreamlinedDataAnalysisGhmm import unpickle_results\n",
    "import pandas as pd\n",
    "\n",
    "d = pd.read_csv(\"/shared/AudioData/ThereminData/logs/logs/discrete/discretesurfacedata2.csv\", na_values=[\"NaN\"])"
   ]
  },
  {
   "cell_type": "code",
   "execution_count": 5,
   "metadata": {
    "collapsed": false
   },
   "outputs": [],
   "source": [
    "def pick_lowest_bic(hmms):\n",
    "    hmm, bic = None, 99999999999999\n",
    "    for h in hmms:\n",
    "        if h is None:\n",
    "            continue\n",
    "        if h.bic < bic:\n",
    "            hmm = h\n",
    "            bic = h.bic\n",
    "    if hmm == None:\n",
    "        print f, hmms\n",
    "    return (hmm, bic)\n",
    "\n",
    "def hmm_to_pykov_chain(hmm):\n",
    "    from pykov import Chain\n",
    "    chain = Chain()\n",
    "    alphabet = [str(i) for i in range(hmm.nstates)]\n",
    "    for r, row in enumerate(hmm.transmat):\n",
    "        for c, cell in enumerate(row):\n",
    "            chain[str(r), str(c)] = cell\n",
    "    return chain"
   ]
  },
  {
   "cell_type": "code",
   "execution_count": 18,
   "metadata": {
    "collapsed": false
   },
   "outputs": [
    {
     "name": "stdout",
     "output_type": "stream",
     "text": [
      "DR123016161014 0\n",
      "FUUUUCK\n"
     ]
    },
    {
     "ename": "IndexError",
     "evalue": "list index out of range",
     "output_type": "error",
     "traceback": [
      "\u001b[1;31m---------------------------------------------------------------------------\u001b[0m",
      "\u001b[1;31mIndexError\u001b[0m                                Traceback (most recent call last)",
      "\u001b[1;32m<ipython-input-18-5b069fbd95b9>\u001b[0m in \u001b[0;36m<module>\u001b[1;34m()\u001b[0m\n\u001b[0;32m     96\u001b[0m         \u001b[1;32mprint\u001b[0m \u001b[1;34m\"FUUUUCK\"\u001b[0m\u001b[1;33m\u001b[0m\u001b[0m\n\u001b[0;32m     97\u001b[0m \u001b[1;33m\u001b[0m\u001b[0m\n\u001b[1;32m---> 98\u001b[1;33m     \u001b[0mrow\u001b[0m \u001b[1;33m=\u001b[0m \u001b[0mrow\u001b[0m\u001b[1;33m[\u001b[0m\u001b[1;36m0\u001b[0m\u001b[1;33m]\u001b[0m\u001b[1;33m\u001b[0m\u001b[0m\n\u001b[0m\u001b[0;32m     99\u001b[0m \u001b[1;33m\u001b[0m\u001b[0m\n\u001b[0;32m    100\u001b[0m     \u001b[0mcond\u001b[0m\u001b[1;33m.\u001b[0m\u001b[0mappend\u001b[0m\u001b[1;33m(\u001b[0m\u001b[0md\u001b[0m\u001b[1;33m.\u001b[0m\u001b[0mat\u001b[0m\u001b[1;33m[\u001b[0m\u001b[0mrow\u001b[0m\u001b[1;33m,\u001b[0m\u001b[1;34m\"Condition\"\u001b[0m\u001b[1;33m]\u001b[0m\u001b[1;33m)\u001b[0m\u001b[1;33m\u001b[0m\u001b[0m\n",
      "\u001b[1;31mIndexError\u001b[0m: list index out of range"
     ]
    }
   ],
   "source": [
    "import pandas as pd\n",
    "from matplotlib.pyplot import *\n",
    "from rpy2.rinterface import RRuntimeError\n",
    "pd.set_option('mode.chained_assignment','warn')\n",
    "pd.set_option(\"display.max_rows\", 300)\n",
    "# import the surface data\n",
    "# d = pd.read_csv(\"/shared/AudioData/ThereminData/surfacedata.csv\", na_values=[\"NaN\"])\n",
    "\n",
    "\n",
    "da_dict = {}\n",
    "states_xy = []\n",
    "bics_xy = []\n",
    "hmms_xy = []\n",
    "states_freq = []\n",
    "bics_freq = []\n",
    "hmms_freq = []\n",
    "states_mel = []\n",
    "bics_mel = []\n",
    "hmms_mel = []\n",
    "phases = []\n",
    "entropies_xy = []\n",
    "entropies_freq = []\n",
    "entropies_mel = []\n",
    "llhs_xy = []\n",
    "llhs_freq = []\n",
    "llhs_mel = []\n",
    "total_score = []\n",
    "cols = ['id', 'reversed', 'condition', 'phase', 'phase_order', 'score', 'score_n', 'total_score','discrete']\n",
    "# add a 5 \n",
    "for u in ('xy', 'amp_and_freq', 'amp_and_mel'):\n",
    "    for c in (\"nstates_%s\", \"bic_%s\", \"nstates_%s_n\", \"bic_%s_n\"):\n",
    "        cols.append(c % u)\n",
    "    \n",
    "# print cols\n",
    "all_data = pd.DataFrame(index=range(len(files_xy)),columns = tuple(cols))\n",
    "score_cols = [\"Test1\", \"Test2\", \"Test3\"]\n",
    "series = lambda x: pd.Series(x, index=all_data.index)\n",
    "normalize = lambda x: (x - np.average(x)) / np.std(x)\n",
    "norm_series = lambda x: series(normalize(x))\n",
    "\n",
    "all_data[\"id\"] = series([file_to_id(f).split(\".\")[0] for f in files_xy])\n",
    "all_data[\"phase\"] = series([int(f.split(\".\")[-2][-1]) for f in files_xy])\n",
    "all_data[\"phase\"] = series([int(f.split(\".\")[-2][-1]) for f in files_xy])\n",
    "all_data[\"phase_order\"] = series([int(f.split(\".\")[-2][-1]) for f in files_xy])\n",
    "\n",
    "# for f in files:\n",
    "#     print f\n",
    "#     print any([True if hmm is not None else False for hmm in unpickle_results(f).hmms])\n",
    "\n",
    "hmms_xy = [pick_lowest_bic(unpickle_results(f).hmms)[0] for f in files_xy]\n",
    "hmms_freq = [pick_lowest_bic(unpickle_results(f).hmms)[0] for f in files_amp_and_freq]\n",
    "hmms_mel = [pick_lowest_bic(unpickle_results(f).hmms)[0] for f in files_amp_and_mel]\n",
    "\n",
    "def process_hmm(hmm, states, bics, llhs, i=None):\n",
    "    states.append(hmm.nstates)\n",
    "    bics.append(hmm.bic)\n",
    "    llhs.append(np.product(hmm.loglikelihood))\n",
    "\n",
    "# print hmms\n",
    "for i, (hmm_xy, hmm_freq, hmm_mel) in enumerate(zip(hmms_xy, hmms_freq, hmms_mel)):\n",
    "    process_hmm(hmm_xy, states_xy, bics_xy, llhs_xy, i)\n",
    "    process_hmm(hmm_freq, states_freq, bics_freq, llhs_freq, i)\n",
    "    process_hmm(hmm_mel, states_mel, bics_mel, llhs_mel, i)\n",
    "    \n",
    "# print \"States:\",states_xy, states_freq, states_mel     \n",
    "# all_data[\"entropy_xy\"] = series(entropies_xy)\n",
    "# all_data[\"entropy_amp_and_freq\"] = series(entropies_freq)\n",
    "# all_data[\"entropy_amp_and_mel\"] = series(entropies_mel)\n",
    "assert len(bics_xy) == len(all_data)\n",
    "all_data[\"bic_xy\"] = series(bics_xy)\n",
    "all_data[\"bic_amp_and_freq\"] = series(bics_freq)\n",
    "all_data[\"bic_amp_and_mel\"] = series(bics_mel)\n",
    "all_data[\"nstates_xy\"] = series(states_xy)\n",
    "all_data[\"nstates_amp_and_freq\"] = series(states_freq)\n",
    "all_data[\"nstates_amp_and_mel\"] = series(states_mel)\n",
    "all_data[\"llh_xy\"] = series(llhs_xy)\n",
    "all_data[\"llh_amp_and_freq\"] = series(llhs_freq)\n",
    "all_data[\"llh_amp_and_mel\"] = series(llhs_mel)\n",
    "\n",
    "cond = []\n",
    "rev = []\n",
    "scores = []\n",
    "discrete = []\n",
    "for id, phase in zip(all_data[\"id\"], all_data[\"phase\"]):\n",
    "#     print \"ID\", id\n",
    "    \n",
    "    # this piece of trickery makes sure we don't screw up\n",
    "    # due to differences in case\n",
    "    row = d[d[\"ID\"] == id].index.tolist()\n",
    "    if len(row) < 1:\n",
    "        row = d[d[\"ID\"] == id.upper()].index.tolist()\n",
    "    if len(row) < 1:\n",
    "        row = d[d[\"ID\"] == id.lower()].index.tolist()\n",
    "    if len(row) < 1:\n",
    "        print id, phase\n",
    "        print \"FUUUUCK\"\n",
    "    \n",
    "    row = row[0]\n",
    "\n",
    "    cond.append(d.at[row,\"Condition\"])\n",
    "    rev.append(d.at[row, \"Reversed\"])\n",
    "    scores.append(d.at[row, score_cols[phase]])\n",
    "    total_score.append(d.at[row, \"TestAll\"])\n",
    "    discrete.append(d.at[row, \"Discrete\"])\n",
    "    \n",
    "all_data[\"condition\"] = series(cond)\n",
    "all_data[\"reversed\"] = series(rev)\n",
    "all_data[\"score\"] = series(scores)\n",
    "all_data[\"total_score\"] = series(total_score)\n",
    "\n",
    "# all_data[\"entropy_xy_n\"] = norm_series(entropies_xy)\n",
    "# all_data[\"entropy_amp_and_freq_n\"] = norm_series(entropies_freq)\n",
    "# all_data[\"entropy_amp_and_mel_n\"] = norm_series(entropies_mel)\n",
    "all_data[\"bic_xy_n\"] = norm_series(bics_xy)\n",
    "all_data[\"bic_amp_and_freq_n\"] = norm_series(bics_freq)\n",
    "all_data[\"bic_amp_and_mel_n\"] = norm_series(bics_mel)\n",
    "all_data[\"nstates_xy_n\"] = norm_series(states_xy)\n",
    "all_data[\"nstates_amp_and_freq_n\"] = norm_series(states_freq)\n",
    "all_data[\"nstates_amp_and_mel_n\"] = norm_series(states_mel)\n",
    "all_data[\"llh_xy_n\"] = norm_series(llhs_xy)\n",
    "all_data[\"llh_amp_and_freq_n\"] = norm_series(llhs_freq)\n",
    "all_data[\"llh_amp_and_mel_n\"] = norm_series(llhs_mel)\n",
    "all_data[\"score_n\"] = norm_series(scores)\n",
    "\n",
    "# fix the differences in phase among conditions\n",
    "for index, row in all_data.iterrows():\n",
    "    if row[\"condition\"] == 2:\n",
    "        p = row[\"phase\"]\n",
    "        if p == 1:\n",
    "            all_data.at[index, \"phase\"] = 2\n",
    "            all_data.at[index, \"phase_order\"] = 1\n",
    "        elif p == 2:\n",
    "            all_data.at[index, \"phase\"] = 1\n",
    "            all_data.at[index, \"phase_order\"] = 2\n",
    "        else:\n",
    "            continue\n",
    "#         print \"Switchover! %s to %s\" % (p, all_data.at[index, \"phase\"]) \n",
    "#         print all_data.at[index, \"phase\"], p\n",
    "        assert all_data.at[index, \"phase\"] != p\n",
    "    \n",
    "from os.path import join\n",
    "all_data.to_csv(join(root, \"all_scores_bics_nstates_by_phase.csv\"))\n",
    "# print all_data\n",
    "\n",
    "colors = \"Blue BlueViolet Chocolate Crimson Yellow Green DarkSlateBlue DeepPink GreenYellow DarkKhaki Olive LightGray Black\".split()\n",
    "\n",
    "    \n",
    "# all_data\n",
    "# figure()\n",
    "\n",
    "# hist(states)\n",
    "# figure()\n",
    "# print bics_freq\n",
    "# print zip(phases, states), len(states)\n",
    "# print bics, len(bics)\n",
    "# print da_dict"
   ]
  },
  {
   "cell_type": "code",
   "execution_count": null,
   "metadata": {
    "collapsed": false
   },
   "outputs": [],
   "source": [
    "# print all_data[\"phase\"]\n",
    "import pandas as pd\n",
    "from matplotlib.pyplot import *\n",
    "%matplotlib inline\n",
    "all_data = pd.read_csv(\"all_scores_bics_nstates_by_phase.csv\")\n",
    "from matplotlib.patches import Patch\n",
    "zero = all_data[all_data.phase == 0]\n",
    "one = all_data[all_data.phase == 1]\n",
    "two = all_data[all_data.phase == 2]\n",
    "get_values = lambda x: x[\"nstates_amp_and_freq\"].values\n",
    "figure(figsize=(15,10))\n",
    "mappings = ['1:1', \"1:2\", \"2:2\"]\n",
    "colors = [gca()._get_lines.color_cycle.next() for i in mappings] \n",
    "# print dir(colors)\n",
    "# print colors\n",
    "handles = [Patch(color=c, label=m) for c,m in zip(colors, mappings)]\n",
    "hist([get_values(zero),get_values(one),get_values(two)], stacked=True, color=colors)#, histtype=\"stepfilled\")\n",
    "legend(handles=handles)\n",
    "# # figure()\n",
    "# # hist(get_values(one), label=\"1:2\")\n",
    "# # figure()\n",
    "# # hist(get_values(two), label=\"2:2\")\n",
    "# legend()\n",
    "# print one\n",
    "# hist(one[\"nstates_amp_and_freq\"])\n",
    "# figure()\n",
    "# hist(two[\"nstates_amp_and_freq\"])\n",
    "# # %matplotlib qt\n",
    "# # x = \"llh\"\n",
    "# # y = \"bic\"\n",
    "# # from matplotlib.pyplot import scatter\n",
    "# # scat = lambda x, y: plt.scatter(all_data[x], all_data[y])\n",
    "# # scat(x,y)\n",
    "# # xlabel(x)\n",
    "# # ylabel(y)\n",
    "# import StreamlinedDataAnalysis\n",
    "# print plt\n",
    "# def plot_hmm(hmm):\n",
    "#     StreamlinedDataAnalysis.plot_hmm(means_=hmm.means, transmat=hmm.transmat, covars=hmm.variances, initProbs=hmm.initProb)\n",
    "# plot_hmm(hmms[10])"
   ]
  },
  {
   "cell_type": "code",
   "execution_count": 57,
   "metadata": {
    "collapsed": false
   },
   "outputs": [
    {
     "name": "stdout",
     "output_type": "stream",
     "text": [
      "0     14\n",
      "3     11\n",
      "6     22\n",
      "9      9\n",
      "12    16\n",
      "15    15\n",
      "18    12\n",
      "21    15\n",
      "24    17\n",
      "27    14\n",
      "30     9\n",
      "33    23\n",
      "36    13\n",
      "39     9\n",
      "42     9\n",
      "45    10\n",
      "48    15\n",
      "51    16\n",
      "54    27\n",
      "57    14\n",
      "60    15\n",
      "63    21\n",
      "Name: nstates_amp_and_freq, dtype: int64\n"
     ]
    }
   ],
   "source": [
    "from rpy2.robjects import r\n",
    "from rpy2 import robjects\n",
    "from rpy2.robjects import globalenv\n",
    "print (all_data[all_data.phase == 0][\"nstates_amp_and_freq\"])"
   ]
  },
  {
   "cell_type": "code",
   "execution_count": 79,
   "metadata": {
    "collapsed": false
   },
   "outputs": [
    {
     "name": "stdout",
     "output_type": "stream",
     "text": [
      "0    -7.953146e+19\n",
      "1     5.146308e+29\n",
      "2    -1.845962e+34\n",
      "3     1.466155e+18\n",
      "4     2.974465e+30\n",
      "5     2.429267e+34\n",
      "6    -9.601521e+22\n",
      "7     3.720090e+35\n",
      "8     4.129149e+40\n",
      "9     4.103251e+20\n",
      "10    3.103916e+31\n",
      "11    1.125560e+39\n",
      "12    4.709132e+23\n",
      "13    5.122049e+38\n",
      "14    1.715081e+44\n",
      "15    9.806089e+21\n",
      "16    5.758187e+31\n",
      "17    2.077187e+33\n",
      "18    1.341970e+22\n",
      "19    9.814284e+31\n",
      "20    4.266219e+36\n",
      "21    1.687628e+22\n",
      "22    3.307053e+36\n",
      "23    4.711220e+39\n",
      "24    3.108171e+21\n",
      "25    1.475275e+32\n",
      "26    1.219394e+31\n",
      "27    1.376986e+21\n",
      "28    7.170022e+38\n",
      "29    6.557118e+40\n",
      "30    1.693922e+19\n",
      "31    3.761372e+36\n",
      "32    2.380462e+32\n",
      "33    2.008097e+22\n",
      "34    4.065373e+39\n",
      "35   -4.836495e+31\n",
      "36    2.199131e+21\n",
      "37    1.206093e+40\n",
      "38    4.676965e+36\n",
      "39    4.447998e+19\n",
      "40    2.332517e+28\n",
      "41    1.212791e+20\n",
      "42    1.805390e+19\n",
      "43    3.564156e+39\n",
      "44    9.114682e+30\n",
      "45    2.440110e+20\n",
      "46    1.121816e+40\n",
      "47    1.094578e+35\n",
      "48   -6.186376e+18\n",
      "49   -3.380008e+32\n",
      "50    5.476993e+30\n",
      "51    3.472066e+23\n",
      "52    8.966976e+38\n",
      "53   -7.952498e+34\n",
      "54    2.678456e+28\n",
      "55    4.197630e+44\n",
      "56    1.436911e+39\n",
      "57    3.326151e+21\n",
      "58    7.727139e+38\n",
      "59    3.097185e+35\n",
      "60    9.076730e+20\n",
      "61    2.499961e+36\n",
      "62   -2.833574e+29\n",
      "63    1.282141e+26\n",
      "64    1.284939e+40\n",
      "65    4.537723e+37\n",
      "Name: llh_xy, Length: 66, dtype: float64\n"
     ]
    },
    {
     "data": {
      "image/png": "[encoded data removed]",
      "text/plain": [
       "<matplotlib.figure.Figure at 0x1771e8d0>"
      ]
     },
     "metadata": {},
     "output_type": "display_data"
    },
    {
     "data": {
      "image/png": "[encoded data removed]",
      "text/plain": [
       "<matplotlib.figure.Figure at 0x156567d0>"
      ]
     },
     "metadata": {},
     "output_type": "display_data"
    },
    {
     "data": {
      "image/png": "[encoded data removed]",
      "text/plain": [
       "<matplotlib.figure.Figure at 0x119967d0>"
      ]
     },
     "metadata": {},
     "output_type": "display_data"
    },
    {
     "data": {
      "image/png": "[encoded data removed]",
      "text/plain": [
       "<matplotlib.figure.Figure at 0x118cac50>"
      ]
     },
     "metadata": {},
     "output_type": "display_data"
    }
   ],
   "source": [
    "# %matplotlib inline\n",
    "# print all_data['llh']\n",
    "# scatter(all_data[\"score\"], all_data[\"llh\"])\n",
    "def plot_trend(target_col, source_col):\n",
    "    for unit in (\"xy\", \"amp_and_freq\", \"amp_and_mel\"):\n",
    "        figure()\n",
    "        scatter(all_data[target_col], all_data[\"%s_%s\" % (source_col, unit)])\n",
    "        xlabel(target_col)\n",
    "        ylabel(\"%s_%s\" % (source_col, unit))\n",
    "\n",
    "plot_trend(\"score\", \"llh\")\n",
    "\n",
    "figure()\n",
    "plot(np.divide(range(1,100),100.), np.log(np.divide(range(1,100),100.)))\n",
    "xlabel(\"X\")\n",
    "ylabel(\"log(X)\")\n",
    "print all_data[\"llh_xy\"]\n",
    "# print ids"
   ]
  },
  {
   "cell_type": "code",
   "execution_count": 16,
   "metadata": {
    "collapsed": false
   },
   "outputs": [
    {
     "name": "stdout",
     "output_type": "stream",
     "text": [
      "Empty DataFrame\n",
      "Columns: [ID, Age, Sex, Musical, Discrete, Condition, Reversed, Easy, Strategy1, Strategy1_1, Stategy1_2, Strategy2_1, Strategy2_2, same, strategy, Test1, Test2, Test3, TestAll]\n",
      "Index: []\n"
     ]
    }
   ],
   "source": [
    "print d[d[\"ID\"]==\"D132011151014\"]"
   ]
  }
 ],
 "metadata": {
  "kernelspec": {
   "display_name": "Python 2",
   "language": "python",
   "name": "python2"
  },
  "language_info": {
   "codemirror_mode": {
    "name": "ipython",
    "version": 2
   },
   "file_extension": ".py",
   "mimetype": "text/x-python",
   "name": "python",
   "nbconvert_exporter": "python",
   "pygments_lexer": "ipython2",
   "version": "2.7.6"
  }
 },
 "nbformat": 4,
 "nbformat_minor": 0
}
