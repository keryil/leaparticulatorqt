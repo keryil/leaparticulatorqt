{
 "cells": [
  {
   "cell_type": "code",
   "execution_count": 1,
   "metadata": {
    "collapsed": false
   },
   "outputs": [],
   "source": [
    "# files = !ls logs/*.responses.csv"
   ]
  },
  {
   "cell_type": "code",
   "execution_count": 14,
   "metadata": {
    "collapsed": false
   },
   "outputs": [],
   "source": [
    "import pandas as pd\n",
    "import numpy as np\n",
    "import csv\n",
    "import os\n",
    "os.chdir(os.path.expanduser(\"~/Dropbox/ABACUS/Workspace/LeapArticulatorQt\"))\n",
    "from leaparticulator.constants import palmToAmpAndFreq, palmToFreq, freqToMel\n",
    "id_to_log = lambda x: \"logs/%s.exp.log\" % x"
   ]
  },
  {
   "cell_type": "code",
   "execution_count": 11,
   "metadata": {
    "collapsed": false
   },
   "outputs": [],
   "source": [
    "# taken from ClientUI.py\n",
    "# end of steal\n",
    "def calculate_amp_and_freq(f, delimiter=\"|\"):\n",
    "    import leaparticulator.constants as Constants\n",
    "    default_volume = Constants.default_amplitude\n",
    "    default_pitch = Constants.default_pitch\n",
    "    freqs = []\n",
    "    amps = []\n",
    "    mels = []\n",
    "    images = []\n",
    "    cond = f.split(\".\")[1]\n",
    "    print \"File: %s, Condition: %s\" % (f, cond)\n",
    "    data = pd.read_csv(f, delimiter=delimiter, na_values=[\"NaN\"])\n",
    "    new_file = \".\".join(f.split(\".\")[:-1]) + \".freq_and_amp.csv\"\n",
    "    \n",
    "    \n",
    "    series = lambda x: pd.Series(x, index=data.index)\n",
    "    normalize = lambda x: (x - np.average(x)) / np.std(x)\n",
    "    norm_series = lambda x: series(normalize(x))\n",
    "    doublequote = lambda x: \"\\\"%s\\\"\" % x\n",
    "    \n",
    "    print new_file\n",
    "    oldx,oldy = -1,-1\n",
    "    for row in data[['x','y', 'phase', 'image']].iterrows():\n",
    "        x,y = row[1][0], row[1][1]\n",
    "        phase = int(row[1][2])\n",
    "        image = row[1][3]\n",
    "        if cond in ('1r', '2r'):\n",
    "            x, y = y, x\n",
    "        amp, freq = palmToAmpAndFreq((x,y,0))\n",
    "        \n",
    "        \n",
    "        if cond[-1] == 'r' and cond[-2] != 'e':\n",
    "            if (cond in ('1', 'master') and phase == 1) or \\\n",
    "                ('2' in cond and phase == 2) or \\\n",
    "                phase ==0:\n",
    "                    freq = default_pitch\n",
    "        else: \n",
    "            if (cond in ('1', 'master') and phase == 1) or \\\n",
    "                ('2' in cond and phase == 2) or \\\n",
    "                phase ==0:\n",
    "                    amp = default_volume\n",
    "        mel = freqToMel(freq)\n",
    "#         print phase, amp, freq, mel\n",
    "        freqs.append(freq)\n",
    "        amps.append(amp)\n",
    "        mels.append(mel)\n",
    "        images.append(doublequote(image))\n",
    "    data[\"frequency\"] = series(freqs)\n",
    "    data[\"amplitude\"] = series(amps)\n",
    "    data[\"mel\"] = series(mels)\n",
    "    data[\"frequency_n\"] = norm_series(freqs)\n",
    "    data[\"amplitude_n\"] = norm_series(amps)\n",
    "    data[\"mel_n\"] = norm_series(mels)\n",
    "    data[\"image\"] = series(images)\n",
    "    data.to_csv(new_file, sep=\"|\", na_rep=\"NaN\", quoting=csv.QUOTE_NONE)\n",
    "    \n",
    "def doit():\n",
    "#     files = []\n",
    "    for f in files:\n",
    "        calculate_amp_and_freq(f)\n",
    "    \n",
    "#         print amp, freq\n",
    "#         print phase\n",
    "            #             print palmToAmpAndFreq((x,y,z))"
   ]
  },
  {
   "cell_type": "code",
   "execution_count": 7,
   "metadata": {
    "collapsed": false
   },
   "outputs": [
    {
     "name": "stdout",
     "output_type": "stream",
     "text": [
      "File: logs/1230105514.master.exp.responses.csv, Condition: master\n",
      "logs/1230105514.master.exp.responses.freq_and_amp.csv\n",
      "File: logs/1230115514.master.exp.responses.csv, Condition: master\n",
      "logs/1230115514.master.exp.responses.freq_and_amp.csv\n",
      "File: logs/12301516514.1.exp.responses.csv, Condition: 1\n",
      "logs/12301516514.1.exp.responses.freq_and_amp.csv\n",
      "File: logs/12301720514.1.exp.responses.csv, Condition: 1\n",
      "logs/12301720514.1.exp.responses.freq_and_amp.csv\n",
      "File: logs/12301921514.1.exp.responses.csv, Condition: 1\n",
      "logs/12301921514.1.exp.responses.freq_and_amp.csv\n",
      "File: logs/123R0126514.1r.exp.responses.csv, Condition: 1r\n",
      "logs/123R0126514.1r.exp.responses.freq_and_amp.csv\n",
      "File: logs/123R0137514.1r.exp.responses.csv, Condition: 1r\n",
      "logs/123R0137514.1r.exp.responses.freq_and_amp.csv\n",
      "File: logs/123R0147514.1r.exp.responses.csv, Condition: 1r\n",
      "logs/123R0147514.1r.exp.responses.freq_and_amp.csv\n",
      "File: logs/123r01619514.1r.exp.responses.csv, Condition: 1r\n",
      "logs/123r01619514.1r.exp.responses.freq_and_amp.csv\n",
      "File: logs/123r01821514.1r.exp.responses.csv, Condition: 1r\n",
      "logs/123r01821514.1r.exp.responses.freq_and_amp.csv\n",
      "File: logs/123R0223614.1r.exp.responses.csv, Condition: 1r\n",
      "logs/123R0223614.1r.exp.responses.freq_and_amp.csv\n",
      "File: logs/1320116514.2.exp.responses.csv, Condition: 2\n",
      "logs/1320116514.2.exp.responses.freq_and_amp.csv\n",
      "File: logs/1320149514.2.exp.responses.csv, Condition: 2\n",
      "logs/1320149514.2.exp.responses.freq_and_amp.csv\n",
      "File: logs/13201516514.2.exp.responses.csv, Condition: 2\n",
      "logs/13201516514.2.exp.responses.freq_and_amp.csv\n",
      "File: logs/13201720514.2.exp.responses.csv, Condition: 2\n",
      "logs/13201720514.2.exp.responses.freq_and_amp.csv\n",
      "File: logs/13201820514.2.exp.responses.csv, Condition: 2\n",
      "logs/13201820514.2.exp.responses.freq_and_amp.csv\n",
      "File: logs/13202021514.2.exp.responses.csv, Condition: 2\n",
      "logs/13202021514.2.exp.responses.freq_and_amp.csv\n",
      "File: logs/13202126514.2.exp.responses.csv, Condition: 2\n",
      "logs/13202126514.2.exp.responses.freq_and_amp.csv\n",
      "File: logs/132R0128514.2r.exp.responses.csv, Condition: 2r\n",
      "logs/132R0128514.2r.exp.responses.freq_and_amp.csv\n",
      "File: logs/132R0139514.2r.exp.responses.csv, Condition: 2r\n",
      "logs/132R0139514.2r.exp.responses.freq_and_amp.csv\n",
      "File: logs/132r01513514.2r.exp.responses.csv, Condition: 2r\n",
      "logs/132r01513514.2r.exp.responses.freq_and_amp.csv\n",
      "File: logs/132r01619514.2r.exp.responses.csv, Condition: 2r\n",
      "logs/132r01619514.2r.exp.responses.freq_and_amp.csv\n",
      "File: logs/132r01921514.2r.exp.responses.csv, Condition: 2r\n",
      "logs/132r01921514.2r.exp.responses.freq_and_amp.csv\n",
      "File: logs/Filippi.1.exp.responses.csv, Condition: 1\n",
      "logs/Filippi.1.exp.responses.freq_and_amp.csv\n",
      "File: logs/yana pilot.master.exp.responses.csv, Condition: master\n",
      "logs/yana pilot.master.exp.responses.freq_and_amp.csv\n"
     ]
    }
   ],
   "source": [
    "# doit()"
   ]
  },
  {
   "cell_type": "code",
   "execution_count": null,
   "metadata": {
    "collapsed": false
   },
   "outputs": [],
   "source": []
  }
 ],
 "metadata": {
  "kernelspec": {
   "display_name": "Python 2",
   "language": "python",
   "name": "python2"
  },
  "language_info": {
   "codemirror_mode": {
    "name": "ipython",
    "version": 2
   },
   "file_extension": ".py",
   "mimetype": "text/x-python",
   "name": "python",
   "nbconvert_exporter": "python",
   "pygments_lexer": "ipython2",
   "version": "2.7.6"
  }
 },
 "nbformat": 4,
 "nbformat_minor": 0
}
