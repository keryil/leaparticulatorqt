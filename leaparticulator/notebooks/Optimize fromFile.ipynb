{
 "metadata": {
  "name": "",
  "signature": "sha256:1359a3dd8c1696729837e2dd525a9e824c9ca153d84857bfacb8d1fbe852dadd"
 },
 "nbformat": 3,
 "nbformat_minor": 0,
 "worksheets": [
  {
   "cells": [
    {
     "cell_type": "code",
     "collapsed": false,
     "input": [
      "%load_ext line_profiler\n",
      "%lprun?"
     ],
     "language": "python",
     "metadata": {},
     "outputs": [],
     "prompt_number": 1
    },
    {
     "cell_type": "code",
     "collapsed": false,
     "input": [
      "import ExperimentalData\n",
      "from ExperimentalData import fromFile, fromFile_old, _expandResponsesNew"
     ],
     "language": "python",
     "metadata": {},
     "outputs": [],
     "prompt_number": 2
    },
    {
     "cell_type": "code",
     "collapsed": false,
     "input": [
      "f = \"logs/13202126514.2.exp.log\"\n",
      "%lprun -f _expandResponsesNew fromFile(f)"
     ],
     "language": "python",
     "metadata": {},
     "outputs": [],
     "prompt_number": 5
    },
    {
     "cell_type": "code",
     "collapsed": false,
     "input": [
      "import jsonpickle\n",
      "\n",
      "def recursive_decode(lst, verbose=False):\n",
      "    if verbose:\n",
      "        print \"Decoding %s\" % (str(lst)[:100])\n",
      "    try:\n",
      "        # the arg lst may or may not be a pickled obj itself\n",
      "        lst = jsonpickle.decode(lst)\n",
      "    except TypeError:\n",
      "        pass\n",
      "    if isinstance(lst, dict): \n",
      "        if \"py/objects\" in lst.keys():\n",
      "            if verbose:\n",
      "                print \"Unpickle obj...\"\n",
      "            lst = jsonpickle.decode(lst)\n",
      "        else:\n",
      "            if verbose:\n",
      "                print \"Unwind dict...\"\n",
      "            lst = {i:recursive_decode(lst[i]) for i in lst.keys()}\n",
      "    elif isinstance(lst, list):\n",
      "        if verbose:\n",
      "            print \"Decode list...\"\n",
      "        lst = [recursive_decode(l) for l in lst]\n",
      "    else:\n",
      "        if verbose:\n",
      "            print \"Probably hit tail...\"\n",
      "    return lst\n",
      "\n",
      "lines = open(f).readlines()\n",
      "images = jsonpickle.decode(lines[0])\n",
      "\n",
      "def old_way(lines):\n",
      "    responses = jsonpickle.decode(lines[1])\n",
      "    responses = _expandResponses(responses, images)\n",
      "\n",
      "def new_way(lines):\n",
      "    responses = recursive_decode(lines[1])\n",
      "    responses = {client:{phase:{images[int(phase)][int(image)]:responses[client][phase][image] for image in responses[client][phase]} for phase in responses[client]} for client in responses}\n",
      "#     for client in responses:\n",
      "#         for phase in responses[client]:\n",
      "#             d = responses[client][phase]\n",
      "#             responses[client][phase] = {images[int(phase)][int(image)]:d[image] for image in d}\n",
      "\n",
      "\n",
      "# print \"***********\"\n",
      "%timeit -n 50 old_way(lines)\n",
      "%timeit -n 50 new_way(lines)\n",
      "# l = responses[\"127.0.0.1\"][\"1\"][\"1\"]\n",
      "# [jsonpickle.decode(r) for r in l]\n"
     ],
     "language": "python",
     "metadata": {},
     "outputs": [
      {
       "output_type": "stream",
       "stream": "stdout",
       "text": [
        "50 loops, best of 3: 1.3 s per loop\n",
        "50 loops, best of 3: 1.31 s per loop"
       ]
      },
      {
       "output_type": "stream",
       "stream": "stdout",
       "text": [
        "\n"
       ]
      }
     ],
     "prompt_number": 8
    },
    {
     "cell_type": "code",
     "collapsed": false,
     "input": [
      "%timeit fromFile(f)\n",
      "%timeit fromFile_old(f)"
     ],
     "language": "python",
     "metadata": {},
     "outputs": [
      {
       "output_type": "stream",
       "stream": "stdout",
       "text": [
        "10 loops, best of 3: 99.3 ms per loop\n",
        "10 loops, best of 3: 100 ms per loop"
       ]
      },
      {
       "output_type": "stream",
       "stream": "stdout",
       "text": [
        "\n"
       ]
      }
     ],
     "prompt_number": 6
    },
    {
     "cell_type": "code",
     "collapsed": false,
     "input": [],
     "language": "python",
     "metadata": {},
     "outputs": [],
     "prompt_number": 4
    }
   ],
   "metadata": {}
  }
 ]
}