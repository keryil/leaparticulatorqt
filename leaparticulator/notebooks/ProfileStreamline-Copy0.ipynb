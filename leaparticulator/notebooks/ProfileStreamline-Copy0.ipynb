{
 "metadata": {
  "name": "",
  "signature": "sha256:d24c6f66291f7e3ca25b855f23ec99d92d21ed120414f7717468c3fdbfae2089"
 },
 "nbformat": 3,
 "nbformat_minor": 0,
 "worksheets": [
  {
   "cells": [
    {
     "cell_type": "code",
     "collapsed": false,
     "input": [
      "files = !ls logs/1*.*.exp.log\n",
      "files"
     ],
     "language": "python",
     "metadata": {},
     "outputs": [
      {
       "metadata": {},
       "output_type": "pyout",
       "prompt_number": 1,
       "text": [
        "['logs/1230105514.master.exp.log',\n",
        " 'logs/1230115514.master.exp.log',\n",
        " 'logs/12301516514.1.exp.log',\n",
        " 'logs/12301720514.1.exp.log',\n",
        " 'logs/12301921514.1.exp.log',\n",
        " 'logs/123R0126514.1r.exp.log',\n",
        " 'logs/123R0137514.1r.exp.log',\n",
        " 'logs/123R0147514.1r.exp.log',\n",
        " 'logs/123r01619514.1r.exp.log',\n",
        " 'logs/123r01821514.1r.exp.log',\n",
        " 'logs/123R0223614.1r.exp.log',\n",
        " 'logs/1320116514.2.exp.log',\n",
        " 'logs/1320149514.2.exp.log',\n",
        " 'logs/13201516514.2.exp.log',\n",
        " 'logs/13201720514.2.exp.log',\n",
        " 'logs/13201820514.2.exp.log',\n",
        " 'logs/13202021514.2.exp.log',\n",
        " 'logs/13202126514.2.exp.log',\n",
        " 'logs/132R0128514.2r.exp.log',\n",
        " 'logs/132R0139514.2r.exp.log',\n",
        " 'logs/132r01513514.2r.exp.log',\n",
        " 'logs/132r01619514.2r.exp.log',\n",
        " 'logs/132r01921514.2r.exp.log',\n",
        " 'logs/140325.163817.exp.log',\n",
        " 'logs/140502.095859.exp.log']"
       ]
      }
     ],
     "prompt_number": 1
    },
    {
     "cell_type": "code",
     "collapsed": false,
     "input": [
      "%%writefile ProfileStreamlineNugget.py\n",
      "import sys\n",
      "def do_it(file_id=sys.argv[1], units=sys.argv[2]):\n",
      "    from StreamlinedDataAnalysisGhmm import analyze_log_file_in_phases_by_condition\n",
      "    import Constants\n",
      "    try:\n",
      "        analyze_log_file_in_phases_by_condition(file_id, nstates=range(2,30), trials=100, iter=1000, parallel=False, units=units,\n",
      "                                            skip_phases=[0,1])\n",
      "    except Exception, err:\n",
      "        print err\n",
      "if __name__ == \"__main__\":\n",
      "    do_it()"
     ],
     "language": "python",
     "metadata": {},
     "outputs": [
      {
       "output_type": "stream",
       "stream": "stdout",
       "text": [
        "Overwriting ProfileStreamlineNugget.py\n"
       ]
      }
     ],
     "prompt_number": 4
    },
    {
     "cell_type": "code",
     "collapsed": false,
     "input": [
      "from StreamlinedDataAnalysisGhmm import analyze_log_file_in_phases_by_condition\n",
      "import Constants, GHmmWrapper, gc\n",
      "from itertools import product\n",
      "from subprocess import Popen, PIPE, os\n",
      "from ProfileStreamlineNugget import do_it\n",
      "files_n_units = product(files, [Constants.XY, Constants.AMP_AND_FREQ, Constants.AMP_AND_MEL])\n",
      "dd = os.getcwd()\n",
      "\n",
      "for i, (f, unit) in enumerate(files_n_units):\n",
      "        if i < 4:\n",
      "            # 3 was a problem\n",
      "            continue\n",
      "        ff = f.split(\"/\")[1][:-8]\n",
      "        print \"Doing file/unit combination no.#%d: %s (unit: %s)\" % (i, ff, unit)\n",
      "        do_it(ff, unit)\n",
      "#         newcode = code % (ff, unit)\n",
      "#         p = Popen(('python ProfileStreamlineNugget.py %s %s' % (ff, unit)).split(), stdout=PIPE, stderr=PIPE, cwd=dd)\n",
      "#         line = \" \"\n",
      "#         while line:\n",
      "# #             line = p.stdout.readline()\n",
      "# #             if not line:\n",
      "#             print line.rstrip()\n",
      "#             line = p.stdout.readline()\n",
      "#         print \"ERR\\n\", p.stderr.readlines()#communicate()[1]\n",
      "#         print \"OUT\\n\", std\n",
      "#         print \"ERR\\n\", err\n",
      "        gc.collect()"
     ],
     "language": "python",
     "metadata": {},
     "outputs": [
      {
       "output_type": "stream",
       "stream": "stdout",
       "text": [
        "Doing file/unit combination no.#4: 1230115514.master (unit: amp_and_freq)\n",
        "Starting phase by phase analysis, controlled for conditions (units: amp_and_freq)... \n",
        "\n"
       ]
      },
      {
       "output_type": "stream",
       "stream": "stdout",
       "text": [
        "Condition master \n",
        "\n"
       ]
      },
      {
       "output_type": "stream",
       "stream": "stdout",
       "text": [
        "Saving responses into logs/1230115514.master.exp.responses.csv\n",
        "File: logs/1230115514.master.exp.responses.csv, Condition: master"
       ]
      },
      {
       "output_type": "stream",
       "stream": "stdout",
       "text": [
        "\n",
        "logs/1230115514.master.exp.responses.freq_and_amp.csv\n",
        "Saving tests into logs/1230115514.master.exp.tests.csv"
       ]
      },
      {
       "output_type": "stream",
       "stream": "stdout",
       "text": [
        "\n",
        "Saving images into logs/1230115514.master.exp.images.csv\n",
        "Skipping phase#0 \n",
        "\n"
       ]
      },
      {
       "output_type": "stream",
       "stream": "stdout",
       "text": [
        "Skipping phase#1 \n",
        "\n"
       ]
      },
      {
       "output_type": "stream",
       "stream": "stdout",
       "text": [
        "Doing phase#2 \n",
        "\n"
       ]
      },
      {
       "output_type": "stream",
       "stream": "stdout",
       "text": [
        "Doing 2 state models... \n",
        "\n"
       ]
      },
      {
       "output_type": "stream",
       "stream": "stderr",
       "text": [
        "GHMM ghmm.py:148 - sreestimate.c:ghmm_cmodel_baum_welch(898): NO convergence: log P(-2.450865e+04) < log P-old(-7.403740e+03)! (n = 2)\n"
       ]
      },
      {
       "output_type": "stream",
       "stream": "stderr",
       "text": [
        "WARNING:GHMM:sreestimate.c:ghmm_cmodel_baum_welch(898): NO convergence: log P(-2.450865e+04) < log P-old(-7.403740e+03)! (n = 2)\n"
       ]
      },
      {
       "output_type": "stream",
       "stream": "stderr",
       "text": [
        "GHMM ghmm.py:148 - sreestimate.c:ghmm_cmodel_baum_welch(878): sreestimate_one_step false (1.step)\n"
       ]
      },
      {
       "output_type": "stream",
       "stream": "stderr",
       "text": [
        "WARNING:GHMM:sreestimate.c:ghmm_cmodel_baum_welch(878): sreestimate_one_step false (1.step)\n"
       ]
      },
      {
       "output_type": "stream",
       "stream": "stderr",
       "text": [
        "GHMM ghmm.py:3746 - forward returned -1: Sequence 0 cannot be build.\n"
       ]
      },
      {
       "output_type": "stream",
       "stream": "stderr",
       "text": [
        "WARNING:GHMM:forward returned -1: Sequence 0 cannot be build.\n"
       ]
      },
      {
       "output_type": "stream",
       "stream": "stderr",
       "text": [
        "GHMM ghmm.py:3746 - forward returned -1: Sequence 1 cannot be build.\n"
       ]
      },
      {
       "output_type": "stream",
       "stream": "stderr",
       "text": [
        "WARNING:GHMM:forward returned -1: Sequence 1 cannot be build.\n"
       ]
      },
      {
       "output_type": "stream",
       "stream": "stderr",
       "text": [
        "GHMM ghmm.py:3746 - forward returned -1: Sequence 2 cannot be build.\n"
       ]
      },
      {
       "output_type": "stream",
       "stream": "stderr",
       "text": [
        "WARNING:GHMM:forward returned -1: Sequence 2 cannot be build.\n"
       ]
      },
      {
       "output_type": "stream",
       "stream": "stderr",
       "text": [
        "GHMM ghmm.py:3746 - forward returned -1: Sequence 3 cannot be build.\n"
       ]
      },
      {
       "output_type": "stream",
       "stream": "stderr",
       "text": [
        "WARNING:GHMM:forward returned -1: Sequence 3 cannot be build.\n"
       ]
      },
      {
       "output_type": "stream",
       "stream": "stderr",
       "text": [
        "GHMM ghmm.py:3746 - forward returned -1: Sequence 4 cannot be build.\n"
       ]
      },
      {
       "output_type": "stream",
       "stream": "stderr",
       "text": [
        "WARNING:GHMM:forward returned -1: Sequence 4 cannot be build.\n"
       ]
      },
      {
       "output_type": "stream",
       "stream": "stderr",
       "text": [
        "GHMM ghmm.py:3746 - forward returned -1: Sequence 5 cannot be build.\n"
       ]
      },
      {
       "output_type": "stream",
       "stream": "stderr",
       "text": [
        "WARNING:GHMM:forward returned -1: Sequence 5 cannot be build.\n"
       ]
      },
      {
       "output_type": "stream",
       "stream": "stderr",
       "text": [
        "GHMM ghmm.py:3746 - forward returned -1: Sequence 6 cannot be build.\n"
       ]
      },
      {
       "output_type": "stream",
       "stream": "stderr",
       "text": [
        "WARNING:GHMM:forward returned -1: Sequence 6 cannot be build.\n"
       ]
      },
      {
       "output_type": "stream",
       "stream": "stderr",
       "text": [
        "GHMM ghmm.py:3746 - forward returned -1: Sequence 7 cannot be build.\n"
       ]
      },
      {
       "output_type": "stream",
       "stream": "stderr",
       "text": [
        "WARNING:GHMM:forward returned -1: Sequence 7 cannot be build.\n"
       ]
      },
      {
       "output_type": "stream",
       "stream": "stderr",
       "text": [
        "GHMM ghmm.py:3746 - forward returned -1: Sequence 8 cannot be build.\n"
       ]
      },
      {
       "output_type": "stream",
       "stream": "stderr",
       "text": [
        "WARNING:GHMM:forward returned -1: Sequence 8 cannot be build.\n"
       ]
      },
      {
       "output_type": "stream",
       "stream": "stderr",
       "text": [
        "GHMM ghmm.py:3746 - forward returned -1: Sequence 9 cannot be build.\n"
       ]
      },
      {
       "output_type": "stream",
       "stream": "stderr",
       "text": [
        "WARNING:GHMM:forward returned -1: Sequence 9 cannot be build.\n"
       ]
      },
      {
       "output_type": "stream",
       "stream": "stderr",
       "text": [
        "GHMM ghmm.py:3746 - forward returned -1: Sequence 10 cannot be build.\n"
       ]
      },
      {
       "output_type": "stream",
       "stream": "stderr",
       "text": [
        "WARNING:GHMM:forward returned -1: Sequence 10 cannot be build.\n"
       ]
      },
      {
       "output_type": "stream",
       "stream": "stderr",
       "text": [
        "GHMM ghmm.py:3746 - forward returned -1: Sequence 11 cannot be build.\n"
       ]
      },
      {
       "output_type": "stream",
       "stream": "stderr",
       "text": [
        "WARNING:GHMM:forward returned -1: Sequence 11 cannot be build.\n"
       ]
      },
      {
       "output_type": "stream",
       "stream": "stderr",
       "text": [
        "GHMM ghmm.py:3746 - forward returned -1: Sequence 0 cannot be build.\n"
       ]
      },
      {
       "output_type": "stream",
       "stream": "stderr",
       "text": [
        "WARNING:GHMM:forward returned -1: Sequence 0 cannot be build.\n"
       ]
      },
      {
       "output_type": "stream",
       "stream": "stderr",
       "text": [
        "GHMM ghmm.py:3746 - forward returned -1: Sequence 1 cannot be build.\n"
       ]
      },
      {
       "output_type": "stream",
       "stream": "stderr",
       "text": [
        "WARNING:GHMM:forward returned -1: Sequence 1 cannot be build.\n"
       ]
      },
      {
       "output_type": "stream",
       "stream": "stderr",
       "text": [
        "GHMM ghmm.py:3746 - forward returned -1: Sequence 2 cannot be build.\n"
       ]
      },
      {
       "output_type": "stream",
       "stream": "stderr",
       "text": [
        "WARNING:GHMM:forward returned -1: Sequence 2 cannot be build.\n"
       ]
      },
      {
       "output_type": "stream",
       "stream": "stderr",
       "text": [
        "GHMM ghmm.py:3746 - forward returned -1: Sequence 3 cannot be build.\n"
       ]
      },
      {
       "output_type": "stream",
       "stream": "stderr",
       "text": [
        "WARNING:GHMM:forward returned -1: Sequence 3 cannot be build.\n"
       ]
      },
      {
       "output_type": "stream",
       "stream": "stderr",
       "text": [
        "GHMM ghmm.py:3746 - forward returned -1: Sequence 4 cannot be build.\n"
       ]
      },
      {
       "output_type": "stream",
       "stream": "stderr",
       "text": [
        "WARNING:GHMM:forward returned -1: Sequence 4 cannot be build.\n"
       ]
      },
      {
       "output_type": "stream",
       "stream": "stderr",
       "text": [
        "GHMM ghmm.py:3746 - forward returned -1: Sequence 5 cannot be build.\n"
       ]
      },
      {
       "output_type": "stream",
       "stream": "stderr",
       "text": [
        "WARNING:GHMM:forward returned -1: Sequence 5 cannot be build.\n"
       ]
      },
      {
       "output_type": "stream",
       "stream": "stderr",
       "text": [
        "GHMM ghmm.py:3746 - forward returned -1: Sequence 6 cannot be build.\n"
       ]
      },
      {
       "output_type": "stream",
       "stream": "stderr",
       "text": [
        "WARNING:GHMM:forward returned -1: Sequence 6 cannot be build.\n"
       ]
      },
      {
       "output_type": "stream",
       "stream": "stderr",
       "text": [
        "GHMM ghmm.py:3746 - forward returned -1: Sequence 7 cannot be build.\n"
       ]
      },
      {
       "output_type": "stream",
       "stream": "stderr",
       "text": [
        "WARNING:GHMM:forward returned -1: Sequence 7 cannot be build.\n"
       ]
      },
      {
       "output_type": "stream",
       "stream": "stderr",
       "text": [
        "GHMM ghmm.py:3746 - forward returned -1: Sequence 8 cannot be build.\n"
       ]
      },
      {
       "output_type": "stream",
       "stream": "stderr",
       "text": [
        "WARNING:GHMM:forward returned -1: Sequence 8 cannot be build.\n"
       ]
      },
      {
       "output_type": "stream",
       "stream": "stderr",
       "text": [
        "GHMM ghmm.py:3746 - forward returned -1: Sequence 9 cannot be build.\n"
       ]
      },
      {
       "output_type": "stream",
       "stream": "stderr",
       "text": [
        "WARNING:GHMM:forward returned -1: Sequence 9 cannot be build.\n"
       ]
      },
      {
       "output_type": "stream",
       "stream": "stderr",
       "text": [
        "GHMM ghmm.py:3746 - forward returned -1: Sequence 10 cannot be build.\n"
       ]
      },
      {
       "output_type": "stream",
       "stream": "stderr",
       "text": [
        "WARNING:GHMM:forward returned -1: Sequence 10 cannot be build.\n"
       ]
      },
      {
       "output_type": "stream",
       "stream": "stderr",
       "text": [
        "GHMM ghmm.py:3746 - forward returned -1: Sequence 11 cannot be build.\n"
       ]
      },
      {
       "output_type": "stream",
       "stream": "stderr",
       "text": [
        "WARNING:GHMM:forward returned -1: Sequence 11 cannot be build.\n"
       ]
      },
      {
       "output_type": "stream",
       "stream": "stderr",
       "text": [
        "GHMM ghmm.py:3746 - forward returned -1: Sequence 0 cannot be build.\n"
       ]
      },
      {
       "output_type": "stream",
       "stream": "stderr",
       "text": [
        "WARNING:GHMM:forward returned -1: Sequence 0 cannot be build.\n"
       ]
      },
      {
       "output_type": "stream",
       "stream": "stderr",
       "text": [
        "GHMM ghmm.py:3746 - forward returned -1: Sequence 1 cannot be build.\n"
       ]
      },
      {
       "output_type": "stream",
       "stream": "stderr",
       "text": [
        "WARNING:GHMM:forward returned -1: Sequence 1 cannot be build.\n"
       ]
      },
      {
       "output_type": "stream",
       "stream": "stderr",
       "text": [
        "GHMM ghmm.py:3746 - forward returned -1: Sequence 2 cannot be build.\n"
       ]
      },
      {
       "output_type": "stream",
       "stream": "stderr",
       "text": [
        "WARNING:GHMM:forward returned -1: Sequence 2 cannot be build.\n"
       ]
      },
      {
       "output_type": "stream",
       "stream": "stderr",
       "text": [
        "GHMM ghmm.py:3746 - forward returned -1: Sequence 3 cannot be build.\n"
       ]
      },
      {
       "output_type": "stream",
       "stream": "stderr",
       "text": [
        "WARNING:GHMM:forward returned -1: Sequence 3 cannot be build.\n"
       ]
      },
      {
       "output_type": "stream",
       "stream": "stderr",
       "text": [
        "GHMM ghmm.py:3746 - forward returned -1: Sequence 4 cannot be build.\n"
       ]
      },
      {
       "output_type": "stream",
       "stream": "stderr",
       "text": [
        "WARNING:GHMM:forward returned -1: Sequence 4 cannot be build.\n"
       ]
      },
      {
       "output_type": "stream",
       "stream": "stderr",
       "text": [
        "GHMM ghmm.py:3746 - forward returned -1: Sequence 5 cannot be build.\n"
       ]
      },
      {
       "output_type": "stream",
       "stream": "stderr",
       "text": [
        "WARNING:GHMM:forward returned -1: Sequence 5 cannot be build.\n"
       ]
      },
      {
       "output_type": "stream",
       "stream": "stderr",
       "text": [
        "GHMM ghmm.py:3746 - forward returned -1: Sequence 6 cannot be build.\n"
       ]
      },
      {
       "output_type": "stream",
       "stream": "stderr",
       "text": [
        "WARNING:GHMM:forward returned -1: Sequence 6 cannot be build.\n"
       ]
      },
      {
       "output_type": "stream",
       "stream": "stderr",
       "text": [
        "GHMM ghmm.py:3746 - forward returned -1: Sequence 7 cannot be build.\n"
       ]
      },
      {
       "output_type": "stream",
       "stream": "stderr",
       "text": [
        "WARNING:GHMM:forward returned -1: Sequence 7 cannot be build.\n"
       ]
      },
      {
       "output_type": "stream",
       "stream": "stderr",
       "text": [
        "GHMM ghmm.py:3746 - forward returned -1: Sequence 8 cannot be build.\n"
       ]
      },
      {
       "output_type": "stream",
       "stream": "stderr",
       "text": [
        "WARNING:GHMM:forward returned -1: Sequence 8 cannot be build.\n"
       ]
      },
      {
       "output_type": "stream",
       "stream": "stderr",
       "text": [
        "GHMM ghmm.py:3746 - forward returned -1: Sequence 9 cannot be build.\n"
       ]
      },
      {
       "output_type": "stream",
       "stream": "stderr",
       "text": [
        "WARNING:GHMM:forward returned -1: Sequence 9 cannot be build.\n"
       ]
      },
      {
       "output_type": "stream",
       "stream": "stderr",
       "text": [
        "GHMM ghmm.py:3746 - forward returned -1: Sequence 10 cannot be build.\n"
       ]
      },
      {
       "output_type": "stream",
       "stream": "stderr",
       "text": [
        "WARNING:GHMM:forward returned -1: Sequence 10 cannot be build.\n"
       ]
      },
      {
       "output_type": "stream",
       "stream": "stderr",
       "text": [
        "GHMM ghmm.py:3746 - forward returned -1: Sequence 11 cannot be build.\n"
       ]
      },
      {
       "output_type": "stream",
       "stream": "stderr",
       "text": [
        "WARNING:GHMM:forward returned -1: Sequence 11 cannot be build.\n"
       ]
      },
      {
       "output_type": "stream",
       "stream": "stderr",
       "text": [
        "GHMM ghmm.py:148 - sreestimate.c:ghmm_cmodel_baum_welch(878): sreestimate_one_step false (1.step)\n"
       ]
      },
      {
       "output_type": "stream",
       "stream": "stderr",
       "text": [
        "WARNING:GHMM:sreestimate.c:ghmm_cmodel_baum_welch(878): sreestimate_one_step false (1.step)\n"
       ]
      },
      {
       "output_type": "stream",
       "stream": "stderr",
       "text": [
        "GHMM ghmm.py:3746 - forward returned -1: Sequence 1 cannot be build.\n"
       ]
      },
      {
       "output_type": "stream",
       "stream": "stderr",
       "text": [
        "WARNING:GHMM:forward returned -1: Sequence 1 cannot be build.\n"
       ]
      },
      {
       "output_type": "stream",
       "stream": "stderr",
       "text": [
        "GHMM ghmm.py:3746 - forward returned -1: Sequence 2 cannot be build.\n"
       ]
      },
      {
       "output_type": "stream",
       "stream": "stderr",
       "text": [
        "WARNING:GHMM:forward returned -1: Sequence 2 cannot be build.\n"
       ]
      },
      {
       "output_type": "stream",
       "stream": "stderr",
       "text": [
        "GHMM ghmm.py:3746 - forward returned -1: Sequence 3 cannot be build.\n"
       ]
      },
      {
       "output_type": "stream",
       "stream": "stderr",
       "text": [
        "WARNING:GHMM:forward returned -1: Sequence 3 cannot be build.\n"
       ]
      },
      {
       "output_type": "stream",
       "stream": "stderr",
       "text": [
        "GHMM ghmm.py:3746 - forward returned -1: Sequence 5 cannot be build.\n"
       ]
      },
      {
       "output_type": "stream",
       "stream": "stderr",
       "text": [
        "WARNING:GHMM:forward returned -1: Sequence 5 cannot be build.\n"
       ]
      },
      {
       "output_type": "stream",
       "stream": "stderr",
       "text": [
        "GHMM ghmm.py:3746 - forward returned -1: Sequence 8 cannot be build.\n"
       ]
      },
      {
       "output_type": "stream",
       "stream": "stderr",
       "text": [
        "WARNING:GHMM:forward returned -1: Sequence 8 cannot be build.\n"
       ]
      },
      {
       "output_type": "stream",
       "stream": "stderr",
       "text": [
        "GHMM ghmm.py:3746 - forward returned -1: Sequence 10 cannot be build.\n"
       ]
      },
      {
       "output_type": "stream",
       "stream": "stderr",
       "text": [
        "WARNING:GHMM:forward returned -1: Sequence 10 cannot be build.\n"
       ]
      },
      {
       "output_type": "stream",
       "stream": "stderr",
       "text": [
        "GHMM ghmm.py:3746 - forward returned -1: Sequence 1 cannot be build.\n"
       ]
      },
      {
       "output_type": "stream",
       "stream": "stderr",
       "text": [
        "WARNING:GHMM:forward returned -1: Sequence 1 cannot be build.\n"
       ]
      },
      {
       "output_type": "stream",
       "stream": "stderr",
       "text": [
        "GHMM ghmm.py:3746 - forward returned -1: Sequence 2 cannot be build.\n"
       ]
      },
      {
       "output_type": "stream",
       "stream": "stderr",
       "text": [
        "WARNING:GHMM:forward returned -1: Sequence 2 cannot be build.\n"
       ]
      },
      {
       "output_type": "stream",
       "stream": "stderr",
       "text": [
        "GHMM ghmm.py:3746 - forward returned -1: Sequence 3 cannot be build.\n"
       ]
      },
      {
       "output_type": "stream",
       "stream": "stderr",
       "text": [
        "WARNING:GHMM:forward returned -1: Sequence 3 cannot be build.\n"
       ]
      },
      {
       "output_type": "stream",
       "stream": "stderr",
       "text": [
        "GHMM ghmm.py:3746 - forward returned -1: Sequence 5 cannot be build.\n"
       ]
      },
      {
       "output_type": "stream",
       "stream": "stderr",
       "text": [
        "WARNING:GHMM:forward returned -1: Sequence 5 cannot be build.\n"
       ]
      },
      {
       "output_type": "stream",
       "stream": "stderr",
       "text": [
        "GHMM ghmm.py:3746 - forward returned -1: Sequence 8 cannot be build.\n"
       ]
      },
      {
       "output_type": "stream",
       "stream": "stderr",
       "text": [
        "WARNING:GHMM:forward returned -1: Sequence 8 cannot be build.\n"
       ]
      },
      {
       "output_type": "stream",
       "stream": "stderr",
       "text": [
        "GHMM ghmm.py:3746 - forward returned -1: Sequence 10 cannot be build.\n"
       ]
      },
      {
       "output_type": "stream",
       "stream": "stderr",
       "text": [
        "WARNING:GHMM:forward returned -1: Sequence 10 cannot be build.\n"
       ]
      },
      {
       "output_type": "stream",
       "stream": "stderr",
       "text": [
        "GHMM ghmm.py:3746 - forward returned -1: Sequence 1 cannot be build.\n"
       ]
      },
      {
       "output_type": "stream",
       "stream": "stderr",
       "text": [
        "WARNING:GHMM:forward returned -1: Sequence 1 cannot be build.\n"
       ]
      },
      {
       "output_type": "stream",
       "stream": "stderr",
       "text": [
        "GHMM ghmm.py:3746 - forward returned -1: Sequence 2 cannot be build.\n"
       ]
      },
      {
       "output_type": "stream",
       "stream": "stderr",
       "text": [
        "WARNING:GHMM:forward returned -1: Sequence 2 cannot be build.\n"
       ]
      },
      {
       "output_type": "stream",
       "stream": "stderr",
       "text": [
        "GHMM ghmm.py:3746 - forward returned -1: Sequence 3 cannot be build.\n"
       ]
      },
      {
       "output_type": "stream",
       "stream": "stderr",
       "text": [
        "WARNING:GHMM:forward returned -1: Sequence 3 cannot be build.\n"
       ]
      },
      {
       "output_type": "stream",
       "stream": "stderr",
       "text": [
        "GHMM ghmm.py:3746 - forward returned -1: Sequence 5 cannot be build.\n"
       ]
      },
      {
       "output_type": "stream",
       "stream": "stderr",
       "text": [
        "WARNING:GHMM:forward returned -1: Sequence 5 cannot be build.\n"
       ]
      },
      {
       "output_type": "stream",
       "stream": "stderr",
       "text": [
        "GHMM ghmm.py:3746 - forward returned -1: Sequence 8 cannot be build.\n"
       ]
      },
      {
       "output_type": "stream",
       "stream": "stderr",
       "text": [
        "WARNING:GHMM:forward returned -1: Sequence 8 cannot be build.\n"
       ]
      },
      {
       "output_type": "stream",
       "stream": "stderr",
       "text": [
        "GHMM ghmm.py:3746 - forward returned -1: Sequence 10 cannot be build.\n"
       ]
      },
      {
       "output_type": "stream",
       "stream": "stderr",
       "text": [
        "WARNING:GHMM:forward returned -1: Sequence 10 cannot be build.\n"
       ]
      },
      {
       "output_type": "stream",
       "stream": "stderr",
       "text": [
        "GHMM ghmm.py:148 - sreestimate.c:ghmm_cmodel_baum_welch(878): sreestimate_one_step false (1.step)\n"
       ]
      },
      {
       "output_type": "stream",
       "stream": "stderr",
       "text": [
        "WARNING:GHMM:sreestimate.c:ghmm_cmodel_baum_welch(878): sreestimate_one_step false (1.step)\n"
       ]
      },
      {
       "output_type": "stream",
       "stream": "stderr",
       "text": [
        "GHMM ghmm.py:3746 - forward returned -1: Sequence 0 cannot be build.\n"
       ]
      },
      {
       "output_type": "stream",
       "stream": "stderr",
       "text": [
        "WARNING:GHMM:forward returned -1: Sequence 0 cannot be build.\n"
       ]
      },
      {
       "output_type": "stream",
       "stream": "stderr",
       "text": [
        "GHMM ghmm.py:3746 - forward returned -1: Sequence 1 cannot be build.\n"
       ]
      },
      {
       "output_type": "stream",
       "stream": "stderr",
       "text": [
        "WARNING:GHMM:forward returned -1: Sequence 1 cannot be build.\n"
       ]
      },
      {
       "output_type": "stream",
       "stream": "stderr",
       "text": [
        "GHMM ghmm.py:3746 - forward returned -1: Sequence 2 cannot be build.\n"
       ]
      },
      {
       "output_type": "stream",
       "stream": "stderr",
       "text": [
        "WARNING:GHMM:forward returned -1: Sequence 2 cannot be build.\n"
       ]
      },
      {
       "output_type": "stream",
       "stream": "stderr",
       "text": [
        "GHMM ghmm.py:3746 - forward returned -1: Sequence 3 cannot be build.\n"
       ]
      },
      {
       "output_type": "stream",
       "stream": "stderr",
       "text": [
        "WARNING:GHMM:forward returned -1: Sequence 3 cannot be build.\n"
       ]
      },
      {
       "output_type": "stream",
       "stream": "stderr",
       "text": [
        "GHMM ghmm.py:3746 - forward returned -1: Sequence 4 cannot be build.\n"
       ]
      },
      {
       "output_type": "stream",
       "stream": "stderr",
       "text": [
        "WARNING:GHMM:forward returned -1: Sequence 4 cannot be build.\n"
       ]
      },
      {
       "output_type": "stream",
       "stream": "stderr",
       "text": [
        "GHMM ghmm.py:3746 - forward returned -1: Sequence 5 cannot be build.\n"
       ]
      },
      {
       "output_type": "stream",
       "stream": "stderr",
       "text": [
        "WARNING:GHMM:forward returned -1: Sequence 5 cannot be build.\n"
       ]
      },
      {
       "output_type": "stream",
       "stream": "stderr",
       "text": [
        "GHMM ghmm.py:3746 - forward returned -1: Sequence 6 cannot be build.\n"
       ]
      },
      {
       "output_type": "stream",
       "stream": "stderr",
       "text": [
        "WARNING:GHMM:forward returned -1: Sequence 6 cannot be build.\n"
       ]
      },
      {
       "output_type": "stream",
       "stream": "stderr",
       "text": [
        "GHMM ghmm.py:3746 - forward returned -1: Sequence 7 cannot be build.\n"
       ]
      },
      {
       "output_type": "stream",
       "stream": "stderr",
       "text": [
        "WARNING:GHMM:forward returned -1: Sequence 7 cannot be build.\n"
       ]
      },
      {
       "output_type": "stream",
       "stream": "stderr",
       "text": [
        "GHMM ghmm.py:3746 - forward returned -1: Sequence 8 cannot be build.\n"
       ]
      },
      {
       "output_type": "stream",
       "stream": "stderr",
       "text": [
        "WARNING:GHMM:forward returned -1: Sequence 8 cannot be build.\n"
       ]
      },
      {
       "output_type": "stream",
       "stream": "stderr",
       "text": [
        "GHMM ghmm.py:3746 - forward returned -1: Sequence 9 cannot be build.\n"
       ]
      },
      {
       "output_type": "stream",
       "stream": "stderr",
       "text": [
        "WARNING:GHMM:forward returned -1: Sequence 9 cannot be build.\n"
       ]
      },
      {
       "output_type": "stream",
       "stream": "stderr",
       "text": [
        "GHMM ghmm.py:3746 - forward returned -1: Sequence 10 cannot be build.\n"
       ]
      },
      {
       "output_type": "stream",
       "stream": "stderr",
       "text": [
        "WARNING:GHMM:forward returned -1: Sequence 10 cannot be build.\n"
       ]
      },
      {
       "output_type": "stream",
       "stream": "stderr",
       "text": [
        "GHMM ghmm.py:3746 - forward returned -1: Sequence 11 cannot be build.\n"
       ]
      },
      {
       "output_type": "stream",
       "stream": "stderr",
       "text": [
        "WARNING:GHMM:forward returned -1: Sequence 11 cannot be build.\n"
       ]
      },
      {
       "output_type": "stream",
       "stream": "stderr",
       "text": [
        "GHMM ghmm.py:3746 - forward returned -1: Sequence 0 cannot be build.\n"
       ]
      },
      {
       "output_type": "stream",
       "stream": "stderr",
       "text": [
        "WARNING:GHMM:forward returned -1: Sequence 0 cannot be build.\n"
       ]
      },
      {
       "output_type": "stream",
       "stream": "stderr",
       "text": [
        "GHMM ghmm.py:3746 - forward returned -1: Sequence 1 cannot be build.\n"
       ]
      },
      {
       "output_type": "stream",
       "stream": "stderr",
       "text": [
        "WARNING:GHMM:forward returned -1: Sequence 1 cannot be build.\n"
       ]
      },
      {
       "output_type": "stream",
       "stream": "stderr",
       "text": [
        "GHMM ghmm.py:3746 - forward returned -1: Sequence 2 cannot be build.\n"
       ]
      },
      {
       "output_type": "stream",
       "stream": "stderr",
       "text": [
        "WARNING:GHMM:forward returned -1: Sequence 2 cannot be build.\n"
       ]
      },
      {
       "output_type": "stream",
       "stream": "stderr",
       "text": [
        "GHMM ghmm.py:3746 - forward returned -1: Sequence 3 cannot be build.\n"
       ]
      },
      {
       "output_type": "stream",
       "stream": "stderr",
       "text": [
        "WARNING:GHMM:forward returned -1: Sequence 3 cannot be build.\n"
       ]
      },
      {
       "output_type": "stream",
       "stream": "stderr",
       "text": [
        "GHMM ghmm.py:3746 - forward returned -1: Sequence 4 cannot be build.\n"
       ]
      },
      {
       "output_type": "stream",
       "stream": "stderr",
       "text": [
        "WARNING:GHMM:forward returned -1: Sequence 4 cannot be build.\n"
       ]
      },
      {
       "output_type": "stream",
       "stream": "stderr",
       "text": [
        "GHMM ghmm.py:3746 - forward returned -1: Sequence 5 cannot be build.\n"
       ]
      },
      {
       "output_type": "stream",
       "stream": "stderr",
       "text": [
        "WARNING:GHMM:forward returned -1: Sequence 5 cannot be build.\n"
       ]
      },
      {
       "output_type": "stream",
       "stream": "stderr",
       "text": [
        "GHMM ghmm.py:3746 - forward returned -1: Sequence 6 cannot be build.\n"
       ]
      },
      {
       "output_type": "stream",
       "stream": "stderr",
       "text": [
        "WARNING:GHMM:forward returned -1: Sequence 6 cannot be build.\n"
       ]
      },
      {
       "output_type": "stream",
       "stream": "stderr",
       "text": [
        "GHMM ghmm.py:3746 - forward returned -1: Sequence 7 cannot be build.\n"
       ]
      },
      {
       "output_type": "stream",
       "stream": "stderr",
       "text": [
        "WARNING:GHMM:forward returned -1: Sequence 7 cannot be build.\n"
       ]
      },
      {
       "output_type": "stream",
       "stream": "stderr",
       "text": [
        "GHMM ghmm.py:3746 - forward returned -1: Sequence 8 cannot be build.\n"
       ]
      },
      {
       "output_type": "stream",
       "stream": "stderr",
       "text": [
        "WARNING:GHMM:forward returned -1: Sequence 8 cannot be build.\n"
       ]
      },
      {
       "output_type": "stream",
       "stream": "stderr",
       "text": [
        "GHMM ghmm.py:3746 - forward returned -1: Sequence 9 cannot be build.\n"
       ]
      },
      {
       "output_type": "stream",
       "stream": "stderr",
       "text": [
        "WARNING:GHMM:forward returned -1: Sequence 9 cannot be build.\n"
       ]
      },
      {
       "output_type": "stream",
       "stream": "stderr",
       "text": [
        "GHMM ghmm.py:3746 - forward returned -1: Sequence 10 cannot be build.\n"
       ]
      },
      {
       "output_type": "stream",
       "stream": "stderr",
       "text": [
        "WARNING:GHMM:forward returned -1: Sequence 10 cannot be build.\n"
       ]
      },
      {
       "output_type": "stream",
       "stream": "stderr",
       "text": [
        "GHMM ghmm.py:3746 - forward returned -1: Sequence 11 cannot be build.\n"
       ]
      },
      {
       "output_type": "stream",
       "stream": "stderr",
       "text": [
        "WARNING:GHMM:forward returned -1: Sequence 11 cannot be build.\n"
       ]
      },
      {
       "output_type": "stream",
       "stream": "stderr",
       "text": [
        "GHMM ghmm.py:3746 - forward returned -1: Sequence 0 cannot be build.\n"
       ]
      },
      {
       "output_type": "stream",
       "stream": "stderr",
       "text": [
        "WARNING:GHMM:forward returned -1: Sequence 0 cannot be build.\n"
       ]
      },
      {
       "output_type": "stream",
       "stream": "stderr",
       "text": [
        "GHMM ghmm.py:3746 - forward returned -1: Sequence 1 cannot be build.\n"
       ]
      },
      {
       "output_type": "stream",
       "stream": "stderr",
       "text": [
        "WARNING:GHMM:forward returned -1: Sequence 1 cannot be build.\n"
       ]
      },
      {
       "output_type": "stream",
       "stream": "stderr",
       "text": [
        "GHMM ghmm.py:3746 - forward returned -1: Sequence 2 cannot be build.\n"
       ]
      },
      {
       "output_type": "stream",
       "stream": "stderr",
       "text": [
        "WARNING:GHMM:forward returned -1: Sequence 2 cannot be build.\n"
       ]
      },
      {
       "output_type": "stream",
       "stream": "stderr",
       "text": [
        "GHMM ghmm.py:3746 - forward returned -1: Sequence 3 cannot be build.\n"
       ]
      },
      {
       "output_type": "stream",
       "stream": "stderr",
       "text": [
        "WARNING:GHMM:forward returned -1: Sequence 3 cannot be build.\n"
       ]
      },
      {
       "output_type": "stream",
       "stream": "stderr",
       "text": [
        "GHMM ghmm.py:3746 - forward returned -1: Sequence 4 cannot be build.\n"
       ]
      },
      {
       "output_type": "stream",
       "stream": "stderr",
       "text": [
        "WARNING:GHMM:forward returned -1: Sequence 4 cannot be build.\n"
       ]
      },
      {
       "output_type": "stream",
       "stream": "stderr",
       "text": [
        "GHMM ghmm.py:3746 - forward returned -1: Sequence 5 cannot be build.\n"
       ]
      },
      {
       "output_type": "stream",
       "stream": "stderr",
       "text": [
        "WARNING:GHMM:forward returned -1: Sequence 5 cannot be build.\n"
       ]
      },
      {
       "output_type": "stream",
       "stream": "stderr",
       "text": [
        "GHMM ghmm.py:3746 - forward returned -1: Sequence 6 cannot be build.\n"
       ]
      },
      {
       "output_type": "stream",
       "stream": "stderr",
       "text": [
        "WARNING:GHMM:forward returned -1: Sequence 6 cannot be build.\n"
       ]
      },
      {
       "output_type": "stream",
       "stream": "stderr",
       "text": [
        "GHMM ghmm.py:3746 - forward returned -1: Sequence 7 cannot be build.\n"
       ]
      },
      {
       "output_type": "stream",
       "stream": "stderr",
       "text": [
        "WARNING:GHMM:forward returned -1: Sequence 7 cannot be build.\n"
       ]
      },
      {
       "output_type": "stream",
       "stream": "stderr",
       "text": [
        "GHMM ghmm.py:3746 - forward returned -1: Sequence 8 cannot be build.\n"
       ]
      },
      {
       "output_type": "stream",
       "stream": "stderr",
       "text": [
        "WARNING:GHMM:forward returned -1: Sequence 8 cannot be build.\n"
       ]
      },
      {
       "output_type": "stream",
       "stream": "stderr",
       "text": [
        "GHMM ghmm.py:3746 - forward returned -1: Sequence 9 cannot be build.\n"
       ]
      },
      {
       "output_type": "stream",
       "stream": "stderr",
       "text": [
        "WARNING:GHMM:forward returned -1: Sequence 9 cannot be build.\n"
       ]
      },
      {
       "output_type": "stream",
       "stream": "stderr",
       "text": [
        "GHMM ghmm.py:3746 - forward returned -1: Sequence 10 cannot be build.\n"
       ]
      },
      {
       "output_type": "stream",
       "stream": "stderr",
       "text": [
        "WARNING:GHMM:forward returned -1: Sequence 10 cannot be build.\n"
       ]
      },
      {
       "output_type": "stream",
       "stream": "stderr",
       "text": [
        "GHMM ghmm.py:3746 - forward returned -1: Sequence 11 cannot be build.\n"
       ]
      },
      {
       "output_type": "stream",
       "stream": "stderr",
       "text": [
        "WARNING:GHMM:forward returned -1: Sequence 11 cannot be build.\n"
       ]
      },
      {
       "output_type": "stream",
       "stream": "stderr",
       "text": [
        "GHMM ghmm.py:148 - sreestimate.c:ghmm_cmodel_baum_welch(878): sreestimate_one_step false (1.step)\n"
       ]
      },
      {
       "output_type": "stream",
       "stream": "stderr",
       "text": [
        "WARNING:GHMM:sreestimate.c:ghmm_cmodel_baum_welch(878): sreestimate_one_step false (1.step)\n"
       ]
      },
      {
       "output_type": "stream",
       "stream": "stderr",
       "text": [
        "GHMM ghmm.py:3746 - forward returned -1: Sequence 1 cannot be build.\n"
       ]
      },
      {
       "output_type": "stream",
       "stream": "stderr",
       "text": [
        "WARNING:GHMM:forward returned -1: Sequence 1 cannot be build.\n"
       ]
      },
      {
       "output_type": "stream",
       "stream": "stderr",
       "text": [
        "GHMM ghmm.py:3746 - forward returned -1: Sequence 2 cannot be build.\n"
       ]
      },
      {
       "output_type": "stream",
       "stream": "stderr",
       "text": [
        "WARNING:GHMM:forward returned -1: Sequence 2 cannot be build.\n"
       ]
      },
      {
       "output_type": "stream",
       "stream": "stderr",
       "text": [
        "GHMM ghmm.py:3746 - forward returned -1: Sequence 3 cannot be build.\n"
       ]
      },
      {
       "output_type": "stream",
       "stream": "stderr",
       "text": [
        "WARNING:GHMM:forward returned -1: Sequence 3 cannot be build.\n"
       ]
      },
      {
       "output_type": "stream",
       "stream": "stderr",
       "text": [
        "GHMM ghmm.py:3746 - forward returned -1: Sequence 5 cannot be build.\n"
       ]
      },
      {
       "output_type": "stream",
       "stream": "stderr",
       "text": [
        "WARNING:GHMM:forward returned -1: Sequence 5 cannot be build.\n"
       ]
      },
      {
       "output_type": "stream",
       "stream": "stderr",
       "text": [
        "GHMM ghmm.py:3746 - forward returned -1: Sequence 8 cannot be build.\n"
       ]
      },
      {
       "output_type": "stream",
       "stream": "stderr",
       "text": [
        "WARNING:GHMM:forward returned -1: Sequence 8 cannot be build.\n"
       ]
      },
      {
       "output_type": "stream",
       "stream": "stderr",
       "text": [
        "GHMM ghmm.py:3746 - forward returned -1: Sequence 10 cannot be build.\n"
       ]
      },
      {
       "output_type": "stream",
       "stream": "stderr",
       "text": [
        "WARNING:GHMM:forward returned -1: Sequence 10 cannot be build.\n"
       ]
      },
      {
       "output_type": "stream",
       "stream": "stderr",
       "text": [
        "GHMM ghmm.py:3746 - forward returned -1: Sequence 1 cannot be build.\n"
       ]
      },
      {
       "output_type": "stream",
       "stream": "stderr",
       "text": [
        "WARNING:GHMM:forward returned -1: Sequence 1 cannot be build.\n"
       ]
      },
      {
       "output_type": "stream",
       "stream": "stderr",
       "text": [
        "GHMM ghmm.py:3746 - forward returned -1: Sequence 2 cannot be build.\n"
       ]
      },
      {
       "output_type": "stream",
       "stream": "stderr",
       "text": [
        "WARNING:GHMM:forward returned -1: Sequence 2 cannot be build.\n"
       ]
      },
      {
       "output_type": "stream",
       "stream": "stderr",
       "text": [
        "GHMM ghmm.py:3746 - forward returned -1: Sequence 3 cannot be build.\n"
       ]
      },
      {
       "output_type": "stream",
       "stream": "stderr",
       "text": [
        "WARNING:GHMM:forward returned -1: Sequence 3 cannot be build.\n"
       ]
      },
      {
       "output_type": "stream",
       "stream": "stderr",
       "text": [
        "GHMM ghmm.py:3746 - forward returned -1: Sequence 5 cannot be build.\n"
       ]
      },
      {
       "output_type": "stream",
       "stream": "stderr",
       "text": [
        "WARNING:GHMM:forward returned -1: Sequence 5 cannot be build.\n"
       ]
      },
      {
       "output_type": "stream",
       "stream": "stderr",
       "text": [
        "GHMM ghmm.py:3746 - forward returned -1: Sequence 8 cannot be build.\n"
       ]
      },
      {
       "output_type": "stream",
       "stream": "stderr",
       "text": [
        "WARNING:GHMM:forward returned -1: Sequence 8 cannot be build.\n"
       ]
      },
      {
       "output_type": "stream",
       "stream": "stderr",
       "text": [
        "GHMM ghmm.py:3746 - forward returned -1: Sequence 10 cannot be build.\n"
       ]
      },
      {
       "output_type": "stream",
       "stream": "stderr",
       "text": [
        "WARNING:GHMM:forward returned -1: Sequence 10 cannot be build.\n"
       ]
      },
      {
       "output_type": "stream",
       "stream": "stderr",
       "text": [
        "GHMM ghmm.py:3746 - forward returned -1: Sequence 1 cannot be build.\n"
       ]
      },
      {
       "output_type": "stream",
       "stream": "stderr",
       "text": [
        "WARNING:GHMM:forward returned -1: Sequence 1 cannot be build.\n"
       ]
      },
      {
       "output_type": "stream",
       "stream": "stderr",
       "text": [
        "GHMM ghmm.py:3746 - forward returned -1: Sequence 2 cannot be build.\n"
       ]
      },
      {
       "output_type": "stream",
       "stream": "stderr",
       "text": [
        "WARNING:GHMM:forward returned -1: Sequence 2 cannot be build.\n"
       ]
      },
      {
       "output_type": "stream",
       "stream": "stderr",
       "text": [
        "GHMM ghmm.py:3746 - forward returned -1: Sequence 3 cannot be build.\n"
       ]
      },
      {
       "output_type": "stream",
       "stream": "stderr",
       "text": [
        "WARNING:GHMM:forward returned -1: Sequence 3 cannot be build.\n"
       ]
      },
      {
       "output_type": "stream",
       "stream": "stderr",
       "text": [
        "GHMM ghmm.py:3746 - forward returned -1: Sequence 5 cannot be build.\n"
       ]
      },
      {
       "output_type": "stream",
       "stream": "stderr",
       "text": [
        "WARNING:GHMM:forward returned -1: Sequence 5 cannot be build.\n"
       ]
      },
      {
       "output_type": "stream",
       "stream": "stderr",
       "text": [
        "GHMM ghmm.py:3746 - forward returned -1: Sequence 8 cannot be build.\n"
       ]
      },
      {
       "output_type": "stream",
       "stream": "stderr",
       "text": [
        "WARNING:GHMM:forward returned -1: Sequence 8 cannot be build.\n"
       ]
      },
      {
       "output_type": "stream",
       "stream": "stderr",
       "text": [
        "GHMM ghmm.py:3746 - forward returned -1: Sequence 10 cannot be build.\n"
       ]
      },
      {
       "output_type": "stream",
       "stream": "stderr",
       "text": [
        "WARNING:GHMM:forward returned -1: Sequence 10 cannot be build.\n"
       ]
      },
      {
       "output_type": "stream",
       "stream": "stderr",
       "text": [
        "GHMM ghmm.py:148 - sreestimate.c:ghmm_cmodel_baum_welch(898): NO convergence: log P(-2.462261e+04) < log P-old(-7.482007e+03)! (n = 2)\n"
       ]
      },
      {
       "output_type": "stream",
       "stream": "stderr",
       "text": [
        "WARNING:GHMM:sreestimate.c:ghmm_cmodel_baum_welch(898): NO convergence: log P(-2.462261e+04) < log P-old(-7.482007e+03)! (n = 2)\n"
       ]
      },
      {
       "output_type": "stream",
       "stream": "stderr",
       "text": [
        "GHMM ghmm.py:148 - sreestimate.c:ghmm_cmodel_baum_welch(878): sreestimate_one_step false (1.step)\n"
       ]
      },
      {
       "output_type": "stream",
       "stream": "stderr",
       "text": [
        "WARNING:GHMM:sreestimate.c:ghmm_cmodel_baum_welch(878): sreestimate_one_step false (1.step)\n"
       ]
      },
      {
       "output_type": "stream",
       "stream": "stderr",
       "text": [
        "GHMM ghmm.py:3746 - forward returned -1: Sequence 0 cannot be build.\n"
       ]
      },
      {
       "output_type": "stream",
       "stream": "stderr",
       "text": [
        "WARNING:GHMM:forward returned -1: Sequence 0 cannot be build.\n"
       ]
      },
      {
       "output_type": "stream",
       "stream": "stderr",
       "text": [
        "GHMM ghmm.py:3746 - forward returned -1: Sequence 1 cannot be build.\n"
       ]
      },
      {
       "output_type": "stream",
       "stream": "stderr",
       "text": [
        "WARNING:GHMM:forward returned -1: Sequence 1 cannot be build.\n"
       ]
      },
      {
       "output_type": "stream",
       "stream": "stderr",
       "text": [
        "GHMM ghmm.py:3746 - forward returned -1: Sequence 2 cannot be build.\n"
       ]
      },
      {
       "output_type": "stream",
       "stream": "stderr",
       "text": [
        "WARNING:GHMM:forward returned -1: Sequence 2 cannot be build.\n"
       ]
      },
      {
       "output_type": "stream",
       "stream": "stderr",
       "text": [
        "GHMM ghmm.py:3746 - forward returned -1: Sequence 3 cannot be build.\n"
       ]
      },
      {
       "output_type": "stream",
       "stream": "stderr",
       "text": [
        "WARNING:GHMM:forward returned -1: Sequence 3 cannot be build.\n"
       ]
      },
      {
       "output_type": "stream",
       "stream": "stderr",
       "text": [
        "GHMM ghmm.py:3746 - forward returned -1: Sequence 4 cannot be build.\n"
       ]
      },
      {
       "output_type": "stream",
       "stream": "stderr",
       "text": [
        "WARNING:GHMM:forward returned -1: Sequence 4 cannot be build.\n"
       ]
      },
      {
       "output_type": "stream",
       "stream": "stderr",
       "text": [
        "GHMM ghmm.py:3746 - forward returned -1: Sequence 5 cannot be build.\n"
       ]
      },
      {
       "output_type": "stream",
       "stream": "stderr",
       "text": [
        "WARNING:GHMM:forward returned -1: Sequence 5 cannot be build.\n"
       ]
      },
      {
       "output_type": "stream",
       "stream": "stderr",
       "text": [
        "GHMM ghmm.py:3746 - forward returned -1: Sequence 6 cannot be build.\n"
       ]
      },
      {
       "output_type": "stream",
       "stream": "stderr",
       "text": [
        "WARNING:GHMM:forward returned -1: Sequence 6 cannot be build.\n"
       ]
      },
      {
       "output_type": "stream",
       "stream": "stderr",
       "text": [
        "GHMM ghmm.py:3746 - forward returned -1: Sequence 7 cannot be build.\n"
       ]
      },
      {
       "output_type": "stream",
       "stream": "stderr",
       "text": [
        "WARNING:GHMM:forward returned -1: Sequence 7 cannot be build.\n"
       ]
      },
      {
       "output_type": "stream",
       "stream": "stderr",
       "text": [
        "GHMM ghmm.py:3746 - forward returned -1: Sequence 8 cannot be build.\n"
       ]
      },
      {
       "output_type": "stream",
       "stream": "stderr",
       "text": [
        "WARNING:GHMM:forward returned -1: Sequence 8 cannot be build.\n"
       ]
      },
      {
       "output_type": "stream",
       "stream": "stderr",
       "text": [
        "GHMM ghmm.py:3746 - forward returned -1: Sequence 9 cannot be build.\n"
       ]
      },
      {
       "output_type": "stream",
       "stream": "stderr",
       "text": [
        "WARNING:GHMM:forward returned -1: Sequence 9 cannot be build.\n"
       ]
      },
      {
       "output_type": "stream",
       "stream": "stderr",
       "text": [
        "GHMM ghmm.py:3746 - forward returned -1: Sequence 10 cannot be build.\n"
       ]
      },
      {
       "output_type": "stream",
       "stream": "stderr",
       "text": [
        "WARNING:GHMM:forward returned -1: Sequence 10 cannot be build.\n"
       ]
      },
      {
       "output_type": "stream",
       "stream": "stderr",
       "text": [
        "GHMM ghmm.py:3746 - forward returned -1: Sequence 11 cannot be build.\n"
       ]
      },
      {
       "output_type": "stream",
       "stream": "stderr",
       "text": [
        "WARNING:GHMM:forward returned -1: Sequence 11 cannot be build.\n"
       ]
      },
      {
       "output_type": "stream",
       "stream": "stderr",
       "text": [
        "GHMM ghmm.py:3746 - forward returned -1: Sequence 0 cannot be build.\n"
       ]
      },
      {
       "output_type": "stream",
       "stream": "stderr",
       "text": [
        "WARNING:GHMM:forward returned -1: Sequence 0 cannot be build.\n"
       ]
      },
      {
       "output_type": "stream",
       "stream": "stderr",
       "text": [
        "GHMM ghmm.py:3746 - forward returned -1: Sequence 1 cannot be build.\n"
       ]
      },
      {
       "output_type": "stream",
       "stream": "stderr",
       "text": [
        "WARNING:GHMM:forward returned -1: Sequence 1 cannot be build.\n"
       ]
      },
      {
       "output_type": "stream",
       "stream": "stderr",
       "text": [
        "GHMM ghmm.py:3746 - forward returned -1: Sequence 2 cannot be build.\n"
       ]
      },
      {
       "output_type": "stream",
       "stream": "stderr",
       "text": [
        "WARNING:GHMM:forward returned -1: Sequence 2 cannot be build.\n"
       ]
      },
      {
       "output_type": "stream",
       "stream": "stderr",
       "text": [
        "GHMM ghmm.py:3746 - forward returned -1: Sequence 3 cannot be build.\n"
       ]
      },
      {
       "output_type": "stream",
       "stream": "stderr",
       "text": [
        "WARNING:GHMM:forward returned -1: Sequence 3 cannot be build.\n"
       ]
      },
      {
       "output_type": "stream",
       "stream": "stderr",
       "text": [
        "GHMM ghmm.py:3746 - forward returned -1: Sequence 4 cannot be build.\n"
       ]
      },
      {
       "output_type": "stream",
       "stream": "stderr",
       "text": [
        "WARNING:GHMM:forward returned -1: Sequence 4 cannot be build.\n"
       ]
      },
      {
       "output_type": "stream",
       "stream": "stderr",
       "text": [
        "GHMM ghmm.py:3746 - forward returned -1: Sequence 5 cannot be build.\n"
       ]
      },
      {
       "output_type": "stream",
       "stream": "stderr",
       "text": [
        "WARNING:GHMM:forward returned -1: Sequence 5 cannot be build.\n"
       ]
      },
      {
       "output_type": "stream",
       "stream": "stderr",
       "text": [
        "GHMM ghmm.py:3746 - forward returned -1: Sequence 6 cannot be build.\n"
       ]
      },
      {
       "output_type": "stream",
       "stream": "stderr",
       "text": [
        "WARNING:GHMM:forward returned -1: Sequence 6 cannot be build.\n"
       ]
      },
      {
       "output_type": "stream",
       "stream": "stderr",
       "text": [
        "GHMM ghmm.py:3746 - forward returned -1: Sequence 7 cannot be build.\n"
       ]
      },
      {
       "output_type": "stream",
       "stream": "stderr",
       "text": [
        "WARNING:GHMM:forward returned -1: Sequence 7 cannot be build.\n"
       ]
      },
      {
       "output_type": "stream",
       "stream": "stderr",
       "text": [
        "GHMM ghmm.py:3746 - forward returned -1: Sequence 8 cannot be build.\n"
       ]
      },
      {
       "output_type": "stream",
       "stream": "stderr",
       "text": [
        "WARNING:GHMM:forward returned -1: Sequence 8 cannot be build.\n"
       ]
      },
      {
       "output_type": "stream",
       "stream": "stderr",
       "text": [
        "GHMM ghmm.py:3746 - forward returned -1: Sequence 9 cannot be build.\n"
       ]
      },
      {
       "output_type": "stream",
       "stream": "stderr",
       "text": [
        "WARNING:GHMM:forward returned -1: Sequence 9 cannot be build.\n"
       ]
      },
      {
       "output_type": "stream",
       "stream": "stderr",
       "text": [
        "GHMM ghmm.py:3746 - forward returned -1: Sequence 10 cannot be build.\n"
       ]
      },
      {
       "output_type": "stream",
       "stream": "stderr",
       "text": [
        "WARNING:GHMM:forward returned -1: Sequence 10 cannot be build.\n"
       ]
      },
      {
       "output_type": "stream",
       "stream": "stderr",
       "text": [
        "GHMM ghmm.py:3746 - forward returned -1: Sequence 11 cannot be build.\n"
       ]
      },
      {
       "output_type": "stream",
       "stream": "stderr",
       "text": [
        "WARNING:GHMM:forward returned -1: Sequence 11 cannot be build.\n"
       ]
      },
      {
       "output_type": "stream",
       "stream": "stderr",
       "text": [
        "GHMM ghmm.py:3746 - forward returned -1: Sequence 0 cannot be build.\n"
       ]
      },
      {
       "output_type": "stream",
       "stream": "stderr",
       "text": [
        "WARNING:GHMM:forward returned -1: Sequence 0 cannot be build.\n"
       ]
      },
      {
       "output_type": "stream",
       "stream": "stderr",
       "text": [
        "GHMM ghmm.py:3746 - forward returned -1: Sequence 1 cannot be build.\n"
       ]
      },
      {
       "output_type": "stream",
       "stream": "stderr",
       "text": [
        "WARNING:GHMM:forward returned -1: Sequence 1 cannot be build.\n"
       ]
      },
      {
       "output_type": "stream",
       "stream": "stderr",
       "text": [
        "GHMM ghmm.py:3746 - forward returned -1: Sequence 2 cannot be build.\n"
       ]
      },
      {
       "output_type": "stream",
       "stream": "stderr",
       "text": [
        "WARNING:GHMM:forward returned -1: Sequence 2 cannot be build.\n"
       ]
      },
      {
       "output_type": "stream",
       "stream": "stderr",
       "text": [
        "GHMM ghmm.py:3746 - forward returned -1: Sequence 3 cannot be build.\n"
       ]
      },
      {
       "output_type": "stream",
       "stream": "stderr",
       "text": [
        "WARNING:GHMM:forward returned -1: Sequence 3 cannot be build.\n"
       ]
      },
      {
       "output_type": "stream",
       "stream": "stderr",
       "text": [
        "GHMM ghmm.py:3746 - forward returned -1: Sequence 4 cannot be build.\n"
       ]
      },
      {
       "output_type": "stream",
       "stream": "stderr",
       "text": [
        "WARNING:GHMM:forward returned -1: Sequence 4 cannot be build.\n"
       ]
      },
      {
       "output_type": "stream",
       "stream": "stderr",
       "text": [
        "GHMM ghmm.py:3746 - forward returned -1: Sequence 5 cannot be build.\n"
       ]
      },
      {
       "output_type": "stream",
       "stream": "stderr",
       "text": [
        "WARNING:GHMM:forward returned -1: Sequence 5 cannot be build.\n"
       ]
      },
      {
       "output_type": "stream",
       "stream": "stderr",
       "text": [
        "GHMM ghmm.py:3746 - forward returned -1: Sequence 6 cannot be build.\n"
       ]
      },
      {
       "output_type": "stream",
       "stream": "stderr",
       "text": [
        "WARNING:GHMM:forward returned -1: Sequence 6 cannot be build.\n"
       ]
      },
      {
       "output_type": "stream",
       "stream": "stderr",
       "text": [
        "GHMM ghmm.py:3746 - forward returned -1: Sequence 7 cannot be build.\n"
       ]
      },
      {
       "output_type": "stream",
       "stream": "stderr",
       "text": [
        "WARNING:GHMM:forward returned -1: Sequence 7 cannot be build.\n"
       ]
      },
      {
       "output_type": "stream",
       "stream": "stderr",
       "text": [
        "GHMM ghmm.py:3746 - forward returned -1: Sequence 8 cannot be build.\n"
       ]
      },
      {
       "output_type": "stream",
       "stream": "stderr",
       "text": [
        "WARNING:GHMM:forward returned -1: Sequence 8 cannot be build.\n"
       ]
      },
      {
       "output_type": "stream",
       "stream": "stderr",
       "text": [
        "GHMM ghmm.py:3746 - forward returned -1: Sequence 9 cannot be build.\n"
       ]
      },
      {
       "output_type": "stream",
       "stream": "stderr",
       "text": [
        "WARNING:GHMM:forward returned -1: Sequence 9 cannot be build.\n"
       ]
      },
      {
       "output_type": "stream",
       "stream": "stderr",
       "text": [
        "GHMM ghmm.py:3746 - forward returned -1: Sequence 10 cannot be build.\n"
       ]
      },
      {
       "output_type": "stream",
       "stream": "stderr",
       "text": [
        "WARNING:GHMM:forward returned -1: Sequence 10 cannot be build.\n"
       ]
      },
      {
       "output_type": "stream",
       "stream": "stderr",
       "text": [
        "GHMM ghmm.py:3746 - forward returned -1: Sequence 11 cannot be build.\n"
       ]
      },
      {
       "output_type": "stream",
       "stream": "stderr",
       "text": [
        "WARNING:GHMM:forward returned -1: Sequence 11 cannot be build.\n"
       ]
      },
      {
       "output_type": "stream",
       "stream": "stderr",
       "text": [
        "GHMM ghmm.py:148 - sreestimate.c:ghmm_cmodel_baum_welch(878): sreestimate_one_step false (1.step)\n"
       ]
      },
      {
       "output_type": "stream",
       "stream": "stderr",
       "text": [
        "WARNING:GHMM:sreestimate.c:ghmm_cmodel_baum_welch(878): sreestimate_one_step false (1.step)\n"
       ]
      },
      {
       "output_type": "stream",
       "stream": "stderr",
       "text": [
        "GHMM ghmm.py:3746 - forward returned -1: Sequence 1 cannot be build.\n"
       ]
      },
      {
       "output_type": "stream",
       "stream": "stderr",
       "text": [
        "WARNING:GHMM:forward returned -1: Sequence 1 cannot be build.\n"
       ]
      },
      {
       "output_type": "stream",
       "stream": "stderr",
       "text": [
        "GHMM ghmm.py:3746 - forward returned -1: Sequence 2 cannot be build.\n"
       ]
      },
      {
       "output_type": "stream",
       "stream": "stderr",
       "text": [
        "WARNING:GHMM:forward returned -1: Sequence 2 cannot be build.\n"
       ]
      },
      {
       "output_type": "stream",
       "stream": "stderr",
       "text": [
        "GHMM ghmm.py:3746 - forward returned -1: Sequence 3 cannot be build.\n"
       ]
      },
      {
       "output_type": "stream",
       "stream": "stderr",
       "text": [
        "WARNING:GHMM:forward returned -1: Sequence 3 cannot be build.\n"
       ]
      },
      {
       "output_type": "stream",
       "stream": "stderr",
       "text": [
        "GHMM ghmm.py:3746 - forward returned -1: Sequence 5 cannot be build.\n"
       ]
      },
      {
       "output_type": "stream",
       "stream": "stderr",
       "text": [
        "WARNING:GHMM:forward returned -1: Sequence 5 cannot be build.\n"
       ]
      },
      {
       "output_type": "stream",
       "stream": "stderr",
       "text": [
        "GHMM ghmm.py:3746 - forward returned -1: Sequence 8 cannot be build.\n"
       ]
      },
      {
       "output_type": "stream",
       "stream": "stderr",
       "text": [
        "WARNING:GHMM:forward returned -1: Sequence 8 cannot be build.\n"
       ]
      },
      {
       "output_type": "stream",
       "stream": "stderr",
       "text": [
        "GHMM ghmm.py:3746 - forward returned -1: Sequence 10 cannot be build.\n"
       ]
      },
      {
       "output_type": "stream",
       "stream": "stderr",
       "text": [
        "WARNING:GHMM:forward returned -1: Sequence 10 cannot be build.\n"
       ]
      },
      {
       "output_type": "stream",
       "stream": "stderr",
       "text": [
        "GHMM ghmm.py:3746 - forward returned -1: Sequence 1 cannot be build.\n"
       ]
      },
      {
       "output_type": "stream",
       "stream": "stderr",
       "text": [
        "WARNING:GHMM:forward returned -1: Sequence 1 cannot be build.\n"
       ]
      },
      {
       "output_type": "stream",
       "stream": "stderr",
       "text": [
        "GHMM ghmm.py:3746 - forward returned -1: Sequence 2 cannot be build.\n"
       ]
      },
      {
       "output_type": "stream",
       "stream": "stderr",
       "text": [
        "WARNING:GHMM:forward returned -1: Sequence 2 cannot be build.\n"
       ]
      },
      {
       "output_type": "stream",
       "stream": "stderr",
       "text": [
        "GHMM ghmm.py:3746 - forward returned -1: Sequence 3 cannot be build.\n"
       ]
      },
      {
       "output_type": "stream",
       "stream": "stderr",
       "text": [
        "WARNING:GHMM:forward returned -1: Sequence 3 cannot be build.\n"
       ]
      },
      {
       "output_type": "stream",
       "stream": "stderr",
       "text": [
        "GHMM ghmm.py:3746 - forward returned -1: Sequence 5 cannot be build.\n"
       ]
      },
      {
       "output_type": "stream",
       "stream": "stderr",
       "text": [
        "WARNING:GHMM:forward returned -1: Sequence 5 cannot be build.\n"
       ]
      },
      {
       "output_type": "stream",
       "stream": "stderr",
       "text": [
        "GHMM ghmm.py:3746 - forward returned -1: Sequence 8 cannot be build.\n"
       ]
      },
      {
       "output_type": "stream",
       "stream": "stderr",
       "text": [
        "WARNING:GHMM:forward returned -1: Sequence 8 cannot be build.\n"
       ]
      },
      {
       "output_type": "stream",
       "stream": "stderr",
       "text": [
        "GHMM ghmm.py:3746 - forward returned -1: Sequence 10 cannot be build.\n"
       ]
      },
      {
       "output_type": "stream",
       "stream": "stderr",
       "text": [
        "WARNING:GHMM:forward returned -1: Sequence 10 cannot be build.\n"
       ]
      },
      {
       "output_type": "stream",
       "stream": "stderr",
       "text": [
        "GHMM ghmm.py:3746 - forward returned -1: Sequence 1 cannot be build.\n"
       ]
      },
      {
       "output_type": "stream",
       "stream": "stderr",
       "text": [
        "WARNING:GHMM:forward returned -1: Sequence 1 cannot be build.\n"
       ]
      },
      {
       "output_type": "stream",
       "stream": "stderr",
       "text": [
        "GHMM ghmm.py:3746 - forward returned -1: Sequence 2 cannot be build.\n"
       ]
      },
      {
       "output_type": "stream",
       "stream": "stderr",
       "text": [
        "WARNING:GHMM:forward returned -1: Sequence 2 cannot be build.\n"
       ]
      },
      {
       "output_type": "stream",
       "stream": "stderr",
       "text": [
        "GHMM ghmm.py:3746 - forward returned -1: Sequence 3 cannot be build.\n"
       ]
      },
      {
       "output_type": "stream",
       "stream": "stderr",
       "text": [
        "WARNING:GHMM:forward returned -1: Sequence 3 cannot be build.\n"
       ]
      },
      {
       "output_type": "stream",
       "stream": "stderr",
       "text": [
        "GHMM ghmm.py:3746 - forward returned -1: Sequence 5 cannot be build.\n"
       ]
      },
      {
       "output_type": "stream",
       "stream": "stderr",
       "text": [
        "WARNING:GHMM:forward returned -1: Sequence 5 cannot be build.\n"
       ]
      },
      {
       "output_type": "stream",
       "stream": "stderr",
       "text": [
        "GHMM ghmm.py:3746 - forward returned -1: Sequence 8 cannot be build.\n"
       ]
      },
      {
       "output_type": "stream",
       "stream": "stderr",
       "text": [
        "WARNING:GHMM:forward returned -1: Sequence 8 cannot be build.\n"
       ]
      },
      {
       "output_type": "stream",
       "stream": "stderr",
       "text": [
        "GHMM ghmm.py:3746 - forward returned -1: Sequence 10 cannot be build.\n"
       ]
      },
      {
       "output_type": "stream",
       "stream": "stderr",
       "text": [
        "WARNING:GHMM:forward returned -1: Sequence 10 cannot be build.\n"
       ]
      },
      {
       "output_type": "stream",
       "stream": "stderr",
       "text": [
        "GHMM ghmm.py:148 - sreestimate.c:ghmm_cmodel_baum_welch(898): NO convergence: log P(-2.462261e+04) < log P-old(-9.665643e+03)! (n = 2)\n"
       ]
      },
      {
       "output_type": "stream",
       "stream": "stderr",
       "text": [
        "WARNING:GHMM:sreestimate.c:ghmm_cmodel_baum_welch(898): NO convergence: log P(-2.462261e+04) < log P-old(-9.665643e+03)! (n = 2)\n"
       ]
      },
      {
       "output_type": "stream",
       "stream": "stderr",
       "text": [
        "GHMM ghmm.py:148 - sreestimate.c:ghmm_cmodel_baum_welch(878): sreestimate_one_step false (1.step)\n"
       ]
      },
      {
       "output_type": "stream",
       "stream": "stderr",
       "text": [
        "WARNING:GHMM:sreestimate.c:ghmm_cmodel_baum_welch(878): sreestimate_one_step false (1.step)\n"
       ]
      },
      {
       "output_type": "stream",
       "stream": "stderr",
       "text": [
        "GHMM ghmm.py:3746 - forward returned -1: Sequence 1 cannot be build.\n"
       ]
      },
      {
       "output_type": "stream",
       "stream": "stderr",
       "text": [
        "WARNING:GHMM:forward returned -1: Sequence 1 cannot be build.\n"
       ]
      },
      {
       "output_type": "stream",
       "stream": "stderr",
       "text": [
        "GHMM ghmm.py:3746 - forward returned -1: Sequence 2 cannot be build.\n"
       ]
      },
      {
       "output_type": "stream",
       "stream": "stderr",
       "text": [
        "WARNING:GHMM:forward returned -1: Sequence 2 cannot be build.\n"
       ]
      },
      {
       "output_type": "stream",
       "stream": "stderr",
       "text": [
        "GHMM ghmm.py:3746 - forward returned -1: Sequence 3 cannot be build.\n"
       ]
      },
      {
       "output_type": "stream",
       "stream": "stderr",
       "text": [
        "WARNING:GHMM:forward returned -1: Sequence 3 cannot be build.\n"
       ]
      },
      {
       "output_type": "stream",
       "stream": "stderr",
       "text": [
        "GHMM ghmm.py:3746 - forward returned -1: Sequence 5 cannot be build.\n"
       ]
      },
      {
       "output_type": "stream",
       "stream": "stderr",
       "text": [
        "WARNING:GHMM:forward returned -1: Sequence 5 cannot be build.\n"
       ]
      },
      {
       "output_type": "stream",
       "stream": "stderr",
       "text": [
        "GHMM ghmm.py:3746 - forward returned -1: Sequence 8 cannot be build.\n"
       ]
      },
      {
       "output_type": "stream",
       "stream": "stderr",
       "text": [
        "WARNING:GHMM:forward returned -1: Sequence 8 cannot be build.\n"
       ]
      },
      {
       "output_type": "stream",
       "stream": "stderr",
       "text": [
        "GHMM ghmm.py:3746 - forward returned -1: Sequence 10 cannot be build.\n"
       ]
      },
      {
       "output_type": "stream",
       "stream": "stderr",
       "text": [
        "WARNING:GHMM:forward returned -1: Sequence 10 cannot be build.\n"
       ]
      },
      {
       "output_type": "stream",
       "stream": "stderr",
       "text": [
        "GHMM ghmm.py:3746 - forward returned -1: Sequence 1 cannot be build.\n"
       ]
      },
      {
       "output_type": "stream",
       "stream": "stderr",
       "text": [
        "WARNING:GHMM:forward returned -1: Sequence 1 cannot be build.\n"
       ]
      },
      {
       "output_type": "stream",
       "stream": "stderr",
       "text": [
        "GHMM ghmm.py:3746 - forward returned -1: Sequence 2 cannot be build.\n"
       ]
      },
      {
       "output_type": "stream",
       "stream": "stderr",
       "text": [
        "WARNING:GHMM:forward returned -1: Sequence 2 cannot be build.\n"
       ]
      },
      {
       "output_type": "stream",
       "stream": "stderr",
       "text": [
        "GHMM ghmm.py:3746 - forward returned -1: Sequence 3 cannot be build.\n"
       ]
      },
      {
       "output_type": "stream",
       "stream": "stderr",
       "text": [
        "WARNING:GHMM:forward returned -1: Sequence 3 cannot be build.\n"
       ]
      },
      {
       "output_type": "stream",
       "stream": "stderr",
       "text": [
        "GHMM ghmm.py:3746 - forward returned -1: Sequence 5 cannot be build.\n"
       ]
      },
      {
       "output_type": "stream",
       "stream": "stderr",
       "text": [
        "WARNING:GHMM:forward returned -1: Sequence 5 cannot be build.\n"
       ]
      },
      {
       "output_type": "stream",
       "stream": "stderr",
       "text": [
        "GHMM ghmm.py:3746 - forward returned -1: Sequence 8 cannot be build.\n"
       ]
      },
      {
       "output_type": "stream",
       "stream": "stderr",
       "text": [
        "WARNING:GHMM:forward returned -1: Sequence 8 cannot be build.\n"
       ]
      },
      {
       "output_type": "stream",
       "stream": "stderr",
       "text": [
        "GHMM ghmm.py:3746 - forward returned -1: Sequence 10 cannot be build.\n"
       ]
      },
      {
       "output_type": "stream",
       "stream": "stderr",
       "text": [
        "WARNING:GHMM:forward returned -1: Sequence 10 cannot be build.\n"
       ]
      },
      {
       "output_type": "stream",
       "stream": "stderr",
       "text": [
        "GHMM ghmm.py:3746 - forward returned -1: Sequence 1 cannot be build.\n"
       ]
      },
      {
       "output_type": "stream",
       "stream": "stderr",
       "text": [
        "WARNING:GHMM:forward returned -1: Sequence 1 cannot be build.\n"
       ]
      },
      {
       "output_type": "stream",
       "stream": "stderr",
       "text": [
        "GHMM ghmm.py:3746 - forward returned -1: Sequence 2 cannot be build.\n"
       ]
      },
      {
       "output_type": "stream",
       "stream": "stderr",
       "text": [
        "WARNING:GHMM:forward returned -1: Sequence 2 cannot be build.\n"
       ]
      },
      {
       "output_type": "stream",
       "stream": "stderr",
       "text": [
        "GHMM ghmm.py:3746 - forward returned -1: Sequence 3 cannot be build.\n"
       ]
      },
      {
       "output_type": "stream",
       "stream": "stderr",
       "text": [
        "WARNING:GHMM:forward returned -1: Sequence 3 cannot be build.\n"
       ]
      },
      {
       "output_type": "stream",
       "stream": "stderr",
       "text": [
        "GHMM ghmm.py:3746 - forward returned -1: Sequence 5 cannot be build.\n"
       ]
      },
      {
       "output_type": "stream",
       "stream": "stderr",
       "text": [
        "WARNING:GHMM:forward returned -1: Sequence 5 cannot be build.\n"
       ]
      },
      {
       "output_type": "stream",
       "stream": "stderr",
       "text": [
        "GHMM ghmm.py:3746 - forward returned -1: Sequence 8 cannot be build.\n"
       ]
      },
      {
       "output_type": "stream",
       "stream": "stderr",
       "text": [
        "WARNING:GHMM:forward returned -1: Sequence 8 cannot be build.\n"
       ]
      },
      {
       "output_type": "stream",
       "stream": "stderr",
       "text": [
        "GHMM ghmm.py:3746 - forward returned -1: Sequence 10 cannot be build.\n"
       ]
      },
      {
       "output_type": "stream",
       "stream": "stderr",
       "text": [
        "WARNING:GHMM:forward returned -1: Sequence 10 cannot be build.\n"
       ]
      },
      {
       "output_type": "stream",
       "stream": "stderr",
       "text": [
        "GHMM ghmm.py:148 - sreestimate.c:ghmm_cmodel_baum_welch(878): sreestimate_one_step false (1.step)\n"
       ]
      },
      {
       "output_type": "stream",
       "stream": "stderr",
       "text": [
        "WARNING:GHMM:sreestimate.c:ghmm_cmodel_baum_welch(878): sreestimate_one_step false (1.step)\n"
       ]
      },
      {
       "output_type": "stream",
       "stream": "stderr",
       "text": [
        "GHMM ghmm.py:3746 - forward returned -1: Sequence 1 cannot be build.\n"
       ]
      },
      {
       "output_type": "stream",
       "stream": "stderr",
       "text": [
        "WARNING:GHMM:forward returned -1: Sequence 1 cannot be build.\n"
       ]
      },
      {
       "output_type": "stream",
       "stream": "stderr",
       "text": [
        "GHMM ghmm.py:3746 - forward returned -1: Sequence 2 cannot be build.\n"
       ]
      },
      {
       "output_type": "stream",
       "stream": "stderr",
       "text": [
        "WARNING:GHMM:forward returned -1: Sequence 2 cannot be build.\n"
       ]
      },
      {
       "output_type": "stream",
       "stream": "stderr",
       "text": [
        "GHMM ghmm.py:3746 - forward returned -1: Sequence 3 cannot be build.\n"
       ]
      },
      {
       "output_type": "stream",
       "stream": "stderr",
       "text": [
        "WARNING:GHMM:forward returned -1: Sequence 3 cannot be build.\n"
       ]
      },
      {
       "output_type": "stream",
       "stream": "stderr",
       "text": [
        "GHMM ghmm.py:3746 - forward returned -1: Sequence 5 cannot be build.\n"
       ]
      },
      {
       "output_type": "stream",
       "stream": "stderr",
       "text": [
        "WARNING:GHMM:forward returned -1: Sequence 5 cannot be build.\n"
       ]
      },
      {
       "output_type": "stream",
       "stream": "stderr",
       "text": [
        "GHMM ghmm.py:3746 - forward returned -1: Sequence 8 cannot be build.\n"
       ]
      },
      {
       "output_type": "stream",
       "stream": "stderr",
       "text": [
        "WARNING:GHMM:forward returned -1: Sequence 8 cannot be build.\n"
       ]
      },
      {
       "output_type": "stream",
       "stream": "stderr",
       "text": [
        "GHMM ghmm.py:3746 - forward returned -1: Sequence 10 cannot be build.\n"
       ]
      },
      {
       "output_type": "stream",
       "stream": "stderr",
       "text": [
        "WARNING:GHMM:forward returned -1: Sequence 10 cannot be build.\n"
       ]
      },
      {
       "output_type": "stream",
       "stream": "stderr",
       "text": [
        "GHMM ghmm.py:3746 - forward returned -1: Sequence 1 cannot be build.\n"
       ]
      },
      {
       "output_type": "stream",
       "stream": "stderr",
       "text": [
        "WARNING:GHMM:forward returned -1: Sequence 1 cannot be build.\n"
       ]
      },
      {
       "output_type": "stream",
       "stream": "stderr",
       "text": [
        "GHMM ghmm.py:3746 - forward returned -1: Sequence 2 cannot be build.\n"
       ]
      },
      {
       "output_type": "stream",
       "stream": "stderr",
       "text": [
        "WARNING:GHMM:forward returned -1: Sequence 2 cannot be build.\n"
       ]
      },
      {
       "output_type": "stream",
       "stream": "stderr",
       "text": [
        "GHMM ghmm.py:3746 - forward returned -1: Sequence 3 cannot be build.\n"
       ]
      },
      {
       "output_type": "stream",
       "stream": "stderr",
       "text": [
        "WARNING:GHMM:forward returned -1: Sequence 3 cannot be build.\n"
       ]
      },
      {
       "output_type": "stream",
       "stream": "stderr",
       "text": [
        "GHMM ghmm.py:3746 - forward returned -1: Sequence 5 cannot be build.\n"
       ]
      },
      {
       "output_type": "stream",
       "stream": "stderr",
       "text": [
        "WARNING:GHMM:forward returned -1: Sequence 5 cannot be build.\n"
       ]
      },
      {
       "output_type": "stream",
       "stream": "stderr",
       "text": [
        "GHMM ghmm.py:3746 - forward returned -1: Sequence 8 cannot be build.\n"
       ]
      },
      {
       "output_type": "stream",
       "stream": "stderr",
       "text": [
        "WARNING:GHMM:forward returned -1: Sequence 8 cannot be build.\n"
       ]
      },
      {
       "output_type": "stream",
       "stream": "stderr",
       "text": [
        "GHMM ghmm.py:3746 - forward returned -1: Sequence 10 cannot be build.\n"
       ]
      },
      {
       "output_type": "stream",
       "stream": "stderr",
       "text": [
        "WARNING:GHMM:forward returned -1: Sequence 10 cannot be build.\n"
       ]
      },
      {
       "output_type": "stream",
       "stream": "stderr",
       "text": [
        "GHMM ghmm.py:3746 - forward returned -1: Sequence 1 cannot be build.\n"
       ]
      },
      {
       "output_type": "stream",
       "stream": "stderr",
       "text": [
        "WARNING:GHMM:forward returned -1: Sequence 1 cannot be build.\n"
       ]
      },
      {
       "output_type": "stream",
       "stream": "stderr",
       "text": [
        "GHMM ghmm.py:3746 - forward returned -1: Sequence 2 cannot be build.\n"
       ]
      },
      {
       "output_type": "stream",
       "stream": "stderr",
       "text": [
        "WARNING:GHMM:forward returned -1: Sequence 2 cannot be build.\n"
       ]
      },
      {
       "output_type": "stream",
       "stream": "stderr",
       "text": [
        "GHMM ghmm.py:3746 - forward returned -1: Sequence 3 cannot be build.\n"
       ]
      },
      {
       "output_type": "stream",
       "stream": "stderr",
       "text": [
        "WARNING:GHMM:forward returned -1: Sequence 3 cannot be build.\n"
       ]
      },
      {
       "output_type": "stream",
       "stream": "stderr",
       "text": [
        "GHMM ghmm.py:3746 - forward returned -1: Sequence 5 cannot be build.\n"
       ]
      },
      {
       "output_type": "stream",
       "stream": "stderr",
       "text": [
        "WARNING:GHMM:forward returned -1: Sequence 5 cannot be build.\n"
       ]
      },
      {
       "output_type": "stream",
       "stream": "stderr",
       "text": [
        "GHMM ghmm.py:3746 - forward returned -1: Sequence 8 cannot be build.\n"
       ]
      },
      {
       "output_type": "stream",
       "stream": "stderr",
       "text": [
        "WARNING:GHMM:forward returned -1: Sequence 8 cannot be build.\n"
       ]
      },
      {
       "output_type": "stream",
       "stream": "stderr",
       "text": [
        "GHMM ghmm.py:3746 - forward returned -1: Sequence 10 cannot be build.\n"
       ]
      },
      {
       "output_type": "stream",
       "stream": "stderr",
       "text": [
        "WARNING:GHMM:forward returned -1: Sequence 10 cannot be build.\n"
       ]
      },
      {
       "output_type": "stream",
       "stream": "stderr",
       "text": [
        "GHMM ghmm.py:148 - sreestimate.c:ghmm_cmodel_baum_welch(878): sreestimate_one_step false (1.step)\n"
       ]
      },
      {
       "output_type": "stream",
       "stream": "stderr",
       "text": [
        "WARNING:GHMM:sreestimate.c:ghmm_cmodel_baum_welch(878): sreestimate_one_step false (1.step)\n"
       ]
      },
      {
       "output_type": "stream",
       "stream": "stderr",
       "text": [
        "GHMM ghmm.py:3746 - forward returned -1: Sequence 1 cannot be build.\n"
       ]
      },
      {
       "output_type": "stream",
       "stream": "stderr",
       "text": [
        "WARNING:GHMM:forward returned -1: Sequence 1 cannot be build.\n"
       ]
      },
      {
       "output_type": "stream",
       "stream": "stderr",
       "text": [
        "GHMM ghmm.py:3746 - forward returned -1: Sequence 2 cannot be build.\n"
       ]
      },
      {
       "output_type": "stream",
       "stream": "stderr",
       "text": [
        "WARNING:GHMM:forward returned -1: Sequence 2 cannot be build.\n"
       ]
      },
      {
       "output_type": "stream",
       "stream": "stderr",
       "text": [
        "GHMM ghmm.py:3746 - forward returned -1: Sequence 3 cannot be build.\n"
       ]
      },
      {
       "output_type": "stream",
       "stream": "stderr",
       "text": [
        "WARNING:GHMM:forward returned -1: Sequence 3 cannot be build.\n"
       ]
      },
      {
       "output_type": "stream",
       "stream": "stderr",
       "text": [
        "GHMM ghmm.py:3746 - forward returned -1: Sequence 5 cannot be build.\n"
       ]
      },
      {
       "output_type": "stream",
       "stream": "stderr",
       "text": [
        "WARNING:GHMM:forward returned -1: Sequence 5 cannot be build.\n"
       ]
      },
      {
       "output_type": "stream",
       "stream": "stderr",
       "text": [
        "GHMM ghmm.py:3746 - forward returned -1: Sequence 8 cannot be build.\n"
       ]
      },
      {
       "output_type": "stream",
       "stream": "stderr",
       "text": [
        "WARNING:GHMM:forward returned -1: Sequence 8 cannot be build.\n"
       ]
      },
      {
       "output_type": "stream",
       "stream": "stderr",
       "text": [
        "GHMM ghmm.py:3746 - forward returned -1: Sequence 10 cannot be build.\n"
       ]
      },
      {
       "output_type": "stream",
       "stream": "stderr",
       "text": [
        "WARNING:GHMM:forward returned -1: Sequence 10 cannot be build.\n"
       ]
      },
      {
       "output_type": "stream",
       "stream": "stderr",
       "text": [
        "GHMM ghmm.py:3746 - forward returned -1: Sequence 1 cannot be build.\n"
       ]
      },
      {
       "output_type": "stream",
       "stream": "stderr",
       "text": [
        "WARNING:GHMM:forward returned -1: Sequence 1 cannot be build.\n"
       ]
      },
      {
       "output_type": "stream",
       "stream": "stderr",
       "text": [
        "GHMM ghmm.py:3746 - forward returned -1: Sequence 2 cannot be build.\n"
       ]
      },
      {
       "output_type": "stream",
       "stream": "stderr",
       "text": [
        "WARNING:GHMM:forward returned -1: Sequence 2 cannot be build.\n"
       ]
      },
      {
       "output_type": "stream",
       "stream": "stderr",
       "text": [
        "GHMM ghmm.py:3746 - forward returned -1: Sequence 3 cannot be build.\n"
       ]
      },
      {
       "output_type": "stream",
       "stream": "stderr",
       "text": [
        "WARNING:GHMM:forward returned -1: Sequence 3 cannot be build.\n"
       ]
      },
      {
       "output_type": "stream",
       "stream": "stderr",
       "text": [
        "GHMM ghmm.py:3746 - forward returned -1: Sequence 5 cannot be build.\n"
       ]
      },
      {
       "output_type": "stream",
       "stream": "stderr",
       "text": [
        "WARNING:GHMM:forward returned -1: Sequence 5 cannot be build.\n"
       ]
      },
      {
       "output_type": "stream",
       "stream": "stderr",
       "text": [
        "GHMM ghmm.py:3746 - forward returned -1: Sequence 8 cannot be build.\n"
       ]
      },
      {
       "output_type": "stream",
       "stream": "stderr",
       "text": [
        "WARNING:GHMM:forward returned -1: Sequence 8 cannot be build.\n"
       ]
      },
      {
       "output_type": "stream",
       "stream": "stderr",
       "text": [
        "GHMM ghmm.py:3746 - forward returned -1: Sequence 10 cannot be build.\n"
       ]
      },
      {
       "output_type": "stream",
       "stream": "stderr",
       "text": [
        "WARNING:GHMM:forward returned -1: Sequence 10 cannot be build.\n"
       ]
      },
      {
       "output_type": "stream",
       "stream": "stderr",
       "text": [
        "GHMM ghmm.py:3746 - forward returned -1: Sequence 1 cannot be build.\n"
       ]
      },
      {
       "output_type": "stream",
       "stream": "stderr",
       "text": [
        "WARNING:GHMM:forward returned -1: Sequence 1 cannot be build.\n"
       ]
      },
      {
       "output_type": "stream",
       "stream": "stderr",
       "text": [
        "GHMM ghmm.py:3746 - forward returned -1: Sequence 2 cannot be build.\n"
       ]
      },
      {
       "output_type": "stream",
       "stream": "stderr",
       "text": [
        "WARNING:GHMM:forward returned -1: Sequence 2 cannot be build.\n"
       ]
      },
      {
       "output_type": "stream",
       "stream": "stderr",
       "text": [
        "GHMM ghmm.py:3746 - forward returned -1: Sequence 3 cannot be build.\n"
       ]
      },
      {
       "output_type": "stream",
       "stream": "stderr",
       "text": [
        "WARNING:GHMM:forward returned -1: Sequence 3 cannot be build.\n"
       ]
      },
      {
       "output_type": "stream",
       "stream": "stderr",
       "text": [
        "GHMM ghmm.py:3746 - forward returned -1: Sequence 5 cannot be build.\n"
       ]
      },
      {
       "output_type": "stream",
       "stream": "stderr",
       "text": [
        "WARNING:GHMM:forward returned -1: Sequence 5 cannot be build.\n"
       ]
      },
      {
       "output_type": "stream",
       "stream": "stderr",
       "text": [
        "GHMM ghmm.py:3746 - forward returned -1: Sequence 8 cannot be build.\n"
       ]
      },
      {
       "output_type": "stream",
       "stream": "stderr",
       "text": [
        "WARNING:GHMM:forward returned -1: Sequence 8 cannot be build.\n"
       ]
      },
      {
       "output_type": "stream",
       "stream": "stderr",
       "text": [
        "GHMM ghmm.py:3746 - forward returned -1: Sequence 10 cannot be build.\n"
       ]
      },
      {
       "output_type": "stream",
       "stream": "stderr",
       "text": [
        "WARNING:GHMM:forward returned -1: Sequence 10 cannot be build.\n"
       ]
      },
      {
       "output_type": "stream",
       "stream": "stderr",
       "text": [
        "GHMM ghmm.py:148 - sreestimate.c:ghmm_cmodel_baum_welch(878): sreestimate_one_step false (1.step)\n"
       ]
      },
      {
       "output_type": "stream",
       "stream": "stderr",
       "text": [
        "WARNING:GHMM:sreestimate.c:ghmm_cmodel_baum_welch(878): sreestimate_one_step false (1.step)\n"
       ]
      },
      {
       "output_type": "stream",
       "stream": "stderr",
       "text": [
        "GHMM ghmm.py:3746 - forward returned -1: Sequence 1 cannot be build.\n"
       ]
      },
      {
       "output_type": "stream",
       "stream": "stderr",
       "text": [
        "WARNING:GHMM:forward returned -1: Sequence 1 cannot be build.\n"
       ]
      },
      {
       "output_type": "stream",
       "stream": "stderr",
       "text": [
        "GHMM ghmm.py:3746 - forward returned -1: Sequence 2 cannot be build.\n"
       ]
      },
      {
       "output_type": "stream",
       "stream": "stderr",
       "text": [
        "WARNING:GHMM:forward returned -1: Sequence 2 cannot be build.\n"
       ]
      },
      {
       "output_type": "stream",
       "stream": "stderr",
       "text": [
        "GHMM ghmm.py:3746 - forward returned -1: Sequence 3 cannot be build.\n"
       ]
      },
      {
       "output_type": "stream",
       "stream": "stderr",
       "text": [
        "WARNING:GHMM:forward returned -1: Sequence 3 cannot be build.\n"
       ]
      },
      {
       "output_type": "stream",
       "stream": "stderr",
       "text": [
        "GHMM ghmm.py:3746 - forward returned -1: Sequence 5 cannot be build.\n"
       ]
      },
      {
       "output_type": "stream",
       "stream": "stderr",
       "text": [
        "WARNING:GHMM:forward returned -1: Sequence 5 cannot be build.\n"
       ]
      },
      {
       "output_type": "stream",
       "stream": "stderr",
       "text": [
        "GHMM ghmm.py:3746 - forward returned -1: Sequence 8 cannot be build.\n"
       ]
      },
      {
       "output_type": "stream",
       "stream": "stderr",
       "text": [
        "WARNING:GHMM:forward returned -1: Sequence 8 cannot be build.\n"
       ]
      },
      {
       "output_type": "stream",
       "stream": "stderr",
       "text": [
        "GHMM ghmm.py:3746 - forward returned -1: Sequence 10 cannot be build.\n"
       ]
      },
      {
       "output_type": "stream",
       "stream": "stderr",
       "text": [
        "WARNING:GHMM:forward returned -1: Sequence 10 cannot be build.\n"
       ]
      },
      {
       "output_type": "stream",
       "stream": "stderr",
       "text": [
        "GHMM ghmm.py:3746 - forward returned -1: Sequence 1 cannot be build.\n"
       ]
      },
      {
       "output_type": "stream",
       "stream": "stderr",
       "text": [
        "WARNING:GHMM:forward returned -1: Sequence 1 cannot be build.\n"
       ]
      },
      {
       "output_type": "stream",
       "stream": "stderr",
       "text": [
        "GHMM ghmm.py:3746 - forward returned -1: Sequence 2 cannot be build.\n"
       ]
      },
      {
       "output_type": "stream",
       "stream": "stderr",
       "text": [
        "WARNING:GHMM:forward returned -1: Sequence 2 cannot be build.\n"
       ]
      },
      {
       "output_type": "stream",
       "stream": "stderr",
       "text": [
        "GHMM ghmm.py:3746 - forward returned -1: Sequence 3 cannot be build.\n"
       ]
      },
      {
       "output_type": "stream",
       "stream": "stderr",
       "text": [
        "WARNING:GHMM:forward returned -1: Sequence 3 cannot be build.\n"
       ]
      },
      {
       "output_type": "stream",
       "stream": "stderr",
       "text": [
        "GHMM ghmm.py:3746 - forward returned -1: Sequence 5 cannot be build.\n"
       ]
      },
      {
       "output_type": "stream",
       "stream": "stderr",
       "text": [
        "WARNING:GHMM:forward returned -1: Sequence 5 cannot be build.\n"
       ]
      },
      {
       "output_type": "stream",
       "stream": "stderr",
       "text": [
        "GHMM ghmm.py:3746 - forward returned -1: Sequence 8 cannot be build.\n"
       ]
      },
      {
       "output_type": "stream",
       "stream": "stderr",
       "text": [
        "WARNING:GHMM:forward returned -1: Sequence 8 cannot be build.\n"
       ]
      },
      {
       "output_type": "stream",
       "stream": "stderr",
       "text": [
        "GHMM ghmm.py:3746 - forward returned -1: Sequence 10 cannot be build.\n"
       ]
      },
      {
       "output_type": "stream",
       "stream": "stderr",
       "text": [
        "WARNING:GHMM:forward returned -1: Sequence 10 cannot be build.\n"
       ]
      },
      {
       "output_type": "stream",
       "stream": "stderr",
       "text": [
        "GHMM ghmm.py:3746 - forward returned -1: Sequence 1 cannot be build.\n"
       ]
      },
      {
       "output_type": "stream",
       "stream": "stderr",
       "text": [
        "WARNING:GHMM:forward returned -1: Sequence 1 cannot be build.\n"
       ]
      },
      {
       "output_type": "stream",
       "stream": "stderr",
       "text": [
        "GHMM ghmm.py:3746 - forward returned -1: Sequence 2 cannot be build.\n"
       ]
      },
      {
       "output_type": "stream",
       "stream": "stderr",
       "text": [
        "WARNING:GHMM:forward returned -1: Sequence 2 cannot be build.\n"
       ]
      },
      {
       "output_type": "stream",
       "stream": "stderr",
       "text": [
        "GHMM ghmm.py:3746 - forward returned -1: Sequence 3 cannot be build.\n"
       ]
      },
      {
       "output_type": "stream",
       "stream": "stderr",
       "text": [
        "WARNING:GHMM:forward returned -1: Sequence 3 cannot be build.\n"
       ]
      },
      {
       "output_type": "stream",
       "stream": "stderr",
       "text": [
        "GHMM ghmm.py:3746 - forward returned -1: Sequence 5 cannot be build.\n"
       ]
      },
      {
       "output_type": "stream",
       "stream": "stderr",
       "text": [
        "WARNING:GHMM:forward returned -1: Sequence 5 cannot be build.\n"
       ]
      },
      {
       "output_type": "stream",
       "stream": "stderr",
       "text": [
        "GHMM ghmm.py:3746 - forward returned -1: Sequence 8 cannot be build.\n"
       ]
      },
      {
       "output_type": "stream",
       "stream": "stderr",
       "text": [
        "WARNING:GHMM:forward returned -1: Sequence 8 cannot be build.\n"
       ]
      },
      {
       "output_type": "stream",
       "stream": "stderr",
       "text": [
        "GHMM ghmm.py:3746 - forward returned -1: Sequence 10 cannot be build.\n"
       ]
      },
      {
       "output_type": "stream",
       "stream": "stderr",
       "text": [
        "WARNING:GHMM:forward returned -1: Sequence 10 cannot be build.\n"
       ]
      },
      {
       "output_type": "stream",
       "stream": "stderr",
       "text": [
        "GHMM ghmm.py:148 - sreestimate.c:ghmm_cmodel_baum_welch(898): NO convergence: log P(-2.462261e+04) < log P-old(-7.483753e+03)! (n = 2)\n"
       ]
      },
      {
       "output_type": "stream",
       "stream": "stderr",
       "text": [
        "WARNING:GHMM:sreestimate.c:ghmm_cmodel_baum_welch(898): NO convergence: log P(-2.462261e+04) < log P-old(-7.483753e+03)! (n = 2)\n"
       ]
      },
      {
       "output_type": "stream",
       "stream": "stderr",
       "text": [
        "GHMM ghmm.py:148 - sreestimate.c:ghmm_cmodel_baum_welch(878): sreestimate_one_step false (1.step)\n"
       ]
      },
      {
       "output_type": "stream",
       "stream": "stderr",
       "text": [
        "WARNING:GHMM:sreestimate.c:ghmm_cmodel_baum_welch(878): sreestimate_one_step false (1.step)\n"
       ]
      },
      {
       "output_type": "stream",
       "stream": "stderr",
       "text": [
        "GHMM ghmm.py:3746 - forward returned -1: Sequence 0 cannot be build.\n"
       ]
      },
      {
       "output_type": "stream",
       "stream": "stderr",
       "text": [
        "WARNING:GHMM:forward returned -1: Sequence 0 cannot be build.\n"
       ]
      },
      {
       "output_type": "stream",
       "stream": "stderr",
       "text": [
        "GHMM ghmm.py:3746 - forward returned -1: Sequence 1 cannot be build.\n"
       ]
      },
      {
       "output_type": "stream",
       "stream": "stderr",
       "text": [
        "WARNING:GHMM:forward returned -1: Sequence 1 cannot be build.\n"
       ]
      },
      {
       "output_type": "stream",
       "stream": "stderr",
       "text": [
        "GHMM ghmm.py:3746 - forward returned -1: Sequence 2 cannot be build.\n"
       ]
      },
      {
       "output_type": "stream",
       "stream": "stderr",
       "text": [
        "WARNING:GHMM:forward returned -1: Sequence 2 cannot be build.\n"
       ]
      },
      {
       "output_type": "stream",
       "stream": "stderr",
       "text": [
        "GHMM ghmm.py:3746 - forward returned -1: Sequence 3 cannot be build.\n"
       ]
      },
      {
       "output_type": "stream",
       "stream": "stderr",
       "text": [
        "WARNING:GHMM:forward returned -1: Sequence 3 cannot be build.\n"
       ]
      },
      {
       "output_type": "stream",
       "stream": "stderr",
       "text": [
        "GHMM ghmm.py:3746 - forward returned -1: Sequence 4 cannot be build.\n"
       ]
      },
      {
       "output_type": "stream",
       "stream": "stderr",
       "text": [
        "WARNING:GHMM:forward returned -1: Sequence 4 cannot be build.\n"
       ]
      },
      {
       "output_type": "stream",
       "stream": "stderr",
       "text": [
        "GHMM ghmm.py:3746 - forward returned -1: Sequence 5 cannot be build.\n"
       ]
      },
      {
       "output_type": "stream",
       "stream": "stderr",
       "text": [
        "WARNING:GHMM:forward returned -1: Sequence 5 cannot be build.\n"
       ]
      },
      {
       "output_type": "stream",
       "stream": "stderr",
       "text": [
        "GHMM ghmm.py:3746 - forward returned -1: Sequence 6 cannot be build.\n"
       ]
      },
      {
       "output_type": "stream",
       "stream": "stderr",
       "text": [
        "WARNING:GHMM:forward returned -1: Sequence 6 cannot be build.\n"
       ]
      },
      {
       "output_type": "stream",
       "stream": "stderr",
       "text": [
        "GHMM ghmm.py:3746 - forward returned -1: Sequence 7 cannot be build.\n"
       ]
      },
      {
       "output_type": "stream",
       "stream": "stderr",
       "text": [
        "WARNING:GHMM:forward returned -1: Sequence 7 cannot be build.\n"
       ]
      },
      {
       "output_type": "stream",
       "stream": "stderr",
       "text": [
        "GHMM ghmm.py:3746 - forward returned -1: Sequence 8 cannot be build.\n"
       ]
      },
      {
       "output_type": "stream",
       "stream": "stderr",
       "text": [
        "WARNING:GHMM:forward returned -1: Sequence 8 cannot be build.\n"
       ]
      },
      {
       "output_type": "stream",
       "stream": "stderr",
       "text": [
        "GHMM ghmm.py:3746 - forward returned -1: Sequence 9 cannot be build.\n"
       ]
      },
      {
       "output_type": "stream",
       "stream": "stderr",
       "text": [
        "WARNING:GHMM:forward returned -1: Sequence 9 cannot be build.\n"
       ]
      },
      {
       "output_type": "stream",
       "stream": "stderr",
       "text": [
        "GHMM ghmm.py:3746 - forward returned -1: Sequence 10 cannot be build.\n"
       ]
      },
      {
       "output_type": "stream",
       "stream": "stderr",
       "text": [
        "WARNING:GHMM:forward returned -1: Sequence 10 cannot be build.\n"
       ]
      },
      {
       "output_type": "stream",
       "stream": "stderr",
       "text": [
        "GHMM ghmm.py:3746 - forward returned -1: Sequence 11 cannot be build.\n"
       ]
      },
      {
       "output_type": "stream",
       "stream": "stderr",
       "text": [
        "WARNING:GHMM:forward returned -1: Sequence 11 cannot be build.\n"
       ]
      },
      {
       "output_type": "stream",
       "stream": "stderr",
       "text": [
        "GHMM ghmm.py:3746 - forward returned -1: Sequence 0 cannot be build.\n"
       ]
      },
      {
       "output_type": "stream",
       "stream": "stderr",
       "text": [
        "WARNING:GHMM:forward returned -1: Sequence 0 cannot be build.\n"
       ]
      },
      {
       "output_type": "stream",
       "stream": "stderr",
       "text": [
        "GHMM ghmm.py:3746 - forward returned -1: Sequence 1 cannot be build.\n"
       ]
      },
      {
       "output_type": "stream",
       "stream": "stderr",
       "text": [
        "WARNING:GHMM:forward returned -1: Sequence 1 cannot be build.\n"
       ]
      },
      {
       "output_type": "stream",
       "stream": "stderr",
       "text": [
        "GHMM ghmm.py:3746 - forward returned -1: Sequence 2 cannot be build.\n"
       ]
      },
      {
       "output_type": "stream",
       "stream": "stderr",
       "text": [
        "WARNING:GHMM:forward returned -1: Sequence 2 cannot be build.\n"
       ]
      },
      {
       "output_type": "stream",
       "stream": "stderr",
       "text": [
        "GHMM ghmm.py:3746 - forward returned -1: Sequence 3 cannot be build.\n"
       ]
      },
      {
       "output_type": "stream",
       "stream": "stderr",
       "text": [
        "WARNING:GHMM:forward returned -1: Sequence 3 cannot be build.\n"
       ]
      },
      {
       "output_type": "stream",
       "stream": "stderr",
       "text": [
        "GHMM ghmm.py:3746 - forward returned -1: Sequence 4 cannot be build.\n"
       ]
      },
      {
       "output_type": "stream",
       "stream": "stderr",
       "text": [
        "WARNING:GHMM:forward returned -1: Sequence 4 cannot be build.\n"
       ]
      },
      {
       "output_type": "stream",
       "stream": "stderr",
       "text": [
        "GHMM ghmm.py:3746 - forward returned -1: Sequence 5 cannot be build.\n"
       ]
      },
      {
       "output_type": "stream",
       "stream": "stderr",
       "text": [
        "WARNING:GHMM:forward returned -1: Sequence 5 cannot be build.\n"
       ]
      },
      {
       "output_type": "stream",
       "stream": "stderr",
       "text": [
        "GHMM ghmm.py:3746 - forward returned -1: Sequence 6 cannot be build.\n"
       ]
      },
      {
       "output_type": "stream",
       "stream": "stderr",
       "text": [
        "WARNING:GHMM:forward returned -1: Sequence 6 cannot be build.\n"
       ]
      },
      {
       "output_type": "stream",
       "stream": "stderr",
       "text": [
        "GHMM ghmm.py:3746 - forward returned -1: Sequence 7 cannot be build.\n"
       ]
      },
      {
       "output_type": "stream",
       "stream": "stderr",
       "text": [
        "WARNING:GHMM:forward returned -1: Sequence 7 cannot be build.\n"
       ]
      },
      {
       "output_type": "stream",
       "stream": "stderr",
       "text": [
        "GHMM ghmm.py:3746 - forward returned -1: Sequence 8 cannot be build.\n"
       ]
      },
      {
       "output_type": "stream",
       "stream": "stderr",
       "text": [
        "WARNING:GHMM:forward returned -1: Sequence 8 cannot be build.\n"
       ]
      },
      {
       "output_type": "stream",
       "stream": "stderr",
       "text": [
        "GHMM ghmm.py:3746 - forward returned -1: Sequence 9 cannot be build.\n"
       ]
      },
      {
       "output_type": "stream",
       "stream": "stderr",
       "text": [
        "WARNING:GHMM:forward returned -1: Sequence 9 cannot be build.\n"
       ]
      },
      {
       "output_type": "stream",
       "stream": "stderr",
       "text": [
        "GHMM ghmm.py:3746 - forward returned -1: Sequence 10 cannot be build.\n"
       ]
      },
      {
       "output_type": "stream",
       "stream": "stderr",
       "text": [
        "WARNING:GHMM:forward returned -1: Sequence 10 cannot be build.\n"
       ]
      },
      {
       "output_type": "stream",
       "stream": "stderr",
       "text": [
        "GHMM ghmm.py:3746 - forward returned -1: Sequence 11 cannot be build.\n"
       ]
      },
      {
       "output_type": "stream",
       "stream": "stderr",
       "text": [
        "WARNING:GHMM:forward returned -1: Sequence 11 cannot be build.\n"
       ]
      },
      {
       "output_type": "stream",
       "stream": "stderr",
       "text": [
        "GHMM ghmm.py:3746 - forward returned -1: Sequence 0 cannot be build.\n"
       ]
      },
      {
       "output_type": "stream",
       "stream": "stderr",
       "text": [
        "WARNING:GHMM:forward returned -1: Sequence 0 cannot be build.\n"
       ]
      },
      {
       "output_type": "stream",
       "stream": "stderr",
       "text": [
        "GHMM ghmm.py:3746 - forward returned -1: Sequence 1 cannot be build.\n"
       ]
      },
      {
       "output_type": "stream",
       "stream": "stderr",
       "text": [
        "WARNING:GHMM:forward returned -1: Sequence 1 cannot be build.\n"
       ]
      },
      {
       "output_type": "stream",
       "stream": "stderr",
       "text": [
        "GHMM ghmm.py:3746 - forward returned -1: Sequence 2 cannot be build.\n"
       ]
      },
      {
       "output_type": "stream",
       "stream": "stderr",
       "text": [
        "WARNING:GHMM:forward returned -1: Sequence 2 cannot be build.\n"
       ]
      },
      {
       "output_type": "stream",
       "stream": "stderr",
       "text": [
        "GHMM ghmm.py:3746 - forward returned -1: Sequence 3 cannot be build.\n"
       ]
      },
      {
       "output_type": "stream",
       "stream": "stderr",
       "text": [
        "WARNING:GHMM:forward returned -1: Sequence 3 cannot be build.\n"
       ]
      },
      {
       "output_type": "stream",
       "stream": "stderr",
       "text": [
        "GHMM ghmm.py:3746 - forward returned -1: Sequence 4 cannot be build.\n"
       ]
      },
      {
       "output_type": "stream",
       "stream": "stderr",
       "text": [
        "WARNING:GHMM:forward returned -1: Sequence 4 cannot be build.\n"
       ]
      },
      {
       "output_type": "stream",
       "stream": "stderr",
       "text": [
        "GHMM ghmm.py:3746 - forward returned -1: Sequence 5 cannot be build.\n"
       ]
      },
      {
       "output_type": "stream",
       "stream": "stderr",
       "text": [
        "WARNING:GHMM:forward returned -1: Sequence 5 cannot be build.\n"
       ]
      },
      {
       "output_type": "stream",
       "stream": "stderr",
       "text": [
        "GHMM ghmm.py:3746 - forward returned -1: Sequence 6 cannot be build.\n"
       ]
      },
      {
       "output_type": "stream",
       "stream": "stderr",
       "text": [
        "WARNING:GHMM:forward returned -1: Sequence 6 cannot be build.\n"
       ]
      },
      {
       "output_type": "stream",
       "stream": "stderr",
       "text": [
        "GHMM ghmm.py:3746 - forward returned -1: Sequence 7 cannot be build.\n"
       ]
      },
      {
       "output_type": "stream",
       "stream": "stderr",
       "text": [
        "WARNING:GHMM:forward returned -1: Sequence 7 cannot be build.\n"
       ]
      },
      {
       "output_type": "stream",
       "stream": "stderr",
       "text": [
        "GHMM ghmm.py:3746 - forward returned -1: Sequence 8 cannot be build.\n"
       ]
      },
      {
       "output_type": "stream",
       "stream": "stderr",
       "text": [
        "WARNING:GHMM:forward returned -1: Sequence 8 cannot be build.\n"
       ]
      },
      {
       "output_type": "stream",
       "stream": "stderr",
       "text": [
        "GHMM ghmm.py:3746 - forward returned -1: Sequence 9 cannot be build.\n"
       ]
      },
      {
       "output_type": "stream",
       "stream": "stderr",
       "text": [
        "WARNING:GHMM:forward returned -1: Sequence 9 cannot be build.\n"
       ]
      },
      {
       "output_type": "stream",
       "stream": "stderr",
       "text": [
        "GHMM ghmm.py:3746 - forward returned -1: Sequence 10 cannot be build.\n"
       ]
      },
      {
       "output_type": "stream",
       "stream": "stderr",
       "text": [
        "WARNING:GHMM:forward returned -1: Sequence 10 cannot be build.\n"
       ]
      },
      {
       "output_type": "stream",
       "stream": "stderr",
       "text": [
        "GHMM ghmm.py:3746 - forward returned -1: Sequence 11 cannot be build.\n"
       ]
      },
      {
       "output_type": "stream",
       "stream": "stderr",
       "text": [
        "WARNING:GHMM:forward returned -1: Sequence 11 cannot be build.\n"
       ]
      },
      {
       "output_type": "stream",
       "stream": "stderr",
       "text": [
        "GHMM ghmm.py:148 - sreestimate.c:ghmm_cmodel_baum_welch(898): NO convergence: log P(-2.462261e+04) < log P-old(-7.432803e+03)! (n = 2)\n"
       ]
      },
      {
       "output_type": "stream",
       "stream": "stderr",
       "text": [
        "WARNING:GHMM:sreestimate.c:ghmm_cmodel_baum_welch(898): NO convergence: log P(-2.462261e+04) < log P-old(-7.432803e+03)! (n = 2)\n"
       ]
      },
      {
       "output_type": "stream",
       "stream": "stderr",
       "text": [
        "GHMM ghmm.py:148 - sreestimate.c:ghmm_cmodel_baum_welch(878): sreestimate_one_step false (1.step)\n"
       ]
      },
      {
       "output_type": "stream",
       "stream": "stderr",
       "text": [
        "WARNING:GHMM:sreestimate.c:ghmm_cmodel_baum_welch(878): sreestimate_one_step false (1.step)\n"
       ]
      },
      {
       "output_type": "stream",
       "stream": "stderr",
       "text": [
        "GHMM ghmm.py:3746 - forward returned -1: Sequence 1 cannot be build.\n"
       ]
      },
      {
       "output_type": "stream",
       "stream": "stderr",
       "text": [
        "WARNING:GHMM:forward returned -1: Sequence 1 cannot be build.\n"
       ]
      },
      {
       "output_type": "stream",
       "stream": "stderr",
       "text": [
        "GHMM ghmm.py:3746 - forward returned -1: Sequence 2 cannot be build.\n"
       ]
      },
      {
       "output_type": "stream",
       "stream": "stderr",
       "text": [
        "WARNING:GHMM:forward returned -1: Sequence 2 cannot be build.\n"
       ]
      },
      {
       "output_type": "stream",
       "stream": "stderr",
       "text": [
        "GHMM ghmm.py:3746 - forward returned -1: Sequence 3 cannot be build.\n"
       ]
      },
      {
       "output_type": "stream",
       "stream": "stderr",
       "text": [
        "WARNING:GHMM:forward returned -1: Sequence 3 cannot be build.\n"
       ]
      },
      {
       "output_type": "stream",
       "stream": "stderr",
       "text": [
        "GHMM ghmm.py:3746 - forward returned -1: Sequence 5 cannot be build.\n"
       ]
      },
      {
       "output_type": "stream",
       "stream": "stderr",
       "text": [
        "WARNING:GHMM:forward returned -1: Sequence 5 cannot be build.\n"
       ]
      },
      {
       "output_type": "stream",
       "stream": "stderr",
       "text": [
        "GHMM ghmm.py:3746 - forward returned -1: Sequence 8 cannot be build.\n"
       ]
      },
      {
       "output_type": "stream",
       "stream": "stderr",
       "text": [
        "WARNING:GHMM:forward returned -1: Sequence 8 cannot be build.\n"
       ]
      },
      {
       "output_type": "stream",
       "stream": "stderr",
       "text": [
        "GHMM ghmm.py:3746 - forward returned -1: Sequence 10 cannot be build.\n"
       ]
      },
      {
       "output_type": "stream",
       "stream": "stderr",
       "text": [
        "WARNING:GHMM:forward returned -1: Sequence 10 cannot be build.\n"
       ]
      },
      {
       "output_type": "stream",
       "stream": "stderr",
       "text": [
        "GHMM ghmm.py:3746 - forward returned -1: Sequence 1 cannot be build.\n"
       ]
      },
      {
       "output_type": "stream",
       "stream": "stderr",
       "text": [
        "WARNING:GHMM:forward returned -1: Sequence 1 cannot be build.\n"
       ]
      },
      {
       "output_type": "stream",
       "stream": "stderr",
       "text": [
        "GHMM ghmm.py:3746 - forward returned -1: Sequence 2 cannot be build.\n"
       ]
      },
      {
       "output_type": "stream",
       "stream": "stderr",
       "text": [
        "WARNING:GHMM:forward returned -1: Sequence 2 cannot be build.\n"
       ]
      },
      {
       "output_type": "stream",
       "stream": "stderr",
       "text": [
        "GHMM ghmm.py:3746 - forward returned -1: Sequence 3 cannot be build.\n"
       ]
      },
      {
       "output_type": "stream",
       "stream": "stderr",
       "text": [
        "WARNING:GHMM:forward returned -1: Sequence 3 cannot be build.\n"
       ]
      },
      {
       "output_type": "stream",
       "stream": "stderr",
       "text": [
        "GHMM ghmm.py:3746 - forward returned -1: Sequence 5 cannot be build.\n"
       ]
      },
      {
       "output_type": "stream",
       "stream": "stderr",
       "text": [
        "WARNING:GHMM:forward returned -1: Sequence 5 cannot be build.\n"
       ]
      },
      {
       "output_type": "stream",
       "stream": "stderr",
       "text": [
        "GHMM ghmm.py:3746 - forward returned -1: Sequence 8 cannot be build.\n"
       ]
      },
      {
       "output_type": "stream",
       "stream": "stderr",
       "text": [
        "WARNING:GHMM:forward returned -1: Sequence 8 cannot be build.\n"
       ]
      },
      {
       "output_type": "stream",
       "stream": "stderr",
       "text": [
        "GHMM ghmm.py:3746 - forward returned -1: Sequence 10 cannot be build.\n"
       ]
      },
      {
       "output_type": "stream",
       "stream": "stderr",
       "text": [
        "WARNING:GHMM:forward returned -1: Sequence 10 cannot be build.\n"
       ]
      },
      {
       "output_type": "stream",
       "stream": "stderr",
       "text": [
        "GHMM ghmm.py:3746 - forward returned -1: Sequence 1 cannot be build.\n"
       ]
      },
      {
       "output_type": "stream",
       "stream": "stderr",
       "text": [
        "WARNING:GHMM:forward returned -1: Sequence 1 cannot be build.\n"
       ]
      },
      {
       "output_type": "stream",
       "stream": "stderr",
       "text": [
        "GHMM ghmm.py:3746 - forward returned -1: Sequence 2 cannot be build.\n"
       ]
      },
      {
       "output_type": "stream",
       "stream": "stderr",
       "text": [
        "WARNING:GHMM:forward returned -1: Sequence 2 cannot be build.\n"
       ]
      },
      {
       "output_type": "stream",
       "stream": "stderr",
       "text": [
        "GHMM ghmm.py:3746 - forward returned -1: Sequence 3 cannot be build.\n"
       ]
      },
      {
       "output_type": "stream",
       "stream": "stderr",
       "text": [
        "WARNING:GHMM:forward returned -1: Sequence 3 cannot be build.\n"
       ]
      },
      {
       "output_type": "stream",
       "stream": "stderr",
       "text": [
        "GHMM ghmm.py:3746 - forward returned -1: Sequence 5 cannot be build.\n"
       ]
      },
      {
       "output_type": "stream",
       "stream": "stderr",
       "text": [
        "WARNING:GHMM:forward returned -1: Sequence 5 cannot be build.\n"
       ]
      },
      {
       "output_type": "stream",
       "stream": "stderr",
       "text": [
        "GHMM ghmm.py:3746 - forward returned -1: Sequence 8 cannot be build.\n"
       ]
      },
      {
       "output_type": "stream",
       "stream": "stderr",
       "text": [
        "WARNING:GHMM:forward returned -1: Sequence 8 cannot be build.\n"
       ]
      },
      {
       "output_type": "stream",
       "stream": "stderr",
       "text": [
        "GHMM ghmm.py:3746 - forward returned -1: Sequence 10 cannot be build.\n"
       ]
      },
      {
       "output_type": "stream",
       "stream": "stderr",
       "text": [
        "WARNING:GHMM:forward returned -1: Sequence 10 cannot be build.\n"
       ]
      },
      {
       "output_type": "stream",
       "stream": "stderr",
       "text": [
        "GHMM ghmm.py:148 - sreestimate.c:ghmm_cmodel_baum_welch(878): sreestimate_one_step false (1.step)\n"
       ]
      },
      {
       "output_type": "stream",
       "stream": "stderr",
       "text": [
        "WARNING:GHMM:sreestimate.c:ghmm_cmodel_baum_welch(878): sreestimate_one_step false (1.step)\n"
       ]
      },
      {
       "output_type": "stream",
       "stream": "stderr",
       "text": [
        "GHMM ghmm.py:3746 - forward returned -1: Sequence 0 cannot be build.\n"
       ]
      },
      {
       "output_type": "stream",
       "stream": "stderr",
       "text": [
        "WARNING:GHMM:forward returned -1: Sequence 0 cannot be build.\n"
       ]
      },
      {
       "output_type": "stream",
       "stream": "stderr",
       "text": [
        "GHMM ghmm.py:3746 - forward returned -1: Sequence 1 cannot be build.\n"
       ]
      },
      {
       "output_type": "stream",
       "stream": "stderr",
       "text": [
        "WARNING:GHMM:forward returned -1: Sequence 1 cannot be build.\n"
       ]
      },
      {
       "output_type": "stream",
       "stream": "stderr",
       "text": [
        "GHMM ghmm.py:3746 - forward returned -1: Sequence 2 cannot be build.\n"
       ]
      },
      {
       "output_type": "stream",
       "stream": "stderr",
       "text": [
        "WARNING:GHMM:forward returned -1: Sequence 2 cannot be build.\n"
       ]
      },
      {
       "output_type": "stream",
       "stream": "stderr",
       "text": [
        "GHMM ghmm.py:3746 - forward returned -1: Sequence 3 cannot be build.\n"
       ]
      },
      {
       "output_type": "stream",
       "stream": "stderr",
       "text": [
        "WARNING:GHMM:forward returned -1: Sequence 3 cannot be build.\n"
       ]
      },
      {
       "output_type": "stream",
       "stream": "stderr",
       "text": [
        "GHMM ghmm.py:3746 - forward returned -1: Sequence 4 cannot be build.\n"
       ]
      },
      {
       "output_type": "stream",
       "stream": "stderr",
       "text": [
        "WARNING:GHMM:forward returned -1: Sequence 4 cannot be build.\n"
       ]
      },
      {
       "output_type": "stream",
       "stream": "stderr",
       "text": [
        "GHMM ghmm.py:3746 - forward returned -1: Sequence 5 cannot be build.\n"
       ]
      },
      {
       "output_type": "stream",
       "stream": "stderr",
       "text": [
        "WARNING:GHMM:forward returned -1: Sequence 5 cannot be build.\n"
       ]
      },
      {
       "output_type": "stream",
       "stream": "stderr",
       "text": [
        "GHMM ghmm.py:3746 - forward returned -1: Sequence 6 cannot be build.\n"
       ]
      },
      {
       "output_type": "stream",
       "stream": "stderr",
       "text": [
        "WARNING:GHMM:forward returned -1: Sequence 6 cannot be build.\n"
       ]
      },
      {
       "output_type": "stream",
       "stream": "stderr",
       "text": [
        "GHMM ghmm.py:3746 - forward returned -1: Sequence 7 cannot be build.\n"
       ]
      },
      {
       "output_type": "stream",
       "stream": "stderr",
       "text": [
        "WARNING:GHMM:forward returned -1: Sequence 7 cannot be build.\n"
       ]
      },
      {
       "output_type": "stream",
       "stream": "stderr",
       "text": [
        "GHMM ghmm.py:3746 - forward returned -1: Sequence 8 cannot be build.\n"
       ]
      },
      {
       "output_type": "stream",
       "stream": "stderr",
       "text": [
        "WARNING:GHMM:forward returned -1: Sequence 8 cannot be build.\n"
       ]
      },
      {
       "output_type": "stream",
       "stream": "stderr",
       "text": [
        "GHMM ghmm.py:3746 - forward returned -1: Sequence 9 cannot be build.\n"
       ]
      },
      {
       "output_type": "stream",
       "stream": "stderr",
       "text": [
        "WARNING:GHMM:forward returned -1: Sequence 9 cannot be build.\n"
       ]
      },
      {
       "output_type": "stream",
       "stream": "stderr",
       "text": [
        "GHMM ghmm.py:3746 - forward returned -1: Sequence 10 cannot be build.\n"
       ]
      },
      {
       "output_type": "stream",
       "stream": "stderr",
       "text": [
        "WARNING:GHMM:forward returned -1: Sequence 10 cannot be build.\n"
       ]
      },
      {
       "output_type": "stream",
       "stream": "stderr",
       "text": [
        "GHMM ghmm.py:3746 - forward returned -1: Sequence 11 cannot be build.\n"
       ]
      },
      {
       "output_type": "stream",
       "stream": "stderr",
       "text": [
        "WARNING:GHMM:forward returned -1: Sequence 11 cannot be build.\n"
       ]
      },
      {
       "output_type": "stream",
       "stream": "stderr",
       "text": [
        "GHMM ghmm.py:3746 - forward returned -1: Sequence 0 cannot be build.\n"
       ]
      },
      {
       "output_type": "stream",
       "stream": "stderr",
       "text": [
        "WARNING:GHMM:forward returned -1: Sequence 0 cannot be build.\n"
       ]
      },
      {
       "output_type": "stream",
       "stream": "stderr",
       "text": [
        "GHMM ghmm.py:3746 - forward returned -1: Sequence 1 cannot be build.\n"
       ]
      },
      {
       "output_type": "stream",
       "stream": "stderr",
       "text": [
        "WARNING:GHMM:forward returned -1: Sequence 1 cannot be build.\n"
       ]
      },
      {
       "output_type": "stream",
       "stream": "stderr",
       "text": [
        "GHMM ghmm.py:3746 - forward returned -1: Sequence 2 cannot be build.\n"
       ]
      },
      {
       "output_type": "stream",
       "stream": "stderr",
       "text": [
        "WARNING:GHMM:forward returned -1: Sequence 2 cannot be build.\n"
       ]
      },
      {
       "output_type": "stream",
       "stream": "stderr",
       "text": [
        "GHMM ghmm.py:3746 - forward returned -1: Sequence 3 cannot be build.\n"
       ]
      },
      {
       "output_type": "stream",
       "stream": "stderr",
       "text": [
        "WARNING:GHMM:forward returned -1: Sequence 3 cannot be build.\n"
       ]
      },
      {
       "output_type": "stream",
       "stream": "stderr",
       "text": [
        "GHMM ghmm.py:3746 - forward returned -1: Sequence 4 cannot be build.\n"
       ]
      },
      {
       "output_type": "stream",
       "stream": "stderr",
       "text": [
        "WARNING:GHMM:forward returned -1: Sequence 4 cannot be build.\n"
       ]
      },
      {
       "output_type": "stream",
       "stream": "stderr",
       "text": [
        "GHMM ghmm.py:3746 - forward returned -1: Sequence 5 cannot be build.\n"
       ]
      },
      {
       "output_type": "stream",
       "stream": "stderr",
       "text": [
        "WARNING:GHMM:forward returned -1: Sequence 5 cannot be build.\n"
       ]
      },
      {
       "output_type": "stream",
       "stream": "stderr",
       "text": [
        "GHMM ghmm.py:3746 - forward returned -1: Sequence 6 cannot be build.\n"
       ]
      },
      {
       "output_type": "stream",
       "stream": "stderr",
       "text": [
        "WARNING:GHMM:forward returned -1: Sequence 6 cannot be build.\n"
       ]
      },
      {
       "output_type": "stream",
       "stream": "stderr",
       "text": [
        "GHMM ghmm.py:3746 - forward returned -1: Sequence 7 cannot be build.\n"
       ]
      },
      {
       "output_type": "stream",
       "stream": "stderr",
       "text": [
        "WARNING:GHMM:forward returned -1: Sequence 7 cannot be build.\n"
       ]
      },
      {
       "output_type": "stream",
       "stream": "stderr",
       "text": [
        "GHMM ghmm.py:3746 - forward returned -1: Sequence 8 cannot be build.\n"
       ]
      },
      {
       "output_type": "stream",
       "stream": "stderr",
       "text": [
        "WARNING:GHMM:forward returned -1: Sequence 8 cannot be build.\n"
       ]
      },
      {
       "output_type": "stream",
       "stream": "stderr",
       "text": [
        "GHMM ghmm.py:3746 - forward returned -1: Sequence 9 cannot be build.\n"
       ]
      },
      {
       "output_type": "stream",
       "stream": "stderr",
       "text": [
        "WARNING:GHMM:forward returned -1: Sequence 9 cannot be build.\n"
       ]
      },
      {
       "output_type": "stream",
       "stream": "stderr",
       "text": [
        "GHMM ghmm.py:3746 - forward returned -1: Sequence 10 cannot be build.\n"
       ]
      },
      {
       "output_type": "stream",
       "stream": "stderr",
       "text": [
        "WARNING:GHMM:forward returned -1: Sequence 10 cannot be build.\n"
       ]
      },
      {
       "output_type": "stream",
       "stream": "stderr",
       "text": [
        "GHMM ghmm.py:3746 - forward returned -1: Sequence 11 cannot be build.\n"
       ]
      },
      {
       "output_type": "stream",
       "stream": "stderr",
       "text": [
        "WARNING:GHMM:forward returned -1: Sequence 11 cannot be build.\n"
       ]
      },
      {
       "output_type": "stream",
       "stream": "stderr",
       "text": [
        "GHMM ghmm.py:3746 - forward returned -1: Sequence 0 cannot be build.\n"
       ]
      },
      {
       "output_type": "stream",
       "stream": "stderr",
       "text": [
        "WARNING:GHMM:forward returned -1: Sequence 0 cannot be build.\n"
       ]
      },
      {
       "output_type": "stream",
       "stream": "stderr",
       "text": [
        "GHMM ghmm.py:3746 - forward returned -1: Sequence 1 cannot be build.\n"
       ]
      },
      {
       "output_type": "stream",
       "stream": "stderr",
       "text": [
        "WARNING:GHMM:forward returned -1: Sequence 1 cannot be build.\n"
       ]
      },
      {
       "output_type": "stream",
       "stream": "stderr",
       "text": [
        "GHMM ghmm.py:3746 - forward returned -1: Sequence 2 cannot be build.\n"
       ]
      },
      {
       "output_type": "stream",
       "stream": "stderr",
       "text": [
        "WARNING:GHMM:forward returned -1: Sequence 2 cannot be build.\n"
       ]
      },
      {
       "output_type": "stream",
       "stream": "stderr",
       "text": [
        "GHMM ghmm.py:3746 - forward returned -1: Sequence 3 cannot be build.\n"
       ]
      },
      {
       "output_type": "stream",
       "stream": "stderr",
       "text": [
        "WARNING:GHMM:forward returned -1: Sequence 3 cannot be build.\n"
       ]
      },
      {
       "output_type": "stream",
       "stream": "stderr",
       "text": [
        "GHMM ghmm.py:3746 - forward returned -1: Sequence 4 cannot be build.\n"
       ]
      },
      {
       "output_type": "stream",
       "stream": "stderr",
       "text": [
        "WARNING:GHMM:forward returned -1: Sequence 4 cannot be build.\n"
       ]
      },
      {
       "output_type": "stream",
       "stream": "stderr",
       "text": [
        "GHMM ghmm.py:3746 - forward returned -1: Sequence 5 cannot be build.\n"
       ]
      },
      {
       "output_type": "stream",
       "stream": "stderr",
       "text": [
        "WARNING:GHMM:forward returned -1: Sequence 5 cannot be build.\n"
       ]
      },
      {
       "output_type": "stream",
       "stream": "stderr",
       "text": [
        "GHMM ghmm.py:3746 - forward returned -1: Sequence 6 cannot be build.\n"
       ]
      },
      {
       "output_type": "stream",
       "stream": "stderr",
       "text": [
        "WARNING:GHMM:forward returned -1: Sequence 6 cannot be build.\n"
       ]
      },
      {
       "output_type": "stream",
       "stream": "stderr",
       "text": [
        "GHMM ghmm.py:3746 - forward returned -1: Sequence 7 cannot be build.\n"
       ]
      },
      {
       "output_type": "stream",
       "stream": "stderr",
       "text": [
        "WARNING:GHMM:forward returned -1: Sequence 7 cannot be build.\n"
       ]
      },
      {
       "output_type": "stream",
       "stream": "stderr",
       "text": [
        "GHMM ghmm.py:3746 - forward returned -1: Sequence 8 cannot be build.\n"
       ]
      },
      {
       "output_type": "stream",
       "stream": "stderr",
       "text": [
        "WARNING:GHMM:forward returned -1: Sequence 8 cannot be build.\n"
       ]
      },
      {
       "output_type": "stream",
       "stream": "stderr",
       "text": [
        "GHMM ghmm.py:3746 - forward returned -1: Sequence 9 cannot be build.\n"
       ]
      },
      {
       "output_type": "stream",
       "stream": "stderr",
       "text": [
        "WARNING:GHMM:forward returned -1: Sequence 9 cannot be build.\n"
       ]
      },
      {
       "output_type": "stream",
       "stream": "stderr",
       "text": [
        "GHMM ghmm.py:3746 - forward returned -1: Sequence 10 cannot be build.\n"
       ]
      },
      {
       "output_type": "stream",
       "stream": "stderr",
       "text": [
        "WARNING:GHMM:forward returned -1: Sequence 10 cannot be build.\n"
       ]
      },
      {
       "output_type": "stream",
       "stream": "stderr",
       "text": [
        "GHMM ghmm.py:3746 - forward returned -1: Sequence 11 cannot be build.\n"
       ]
      },
      {
       "output_type": "stream",
       "stream": "stderr",
       "text": [
        "WARNING:GHMM:forward returned -1: Sequence 11 cannot be build.\n"
       ]
      },
      {
       "output_type": "stream",
       "stream": "stderr",
       "text": [
        "GHMM ghmm.py:148 - sreestimate.c:ghmm_cmodel_baum_welch(878): sreestimate_one_step false (1.step)\n"
       ]
      },
      {
       "output_type": "stream",
       "stream": "stderr",
       "text": [
        "WARNING:GHMM:sreestimate.c:ghmm_cmodel_baum_welch(878): sreestimate_one_step false (1.step)\n"
       ]
      },
      {
       "output_type": "stream",
       "stream": "stderr",
       "text": [
        "GHMM ghmm.py:3746 - forward returned -1: Sequence 0 cannot be build.\n"
       ]
      },
      {
       "output_type": "stream",
       "stream": "stderr",
       "text": [
        "WARNING:GHMM:forward returned -1: Sequence 0 cannot be build.\n"
       ]
      },
      {
       "output_type": "stream",
       "stream": "stderr",
       "text": [
        "GHMM ghmm.py:3746 - forward returned -1: Sequence 1 cannot be build.\n"
       ]
      },
      {
       "output_type": "stream",
       "stream": "stderr",
       "text": [
        "WARNING:GHMM:forward returned -1: Sequence 1 cannot be build.\n"
       ]
      },
      {
       "output_type": "stream",
       "stream": "stderr",
       "text": [
        "GHMM ghmm.py:3746 - forward returned -1: Sequence 2 cannot be build.\n"
       ]
      },
      {
       "output_type": "stream",
       "stream": "stderr",
       "text": [
        "WARNING:GHMM:forward returned -1: Sequence 2 cannot be build.\n"
       ]
      },
      {
       "output_type": "stream",
       "stream": "stderr",
       "text": [
        "GHMM ghmm.py:3746 - forward returned -1: Sequence 3 cannot be build.\n"
       ]
      },
      {
       "output_type": "stream",
       "stream": "stderr",
       "text": [
        "WARNING:GHMM:forward returned -1: Sequence 3 cannot be build.\n"
       ]
      },
      {
       "output_type": "stream",
       "stream": "stderr",
       "text": [
        "GHMM ghmm.py:3746 - forward returned -1: Sequence 4 cannot be build.\n"
       ]
      },
      {
       "output_type": "stream",
       "stream": "stderr",
       "text": [
        "WARNING:GHMM:forward returned -1: Sequence 4 cannot be build.\n"
       ]
      },
      {
       "output_type": "stream",
       "stream": "stderr",
       "text": [
        "GHMM ghmm.py:3746 - forward returned -1: Sequence 5 cannot be build.\n"
       ]
      },
      {
       "output_type": "stream",
       "stream": "stderr",
       "text": [
        "WARNING:GHMM:forward returned -1: Sequence 5 cannot be build.\n"
       ]
      },
      {
       "output_type": "stream",
       "stream": "stderr",
       "text": [
        "GHMM ghmm.py:3746 - forward returned -1: Sequence 6 cannot be build.\n"
       ]
      },
      {
       "output_type": "stream",
       "stream": "stderr",
       "text": [
        "WARNING:GHMM:forward returned -1: Sequence 6 cannot be build.\n"
       ]
      },
      {
       "output_type": "stream",
       "stream": "stderr",
       "text": [
        "GHMM ghmm.py:3746 - forward returned -1: Sequence 7 cannot be build.\n"
       ]
      },
      {
       "output_type": "stream",
       "stream": "stderr",
       "text": [
        "WARNING:GHMM:forward returned -1: Sequence 7 cannot be build.\n"
       ]
      },
      {
       "output_type": "stream",
       "stream": "stderr",
       "text": [
        "GHMM ghmm.py:3746 - forward returned -1: Sequence 8 cannot be build.\n"
       ]
      },
      {
       "output_type": "stream",
       "stream": "stderr",
       "text": [
        "WARNING:GHMM:forward returned -1: Sequence 8 cannot be build.\n"
       ]
      },
      {
       "output_type": "stream",
       "stream": "stderr",
       "text": [
        "GHMM ghmm.py:3746 - forward returned -1: Sequence 9 cannot be build.\n"
       ]
      },
      {
       "output_type": "stream",
       "stream": "stderr",
       "text": [
        "WARNING:GHMM:forward returned -1: Sequence 9 cannot be build.\n"
       ]
      },
      {
       "output_type": "stream",
       "stream": "stderr",
       "text": [
        "GHMM ghmm.py:3746 - forward returned -1: Sequence 10 cannot be build.\n"
       ]
      },
      {
       "output_type": "stream",
       "stream": "stderr",
       "text": [
        "WARNING:GHMM:forward returned -1: Sequence 10 cannot be build.\n"
       ]
      },
      {
       "output_type": "stream",
       "stream": "stderr",
       "text": [
        "GHMM ghmm.py:3746 - forward returned -1: Sequence 11 cannot be build.\n"
       ]
      },
      {
       "output_type": "stream",
       "stream": "stderr",
       "text": [
        "WARNING:GHMM:forward returned -1: Sequence 11 cannot be build.\n"
       ]
      },
      {
       "output_type": "stream",
       "stream": "stderr",
       "text": [
        "GHMM ghmm.py:3746 - forward returned -1: Sequence 0 cannot be build.\n"
       ]
      },
      {
       "output_type": "stream",
       "stream": "stderr",
       "text": [
        "WARNING:GHMM:forward returned -1: Sequence 0 cannot be build.\n"
       ]
      },
      {
       "output_type": "stream",
       "stream": "stderr",
       "text": [
        "GHMM ghmm.py:3746 - forward returned -1: Sequence 1 cannot be build.\n"
       ]
      },
      {
       "output_type": "stream",
       "stream": "stderr",
       "text": [
        "WARNING:GHMM:forward returned -1: Sequence 1 cannot be build.\n"
       ]
      },
      {
       "output_type": "stream",
       "stream": "stderr",
       "text": [
        "GHMM ghmm.py:3746 - forward returned -1: Sequence 2 cannot be build.\n"
       ]
      },
      {
       "output_type": "stream",
       "stream": "stderr",
       "text": [
        "WARNING:GHMM:forward returned -1: Sequence 2 cannot be build.\n"
       ]
      },
      {
       "output_type": "stream",
       "stream": "stderr",
       "text": [
        "GHMM ghmm.py:3746 - forward returned -1: Sequence 3 cannot be build.\n"
       ]
      },
      {
       "output_type": "stream",
       "stream": "stderr",
       "text": [
        "WARNING:GHMM:forward returned -1: Sequence 3 cannot be build.\n"
       ]
      },
      {
       "output_type": "stream",
       "stream": "stderr",
       "text": [
        "GHMM ghmm.py:3746 - forward returned -1: Sequence 4 cannot be build.\n"
       ]
      },
      {
       "output_type": "stream",
       "stream": "stderr",
       "text": [
        "WARNING:GHMM:forward returned -1: Sequence 4 cannot be build.\n"
       ]
      },
      {
       "output_type": "stream",
       "stream": "stderr",
       "text": [
        "GHMM ghmm.py:3746 - forward returned -1: Sequence 5 cannot be build.\n"
       ]
      },
      {
       "output_type": "stream",
       "stream": "stderr",
       "text": [
        "WARNING:GHMM:forward returned -1: Sequence 5 cannot be build.\n"
       ]
      },
      {
       "output_type": "stream",
       "stream": "stderr",
       "text": [
        "GHMM ghmm.py:3746 - forward returned -1: Sequence 6 cannot be build.\n"
       ]
      },
      {
       "output_type": "stream",
       "stream": "stderr",
       "text": [
        "WARNING:GHMM:forward returned -1: Sequence 6 cannot be build.\n"
       ]
      },
      {
       "output_type": "stream",
       "stream": "stderr",
       "text": [
        "GHMM ghmm.py:3746 - forward returned -1: Sequence 7 cannot be build.\n"
       ]
      },
      {
       "output_type": "stream",
       "stream": "stderr",
       "text": [
        "WARNING:GHMM:forward returned -1: Sequence 7 cannot be build.\n"
       ]
      },
      {
       "output_type": "stream",
       "stream": "stderr",
       "text": [
        "GHMM ghmm.py:3746 - forward returned -1: Sequence 8 cannot be build.\n"
       ]
      },
      {
       "output_type": "stream",
       "stream": "stderr",
       "text": [
        "WARNING:GHMM:forward returned -1: Sequence 8 cannot be build.\n"
       ]
      },
      {
       "output_type": "stream",
       "stream": "stderr",
       "text": [
        "GHMM ghmm.py:3746 - forward returned -1: Sequence 9 cannot be build.\n"
       ]
      },
      {
       "output_type": "stream",
       "stream": "stderr",
       "text": [
        "WARNING:GHMM:forward returned -1: Sequence 9 cannot be build.\n"
       ]
      },
      {
       "output_type": "stream",
       "stream": "stderr",
       "text": [
        "GHMM ghmm.py:3746 - forward returned -1: Sequence 10 cannot be build.\n"
       ]
      },
      {
       "output_type": "stream",
       "stream": "stderr",
       "text": [
        "WARNING:GHMM:forward returned -1: Sequence 10 cannot be build.\n"
       ]
      },
      {
       "output_type": "stream",
       "stream": "stderr",
       "text": [
        "GHMM ghmm.py:3746 - forward returned -1: Sequence 11 cannot be build.\n"
       ]
      },
      {
       "output_type": "stream",
       "stream": "stderr",
       "text": [
        "WARNING:GHMM:forward returned -1: Sequence 11 cannot be build.\n"
       ]
      },
      {
       "output_type": "stream",
       "stream": "stderr",
       "text": [
        "GHMM ghmm.py:3746 - forward returned -1: Sequence 0 cannot be build.\n"
       ]
      },
      {
       "output_type": "stream",
       "stream": "stderr",
       "text": [
        "WARNING:GHMM:forward returned -1: Sequence 0 cannot be build.\n"
       ]
      },
      {
       "output_type": "stream",
       "stream": "stderr",
       "text": [
        "GHMM ghmm.py:3746 - forward returned -1: Sequence 1 cannot be build.\n"
       ]
      },
      {
       "output_type": "stream",
       "stream": "stderr",
       "text": [
        "WARNING:GHMM:forward returned -1: Sequence 1 cannot be build.\n"
       ]
      },
      {
       "output_type": "stream",
       "stream": "stderr",
       "text": [
        "GHMM ghmm.py:3746 - forward returned -1: Sequence 2 cannot be build.\n"
       ]
      },
      {
       "output_type": "stream",
       "stream": "stderr",
       "text": [
        "WARNING:GHMM:forward returned -1: Sequence 2 cannot be build.\n"
       ]
      },
      {
       "output_type": "stream",
       "stream": "stderr",
       "text": [
        "GHMM ghmm.py:3746 - forward returned -1: Sequence 3 cannot be build.\n"
       ]
      },
      {
       "output_type": "stream",
       "stream": "stderr",
       "text": [
        "WARNING:GHMM:forward returned -1: Sequence 3 cannot be build.\n"
       ]
      },
      {
       "output_type": "stream",
       "stream": "stderr",
       "text": [
        "GHMM ghmm.py:3746 - forward returned -1: Sequence 4 cannot be build.\n"
       ]
      },
      {
       "output_type": "stream",
       "stream": "stderr",
       "text": [
        "WARNING:GHMM:forward returned -1: Sequence 4 cannot be build.\n"
       ]
      },
      {
       "output_type": "stream",
       "stream": "stderr",
       "text": [
        "GHMM ghmm.py:3746 - forward returned -1: Sequence 5 cannot be build.\n"
       ]
      },
      {
       "output_type": "stream",
       "stream": "stderr",
       "text": [
        "WARNING:GHMM:forward returned -1: Sequence 5 cannot be build.\n"
       ]
      },
      {
       "output_type": "stream",
       "stream": "stderr",
       "text": [
        "GHMM ghmm.py:3746 - forward returned -1: Sequence 6 cannot be build.\n"
       ]
      },
      {
       "output_type": "stream",
       "stream": "stderr",
       "text": [
        "WARNING:GHMM:forward returned -1: Sequence 6 cannot be build.\n"
       ]
      },
      {
       "output_type": "stream",
       "stream": "stderr",
       "text": [
        "GHMM ghmm.py:3746 - forward returned -1: Sequence 7 cannot be build.\n"
       ]
      },
      {
       "output_type": "stream",
       "stream": "stderr",
       "text": [
        "WARNING:GHMM:forward returned -1: Sequence 7 cannot be build.\n"
       ]
      },
      {
       "output_type": "stream",
       "stream": "stderr",
       "text": [
        "GHMM ghmm.py:3746 - forward returned -1: Sequence 8 cannot be build.\n"
       ]
      },
      {
       "output_type": "stream",
       "stream": "stderr",
       "text": [
        "WARNING:GHMM:forward returned -1: Sequence 8 cannot be build.\n"
       ]
      },
      {
       "output_type": "stream",
       "stream": "stderr",
       "text": [
        "GHMM ghmm.py:3746 - forward returned -1: Sequence 9 cannot be build.\n"
       ]
      },
      {
       "output_type": "stream",
       "stream": "stderr",
       "text": [
        "WARNING:GHMM:forward returned -1: Sequence 9 cannot be build.\n"
       ]
      },
      {
       "output_type": "stream",
       "stream": "stderr",
       "text": [
        "GHMM ghmm.py:3746 - forward returned -1: Sequence 10 cannot be build.\n"
       ]
      },
      {
       "output_type": "stream",
       "stream": "stderr",
       "text": [
        "WARNING:GHMM:forward returned -1: Sequence 10 cannot be build.\n"
       ]
      },
      {
       "output_type": "stream",
       "stream": "stderr",
       "text": [
        "GHMM ghmm.py:3746 - forward returned -1: Sequence 11 cannot be build.\n"
       ]
      },
      {
       "output_type": "stream",
       "stream": "stderr",
       "text": [
        "WARNING:GHMM:forward returned -1: Sequence 11 cannot be build.\n"
       ]
      },
      {
       "output_type": "stream",
       "stream": "stderr",
       "text": [
        "GHMM ghmm.py:148 - sreestimate.c:ghmm_cmodel_baum_welch(898): NO convergence: log P(-2.481863e+04) < log P-old(-7.401969e+03)! (n = 2)\n"
       ]
      },
      {
       "output_type": "stream",
       "stream": "stderr",
       "text": [
        "WARNING:GHMM:sreestimate.c:ghmm_cmodel_baum_welch(898): NO convergence: log P(-2.481863e+04) < log P-old(-7.401969e+03)! (n = 2)\n"
       ]
      },
      {
       "output_type": "stream",
       "stream": "stderr",
       "text": [
        "GHMM ghmm.py:148 - sreestimate.c:ghmm_cmodel_baum_welch(898): NO convergence: log P(-2.462261e+04) < log P-old(-7.486147e+03)! (n = 2)\n"
       ]
      },
      {
       "output_type": "stream",
       "stream": "stderr",
       "text": [
        "WARNING:GHMM:sreestimate.c:ghmm_cmodel_baum_welch(898): NO convergence: log P(-2.462261e+04) < log P-old(-7.486147e+03)! (n = 2)\n"
       ]
      },
      {
       "output_type": "stream",
       "stream": "stderr",
       "text": [
        "GHMM ghmm.py:148 - sreestimate.c:ghmm_cmodel_baum_welch(878): sreestimate_one_step false (1.step)\n"
       ]
      },
      {
       "output_type": "stream",
       "stream": "stderr",
       "text": [
        "WARNING:GHMM:sreestimate.c:ghmm_cmodel_baum_welch(878): sreestimate_one_step false (1.step)\n"
       ]
      },
      {
       "output_type": "stream",
       "stream": "stderr",
       "text": [
        "GHMM ghmm.py:3746 - forward returned -1: Sequence 1 cannot be build.\n"
       ]
      },
      {
       "output_type": "stream",
       "stream": "stderr",
       "text": [
        "WARNING:GHMM:forward returned -1: Sequence 1 cannot be build.\n"
       ]
      },
      {
       "output_type": "stream",
       "stream": "stderr",
       "text": [
        "GHMM ghmm.py:3746 - forward returned -1: Sequence 2 cannot be build.\n"
       ]
      },
      {
       "output_type": "stream",
       "stream": "stderr",
       "text": [
        "WARNING:GHMM:forward returned -1: Sequence 2 cannot be build.\n"
       ]
      },
      {
       "output_type": "stream",
       "stream": "stderr",
       "text": [
        "GHMM ghmm.py:3746 - forward returned -1: Sequence 3 cannot be build.\n"
       ]
      },
      {
       "output_type": "stream",
       "stream": "stderr",
       "text": [
        "WARNING:GHMM:forward returned -1: Sequence 3 cannot be build.\n"
       ]
      },
      {
       "output_type": "stream",
       "stream": "stderr",
       "text": [
        "GHMM ghmm.py:3746 - forward returned -1: Sequence 5 cannot be build.\n"
       ]
      },
      {
       "output_type": "stream",
       "stream": "stderr",
       "text": [
        "WARNING:GHMM:forward returned -1: Sequence 5 cannot be build.\n"
       ]
      },
      {
       "output_type": "stream",
       "stream": "stderr",
       "text": [
        "GHMM ghmm.py:3746 - forward returned -1: Sequence 8 cannot be build.\n"
       ]
      },
      {
       "output_type": "stream",
       "stream": "stderr",
       "text": [
        "WARNING:GHMM:forward returned -1: Sequence 8 cannot be build.\n"
       ]
      },
      {
       "output_type": "stream",
       "stream": "stderr",
       "text": [
        "GHMM ghmm.py:3746 - forward returned -1: Sequence 10 cannot be build.\n"
       ]
      },
      {
       "output_type": "stream",
       "stream": "stderr",
       "text": [
        "WARNING:GHMM:forward returned -1: Sequence 10 cannot be build.\n"
       ]
      },
      {
       "output_type": "stream",
       "stream": "stderr",
       "text": [
        "GHMM ghmm.py:3746 - forward returned -1: Sequence 1 cannot be build.\n"
       ]
      },
      {
       "output_type": "stream",
       "stream": "stderr",
       "text": [
        "WARNING:GHMM:forward returned -1: Sequence 1 cannot be build.\n"
       ]
      },
      {
       "output_type": "stream",
       "stream": "stderr",
       "text": [
        "GHMM ghmm.py:3746 - forward returned -1: Sequence 2 cannot be build.\n"
       ]
      },
      {
       "output_type": "stream",
       "stream": "stderr",
       "text": [
        "WARNING:GHMM:forward returned -1: Sequence 2 cannot be build.\n"
       ]
      },
      {
       "output_type": "stream",
       "stream": "stderr",
       "text": [
        "GHMM ghmm.py:3746 - forward returned -1: Sequence 3 cannot be build.\n"
       ]
      },
      {
       "output_type": "stream",
       "stream": "stderr",
       "text": [
        "WARNING:GHMM:forward returned -1: Sequence 3 cannot be build.\n"
       ]
      },
      {
       "output_type": "stream",
       "stream": "stderr",
       "text": [
        "GHMM ghmm.py:3746 - forward returned -1: Sequence 5 cannot be build.\n"
       ]
      },
      {
       "output_type": "stream",
       "stream": "stderr",
       "text": [
        "WARNING:GHMM:forward returned -1: Sequence 5 cannot be build.\n"
       ]
      },
      {
       "output_type": "stream",
       "stream": "stderr",
       "text": [
        "GHMM ghmm.py:3746 - forward returned -1: Sequence 8 cannot be build.\n"
       ]
      },
      {
       "output_type": "stream",
       "stream": "stderr",
       "text": [
        "WARNING:GHMM:forward returned -1: Sequence 8 cannot be build.\n"
       ]
      },
      {
       "output_type": "stream",
       "stream": "stderr",
       "text": [
        "GHMM ghmm.py:3746 - forward returned -1: Sequence 10 cannot be build.\n"
       ]
      },
      {
       "output_type": "stream",
       "stream": "stderr",
       "text": [
        "WARNING:GHMM:forward returned -1: Sequence 10 cannot be build.\n"
       ]
      },
      {
       "output_type": "stream",
       "stream": "stderr",
       "text": [
        "GHMM ghmm.py:3746 - forward returned -1: Sequence 1 cannot be build.\n"
       ]
      },
      {
       "output_type": "stream",
       "stream": "stderr",
       "text": [
        "WARNING:GHMM:forward returned -1: Sequence 1 cannot be build.\n"
       ]
      },
      {
       "output_type": "stream",
       "stream": "stderr",
       "text": [
        "GHMM ghmm.py:3746 - forward returned -1: Sequence 2 cannot be build.\n"
       ]
      },
      {
       "output_type": "stream",
       "stream": "stderr",
       "text": [
        "WARNING:GHMM:forward returned -1: Sequence 2 cannot be build.\n"
       ]
      },
      {
       "output_type": "stream",
       "stream": "stderr",
       "text": [
        "GHMM ghmm.py:3746 - forward returned -1: Sequence 3 cannot be build.\n"
       ]
      },
      {
       "output_type": "stream",
       "stream": "stderr",
       "text": [
        "WARNING:GHMM:forward returned -1: Sequence 3 cannot be build.\n"
       ]
      },
      {
       "output_type": "stream",
       "stream": "stderr",
       "text": [
        "GHMM ghmm.py:3746 - forward returned -1: Sequence 5 cannot be build.\n"
       ]
      },
      {
       "output_type": "stream",
       "stream": "stderr",
       "text": [
        "WARNING:GHMM:forward returned -1: Sequence 5 cannot be build.\n"
       ]
      },
      {
       "output_type": "stream",
       "stream": "stderr",
       "text": [
        "GHMM ghmm.py:3746 - forward returned -1: Sequence 8 cannot be build.\n"
       ]
      },
      {
       "output_type": "stream",
       "stream": "stderr",
       "text": [
        "WARNING:GHMM:forward returned -1: Sequence 8 cannot be build.\n"
       ]
      },
      {
       "output_type": "stream",
       "stream": "stderr",
       "text": [
        "GHMM ghmm.py:3746 - forward returned -1: Sequence 10 cannot be build.\n"
       ]
      },
      {
       "output_type": "stream",
       "stream": "stderr",
       "text": [
        "WARNING:GHMM:forward returned -1: Sequence 10 cannot be build.\n"
       ]
      },
      {
       "output_type": "stream",
       "stream": "stderr",
       "text": [
        "GHMM ghmm.py:148 - sreestimate.c:ghmm_cmodel_baum_welch(878): sreestimate_one_step false (1.step)\n"
       ]
      },
      {
       "output_type": "stream",
       "stream": "stderr",
       "text": [
        "WARNING:GHMM:sreestimate.c:ghmm_cmodel_baum_welch(878): sreestimate_one_step false (1.step)\n"
       ]
      },
      {
       "output_type": "stream",
       "stream": "stderr",
       "text": [
        "GHMM ghmm.py:3746 - forward returned -1: Sequence 0 cannot be build.\n"
       ]
      },
      {
       "output_type": "stream",
       "stream": "stderr",
       "text": [
        "WARNING:GHMM:forward returned -1: Sequence 0 cannot be build.\n"
       ]
      },
      {
       "output_type": "stream",
       "stream": "stderr",
       "text": [
        "GHMM ghmm.py:3746 - forward returned -1: Sequence 1 cannot be build.\n"
       ]
      },
      {
       "output_type": "stream",
       "stream": "stderr",
       "text": [
        "WARNING:GHMM:forward returned -1: Sequence 1 cannot be build.\n"
       ]
      },
      {
       "output_type": "stream",
       "stream": "stderr",
       "text": [
        "GHMM ghmm.py:3746 - forward returned -1: Sequence 2 cannot be build.\n"
       ]
      },
      {
       "output_type": "stream",
       "stream": "stderr",
       "text": [
        "WARNING:GHMM:forward returned -1: Sequence 2 cannot be build.\n"
       ]
      },
      {
       "output_type": "stream",
       "stream": "stderr",
       "text": [
        "GHMM ghmm.py:3746 - forward returned -1: Sequence 3 cannot be build.\n"
       ]
      },
      {
       "output_type": "stream",
       "stream": "stderr",
       "text": [
        "WARNING:GHMM:forward returned -1: Sequence 3 cannot be build.\n"
       ]
      },
      {
       "output_type": "stream",
       "stream": "stderr",
       "text": [
        "GHMM ghmm.py:3746 - forward returned -1: Sequence 4 cannot be build.\n"
       ]
      },
      {
       "output_type": "stream",
       "stream": "stderr",
       "text": [
        "WARNING:GHMM:forward returned -1: Sequence 4 cannot be build.\n"
       ]
      },
      {
       "output_type": "stream",
       "stream": "stderr",
       "text": [
        "GHMM ghmm.py:3746 - forward returned -1: Sequence 5 cannot be build.\n"
       ]
      },
      {
       "output_type": "stream",
       "stream": "stderr",
       "text": [
        "WARNING:GHMM:forward returned -1: Sequence 5 cannot be build.\n"
       ]
      },
      {
       "output_type": "stream",
       "stream": "stderr",
       "text": [
        "GHMM ghmm.py:3746 - forward returned -1: Sequence 6 cannot be build.\n"
       ]
      },
      {
       "output_type": "stream",
       "stream": "stderr",
       "text": [
        "WARNING:GHMM:forward returned -1: Sequence 6 cannot be build.\n"
       ]
      },
      {
       "output_type": "stream",
       "stream": "stderr",
       "text": [
        "GHMM ghmm.py:3746 - forward returned -1: Sequence 7 cannot be build.\n"
       ]
      },
      {
       "output_type": "stream",
       "stream": "stderr",
       "text": [
        "WARNING:GHMM:forward returned -1: Sequence 7 cannot be build.\n"
       ]
      },
      {
       "output_type": "stream",
       "stream": "stderr",
       "text": [
        "GHMM ghmm.py:3746 - forward returned -1: Sequence 8 cannot be build.\n"
       ]
      },
      {
       "output_type": "stream",
       "stream": "stderr",
       "text": [
        "WARNING:GHMM:forward returned -1: Sequence 8 cannot be build.\n"
       ]
      },
      {
       "output_type": "stream",
       "stream": "stderr",
       "text": [
        "GHMM ghmm.py:3746 - forward returned -1: Sequence 9 cannot be build.\n"
       ]
      },
      {
       "output_type": "stream",
       "stream": "stderr",
       "text": [
        "WARNING:GHMM:forward returned -1: Sequence 9 cannot be build.\n"
       ]
      },
      {
       "output_type": "stream",
       "stream": "stderr",
       "text": [
        "GHMM ghmm.py:3746 - forward returned -1: Sequence 10 cannot be build.\n"
       ]
      },
      {
       "output_type": "stream",
       "stream": "stderr",
       "text": [
        "WARNING:GHMM:forward returned -1: Sequence 10 cannot be build.\n"
       ]
      },
      {
       "output_type": "stream",
       "stream": "stderr",
       "text": [
        "GHMM ghmm.py:3746 - forward returned -1: Sequence 11 cannot be build.\n"
       ]
      },
      {
       "output_type": "stream",
       "stream": "stderr",
       "text": [
        "WARNING:GHMM:forward returned -1: Sequence 11 cannot be build.\n"
       ]
      },
      {
       "output_type": "stream",
       "stream": "stderr",
       "text": [
        "GHMM ghmm.py:3746 - forward returned -1: Sequence 0 cannot be build.\n"
       ]
      },
      {
       "output_type": "stream",
       "stream": "stderr",
       "text": [
        "WARNING:GHMM:forward returned -1: Sequence 0 cannot be build.\n"
       ]
      },
      {
       "output_type": "stream",
       "stream": "stderr",
       "text": [
        "GHMM ghmm.py:3746 - forward returned -1: Sequence 1 cannot be build.\n"
       ]
      },
      {
       "output_type": "stream",
       "stream": "stderr",
       "text": [
        "WARNING:GHMM:forward returned -1: Sequence 1 cannot be build.\n"
       ]
      },
      {
       "output_type": "stream",
       "stream": "stderr",
       "text": [
        "GHMM ghmm.py:3746 - forward returned -1: Sequence 2 cannot be build.\n"
       ]
      },
      {
       "output_type": "stream",
       "stream": "stderr",
       "text": [
        "WARNING:GHMM:forward returned -1: Sequence 2 cannot be build.\n"
       ]
      },
      {
       "output_type": "stream",
       "stream": "stderr",
       "text": [
        "GHMM ghmm.py:3746 - forward returned -1: Sequence 3 cannot be build.\n"
       ]
      },
      {
       "output_type": "stream",
       "stream": "stderr",
       "text": [
        "WARNING:GHMM:forward returned -1: Sequence 3 cannot be build.\n"
       ]
      },
      {
       "output_type": "stream",
       "stream": "stderr",
       "text": [
        "GHMM ghmm.py:3746 - forward returned -1: Sequence 4 cannot be build.\n"
       ]
      },
      {
       "output_type": "stream",
       "stream": "stderr",
       "text": [
        "WARNING:GHMM:forward returned -1: Sequence 4 cannot be build.\n"
       ]
      },
      {
       "output_type": "stream",
       "stream": "stderr",
       "text": [
        "GHMM ghmm.py:3746 - forward returned -1: Sequence 5 cannot be build.\n"
       ]
      },
      {
       "output_type": "stream",
       "stream": "stderr",
       "text": [
        "WARNING:GHMM:forward returned -1: Sequence 5 cannot be build.\n"
       ]
      },
      {
       "output_type": "stream",
       "stream": "stderr",
       "text": [
        "GHMM ghmm.py:3746 - forward returned -1: Sequence 6 cannot be build.\n"
       ]
      },
      {
       "output_type": "stream",
       "stream": "stderr",
       "text": [
        "WARNING:GHMM:forward returned -1: Sequence 6 cannot be build.\n"
       ]
      },
      {
       "output_type": "stream",
       "stream": "stderr",
       "text": [
        "GHMM ghmm.py:3746 - forward returned -1: Sequence 7 cannot be build.\n"
       ]
      },
      {
       "output_type": "stream",
       "stream": "stderr",
       "text": [
        "WARNING:GHMM:forward returned -1: Sequence 7 cannot be build.\n"
       ]
      },
      {
       "output_type": "stream",
       "stream": "stderr",
       "text": [
        "GHMM ghmm.py:3746 - forward returned -1: Sequence 8 cannot be build.\n"
       ]
      },
      {
       "output_type": "stream",
       "stream": "stderr",
       "text": [
        "WARNING:GHMM:forward returned -1: Sequence 8 cannot be build.\n"
       ]
      },
      {
       "output_type": "stream",
       "stream": "stderr",
       "text": [
        "GHMM ghmm.py:3746 - forward returned -1: Sequence 9 cannot be build.\n"
       ]
      },
      {
       "output_type": "stream",
       "stream": "stderr",
       "text": [
        "WARNING:GHMM:forward returned -1: Sequence 9 cannot be build.\n"
       ]
      },
      {
       "output_type": "stream",
       "stream": "stderr",
       "text": [
        "GHMM ghmm.py:3746 - forward returned -1: Sequence 10 cannot be build.\n"
       ]
      },
      {
       "output_type": "stream",
       "stream": "stderr",
       "text": [
        "WARNING:GHMM:forward returned -1: Sequence 10 cannot be build.\n"
       ]
      },
      {
       "output_type": "stream",
       "stream": "stderr",
       "text": [
        "GHMM ghmm.py:3746 - forward returned -1: Sequence 11 cannot be build.\n"
       ]
      },
      {
       "output_type": "stream",
       "stream": "stderr",
       "text": [
        "WARNING:GHMM:forward returned -1: Sequence 11 cannot be build.\n"
       ]
      },
      {
       "output_type": "stream",
       "stream": "stderr",
       "text": [
        "GHMM ghmm.py:3746 - forward returned -1: Sequence 0 cannot be build.\n"
       ]
      },
      {
       "output_type": "stream",
       "stream": "stderr",
       "text": [
        "WARNING:GHMM:forward returned -1: Sequence 0 cannot be build.\n"
       ]
      },
      {
       "output_type": "stream",
       "stream": "stderr",
       "text": [
        "GHMM ghmm.py:3746 - forward returned -1: Sequence 1 cannot be build.\n"
       ]
      },
      {
       "output_type": "stream",
       "stream": "stderr",
       "text": [
        "WARNING:GHMM:forward returned -1: Sequence 1 cannot be build.\n"
       ]
      },
      {
       "output_type": "stream",
       "stream": "stderr",
       "text": [
        "GHMM ghmm.py:3746 - forward returned -1: Sequence 2 cannot be build.\n"
       ]
      },
      {
       "output_type": "stream",
       "stream": "stderr",
       "text": [
        "WARNING:GHMM:forward returned -1: Sequence 2 cannot be build.\n"
       ]
      },
      {
       "output_type": "stream",
       "stream": "stderr",
       "text": [
        "GHMM ghmm.py:3746 - forward returned -1: Sequence 3 cannot be build.\n"
       ]
      },
      {
       "output_type": "stream",
       "stream": "stderr",
       "text": [
        "WARNING:GHMM:forward returned -1: Sequence 3 cannot be build.\n"
       ]
      },
      {
       "output_type": "stream",
       "stream": "stderr",
       "text": [
        "GHMM ghmm.py:3746 - forward returned -1: Sequence 4 cannot be build.\n"
       ]
      },
      {
       "output_type": "stream",
       "stream": "stderr",
       "text": [
        "WARNING:GHMM:forward returned -1: Sequence 4 cannot be build.\n"
       ]
      },
      {
       "output_type": "stream",
       "stream": "stderr",
       "text": [
        "GHMM ghmm.py:3746 - forward returned -1: Sequence 5 cannot be build.\n"
       ]
      },
      {
       "output_type": "stream",
       "stream": "stderr",
       "text": [
        "WARNING:GHMM:forward returned -1: Sequence 5 cannot be build.\n"
       ]
      },
      {
       "output_type": "stream",
       "stream": "stderr",
       "text": [
        "GHMM ghmm.py:3746 - forward returned -1: Sequence 6 cannot be build.\n"
       ]
      },
      {
       "output_type": "stream",
       "stream": "stderr",
       "text": [
        "WARNING:GHMM:forward returned -1: Sequence 6 cannot be build.\n"
       ]
      },
      {
       "output_type": "stream",
       "stream": "stderr",
       "text": [
        "GHMM ghmm.py:3746 - forward returned -1: Sequence 7 cannot be build.\n"
       ]
      },
      {
       "output_type": "stream",
       "stream": "stderr",
       "text": [
        "WARNING:GHMM:forward returned -1: Sequence 7 cannot be build.\n"
       ]
      },
      {
       "output_type": "stream",
       "stream": "stderr",
       "text": [
        "GHMM ghmm.py:3746 - forward returned -1: Sequence 8 cannot be build.\n"
       ]
      },
      {
       "output_type": "stream",
       "stream": "stderr",
       "text": [
        "WARNING:GHMM:forward returned -1: Sequence 8 cannot be build.\n"
       ]
      },
      {
       "output_type": "stream",
       "stream": "stderr",
       "text": [
        "GHMM ghmm.py:3746 - forward returned -1: Sequence 9 cannot be build.\n"
       ]
      },
      {
       "output_type": "stream",
       "stream": "stderr",
       "text": [
        "WARNING:GHMM:forward returned -1: Sequence 9 cannot be build.\n"
       ]
      },
      {
       "output_type": "stream",
       "stream": "stderr",
       "text": [
        "GHMM ghmm.py:3746 - forward returned -1: Sequence 10 cannot be build.\n"
       ]
      },
      {
       "output_type": "stream",
       "stream": "stderr",
       "text": [
        "WARNING:GHMM:forward returned -1: Sequence 10 cannot be build.\n"
       ]
      },
      {
       "output_type": "stream",
       "stream": "stderr",
       "text": [
        "GHMM ghmm.py:3746 - forward returned -1: Sequence 11 cannot be build.\n"
       ]
      },
      {
       "output_type": "stream",
       "stream": "stderr",
       "text": [
        "WARNING:GHMM:forward returned -1: Sequence 11 cannot be build.\n"
       ]
      },
      {
       "output_type": "stream",
       "stream": "stderr",
       "text": [
        "GHMM ghmm.py:148 - sreestimate.c:ghmm_cmodel_baum_welch(878): sreestimate_one_step false (1.step)\n"
       ]
      },
      {
       "output_type": "stream",
       "stream": "stderr",
       "text": [
        "WARNING:GHMM:sreestimate.c:ghmm_cmodel_baum_welch(878): sreestimate_one_step false (1.step)\n"
       ]
      },
      {
       "output_type": "stream",
       "stream": "stderr",
       "text": [
        "GHMM ghmm.py:3746 - forward returned -1: Sequence 1 cannot be build.\n"
       ]
      },
      {
       "output_type": "stream",
       "stream": "stderr",
       "text": [
        "WARNING:GHMM:forward returned -1: Sequence 1 cannot be build.\n"
       ]
      },
      {
       "output_type": "stream",
       "stream": "stderr",
       "text": [
        "GHMM ghmm.py:3746 - forward returned -1: Sequence 2 cannot be build.\n"
       ]
      },
      {
       "output_type": "stream",
       "stream": "stderr",
       "text": [
        "WARNING:GHMM:forward returned -1: Sequence 2 cannot be build.\n"
       ]
      },
      {
       "output_type": "stream",
       "stream": "stderr",
       "text": [
        "GHMM ghmm.py:3746 - forward returned -1: Sequence 3 cannot be build.\n"
       ]
      },
      {
       "output_type": "stream",
       "stream": "stderr",
       "text": [
        "WARNING:GHMM:forward returned -1: Sequence 3 cannot be build.\n"
       ]
      },
      {
       "output_type": "stream",
       "stream": "stderr",
       "text": [
        "GHMM ghmm.py:3746 - forward returned -1: Sequence 5 cannot be build.\n"
       ]
      },
      {
       "output_type": "stream",
       "stream": "stderr",
       "text": [
        "WARNING:GHMM:forward returned -1: Sequence 5 cannot be build.\n"
       ]
      },
      {
       "output_type": "stream",
       "stream": "stderr",
       "text": [
        "GHMM ghmm.py:3746 - forward returned -1: Sequence 8 cannot be build.\n"
       ]
      },
      {
       "output_type": "stream",
       "stream": "stderr",
       "text": [
        "WARNING:GHMM:forward returned -1: Sequence 8 cannot be build.\n"
       ]
      },
      {
       "output_type": "stream",
       "stream": "stderr",
       "text": [
        "GHMM ghmm.py:3746 - forward returned -1: Sequence 10 cannot be build.\n"
       ]
      },
      {
       "output_type": "stream",
       "stream": "stderr",
       "text": [
        "WARNING:GHMM:forward returned -1: Sequence 10 cannot be build.\n"
       ]
      },
      {
       "output_type": "stream",
       "stream": "stderr",
       "text": [
        "GHMM ghmm.py:3746 - forward returned -1: Sequence 1 cannot be build.\n"
       ]
      },
      {
       "output_type": "stream",
       "stream": "stderr",
       "text": [
        "WARNING:GHMM:forward returned -1: Sequence 1 cannot be build.\n"
       ]
      },
      {
       "output_type": "stream",
       "stream": "stderr",
       "text": [
        "GHMM ghmm.py:3746 - forward returned -1: Sequence 2 cannot be build.\n"
       ]
      },
      {
       "output_type": "stream",
       "stream": "stderr",
       "text": [
        "WARNING:GHMM:forward returned -1: Sequence 2 cannot be build.\n"
       ]
      },
      {
       "output_type": "stream",
       "stream": "stderr",
       "text": [
        "GHMM ghmm.py:3746 - forward returned -1: Sequence 3 cannot be build.\n"
       ]
      },
      {
       "output_type": "stream",
       "stream": "stderr",
       "text": [
        "WARNING:GHMM:forward returned -1: Sequence 3 cannot be build.\n"
       ]
      },
      {
       "output_type": "stream",
       "stream": "stderr",
       "text": [
        "GHMM ghmm.py:3746 - forward returned -1: Sequence 5 cannot be build.\n"
       ]
      },
      {
       "output_type": "stream",
       "stream": "stderr",
       "text": [
        "WARNING:GHMM:forward returned -1: Sequence 5 cannot be build.\n"
       ]
      },
      {
       "output_type": "stream",
       "stream": "stderr",
       "text": [
        "GHMM ghmm.py:3746 - forward returned -1: Sequence 8 cannot be build.\n"
       ]
      },
      {
       "output_type": "stream",
       "stream": "stderr",
       "text": [
        "WARNING:GHMM:forward returned -1: Sequence 8 cannot be build.\n"
       ]
      },
      {
       "output_type": "stream",
       "stream": "stderr",
       "text": [
        "GHMM ghmm.py:3746 - forward returned -1: Sequence 10 cannot be build.\n"
       ]
      },
      {
       "output_type": "stream",
       "stream": "stderr",
       "text": [
        "WARNING:GHMM:forward returned -1: Sequence 10 cannot be build.\n"
       ]
      },
      {
       "output_type": "stream",
       "stream": "stderr",
       "text": [
        "GHMM ghmm.py:3746 - forward returned -1: Sequence 1 cannot be build.\n"
       ]
      },
      {
       "output_type": "stream",
       "stream": "stderr",
       "text": [
        "WARNING:GHMM:forward returned -1: Sequence 1 cannot be build.\n"
       ]
      },
      {
       "output_type": "stream",
       "stream": "stderr",
       "text": [
        "GHMM ghmm.py:3746 - forward returned -1: Sequence 2 cannot be build.\n"
       ]
      },
      {
       "output_type": "stream",
       "stream": "stderr",
       "text": [
        "WARNING:GHMM:forward returned -1: Sequence 2 cannot be build.\n"
       ]
      },
      {
       "output_type": "stream",
       "stream": "stderr",
       "text": [
        "GHMM ghmm.py:3746 - forward returned -1: Sequence 3 cannot be build.\n"
       ]
      },
      {
       "output_type": "stream",
       "stream": "stderr",
       "text": [
        "WARNING:GHMM:forward returned -1: Sequence 3 cannot be build.\n"
       ]
      },
      {
       "output_type": "stream",
       "stream": "stderr",
       "text": [
        "GHMM ghmm.py:3746 - forward returned -1: Sequence 5 cannot be build.\n"
       ]
      },
      {
       "output_type": "stream",
       "stream": "stderr",
       "text": [
        "WARNING:GHMM:forward returned -1: Sequence 5 cannot be build.\n"
       ]
      },
      {
       "output_type": "stream",
       "stream": "stderr",
       "text": [
        "GHMM ghmm.py:3746 - forward returned -1: Sequence 8 cannot be build.\n"
       ]
      },
      {
       "output_type": "stream",
       "stream": "stderr",
       "text": [
        "WARNING:GHMM:forward returned -1: Sequence 8 cannot be build.\n"
       ]
      },
      {
       "output_type": "stream",
       "stream": "stderr",
       "text": [
        "GHMM ghmm.py:3746 - forward returned -1: Sequence 10 cannot be build.\n"
       ]
      },
      {
       "output_type": "stream",
       "stream": "stderr",
       "text": [
        "WARNING:GHMM:forward returned -1: Sequence 10 cannot be build.\n"
       ]
      },
      {
       "output_type": "stream",
       "stream": "stderr",
       "text": [
        "GHMM ghmm.py:148 - sreestimate.c:ghmm_cmodel_baum_welch(878): sreestimate_one_step false (1.step)\n"
       ]
      },
      {
       "output_type": "stream",
       "stream": "stderr",
       "text": [
        "WARNING:GHMM:sreestimate.c:ghmm_cmodel_baum_welch(878): sreestimate_one_step false (1.step)\n"
       ]
      },
      {
       "output_type": "stream",
       "stream": "stderr",
       "text": [
        "GHMM ghmm.py:3746 - forward returned -1: Sequence 1 cannot be build.\n"
       ]
      },
      {
       "output_type": "stream",
       "stream": "stderr",
       "text": [
        "WARNING:GHMM:forward returned -1: Sequence 1 cannot be build.\n"
       ]
      },
      {
       "output_type": "stream",
       "stream": "stderr",
       "text": [
        "GHMM ghmm.py:3746 - forward returned -1: Sequence 2 cannot be build.\n"
       ]
      },
      {
       "output_type": "stream",
       "stream": "stderr",
       "text": [
        "WARNING:GHMM:forward returned -1: Sequence 2 cannot be build.\n"
       ]
      },
      {
       "output_type": "stream",
       "stream": "stderr",
       "text": [
        "GHMM ghmm.py:3746 - forward returned -1: Sequence 3 cannot be build.\n"
       ]
      },
      {
       "output_type": "stream",
       "stream": "stderr",
       "text": [
        "WARNING:GHMM:forward returned -1: Sequence 3 cannot be build.\n"
       ]
      },
      {
       "output_type": "stream",
       "stream": "stderr",
       "text": [
        "GHMM ghmm.py:3746 - forward returned -1: Sequence 5 cannot be build.\n"
       ]
      },
      {
       "output_type": "stream",
       "stream": "stderr",
       "text": [
        "WARNING:GHMM:forward returned -1: Sequence 5 cannot be build.\n"
       ]
      },
      {
       "output_type": "stream",
       "stream": "stderr",
       "text": [
        "GHMM ghmm.py:3746 - forward returned -1: Sequence 8 cannot be build.\n"
       ]
      },
      {
       "output_type": "stream",
       "stream": "stderr",
       "text": [
        "WARNING:GHMM:forward returned -1: Sequence 8 cannot be build.\n"
       ]
      },
      {
       "output_type": "stream",
       "stream": "stderr",
       "text": [
        "GHMM ghmm.py:3746 - forward returned -1: Sequence 10 cannot be build.\n"
       ]
      },
      {
       "output_type": "stream",
       "stream": "stderr",
       "text": [
        "WARNING:GHMM:forward returned -1: Sequence 10 cannot be build.\n"
       ]
      },
      {
       "output_type": "stream",
       "stream": "stderr",
       "text": [
        "GHMM ghmm.py:3746 - forward returned -1: Sequence 1 cannot be build.\n"
       ]
      },
      {
       "output_type": "stream",
       "stream": "stderr",
       "text": [
        "WARNING:GHMM:forward returned -1: Sequence 1 cannot be build.\n"
       ]
      },
      {
       "output_type": "stream",
       "stream": "stderr",
       "text": [
        "GHMM ghmm.py:3746 - forward returned -1: Sequence 2 cannot be build.\n"
       ]
      },
      {
       "output_type": "stream",
       "stream": "stderr",
       "text": [
        "WARNING:GHMM:forward returned -1: Sequence 2 cannot be build.\n"
       ]
      },
      {
       "output_type": "stream",
       "stream": "stderr",
       "text": [
        "GHMM ghmm.py:3746 - forward returned -1: Sequence 3 cannot be build.\n"
       ]
      },
      {
       "output_type": "stream",
       "stream": "stderr",
       "text": [
        "WARNING:GHMM:forward returned -1: Sequence 3 cannot be build.\n"
       ]
      },
      {
       "output_type": "stream",
       "stream": "stderr",
       "text": [
        "GHMM ghmm.py:3746 - forward returned -1: Sequence 5 cannot be build.\n"
       ]
      },
      {
       "output_type": "stream",
       "stream": "stderr",
       "text": [
        "WARNING:GHMM:forward returned -1: Sequence 5 cannot be build.\n"
       ]
      },
      {
       "output_type": "stream",
       "stream": "stderr",
       "text": [
        "GHMM ghmm.py:3746 - forward returned -1: Sequence 8 cannot be build.\n"
       ]
      },
      {
       "output_type": "stream",
       "stream": "stderr",
       "text": [
        "WARNING:GHMM:forward returned -1: Sequence 8 cannot be build.\n"
       ]
      },
      {
       "output_type": "stream",
       "stream": "stderr",
       "text": [
        "GHMM ghmm.py:3746 - forward returned -1: Sequence 10 cannot be build.\n"
       ]
      },
      {
       "output_type": "stream",
       "stream": "stderr",
       "text": [
        "WARNING:GHMM:forward returned -1: Sequence 10 cannot be build.\n"
       ]
      },
      {
       "output_type": "stream",
       "stream": "stderr",
       "text": [
        "GHMM ghmm.py:3746 - forward returned -1: Sequence 1 cannot be build.\n"
       ]
      },
      {
       "output_type": "stream",
       "stream": "stderr",
       "text": [
        "WARNING:GHMM:forward returned -1: Sequence 1 cannot be build.\n"
       ]
      },
      {
       "output_type": "stream",
       "stream": "stderr",
       "text": [
        "GHMM ghmm.py:3746 - forward returned -1: Sequence 2 cannot be build.\n"
       ]
      },
      {
       "output_type": "stream",
       "stream": "stderr",
       "text": [
        "WARNING:GHMM:forward returned -1: Sequence 2 cannot be build.\n"
       ]
      },
      {
       "output_type": "stream",
       "stream": "stderr",
       "text": [
        "GHMM ghmm.py:3746 - forward returned -1: Sequence 3 cannot be build.\n"
       ]
      },
      {
       "output_type": "stream",
       "stream": "stderr",
       "text": [
        "WARNING:GHMM:forward returned -1: Sequence 3 cannot be build.\n"
       ]
      },
      {
       "output_type": "stream",
       "stream": "stderr",
       "text": [
        "GHMM ghmm.py:3746 - forward returned -1: Sequence 5 cannot be build.\n"
       ]
      },
      {
       "output_type": "stream",
       "stream": "stderr",
       "text": [
        "WARNING:GHMM:forward returned -1: Sequence 5 cannot be build.\n"
       ]
      },
      {
       "output_type": "stream",
       "stream": "stderr",
       "text": [
        "GHMM ghmm.py:3746 - forward returned -1: Sequence 8 cannot be build.\n"
       ]
      },
      {
       "output_type": "stream",
       "stream": "stderr",
       "text": [
        "WARNING:GHMM:forward returned -1: Sequence 8 cannot be build.\n"
       ]
      },
      {
       "output_type": "stream",
       "stream": "stderr",
       "text": [
        "GHMM ghmm.py:3746 - forward returned -1: Sequence 10 cannot be build.\n"
       ]
      },
      {
       "output_type": "stream",
       "stream": "stderr",
       "text": [
        "WARNING:GHMM:forward returned -1: Sequence 10 cannot be build.\n"
       ]
      },
      {
       "output_type": "stream",
       "stream": "stderr",
       "text": [
        "GHMM ghmm.py:148 - sreestimate.c:ghmm_cmodel_baum_welch(878): sreestimate_one_step false (1.step)\n"
       ]
      },
      {
       "output_type": "stream",
       "stream": "stderr",
       "text": [
        "WARNING:GHMM:sreestimate.c:ghmm_cmodel_baum_welch(878): sreestimate_one_step false (1.step)\n"
       ]
      },
      {
       "output_type": "stream",
       "stream": "stderr",
       "text": [
        "GHMM ghmm.py:3746 - forward returned -1: Sequence 0 cannot be build.\n"
       ]
      },
      {
       "output_type": "stream",
       "stream": "stderr",
       "text": [
        "WARNING:GHMM:forward returned -1: Sequence 0 cannot be build.\n"
       ]
      },
      {
       "output_type": "stream",
       "stream": "stderr",
       "text": [
        "GHMM ghmm.py:3746 - forward returned -1: Sequence 1 cannot be build.\n"
       ]
      },
      {
       "output_type": "stream",
       "stream": "stderr",
       "text": [
        "WARNING:GHMM:forward returned -1: Sequence 1 cannot be build.\n"
       ]
      },
      {
       "output_type": "stream",
       "stream": "stderr",
       "text": [
        "GHMM ghmm.py:3746 - forward returned -1: Sequence 2 cannot be build.\n"
       ]
      },
      {
       "output_type": "stream",
       "stream": "stderr",
       "text": [
        "WARNING:GHMM:forward returned -1: Sequence 2 cannot be build.\n"
       ]
      },
      {
       "output_type": "stream",
       "stream": "stderr",
       "text": [
        "GHMM ghmm.py:3746 - forward returned -1: Sequence 3 cannot be build.\n"
       ]
      },
      {
       "output_type": "stream",
       "stream": "stderr",
       "text": [
        "WARNING:GHMM:forward returned -1: Sequence 3 cannot be build.\n"
       ]
      },
      {
       "output_type": "stream",
       "stream": "stderr",
       "text": [
        "GHMM ghmm.py:3746 - forward returned -1: Sequence 4 cannot be build.\n"
       ]
      },
      {
       "output_type": "stream",
       "stream": "stderr",
       "text": [
        "WARNING:GHMM:forward returned -1: Sequence 4 cannot be build.\n"
       ]
      },
      {
       "output_type": "stream",
       "stream": "stderr",
       "text": [
        "GHMM ghmm.py:3746 - forward returned -1: Sequence 5 cannot be build.\n"
       ]
      },
      {
       "output_type": "stream",
       "stream": "stderr",
       "text": [
        "WARNING:GHMM:forward returned -1: Sequence 5 cannot be build.\n"
       ]
      },
      {
       "output_type": "stream",
       "stream": "stderr",
       "text": [
        "GHMM ghmm.py:3746 - forward returned -1: Sequence 6 cannot be build.\n"
       ]
      },
      {
       "output_type": "stream",
       "stream": "stderr",
       "text": [
        "WARNING:GHMM:forward returned -1: Sequence 6 cannot be build.\n"
       ]
      },
      {
       "output_type": "stream",
       "stream": "stderr",
       "text": [
        "GHMM ghmm.py:3746 - forward returned -1: Sequence 7 cannot be build.\n"
       ]
      },
      {
       "output_type": "stream",
       "stream": "stderr",
       "text": [
        "WARNING:GHMM:forward returned -1: Sequence 7 cannot be build.\n"
       ]
      },
      {
       "output_type": "stream",
       "stream": "stderr",
       "text": [
        "GHMM ghmm.py:3746 - forward returned -1: Sequence 8 cannot be build.\n"
       ]
      },
      {
       "output_type": "stream",
       "stream": "stderr",
       "text": [
        "WARNING:GHMM:forward returned -1: Sequence 8 cannot be build.\n"
       ]
      },
      {
       "output_type": "stream",
       "stream": "stderr",
       "text": [
        "GHMM ghmm.py:3746 - forward returned -1: Sequence 9 cannot be build.\n"
       ]
      },
      {
       "output_type": "stream",
       "stream": "stderr",
       "text": [
        "WARNING:GHMM:forward returned -1: Sequence 9 cannot be build.\n"
       ]
      },
      {
       "output_type": "stream",
       "stream": "stderr",
       "text": [
        "GHMM ghmm.py:3746 - forward returned -1: Sequence 10 cannot be build.\n"
       ]
      },
      {
       "output_type": "stream",
       "stream": "stderr",
       "text": [
        "WARNING:GHMM:forward returned -1: Sequence 10 cannot be build.\n"
       ]
      },
      {
       "output_type": "stream",
       "stream": "stderr",
       "text": [
        "GHMM ghmm.py:3746 - forward returned -1: Sequence 11 cannot be build.\n"
       ]
      },
      {
       "output_type": "stream",
       "stream": "stderr",
       "text": [
        "WARNING:GHMM:forward returned -1: Sequence 11 cannot be build.\n"
       ]
      },
      {
       "output_type": "stream",
       "stream": "stderr",
       "text": [
        "GHMM ghmm.py:3746 - forward returned -1: Sequence 0 cannot be build.\n"
       ]
      },
      {
       "output_type": "stream",
       "stream": "stderr",
       "text": [
        "WARNING:GHMM:forward returned -1: Sequence 0 cannot be build.\n"
       ]
      },
      {
       "output_type": "stream",
       "stream": "stderr",
       "text": [
        "GHMM ghmm.py:3746 - forward returned -1: Sequence 1 cannot be build.\n"
       ]
      },
      {
       "output_type": "stream",
       "stream": "stderr",
       "text": [
        "WARNING:GHMM:forward returned -1: Sequence 1 cannot be build.\n"
       ]
      },
      {
       "output_type": "stream",
       "stream": "stderr",
       "text": [
        "GHMM ghmm.py:3746 - forward returned -1: Sequence 2 cannot be build.\n"
       ]
      },
      {
       "output_type": "stream",
       "stream": "stderr",
       "text": [
        "WARNING:GHMM:forward returned -1: Sequence 2 cannot be build.\n"
       ]
      },
      {
       "output_type": "stream",
       "stream": "stderr",
       "text": [
        "GHMM ghmm.py:3746 - forward returned -1: Sequence 3 cannot be build.\n"
       ]
      },
      {
       "output_type": "stream",
       "stream": "stderr",
       "text": [
        "WARNING:GHMM:forward returned -1: Sequence 3 cannot be build.\n"
       ]
      },
      {
       "output_type": "stream",
       "stream": "stderr",
       "text": [
        "GHMM ghmm.py:3746 - forward returned -1: Sequence 4 cannot be build.\n"
       ]
      },
      {
       "output_type": "stream",
       "stream": "stderr",
       "text": [
        "WARNING:GHMM:forward returned -1: Sequence 4 cannot be build.\n"
       ]
      },
      {
       "output_type": "stream",
       "stream": "stderr",
       "text": [
        "GHMM ghmm.py:3746 - forward returned -1: Sequence 5 cannot be build.\n"
       ]
      },
      {
       "output_type": "stream",
       "stream": "stderr",
       "text": [
        "WARNING:GHMM:forward returned -1: Sequence 5 cannot be build.\n"
       ]
      },
      {
       "output_type": "stream",
       "stream": "stderr",
       "text": [
        "GHMM ghmm.py:3746 - forward returned -1: Sequence 6 cannot be build.\n"
       ]
      },
      {
       "output_type": "stream",
       "stream": "stderr",
       "text": [
        "WARNING:GHMM:forward returned -1: Sequence 6 cannot be build.\n"
       ]
      },
      {
       "output_type": "stream",
       "stream": "stderr",
       "text": [
        "GHMM ghmm.py:3746 - forward returned -1: Sequence 7 cannot be build.\n"
       ]
      },
      {
       "output_type": "stream",
       "stream": "stderr",
       "text": [
        "WARNING:GHMM:forward returned -1: Sequence 7 cannot be build.\n"
       ]
      },
      {
       "output_type": "stream",
       "stream": "stderr",
       "text": [
        "GHMM ghmm.py:3746 - forward returned -1: Sequence 8 cannot be build.\n"
       ]
      },
      {
       "output_type": "stream",
       "stream": "stderr",
       "text": [
        "WARNING:GHMM:forward returned -1: Sequence 8 cannot be build.\n"
       ]
      },
      {
       "output_type": "stream",
       "stream": "stderr",
       "text": [
        "GHMM ghmm.py:3746 - forward returned -1: Sequence 9 cannot be build.\n"
       ]
      },
      {
       "output_type": "stream",
       "stream": "stderr",
       "text": [
        "WARNING:GHMM:forward returned -1: Sequence 9 cannot be build.\n"
       ]
      },
      {
       "output_type": "stream",
       "stream": "stderr",
       "text": [
        "GHMM ghmm.py:3746 - forward returned -1: Sequence 10 cannot be build.\n"
       ]
      },
      {
       "output_type": "stream",
       "stream": "stderr",
       "text": [
        "WARNING:GHMM:forward returned -1: Sequence 10 cannot be build.\n"
       ]
      },
      {
       "output_type": "stream",
       "stream": "stderr",
       "text": [
        "GHMM ghmm.py:3746 - forward returned -1: Sequence 11 cannot be build.\n"
       ]
      },
      {
       "output_type": "stream",
       "stream": "stderr",
       "text": [
        "WARNING:GHMM:forward returned -1: Sequence 11 cannot be build.\n"
       ]
      },
      {
       "output_type": "stream",
       "stream": "stderr",
       "text": [
        "GHMM ghmm.py:3746 - forward returned -1: Sequence 0 cannot be build.\n"
       ]
      },
      {
       "output_type": "stream",
       "stream": "stderr",
       "text": [
        "WARNING:GHMM:forward returned -1: Sequence 0 cannot be build.\n"
       ]
      },
      {
       "output_type": "stream",
       "stream": "stderr",
       "text": [
        "GHMM ghmm.py:3746 - forward returned -1: Sequence 1 cannot be build.\n"
       ]
      },
      {
       "output_type": "stream",
       "stream": "stderr",
       "text": [
        "WARNING:GHMM:forward returned -1: Sequence 1 cannot be build.\n"
       ]
      },
      {
       "output_type": "stream",
       "stream": "stderr",
       "text": [
        "GHMM ghmm.py:3746 - forward returned -1: Sequence 2 cannot be build.\n"
       ]
      },
      {
       "output_type": "stream",
       "stream": "stderr",
       "text": [
        "WARNING:GHMM:forward returned -1: Sequence 2 cannot be build.\n"
       ]
      },
      {
       "output_type": "stream",
       "stream": "stderr",
       "text": [
        "GHMM ghmm.py:3746 - forward returned -1: Sequence 3 cannot be build.\n"
       ]
      },
      {
       "output_type": "stream",
       "stream": "stderr",
       "text": [
        "WARNING:GHMM:forward returned -1: Sequence 3 cannot be build.\n"
       ]
      },
      {
       "output_type": "stream",
       "stream": "stderr",
       "text": [
        "GHMM ghmm.py:3746 - forward returned -1: Sequence 4 cannot be build.\n"
       ]
      },
      {
       "output_type": "stream",
       "stream": "stderr",
       "text": [
        "WARNING:GHMM:forward returned -1: Sequence 4 cannot be build.\n"
       ]
      },
      {
       "output_type": "stream",
       "stream": "stderr",
       "text": [
        "GHMM ghmm.py:3746 - forward returned -1: Sequence 5 cannot be build.\n"
       ]
      },
      {
       "output_type": "stream",
       "stream": "stderr",
       "text": [
        "WARNING:GHMM:forward returned -1: Sequence 5 cannot be build.\n"
       ]
      },
      {
       "output_type": "stream",
       "stream": "stderr",
       "text": [
        "GHMM ghmm.py:3746 - forward returned -1: Sequence 6 cannot be build.\n"
       ]
      },
      {
       "output_type": "stream",
       "stream": "stderr",
       "text": [
        "WARNING:GHMM:forward returned -1: Sequence 6 cannot be build.\n"
       ]
      },
      {
       "output_type": "stream",
       "stream": "stderr",
       "text": [
        "GHMM ghmm.py:3746 - forward returned -1: Sequence 7 cannot be build.\n"
       ]
      },
      {
       "output_type": "stream",
       "stream": "stderr",
       "text": [
        "WARNING:GHMM:forward returned -1: Sequence 7 cannot be build.\n"
       ]
      },
      {
       "output_type": "stream",
       "stream": "stderr",
       "text": [
        "GHMM ghmm.py:3746 - forward returned -1: Sequence 8 cannot be build.\n"
       ]
      },
      {
       "output_type": "stream",
       "stream": "stderr",
       "text": [
        "WARNING:GHMM:forward returned -1: Sequence 8 cannot be build.\n"
       ]
      },
      {
       "output_type": "stream",
       "stream": "stderr",
       "text": [
        "GHMM ghmm.py:3746 - forward returned -1: Sequence 9 cannot be build.\n"
       ]
      },
      {
       "output_type": "stream",
       "stream": "stderr",
       "text": [
        "WARNING:GHMM:forward returned -1: Sequence 9 cannot be build.\n"
       ]
      },
      {
       "output_type": "stream",
       "stream": "stderr",
       "text": [
        "GHMM ghmm.py:3746 - forward returned -1: Sequence 10 cannot be build.\n"
       ]
      },
      {
       "output_type": "stream",
       "stream": "stderr",
       "text": [
        "WARNING:GHMM:forward returned -1: Sequence 10 cannot be build.\n"
       ]
      },
      {
       "output_type": "stream",
       "stream": "stderr",
       "text": [
        "GHMM ghmm.py:3746 - forward returned -1: Sequence 11 cannot be build.\n"
       ]
      },
      {
       "output_type": "stream",
       "stream": "stderr",
       "text": [
        "WARNING:GHMM:forward returned -1: Sequence 11 cannot be build.\n"
       ]
      },
      {
       "output_type": "stream",
       "stream": "stderr",
       "text": [
        "GHMM ghmm.py:148 - sreestimate.c:ghmm_cmodel_baum_welch(898): NO convergence: log P(-2.462261e+04) < log P-old(-9.667070e+03)! (n = 2)\n"
       ]
      },
      {
       "output_type": "stream",
       "stream": "stderr",
       "text": [
        "WARNING:GHMM:sreestimate.c:ghmm_cmodel_baum_welch(898): NO convergence: log P(-2.462261e+04) < log P-old(-9.667070e+03)! (n = 2)\n"
       ]
      },
      {
       "output_type": "stream",
       "stream": "stderr",
       "text": [
        "GHMM ghmm.py:148 - sreestimate.c:ghmm_cmodel_baum_welch(878): sreestimate_one_step false (1.step)\n"
       ]
      },
      {
       "output_type": "stream",
       "stream": "stderr",
       "text": [
        "WARNING:GHMM:sreestimate.c:ghmm_cmodel_baum_welch(878): sreestimate_one_step false (1.step)\n"
       ]
      },
      {
       "output_type": "stream",
       "stream": "stderr",
       "text": [
        "GHMM ghmm.py:3746 - forward returned -1: Sequence 0 cannot be build.\n"
       ]
      },
      {
       "output_type": "stream",
       "stream": "stderr",
       "text": [
        "WARNING:GHMM:forward returned -1: Sequence 0 cannot be build.\n"
       ]
      },
      {
       "output_type": "stream",
       "stream": "stderr",
       "text": [
        "GHMM ghmm.py:3746 - forward returned -1: Sequence 1 cannot be build.\n"
       ]
      },
      {
       "output_type": "stream",
       "stream": "stderr",
       "text": [
        "WARNING:GHMM:forward returned -1: Sequence 1 cannot be build.\n"
       ]
      },
      {
       "output_type": "stream",
       "stream": "stderr",
       "text": [
        "GHMM ghmm.py:3746 - forward returned -1: Sequence 2 cannot be build.\n"
       ]
      },
      {
       "output_type": "stream",
       "stream": "stderr",
       "text": [
        "WARNING:GHMM:forward returned -1: Sequence 2 cannot be build.\n"
       ]
      },
      {
       "output_type": "stream",
       "stream": "stderr",
       "text": [
        "GHMM ghmm.py:3746 - forward returned -1: Sequence 3 cannot be build.\n"
       ]
      },
      {
       "output_type": "stream",
       "stream": "stderr",
       "text": [
        "WARNING:GHMM:forward returned -1: Sequence 3 cannot be build.\n"
       ]
      },
      {
       "output_type": "stream",
       "stream": "stderr",
       "text": [
        "GHMM ghmm.py:3746 - forward returned -1: Sequence 4 cannot be build.\n"
       ]
      },
      {
       "output_type": "stream",
       "stream": "stderr",
       "text": [
        "WARNING:GHMM:forward returned -1: Sequence 4 cannot be build.\n"
       ]
      },
      {
       "output_type": "stream",
       "stream": "stderr",
       "text": [
        "GHMM ghmm.py:3746 - forward returned -1: Sequence 5 cannot be build.\n"
       ]
      },
      {
       "output_type": "stream",
       "stream": "stderr",
       "text": [
        "WARNING:GHMM:forward returned -1: Sequence 5 cannot be build.\n"
       ]
      },
      {
       "output_type": "stream",
       "stream": "stderr",
       "text": [
        "GHMM ghmm.py:3746 - forward returned -1: Sequence 6 cannot be build.\n"
       ]
      },
      {
       "output_type": "stream",
       "stream": "stderr",
       "text": [
        "WARNING:GHMM:forward returned -1: Sequence 6 cannot be build.\n"
       ]
      },
      {
       "output_type": "stream",
       "stream": "stderr",
       "text": [
        "GHMM ghmm.py:3746 - forward returned -1: Sequence 7 cannot be build.\n"
       ]
      },
      {
       "output_type": "stream",
       "stream": "stderr",
       "text": [
        "WARNING:GHMM:forward returned -1: Sequence 7 cannot be build.\n"
       ]
      },
      {
       "output_type": "stream",
       "stream": "stderr",
       "text": [
        "GHMM ghmm.py:3746 - forward returned -1: Sequence 8 cannot be build.\n"
       ]
      },
      {
       "output_type": "stream",
       "stream": "stderr",
       "text": [
        "WARNING:GHMM:forward returned -1: Sequence 8 cannot be build.\n"
       ]
      },
      {
       "output_type": "stream",
       "stream": "stderr",
       "text": [
        "GHMM ghmm.py:3746 - forward returned -1: Sequence 9 cannot be build.\n"
       ]
      },
      {
       "output_type": "stream",
       "stream": "stderr",
       "text": [
        "WARNING:GHMM:forward returned -1: Sequence 9 cannot be build.\n"
       ]
      },
      {
       "output_type": "stream",
       "stream": "stderr",
       "text": [
        "GHMM ghmm.py:3746 - forward returned -1: Sequence 10 cannot be build.\n"
       ]
      },
      {
       "output_type": "stream",
       "stream": "stderr",
       "text": [
        "WARNING:GHMM:forward returned -1: Sequence 10 cannot be build.\n"
       ]
      },
      {
       "output_type": "stream",
       "stream": "stderr",
       "text": [
        "GHMM ghmm.py:3746 - forward returned -1: Sequence 11 cannot be build.\n"
       ]
      },
      {
       "output_type": "stream",
       "stream": "stderr",
       "text": [
        "WARNING:GHMM:forward returned -1: Sequence 11 cannot be build.\n"
       ]
      },
      {
       "output_type": "stream",
       "stream": "stderr",
       "text": [
        "GHMM ghmm.py:3746 - forward returned -1: Sequence 0 cannot be build.\n"
       ]
      },
      {
       "output_type": "stream",
       "stream": "stderr",
       "text": [
        "WARNING:GHMM:forward returned -1: Sequence 0 cannot be build.\n"
       ]
      },
      {
       "output_type": "stream",
       "stream": "stderr",
       "text": [
        "GHMM ghmm.py:3746 - forward returned -1: Sequence 1 cannot be build.\n"
       ]
      },
      {
       "output_type": "stream",
       "stream": "stderr",
       "text": [
        "WARNING:GHMM:forward returned -1: Sequence 1 cannot be build.\n"
       ]
      },
      {
       "output_type": "stream",
       "stream": "stderr",
       "text": [
        "GHMM ghmm.py:3746 - forward returned -1: Sequence 2 cannot be build.\n"
       ]
      },
      {
       "output_type": "stream",
       "stream": "stderr",
       "text": [
        "WARNING:GHMM:forward returned -1: Sequence 2 cannot be build.\n"
       ]
      },
      {
       "output_type": "stream",
       "stream": "stderr",
       "text": [
        "GHMM ghmm.py:3746 - forward returned -1: Sequence 3 cannot be build.\n"
       ]
      },
      {
       "output_type": "stream",
       "stream": "stderr",
       "text": [
        "WARNING:GHMM:forward returned -1: Sequence 3 cannot be build.\n"
       ]
      },
      {
       "output_type": "stream",
       "stream": "stderr",
       "text": [
        "GHMM ghmm.py:3746 - forward returned -1: Sequence 4 cannot be build.\n"
       ]
      },
      {
       "output_type": "stream",
       "stream": "stderr",
       "text": [
        "WARNING:GHMM:forward returned -1: Sequence 4 cannot be build.\n"
       ]
      },
      {
       "output_type": "stream",
       "stream": "stderr",
       "text": [
        "GHMM ghmm.py:3746 - forward returned -1: Sequence 5 cannot be build.\n"
       ]
      },
      {
       "output_type": "stream",
       "stream": "stderr",
       "text": [
        "WARNING:GHMM:forward returned -1: Sequence 5 cannot be build.\n"
       ]
      },
      {
       "output_type": "stream",
       "stream": "stderr",
       "text": [
        "GHMM ghmm.py:3746 - forward returned -1: Sequence 6 cannot be build.\n"
       ]
      },
      {
       "output_type": "stream",
       "stream": "stderr",
       "text": [
        "WARNING:GHMM:forward returned -1: Sequence 6 cannot be build.\n"
       ]
      },
      {
       "output_type": "stream",
       "stream": "stderr",
       "text": [
        "GHMM ghmm.py:3746 - forward returned -1: Sequence 7 cannot be build.\n"
       ]
      },
      {
       "output_type": "stream",
       "stream": "stderr",
       "text": [
        "WARNING:GHMM:forward returned -1: Sequence 7 cannot be build.\n"
       ]
      },
      {
       "output_type": "stream",
       "stream": "stderr",
       "text": [
        "GHMM ghmm.py:3746 - forward returned -1: Sequence 8 cannot be build.\n"
       ]
      },
      {
       "output_type": "stream",
       "stream": "stderr",
       "text": [
        "WARNING:GHMM:forward returned -1: Sequence 8 cannot be build.\n"
       ]
      },
      {
       "output_type": "stream",
       "stream": "stderr",
       "text": [
        "GHMM ghmm.py:3746 - forward returned -1: Sequence 9 cannot be build.\n"
       ]
      },
      {
       "output_type": "stream",
       "stream": "stderr",
       "text": [
        "WARNING:GHMM:forward returned -1: Sequence 9 cannot be build.\n"
       ]
      },
      {
       "output_type": "stream",
       "stream": "stderr",
       "text": [
        "GHMM ghmm.py:3746 - forward returned -1: Sequence 10 cannot be build.\n"
       ]
      },
      {
       "output_type": "stream",
       "stream": "stderr",
       "text": [
        "WARNING:GHMM:forward returned -1: Sequence 10 cannot be build.\n"
       ]
      },
      {
       "output_type": "stream",
       "stream": "stderr",
       "text": [
        "GHMM ghmm.py:3746 - forward returned -1: Sequence 11 cannot be build.\n"
       ]
      },
      {
       "output_type": "stream",
       "stream": "stderr",
       "text": [
        "WARNING:GHMM:forward returned -1: Sequence 11 cannot be build.\n"
       ]
      },
      {
       "output_type": "stream",
       "stream": "stderr",
       "text": [
        "GHMM ghmm.py:3746 - forward returned -1: Sequence 0 cannot be build.\n"
       ]
      },
      {
       "output_type": "stream",
       "stream": "stderr",
       "text": [
        "WARNING:GHMM:forward returned -1: Sequence 0 cannot be build.\n"
       ]
      },
      {
       "output_type": "stream",
       "stream": "stderr",
       "text": [
        "GHMM ghmm.py:3746 - forward returned -1: Sequence 1 cannot be build.\n"
       ]
      },
      {
       "output_type": "stream",
       "stream": "stderr",
       "text": [
        "WARNING:GHMM:forward returned -1: Sequence 1 cannot be build.\n"
       ]
      },
      {
       "output_type": "stream",
       "stream": "stderr",
       "text": [
        "GHMM ghmm.py:3746 - forward returned -1: Sequence 2 cannot be build.\n"
       ]
      },
      {
       "output_type": "stream",
       "stream": "stderr",
       "text": [
        "WARNING:GHMM:forward returned -1: Sequence 2 cannot be build.\n"
       ]
      },
      {
       "output_type": "stream",
       "stream": "stderr",
       "text": [
        "GHMM ghmm.py:3746 - forward returned -1: Sequence 3 cannot be build.\n"
       ]
      },
      {
       "output_type": "stream",
       "stream": "stderr",
       "text": [
        "WARNING:GHMM:forward returned -1: Sequence 3 cannot be build.\n"
       ]
      },
      {
       "output_type": "stream",
       "stream": "stderr",
       "text": [
        "GHMM ghmm.py:3746 - forward returned -1: Sequence 4 cannot be build.\n"
       ]
      },
      {
       "output_type": "stream",
       "stream": "stderr",
       "text": [
        "WARNING:GHMM:forward returned -1: Sequence 4 cannot be build.\n"
       ]
      },
      {
       "output_type": "stream",
       "stream": "stderr",
       "text": [
        "GHMM ghmm.py:3746 - forward returned -1: Sequence 5 cannot be build.\n"
       ]
      },
      {
       "output_type": "stream",
       "stream": "stderr",
       "text": [
        "WARNING:GHMM:forward returned -1: Sequence 5 cannot be build.\n"
       ]
      },
      {
       "output_type": "stream",
       "stream": "stderr",
       "text": [
        "GHMM ghmm.py:3746 - forward returned -1: Sequence 6 cannot be build.\n"
       ]
      },
      {
       "output_type": "stream",
       "stream": "stderr",
       "text": [
        "WARNING:GHMM:forward returned -1: Sequence 6 cannot be build.\n"
       ]
      },
      {
       "output_type": "stream",
       "stream": "stderr",
       "text": [
        "GHMM ghmm.py:3746 - forward returned -1: Sequence 7 cannot be build.\n"
       ]
      },
      {
       "output_type": "stream",
       "stream": "stderr",
       "text": [
        "WARNING:GHMM:forward returned -1: Sequence 7 cannot be build.\n"
       ]
      },
      {
       "output_type": "stream",
       "stream": "stderr",
       "text": [
        "GHMM ghmm.py:3746 - forward returned -1: Sequence 8 cannot be build.\n"
       ]
      },
      {
       "output_type": "stream",
       "stream": "stderr",
       "text": [
        "WARNING:GHMM:forward returned -1: Sequence 8 cannot be build.\n"
       ]
      },
      {
       "output_type": "stream",
       "stream": "stderr",
       "text": [
        "GHMM ghmm.py:3746 - forward returned -1: Sequence 9 cannot be build.\n"
       ]
      },
      {
       "output_type": "stream",
       "stream": "stderr",
       "text": [
        "WARNING:GHMM:forward returned -1: Sequence 9 cannot be build.\n"
       ]
      },
      {
       "output_type": "stream",
       "stream": "stderr",
       "text": [
        "GHMM ghmm.py:3746 - forward returned -1: Sequence 10 cannot be build.\n"
       ]
      },
      {
       "output_type": "stream",
       "stream": "stderr",
       "text": [
        "WARNING:GHMM:forward returned -1: Sequence 10 cannot be build.\n"
       ]
      },
      {
       "output_type": "stream",
       "stream": "stderr",
       "text": [
        "GHMM ghmm.py:3746 - forward returned -1: Sequence 11 cannot be build.\n"
       ]
      },
      {
       "output_type": "stream",
       "stream": "stderr",
       "text": [
        "WARNING:GHMM:forward returned -1: Sequence 11 cannot be build.\n"
       ]
      },
      {
       "output_type": "stream",
       "stream": "stderr",
       "text": [
        "GHMM ghmm.py:148 - sreestimate.c:ghmm_cmodel_baum_welch(878): sreestimate_one_step false (1.step)\n"
       ]
      },
      {
       "output_type": "stream",
       "stream": "stderr",
       "text": [
        "WARNING:GHMM:sreestimate.c:ghmm_cmodel_baum_welch(878): sreestimate_one_step false (1.step)\n"
       ]
      },
      {
       "output_type": "stream",
       "stream": "stderr",
       "text": [
        "GHMM ghmm.py:3746 - forward returned -1: Sequence 1 cannot be build.\n"
       ]
      },
      {
       "output_type": "stream",
       "stream": "stderr",
       "text": [
        "WARNING:GHMM:forward returned -1: Sequence 1 cannot be build.\n"
       ]
      },
      {
       "output_type": "stream",
       "stream": "stderr",
       "text": [
        "GHMM ghmm.py:3746 - forward returned -1: Sequence 2 cannot be build.\n"
       ]
      },
      {
       "output_type": "stream",
       "stream": "stderr",
       "text": [
        "WARNING:GHMM:forward returned -1: Sequence 2 cannot be build.\n"
       ]
      },
      {
       "output_type": "stream",
       "stream": "stderr",
       "text": [
        "GHMM ghmm.py:3746 - forward returned -1: Sequence 3 cannot be build.\n"
       ]
      },
      {
       "output_type": "stream",
       "stream": "stderr",
       "text": [
        "WARNING:GHMM:forward returned -1: Sequence 3 cannot be build.\n"
       ]
      },
      {
       "output_type": "stream",
       "stream": "stderr",
       "text": [
        "GHMM ghmm.py:3746 - forward returned -1: Sequence 5 cannot be build.\n"
       ]
      },
      {
       "output_type": "stream",
       "stream": "stderr",
       "text": [
        "WARNING:GHMM:forward returned -1: Sequence 5 cannot be build.\n"
       ]
      },
      {
       "output_type": "stream",
       "stream": "stderr",
       "text": [
        "GHMM ghmm.py:3746 - forward returned -1: Sequence 8 cannot be build.\n"
       ]
      },
      {
       "output_type": "stream",
       "stream": "stderr",
       "text": [
        "WARNING:GHMM:forward returned -1: Sequence 8 cannot be build.\n"
       ]
      },
      {
       "output_type": "stream",
       "stream": "stderr",
       "text": [
        "GHMM ghmm.py:3746 - forward returned -1: Sequence 10 cannot be build.\n"
       ]
      },
      {
       "output_type": "stream",
       "stream": "stderr",
       "text": [
        "WARNING:GHMM:forward returned -1: Sequence 10 cannot be build.\n"
       ]
      },
      {
       "output_type": "stream",
       "stream": "stderr",
       "text": [
        "GHMM ghmm.py:3746 - forward returned -1: Sequence 1 cannot be build.\n"
       ]
      },
      {
       "output_type": "stream",
       "stream": "stderr",
       "text": [
        "WARNING:GHMM:forward returned -1: Sequence 1 cannot be build.\n"
       ]
      },
      {
       "output_type": "stream",
       "stream": "stderr",
       "text": [
        "GHMM ghmm.py:3746 - forward returned -1: Sequence 2 cannot be build.\n"
       ]
      },
      {
       "output_type": "stream",
       "stream": "stderr",
       "text": [
        "WARNING:GHMM:forward returned -1: Sequence 2 cannot be build.\n"
       ]
      },
      {
       "output_type": "stream",
       "stream": "stderr",
       "text": [
        "GHMM ghmm.py:3746 - forward returned -1: Sequence 3 cannot be build.\n"
       ]
      },
      {
       "output_type": "stream",
       "stream": "stderr",
       "text": [
        "WARNING:GHMM:forward returned -1: Sequence 3 cannot be build.\n"
       ]
      },
      {
       "output_type": "stream",
       "stream": "stderr",
       "text": [
        "GHMM ghmm.py:3746 - forward returned -1: Sequence 5 cannot be build.\n"
       ]
      },
      {
       "output_type": "stream",
       "stream": "stderr",
       "text": [
        "WARNING:GHMM:forward returned -1: Sequence 5 cannot be build.\n"
       ]
      },
      {
       "output_type": "stream",
       "stream": "stderr",
       "text": [
        "GHMM ghmm.py:3746 - forward returned -1: Sequence 8 cannot be build.\n"
       ]
      },
      {
       "output_type": "stream",
       "stream": "stderr",
       "text": [
        "WARNING:GHMM:forward returned -1: Sequence 8 cannot be build.\n"
       ]
      },
      {
       "output_type": "stream",
       "stream": "stderr",
       "text": [
        "GHMM ghmm.py:3746 - forward returned -1: Sequence 10 cannot be build.\n"
       ]
      },
      {
       "output_type": "stream",
       "stream": "stderr",
       "text": [
        "WARNING:GHMM:forward returned -1: Sequence 10 cannot be build.\n"
       ]
      },
      {
       "output_type": "stream",
       "stream": "stderr",
       "text": [
        "GHMM ghmm.py:3746 - forward returned -1: Sequence 1 cannot be build.\n"
       ]
      },
      {
       "output_type": "stream",
       "stream": "stderr",
       "text": [
        "WARNING:GHMM:forward returned -1: Sequence 1 cannot be build.\n"
       ]
      },
      {
       "output_type": "stream",
       "stream": "stderr",
       "text": [
        "GHMM ghmm.py:3746 - forward returned -1: Sequence 2 cannot be build.\n"
       ]
      },
      {
       "output_type": "stream",
       "stream": "stderr",
       "text": [
        "WARNING:GHMM:forward returned -1: Sequence 2 cannot be build.\n"
       ]
      },
      {
       "output_type": "stream",
       "stream": "stderr",
       "text": [
        "GHMM ghmm.py:3746 - forward returned -1: Sequence 3 cannot be build.\n"
       ]
      },
      {
       "output_type": "stream",
       "stream": "stderr",
       "text": [
        "WARNING:GHMM:forward returned -1: Sequence 3 cannot be build.\n"
       ]
      },
      {
       "output_type": "stream",
       "stream": "stderr",
       "text": [
        "GHMM ghmm.py:3746 - forward returned -1: Sequence 5 cannot be build.\n"
       ]
      },
      {
       "output_type": "stream",
       "stream": "stderr",
       "text": [
        "WARNING:GHMM:forward returned -1: Sequence 5 cannot be build.\n"
       ]
      },
      {
       "output_type": "stream",
       "stream": "stderr",
       "text": [
        "GHMM ghmm.py:3746 - forward returned -1: Sequence 8 cannot be build.\n"
       ]
      },
      {
       "output_type": "stream",
       "stream": "stderr",
       "text": [
        "WARNING:GHMM:forward returned -1: Sequence 8 cannot be build.\n"
       ]
      },
      {
       "output_type": "stream",
       "stream": "stderr",
       "text": [
        "GHMM ghmm.py:3746 - forward returned -1: Sequence 10 cannot be build.\n"
       ]
      },
      {
       "output_type": "stream",
       "stream": "stderr",
       "text": [
        "WARNING:GHMM:forward returned -1: Sequence 10 cannot be build.\n"
       ]
      },
      {
       "output_type": "stream",
       "stream": "stderr",
       "text": [
        "GHMM ghmm.py:148 - sreestimate.c:ghmm_cmodel_baum_welch(878): sreestimate_one_step false (1.step)\n"
       ]
      },
      {
       "output_type": "stream",
       "stream": "stderr",
       "text": [
        "WARNING:GHMM:sreestimate.c:ghmm_cmodel_baum_welch(878): sreestimate_one_step false (1.step)\n"
       ]
      },
      {
       "output_type": "stream",
       "stream": "stderr",
       "text": [
        "GHMM ghmm.py:3746 - forward returned -1: Sequence 0 cannot be build.\n"
       ]
      },
      {
       "output_type": "stream",
       "stream": "stderr",
       "text": [
        "WARNING:GHMM:forward returned -1: Sequence 0 cannot be build.\n"
       ]
      },
      {
       "output_type": "stream",
       "stream": "stderr",
       "text": [
        "GHMM ghmm.py:3746 - forward returned -1: Sequence 1 cannot be build.\n"
       ]
      },
      {
       "output_type": "stream",
       "stream": "stderr",
       "text": [
        "WARNING:GHMM:forward returned -1: Sequence 1 cannot be build.\n"
       ]
      },
      {
       "output_type": "stream",
       "stream": "stderr",
       "text": [
        "GHMM ghmm.py:3746 - forward returned -1: Sequence 2 cannot be build.\n"
       ]
      },
      {
       "output_type": "stream",
       "stream": "stderr",
       "text": [
        "WARNING:GHMM:forward returned -1: Sequence 2 cannot be build.\n"
       ]
      },
      {
       "output_type": "stream",
       "stream": "stderr",
       "text": [
        "GHMM ghmm.py:3746 - forward returned -1: Sequence 3 cannot be build.\n"
       ]
      },
      {
       "output_type": "stream",
       "stream": "stderr",
       "text": [
        "WARNING:GHMM:forward returned -1: Sequence 3 cannot be build.\n"
       ]
      },
      {
       "output_type": "stream",
       "stream": "stderr",
       "text": [
        "GHMM ghmm.py:3746 - forward returned -1: Sequence 4 cannot be build.\n"
       ]
      },
      {
       "output_type": "stream",
       "stream": "stderr",
       "text": [
        "WARNING:GHMM:forward returned -1: Sequence 4 cannot be build.\n"
       ]
      },
      {
       "output_type": "stream",
       "stream": "stderr",
       "text": [
        "GHMM ghmm.py:3746 - forward returned -1: Sequence 5 cannot be build.\n"
       ]
      },
      {
       "output_type": "stream",
       "stream": "stderr",
       "text": [
        "WARNING:GHMM:forward returned -1: Sequence 5 cannot be build.\n"
       ]
      },
      {
       "output_type": "stream",
       "stream": "stderr",
       "text": [
        "GHMM ghmm.py:3746 - forward returned -1: Sequence 6 cannot be build.\n"
       ]
      },
      {
       "output_type": "stream",
       "stream": "stderr",
       "text": [
        "WARNING:GHMM:forward returned -1: Sequence 6 cannot be build.\n"
       ]
      },
      {
       "output_type": "stream",
       "stream": "stderr",
       "text": [
        "GHMM ghmm.py:3746 - forward returned -1: Sequence 7 cannot be build.\n"
       ]
      },
      {
       "output_type": "stream",
       "stream": "stderr",
       "text": [
        "WARNING:GHMM:forward returned -1: Sequence 7 cannot be build.\n"
       ]
      },
      {
       "output_type": "stream",
       "stream": "stderr",
       "text": [
        "GHMM ghmm.py:3746 - forward returned -1: Sequence 8 cannot be build.\n"
       ]
      },
      {
       "output_type": "stream",
       "stream": "stderr",
       "text": [
        "WARNING:GHMM:forward returned -1: Sequence 8 cannot be build.\n"
       ]
      },
      {
       "output_type": "stream",
       "stream": "stderr",
       "text": [
        "GHMM ghmm.py:3746 - forward returned -1: Sequence 9 cannot be build.\n"
       ]
      },
      {
       "output_type": "stream",
       "stream": "stderr",
       "text": [
        "WARNING:GHMM:forward returned -1: Sequence 9 cannot be build.\n"
       ]
      },
      {
       "output_type": "stream",
       "stream": "stderr",
       "text": [
        "GHMM ghmm.py:3746 - forward returned -1: Sequence 10 cannot be build.\n"
       ]
      },
      {
       "output_type": "stream",
       "stream": "stderr",
       "text": [
        "WARNING:GHMM:forward returned -1: Sequence 10 cannot be build.\n"
       ]
      },
      {
       "output_type": "stream",
       "stream": "stderr",
       "text": [
        "GHMM ghmm.py:3746 - forward returned -1: Sequence 11 cannot be build.\n"
       ]
      },
      {
       "output_type": "stream",
       "stream": "stderr",
       "text": [
        "WARNING:GHMM:forward returned -1: Sequence 11 cannot be build.\n"
       ]
      },
      {
       "output_type": "stream",
       "stream": "stderr",
       "text": [
        "GHMM ghmm.py:3746 - forward returned -1: Sequence 0 cannot be build.\n"
       ]
      },
      {
       "output_type": "stream",
       "stream": "stderr",
       "text": [
        "WARNING:GHMM:forward returned -1: Sequence 0 cannot be build.\n"
       ]
      },
      {
       "output_type": "stream",
       "stream": "stderr",
       "text": [
        "GHMM ghmm.py:3746 - forward returned -1: Sequence 1 cannot be build.\n"
       ]
      },
      {
       "output_type": "stream",
       "stream": "stderr",
       "text": [
        "WARNING:GHMM:forward returned -1: Sequence 1 cannot be build.\n"
       ]
      },
      {
       "output_type": "stream",
       "stream": "stderr",
       "text": [
        "GHMM ghmm.py:3746 - forward returned -1: Sequence 2 cannot be build.\n"
       ]
      },
      {
       "output_type": "stream",
       "stream": "stderr",
       "text": [
        "WARNING:GHMM:forward returned -1: Sequence 2 cannot be build.\n"
       ]
      },
      {
       "output_type": "stream",
       "stream": "stderr",
       "text": [
        "GHMM ghmm.py:3746 - forward returned -1: Sequence 3 cannot be build.\n"
       ]
      },
      {
       "output_type": "stream",
       "stream": "stderr",
       "text": [
        "WARNING:GHMM:forward returned -1: Sequence 3 cannot be build.\n"
       ]
      },
      {
       "output_type": "stream",
       "stream": "stderr",
       "text": [
        "GHMM ghmm.py:3746 - forward returned -1: Sequence 4 cannot be build.\n"
       ]
      },
      {
       "output_type": "stream",
       "stream": "stderr",
       "text": [
        "WARNING:GHMM:forward returned -1: Sequence 4 cannot be build.\n"
       ]
      },
      {
       "output_type": "stream",
       "stream": "stderr",
       "text": [
        "GHMM ghmm.py:3746 - forward returned -1: Sequence 5 cannot be build.\n"
       ]
      },
      {
       "output_type": "stream",
       "stream": "stderr",
       "text": [
        "WARNING:GHMM:forward returned -1: Sequence 5 cannot be build.\n"
       ]
      },
      {
       "output_type": "stream",
       "stream": "stderr",
       "text": [
        "GHMM ghmm.py:3746 - forward returned -1: Sequence 6 cannot be build.\n"
       ]
      },
      {
       "output_type": "stream",
       "stream": "stderr",
       "text": [
        "WARNING:GHMM:forward returned -1: Sequence 6 cannot be build.\n"
       ]
      },
      {
       "output_type": "stream",
       "stream": "stderr",
       "text": [
        "GHMM ghmm.py:3746 - forward returned -1: Sequence 7 cannot be build.\n"
       ]
      },
      {
       "output_type": "stream",
       "stream": "stderr",
       "text": [
        "WARNING:GHMM:forward returned -1: Sequence 7 cannot be build.\n"
       ]
      },
      {
       "output_type": "stream",
       "stream": "stderr",
       "text": [
        "GHMM ghmm.py:3746 - forward returned -1: Sequence 8 cannot be build.\n"
       ]
      },
      {
       "output_type": "stream",
       "stream": "stderr",
       "text": [
        "WARNING:GHMM:forward returned -1: Sequence 8 cannot be build.\n"
       ]
      },
      {
       "output_type": "stream",
       "stream": "stderr",
       "text": [
        "GHMM ghmm.py:3746 - forward returned -1: Sequence 9 cannot be build.\n"
       ]
      },
      {
       "output_type": "stream",
       "stream": "stderr",
       "text": [
        "WARNING:GHMM:forward returned -1: Sequence 9 cannot be build.\n"
       ]
      },
      {
       "output_type": "stream",
       "stream": "stderr",
       "text": [
        "GHMM ghmm.py:3746 - forward returned -1: Sequence 10 cannot be build.\n"
       ]
      },
      {
       "output_type": "stream",
       "stream": "stderr",
       "text": [
        "WARNING:GHMM:forward returned -1: Sequence 10 cannot be build.\n"
       ]
      },
      {
       "output_type": "stream",
       "stream": "stderr",
       "text": [
        "GHMM ghmm.py:3746 - forward returned -1: Sequence 11 cannot be build.\n"
       ]
      },
      {
       "output_type": "stream",
       "stream": "stderr",
       "text": [
        "WARNING:GHMM:forward returned -1: Sequence 11 cannot be build.\n"
       ]
      },
      {
       "output_type": "stream",
       "stream": "stderr",
       "text": [
        "GHMM ghmm.py:3746 - forward returned -1: Sequence 0 cannot be build.\n"
       ]
      },
      {
       "output_type": "stream",
       "stream": "stderr",
       "text": [
        "WARNING:GHMM:forward returned -1: Sequence 0 cannot be build.\n"
       ]
      },
      {
       "output_type": "stream",
       "stream": "stderr",
       "text": [
        "GHMM ghmm.py:3746 - forward returned -1: Sequence 1 cannot be build.\n"
       ]
      },
      {
       "output_type": "stream",
       "stream": "stderr",
       "text": [
        "WARNING:GHMM:forward returned -1: Sequence 1 cannot be build.\n"
       ]
      },
      {
       "output_type": "stream",
       "stream": "stderr",
       "text": [
        "GHMM ghmm.py:3746 - forward returned -1: Sequence 2 cannot be build.\n"
       ]
      },
      {
       "output_type": "stream",
       "stream": "stderr",
       "text": [
        "WARNING:GHMM:forward returned -1: Sequence 2 cannot be build.\n"
       ]
      },
      {
       "output_type": "stream",
       "stream": "stderr",
       "text": [
        "GHMM ghmm.py:3746 - forward returned -1: Sequence 3 cannot be build.\n"
       ]
      },
      {
       "output_type": "stream",
       "stream": "stderr",
       "text": [
        "WARNING:GHMM:forward returned -1: Sequence 3 cannot be build.\n"
       ]
      },
      {
       "output_type": "stream",
       "stream": "stderr",
       "text": [
        "GHMM ghmm.py:3746 - forward returned -1: Sequence 4 cannot be build.\n"
       ]
      },
      {
       "output_type": "stream",
       "stream": "stderr",
       "text": [
        "WARNING:GHMM:forward returned -1: Sequence 4 cannot be build.\n"
       ]
      },
      {
       "output_type": "stream",
       "stream": "stderr",
       "text": [
        "GHMM ghmm.py:3746 - forward returned -1: Sequence 5 cannot be build.\n"
       ]
      },
      {
       "output_type": "stream",
       "stream": "stderr",
       "text": [
        "WARNING:GHMM:forward returned -1: Sequence 5 cannot be build.\n"
       ]
      },
      {
       "output_type": "stream",
       "stream": "stderr",
       "text": [
        "GHMM ghmm.py:3746 - forward returned -1: Sequence 6 cannot be build.\n"
       ]
      },
      {
       "output_type": "stream",
       "stream": "stderr",
       "text": [
        "WARNING:GHMM:forward returned -1: Sequence 6 cannot be build.\n"
       ]
      },
      {
       "output_type": "stream",
       "stream": "stderr",
       "text": [
        "GHMM ghmm.py:3746 - forward returned -1: Sequence 7 cannot be build.\n"
       ]
      },
      {
       "output_type": "stream",
       "stream": "stderr",
       "text": [
        "WARNING:GHMM:forward returned -1: Sequence 7 cannot be build.\n"
       ]
      },
      {
       "output_type": "stream",
       "stream": "stderr",
       "text": [
        "GHMM ghmm.py:3746 - forward returned -1: Sequence 8 cannot be build.\n"
       ]
      },
      {
       "output_type": "stream",
       "stream": "stderr",
       "text": [
        "WARNING:GHMM:forward returned -1: Sequence 8 cannot be build.\n"
       ]
      },
      {
       "output_type": "stream",
       "stream": "stderr",
       "text": [
        "GHMM ghmm.py:3746 - forward returned -1: Sequence 9 cannot be build.\n"
       ]
      },
      {
       "output_type": "stream",
       "stream": "stderr",
       "text": [
        "WARNING:GHMM:forward returned -1: Sequence 9 cannot be build.\n"
       ]
      },
      {
       "output_type": "stream",
       "stream": "stderr",
       "text": [
        "GHMM ghmm.py:3746 - forward returned -1: Sequence 10 cannot be build.\n"
       ]
      },
      {
       "output_type": "stream",
       "stream": "stderr",
       "text": [
        "WARNING:GHMM:forward returned -1: Sequence 10 cannot be build.\n"
       ]
      },
      {
       "output_type": "stream",
       "stream": "stderr",
       "text": [
        "GHMM ghmm.py:3746 - forward returned -1: Sequence 11 cannot be build.\n"
       ]
      },
      {
       "output_type": "stream",
       "stream": "stderr",
       "text": [
        "WARNING:GHMM:forward returned -1: Sequence 11 cannot be build.\n"
       ]
      },
      {
       "output_type": "stream",
       "stream": "stderr",
       "text": [
        "GHMM ghmm.py:148 - sreestimate.c:ghmm_cmodel_baum_welch(878): sreestimate_one_step false (1.step)\n"
       ]
      },
      {
       "output_type": "stream",
       "stream": "stderr",
       "text": [
        "WARNING:GHMM:sreestimate.c:ghmm_cmodel_baum_welch(878): sreestimate_one_step false (1.step)\n"
       ]
      },
      {
       "output_type": "stream",
       "stream": "stderr",
       "text": [
        "GHMM ghmm.py:3746 - forward returned -1: Sequence 0 cannot be build.\n"
       ]
      },
      {
       "output_type": "stream",
       "stream": "stderr",
       "text": [
        "WARNING:GHMM:forward returned -1: Sequence 0 cannot be build.\n"
       ]
      },
      {
       "output_type": "stream",
       "stream": "stderr",
       "text": [
        "GHMM ghmm.py:3746 - forward returned -1: Sequence 1 cannot be build.\n"
       ]
      },
      {
       "output_type": "stream",
       "stream": "stderr",
       "text": [
        "WARNING:GHMM:forward returned -1: Sequence 1 cannot be build.\n"
       ]
      },
      {
       "output_type": "stream",
       "stream": "stderr",
       "text": [
        "GHMM ghmm.py:3746 - forward returned -1: Sequence 2 cannot be build.\n"
       ]
      },
      {
       "output_type": "stream",
       "stream": "stderr",
       "text": [
        "WARNING:GHMM:forward returned -1: Sequence 2 cannot be build.\n"
       ]
      },
      {
       "output_type": "stream",
       "stream": "stderr",
       "text": [
        "GHMM ghmm.py:3746 - forward returned -1: Sequence 3 cannot be build.\n"
       ]
      },
      {
       "output_type": "stream",
       "stream": "stderr",
       "text": [
        "WARNING:GHMM:forward returned -1: Sequence 3 cannot be build.\n"
       ]
      },
      {
       "output_type": "stream",
       "stream": "stderr",
       "text": [
        "GHMM ghmm.py:3746 - forward returned -1: Sequence 4 cannot be build.\n"
       ]
      },
      {
       "output_type": "stream",
       "stream": "stderr",
       "text": [
        "WARNING:GHMM:forward returned -1: Sequence 4 cannot be build.\n"
       ]
      },
      {
       "output_type": "stream",
       "stream": "stderr",
       "text": [
        "GHMM ghmm.py:3746 - forward returned -1: Sequence 5 cannot be build.\n"
       ]
      },
      {
       "output_type": "stream",
       "stream": "stderr",
       "text": [
        "WARNING:GHMM:forward returned -1: Sequence 5 cannot be build.\n"
       ]
      },
      {
       "output_type": "stream",
       "stream": "stderr",
       "text": [
        "GHMM ghmm.py:3746 - forward returned -1: Sequence 6 cannot be build.\n"
       ]
      },
      {
       "output_type": "stream",
       "stream": "stderr",
       "text": [
        "WARNING:GHMM:forward returned -1: Sequence 6 cannot be build.\n"
       ]
      },
      {
       "output_type": "stream",
       "stream": "stderr",
       "text": [
        "GHMM ghmm.py:3746 - forward returned -1: Sequence 7 cannot be build.\n"
       ]
      },
      {
       "output_type": "stream",
       "stream": "stderr",
       "text": [
        "WARNING:GHMM:forward returned -1: Sequence 7 cannot be build.\n"
       ]
      },
      {
       "output_type": "stream",
       "stream": "stderr",
       "text": [
        "GHMM ghmm.py:3746 - forward returned -1: Sequence 8 cannot be build.\n"
       ]
      },
      {
       "output_type": "stream",
       "stream": "stderr",
       "text": [
        "WARNING:GHMM:forward returned -1: Sequence 8 cannot be build.\n"
       ]
      },
      {
       "output_type": "stream",
       "stream": "stderr",
       "text": [
        "GHMM ghmm.py:3746 - forward returned -1: Sequence 9 cannot be build.\n"
       ]
      },
      {
       "output_type": "stream",
       "stream": "stderr",
       "text": [
        "WARNING:GHMM:forward returned -1: Sequence 9 cannot be build.\n"
       ]
      },
      {
       "output_type": "stream",
       "stream": "stderr",
       "text": [
        "GHMM ghmm.py:3746 - forward returned -1: Sequence 10 cannot be build.\n"
       ]
      },
      {
       "output_type": "stream",
       "stream": "stderr",
       "text": [
        "WARNING:GHMM:forward returned -1: Sequence 10 cannot be build.\n"
       ]
      },
      {
       "output_type": "stream",
       "stream": "stderr",
       "text": [
        "GHMM ghmm.py:3746 - forward returned -1: Sequence 11 cannot be build.\n"
       ]
      },
      {
       "output_type": "stream",
       "stream": "stderr",
       "text": [
        "WARNING:GHMM:forward returned -1: Sequence 11 cannot be build.\n"
       ]
      },
      {
       "output_type": "stream",
       "stream": "stderr",
       "text": [
        "GHMM ghmm.py:3746 - forward returned -1: Sequence 0 cannot be build.\n"
       ]
      },
      {
       "output_type": "stream",
       "stream": "stderr",
       "text": [
        "WARNING:GHMM:forward returned -1: Sequence 0 cannot be build.\n"
       ]
      },
      {
       "output_type": "stream",
       "stream": "stderr",
       "text": [
        "GHMM ghmm.py:3746 - forward returned -1: Sequence 1 cannot be build.\n"
       ]
      },
      {
       "output_type": "stream",
       "stream": "stderr",
       "text": [
        "WARNING:GHMM:forward returned -1: Sequence 1 cannot be build.\n"
       ]
      },
      {
       "output_type": "stream",
       "stream": "stderr",
       "text": [
        "GHMM ghmm.py:3746 - forward returned -1: Sequence 2 cannot be build.\n"
       ]
      },
      {
       "output_type": "stream",
       "stream": "stderr",
       "text": [
        "WARNING:GHMM:forward returned -1: Sequence 2 cannot be build.\n"
       ]
      },
      {
       "output_type": "stream",
       "stream": "stderr",
       "text": [
        "GHMM ghmm.py:3746 - forward returned -1: Sequence 3 cannot be build.\n"
       ]
      },
      {
       "output_type": "stream",
       "stream": "stderr",
       "text": [
        "WARNING:GHMM:forward returned -1: Sequence 3 cannot be build.\n"
       ]
      },
      {
       "output_type": "stream",
       "stream": "stderr",
       "text": [
        "GHMM ghmm.py:3746 - forward returned -1: Sequence 4 cannot be build.\n"
       ]
      },
      {
       "output_type": "stream",
       "stream": "stderr",
       "text": [
        "WARNING:GHMM:forward returned -1: Sequence 4 cannot be build.\n"
       ]
      },
      {
       "output_type": "stream",
       "stream": "stderr",
       "text": [
        "GHMM ghmm.py:3746 - forward returned -1: Sequence 5 cannot be build.\n"
       ]
      },
      {
       "output_type": "stream",
       "stream": "stderr",
       "text": [
        "WARNING:GHMM:forward returned -1: Sequence 5 cannot be build.\n"
       ]
      },
      {
       "output_type": "stream",
       "stream": "stderr",
       "text": [
        "GHMM ghmm.py:3746 - forward returned -1: Sequence 6 cannot be build.\n"
       ]
      },
      {
       "output_type": "stream",
       "stream": "stderr",
       "text": [
        "WARNING:GHMM:forward returned -1: Sequence 6 cannot be build.\n"
       ]
      },
      {
       "output_type": "stream",
       "stream": "stderr",
       "text": [
        "GHMM ghmm.py:3746 - forward returned -1: Sequence 7 cannot be build.\n"
       ]
      },
      {
       "output_type": "stream",
       "stream": "stderr",
       "text": [
        "WARNING:GHMM:forward returned -1: Sequence 7 cannot be build.\n"
       ]
      },
      {
       "output_type": "stream",
       "stream": "stderr",
       "text": [
        "GHMM ghmm.py:3746 - forward returned -1: Sequence 8 cannot be build.\n"
       ]
      },
      {
       "output_type": "stream",
       "stream": "stderr",
       "text": [
        "WARNING:GHMM:forward returned -1: Sequence 8 cannot be build.\n"
       ]
      },
      {
       "output_type": "stream",
       "stream": "stderr",
       "text": [
        "GHMM ghmm.py:3746 - forward returned -1: Sequence 9 cannot be build.\n"
       ]
      },
      {
       "output_type": "stream",
       "stream": "stderr",
       "text": [
        "WARNING:GHMM:forward returned -1: Sequence 9 cannot be build.\n"
       ]
      },
      {
       "output_type": "stream",
       "stream": "stderr",
       "text": [
        "GHMM ghmm.py:3746 - forward returned -1: Sequence 10 cannot be build.\n"
       ]
      },
      {
       "output_type": "stream",
       "stream": "stderr",
       "text": [
        "WARNING:GHMM:forward returned -1: Sequence 10 cannot be build.\n"
       ]
      },
      {
       "output_type": "stream",
       "stream": "stderr",
       "text": [
        "GHMM ghmm.py:3746 - forward returned -1: Sequence 11 cannot be build.\n"
       ]
      },
      {
       "output_type": "stream",
       "stream": "stderr",
       "text": [
        "WARNING:GHMM:forward returned -1: Sequence 11 cannot be build.\n"
       ]
      },
      {
       "output_type": "stream",
       "stream": "stderr",
       "text": [
        "GHMM ghmm.py:3746 - forward returned -1: Sequence 0 cannot be build.\n"
       ]
      },
      {
       "output_type": "stream",
       "stream": "stderr",
       "text": [
        "WARNING:GHMM:forward returned -1: Sequence 0 cannot be build.\n"
       ]
      },
      {
       "output_type": "stream",
       "stream": "stderr",
       "text": [
        "GHMM ghmm.py:3746 - forward returned -1: Sequence 1 cannot be build.\n"
       ]
      },
      {
       "output_type": "stream",
       "stream": "stderr",
       "text": [
        "WARNING:GHMM:forward returned -1: Sequence 1 cannot be build.\n"
       ]
      },
      {
       "output_type": "stream",
       "stream": "stderr",
       "text": [
        "GHMM ghmm.py:3746 - forward returned -1: Sequence 2 cannot be build.\n"
       ]
      },
      {
       "output_type": "stream",
       "stream": "stderr",
       "text": [
        "WARNING:GHMM:forward returned -1: Sequence 2 cannot be build.\n"
       ]
      },
      {
       "output_type": "stream",
       "stream": "stderr",
       "text": [
        "GHMM ghmm.py:3746 - forward returned -1: Sequence 3 cannot be build.\n"
       ]
      },
      {
       "output_type": "stream",
       "stream": "stderr",
       "text": [
        "WARNING:GHMM:forward returned -1: Sequence 3 cannot be build.\n"
       ]
      },
      {
       "output_type": "stream",
       "stream": "stderr",
       "text": [
        "GHMM ghmm.py:3746 - forward returned -1: Sequence 4 cannot be build.\n"
       ]
      },
      {
       "output_type": "stream",
       "stream": "stderr",
       "text": [
        "WARNING:GHMM:forward returned -1: Sequence 4 cannot be build.\n"
       ]
      },
      {
       "output_type": "stream",
       "stream": "stderr",
       "text": [
        "GHMM ghmm.py:3746 - forward returned -1: Sequence 5 cannot be build.\n"
       ]
      },
      {
       "output_type": "stream",
       "stream": "stderr",
       "text": [
        "WARNING:GHMM:forward returned -1: Sequence 5 cannot be build.\n"
       ]
      },
      {
       "output_type": "stream",
       "stream": "stderr",
       "text": [
        "GHMM ghmm.py:3746 - forward returned -1: Sequence 6 cannot be build.\n"
       ]
      },
      {
       "output_type": "stream",
       "stream": "stderr",
       "text": [
        "WARNING:GHMM:forward returned -1: Sequence 6 cannot be build.\n"
       ]
      },
      {
       "output_type": "stream",
       "stream": "stderr",
       "text": [
        "GHMM ghmm.py:3746 - forward returned -1: Sequence 7 cannot be build.\n"
       ]
      },
      {
       "output_type": "stream",
       "stream": "stderr",
       "text": [
        "WARNING:GHMM:forward returned -1: Sequence 7 cannot be build.\n"
       ]
      },
      {
       "output_type": "stream",
       "stream": "stderr",
       "text": [
        "GHMM ghmm.py:3746 - forward returned -1: Sequence 8 cannot be build.\n"
       ]
      },
      {
       "output_type": "stream",
       "stream": "stderr",
       "text": [
        "WARNING:GHMM:forward returned -1: Sequence 8 cannot be build.\n"
       ]
      },
      {
       "output_type": "stream",
       "stream": "stderr",
       "text": [
        "GHMM ghmm.py:3746 - forward returned -1: Sequence 9 cannot be build.\n"
       ]
      },
      {
       "output_type": "stream",
       "stream": "stderr",
       "text": [
        "WARNING:GHMM:forward returned -1: Sequence 9 cannot be build.\n"
       ]
      },
      {
       "output_type": "stream",
       "stream": "stderr",
       "text": [
        "GHMM ghmm.py:3746 - forward returned -1: Sequence 10 cannot be build.\n"
       ]
      },
      {
       "output_type": "stream",
       "stream": "stderr",
       "text": [
        "WARNING:GHMM:forward returned -1: Sequence 10 cannot be build.\n"
       ]
      },
      {
       "output_type": "stream",
       "stream": "stderr",
       "text": [
        "GHMM ghmm.py:3746 - forward returned -1: Sequence 11 cannot be build.\n"
       ]
      },
      {
       "output_type": "stream",
       "stream": "stderr",
       "text": [
        "WARNING:GHMM:forward returned -1: Sequence 11 cannot be build.\n"
       ]
      },
      {
       "output_type": "stream",
       "stream": "stderr",
       "text": [
        "GHMM ghmm.py:148 - sreestimate.c:ghmm_cmodel_baum_welch(878): sreestimate_one_step false (1.step)\n"
       ]
      },
      {
       "output_type": "stream",
       "stream": "stderr",
       "text": [
        "WARNING:GHMM:sreestimate.c:ghmm_cmodel_baum_welch(878): sreestimate_one_step false (1.step)\n"
       ]
      },
      {
       "output_type": "stream",
       "stream": "stderr",
       "text": [
        "GHMM ghmm.py:3746 - forward returned -1: Sequence 1 cannot be build.\n"
       ]
      },
      {
       "output_type": "stream",
       "stream": "stderr",
       "text": [
        "WARNING:GHMM:forward returned -1: Sequence 1 cannot be build.\n"
       ]
      },
      {
       "output_type": "stream",
       "stream": "stderr",
       "text": [
        "GHMM ghmm.py:3746 - forward returned -1: Sequence 2 cannot be build.\n"
       ]
      },
      {
       "output_type": "stream",
       "stream": "stderr",
       "text": [
        "WARNING:GHMM:forward returned -1: Sequence 2 cannot be build.\n"
       ]
      },
      {
       "output_type": "stream",
       "stream": "stderr",
       "text": [
        "GHMM ghmm.py:3746 - forward returned -1: Sequence 3 cannot be build.\n"
       ]
      },
      {
       "output_type": "stream",
       "stream": "stderr",
       "text": [
        "WARNING:GHMM:forward returned -1: Sequence 3 cannot be build.\n"
       ]
      },
      {
       "output_type": "stream",
       "stream": "stderr",
       "text": [
        "GHMM ghmm.py:3746 - forward returned -1: Sequence 5 cannot be build.\n"
       ]
      },
      {
       "output_type": "stream",
       "stream": "stderr",
       "text": [
        "WARNING:GHMM:forward returned -1: Sequence 5 cannot be build.\n"
       ]
      },
      {
       "output_type": "stream",
       "stream": "stderr",
       "text": [
        "GHMM ghmm.py:3746 - forward returned -1: Sequence 8 cannot be build.\n"
       ]
      },
      {
       "output_type": "stream",
       "stream": "stderr",
       "text": [
        "WARNING:GHMM:forward returned -1: Sequence 8 cannot be build.\n"
       ]
      },
      {
       "output_type": "stream",
       "stream": "stderr",
       "text": [
        "GHMM ghmm.py:3746 - forward returned -1: Sequence 10 cannot be build.\n"
       ]
      },
      {
       "output_type": "stream",
       "stream": "stderr",
       "text": [
        "WARNING:GHMM:forward returned -1: Sequence 10 cannot be build.\n"
       ]
      },
      {
       "output_type": "stream",
       "stream": "stderr",
       "text": [
        "GHMM ghmm.py:3746 - forward returned -1: Sequence 1 cannot be build.\n"
       ]
      },
      {
       "output_type": "stream",
       "stream": "stderr",
       "text": [
        "WARNING:GHMM:forward returned -1: Sequence 1 cannot be build.\n"
       ]
      },
      {
       "output_type": "stream",
       "stream": "stderr",
       "text": [
        "GHMM ghmm.py:3746 - forward returned -1: Sequence 2 cannot be build.\n"
       ]
      },
      {
       "output_type": "stream",
       "stream": "stderr",
       "text": [
        "WARNING:GHMM:forward returned -1: Sequence 2 cannot be build.\n"
       ]
      },
      {
       "output_type": "stream",
       "stream": "stderr",
       "text": [
        "GHMM ghmm.py:3746 - forward returned -1: Sequence 3 cannot be build.\n"
       ]
      },
      {
       "output_type": "stream",
       "stream": "stderr",
       "text": [
        "WARNING:GHMM:forward returned -1: Sequence 3 cannot be build.\n"
       ]
      },
      {
       "output_type": "stream",
       "stream": "stderr",
       "text": [
        "GHMM ghmm.py:3746 - forward returned -1: Sequence 5 cannot be build.\n"
       ]
      },
      {
       "output_type": "stream",
       "stream": "stderr",
       "text": [
        "WARNING:GHMM:forward returned -1: Sequence 5 cannot be build.\n"
       ]
      },
      {
       "output_type": "stream",
       "stream": "stderr",
       "text": [
        "GHMM ghmm.py:3746 - forward returned -1: Sequence 8 cannot be build.\n"
       ]
      },
      {
       "output_type": "stream",
       "stream": "stderr",
       "text": [
        "WARNING:GHMM:forward returned -1: Sequence 8 cannot be build.\n"
       ]
      },
      {
       "output_type": "stream",
       "stream": "stderr",
       "text": [
        "GHMM ghmm.py:3746 - forward returned -1: Sequence 10 cannot be build.\n"
       ]
      },
      {
       "output_type": "stream",
       "stream": "stderr",
       "text": [
        "WARNING:GHMM:forward returned -1: Sequence 10 cannot be build.\n"
       ]
      },
      {
       "output_type": "stream",
       "stream": "stderr",
       "text": [
        "GHMM ghmm.py:3746 - forward returned -1: Sequence 1 cannot be build.\n"
       ]
      },
      {
       "output_type": "stream",
       "stream": "stderr",
       "text": [
        "WARNING:GHMM:forward returned -1: Sequence 1 cannot be build.\n"
       ]
      },
      {
       "output_type": "stream",
       "stream": "stderr",
       "text": [
        "GHMM ghmm.py:3746 - forward returned -1: Sequence 2 cannot be build.\n"
       ]
      },
      {
       "output_type": "stream",
       "stream": "stderr",
       "text": [
        "WARNING:GHMM:forward returned -1: Sequence 2 cannot be build.\n"
       ]
      },
      {
       "output_type": "stream",
       "stream": "stderr",
       "text": [
        "GHMM ghmm.py:3746 - forward returned -1: Sequence 3 cannot be build.\n"
       ]
      },
      {
       "output_type": "stream",
       "stream": "stderr",
       "text": [
        "WARNING:GHMM:forward returned -1: Sequence 3 cannot be build.\n"
       ]
      },
      {
       "output_type": "stream",
       "stream": "stderr",
       "text": [
        "GHMM ghmm.py:3746 - forward returned -1: Sequence 5 cannot be build.\n"
       ]
      },
      {
       "output_type": "stream",
       "stream": "stderr",
       "text": [
        "WARNING:GHMM:forward returned -1: Sequence 5 cannot be build.\n"
       ]
      },
      {
       "output_type": "stream",
       "stream": "stderr",
       "text": [
        "GHMM ghmm.py:3746 - forward returned -1: Sequence 8 cannot be build.\n"
       ]
      },
      {
       "output_type": "stream",
       "stream": "stderr",
       "text": [
        "WARNING:GHMM:forward returned -1: Sequence 8 cannot be build.\n"
       ]
      },
      {
       "output_type": "stream",
       "stream": "stderr",
       "text": [
        "GHMM ghmm.py:3746 - forward returned -1: Sequence 10 cannot be build.\n"
       ]
      },
      {
       "output_type": "stream",
       "stream": "stderr",
       "text": [
        "WARNING:GHMM:forward returned -1: Sequence 10 cannot be build.\n"
       ]
      },
      {
       "output_type": "stream",
       "stream": "stderr",
       "text": [
        "GHMM ghmm.py:148 - sreestimate.c:ghmm_cmodel_baum_welch(878): sreestimate_one_step false (1.step)\n"
       ]
      },
      {
       "output_type": "stream",
       "stream": "stderr",
       "text": [
        "WARNING:GHMM:sreestimate.c:ghmm_cmodel_baum_welch(878): sreestimate_one_step false (1.step)\n"
       ]
      },
      {
       "output_type": "stream",
       "stream": "stderr",
       "text": [
        "GHMM ghmm.py:3746 - forward returned -1: Sequence 0 cannot be build.\n"
       ]
      },
      {
       "output_type": "stream",
       "stream": "stderr",
       "text": [
        "WARNING:GHMM:forward returned -1: Sequence 0 cannot be build.\n"
       ]
      },
      {
       "output_type": "stream",
       "stream": "stderr",
       "text": [
        "GHMM ghmm.py:3746 - forward returned -1: Sequence 1 cannot be build.\n"
       ]
      },
      {
       "output_type": "stream",
       "stream": "stderr",
       "text": [
        "WARNING:GHMM:forward returned -1: Sequence 1 cannot be build.\n"
       ]
      },
      {
       "output_type": "stream",
       "stream": "stderr",
       "text": [
        "GHMM ghmm.py:3746 - forward returned -1: Sequence 2 cannot be build.\n"
       ]
      },
      {
       "output_type": "stream",
       "stream": "stderr",
       "text": [
        "WARNING:GHMM:forward returned -1: Sequence 2 cannot be build.\n"
       ]
      },
      {
       "output_type": "stream",
       "stream": "stderr",
       "text": [
        "GHMM ghmm.py:3746 - forward returned -1: Sequence 3 cannot be build.\n"
       ]
      },
      {
       "output_type": "stream",
       "stream": "stderr",
       "text": [
        "WARNING:GHMM:forward returned -1: Sequence 3 cannot be build.\n"
       ]
      },
      {
       "output_type": "stream",
       "stream": "stderr",
       "text": [
        "GHMM ghmm.py:3746 - forward returned -1: Sequence 4 cannot be build.\n"
       ]
      },
      {
       "output_type": "stream",
       "stream": "stderr",
       "text": [
        "WARNING:GHMM:forward returned -1: Sequence 4 cannot be build.\n"
       ]
      },
      {
       "output_type": "stream",
       "stream": "stderr",
       "text": [
        "GHMM ghmm.py:3746 - forward returned -1: Sequence 5 cannot be build.\n"
       ]
      },
      {
       "output_type": "stream",
       "stream": "stderr",
       "text": [
        "WARNING:GHMM:forward returned -1: Sequence 5 cannot be build.\n"
       ]
      },
      {
       "output_type": "stream",
       "stream": "stderr",
       "text": [
        "GHMM ghmm.py:3746 - forward returned -1: Sequence 6 cannot be build.\n"
       ]
      },
      {
       "output_type": "stream",
       "stream": "stderr",
       "text": [
        "WARNING:GHMM:forward returned -1: Sequence 6 cannot be build.\n"
       ]
      },
      {
       "output_type": "stream",
       "stream": "stderr",
       "text": [
        "GHMM ghmm.py:3746 - forward returned -1: Sequence 7 cannot be build.\n"
       ]
      },
      {
       "output_type": "stream",
       "stream": "stderr",
       "text": [
        "WARNING:GHMM:forward returned -1: Sequence 7 cannot be build.\n"
       ]
      },
      {
       "output_type": "stream",
       "stream": "stderr",
       "text": [
        "GHMM ghmm.py:3746 - forward returned -1: Sequence 8 cannot be build.\n"
       ]
      },
      {
       "output_type": "stream",
       "stream": "stderr",
       "text": [
        "WARNING:GHMM:forward returned -1: Sequence 8 cannot be build.\n"
       ]
      },
      {
       "output_type": "stream",
       "stream": "stderr",
       "text": [
        "GHMM ghmm.py:3746 - forward returned -1: Sequence 9 cannot be build.\n"
       ]
      },
      {
       "output_type": "stream",
       "stream": "stderr",
       "text": [
        "WARNING:GHMM:forward returned -1: Sequence 9 cannot be build.\n"
       ]
      },
      {
       "output_type": "stream",
       "stream": "stderr",
       "text": [
        "GHMM ghmm.py:3746 - forward returned -1: Sequence 10 cannot be build.\n"
       ]
      },
      {
       "output_type": "stream",
       "stream": "stderr",
       "text": [
        "WARNING:GHMM:forward returned -1: Sequence 10 cannot be build.\n"
       ]
      },
      {
       "output_type": "stream",
       "stream": "stderr",
       "text": [
        "GHMM ghmm.py:3746 - forward returned -1: Sequence 11 cannot be build.\n"
       ]
      },
      {
       "output_type": "stream",
       "stream": "stderr",
       "text": [
        "WARNING:GHMM:forward returned -1: Sequence 11 cannot be build.\n"
       ]
      },
      {
       "output_type": "stream",
       "stream": "stderr",
       "text": [
        "GHMM ghmm.py:3746 - forward returned -1: Sequence 0 cannot be build.\n"
       ]
      },
      {
       "output_type": "stream",
       "stream": "stderr",
       "text": [
        "WARNING:GHMM:forward returned -1: Sequence 0 cannot be build.\n"
       ]
      },
      {
       "output_type": "stream",
       "stream": "stderr",
       "text": [
        "GHMM ghmm.py:3746 - forward returned -1: Sequence 1 cannot be build.\n"
       ]
      },
      {
       "output_type": "stream",
       "stream": "stderr",
       "text": [
        "WARNING:GHMM:forward returned -1: Sequence 1 cannot be build.\n"
       ]
      },
      {
       "output_type": "stream",
       "stream": "stderr",
       "text": [
        "GHMM ghmm.py:3746 - forward returned -1: Sequence 2 cannot be build.\n"
       ]
      },
      {
       "output_type": "stream",
       "stream": "stderr",
       "text": [
        "WARNING:GHMM:forward returned -1: Sequence 2 cannot be build.\n"
       ]
      },
      {
       "output_type": "stream",
       "stream": "stderr",
       "text": [
        "GHMM ghmm.py:3746 - forward returned -1: Sequence 3 cannot be build.\n"
       ]
      },
      {
       "output_type": "stream",
       "stream": "stderr",
       "text": [
        "WARNING:GHMM:forward returned -1: Sequence 3 cannot be build.\n"
       ]
      },
      {
       "output_type": "stream",
       "stream": "stderr",
       "text": [
        "GHMM ghmm.py:3746 - forward returned -1: Sequence 4 cannot be build.\n"
       ]
      },
      {
       "output_type": "stream",
       "stream": "stderr",
       "text": [
        "WARNING:GHMM:forward returned -1: Sequence 4 cannot be build.\n"
       ]
      },
      {
       "output_type": "stream",
       "stream": "stderr",
       "text": [
        "GHMM ghmm.py:3746 - forward returned -1: Sequence 5 cannot be build.\n"
       ]
      },
      {
       "output_type": "stream",
       "stream": "stderr",
       "text": [
        "WARNING:GHMM:forward returned -1: Sequence 5 cannot be build.\n"
       ]
      },
      {
       "output_type": "stream",
       "stream": "stderr",
       "text": [
        "GHMM ghmm.py:3746 - forward returned -1: Sequence 6 cannot be build.\n"
       ]
      },
      {
       "output_type": "stream",
       "stream": "stderr",
       "text": [
        "WARNING:GHMM:forward returned -1: Sequence 6 cannot be build.\n"
       ]
      },
      {
       "output_type": "stream",
       "stream": "stderr",
       "text": [
        "GHMM ghmm.py:3746 - forward returned -1: Sequence 7 cannot be build.\n"
       ]
      },
      {
       "output_type": "stream",
       "stream": "stderr",
       "text": [
        "WARNING:GHMM:forward returned -1: Sequence 7 cannot be build.\n"
       ]
      },
      {
       "output_type": "stream",
       "stream": "stderr",
       "text": [
        "GHMM ghmm.py:3746 - forward returned -1: Sequence 8 cannot be build.\n"
       ]
      },
      {
       "output_type": "stream",
       "stream": "stderr",
       "text": [
        "WARNING:GHMM:forward returned -1: Sequence 8 cannot be build.\n"
       ]
      },
      {
       "output_type": "stream",
       "stream": "stderr",
       "text": [
        "GHMM ghmm.py:3746 - forward returned -1: Sequence 9 cannot be build.\n"
       ]
      },
      {
       "output_type": "stream",
       "stream": "stderr",
       "text": [
        "WARNING:GHMM:forward returned -1: Sequence 9 cannot be build.\n"
       ]
      },
      {
       "output_type": "stream",
       "stream": "stderr",
       "text": [
        "GHMM ghmm.py:3746 - forward returned -1: Sequence 10 cannot be build.\n"
       ]
      },
      {
       "output_type": "stream",
       "stream": "stderr",
       "text": [
        "WARNING:GHMM:forward returned -1: Sequence 10 cannot be build.\n"
       ]
      },
      {
       "output_type": "stream",
       "stream": "stderr",
       "text": [
        "GHMM ghmm.py:3746 - forward returned -1: Sequence 11 cannot be build.\n"
       ]
      },
      {
       "output_type": "stream",
       "stream": "stderr",
       "text": [
        "WARNING:GHMM:forward returned -1: Sequence 11 cannot be build.\n"
       ]
      },
      {
       "output_type": "stream",
       "stream": "stderr",
       "text": [
        "GHMM ghmm.py:3746 - forward returned -1: Sequence 0 cannot be build.\n"
       ]
      },
      {
       "output_type": "stream",
       "stream": "stderr",
       "text": [
        "WARNING:GHMM:forward returned -1: Sequence 0 cannot be build.\n"
       ]
      },
      {
       "output_type": "stream",
       "stream": "stderr",
       "text": [
        "GHMM ghmm.py:3746 - forward returned -1: Sequence 1 cannot be build.\n"
       ]
      },
      {
       "output_type": "stream",
       "stream": "stderr",
       "text": [
        "WARNING:GHMM:forward returned -1: Sequence 1 cannot be build.\n"
       ]
      },
      {
       "output_type": "stream",
       "stream": "stderr",
       "text": [
        "GHMM ghmm.py:3746 - forward returned -1: Sequence 2 cannot be build.\n"
       ]
      },
      {
       "output_type": "stream",
       "stream": "stderr",
       "text": [
        "WARNING:GHMM:forward returned -1: Sequence 2 cannot be build.\n"
       ]
      },
      {
       "output_type": "stream",
       "stream": "stderr",
       "text": [
        "GHMM ghmm.py:3746 - forward returned -1: Sequence 3 cannot be build.\n"
       ]
      },
      {
       "output_type": "stream",
       "stream": "stderr",
       "text": [
        "WARNING:GHMM:forward returned -1: Sequence 3 cannot be build.\n"
       ]
      },
      {
       "output_type": "stream",
       "stream": "stderr",
       "text": [
        "GHMM ghmm.py:3746 - forward returned -1: Sequence 4 cannot be build.\n"
       ]
      },
      {
       "output_type": "stream",
       "stream": "stderr",
       "text": [
        "WARNING:GHMM:forward returned -1: Sequence 4 cannot be build.\n"
       ]
      },
      {
       "output_type": "stream",
       "stream": "stderr",
       "text": [
        "GHMM ghmm.py:3746 - forward returned -1: Sequence 5 cannot be build.\n"
       ]
      },
      {
       "output_type": "stream",
       "stream": "stderr",
       "text": [
        "WARNING:GHMM:forward returned -1: Sequence 5 cannot be build.\n"
       ]
      },
      {
       "output_type": "stream",
       "stream": "stderr",
       "text": [
        "GHMM ghmm.py:3746 - forward returned -1: Sequence 6 cannot be build.\n"
       ]
      },
      {
       "output_type": "stream",
       "stream": "stderr",
       "text": [
        "WARNING:GHMM:forward returned -1: Sequence 6 cannot be build.\n"
       ]
      },
      {
       "output_type": "stream",
       "stream": "stderr",
       "text": [
        "GHMM ghmm.py:3746 - forward returned -1: Sequence 7 cannot be build.\n"
       ]
      },
      {
       "output_type": "stream",
       "stream": "stderr",
       "text": [
        "WARNING:GHMM:forward returned -1: Sequence 7 cannot be build.\n"
       ]
      },
      {
       "output_type": "stream",
       "stream": "stderr",
       "text": [
        "GHMM ghmm.py:3746 - forward returned -1: Sequence 8 cannot be build.\n"
       ]
      },
      {
       "output_type": "stream",
       "stream": "stderr",
       "text": [
        "WARNING:GHMM:forward returned -1: Sequence 8 cannot be build.\n"
       ]
      },
      {
       "output_type": "stream",
       "stream": "stderr",
       "text": [
        "GHMM ghmm.py:3746 - forward returned -1: Sequence 9 cannot be build.\n"
       ]
      },
      {
       "output_type": "stream",
       "stream": "stderr",
       "text": [
        "WARNING:GHMM:forward returned -1: Sequence 9 cannot be build.\n"
       ]
      },
      {
       "output_type": "stream",
       "stream": "stderr",
       "text": [
        "GHMM ghmm.py:3746 - forward returned -1: Sequence 10 cannot be build.\n"
       ]
      },
      {
       "output_type": "stream",
       "stream": "stderr",
       "text": [
        "WARNING:GHMM:forward returned -1: Sequence 10 cannot be build.\n"
       ]
      },
      {
       "output_type": "stream",
       "stream": "stderr",
       "text": [
        "GHMM ghmm.py:3746 - forward returned -1: Sequence 11 cannot be build.\n"
       ]
      },
      {
       "output_type": "stream",
       "stream": "stderr",
       "text": [
        "WARNING:GHMM:forward returned -1: Sequence 11 cannot be build.\n"
       ]
      },
      {
       "output_type": "stream",
       "stream": "stderr",
       "text": [
        "GHMM ghmm.py:148 - sreestimate.c:ghmm_cmodel_baum_welch(898): NO convergence: log P(-2.462261e+04) < log P-old(-9.601876e+03)! (n = 2)\n"
       ]
      },
      {
       "output_type": "stream",
       "stream": "stderr",
       "text": [
        "WARNING:GHMM:sreestimate.c:ghmm_cmodel_baum_welch(898): NO convergence: log P(-2.462261e+04) < log P-old(-9.601876e+03)! (n = 2)\n"
       ]
      },
      {
       "output_type": "stream",
       "stream": "stderr",
       "text": [
        "GHMM ghmm.py:3746 - forward returned -1: Sequence 0 cannot be build.\n"
       ]
      },
      {
       "output_type": "stream",
       "stream": "stderr",
       "text": [
        "WARNING:GHMM:forward returned -1: Sequence 0 cannot be build.\n"
       ]
      },
      {
       "output_type": "stream",
       "stream": "stderr",
       "text": [
        "GHMM ghmm.py:3746 - forward returned -1: Sequence 1 cannot be build.\n"
       ]
      },
      {
       "output_type": "stream",
       "stream": "stderr",
       "text": [
        "WARNING:GHMM:forward returned -1: Sequence 1 cannot be build.\n"
       ]
      },
      {
       "output_type": "stream",
       "stream": "stderr",
       "text": [
        "GHMM ghmm.py:3746 - forward returned -1: Sequence 2 cannot be build.\n"
       ]
      },
      {
       "output_type": "stream",
       "stream": "stderr",
       "text": [
        "WARNING:GHMM:forward returned -1: Sequence 2 cannot be build.\n"
       ]
      },
      {
       "output_type": "stream",
       "stream": "stderr",
       "text": [
        "GHMM ghmm.py:3746 - forward returned -1: Sequence 3 cannot be build.\n"
       ]
      },
      {
       "output_type": "stream",
       "stream": "stderr",
       "text": [
        "WARNING:GHMM:forward returned -1: Sequence 3 cannot be build.\n"
       ]
      },
      {
       "output_type": "stream",
       "stream": "stderr",
       "text": [
        "GHMM ghmm.py:3746 - forward returned -1: Sequence 4 cannot be build.\n"
       ]
      },
      {
       "output_type": "stream",
       "stream": "stderr",
       "text": [
        "WARNING:GHMM:forward returned -1: Sequence 4 cannot be build.\n"
       ]
      },
      {
       "output_type": "stream",
       "stream": "stderr",
       "text": [
        "GHMM ghmm.py:3746 - forward returned -1: Sequence 5 cannot be build.\n"
       ]
      },
      {
       "output_type": "stream",
       "stream": "stderr",
       "text": [
        "WARNING:GHMM:forward returned -1: Sequence 5 cannot be build.\n"
       ]
      },
      {
       "output_type": "stream",
       "stream": "stderr",
       "text": [
        "GHMM ghmm.py:3746 - forward returned -1: Sequence 6 cannot be build.\n"
       ]
      },
      {
       "output_type": "stream",
       "stream": "stderr",
       "text": [
        "WARNING:GHMM:forward returned -1: Sequence 6 cannot be build.\n"
       ]
      },
      {
       "output_type": "stream",
       "stream": "stderr",
       "text": [
        "GHMM ghmm.py:3746 - forward returned -1: Sequence 7 cannot be build.\n"
       ]
      },
      {
       "output_type": "stream",
       "stream": "stderr",
       "text": [
        "WARNING:GHMM:forward returned -1: Sequence 7 cannot be build.\n"
       ]
      },
      {
       "output_type": "stream",
       "stream": "stderr",
       "text": [
        "GHMM ghmm.py:3746 - forward returned -1: Sequence 8 cannot be build.\n"
       ]
      },
      {
       "output_type": "stream",
       "stream": "stderr",
       "text": [
        "WARNING:GHMM:forward returned -1: Sequence 8 cannot be build.\n"
       ]
      },
      {
       "output_type": "stream",
       "stream": "stderr",
       "text": [
        "GHMM ghmm.py:3746 - forward returned -1: Sequence 9 cannot be build.\n"
       ]
      },
      {
       "output_type": "stream",
       "stream": "stderr",
       "text": [
        "WARNING:GHMM:forward returned -1: Sequence 9 cannot be build.\n"
       ]
      },
      {
       "output_type": "stream",
       "stream": "stderr",
       "text": [
        "GHMM ghmm.py:3746 - forward returned -1: Sequence 10 cannot be build.\n"
       ]
      },
      {
       "output_type": "stream",
       "stream": "stderr",
       "text": [
        "WARNING:GHMM:forward returned -1: Sequence 10 cannot be build.\n"
       ]
      },
      {
       "output_type": "stream",
       "stream": "stderr",
       "text": [
        "GHMM ghmm.py:3746 - forward returned -1: Sequence 11 cannot be build.\n"
       ]
      },
      {
       "output_type": "stream",
       "stream": "stderr",
       "text": [
        "WARNING:GHMM:forward returned -1: Sequence 11 cannot be build.\n"
       ]
      },
      {
       "output_type": "stream",
       "stream": "stderr",
       "text": [
        "GHMM ghmm.py:3746 - forward returned -1: Sequence 0 cannot be build.\n"
       ]
      },
      {
       "output_type": "stream",
       "stream": "stderr",
       "text": [
        "WARNING:GHMM:forward returned -1: Sequence 0 cannot be build.\n"
       ]
      },
      {
       "output_type": "stream",
       "stream": "stderr",
       "text": [
        "GHMM ghmm.py:3746 - forward returned -1: Sequence 1 cannot be build.\n"
       ]
      },
      {
       "output_type": "stream",
       "stream": "stderr",
       "text": [
        "WARNING:GHMM:forward returned -1: Sequence 1 cannot be build.\n"
       ]
      },
      {
       "output_type": "stream",
       "stream": "stderr",
       "text": [
        "GHMM ghmm.py:3746 - forward returned -1: Sequence 2 cannot be build.\n"
       ]
      },
      {
       "output_type": "stream",
       "stream": "stderr",
       "text": [
        "WARNING:GHMM:forward returned -1: Sequence 2 cannot be build.\n"
       ]
      },
      {
       "output_type": "stream",
       "stream": "stderr",
       "text": [
        "GHMM ghmm.py:3746 - forward returned -1: Sequence 3 cannot be build.\n"
       ]
      },
      {
       "output_type": "stream",
       "stream": "stderr",
       "text": [
        "WARNING:GHMM:forward returned -1: Sequence 3 cannot be build.\n"
       ]
      },
      {
       "output_type": "stream",
       "stream": "stderr",
       "text": [
        "GHMM ghmm.py:3746 - forward returned -1: Sequence 4 cannot be build.\n"
       ]
      },
      {
       "output_type": "stream",
       "stream": "stderr",
       "text": [
        "WARNING:GHMM:forward returned -1: Sequence 4 cannot be build.\n"
       ]
      },
      {
       "output_type": "stream",
       "stream": "stderr",
       "text": [
        "GHMM ghmm.py:3746 - forward returned -1: Sequence 5 cannot be build.\n"
       ]
      },
      {
       "output_type": "stream",
       "stream": "stderr",
       "text": [
        "WARNING:GHMM:forward returned -1: Sequence 5 cannot be build.\n"
       ]
      },
      {
       "output_type": "stream",
       "stream": "stderr",
       "text": [
        "GHMM ghmm.py:3746 - forward returned -1: Sequence 6 cannot be build.\n"
       ]
      },
      {
       "output_type": "stream",
       "stream": "stderr",
       "text": [
        "WARNING:GHMM:forward returned -1: Sequence 6 cannot be build.\n"
       ]
      },
      {
       "output_type": "stream",
       "stream": "stderr",
       "text": [
        "GHMM ghmm.py:3746 - forward returned -1: Sequence 7 cannot be build.\n"
       ]
      },
      {
       "output_type": "stream",
       "stream": "stderr",
       "text": [
        "WARNING:GHMM:forward returned -1: Sequence 7 cannot be build.\n"
       ]
      },
      {
       "output_type": "stream",
       "stream": "stderr",
       "text": [
        "GHMM ghmm.py:3746 - forward returned -1: Sequence 8 cannot be build.\n"
       ]
      },
      {
       "output_type": "stream",
       "stream": "stderr",
       "text": [
        "WARNING:GHMM:forward returned -1: Sequence 8 cannot be build.\n"
       ]
      },
      {
       "output_type": "stream",
       "stream": "stderr",
       "text": [
        "GHMM ghmm.py:3746 - forward returned -1: Sequence 9 cannot be build.\n"
       ]
      },
      {
       "output_type": "stream",
       "stream": "stderr",
       "text": [
        "WARNING:GHMM:forward returned -1: Sequence 9 cannot be build.\n"
       ]
      },
      {
       "output_type": "stream",
       "stream": "stderr",
       "text": [
        "GHMM ghmm.py:3746 - forward returned -1: Sequence 10 cannot be build.\n"
       ]
      },
      {
       "output_type": "stream",
       "stream": "stderr",
       "text": [
        "WARNING:GHMM:forward returned -1: Sequence 10 cannot be build.\n"
       ]
      },
      {
       "output_type": "stream",
       "stream": "stderr",
       "text": [
        "GHMM ghmm.py:3746 - forward returned -1: Sequence 11 cannot be build.\n"
       ]
      },
      {
       "output_type": "stream",
       "stream": "stderr",
       "text": [
        "WARNING:GHMM:forward returned -1: Sequence 11 cannot be build.\n"
       ]
      },
      {
       "output_type": "stream",
       "stream": "stderr",
       "text": [
        "GHMM ghmm.py:3746 - forward returned -1: Sequence 0 cannot be build.\n"
       ]
      },
      {
       "output_type": "stream",
       "stream": "stderr",
       "text": [
        "WARNING:GHMM:forward returned -1: Sequence 0 cannot be build.\n"
       ]
      },
      {
       "output_type": "stream",
       "stream": "stderr",
       "text": [
        "GHMM ghmm.py:3746 - forward returned -1: Sequence 1 cannot be build.\n"
       ]
      },
      {
       "output_type": "stream",
       "stream": "stderr",
       "text": [
        "WARNING:GHMM:forward returned -1: Sequence 1 cannot be build.\n"
       ]
      },
      {
       "output_type": "stream",
       "stream": "stderr",
       "text": [
        "GHMM ghmm.py:3746 - forward returned -1: Sequence 2 cannot be build.\n"
       ]
      },
      {
       "output_type": "stream",
       "stream": "stderr",
       "text": [
        "WARNING:GHMM:forward returned -1: Sequence 2 cannot be build.\n"
       ]
      },
      {
       "output_type": "stream",
       "stream": "stderr",
       "text": [
        "GHMM ghmm.py:3746 - forward returned -1: Sequence 3 cannot be build.\n"
       ]
      },
      {
       "output_type": "stream",
       "stream": "stderr",
       "text": [
        "WARNING:GHMM:forward returned -1: Sequence 3 cannot be build.\n"
       ]
      },
      {
       "output_type": "stream",
       "stream": "stderr",
       "text": [
        "GHMM ghmm.py:3746 - forward returned -1: Sequence 4 cannot be build.\n"
       ]
      },
      {
       "output_type": "stream",
       "stream": "stderr",
       "text": [
        "WARNING:GHMM:forward returned -1: Sequence 4 cannot be build.\n"
       ]
      },
      {
       "output_type": "stream",
       "stream": "stderr",
       "text": [
        "GHMM ghmm.py:3746 - forward returned -1: Sequence 5 cannot be build.\n"
       ]
      },
      {
       "output_type": "stream",
       "stream": "stderr",
       "text": [
        "WARNING:GHMM:forward returned -1: Sequence 5 cannot be build.\n"
       ]
      },
      {
       "output_type": "stream",
       "stream": "stderr",
       "text": [
        "GHMM ghmm.py:3746 - forward returned -1: Sequence 6 cannot be build.\n"
       ]
      },
      {
       "output_type": "stream",
       "stream": "stderr",
       "text": [
        "WARNING:GHMM:forward returned -1: Sequence 6 cannot be build.\n"
       ]
      },
      {
       "output_type": "stream",
       "stream": "stderr",
       "text": [
        "GHMM ghmm.py:3746 - forward returned -1: Sequence 7 cannot be build.\n"
       ]
      },
      {
       "output_type": "stream",
       "stream": "stderr",
       "text": [
        "WARNING:GHMM:forward returned -1: Sequence 7 cannot be build.\n"
       ]
      },
      {
       "output_type": "stream",
       "stream": "stderr",
       "text": [
        "GHMM ghmm.py:3746 - forward returned -1: Sequence 8 cannot be build.\n"
       ]
      },
      {
       "output_type": "stream",
       "stream": "stderr",
       "text": [
        "WARNING:GHMM:forward returned -1: Sequence 8 cannot be build.\n"
       ]
      },
      {
       "output_type": "stream",
       "stream": "stderr",
       "text": [
        "GHMM ghmm.py:3746 - forward returned -1: Sequence 9 cannot be build.\n"
       ]
      },
      {
       "output_type": "stream",
       "stream": "stderr",
       "text": [
        "WARNING:GHMM:forward returned -1: Sequence 9 cannot be build.\n"
       ]
      },
      {
       "output_type": "stream",
       "stream": "stderr",
       "text": [
        "GHMM ghmm.py:3746 - forward returned -1: Sequence 10 cannot be build.\n"
       ]
      },
      {
       "output_type": "stream",
       "stream": "stderr",
       "text": [
        "WARNING:GHMM:forward returned -1: Sequence 10 cannot be build.\n"
       ]
      },
      {
       "output_type": "stream",
       "stream": "stderr",
       "text": [
        "GHMM ghmm.py:3746 - forward returned -1: Sequence 11 cannot be build.\n"
       ]
      },
      {
       "output_type": "stream",
       "stream": "stderr",
       "text": [
        "WARNING:GHMM:forward returned -1: Sequence 11 cannot be build.\n"
       ]
      },
      {
       "output_type": "stream",
       "stream": "stderr",
       "text": [
        "GHMM ghmm.py:3746 - forward returned -1: Sequence 1 cannot be build.\n"
       ]
      },
      {
       "output_type": "stream",
       "stream": "stderr",
       "text": [
        "WARNING:GHMM:forward returned -1: Sequence 1 cannot be build.\n"
       ]
      },
      {
       "output_type": "stream",
       "stream": "stderr",
       "text": [
        "GHMM ghmm.py:3746 - forward returned -1: Sequence 2 cannot be build.\n"
       ]
      },
      {
       "output_type": "stream",
       "stream": "stderr",
       "text": [
        "WARNING:GHMM:forward returned -1: Sequence 2 cannot be build.\n"
       ]
      },
      {
       "output_type": "stream",
       "stream": "stderr",
       "text": [
        "GHMM ghmm.py:3746 - forward returned -1: Sequence 3 cannot be build.\n"
       ]
      },
      {
       "output_type": "stream",
       "stream": "stderr",
       "text": [
        "WARNING:GHMM:forward returned -1: Sequence 3 cannot be build.\n"
       ]
      },
      {
       "output_type": "stream",
       "stream": "stderr",
       "text": [
        "GHMM ghmm.py:3746 - forward returned -1: Sequence 5 cannot be build.\n"
       ]
      },
      {
       "output_type": "stream",
       "stream": "stderr",
       "text": [
        "WARNING:GHMM:forward returned -1: Sequence 5 cannot be build.\n"
       ]
      },
      {
       "output_type": "stream",
       "stream": "stderr",
       "text": [
        "GHMM ghmm.py:3746 - forward returned -1: Sequence 8 cannot be build.\n"
       ]
      },
      {
       "output_type": "stream",
       "stream": "stderr",
       "text": [
        "WARNING:GHMM:forward returned -1: Sequence 8 cannot be build.\n"
       ]
      },
      {
       "output_type": "stream",
       "stream": "stderr",
       "text": [
        "GHMM ghmm.py:3746 - forward returned -1: Sequence 10 cannot be build.\n"
       ]
      },
      {
       "output_type": "stream",
       "stream": "stderr",
       "text": [
        "WARNING:GHMM:forward returned -1: Sequence 10 cannot be build.\n"
       ]
      },
      {
       "output_type": "stream",
       "stream": "stderr",
       "text": [
        "GHMM ghmm.py:3746 - forward returned -1: Sequence 1 cannot be build.\n"
       ]
      },
      {
       "output_type": "stream",
       "stream": "stderr",
       "text": [
        "WARNING:GHMM:forward returned -1: Sequence 1 cannot be build.\n"
       ]
      },
      {
       "output_type": "stream",
       "stream": "stderr",
       "text": [
        "GHMM ghmm.py:3746 - forward returned -1: Sequence 2 cannot be build.\n"
       ]
      },
      {
       "output_type": "stream",
       "stream": "stderr",
       "text": [
        "WARNING:GHMM:forward returned -1: Sequence 2 cannot be build.\n"
       ]
      },
      {
       "output_type": "stream",
       "stream": "stderr",
       "text": [
        "GHMM ghmm.py:3746 - forward returned -1: Sequence 3 cannot be build.\n"
       ]
      },
      {
       "output_type": "stream",
       "stream": "stderr",
       "text": [
        "WARNING:GHMM:forward returned -1: Sequence 3 cannot be build.\n"
       ]
      },
      {
       "output_type": "stream",
       "stream": "stderr",
       "text": [
        "GHMM ghmm.py:3746 - forward returned -1: Sequence 5 cannot be build.\n"
       ]
      },
      {
       "output_type": "stream",
       "stream": "stderr",
       "text": [
        "WARNING:GHMM:forward returned -1: Sequence 5 cannot be build.\n"
       ]
      },
      {
       "output_type": "stream",
       "stream": "stderr",
       "text": [
        "GHMM ghmm.py:3746 - forward returned -1: Sequence 8 cannot be build.\n"
       ]
      },
      {
       "output_type": "stream",
       "stream": "stderr",
       "text": [
        "WARNING:GHMM:forward returned -1: Sequence 8 cannot be build.\n"
       ]
      },
      {
       "output_type": "stream",
       "stream": "stderr",
       "text": [
        "GHMM ghmm.py:3746 - forward returned -1: Sequence 10 cannot be build.\n"
       ]
      },
      {
       "output_type": "stream",
       "stream": "stderr",
       "text": [
        "WARNING:GHMM:forward returned -1: Sequence 10 cannot be build.\n"
       ]
      },
      {
       "output_type": "stream",
       "stream": "stderr",
       "text": [
        "GHMM ghmm.py:3746 - forward returned -1: Sequence 1 cannot be build.\n"
       ]
      },
      {
       "output_type": "stream",
       "stream": "stderr",
       "text": [
        "WARNING:GHMM:forward returned -1: Sequence 1 cannot be build.\n"
       ]
      },
      {
       "output_type": "stream",
       "stream": "stderr",
       "text": [
        "GHMM ghmm.py:3746 - forward returned -1: Sequence 2 cannot be build.\n"
       ]
      },
      {
       "output_type": "stream",
       "stream": "stderr",
       "text": [
        "WARNING:GHMM:forward returned -1: Sequence 2 cannot be build.\n"
       ]
      },
      {
       "output_type": "stream",
       "stream": "stderr",
       "text": [
        "GHMM ghmm.py:3746 - forward returned -1: Sequence 3 cannot be build.\n"
       ]
      },
      {
       "output_type": "stream",
       "stream": "stderr",
       "text": [
        "WARNING:GHMM:forward returned -1: Sequence 3 cannot be build.\n"
       ]
      },
      {
       "output_type": "stream",
       "stream": "stderr",
       "text": [
        "GHMM ghmm.py:3746 - forward returned -1: Sequence 5 cannot be build.\n"
       ]
      },
      {
       "output_type": "stream",
       "stream": "stderr",
       "text": [
        "WARNING:GHMM:forward returned -1: Sequence 5 cannot be build.\n"
       ]
      },
      {
       "output_type": "stream",
       "stream": "stderr",
       "text": [
        "GHMM ghmm.py:3746 - forward returned -1: Sequence 8 cannot be build.\n"
       ]
      },
      {
       "output_type": "stream",
       "stream": "stderr",
       "text": [
        "WARNING:GHMM:forward returned -1: Sequence 8 cannot be build.\n"
       ]
      },
      {
       "output_type": "stream",
       "stream": "stderr",
       "text": [
        "GHMM ghmm.py:3746 - forward returned -1: Sequence 10 cannot be build.\n"
       ]
      },
      {
       "output_type": "stream",
       "stream": "stderr",
       "text": [
        "WARNING:GHMM:forward returned -1: Sequence 10 cannot be build.\n"
       ]
      },
      {
       "output_type": "stream",
       "stream": "stderr",
       "text": [
        "GHMM ghmm.py:3746 - forward returned -1: Sequence 0 cannot be build.\n"
       ]
      },
      {
       "output_type": "stream",
       "stream": "stderr",
       "text": [
        "WARNING:GHMM:forward returned -1: Sequence 0 cannot be build.\n"
       ]
      },
      {
       "output_type": "stream",
       "stream": "stderr",
       "text": [
        "GHMM ghmm.py:3746 - forward returned -1: Sequence 1 cannot be build.\n"
       ]
      },
      {
       "output_type": "stream",
       "stream": "stderr",
       "text": [
        "WARNING:GHMM:forward returned -1: Sequence 1 cannot be build.\n"
       ]
      },
      {
       "output_type": "stream",
       "stream": "stderr",
       "text": [
        "GHMM ghmm.py:3746 - forward returned -1: Sequence 2 cannot be build.\n"
       ]
      },
      {
       "output_type": "stream",
       "stream": "stderr",
       "text": [
        "WARNING:GHMM:forward returned -1: Sequence 2 cannot be build.\n"
       ]
      },
      {
       "output_type": "stream",
       "stream": "stderr",
       "text": [
        "GHMM ghmm.py:3746 - forward returned -1: Sequence 3 cannot be build.\n"
       ]
      },
      {
       "output_type": "stream",
       "stream": "stderr",
       "text": [
        "WARNING:GHMM:forward returned -1: Sequence 3 cannot be build.\n"
       ]
      },
      {
       "output_type": "stream",
       "stream": "stderr",
       "text": [
        "GHMM ghmm.py:3746 - forward returned -1: Sequence 4 cannot be build.\n"
       ]
      },
      {
       "output_type": "stream",
       "stream": "stderr",
       "text": [
        "WARNING:GHMM:forward returned -1: Sequence 4 cannot be build.\n"
       ]
      },
      {
       "output_type": "stream",
       "stream": "stderr",
       "text": [
        "GHMM ghmm.py:3746 - forward returned -1: Sequence 5 cannot be build.\n"
       ]
      },
      {
       "output_type": "stream",
       "stream": "stderr",
       "text": [
        "WARNING:GHMM:forward returned -1: Sequence 5 cannot be build.\n"
       ]
      },
      {
       "output_type": "stream",
       "stream": "stderr",
       "text": [
        "GHMM ghmm.py:3746 - forward returned -1: Sequence 6 cannot be build.\n"
       ]
      },
      {
       "output_type": "stream",
       "stream": "stderr",
       "text": [
        "WARNING:GHMM:forward returned -1: Sequence 6 cannot be build.\n"
       ]
      },
      {
       "output_type": "stream",
       "stream": "stderr",
       "text": [
        "GHMM ghmm.py:3746 - forward returned -1: Sequence 7 cannot be build.\n"
       ]
      },
      {
       "output_type": "stream",
       "stream": "stderr",
       "text": [
        "WARNING:GHMM:forward returned -1: Sequence 7 cannot be build.\n"
       ]
      },
      {
       "output_type": "stream",
       "stream": "stderr",
       "text": [
        "GHMM ghmm.py:3746 - forward returned -1: Sequence 8 cannot be build.\n"
       ]
      },
      {
       "output_type": "stream",
       "stream": "stderr",
       "text": [
        "WARNING:GHMM:forward returned -1: Sequence 8 cannot be build.\n"
       ]
      },
      {
       "output_type": "stream",
       "stream": "stderr",
       "text": [
        "GHMM ghmm.py:3746 - forward returned -1: Sequence 9 cannot be build.\n"
       ]
      },
      {
       "output_type": "stream",
       "stream": "stderr",
       "text": [
        "WARNING:GHMM:forward returned -1: Sequence 9 cannot be build.\n"
       ]
      },
      {
       "output_type": "stream",
       "stream": "stderr",
       "text": [
        "GHMM ghmm.py:3746 - forward returned -1: Sequence 10 cannot be build.\n"
       ]
      },
      {
       "output_type": "stream",
       "stream": "stderr",
       "text": [
        "WARNING:GHMM:forward returned -1: Sequence 10 cannot be build.\n"
       ]
      },
      {
       "output_type": "stream",
       "stream": "stderr",
       "text": [
        "GHMM ghmm.py:3746 - forward returned -1: Sequence 11 cannot be build.\n"
       ]
      },
      {
       "output_type": "stream",
       "stream": "stderr",
       "text": [
        "WARNING:GHMM:forward returned -1: Sequence 11 cannot be build.\n"
       ]
      },
      {
       "output_type": "stream",
       "stream": "stderr",
       "text": [
        "GHMM ghmm.py:3746 - forward returned -1: Sequence 0 cannot be build.\n"
       ]
      },
      {
       "output_type": "stream",
       "stream": "stderr",
       "text": [
        "WARNING:GHMM:forward returned -1: Sequence 0 cannot be build.\n"
       ]
      },
      {
       "output_type": "stream",
       "stream": "stderr",
       "text": [
        "GHMM ghmm.py:3746 - forward returned -1: Sequence 1 cannot be build.\n"
       ]
      },
      {
       "output_type": "stream",
       "stream": "stderr",
       "text": [
        "WARNING:GHMM:forward returned -1: Sequence 1 cannot be build.\n"
       ]
      },
      {
       "output_type": "stream",
       "stream": "stderr",
       "text": [
        "GHMM ghmm.py:3746 - forward returned -1: Sequence 2 cannot be build.\n"
       ]
      },
      {
       "output_type": "stream",
       "stream": "stderr",
       "text": [
        "WARNING:GHMM:forward returned -1: Sequence 2 cannot be build.\n"
       ]
      },
      {
       "output_type": "stream",
       "stream": "stderr",
       "text": [
        "GHMM ghmm.py:3746 - forward returned -1: Sequence 3 cannot be build.\n"
       ]
      },
      {
       "output_type": "stream",
       "stream": "stderr",
       "text": [
        "WARNING:GHMM:forward returned -1: Sequence 3 cannot be build.\n"
       ]
      },
      {
       "output_type": "stream",
       "stream": "stderr",
       "text": [
        "GHMM ghmm.py:3746 - forward returned -1: Sequence 4 cannot be build.\n"
       ]
      },
      {
       "output_type": "stream",
       "stream": "stderr",
       "text": [
        "WARNING:GHMM:forward returned -1: Sequence 4 cannot be build.\n"
       ]
      },
      {
       "output_type": "stream",
       "stream": "stderr",
       "text": [
        "GHMM ghmm.py:3746 - forward returned -1: Sequence 5 cannot be build.\n"
       ]
      },
      {
       "output_type": "stream",
       "stream": "stderr",
       "text": [
        "WARNING:GHMM:forward returned -1: Sequence 5 cannot be build.\n"
       ]
      },
      {
       "output_type": "stream",
       "stream": "stderr",
       "text": [
        "GHMM ghmm.py:3746 - forward returned -1: Sequence 6 cannot be build.\n"
       ]
      },
      {
       "output_type": "stream",
       "stream": "stderr",
       "text": [
        "WARNING:GHMM:forward returned -1: Sequence 6 cannot be build.\n"
       ]
      },
      {
       "output_type": "stream",
       "stream": "stderr",
       "text": [
        "GHMM ghmm.py:3746 - forward returned -1: Sequence 7 cannot be build.\n"
       ]
      },
      {
       "output_type": "stream",
       "stream": "stderr",
       "text": [
        "WARNING:GHMM:forward returned -1: Sequence 7 cannot be build.\n"
       ]
      },
      {
       "output_type": "stream",
       "stream": "stderr",
       "text": [
        "GHMM ghmm.py:3746 - forward returned -1: Sequence 8 cannot be build.\n"
       ]
      },
      {
       "output_type": "stream",
       "stream": "stderr",
       "text": [
        "WARNING:GHMM:forward returned -1: Sequence 8 cannot be build.\n"
       ]
      },
      {
       "output_type": "stream",
       "stream": "stderr",
       "text": [
        "GHMM ghmm.py:3746 - forward returned -1: Sequence 9 cannot be build.\n"
       ]
      },
      {
       "output_type": "stream",
       "stream": "stderr",
       "text": [
        "WARNING:GHMM:forward returned -1: Sequence 9 cannot be build.\n"
       ]
      },
      {
       "output_type": "stream",
       "stream": "stderr",
       "text": [
        "GHMM ghmm.py:3746 - forward returned -1: Sequence 10 cannot be build.\n"
       ]
      },
      {
       "output_type": "stream",
       "stream": "stderr",
       "text": [
        "WARNING:GHMM:forward returned -1: Sequence 10 cannot be build.\n"
       ]
      },
      {
       "output_type": "stream",
       "stream": "stderr",
       "text": [
        "GHMM ghmm.py:3746 - forward returned -1: Sequence 11 cannot be build.\n"
       ]
      },
      {
       "output_type": "stream",
       "stream": "stderr",
       "text": [
        "WARNING:GHMM:forward returned -1: Sequence 11 cannot be build.\n"
       ]
      },
      {
       "output_type": "stream",
       "stream": "stderr",
       "text": [
        "GHMM ghmm.py:3746 - forward returned -1: Sequence 0 cannot be build.\n"
       ]
      },
      {
       "output_type": "stream",
       "stream": "stderr",
       "text": [
        "WARNING:GHMM:forward returned -1: Sequence 0 cannot be build.\n"
       ]
      },
      {
       "output_type": "stream",
       "stream": "stderr",
       "text": [
        "GHMM ghmm.py:3746 - forward returned -1: Sequence 1 cannot be build.\n"
       ]
      },
      {
       "output_type": "stream",
       "stream": "stderr",
       "text": [
        "WARNING:GHMM:forward returned -1: Sequence 1 cannot be build.\n"
       ]
      },
      {
       "output_type": "stream",
       "stream": "stderr",
       "text": [
        "GHMM ghmm.py:3746 - forward returned -1: Sequence 2 cannot be build.\n"
       ]
      },
      {
       "output_type": "stream",
       "stream": "stderr",
       "text": [
        "WARNING:GHMM:forward returned -1: Sequence 2 cannot be build.\n"
       ]
      },
      {
       "output_type": "stream",
       "stream": "stderr",
       "text": [
        "GHMM ghmm.py:3746 - forward returned -1: Sequence 3 cannot be build.\n"
       ]
      },
      {
       "output_type": "stream",
       "stream": "stderr",
       "text": [
        "WARNING:GHMM:forward returned -1: Sequence 3 cannot be build.\n"
       ]
      },
      {
       "output_type": "stream",
       "stream": "stderr",
       "text": [
        "GHMM ghmm.py:3746 - forward returned -1: Sequence 4 cannot be build.\n"
       ]
      },
      {
       "output_type": "stream",
       "stream": "stderr",
       "text": [
        "WARNING:GHMM:forward returned -1: Sequence 4 cannot be build.\n"
       ]
      },
      {
       "output_type": "stream",
       "stream": "stderr",
       "text": [
        "GHMM ghmm.py:3746 - forward returned -1: Sequence 5 cannot be build.\n"
       ]
      },
      {
       "output_type": "stream",
       "stream": "stderr",
       "text": [
        "WARNING:GHMM:forward returned -1: Sequence 5 cannot be build.\n"
       ]
      },
      {
       "output_type": "stream",
       "stream": "stderr",
       "text": [
        "GHMM ghmm.py:3746 - forward returned -1: Sequence 6 cannot be build.\n"
       ]
      },
      {
       "output_type": "stream",
       "stream": "stderr",
       "text": [
        "WARNING:GHMM:forward returned -1: Sequence 6 cannot be build.\n"
       ]
      },
      {
       "output_type": "stream",
       "stream": "stderr",
       "text": [
        "GHMM ghmm.py:3746 - forward returned -1: Sequence 7 cannot be build.\n"
       ]
      },
      {
       "output_type": "stream",
       "stream": "stderr",
       "text": [
        "WARNING:GHMM:forward returned -1: Sequence 7 cannot be build.\n"
       ]
      },
      {
       "output_type": "stream",
       "stream": "stderr",
       "text": [
        "GHMM ghmm.py:3746 - forward returned -1: Sequence 8 cannot be build.\n"
       ]
      },
      {
       "output_type": "stream",
       "stream": "stderr",
       "text": [
        "WARNING:GHMM:forward returned -1: Sequence 8 cannot be build.\n"
       ]
      },
      {
       "output_type": "stream",
       "stream": "stderr",
       "text": [
        "GHMM ghmm.py:3746 - forward returned -1: Sequence 9 cannot be build.\n"
       ]
      },
      {
       "output_type": "stream",
       "stream": "stderr",
       "text": [
        "WARNING:GHMM:forward returned -1: Sequence 9 cannot be build.\n"
       ]
      },
      {
       "output_type": "stream",
       "stream": "stderr",
       "text": [
        "GHMM ghmm.py:3746 - forward returned -1: Sequence 10 cannot be build.\n"
       ]
      },
      {
       "output_type": "stream",
       "stream": "stderr",
       "text": [
        "WARNING:GHMM:forward returned -1: Sequence 10 cannot be build.\n"
       ]
      },
      {
       "output_type": "stream",
       "stream": "stderr",
       "text": [
        "GHMM ghmm.py:3746 - forward returned -1: Sequence 11 cannot be build.\n"
       ]
      },
      {
       "output_type": "stream",
       "stream": "stderr",
       "text": [
        "WARNING:GHMM:forward returned -1: Sequence 11 cannot be build.\n"
       ]
      },
      {
       "output_type": "stream",
       "stream": "stderr",
       "text": [
        "GHMM ghmm.py:3746 - forward returned -1: Sequence 1 cannot be build.\n"
       ]
      },
      {
       "output_type": "stream",
       "stream": "stderr",
       "text": [
        "WARNING:GHMM:forward returned -1: Sequence 1 cannot be build.\n"
       ]
      },
      {
       "output_type": "stream",
       "stream": "stderr",
       "text": [
        "GHMM ghmm.py:3746 - forward returned -1: Sequence 2 cannot be build.\n"
       ]
      },
      {
       "output_type": "stream",
       "stream": "stderr",
       "text": [
        "WARNING:GHMM:forward returned -1: Sequence 2 cannot be build.\n"
       ]
      },
      {
       "output_type": "stream",
       "stream": "stderr",
       "text": [
        "GHMM ghmm.py:3746 - forward returned -1: Sequence 3 cannot be build.\n"
       ]
      },
      {
       "output_type": "stream",
       "stream": "stderr",
       "text": [
        "WARNING:GHMM:forward returned -1: Sequence 3 cannot be build.\n"
       ]
      },
      {
       "output_type": "stream",
       "stream": "stderr",
       "text": [
        "GHMM ghmm.py:3746 - forward returned -1: Sequence 5 cannot be build.\n"
       ]
      },
      {
       "output_type": "stream",
       "stream": "stderr",
       "text": [
        "WARNING:GHMM:forward returned -1: Sequence 5 cannot be build.\n"
       ]
      },
      {
       "output_type": "stream",
       "stream": "stderr",
       "text": [
        "GHMM ghmm.py:3746 - forward returned -1: Sequence 8 cannot be build.\n"
       ]
      },
      {
       "output_type": "stream",
       "stream": "stderr",
       "text": [
        "WARNING:GHMM:forward returned -1: Sequence 8 cannot be build.\n"
       ]
      },
      {
       "output_type": "stream",
       "stream": "stderr",
       "text": [
        "GHMM ghmm.py:3746 - forward returned -1: Sequence 10 cannot be build.\n"
       ]
      },
      {
       "output_type": "stream",
       "stream": "stderr",
       "text": [
        "WARNING:GHMM:forward returned -1: Sequence 10 cannot be build.\n"
       ]
      },
      {
       "output_type": "stream",
       "stream": "stderr",
       "text": [
        "GHMM ghmm.py:3746 - forward returned -1: Sequence 1 cannot be build.\n"
       ]
      },
      {
       "output_type": "stream",
       "stream": "stderr",
       "text": [
        "WARNING:GHMM:forward returned -1: Sequence 1 cannot be build.\n"
       ]
      },
      {
       "output_type": "stream",
       "stream": "stderr",
       "text": [
        "GHMM ghmm.py:3746 - forward returned -1: Sequence 2 cannot be build.\n"
       ]
      },
      {
       "output_type": "stream",
       "stream": "stderr",
       "text": [
        "WARNING:GHMM:forward returned -1: Sequence 2 cannot be build.\n"
       ]
      },
      {
       "output_type": "stream",
       "stream": "stderr",
       "text": [
        "GHMM ghmm.py:3746 - forward returned -1: Sequence 3 cannot be build.\n"
       ]
      },
      {
       "output_type": "stream",
       "stream": "stderr",
       "text": [
        "WARNING:GHMM:forward returned -1: Sequence 3 cannot be build.\n"
       ]
      },
      {
       "output_type": "stream",
       "stream": "stderr",
       "text": [
        "GHMM ghmm.py:3746 - forward returned -1: Sequence 5 cannot be build.\n"
       ]
      },
      {
       "output_type": "stream",
       "stream": "stderr",
       "text": [
        "WARNING:GHMM:forward returned -1: Sequence 5 cannot be build.\n"
       ]
      },
      {
       "output_type": "stream",
       "stream": "stderr",
       "text": [
        "GHMM ghmm.py:3746 - forward returned -1: Sequence 8 cannot be build.\n"
       ]
      },
      {
       "output_type": "stream",
       "stream": "stderr",
       "text": [
        "WARNING:GHMM:forward returned -1: Sequence 8 cannot be build.\n"
       ]
      },
      {
       "output_type": "stream",
       "stream": "stderr",
       "text": [
        "GHMM ghmm.py:3746 - forward returned -1: Sequence 10 cannot be build.\n"
       ]
      },
      {
       "output_type": "stream",
       "stream": "stderr",
       "text": [
        "WARNING:GHMM:forward returned -1: Sequence 10 cannot be build.\n"
       ]
      },
      {
       "output_type": "stream",
       "stream": "stderr",
       "text": [
        "GHMM ghmm.py:3746 - forward returned -1: Sequence 1 cannot be build.\n"
       ]
      },
      {
       "output_type": "stream",
       "stream": "stderr",
       "text": [
        "WARNING:GHMM:forward returned -1: Sequence 1 cannot be build.\n"
       ]
      },
      {
       "output_type": "stream",
       "stream": "stderr",
       "text": [
        "GHMM ghmm.py:3746 - forward returned -1: Sequence 2 cannot be build.\n"
       ]
      },
      {
       "output_type": "stream",
       "stream": "stderr",
       "text": [
        "WARNING:GHMM:forward returned -1: Sequence 2 cannot be build.\n"
       ]
      },
      {
       "output_type": "stream",
       "stream": "stderr",
       "text": [
        "GHMM ghmm.py:3746 - forward returned -1: Sequence 3 cannot be build.\n"
       ]
      },
      {
       "output_type": "stream",
       "stream": "stderr",
       "text": [
        "WARNING:GHMM:forward returned -1: Sequence 3 cannot be build.\n"
       ]
      },
      {
       "output_type": "stream",
       "stream": "stderr",
       "text": [
        "GHMM ghmm.py:3746 - forward returned -1: Sequence 5 cannot be build.\n"
       ]
      },
      {
       "output_type": "stream",
       "stream": "stderr",
       "text": [
        "WARNING:GHMM:forward returned -1: Sequence 5 cannot be build.\n"
       ]
      },
      {
       "output_type": "stream",
       "stream": "stderr",
       "text": [
        "GHMM ghmm.py:3746 - forward returned -1: Sequence 8 cannot be build.\n"
       ]
      },
      {
       "output_type": "stream",
       "stream": "stderr",
       "text": [
        "WARNING:GHMM:forward returned -1: Sequence 8 cannot be build.\n"
       ]
      },
      {
       "output_type": "stream",
       "stream": "stderr",
       "text": [
        "GHMM ghmm.py:3746 - forward returned -1: Sequence 10 cannot be build.\n"
       ]
      },
      {
       "output_type": "stream",
       "stream": "stderr",
       "text": [
        "WARNING:GHMM:forward returned -1: Sequence 10 cannot be build.\n"
       ]
      },
      {
       "output_type": "stream",
       "stream": "stderr",
       "text": [
        "GHMM ghmm.py:3746 - forward returned -1: Sequence 0 cannot be build.\n"
       ]
      },
      {
       "output_type": "stream",
       "stream": "stderr",
       "text": [
        "WARNING:GHMM:forward returned -1: Sequence 0 cannot be build.\n"
       ]
      },
      {
       "output_type": "stream",
       "stream": "stderr",
       "text": [
        "GHMM ghmm.py:3746 - forward returned -1: Sequence 1 cannot be build.\n"
       ]
      },
      {
       "output_type": "stream",
       "stream": "stderr",
       "text": [
        "WARNING:GHMM:forward returned -1: Sequence 1 cannot be build.\n"
       ]
      },
      {
       "output_type": "stream",
       "stream": "stderr",
       "text": [
        "GHMM ghmm.py:3746 - forward returned -1: Sequence 2 cannot be build.\n"
       ]
      },
      {
       "output_type": "stream",
       "stream": "stderr",
       "text": [
        "WARNING:GHMM:forward returned -1: Sequence 2 cannot be build.\n"
       ]
      },
      {
       "output_type": "stream",
       "stream": "stderr",
       "text": [
        "GHMM ghmm.py:3746 - forward returned -1: Sequence 3 cannot be build.\n"
       ]
      },
      {
       "output_type": "stream",
       "stream": "stderr",
       "text": [
        "WARNING:GHMM:forward returned -1: Sequence 3 cannot be build.\n"
       ]
      },
      {
       "output_type": "stream",
       "stream": "stderr",
       "text": [
        "GHMM ghmm.py:3746 - forward returned -1: Sequence 4 cannot be build.\n"
       ]
      },
      {
       "output_type": "stream",
       "stream": "stderr",
       "text": [
        "WARNING:GHMM:forward returned -1: Sequence 4 cannot be build.\n"
       ]
      },
      {
       "output_type": "stream",
       "stream": "stderr",
       "text": [
        "GHMM ghmm.py:3746 - forward returned -1: Sequence 5 cannot be build.\n"
       ]
      },
      {
       "output_type": "stream",
       "stream": "stderr",
       "text": [
        "WARNING:GHMM:forward returned -1: Sequence 5 cannot be build.\n"
       ]
      },
      {
       "output_type": "stream",
       "stream": "stderr",
       "text": [
        "GHMM ghmm.py:3746 - forward returned -1: Sequence 6 cannot be build.\n"
       ]
      },
      {
       "output_type": "stream",
       "stream": "stderr",
       "text": [
        "WARNING:GHMM:forward returned -1: Sequence 6 cannot be build.\n"
       ]
      },
      {
       "output_type": "stream",
       "stream": "stderr",
       "text": [
        "GHMM ghmm.py:3746 - forward returned -1: Sequence 7 cannot be build.\n"
       ]
      },
      {
       "output_type": "stream",
       "stream": "stderr",
       "text": [
        "WARNING:GHMM:forward returned -1: Sequence 7 cannot be build.\n"
       ]
      },
      {
       "output_type": "stream",
       "stream": "stderr",
       "text": [
        "GHMM ghmm.py:3746 - forward returned -1: Sequence 8 cannot be build.\n"
       ]
      },
      {
       "output_type": "stream",
       "stream": "stderr",
       "text": [
        "WARNING:GHMM:forward returned -1: Sequence 8 cannot be build.\n"
       ]
      },
      {
       "output_type": "stream",
       "stream": "stderr",
       "text": [
        "GHMM ghmm.py:3746 - forward returned -1: Sequence 9 cannot be build.\n"
       ]
      },
      {
       "output_type": "stream",
       "stream": "stderr",
       "text": [
        "WARNING:GHMM:forward returned -1: Sequence 9 cannot be build.\n"
       ]
      },
      {
       "output_type": "stream",
       "stream": "stderr",
       "text": [
        "GHMM ghmm.py:3746 - forward returned -1: Sequence 10 cannot be build.\n"
       ]
      },
      {
       "output_type": "stream",
       "stream": "stderr",
       "text": [
        "WARNING:GHMM:forward returned -1: Sequence 10 cannot be build.\n"
       ]
      },
      {
       "output_type": "stream",
       "stream": "stderr",
       "text": [
        "GHMM ghmm.py:3746 - forward returned -1: Sequence 11 cannot be build.\n"
       ]
      },
      {
       "output_type": "stream",
       "stream": "stderr",
       "text": [
        "WARNING:GHMM:forward returned -1: Sequence 11 cannot be build.\n"
       ]
      },
      {
       "output_type": "stream",
       "stream": "stderr",
       "text": [
        "GHMM ghmm.py:3746 - forward returned -1: Sequence 0 cannot be build.\n"
       ]
      },
      {
       "output_type": "stream",
       "stream": "stderr",
       "text": [
        "WARNING:GHMM:forward returned -1: Sequence 0 cannot be build.\n"
       ]
      },
      {
       "output_type": "stream",
       "stream": "stderr",
       "text": [
        "GHMM ghmm.py:3746 - forward returned -1: Sequence 1 cannot be build.\n"
       ]
      },
      {
       "output_type": "stream",
       "stream": "stderr",
       "text": [
        "WARNING:GHMM:forward returned -1: Sequence 1 cannot be build.\n"
       ]
      },
      {
       "output_type": "stream",
       "stream": "stderr",
       "text": [
        "GHMM ghmm.py:3746 - forward returned -1: Sequence 2 cannot be build.\n"
       ]
      },
      {
       "output_type": "stream",
       "stream": "stderr",
       "text": [
        "WARNING:GHMM:forward returned -1: Sequence 2 cannot be build.\n"
       ]
      },
      {
       "output_type": "stream",
       "stream": "stderr",
       "text": [
        "GHMM ghmm.py:3746 - forward returned -1: Sequence 3 cannot be build.\n"
       ]
      },
      {
       "output_type": "stream",
       "stream": "stderr",
       "text": [
        "WARNING:GHMM:forward returned -1: Sequence 3 cannot be build.\n"
       ]
      },
      {
       "output_type": "stream",
       "stream": "stderr",
       "text": [
        "GHMM ghmm.py:3746 - forward returned -1: Sequence 4 cannot be build.\n"
       ]
      },
      {
       "output_type": "stream",
       "stream": "stderr",
       "text": [
        "WARNING:GHMM:forward returned -1: Sequence 4 cannot be build.\n"
       ]
      },
      {
       "output_type": "stream",
       "stream": "stderr",
       "text": [
        "GHMM ghmm.py:3746 - forward returned -1: Sequence 5 cannot be build.\n"
       ]
      },
      {
       "output_type": "stream",
       "stream": "stderr",
       "text": [
        "WARNING:GHMM:forward returned -1: Sequence 5 cannot be build.\n"
       ]
      },
      {
       "output_type": "stream",
       "stream": "stderr",
       "text": [
        "GHMM ghmm.py:3746 - forward returned -1: Sequence 6 cannot be build.\n"
       ]
      },
      {
       "output_type": "stream",
       "stream": "stderr",
       "text": [
        "WARNING:GHMM:forward returned -1: Sequence 6 cannot be build.\n"
       ]
      },
      {
       "output_type": "stream",
       "stream": "stderr",
       "text": [
        "GHMM ghmm.py:3746 - forward returned -1: Sequence 7 cannot be build.\n"
       ]
      },
      {
       "output_type": "stream",
       "stream": "stderr",
       "text": [
        "WARNING:GHMM:forward returned -1: Sequence 7 cannot be build.\n"
       ]
      },
      {
       "output_type": "stream",
       "stream": "stderr",
       "text": [
        "GHMM ghmm.py:3746 - forward returned -1: Sequence 8 cannot be build.\n"
       ]
      },
      {
       "output_type": "stream",
       "stream": "stderr",
       "text": [
        "WARNING:GHMM:forward returned -1: Sequence 8 cannot be build.\n"
       ]
      },
      {
       "output_type": "stream",
       "stream": "stderr",
       "text": [
        "GHMM ghmm.py:3746 - forward returned -1: Sequence 9 cannot be build.\n"
       ]
      },
      {
       "output_type": "stream",
       "stream": "stderr",
       "text": [
        "WARNING:GHMM:forward returned -1: Sequence 9 cannot be build.\n"
       ]
      },
      {
       "output_type": "stream",
       "stream": "stderr",
       "text": [
        "GHMM ghmm.py:3746 - forward returned -1: Sequence 10 cannot be build.\n"
       ]
      },
      {
       "output_type": "stream",
       "stream": "stderr",
       "text": [
        "WARNING:GHMM:forward returned -1: Sequence 10 cannot be build.\n"
       ]
      },
      {
       "output_type": "stream",
       "stream": "stderr",
       "text": [
        "GHMM ghmm.py:3746 - forward returned -1: Sequence 11 cannot be build.\n"
       ]
      },
      {
       "output_type": "stream",
       "stream": "stderr",
       "text": [
        "WARNING:GHMM:forward returned -1: Sequence 11 cannot be build.\n"
       ]
      },
      {
       "output_type": "stream",
       "stream": "stderr",
       "text": [
        "GHMM ghmm.py:3746 - forward returned -1: Sequence 0 cannot be build.\n"
       ]
      },
      {
       "output_type": "stream",
       "stream": "stderr",
       "text": [
        "WARNING:GHMM:forward returned -1: Sequence 0 cannot be build.\n"
       ]
      },
      {
       "output_type": "stream",
       "stream": "stderr",
       "text": [
        "GHMM ghmm.py:3746 - forward returned -1: Sequence 1 cannot be build.\n"
       ]
      },
      {
       "output_type": "stream",
       "stream": "stderr",
       "text": [
        "WARNING:GHMM:forward returned -1: Sequence 1 cannot be build.\n"
       ]
      },
      {
       "output_type": "stream",
       "stream": "stderr",
       "text": [
        "GHMM ghmm.py:3746 - forward returned -1: Sequence 2 cannot be build.\n"
       ]
      },
      {
       "output_type": "stream",
       "stream": "stderr",
       "text": [
        "WARNING:GHMM:forward returned -1: Sequence 2 cannot be build.\n"
       ]
      },
      {
       "output_type": "stream",
       "stream": "stderr",
       "text": [
        "GHMM ghmm.py:3746 - forward returned -1: Sequence 3 cannot be build.\n"
       ]
      },
      {
       "output_type": "stream",
       "stream": "stderr",
       "text": [
        "WARNING:GHMM:forward returned -1: Sequence 3 cannot be build.\n"
       ]
      },
      {
       "output_type": "stream",
       "stream": "stderr",
       "text": [
        "GHMM ghmm.py:3746 - forward returned -1: Sequence 4 cannot be build.\n"
       ]
      },
      {
       "output_type": "stream",
       "stream": "stderr",
       "text": [
        "WARNING:GHMM:forward returned -1: Sequence 4 cannot be build.\n"
       ]
      },
      {
       "output_type": "stream",
       "stream": "stderr",
       "text": [
        "GHMM ghmm.py:3746 - forward returned -1: Sequence 5 cannot be build.\n"
       ]
      },
      {
       "output_type": "stream",
       "stream": "stderr",
       "text": [
        "WARNING:GHMM:forward returned -1: Sequence 5 cannot be build.\n"
       ]
      },
      {
       "output_type": "stream",
       "stream": "stderr",
       "text": [
        "GHMM ghmm.py:3746 - forward returned -1: Sequence 6 cannot be build.\n"
       ]
      },
      {
       "output_type": "stream",
       "stream": "stderr",
       "text": [
        "WARNING:GHMM:forward returned -1: Sequence 6 cannot be build.\n"
       ]
      },
      {
       "output_type": "stream",
       "stream": "stderr",
       "text": [
        "GHMM ghmm.py:3746 - forward returned -1: Sequence 7 cannot be build.\n"
       ]
      },
      {
       "output_type": "stream",
       "stream": "stderr",
       "text": [
        "WARNING:GHMM:forward returned -1: Sequence 7 cannot be build.\n"
       ]
      },
      {
       "output_type": "stream",
       "stream": "stderr",
       "text": [
        "GHMM ghmm.py:3746 - forward returned -1: Sequence 8 cannot be build.\n"
       ]
      },
      {
       "output_type": "stream",
       "stream": "stderr",
       "text": [
        "WARNING:GHMM:forward returned -1: Sequence 8 cannot be build.\n"
       ]
      },
      {
       "output_type": "stream",
       "stream": "stderr",
       "text": [
        "GHMM ghmm.py:3746 - forward returned -1: Sequence 9 cannot be build.\n"
       ]
      },
      {
       "output_type": "stream",
       "stream": "stderr",
       "text": [
        "WARNING:GHMM:forward returned -1: Sequence 9 cannot be build.\n"
       ]
      },
      {
       "output_type": "stream",
       "stream": "stderr",
       "text": [
        "GHMM ghmm.py:3746 - forward returned -1: Sequence 10 cannot be build.\n"
       ]
      },
      {
       "output_type": "stream",
       "stream": "stderr",
       "text": [
        "WARNING:GHMM:forward returned -1: Sequence 10 cannot be build.\n"
       ]
      },
      {
       "output_type": "stream",
       "stream": "stderr",
       "text": [
        "GHMM ghmm.py:3746 - forward returned -1: Sequence 11 cannot be build.\n"
       ]
      },
      {
       "output_type": "stream",
       "stream": "stderr",
       "text": [
        "WARNING:GHMM:forward returned -1: Sequence 11 cannot be build.\n"
       ]
      },
      {
       "output_type": "stream",
       "stream": "stderr",
       "text": [
        "GHMM ghmm.py:3746 - forward returned -1: Sequence 1 cannot be build.\n"
       ]
      },
      {
       "output_type": "stream",
       "stream": "stderr",
       "text": [
        "WARNING:GHMM:forward returned -1: Sequence 1 cannot be build.\n"
       ]
      },
      {
       "output_type": "stream",
       "stream": "stderr",
       "text": [
        "GHMM ghmm.py:3746 - forward returned -1: Sequence 2 cannot be build.\n"
       ]
      },
      {
       "output_type": "stream",
       "stream": "stderr",
       "text": [
        "WARNING:GHMM:forward returned -1: Sequence 2 cannot be build.\n"
       ]
      },
      {
       "output_type": "stream",
       "stream": "stderr",
       "text": [
        "GHMM ghmm.py:3746 - forward returned -1: Sequence 3 cannot be build.\n"
       ]
      },
      {
       "output_type": "stream",
       "stream": "stderr",
       "text": [
        "WARNING:GHMM:forward returned -1: Sequence 3 cannot be build.\n"
       ]
      },
      {
       "output_type": "stream",
       "stream": "stderr",
       "text": [
        "GHMM ghmm.py:3746 - forward returned -1: Sequence 5 cannot be build.\n"
       ]
      },
      {
       "output_type": "stream",
       "stream": "stderr",
       "text": [
        "WARNING:GHMM:forward returned -1: Sequence 5 cannot be build.\n"
       ]
      },
      {
       "output_type": "stream",
       "stream": "stderr",
       "text": [
        "GHMM ghmm.py:3746 - forward returned -1: Sequence 8 cannot be build.\n"
       ]
      },
      {
       "output_type": "stream",
       "stream": "stderr",
       "text": [
        "WARNING:GHMM:forward returned -1: Sequence 8 cannot be build.\n"
       ]
      },
      {
       "output_type": "stream",
       "stream": "stderr",
       "text": [
        "GHMM ghmm.py:3746 - forward returned -1: Sequence 10 cannot be build.\n"
       ]
      },
      {
       "output_type": "stream",
       "stream": "stderr",
       "text": [
        "WARNING:GHMM:forward returned -1: Sequence 10 cannot be build.\n"
       ]
      },
      {
       "output_type": "stream",
       "stream": "stderr",
       "text": [
        "GHMM ghmm.py:3746 - forward returned -1: Sequence 1 cannot be build.\n"
       ]
      },
      {
       "output_type": "stream",
       "stream": "stderr",
       "text": [
        "WARNING:GHMM:forward returned -1: Sequence 1 cannot be build.\n"
       ]
      },
      {
       "output_type": "stream",
       "stream": "stderr",
       "text": [
        "GHMM ghmm.py:3746 - forward returned -1: Sequence 2 cannot be build.\n"
       ]
      },
      {
       "output_type": "stream",
       "stream": "stderr",
       "text": [
        "WARNING:GHMM:forward returned -1: Sequence 2 cannot be build.\n"
       ]
      },
      {
       "output_type": "stream",
       "stream": "stderr",
       "text": [
        "GHMM ghmm.py:3746 - forward returned -1: Sequence 3 cannot be build.\n"
       ]
      },
      {
       "output_type": "stream",
       "stream": "stderr",
       "text": [
        "WARNING:GHMM:forward returned -1: Sequence 3 cannot be build.\n"
       ]
      },
      {
       "output_type": "stream",
       "stream": "stderr",
       "text": [
        "GHMM ghmm.py:3746 - forward returned -1: Sequence 5 cannot be build.\n"
       ]
      },
      {
       "output_type": "stream",
       "stream": "stderr",
       "text": [
        "WARNING:GHMM:forward returned -1: Sequence 5 cannot be build.\n"
       ]
      },
      {
       "output_type": "stream",
       "stream": "stderr",
       "text": [
        "GHMM ghmm.py:3746 - forward returned -1: Sequence 8 cannot be build.\n"
       ]
      },
      {
       "output_type": "stream",
       "stream": "stderr",
       "text": [
        "WARNING:GHMM:forward returned -1: Sequence 8 cannot be build.\n"
       ]
      },
      {
       "output_type": "stream",
       "stream": "stderr",
       "text": [
        "GHMM ghmm.py:3746 - forward returned -1: Sequence 10 cannot be build.\n"
       ]
      },
      {
       "output_type": "stream",
       "stream": "stderr",
       "text": [
        "WARNING:GHMM:forward returned -1: Sequence 10 cannot be build.\n"
       ]
      },
      {
       "output_type": "stream",
       "stream": "stderr",
       "text": [
        "GHMM ghmm.py:3746 - forward returned -1: Sequence 1 cannot be build.\n"
       ]
      },
      {
       "output_type": "stream",
       "stream": "stderr",
       "text": [
        "WARNING:GHMM:forward returned -1: Sequence 1 cannot be build.\n"
       ]
      },
      {
       "output_type": "stream",
       "stream": "stderr",
       "text": [
        "GHMM ghmm.py:3746 - forward returned -1: Sequence 2 cannot be build.\n"
       ]
      },
      {
       "output_type": "stream",
       "stream": "stderr",
       "text": [
        "WARNING:GHMM:forward returned -1: Sequence 2 cannot be build.\n"
       ]
      },
      {
       "output_type": "stream",
       "stream": "stderr",
       "text": [
        "GHMM ghmm.py:3746 - forward returned -1: Sequence 3 cannot be build.\n"
       ]
      },
      {
       "output_type": "stream",
       "stream": "stderr",
       "text": [
        "WARNING:GHMM:forward returned -1: Sequence 3 cannot be build.\n"
       ]
      },
      {
       "output_type": "stream",
       "stream": "stderr",
       "text": [
        "GHMM ghmm.py:3746 - forward returned -1: Sequence 5 cannot be build.\n"
       ]
      },
      {
       "output_type": "stream",
       "stream": "stderr",
       "text": [
        "WARNING:GHMM:forward returned -1: Sequence 5 cannot be build.\n"
       ]
      },
      {
       "output_type": "stream",
       "stream": "stderr",
       "text": [
        "GHMM ghmm.py:3746 - forward returned -1: Sequence 8 cannot be build.\n"
       ]
      },
      {
       "output_type": "stream",
       "stream": "stderr",
       "text": [
        "WARNING:GHMM:forward returned -1: Sequence 8 cannot be build.\n"
       ]
      },
      {
       "output_type": "stream",
       "stream": "stderr",
       "text": [
        "GHMM ghmm.py:3746 - forward returned -1: Sequence 10 cannot be build.\n"
       ]
      },
      {
       "output_type": "stream",
       "stream": "stderr",
       "text": [
        "WARNING:GHMM:forward returned -1: Sequence 10 cannot be build.\n"
       ]
      },
      {
       "output_type": "stream",
       "stream": "stderr",
       "text": [
        "GHMM ghmm.py:3746 - forward returned -1: Sequence 1 cannot be build.\n"
       ]
      },
      {
       "output_type": "stream",
       "stream": "stderr",
       "text": [
        "WARNING:GHMM:forward returned -1: Sequence 1 cannot be build.\n"
       ]
      },
      {
       "output_type": "stream",
       "stream": "stderr",
       "text": [
        "GHMM ghmm.py:3746 - forward returned -1: Sequence 2 cannot be build.\n"
       ]
      },
      {
       "output_type": "stream",
       "stream": "stderr",
       "text": [
        "WARNING:GHMM:forward returned -1: Sequence 2 cannot be build.\n"
       ]
      },
      {
       "output_type": "stream",
       "stream": "stderr",
       "text": [
        "GHMM ghmm.py:3746 - forward returned -1: Sequence 3 cannot be build.\n"
       ]
      },
      {
       "output_type": "stream",
       "stream": "stderr",
       "text": [
        "WARNING:GHMM:forward returned -1: Sequence 3 cannot be build.\n"
       ]
      },
      {
       "output_type": "stream",
       "stream": "stderr",
       "text": [
        "GHMM ghmm.py:3746 - forward returned -1: Sequence 5 cannot be build.\n"
       ]
      },
      {
       "output_type": "stream",
       "stream": "stderr",
       "text": [
        "WARNING:GHMM:forward returned -1: Sequence 5 cannot be build.\n"
       ]
      },
      {
       "output_type": "stream",
       "stream": "stderr",
       "text": [
        "GHMM ghmm.py:3746 - forward returned -1: Sequence 8 cannot be build.\n"
       ]
      },
      {
       "output_type": "stream",
       "stream": "stderr",
       "text": [
        "WARNING:GHMM:forward returned -1: Sequence 8 cannot be build.\n"
       ]
      },
      {
       "output_type": "stream",
       "stream": "stderr",
       "text": [
        "GHMM ghmm.py:3746 - forward returned -1: Sequence 10 cannot be build.\n"
       ]
      },
      {
       "output_type": "stream",
       "stream": "stderr",
       "text": [
        "WARNING:GHMM:forward returned -1: Sequence 10 cannot be build.\n"
       ]
      },
      {
       "output_type": "stream",
       "stream": "stderr",
       "text": [
        "GHMM ghmm.py:3746 - forward returned -1: Sequence 1 cannot be build.\n"
       ]
      },
      {
       "output_type": "stream",
       "stream": "stderr",
       "text": [
        "WARNING:GHMM:forward returned -1: Sequence 1 cannot be build.\n"
       ]
      },
      {
       "output_type": "stream",
       "stream": "stderr",
       "text": [
        "GHMM ghmm.py:3746 - forward returned -1: Sequence 2 cannot be build.\n"
       ]
      },
      {
       "output_type": "stream",
       "stream": "stderr",
       "text": [
        "WARNING:GHMM:forward returned -1: Sequence 2 cannot be build.\n"
       ]
      },
      {
       "output_type": "stream",
       "stream": "stderr",
       "text": [
        "GHMM ghmm.py:3746 - forward returned -1: Sequence 3 cannot be build.\n"
       ]
      },
      {
       "output_type": "stream",
       "stream": "stderr",
       "text": [
        "WARNING:GHMM:forward returned -1: Sequence 3 cannot be build.\n"
       ]
      },
      {
       "output_type": "stream",
       "stream": "stderr",
       "text": [
        "GHMM ghmm.py:3746 - forward returned -1: Sequence 5 cannot be build.\n"
       ]
      },
      {
       "output_type": "stream",
       "stream": "stderr",
       "text": [
        "WARNING:GHMM:forward returned -1: Sequence 5 cannot be build.\n"
       ]
      },
      {
       "output_type": "stream",
       "stream": "stderr",
       "text": [
        "GHMM ghmm.py:3746 - forward returned -1: Sequence 8 cannot be build.\n"
       ]
      },
      {
       "output_type": "stream",
       "stream": "stderr",
       "text": [
        "WARNING:GHMM:forward returned -1: Sequence 8 cannot be build.\n"
       ]
      },
      {
       "output_type": "stream",
       "stream": "stderr",
       "text": [
        "GHMM ghmm.py:3746 - forward returned -1: Sequence 10 cannot be build.\n"
       ]
      },
      {
       "output_type": "stream",
       "stream": "stderr",
       "text": [
        "WARNING:GHMM:forward returned -1: Sequence 10 cannot be build.\n"
       ]
      },
      {
       "output_type": "stream",
       "stream": "stderr",
       "text": [
        "GHMM ghmm.py:3746 - forward returned -1: Sequence 1 cannot be build.\n"
       ]
      },
      {
       "output_type": "stream",
       "stream": "stderr",
       "text": [
        "WARNING:GHMM:forward returned -1: Sequence 1 cannot be build.\n"
       ]
      },
      {
       "output_type": "stream",
       "stream": "stderr",
       "text": [
        "GHMM ghmm.py:3746 - forward returned -1: Sequence 2 cannot be build.\n"
       ]
      },
      {
       "output_type": "stream",
       "stream": "stderr",
       "text": [
        "WARNING:GHMM:forward returned -1: Sequence 2 cannot be build.\n"
       ]
      },
      {
       "output_type": "stream",
       "stream": "stderr",
       "text": [
        "GHMM ghmm.py:3746 - forward returned -1: Sequence 3 cannot be build.\n"
       ]
      },
      {
       "output_type": "stream",
       "stream": "stderr",
       "text": [
        "WARNING:GHMM:forward returned -1: Sequence 3 cannot be build.\n"
       ]
      },
      {
       "output_type": "stream",
       "stream": "stderr",
       "text": [
        "GHMM ghmm.py:3746 - forward returned -1: Sequence 5 cannot be build.\n"
       ]
      },
      {
       "output_type": "stream",
       "stream": "stderr",
       "text": [
        "WARNING:GHMM:forward returned -1: Sequence 5 cannot be build.\n"
       ]
      },
      {
       "output_type": "stream",
       "stream": "stderr",
       "text": [
        "GHMM ghmm.py:3746 - forward returned -1: Sequence 8 cannot be build.\n"
       ]
      },
      {
       "output_type": "stream",
       "stream": "stderr",
       "text": [
        "WARNING:GHMM:forward returned -1: Sequence 8 cannot be build.\n"
       ]
      },
      {
       "output_type": "stream",
       "stream": "stderr",
       "text": [
        "GHMM ghmm.py:3746 - forward returned -1: Sequence 10 cannot be build.\n"
       ]
      },
      {
       "output_type": "stream",
       "stream": "stderr",
       "text": [
        "WARNING:GHMM:forward returned -1: Sequence 10 cannot be build.\n"
       ]
      },
      {
       "output_type": "stream",
       "stream": "stderr",
       "text": [
        "GHMM ghmm.py:3746 - forward returned -1: Sequence 1 cannot be build.\n"
       ]
      },
      {
       "output_type": "stream",
       "stream": "stderr",
       "text": [
        "WARNING:GHMM:forward returned -1: Sequence 1 cannot be build.\n"
       ]
      },
      {
       "output_type": "stream",
       "stream": "stderr",
       "text": [
        "GHMM ghmm.py:3746 - forward returned -1: Sequence 2 cannot be build.\n"
       ]
      },
      {
       "output_type": "stream",
       "stream": "stderr",
       "text": [
        "WARNING:GHMM:forward returned -1: Sequence 2 cannot be build.\n"
       ]
      },
      {
       "output_type": "stream",
       "stream": "stderr",
       "text": [
        "GHMM ghmm.py:3746 - forward returned -1: Sequence 3 cannot be build.\n"
       ]
      },
      {
       "output_type": "stream",
       "stream": "stderr",
       "text": [
        "WARNING:GHMM:forward returned -1: Sequence 3 cannot be build.\n"
       ]
      },
      {
       "output_type": "stream",
       "stream": "stderr",
       "text": [
        "GHMM ghmm.py:3746 - forward returned -1: Sequence 5 cannot be build.\n"
       ]
      },
      {
       "output_type": "stream",
       "stream": "stderr",
       "text": [
        "WARNING:GHMM:forward returned -1: Sequence 5 cannot be build.\n"
       ]
      },
      {
       "output_type": "stream",
       "stream": "stderr",
       "text": [
        "GHMM ghmm.py:3746 - forward returned -1: Sequence 8 cannot be build.\n"
       ]
      },
      {
       "output_type": "stream",
       "stream": "stderr",
       "text": [
        "WARNING:GHMM:forward returned -1: Sequence 8 cannot be build.\n"
       ]
      },
      {
       "output_type": "stream",
       "stream": "stderr",
       "text": [
        "GHMM ghmm.py:3746 - forward returned -1: Sequence 10 cannot be build.\n"
       ]
      },
      {
       "output_type": "stream",
       "stream": "stderr",
       "text": [
        "WARNING:GHMM:forward returned -1: Sequence 10 cannot be build.\n"
       ]
      },
      {
       "output_type": "stream",
       "stream": "stderr",
       "text": [
        "GHMM ghmm.py:3746 - forward returned -1: Sequence 1 cannot be build.\n"
       ]
      },
      {
       "output_type": "stream",
       "stream": "stderr",
       "text": [
        "WARNING:GHMM:forward returned -1: Sequence 1 cannot be build.\n"
       ]
      },
      {
       "output_type": "stream",
       "stream": "stderr",
       "text": [
        "GHMM ghmm.py:3746 - forward returned -1: Sequence 2 cannot be build.\n"
       ]
      },
      {
       "output_type": "stream",
       "stream": "stderr",
       "text": [
        "WARNING:GHMM:forward returned -1: Sequence 2 cannot be build.\n"
       ]
      },
      {
       "output_type": "stream",
       "stream": "stderr",
       "text": [
        "GHMM ghmm.py:3746 - forward returned -1: Sequence 3 cannot be build.\n"
       ]
      },
      {
       "output_type": "stream",
       "stream": "stderr",
       "text": [
        "WARNING:GHMM:forward returned -1: Sequence 3 cannot be build.\n"
       ]
      },
      {
       "output_type": "stream",
       "stream": "stderr",
       "text": [
        "GHMM ghmm.py:3746 - forward returned -1: Sequence 5 cannot be build.\n"
       ]
      },
      {
       "output_type": "stream",
       "stream": "stderr",
       "text": [
        "WARNING:GHMM:forward returned -1: Sequence 5 cannot be build.\n"
       ]
      },
      {
       "output_type": "stream",
       "stream": "stderr",
       "text": [
        "GHMM ghmm.py:3746 - forward returned -1: Sequence 8 cannot be build.\n"
       ]
      },
      {
       "output_type": "stream",
       "stream": "stderr",
       "text": [
        "WARNING:GHMM:forward returned -1: Sequence 8 cannot be build.\n"
       ]
      },
      {
       "output_type": "stream",
       "stream": "stderr",
       "text": [
        "GHMM ghmm.py:3746 - forward returned -1: Sequence 10 cannot be build.\n"
       ]
      },
      {
       "output_type": "stream",
       "stream": "stderr",
       "text": [
        "WARNING:GHMM:forward returned -1: Sequence 10 cannot be build.\n"
       ]
      },
      {
       "output_type": "stream",
       "stream": "stderr",
       "text": [
        "GHMM ghmm.py:3746 - forward returned -1: Sequence 1 cannot be build.\n"
       ]
      },
      {
       "output_type": "stream",
       "stream": "stderr",
       "text": [
        "WARNING:GHMM:forward returned -1: Sequence 1 cannot be build.\n"
       ]
      },
      {
       "output_type": "stream",
       "stream": "stderr",
       "text": [
        "GHMM ghmm.py:3746 - forward returned -1: Sequence 2 cannot be build.\n"
       ]
      },
      {
       "output_type": "stream",
       "stream": "stderr",
       "text": [
        "WARNING:GHMM:forward returned -1: Sequence 2 cannot be build.\n"
       ]
      },
      {
       "output_type": "stream",
       "stream": "stderr",
       "text": [
        "GHMM ghmm.py:3746 - forward returned -1: Sequence 3 cannot be build.\n"
       ]
      },
      {
       "output_type": "stream",
       "stream": "stderr",
       "text": [
        "WARNING:GHMM:forward returned -1: Sequence 3 cannot be build.\n"
       ]
      },
      {
       "output_type": "stream",
       "stream": "stderr",
       "text": [
        "GHMM ghmm.py:3746 - forward returned -1: Sequence 5 cannot be build.\n"
       ]
      },
      {
       "output_type": "stream",
       "stream": "stderr",
       "text": [
        "WARNING:GHMM:forward returned -1: Sequence 5 cannot be build.\n"
       ]
      },
      {
       "output_type": "stream",
       "stream": "stderr",
       "text": [
        "GHMM ghmm.py:3746 - forward returned -1: Sequence 8 cannot be build.\n"
       ]
      },
      {
       "output_type": "stream",
       "stream": "stderr",
       "text": [
        "WARNING:GHMM:forward returned -1: Sequence 8 cannot be build.\n"
       ]
      },
      {
       "output_type": "stream",
       "stream": "stderr",
       "text": [
        "GHMM ghmm.py:3746 - forward returned -1: Sequence 10 cannot be build.\n"
       ]
      },
      {
       "output_type": "stream",
       "stream": "stderr",
       "text": [
        "WARNING:GHMM:forward returned -1: Sequence 10 cannot be build.\n"
       ]
      },
      {
       "output_type": "stream",
       "stream": "stderr",
       "text": [
        "GHMM ghmm.py:3746 - forward returned -1: Sequence 1 cannot be build.\n"
       ]
      },
      {
       "output_type": "stream",
       "stream": "stderr",
       "text": [
        "WARNING:GHMM:forward returned -1: Sequence 1 cannot be build.\n"
       ]
      },
      {
       "output_type": "stream",
       "stream": "stderr",
       "text": [
        "GHMM ghmm.py:3746 - forward returned -1: Sequence 2 cannot be build.\n"
       ]
      },
      {
       "output_type": "stream",
       "stream": "stderr",
       "text": [
        "WARNING:GHMM:forward returned -1: Sequence 2 cannot be build.\n"
       ]
      },
      {
       "output_type": "stream",
       "stream": "stderr",
       "text": [
        "GHMM ghmm.py:3746 - forward returned -1: Sequence 3 cannot be build.\n"
       ]
      },
      {
       "output_type": "stream",
       "stream": "stderr",
       "text": [
        "WARNING:GHMM:forward returned -1: Sequence 3 cannot be build.\n"
       ]
      },
      {
       "output_type": "stream",
       "stream": "stderr",
       "text": [
        "GHMM ghmm.py:3746 - forward returned -1: Sequence 5 cannot be build.\n"
       ]
      },
      {
       "output_type": "stream",
       "stream": "stderr",
       "text": [
        "WARNING:GHMM:forward returned -1: Sequence 5 cannot be build.\n"
       ]
      },
      {
       "output_type": "stream",
       "stream": "stderr",
       "text": [
        "GHMM ghmm.py:3746 - forward returned -1: Sequence 8 cannot be build.\n"
       ]
      },
      {
       "output_type": "stream",
       "stream": "stderr",
       "text": [
        "WARNING:GHMM:forward returned -1: Sequence 8 cannot be build.\n"
       ]
      },
      {
       "output_type": "stream",
       "stream": "stderr",
       "text": [
        "GHMM ghmm.py:3746 - forward returned -1: Sequence 10 cannot be build.\n"
       ]
      },
      {
       "output_type": "stream",
       "stream": "stderr",
       "text": [
        "WARNING:GHMM:forward returned -1: Sequence 10 cannot be build.\n"
       ]
      },
      {
       "output_type": "stream",
       "stream": "stderr",
       "text": [
        "GHMM ghmm.py:3746 - forward returned -1: Sequence 1 cannot be build.\n"
       ]
      },
      {
       "output_type": "stream",
       "stream": "stderr",
       "text": [
        "WARNING:GHMM:forward returned -1: Sequence 1 cannot be build.\n"
       ]
      },
      {
       "output_type": "stream",
       "stream": "stderr",
       "text": [
        "GHMM ghmm.py:3746 - forward returned -1: Sequence 2 cannot be build.\n"
       ]
      },
      {
       "output_type": "stream",
       "stream": "stderr",
       "text": [
        "WARNING:GHMM:forward returned -1: Sequence 2 cannot be build.\n"
       ]
      },
      {
       "output_type": "stream",
       "stream": "stderr",
       "text": [
        "GHMM ghmm.py:3746 - forward returned -1: Sequence 3 cannot be build.\n"
       ]
      },
      {
       "output_type": "stream",
       "stream": "stderr",
       "text": [
        "WARNING:GHMM:forward returned -1: Sequence 3 cannot be build.\n"
       ]
      },
      {
       "output_type": "stream",
       "stream": "stderr",
       "text": [
        "GHMM ghmm.py:3746 - forward returned -1: Sequence 5 cannot be build.\n"
       ]
      },
      {
       "output_type": "stream",
       "stream": "stderr",
       "text": [
        "WARNING:GHMM:forward returned -1: Sequence 5 cannot be build.\n"
       ]
      },
      {
       "output_type": "stream",
       "stream": "stderr",
       "text": [
        "GHMM ghmm.py:3746 - forward returned -1: Sequence 8 cannot be build.\n"
       ]
      },
      {
       "output_type": "stream",
       "stream": "stderr",
       "text": [
        "WARNING:GHMM:forward returned -1: Sequence 8 cannot be build.\n"
       ]
      },
      {
       "output_type": "stream",
       "stream": "stderr",
       "text": [
        "GHMM ghmm.py:3746 - forward returned -1: Sequence 10 cannot be build.\n"
       ]
      },
      {
       "output_type": "stream",
       "stream": "stderr",
       "text": [
        "WARNING:GHMM:forward returned -1: Sequence 10 cannot be build.\n"
       ]
      },
      {
       "output_type": "stream",
       "stream": "stderr",
       "text": [
        "GHMM ghmm.py:3746 - forward returned -1: Sequence 1 cannot be build.\n"
       ]
      },
      {
       "output_type": "stream",
       "stream": "stderr",
       "text": [
        "WARNING:GHMM:forward returned -1: Sequence 1 cannot be build.\n"
       ]
      },
      {
       "output_type": "stream",
       "stream": "stderr",
       "text": [
        "GHMM ghmm.py:3746 - forward returned -1: Sequence 2 cannot be build.\n"
       ]
      },
      {
       "output_type": "stream",
       "stream": "stderr",
       "text": [
        "WARNING:GHMM:forward returned -1: Sequence 2 cannot be build.\n"
       ]
      },
      {
       "output_type": "stream",
       "stream": "stderr",
       "text": [
        "GHMM ghmm.py:3746 - forward returned -1: Sequence 3 cannot be build.\n"
       ]
      },
      {
       "output_type": "stream",
       "stream": "stderr",
       "text": [
        "WARNING:GHMM:forward returned -1: Sequence 3 cannot be build.\n"
       ]
      },
      {
       "output_type": "stream",
       "stream": "stderr",
       "text": [
        "GHMM ghmm.py:3746 - forward returned -1: Sequence 5 cannot be build.\n"
       ]
      },
      {
       "output_type": "stream",
       "stream": "stderr",
       "text": [
        "WARNING:GHMM:forward returned -1: Sequence 5 cannot be build.\n"
       ]
      },
      {
       "output_type": "stream",
       "stream": "stderr",
       "text": [
        "GHMM ghmm.py:3746 - forward returned -1: Sequence 8 cannot be build.\n"
       ]
      },
      {
       "output_type": "stream",
       "stream": "stderr",
       "text": [
        "WARNING:GHMM:forward returned -1: Sequence 8 cannot be build.\n"
       ]
      },
      {
       "output_type": "stream",
       "stream": "stderr",
       "text": [
        "GHMM ghmm.py:3746 - forward returned -1: Sequence 10 cannot be build.\n"
       ]
      },
      {
       "output_type": "stream",
       "stream": "stderr",
       "text": [
        "WARNING:GHMM:forward returned -1: Sequence 10 cannot be build.\n"
       ]
      },
      {
       "output_type": "stream",
       "stream": "stderr",
       "text": [
        "GHMM ghmm.py:3746 - forward returned -1: Sequence 1 cannot be build.\n"
       ]
      },
      {
       "output_type": "stream",
       "stream": "stderr",
       "text": [
        "WARNING:GHMM:forward returned -1: Sequence 1 cannot be build.\n"
       ]
      },
      {
       "output_type": "stream",
       "stream": "stderr",
       "text": [
        "GHMM ghmm.py:3746 - forward returned -1: Sequence 2 cannot be build.\n"
       ]
      },
      {
       "output_type": "stream",
       "stream": "stderr",
       "text": [
        "WARNING:GHMM:forward returned -1: Sequence 2 cannot be build.\n"
       ]
      },
      {
       "output_type": "stream",
       "stream": "stderr",
       "text": [
        "GHMM ghmm.py:3746 - forward returned -1: Sequence 3 cannot be build.\n"
       ]
      },
      {
       "output_type": "stream",
       "stream": "stderr",
       "text": [
        "WARNING:GHMM:forward returned -1: Sequence 3 cannot be build.\n"
       ]
      },
      {
       "output_type": "stream",
       "stream": "stderr",
       "text": [
        "GHMM ghmm.py:3746 - forward returned -1: Sequence 5 cannot be build.\n"
       ]
      },
      {
       "output_type": "stream",
       "stream": "stderr",
       "text": [
        "WARNING:GHMM:forward returned -1: Sequence 5 cannot be build.\n"
       ]
      },
      {
       "output_type": "stream",
       "stream": "stderr",
       "text": [
        "GHMM ghmm.py:3746 - forward returned -1: Sequence 8 cannot be build.\n"
       ]
      },
      {
       "output_type": "stream",
       "stream": "stderr",
       "text": [
        "WARNING:GHMM:forward returned -1: Sequence 8 cannot be build.\n"
       ]
      },
      {
       "output_type": "stream",
       "stream": "stderr",
       "text": [
        "GHMM ghmm.py:3746 - forward returned -1: Sequence 10 cannot be build.\n"
       ]
      },
      {
       "output_type": "stream",
       "stream": "stderr",
       "text": [
        "WARNING:GHMM:forward returned -1: Sequence 10 cannot be build.\n"
       ]
      },
      {
       "output_type": "stream",
       "stream": "stderr",
       "text": [
        "GHMM ghmm.py:3746 - forward returned -1: Sequence 1 cannot be build.\n"
       ]
      },
      {
       "output_type": "stream",
       "stream": "stderr",
       "text": [
        "WARNING:GHMM:forward returned -1: Sequence 1 cannot be build.\n"
       ]
      },
      {
       "output_type": "stream",
       "stream": "stderr",
       "text": [
        "GHMM ghmm.py:3746 - forward returned -1: Sequence 2 cannot be build.\n"
       ]
      },
      {
       "output_type": "stream",
       "stream": "stderr",
       "text": [
        "WARNING:GHMM:forward returned -1: Sequence 2 cannot be build.\n"
       ]
      },
      {
       "output_type": "stream",
       "stream": "stderr",
       "text": [
        "GHMM ghmm.py:3746 - forward returned -1: Sequence 3 cannot be build.\n"
       ]
      },
      {
       "output_type": "stream",
       "stream": "stderr",
       "text": [
        "WARNING:GHMM:forward returned -1: Sequence 3 cannot be build.\n"
       ]
      },
      {
       "output_type": "stream",
       "stream": "stderr",
       "text": [
        "GHMM ghmm.py:3746 - forward returned -1: Sequence 5 cannot be build.\n"
       ]
      },
      {
       "output_type": "stream",
       "stream": "stderr",
       "text": [
        "WARNING:GHMM:forward returned -1: Sequence 5 cannot be build.\n"
       ]
      },
      {
       "output_type": "stream",
       "stream": "stderr",
       "text": [
        "GHMM ghmm.py:3746 - forward returned -1: Sequence 8 cannot be build.\n"
       ]
      },
      {
       "output_type": "stream",
       "stream": "stderr",
       "text": [
        "WARNING:GHMM:forward returned -1: Sequence 8 cannot be build.\n"
       ]
      },
      {
       "output_type": "stream",
       "stream": "stderr",
       "text": [
        "GHMM ghmm.py:3746 - forward returned -1: Sequence 10 cannot be build.\n"
       ]
      },
      {
       "output_type": "stream",
       "stream": "stderr",
       "text": [
        "WARNING:GHMM:forward returned -1: Sequence 10 cannot be build.\n"
       ]
      },
      {
       "output_type": "stream",
       "stream": "stderr",
       "text": [
        "GHMM ghmm.py:3746 - forward returned -1: Sequence 1 cannot be build.\n"
       ]
      },
      {
       "output_type": "stream",
       "stream": "stderr",
       "text": [
        "WARNING:GHMM:forward returned -1: Sequence 1 cannot be build.\n"
       ]
      },
      {
       "output_type": "stream",
       "stream": "stderr",
       "text": [
        "GHMM ghmm.py:3746 - forward returned -1: Sequence 2 cannot be build.\n"
       ]
      },
      {
       "output_type": "stream",
       "stream": "stderr",
       "text": [
        "WARNING:GHMM:forward returned -1: Sequence 2 cannot be build.\n"
       ]
      },
      {
       "output_type": "stream",
       "stream": "stderr",
       "text": [
        "GHMM ghmm.py:3746 - forward returned -1: Sequence 3 cannot be build.\n"
       ]
      },
      {
       "output_type": "stream",
       "stream": "stderr",
       "text": [
        "WARNING:GHMM:forward returned -1: Sequence 3 cannot be build.\n"
       ]
      },
      {
       "output_type": "stream",
       "stream": "stderr",
       "text": [
        "GHMM ghmm.py:3746 - forward returned -1: Sequence 5 cannot be build.\n"
       ]
      },
      {
       "output_type": "stream",
       "stream": "stderr",
       "text": [
        "WARNING:GHMM:forward returned -1: Sequence 5 cannot be build.\n"
       ]
      },
      {
       "output_type": "stream",
       "stream": "stderr",
       "text": [
        "GHMM ghmm.py:3746 - forward returned -1: Sequence 8 cannot be build.\n"
       ]
      },
      {
       "output_type": "stream",
       "stream": "stderr",
       "text": [
        "WARNING:GHMM:forward returned -1: Sequence 8 cannot be build.\n"
       ]
      },
      {
       "output_type": "stream",
       "stream": "stderr",
       "text": [
        "GHMM ghmm.py:3746 - forward returned -1: Sequence 10 cannot be build.\n"
       ]
      },
      {
       "output_type": "stream",
       "stream": "stderr",
       "text": [
        "WARNING:GHMM:forward returned -1: Sequence 10 cannot be build.\n"
       ]
      },
      {
       "output_type": "stream",
       "stream": "stderr",
       "text": [
        "GHMM ghmm.py:3746 - forward returned -1: Sequence 0 cannot be build.\n"
       ]
      },
      {
       "output_type": "stream",
       "stream": "stderr",
       "text": [
        "WARNING:GHMM:forward returned -1: Sequence 0 cannot be build.\n"
       ]
      },
      {
       "output_type": "stream",
       "stream": "stderr",
       "text": [
        "GHMM ghmm.py:3746 - forward returned -1: Sequence 1 cannot be build.\n"
       ]
      },
      {
       "output_type": "stream",
       "stream": "stderr",
       "text": [
        "WARNING:GHMM:forward returned -1: Sequence 1 cannot be build.\n"
       ]
      },
      {
       "output_type": "stream",
       "stream": "stderr",
       "text": [
        "GHMM ghmm.py:3746 - forward returned -1: Sequence 2 cannot be build.\n"
       ]
      },
      {
       "output_type": "stream",
       "stream": "stderr",
       "text": [
        "WARNING:GHMM:forward returned -1: Sequence 2 cannot be build.\n"
       ]
      },
      {
       "output_type": "stream",
       "stream": "stderr",
       "text": [
        "GHMM ghmm.py:3746 - forward returned -1: Sequence 3 cannot be build.\n"
       ]
      },
      {
       "output_type": "stream",
       "stream": "stderr",
       "text": [
        "WARNING:GHMM:forward returned -1: Sequence 3 cannot be build.\n"
       ]
      },
      {
       "output_type": "stream",
       "stream": "stderr",
       "text": [
        "GHMM ghmm.py:3746 - forward returned -1: Sequence 4 cannot be build.\n"
       ]
      },
      {
       "output_type": "stream",
       "stream": "stderr",
       "text": [
        "WARNING:GHMM:forward returned -1: Sequence 4 cannot be build.\n"
       ]
      },
      {
       "output_type": "stream",
       "stream": "stderr",
       "text": [
        "GHMM ghmm.py:3746 - forward returned -1: Sequence 5 cannot be build.\n"
       ]
      },
      {
       "output_type": "stream",
       "stream": "stderr",
       "text": [
        "WARNING:GHMM:forward returned -1: Sequence 5 cannot be build.\n"
       ]
      },
      {
       "output_type": "stream",
       "stream": "stderr",
       "text": [
        "GHMM ghmm.py:3746 - forward returned -1: Sequence 6 cannot be build.\n"
       ]
      },
      {
       "output_type": "stream",
       "stream": "stderr",
       "text": [
        "WARNING:GHMM:forward returned -1: Sequence 6 cannot be build.\n"
       ]
      },
      {
       "output_type": "stream",
       "stream": "stderr",
       "text": [
        "GHMM ghmm.py:3746 - forward returned -1: Sequence 7 cannot be build.\n"
       ]
      },
      {
       "output_type": "stream",
       "stream": "stderr",
       "text": [
        "WARNING:GHMM:forward returned -1: Sequence 7 cannot be build.\n"
       ]
      },
      {
       "output_type": "stream",
       "stream": "stderr",
       "text": [
        "GHMM ghmm.py:3746 - forward returned -1: Sequence 8 cannot be build.\n"
       ]
      },
      {
       "output_type": "stream",
       "stream": "stderr",
       "text": [
        "WARNING:GHMM:forward returned -1: Sequence 8 cannot be build.\n"
       ]
      },
      {
       "output_type": "stream",
       "stream": "stderr",
       "text": [
        "GHMM ghmm.py:3746 - forward returned -1: Sequence 9 cannot be build.\n"
       ]
      },
      {
       "output_type": "stream",
       "stream": "stderr",
       "text": [
        "WARNING:GHMM:forward returned -1: Sequence 9 cannot be build.\n"
       ]
      },
      {
       "output_type": "stream",
       "stream": "stderr",
       "text": [
        "GHMM ghmm.py:3746 - forward returned -1: Sequence 10 cannot be build.\n"
       ]
      },
      {
       "output_type": "stream",
       "stream": "stderr",
       "text": [
        "WARNING:GHMM:forward returned -1: Sequence 10 cannot be build.\n"
       ]
      },
      {
       "output_type": "stream",
       "stream": "stderr",
       "text": [
        "GHMM ghmm.py:3746 - forward returned -1: Sequence 11 cannot be build.\n"
       ]
      },
      {
       "output_type": "stream",
       "stream": "stderr",
       "text": [
        "WARNING:GHMM:forward returned -1: Sequence 11 cannot be build.\n"
       ]
      },
      {
       "output_type": "stream",
       "stream": "stderr",
       "text": [
        "GHMM ghmm.py:3746 - forward returned -1: Sequence 0 cannot be build.\n"
       ]
      },
      {
       "output_type": "stream",
       "stream": "stderr",
       "text": [
        "WARNING:GHMM:forward returned -1: Sequence 0 cannot be build.\n"
       ]
      },
      {
       "output_type": "stream",
       "stream": "stderr",
       "text": [
        "GHMM ghmm.py:3746 - forward returned -1: Sequence 1 cannot be build.\n"
       ]
      },
      {
       "output_type": "stream",
       "stream": "stderr",
       "text": [
        "WARNING:GHMM:forward returned -1: Sequence 1 cannot be build.\n"
       ]
      },
      {
       "output_type": "stream",
       "stream": "stderr",
       "text": [
        "GHMM ghmm.py:3746 - forward returned -1: Sequence 2 cannot be build.\n"
       ]
      },
      {
       "output_type": "stream",
       "stream": "stderr",
       "text": [
        "WARNING:GHMM:forward returned -1: Sequence 2 cannot be build.\n"
       ]
      },
      {
       "output_type": "stream",
       "stream": "stderr",
       "text": [
        "GHMM ghmm.py:3746 - forward returned -1: Sequence 3 cannot be build.\n"
       ]
      },
      {
       "output_type": "stream",
       "stream": "stderr",
       "text": [
        "WARNING:GHMM:forward returned -1: Sequence 3 cannot be build.\n"
       ]
      },
      {
       "output_type": "stream",
       "stream": "stderr",
       "text": [
        "GHMM ghmm.py:3746 - forward returned -1: Sequence 4 cannot be build.\n"
       ]
      },
      {
       "output_type": "stream",
       "stream": "stderr",
       "text": [
        "WARNING:GHMM:forward returned -1: Sequence 4 cannot be build.\n"
       ]
      },
      {
       "output_type": "stream",
       "stream": "stderr",
       "text": [
        "GHMM ghmm.py:3746 - forward returned -1: Sequence 5 cannot be build.\n"
       ]
      },
      {
       "output_type": "stream",
       "stream": "stderr",
       "text": [
        "WARNING:GHMM:forward returned -1: Sequence 5 cannot be build.\n"
       ]
      },
      {
       "output_type": "stream",
       "stream": "stderr",
       "text": [
        "GHMM ghmm.py:3746 - forward returned -1: Sequence 6 cannot be build.\n"
       ]
      },
      {
       "output_type": "stream",
       "stream": "stderr",
       "text": [
        "WARNING:GHMM:forward returned -1: Sequence 6 cannot be build.\n"
       ]
      },
      {
       "output_type": "stream",
       "stream": "stderr",
       "text": [
        "GHMM ghmm.py:3746 - forward returned -1: Sequence 7 cannot be build.\n"
       ]
      },
      {
       "output_type": "stream",
       "stream": "stderr",
       "text": [
        "WARNING:GHMM:forward returned -1: Sequence 7 cannot be build.\n"
       ]
      },
      {
       "output_type": "stream",
       "stream": "stderr",
       "text": [
        "GHMM ghmm.py:3746 - forward returned -1: Sequence 8 cannot be build.\n"
       ]
      },
      {
       "output_type": "stream",
       "stream": "stderr",
       "text": [
        "WARNING:GHMM:forward returned -1: Sequence 8 cannot be build.\n"
       ]
      },
      {
       "output_type": "stream",
       "stream": "stderr",
       "text": [
        "GHMM ghmm.py:3746 - forward returned -1: Sequence 9 cannot be build.\n"
       ]
      },
      {
       "output_type": "stream",
       "stream": "stderr",
       "text": [
        "WARNING:GHMM:forward returned -1: Sequence 9 cannot be build.\n"
       ]
      },
      {
       "output_type": "stream",
       "stream": "stderr",
       "text": [
        "GHMM ghmm.py:3746 - forward returned -1: Sequence 10 cannot be build.\n"
       ]
      },
      {
       "output_type": "stream",
       "stream": "stderr",
       "text": [
        "WARNING:GHMM:forward returned -1: Sequence 10 cannot be build.\n"
       ]
      },
      {
       "output_type": "stream",
       "stream": "stderr",
       "text": [
        "GHMM ghmm.py:3746 - forward returned -1: Sequence 11 cannot be build.\n"
       ]
      },
      {
       "output_type": "stream",
       "stream": "stderr",
       "text": [
        "WARNING:GHMM:forward returned -1: Sequence 11 cannot be build.\n"
       ]
      },
      {
       "output_type": "stream",
       "stream": "stderr",
       "text": [
        "GHMM ghmm.py:3746 - forward returned -1: Sequence 0 cannot be build.\n"
       ]
      },
      {
       "output_type": "stream",
       "stream": "stderr",
       "text": [
        "WARNING:GHMM:forward returned -1: Sequence 0 cannot be build.\n"
       ]
      },
      {
       "output_type": "stream",
       "stream": "stderr",
       "text": [
        "GHMM ghmm.py:3746 - forward returned -1: Sequence 1 cannot be build.\n"
       ]
      },
      {
       "output_type": "stream",
       "stream": "stderr",
       "text": [
        "WARNING:GHMM:forward returned -1: Sequence 1 cannot be build.\n"
       ]
      },
      {
       "output_type": "stream",
       "stream": "stderr",
       "text": [
        "GHMM ghmm.py:3746 - forward returned -1: Sequence 2 cannot be build.\n"
       ]
      },
      {
       "output_type": "stream",
       "stream": "stderr",
       "text": [
        "WARNING:GHMM:forward returned -1: Sequence 2 cannot be build.\n"
       ]
      },
      {
       "output_type": "stream",
       "stream": "stderr",
       "text": [
        "GHMM ghmm.py:3746 - forward returned -1: Sequence 3 cannot be build.\n"
       ]
      },
      {
       "output_type": "stream",
       "stream": "stderr",
       "text": [
        "WARNING:GHMM:forward returned -1: Sequence 3 cannot be build.\n"
       ]
      },
      {
       "output_type": "stream",
       "stream": "stderr",
       "text": [
        "GHMM ghmm.py:3746 - forward returned -1: Sequence 4 cannot be build.\n"
       ]
      },
      {
       "output_type": "stream",
       "stream": "stderr",
       "text": [
        "WARNING:GHMM:forward returned -1: Sequence 4 cannot be build.\n"
       ]
      },
      {
       "output_type": "stream",
       "stream": "stderr",
       "text": [
        "GHMM ghmm.py:3746 - forward returned -1: Sequence 5 cannot be build.\n"
       ]
      },
      {
       "output_type": "stream",
       "stream": "stderr",
       "text": [
        "WARNING:GHMM:forward returned -1: Sequence 5 cannot be build.\n"
       ]
      },
      {
       "output_type": "stream",
       "stream": "stderr",
       "text": [
        "GHMM ghmm.py:3746 - forward returned -1: Sequence 6 cannot be build.\n"
       ]
      },
      {
       "output_type": "stream",
       "stream": "stderr",
       "text": [
        "WARNING:GHMM:forward returned -1: Sequence 6 cannot be build.\n"
       ]
      },
      {
       "output_type": "stream",
       "stream": "stderr",
       "text": [
        "GHMM ghmm.py:3746 - forward returned -1: Sequence 7 cannot be build.\n"
       ]
      },
      {
       "output_type": "stream",
       "stream": "stderr",
       "text": [
        "WARNING:GHMM:forward returned -1: Sequence 7 cannot be build.\n"
       ]
      },
      {
       "output_type": "stream",
       "stream": "stderr",
       "text": [
        "GHMM ghmm.py:3746 - forward returned -1: Sequence 8 cannot be build.\n"
       ]
      },
      {
       "output_type": "stream",
       "stream": "stderr",
       "text": [
        "WARNING:GHMM:forward returned -1: Sequence 8 cannot be build.\n"
       ]
      },
      {
       "output_type": "stream",
       "stream": "stderr",
       "text": [
        "GHMM ghmm.py:3746 - forward returned -1: Sequence 9 cannot be build.\n"
       ]
      },
      {
       "output_type": "stream",
       "stream": "stderr",
       "text": [
        "WARNING:GHMM:forward returned -1: Sequence 9 cannot be build.\n"
       ]
      },
      {
       "output_type": "stream",
       "stream": "stderr",
       "text": [
        "GHMM ghmm.py:3746 - forward returned -1: Sequence 10 cannot be build.\n"
       ]
      },
      {
       "output_type": "stream",
       "stream": "stderr",
       "text": [
        "WARNING:GHMM:forward returned -1: Sequence 10 cannot be build.\n"
       ]
      },
      {
       "output_type": "stream",
       "stream": "stderr",
       "text": [
        "GHMM ghmm.py:3746 - forward returned -1: Sequence 11 cannot be build.\n"
       ]
      },
      {
       "output_type": "stream",
       "stream": "stderr",
       "text": [
        "WARNING:GHMM:forward returned -1: Sequence 11 cannot be build.\n"
       ]
      },
      {
       "output_type": "stream",
       "stream": "stderr",
       "text": [
        "GHMM ghmm.py:3746 - forward returned -1: Sequence 1 cannot be build.\n"
       ]
      },
      {
       "output_type": "stream",
       "stream": "stderr",
       "text": [
        "WARNING:GHMM:forward returned -1: Sequence 1 cannot be build.\n"
       ]
      },
      {
       "output_type": "stream",
       "stream": "stderr",
       "text": [
        "GHMM ghmm.py:3746 - forward returned -1: Sequence 2 cannot be build.\n"
       ]
      },
      {
       "output_type": "stream",
       "stream": "stderr",
       "text": [
        "WARNING:GHMM:forward returned -1: Sequence 2 cannot be build.\n"
       ]
      },
      {
       "output_type": "stream",
       "stream": "stderr",
       "text": [
        "GHMM ghmm.py:3746 - forward returned -1: Sequence 3 cannot be build.\n"
       ]
      },
      {
       "output_type": "stream",
       "stream": "stderr",
       "text": [
        "WARNING:GHMM:forward returned -1: Sequence 3 cannot be build.\n"
       ]
      },
      {
       "output_type": "stream",
       "stream": "stderr",
       "text": [
        "GHMM ghmm.py:3746 - forward returned -1: Sequence 5 cannot be build.\n"
       ]
      },
      {
       "output_type": "stream",
       "stream": "stderr",
       "text": [
        "WARNING:GHMM:forward returned -1: Sequence 5 cannot be build.\n"
       ]
      },
      {
       "output_type": "stream",
       "stream": "stderr",
       "text": [
        "GHMM ghmm.py:3746 - forward returned -1: Sequence 8 cannot be build.\n"
       ]
      },
      {
       "output_type": "stream",
       "stream": "stderr",
       "text": [
        "WARNING:GHMM:forward returned -1: Sequence 8 cannot be build.\n"
       ]
      },
      {
       "output_type": "stream",
       "stream": "stderr",
       "text": [
        "GHMM ghmm.py:3746 - forward returned -1: Sequence 10 cannot be build.\n"
       ]
      },
      {
       "output_type": "stream",
       "stream": "stderr",
       "text": [
        "WARNING:GHMM:forward returned -1: Sequence 10 cannot be build.\n"
       ]
      },
      {
       "output_type": "stream",
       "stream": "stderr",
       "text": [
        "GHMM ghmm.py:3746 - forward returned -1: Sequence 1 cannot be build.\n"
       ]
      },
      {
       "output_type": "stream",
       "stream": "stderr",
       "text": [
        "WARNING:GHMM:forward returned -1: Sequence 1 cannot be build.\n"
       ]
      },
      {
       "output_type": "stream",
       "stream": "stderr",
       "text": [
        "GHMM ghmm.py:3746 - forward returned -1: Sequence 2 cannot be build.\n"
       ]
      },
      {
       "output_type": "stream",
       "stream": "stderr",
       "text": [
        "WARNING:GHMM:forward returned -1: Sequence 2 cannot be build.\n"
       ]
      },
      {
       "output_type": "stream",
       "stream": "stderr",
       "text": [
        "GHMM ghmm.py:3746 - forward returned -1: Sequence 3 cannot be build.\n"
       ]
      },
      {
       "output_type": "stream",
       "stream": "stderr",
       "text": [
        "WARNING:GHMM:forward returned -1: Sequence 3 cannot be build.\n"
       ]
      },
      {
       "output_type": "stream",
       "stream": "stderr",
       "text": [
        "GHMM ghmm.py:3746 - forward returned -1: Sequence 5 cannot be build.\n"
       ]
      },
      {
       "output_type": "stream",
       "stream": "stderr",
       "text": [
        "WARNING:GHMM:forward returned -1: Sequence 5 cannot be build.\n"
       ]
      },
      {
       "output_type": "stream",
       "stream": "stderr",
       "text": [
        "GHMM ghmm.py:3746 - forward returned -1: Sequence 8 cannot be build.\n"
       ]
      },
      {
       "output_type": "stream",
       "stream": "stderr",
       "text": [
        "WARNING:GHMM:forward returned -1: Sequence 8 cannot be build.\n"
       ]
      },
      {
       "output_type": "stream",
       "stream": "stderr",
       "text": [
        "GHMM ghmm.py:3746 - forward returned -1: Sequence 10 cannot be build.\n"
       ]
      },
      {
       "output_type": "stream",
       "stream": "stderr",
       "text": [
        "WARNING:GHMM:forward returned -1: Sequence 10 cannot be build.\n"
       ]
      },
      {
       "output_type": "stream",
       "stream": "stderr",
       "text": [
        "GHMM ghmm.py:3746 - forward returned -1: Sequence 1 cannot be build.\n"
       ]
      },
      {
       "output_type": "stream",
       "stream": "stderr",
       "text": [
        "WARNING:GHMM:forward returned -1: Sequence 1 cannot be build.\n"
       ]
      },
      {
       "output_type": "stream",
       "stream": "stderr",
       "text": [
        "GHMM ghmm.py:3746 - forward returned -1: Sequence 2 cannot be build.\n"
       ]
      },
      {
       "output_type": "stream",
       "stream": "stderr",
       "text": [
        "WARNING:GHMM:forward returned -1: Sequence 2 cannot be build.\n"
       ]
      },
      {
       "output_type": "stream",
       "stream": "stderr",
       "text": [
        "GHMM ghmm.py:3746 - forward returned -1: Sequence 3 cannot be build.\n"
       ]
      },
      {
       "output_type": "stream",
       "stream": "stderr",
       "text": [
        "WARNING:GHMM:forward returned -1: Sequence 3 cannot be build.\n"
       ]
      },
      {
       "output_type": "stream",
       "stream": "stderr",
       "text": [
        "GHMM ghmm.py:3746 - forward returned -1: Sequence 5 cannot be build.\n"
       ]
      },
      {
       "output_type": "stream",
       "stream": "stderr",
       "text": [
        "WARNING:GHMM:forward returned -1: Sequence 5 cannot be build.\n"
       ]
      },
      {
       "output_type": "stream",
       "stream": "stderr",
       "text": [
        "GHMM ghmm.py:3746 - forward returned -1: Sequence 8 cannot be build.\n"
       ]
      },
      {
       "output_type": "stream",
       "stream": "stderr",
       "text": [
        "WARNING:GHMM:forward returned -1: Sequence 8 cannot be build.\n"
       ]
      },
      {
       "output_type": "stream",
       "stream": "stderr",
       "text": [
        "GHMM ghmm.py:3746 - forward returned -1: Sequence 10 cannot be build.\n"
       ]
      },
      {
       "output_type": "stream",
       "stream": "stderr",
       "text": [
        "WARNING:GHMM:forward returned -1: Sequence 10 cannot be build.\n"
       ]
      },
      {
       "output_type": "stream",
       "stream": "stderr",
       "text": [
        "GHMM ghmm.py:3746 - forward returned -1: Sequence 0 cannot be build.\n"
       ]
      },
      {
       "output_type": "stream",
       "stream": "stderr",
       "text": [
        "WARNING:GHMM:forward returned -1: Sequence 0 cannot be build.\n"
       ]
      },
      {
       "output_type": "stream",
       "stream": "stderr",
       "text": [
        "GHMM ghmm.py:3746 - forward returned -1: Sequence 1 cannot be build.\n"
       ]
      },
      {
       "output_type": "stream",
       "stream": "stderr",
       "text": [
        "WARNING:GHMM:forward returned -1: Sequence 1 cannot be build.\n"
       ]
      },
      {
       "output_type": "stream",
       "stream": "stderr",
       "text": [
        "GHMM ghmm.py:3746 - forward returned -1: Sequence 2 cannot be build.\n"
       ]
      },
      {
       "output_type": "stream",
       "stream": "stderr",
       "text": [
        "WARNING:GHMM:forward returned -1: Sequence 2 cannot be build.\n"
       ]
      },
      {
       "output_type": "stream",
       "stream": "stderr",
       "text": [
        "GHMM ghmm.py:3746 - forward returned -1: Sequence 3 cannot be build.\n"
       ]
      },
      {
       "output_type": "stream",
       "stream": "stderr",
       "text": [
        "WARNING:GHMM:forward returned -1: Sequence 3 cannot be build.\n"
       ]
      },
      {
       "output_type": "stream",
       "stream": "stderr",
       "text": [
        "GHMM ghmm.py:3746 - forward returned -1: Sequence 4 cannot be build.\n"
       ]
      },
      {
       "output_type": "stream",
       "stream": "stderr",
       "text": [
        "WARNING:GHMM:forward returned -1: Sequence 4 cannot be build.\n"
       ]
      },
      {
       "output_type": "stream",
       "stream": "stderr",
       "text": [
        "GHMM ghmm.py:3746 - forward returned -1: Sequence 5 cannot be build.\n"
       ]
      },
      {
       "output_type": "stream",
       "stream": "stderr",
       "text": [
        "WARNING:GHMM:forward returned -1: Sequence 5 cannot be build.\n"
       ]
      },
      {
       "output_type": "stream",
       "stream": "stderr",
       "text": [
        "GHMM ghmm.py:3746 - forward returned -1: Sequence 6 cannot be build.\n"
       ]
      },
      {
       "output_type": "stream",
       "stream": "stderr",
       "text": [
        "WARNING:GHMM:forward returned -1: Sequence 6 cannot be build.\n"
       ]
      },
      {
       "output_type": "stream",
       "stream": "stderr",
       "text": [
        "GHMM ghmm.py:3746 - forward returned -1: Sequence 7 cannot be build.\n"
       ]
      },
      {
       "output_type": "stream",
       "stream": "stderr",
       "text": [
        "WARNING:GHMM:forward returned -1: Sequence 7 cannot be build.\n"
       ]
      },
      {
       "output_type": "stream",
       "stream": "stderr",
       "text": [
        "GHMM ghmm.py:3746 - forward returned -1: Sequence 8 cannot be build.\n"
       ]
      },
      {
       "output_type": "stream",
       "stream": "stderr",
       "text": [
        "WARNING:GHMM:forward returned -1: Sequence 8 cannot be build.\n"
       ]
      },
      {
       "output_type": "stream",
       "stream": "stderr",
       "text": [
        "GHMM ghmm.py:3746 - forward returned -1: Sequence 9 cannot be build.\n"
       ]
      },
      {
       "output_type": "stream",
       "stream": "stderr",
       "text": [
        "WARNING:GHMM:forward returned -1: Sequence 9 cannot be build.\n"
       ]
      },
      {
       "output_type": "stream",
       "stream": "stderr",
       "text": [
        "GHMM ghmm.py:3746 - forward returned -1: Sequence 10 cannot be build.\n"
       ]
      },
      {
       "output_type": "stream",
       "stream": "stderr",
       "text": [
        "WARNING:GHMM:forward returned -1: Sequence 10 cannot be build.\n"
       ]
      },
      {
       "output_type": "stream",
       "stream": "stderr",
       "text": [
        "GHMM ghmm.py:3746 - forward returned -1: Sequence 11 cannot be build.\n"
       ]
      },
      {
       "output_type": "stream",
       "stream": "stderr",
       "text": [
        "WARNING:GHMM:forward returned -1: Sequence 11 cannot be build.\n"
       ]
      },
      {
       "output_type": "stream",
       "stream": "stderr",
       "text": [
        "GHMM ghmm.py:3746 - forward returned -1: Sequence 0 cannot be build.\n"
       ]
      },
      {
       "output_type": "stream",
       "stream": "stderr",
       "text": [
        "WARNING:GHMM:forward returned -1: Sequence 0 cannot be build.\n"
       ]
      },
      {
       "output_type": "stream",
       "stream": "stderr",
       "text": [
        "GHMM ghmm.py:3746 - forward returned -1: Sequence 1 cannot be build.\n"
       ]
      },
      {
       "output_type": "stream",
       "stream": "stderr",
       "text": [
        "WARNING:GHMM:forward returned -1: Sequence 1 cannot be build.\n"
       ]
      },
      {
       "output_type": "stream",
       "stream": "stderr",
       "text": [
        "GHMM ghmm.py:3746 - forward returned -1: Sequence 2 cannot be build.\n"
       ]
      },
      {
       "output_type": "stream",
       "stream": "stderr",
       "text": [
        "WARNING:GHMM:forward returned -1: Sequence 2 cannot be build.\n"
       ]
      },
      {
       "output_type": "stream",
       "stream": "stderr",
       "text": [
        "GHMM ghmm.py:3746 - forward returned -1: Sequence 3 cannot be build.\n"
       ]
      },
      {
       "output_type": "stream",
       "stream": "stderr",
       "text": [
        "WARNING:GHMM:forward returned -1: Sequence 3 cannot be build.\n"
       ]
      },
      {
       "output_type": "stream",
       "stream": "stderr",
       "text": [
        "GHMM ghmm.py:3746 - forward returned -1: Sequence 4 cannot be build.\n"
       ]
      },
      {
       "output_type": "stream",
       "stream": "stderr",
       "text": [
        "WARNING:GHMM:forward returned -1: Sequence 4 cannot be build.\n"
       ]
      },
      {
       "output_type": "stream",
       "stream": "stderr",
       "text": [
        "GHMM ghmm.py:3746 - forward returned -1: Sequence 5 cannot be build.\n"
       ]
      },
      {
       "output_type": "stream",
       "stream": "stderr",
       "text": [
        "WARNING:GHMM:forward returned -1: Sequence 5 cannot be build.\n"
       ]
      },
      {
       "output_type": "stream",
       "stream": "stderr",
       "text": [
        "GHMM ghmm.py:3746 - forward returned -1: Sequence 6 cannot be build.\n"
       ]
      },
      {
       "output_type": "stream",
       "stream": "stderr",
       "text": [
        "WARNING:GHMM:forward returned -1: Sequence 6 cannot be build.\n"
       ]
      },
      {
       "output_type": "stream",
       "stream": "stderr",
       "text": [
        "GHMM ghmm.py:3746 - forward returned -1: Sequence 7 cannot be build.\n"
       ]
      },
      {
       "output_type": "stream",
       "stream": "stderr",
       "text": [
        "WARNING:GHMM:forward returned -1: Sequence 7 cannot be build.\n"
       ]
      },
      {
       "output_type": "stream",
       "stream": "stderr",
       "text": [
        "GHMM ghmm.py:3746 - forward returned -1: Sequence 8 cannot be build.\n"
       ]
      },
      {
       "output_type": "stream",
       "stream": "stderr",
       "text": [
        "WARNING:GHMM:forward returned -1: Sequence 8 cannot be build.\n"
       ]
      },
      {
       "output_type": "stream",
       "stream": "stderr",
       "text": [
        "GHMM ghmm.py:3746 - forward returned -1: Sequence 9 cannot be build.\n"
       ]
      },
      {
       "output_type": "stream",
       "stream": "stderr",
       "text": [
        "WARNING:GHMM:forward returned -1: Sequence 9 cannot be build.\n"
       ]
      },
      {
       "output_type": "stream",
       "stream": "stderr",
       "text": [
        "GHMM ghmm.py:3746 - forward returned -1: Sequence 10 cannot be build.\n"
       ]
      },
      {
       "output_type": "stream",
       "stream": "stderr",
       "text": [
        "WARNING:GHMM:forward returned -1: Sequence 10 cannot be build.\n"
       ]
      },
      {
       "output_type": "stream",
       "stream": "stderr",
       "text": [
        "GHMM ghmm.py:3746 - forward returned -1: Sequence 11 cannot be build.\n"
       ]
      },
      {
       "output_type": "stream",
       "stream": "stderr",
       "text": [
        "WARNING:GHMM:forward returned -1: Sequence 11 cannot be build.\n"
       ]
      },
      {
       "output_type": "stream",
       "stream": "stderr",
       "text": [
        "GHMM ghmm.py:3746 - forward returned -1: Sequence 0 cannot be build.\n"
       ]
      },
      {
       "output_type": "stream",
       "stream": "stderr",
       "text": [
        "WARNING:GHMM:forward returned -1: Sequence 0 cannot be build.\n"
       ]
      },
      {
       "output_type": "stream",
       "stream": "stderr",
       "text": [
        "GHMM ghmm.py:3746 - forward returned -1: Sequence 1 cannot be build.\n"
       ]
      },
      {
       "output_type": "stream",
       "stream": "stderr",
       "text": [
        "WARNING:GHMM:forward returned -1: Sequence 1 cannot be build.\n"
       ]
      },
      {
       "output_type": "stream",
       "stream": "stderr",
       "text": [
        "GHMM ghmm.py:3746 - forward returned -1: Sequence 2 cannot be build.\n"
       ]
      },
      {
       "output_type": "stream",
       "stream": "stderr",
       "text": [
        "WARNING:GHMM:forward returned -1: Sequence 2 cannot be build.\n"
       ]
      },
      {
       "output_type": "stream",
       "stream": "stderr",
       "text": [
        "GHMM ghmm.py:3746 - forward returned -1: Sequence 3 cannot be build.\n"
       ]
      },
      {
       "output_type": "stream",
       "stream": "stderr",
       "text": [
        "WARNING:GHMM:forward returned -1: Sequence 3 cannot be build.\n"
       ]
      },
      {
       "output_type": "stream",
       "stream": "stderr",
       "text": [
        "GHMM ghmm.py:3746 - forward returned -1: Sequence 4 cannot be build.\n"
       ]
      },
      {
       "output_type": "stream",
       "stream": "stderr",
       "text": [
        "WARNING:GHMM:forward returned -1: Sequence 4 cannot be build.\n"
       ]
      },
      {
       "output_type": "stream",
       "stream": "stderr",
       "text": [
        "GHMM ghmm.py:3746 - forward returned -1: Sequence 5 cannot be build.\n"
       ]
      },
      {
       "output_type": "stream",
       "stream": "stderr",
       "text": [
        "WARNING:GHMM:forward returned -1: Sequence 5 cannot be build.\n"
       ]
      },
      {
       "output_type": "stream",
       "stream": "stderr",
       "text": [
        "GHMM ghmm.py:3746 - forward returned -1: Sequence 6 cannot be build.\n"
       ]
      },
      {
       "output_type": "stream",
       "stream": "stderr",
       "text": [
        "WARNING:GHMM:forward returned -1: Sequence 6 cannot be build.\n"
       ]
      },
      {
       "output_type": "stream",
       "stream": "stderr",
       "text": [
        "GHMM ghmm.py:3746 - forward returned -1: Sequence 7 cannot be build.\n"
       ]
      },
      {
       "output_type": "stream",
       "stream": "stderr",
       "text": [
        "WARNING:GHMM:forward returned -1: Sequence 7 cannot be build.\n"
       ]
      },
      {
       "output_type": "stream",
       "stream": "stderr",
       "text": [
        "GHMM ghmm.py:3746 - forward returned -1: Sequence 8 cannot be build.\n"
       ]
      },
      {
       "output_type": "stream",
       "stream": "stderr",
       "text": [
        "WARNING:GHMM:forward returned -1: Sequence 8 cannot be build.\n"
       ]
      },
      {
       "output_type": "stream",
       "stream": "stderr",
       "text": [
        "GHMM ghmm.py:3746 - forward returned -1: Sequence 9 cannot be build.\n"
       ]
      },
      {
       "output_type": "stream",
       "stream": "stderr",
       "text": [
        "WARNING:GHMM:forward returned -1: Sequence 9 cannot be build.\n"
       ]
      },
      {
       "output_type": "stream",
       "stream": "stderr",
       "text": [
        "GHMM ghmm.py:3746 - forward returned -1: Sequence 10 cannot be build.\n"
       ]
      },
      {
       "output_type": "stream",
       "stream": "stderr",
       "text": [
        "WARNING:GHMM:forward returned -1: Sequence 10 cannot be build.\n"
       ]
      },
      {
       "output_type": "stream",
       "stream": "stderr",
       "text": [
        "GHMM ghmm.py:3746 - forward returned -1: Sequence 11 cannot be build.\n"
       ]
      },
      {
       "output_type": "stream",
       "stream": "stderr",
       "text": [
        "WARNING:GHMM:forward returned -1: Sequence 11 cannot be build.\n"
       ]
      },
      {
       "output_type": "stream",
       "stream": "stderr",
       "text": [
        "GHMM ghmm.py:3746 - forward returned -1: Sequence 0 cannot be build.\n"
       ]
      },
      {
       "output_type": "stream",
       "stream": "stderr",
       "text": [
        "WARNING:GHMM:forward returned -1: Sequence 0 cannot be build.\n"
       ]
      },
      {
       "output_type": "stream",
       "stream": "stderr",
       "text": [
        "GHMM ghmm.py:3746 - forward returned -1: Sequence 1 cannot be build.\n"
       ]
      },
      {
       "output_type": "stream",
       "stream": "stderr",
       "text": [
        "WARNING:GHMM:forward returned -1: Sequence 1 cannot be build.\n"
       ]
      },
      {
       "output_type": "stream",
       "stream": "stderr",
       "text": [
        "GHMM ghmm.py:3746 - forward returned -1: Sequence 2 cannot be build.\n"
       ]
      },
      {
       "output_type": "stream",
       "stream": "stderr",
       "text": [
        "WARNING:GHMM:forward returned -1: Sequence 2 cannot be build.\n"
       ]
      },
      {
       "output_type": "stream",
       "stream": "stderr",
       "text": [
        "GHMM ghmm.py:3746 - forward returned -1: Sequence 3 cannot be build.\n"
       ]
      },
      {
       "output_type": "stream",
       "stream": "stderr",
       "text": [
        "WARNING:GHMM:forward returned -1: Sequence 3 cannot be build.\n"
       ]
      },
      {
       "output_type": "stream",
       "stream": "stderr",
       "text": [
        "GHMM ghmm.py:3746 - forward returned -1: Sequence 4 cannot be build.\n"
       ]
      },
      {
       "output_type": "stream",
       "stream": "stderr",
       "text": [
        "WARNING:GHMM:forward returned -1: Sequence 4 cannot be build.\n"
       ]
      },
      {
       "output_type": "stream",
       "stream": "stderr",
       "text": [
        "GHMM ghmm.py:3746 - forward returned -1: Sequence 5 cannot be build.\n"
       ]
      },
      {
       "output_type": "stream",
       "stream": "stderr",
       "text": [
        "WARNING:GHMM:forward returned -1: Sequence 5 cannot be build.\n"
       ]
      },
      {
       "output_type": "stream",
       "stream": "stderr",
       "text": [
        "GHMM ghmm.py:3746 - forward returned -1: Sequence 6 cannot be build.\n"
       ]
      },
      {
       "output_type": "stream",
       "stream": "stderr",
       "text": [
        "WARNING:GHMM:forward returned -1: Sequence 6 cannot be build.\n"
       ]
      },
      {
       "output_type": "stream",
       "stream": "stderr",
       "text": [
        "GHMM ghmm.py:3746 - forward returned -1: Sequence 7 cannot be build.\n"
       ]
      },
      {
       "output_type": "stream",
       "stream": "stderr",
       "text": [
        "WARNING:GHMM:forward returned -1: Sequence 7 cannot be build.\n"
       ]
      },
      {
       "output_type": "stream",
       "stream": "stderr",
       "text": [
        "GHMM ghmm.py:3746 - forward returned -1: Sequence 8 cannot be build.\n"
       ]
      },
      {
       "output_type": "stream",
       "stream": "stderr",
       "text": [
        "WARNING:GHMM:forward returned -1: Sequence 8 cannot be build.\n"
       ]
      },
      {
       "output_type": "stream",
       "stream": "stderr",
       "text": [
        "GHMM ghmm.py:3746 - forward returned -1: Sequence 9 cannot be build.\n"
       ]
      },
      {
       "output_type": "stream",
       "stream": "stderr",
       "text": [
        "WARNING:GHMM:forward returned -1: Sequence 9 cannot be build.\n"
       ]
      },
      {
       "output_type": "stream",
       "stream": "stderr",
       "text": [
        "GHMM ghmm.py:3746 - forward returned -1: Sequence 10 cannot be build.\n"
       ]
      },
      {
       "output_type": "stream",
       "stream": "stderr",
       "text": [
        "WARNING:GHMM:forward returned -1: Sequence 10 cannot be build.\n"
       ]
      },
      {
       "output_type": "stream",
       "stream": "stderr",
       "text": [
        "GHMM ghmm.py:3746 - forward returned -1: Sequence 11 cannot be build.\n"
       ]
      },
      {
       "output_type": "stream",
       "stream": "stderr",
       "text": [
        "WARNING:GHMM:forward returned -1: Sequence 11 cannot be build.\n"
       ]
      },
      {
       "output_type": "stream",
       "stream": "stderr",
       "text": [
        "GHMM ghmm.py:3746 - forward returned -1: Sequence 0 cannot be build.\n"
       ]
      },
      {
       "output_type": "stream",
       "stream": "stderr",
       "text": [
        "WARNING:GHMM:forward returned -1: Sequence 0 cannot be build.\n"
       ]
      },
      {
       "output_type": "stream",
       "stream": "stderr",
       "text": [
        "GHMM ghmm.py:3746 - forward returned -1: Sequence 1 cannot be build.\n"
       ]
      },
      {
       "output_type": "stream",
       "stream": "stderr",
       "text": [
        "WARNING:GHMM:forward returned -1: Sequence 1 cannot be build.\n"
       ]
      },
      {
       "output_type": "stream",
       "stream": "stderr",
       "text": [
        "GHMM ghmm.py:3746 - forward returned -1: Sequence 2 cannot be build.\n"
       ]
      },
      {
       "output_type": "stream",
       "stream": "stderr",
       "text": [
        "WARNING:GHMM:forward returned -1: Sequence 2 cannot be build.\n"
       ]
      },
      {
       "output_type": "stream",
       "stream": "stderr",
       "text": [
        "GHMM ghmm.py:3746 - forward returned -1: Sequence 3 cannot be build.\n"
       ]
      },
      {
       "output_type": "stream",
       "stream": "stderr",
       "text": [
        "WARNING:GHMM:forward returned -1: Sequence 3 cannot be build.\n"
       ]
      },
      {
       "output_type": "stream",
       "stream": "stderr",
       "text": [
        "GHMM ghmm.py:3746 - forward returned -1: Sequence 4 cannot be build.\n"
       ]
      },
      {
       "output_type": "stream",
       "stream": "stderr",
       "text": [
        "WARNING:GHMM:forward returned -1: Sequence 4 cannot be build.\n"
       ]
      },
      {
       "output_type": "stream",
       "stream": "stderr",
       "text": [
        "GHMM ghmm.py:3746 - forward returned -1: Sequence 5 cannot be build.\n"
       ]
      },
      {
       "output_type": "stream",
       "stream": "stderr",
       "text": [
        "WARNING:GHMM:forward returned -1: Sequence 5 cannot be build.\n"
       ]
      },
      {
       "output_type": "stream",
       "stream": "stderr",
       "text": [
        "GHMM ghmm.py:3746 - forward returned -1: Sequence 6 cannot be build.\n"
       ]
      },
      {
       "output_type": "stream",
       "stream": "stderr",
       "text": [
        "WARNING:GHMM:forward returned -1: Sequence 6 cannot be build.\n"
       ]
      },
      {
       "output_type": "stream",
       "stream": "stderr",
       "text": [
        "GHMM ghmm.py:3746 - forward returned -1: Sequence 7 cannot be build.\n"
       ]
      },
      {
       "output_type": "stream",
       "stream": "stderr",
       "text": [
        "WARNING:GHMM:forward returned -1: Sequence 7 cannot be build.\n"
       ]
      },
      {
       "output_type": "stream",
       "stream": "stderr",
       "text": [
        "GHMM ghmm.py:3746 - forward returned -1: Sequence 8 cannot be build.\n"
       ]
      },
      {
       "output_type": "stream",
       "stream": "stderr",
       "text": [
        "WARNING:GHMM:forward returned -1: Sequence 8 cannot be build.\n"
       ]
      },
      {
       "output_type": "stream",
       "stream": "stderr",
       "text": [
        "GHMM ghmm.py:3746 - forward returned -1: Sequence 9 cannot be build.\n"
       ]
      },
      {
       "output_type": "stream",
       "stream": "stderr",
       "text": [
        "WARNING:GHMM:forward returned -1: Sequence 9 cannot be build.\n"
       ]
      },
      {
       "output_type": "stream",
       "stream": "stderr",
       "text": [
        "GHMM ghmm.py:3746 - forward returned -1: Sequence 10 cannot be build.\n"
       ]
      },
      {
       "output_type": "stream",
       "stream": "stderr",
       "text": [
        "WARNING:GHMM:forward returned -1: Sequence 10 cannot be build.\n"
       ]
      },
      {
       "output_type": "stream",
       "stream": "stderr",
       "text": [
        "GHMM ghmm.py:3746 - forward returned -1: Sequence 11 cannot be build.\n"
       ]
      },
      {
       "output_type": "stream",
       "stream": "stderr",
       "text": [
        "WARNING:GHMM:forward returned -1: Sequence 11 cannot be build.\n"
       ]
      },
      {
       "output_type": "stream",
       "stream": "stderr",
       "text": [
        "GHMM ghmm.py:3746 - forward returned -1: Sequence 0 cannot be build.\n"
       ]
      },
      {
       "output_type": "stream",
       "stream": "stderr",
       "text": [
        "WARNING:GHMM:forward returned -1: Sequence 0 cannot be build.\n"
       ]
      },
      {
       "output_type": "stream",
       "stream": "stderr",
       "text": [
        "GHMM ghmm.py:3746 - forward returned -1: Sequence 1 cannot be build.\n"
       ]
      },
      {
       "output_type": "stream",
       "stream": "stderr",
       "text": [
        "WARNING:GHMM:forward returned -1: Sequence 1 cannot be build.\n"
       ]
      },
      {
       "output_type": "stream",
       "stream": "stderr",
       "text": [
        "GHMM ghmm.py:3746 - forward returned -1: Sequence 2 cannot be build.\n"
       ]
      },
      {
       "output_type": "stream",
       "stream": "stderr",
       "text": [
        "WARNING:GHMM:forward returned -1: Sequence 2 cannot be build.\n"
       ]
      },
      {
       "output_type": "stream",
       "stream": "stderr",
       "text": [
        "GHMM ghmm.py:3746 - forward returned -1: Sequence 3 cannot be build.\n"
       ]
      },
      {
       "output_type": "stream",
       "stream": "stderr",
       "text": [
        "WARNING:GHMM:forward returned -1: Sequence 3 cannot be build.\n"
       ]
      },
      {
       "output_type": "stream",
       "stream": "stderr",
       "text": [
        "GHMM ghmm.py:3746 - forward returned -1: Sequence 4 cannot be build.\n"
       ]
      },
      {
       "output_type": "stream",
       "stream": "stderr",
       "text": [
        "WARNING:GHMM:forward returned -1: Sequence 4 cannot be build.\n"
       ]
      },
      {
       "output_type": "stream",
       "stream": "stderr",
       "text": [
        "GHMM ghmm.py:3746 - forward returned -1: Sequence 5 cannot be build.\n"
       ]
      },
      {
       "output_type": "stream",
       "stream": "stderr",
       "text": [
        "WARNING:GHMM:forward returned -1: Sequence 5 cannot be build.\n"
       ]
      },
      {
       "output_type": "stream",
       "stream": "stderr",
       "text": [
        "GHMM ghmm.py:3746 - forward returned -1: Sequence 6 cannot be build.\n"
       ]
      },
      {
       "output_type": "stream",
       "stream": "stderr",
       "text": [
        "WARNING:GHMM:forward returned -1: Sequence 6 cannot be build.\n"
       ]
      },
      {
       "output_type": "stream",
       "stream": "stderr",
       "text": [
        "GHMM ghmm.py:3746 - forward returned -1: Sequence 7 cannot be build.\n"
       ]
      },
      {
       "output_type": "stream",
       "stream": "stderr",
       "text": [
        "WARNING:GHMM:forward returned -1: Sequence 7 cannot be build.\n"
       ]
      },
      {
       "output_type": "stream",
       "stream": "stderr",
       "text": [
        "GHMM ghmm.py:3746 - forward returned -1: Sequence 8 cannot be build.\n"
       ]
      },
      {
       "output_type": "stream",
       "stream": "stderr",
       "text": [
        "WARNING:GHMM:forward returned -1: Sequence 8 cannot be build.\n"
       ]
      },
      {
       "output_type": "stream",
       "stream": "stderr",
       "text": [
        "GHMM ghmm.py:3746 - forward returned -1: Sequence 9 cannot be build.\n"
       ]
      },
      {
       "output_type": "stream",
       "stream": "stderr",
       "text": [
        "WARNING:GHMM:forward returned -1: Sequence 9 cannot be build.\n"
       ]
      },
      {
       "output_type": "stream",
       "stream": "stderr",
       "text": [
        "GHMM ghmm.py:3746 - forward returned -1: Sequence 10 cannot be build.\n"
       ]
      },
      {
       "output_type": "stream",
       "stream": "stderr",
       "text": [
        "WARNING:GHMM:forward returned -1: Sequence 10 cannot be build.\n"
       ]
      },
      {
       "output_type": "stream",
       "stream": "stderr",
       "text": [
        "GHMM ghmm.py:3746 - forward returned -1: Sequence 11 cannot be build.\n"
       ]
      },
      {
       "output_type": "stream",
       "stream": "stderr",
       "text": [
        "WARNING:GHMM:forward returned -1: Sequence 11 cannot be build.\n"
       ]
      },
      {
       "output_type": "stream",
       "stream": "stderr",
       "text": [
        "GHMM ghmm.py:3746 - forward returned -1: Sequence 1 cannot be build.\n"
       ]
      },
      {
       "output_type": "stream",
       "stream": "stderr",
       "text": [
        "WARNING:GHMM:forward returned -1: Sequence 1 cannot be build.\n"
       ]
      },
      {
       "output_type": "stream",
       "stream": "stderr",
       "text": [
        "GHMM ghmm.py:3746 - forward returned -1: Sequence 2 cannot be build.\n"
       ]
      },
      {
       "output_type": "stream",
       "stream": "stderr",
       "text": [
        "WARNING:GHMM:forward returned -1: Sequence 2 cannot be build.\n"
       ]
      },
      {
       "output_type": "stream",
       "stream": "stderr",
       "text": [
        "GHMM ghmm.py:3746 - forward returned -1: Sequence 3 cannot be build.\n"
       ]
      },
      {
       "output_type": "stream",
       "stream": "stderr",
       "text": [
        "WARNING:GHMM:forward returned -1: Sequence 3 cannot be build.\n"
       ]
      },
      {
       "output_type": "stream",
       "stream": "stderr",
       "text": [
        "GHMM ghmm.py:3746 - forward returned -1: Sequence 5 cannot be build.\n"
       ]
      },
      {
       "output_type": "stream",
       "stream": "stderr",
       "text": [
        "WARNING:GHMM:forward returned -1: Sequence 5 cannot be build.\n"
       ]
      },
      {
       "output_type": "stream",
       "stream": "stderr",
       "text": [
        "GHMM ghmm.py:3746 - forward returned -1: Sequence 8 cannot be build.\n"
       ]
      },
      {
       "output_type": "stream",
       "stream": "stderr",
       "text": [
        "WARNING:GHMM:forward returned -1: Sequence 8 cannot be build.\n"
       ]
      },
      {
       "output_type": "stream",
       "stream": "stderr",
       "text": [
        "GHMM ghmm.py:3746 - forward returned -1: Sequence 10 cannot be build.\n"
       ]
      },
      {
       "output_type": "stream",
       "stream": "stderr",
       "text": [
        "WARNING:GHMM:forward returned -1: Sequence 10 cannot be build.\n"
       ]
      },
      {
       "output_type": "stream",
       "stream": "stderr",
       "text": [
        "GHMM ghmm.py:3746 - forward returned -1: Sequence 1 cannot be build.\n"
       ]
      },
      {
       "output_type": "stream",
       "stream": "stderr",
       "text": [
        "WARNING:GHMM:forward returned -1: Sequence 1 cannot be build.\n"
       ]
      },
      {
       "output_type": "stream",
       "stream": "stderr",
       "text": [
        "GHMM ghmm.py:3746 - forward returned -1: Sequence 2 cannot be build.\n"
       ]
      },
      {
       "output_type": "stream",
       "stream": "stderr",
       "text": [
        "WARNING:GHMM:forward returned -1: Sequence 2 cannot be build.\n"
       ]
      },
      {
       "output_type": "stream",
       "stream": "stderr",
       "text": [
        "GHMM ghmm.py:3746 - forward returned -1: Sequence 3 cannot be build.\n"
       ]
      },
      {
       "output_type": "stream",
       "stream": "stderr",
       "text": [
        "WARNING:GHMM:forward returned -1: Sequence 3 cannot be build.\n"
       ]
      },
      {
       "output_type": "stream",
       "stream": "stderr",
       "text": [
        "GHMM ghmm.py:3746 - forward returned -1: Sequence 5 cannot be build.\n"
       ]
      },
      {
       "output_type": "stream",
       "stream": "stderr",
       "text": [
        "WARNING:GHMM:forward returned -1: Sequence 5 cannot be build.\n"
       ]
      },
      {
       "output_type": "stream",
       "stream": "stderr",
       "text": [
        "GHMM ghmm.py:3746 - forward returned -1: Sequence 8 cannot be build.\n"
       ]
      },
      {
       "output_type": "stream",
       "stream": "stderr",
       "text": [
        "WARNING:GHMM:forward returned -1: Sequence 8 cannot be build.\n"
       ]
      },
      {
       "output_type": "stream",
       "stream": "stderr",
       "text": [
        "GHMM ghmm.py:3746 - forward returned -1: Sequence 10 cannot be build.\n"
       ]
      },
      {
       "output_type": "stream",
       "stream": "stderr",
       "text": [
        "WARNING:GHMM:forward returned -1: Sequence 10 cannot be build.\n"
       ]
      },
      {
       "output_type": "stream",
       "stream": "stderr",
       "text": [
        "GHMM ghmm.py:3746 - forward returned -1: Sequence 1 cannot be build.\n"
       ]
      },
      {
       "output_type": "stream",
       "stream": "stderr",
       "text": [
        "WARNING:GHMM:forward returned -1: Sequence 1 cannot be build.\n"
       ]
      },
      {
       "output_type": "stream",
       "stream": "stderr",
       "text": [
        "GHMM ghmm.py:3746 - forward returned -1: Sequence 2 cannot be build.\n"
       ]
      },
      {
       "output_type": "stream",
       "stream": "stderr",
       "text": [
        "WARNING:GHMM:forward returned -1: Sequence 2 cannot be build.\n"
       ]
      },
      {
       "output_type": "stream",
       "stream": "stderr",
       "text": [
        "GHMM ghmm.py:3746 - forward returned -1: Sequence 3 cannot be build.\n"
       ]
      },
      {
       "output_type": "stream",
       "stream": "stderr",
       "text": [
        "WARNING:GHMM:forward returned -1: Sequence 3 cannot be build.\n"
       ]
      },
      {
       "output_type": "stream",
       "stream": "stderr",
       "text": [
        "GHMM ghmm.py:3746 - forward returned -1: Sequence 5 cannot be build.\n"
       ]
      },
      {
       "output_type": "stream",
       "stream": "stderr",
       "text": [
        "WARNING:GHMM:forward returned -1: Sequence 5 cannot be build.\n"
       ]
      },
      {
       "output_type": "stream",
       "stream": "stderr",
       "text": [
        "GHMM ghmm.py:3746 - forward returned -1: Sequence 8 cannot be build.\n"
       ]
      },
      {
       "output_type": "stream",
       "stream": "stderr",
       "text": [
        "WARNING:GHMM:forward returned -1: Sequence 8 cannot be build.\n"
       ]
      },
      {
       "output_type": "stream",
       "stream": "stderr",
       "text": [
        "GHMM ghmm.py:3746 - forward returned -1: Sequence 10 cannot be build.\n"
       ]
      },
      {
       "output_type": "stream",
       "stream": "stderr",
       "text": [
        "WARNING:GHMM:forward returned -1: Sequence 10 cannot be build.\n"
       ]
      },
      {
       "output_type": "stream",
       "stream": "stderr",
       "text": [
        "GHMM ghmm.py:3746 - forward returned -1: Sequence 0 cannot be build.\n"
       ]
      },
      {
       "output_type": "stream",
       "stream": "stderr",
       "text": [
        "WARNING:GHMM:forward returned -1: Sequence 0 cannot be build.\n"
       ]
      },
      {
       "output_type": "stream",
       "stream": "stderr",
       "text": [
        "GHMM ghmm.py:3746 - forward returned -1: Sequence 1 cannot be build.\n"
       ]
      },
      {
       "output_type": "stream",
       "stream": "stderr",
       "text": [
        "WARNING:GHMM:forward returned -1: Sequence 1 cannot be build.\n"
       ]
      },
      {
       "output_type": "stream",
       "stream": "stderr",
       "text": [
        "GHMM ghmm.py:3746 - forward returned -1: Sequence 2 cannot be build.\n"
       ]
      },
      {
       "output_type": "stream",
       "stream": "stderr",
       "text": [
        "WARNING:GHMM:forward returned -1: Sequence 2 cannot be build.\n"
       ]
      },
      {
       "output_type": "stream",
       "stream": "stderr",
       "text": [
        "GHMM ghmm.py:3746 - forward returned -1: Sequence 3 cannot be build.\n"
       ]
      },
      {
       "output_type": "stream",
       "stream": "stderr",
       "text": [
        "WARNING:GHMM:forward returned -1: Sequence 3 cannot be build.\n"
       ]
      },
      {
       "output_type": "stream",
       "stream": "stderr",
       "text": [
        "GHMM ghmm.py:3746 - forward returned -1: Sequence 4 cannot be build.\n"
       ]
      },
      {
       "output_type": "stream",
       "stream": "stderr",
       "text": [
        "WARNING:GHMM:forward returned -1: Sequence 4 cannot be build.\n"
       ]
      },
      {
       "output_type": "stream",
       "stream": "stderr",
       "text": [
        "GHMM ghmm.py:3746 - forward returned -1: Sequence 5 cannot be build.\n"
       ]
      },
      {
       "output_type": "stream",
       "stream": "stderr",
       "text": [
        "WARNING:GHMM:forward returned -1: Sequence 5 cannot be build.\n"
       ]
      },
      {
       "output_type": "stream",
       "stream": "stderr",
       "text": [
        "GHMM ghmm.py:3746 - forward returned -1: Sequence 6 cannot be build.\n"
       ]
      },
      {
       "output_type": "stream",
       "stream": "stderr",
       "text": [
        "WARNING:GHMM:forward returned -1: Sequence 6 cannot be build.\n"
       ]
      },
      {
       "output_type": "stream",
       "stream": "stderr",
       "text": [
        "GHMM ghmm.py:3746 - forward returned -1: Sequence 7 cannot be build.\n"
       ]
      },
      {
       "output_type": "stream",
       "stream": "stderr",
       "text": [
        "WARNING:GHMM:forward returned -1: Sequence 7 cannot be build.\n"
       ]
      },
      {
       "output_type": "stream",
       "stream": "stderr",
       "text": [
        "GHMM ghmm.py:3746 - forward returned -1: Sequence 8 cannot be build.\n"
       ]
      },
      {
       "output_type": "stream",
       "stream": "stderr",
       "text": [
        "WARNING:GHMM:forward returned -1: Sequence 8 cannot be build.\n"
       ]
      },
      {
       "output_type": "stream",
       "stream": "stderr",
       "text": [
        "GHMM ghmm.py:3746 - forward returned -1: Sequence 9 cannot be build.\n"
       ]
      },
      {
       "output_type": "stream",
       "stream": "stderr",
       "text": [
        "WARNING:GHMM:forward returned -1: Sequence 9 cannot be build.\n"
       ]
      },
      {
       "output_type": "stream",
       "stream": "stderr",
       "text": [
        "GHMM ghmm.py:3746 - forward returned -1: Sequence 10 cannot be build.\n"
       ]
      },
      {
       "output_type": "stream",
       "stream": "stderr",
       "text": [
        "WARNING:GHMM:forward returned -1: Sequence 10 cannot be build.\n"
       ]
      },
      {
       "output_type": "stream",
       "stream": "stderr",
       "text": [
        "GHMM ghmm.py:3746 - forward returned -1: Sequence 11 cannot be build.\n"
       ]
      },
      {
       "output_type": "stream",
       "stream": "stderr",
       "text": [
        "WARNING:GHMM:forward returned -1: Sequence 11 cannot be build.\n"
       ]
      },
      {
       "output_type": "stream",
       "stream": "stderr",
       "text": [
        "GHMM ghmm.py:3746 - forward returned -1: Sequence 0 cannot be build.\n"
       ]
      },
      {
       "output_type": "stream",
       "stream": "stderr",
       "text": [
        "WARNING:GHMM:forward returned -1: Sequence 0 cannot be build.\n"
       ]
      },
      {
       "output_type": "stream",
       "stream": "stderr",
       "text": [
        "GHMM ghmm.py:3746 - forward returned -1: Sequence 1 cannot be build.\n"
       ]
      },
      {
       "output_type": "stream",
       "stream": "stderr",
       "text": [
        "WARNING:GHMM:forward returned -1: Sequence 1 cannot be build.\n"
       ]
      },
      {
       "output_type": "stream",
       "stream": "stderr",
       "text": [
        "GHMM ghmm.py:3746 - forward returned -1: Sequence 2 cannot be build.\n"
       ]
      },
      {
       "output_type": "stream",
       "stream": "stderr",
       "text": [
        "WARNING:GHMM:forward returned -1: Sequence 2 cannot be build.\n"
       ]
      },
      {
       "output_type": "stream",
       "stream": "stderr",
       "text": [
        "GHMM ghmm.py:3746 - forward returned -1: Sequence 3 cannot be build.\n"
       ]
      },
      {
       "output_type": "stream",
       "stream": "stderr",
       "text": [
        "WARNING:GHMM:forward returned -1: Sequence 3 cannot be build.\n"
       ]
      },
      {
       "output_type": "stream",
       "stream": "stderr",
       "text": [
        "GHMM ghmm.py:3746 - forward returned -1: Sequence 4 cannot be build.\n"
       ]
      },
      {
       "output_type": "stream",
       "stream": "stderr",
       "text": [
        "WARNING:GHMM:forward returned -1: Sequence 4 cannot be build.\n"
       ]
      },
      {
       "output_type": "stream",
       "stream": "stderr",
       "text": [
        "GHMM ghmm.py:3746 - forward returned -1: Sequence 5 cannot be build.\n"
       ]
      },
      {
       "output_type": "stream",
       "stream": "stderr",
       "text": [
        "WARNING:GHMM:forward returned -1: Sequence 5 cannot be build.\n"
       ]
      },
      {
       "output_type": "stream",
       "stream": "stderr",
       "text": [
        "GHMM ghmm.py:3746 - forward returned -1: Sequence 6 cannot be build.\n"
       ]
      },
      {
       "output_type": "stream",
       "stream": "stderr",
       "text": [
        "WARNING:GHMM:forward returned -1: Sequence 6 cannot be build.\n"
       ]
      },
      {
       "output_type": "stream",
       "stream": "stderr",
       "text": [
        "GHMM ghmm.py:3746 - forward returned -1: Sequence 7 cannot be build.\n"
       ]
      },
      {
       "output_type": "stream",
       "stream": "stderr",
       "text": [
        "WARNING:GHMM:forward returned -1: Sequence 7 cannot be build.\n"
       ]
      },
      {
       "output_type": "stream",
       "stream": "stderr",
       "text": [
        "GHMM ghmm.py:3746 - forward returned -1: Sequence 8 cannot be build.\n"
       ]
      },
      {
       "output_type": "stream",
       "stream": "stderr",
       "text": [
        "WARNING:GHMM:forward returned -1: Sequence 8 cannot be build.\n"
       ]
      },
      {
       "output_type": "stream",
       "stream": "stderr",
       "text": [
        "GHMM ghmm.py:3746 - forward returned -1: Sequence 9 cannot be build.\n"
       ]
      },
      {
       "output_type": "stream",
       "stream": "stderr",
       "text": [
        "WARNING:GHMM:forward returned -1: Sequence 9 cannot be build.\n"
       ]
      },
      {
       "output_type": "stream",
       "stream": "stderr",
       "text": [
        "GHMM ghmm.py:3746 - forward returned -1: Sequence 10 cannot be build.\n"
       ]
      },
      {
       "output_type": "stream",
       "stream": "stderr",
       "text": [
        "WARNING:GHMM:forward returned -1: Sequence 10 cannot be build.\n"
       ]
      },
      {
       "output_type": "stream",
       "stream": "stderr",
       "text": [
        "GHMM ghmm.py:3746 - forward returned -1: Sequence 11 cannot be build.\n"
       ]
      },
      {
       "output_type": "stream",
       "stream": "stderr",
       "text": [
        "WARNING:GHMM:forward returned -1: Sequence 11 cannot be build.\n"
       ]
      },
      {
       "output_type": "stream",
       "stream": "stderr",
       "text": [
        "GHMM ghmm.py:3746 - forward returned -1: Sequence 0 cannot be build.\n"
       ]
      },
      {
       "output_type": "stream",
       "stream": "stderr",
       "text": [
        "WARNING:GHMM:forward returned -1: Sequence 0 cannot be build.\n"
       ]
      },
      {
       "output_type": "stream",
       "stream": "stderr",
       "text": [
        "GHMM ghmm.py:3746 - forward returned -1: Sequence 1 cannot be build.\n"
       ]
      },
      {
       "output_type": "stream",
       "stream": "stderr",
       "text": [
        "WARNING:GHMM:forward returned -1: Sequence 1 cannot be build.\n"
       ]
      },
      {
       "output_type": "stream",
       "stream": "stderr",
       "text": [
        "GHMM ghmm.py:3746 - forward returned -1: Sequence 2 cannot be build.\n"
       ]
      },
      {
       "output_type": "stream",
       "stream": "stderr",
       "text": [
        "WARNING:GHMM:forward returned -1: Sequence 2 cannot be build.\n"
       ]
      },
      {
       "output_type": "stream",
       "stream": "stderr",
       "text": [
        "GHMM ghmm.py:3746 - forward returned -1: Sequence 3 cannot be build.\n"
       ]
      },
      {
       "output_type": "stream",
       "stream": "stderr",
       "text": [
        "WARNING:GHMM:forward returned -1: Sequence 3 cannot be build.\n"
       ]
      },
      {
       "output_type": "stream",
       "stream": "stderr",
       "text": [
        "GHMM ghmm.py:3746 - forward returned -1: Sequence 4 cannot be build.\n"
       ]
      },
      {
       "output_type": "stream",
       "stream": "stderr",
       "text": [
        "WARNING:GHMM:forward returned -1: Sequence 4 cannot be build.\n"
       ]
      },
      {
       "output_type": "stream",
       "stream": "stderr",
       "text": [
        "GHMM ghmm.py:3746 - forward returned -1: Sequence 5 cannot be build.\n"
       ]
      },
      {
       "output_type": "stream",
       "stream": "stderr",
       "text": [
        "WARNING:GHMM:forward returned -1: Sequence 5 cannot be build.\n"
       ]
      },
      {
       "output_type": "stream",
       "stream": "stderr",
       "text": [
        "GHMM ghmm.py:3746 - forward returned -1: Sequence 6 cannot be build.\n"
       ]
      },
      {
       "output_type": "stream",
       "stream": "stderr",
       "text": [
        "WARNING:GHMM:forward returned -1: Sequence 6 cannot be build.\n"
       ]
      },
      {
       "output_type": "stream",
       "stream": "stderr",
       "text": [
        "GHMM ghmm.py:3746 - forward returned -1: Sequence 7 cannot be build.\n"
       ]
      },
      {
       "output_type": "stream",
       "stream": "stderr",
       "text": [
        "WARNING:GHMM:forward returned -1: Sequence 7 cannot be build.\n"
       ]
      },
      {
       "output_type": "stream",
       "stream": "stderr",
       "text": [
        "GHMM ghmm.py:3746 - forward returned -1: Sequence 8 cannot be build.\n"
       ]
      },
      {
       "output_type": "stream",
       "stream": "stderr",
       "text": [
        "WARNING:GHMM:forward returned -1: Sequence 8 cannot be build.\n"
       ]
      },
      {
       "output_type": "stream",
       "stream": "stderr",
       "text": [
        "GHMM ghmm.py:3746 - forward returned -1: Sequence 9 cannot be build.\n"
       ]
      },
      {
       "output_type": "stream",
       "stream": "stderr",
       "text": [
        "WARNING:GHMM:forward returned -1: Sequence 9 cannot be build.\n"
       ]
      },
      {
       "output_type": "stream",
       "stream": "stderr",
       "text": [
        "GHMM ghmm.py:3746 - forward returned -1: Sequence 10 cannot be build.\n"
       ]
      },
      {
       "output_type": "stream",
       "stream": "stderr",
       "text": [
        "WARNING:GHMM:forward returned -1: Sequence 10 cannot be build.\n"
       ]
      },
      {
       "output_type": "stream",
       "stream": "stderr",
       "text": [
        "GHMM ghmm.py:3746 - forward returned -1: Sequence 11 cannot be build.\n"
       ]
      },
      {
       "output_type": "stream",
       "stream": "stderr",
       "text": [
        "WARNING:GHMM:forward returned -1: Sequence 11 cannot be build.\n"
       ]
      },
      {
       "output_type": "stream",
       "stream": "stderr",
       "text": [
        "GHMM ghmm.py:3746 - forward returned -1: Sequence 1 cannot be build.\n"
       ]
      },
      {
       "output_type": "stream",
       "stream": "stderr",
       "text": [
        "WARNING:GHMM:forward returned -1: Sequence 1 cannot be build.\n"
       ]
      },
      {
       "output_type": "stream",
       "stream": "stderr",
       "text": [
        "GHMM ghmm.py:3746 - forward returned -1: Sequence 2 cannot be build.\n"
       ]
      },
      {
       "output_type": "stream",
       "stream": "stderr",
       "text": [
        "WARNING:GHMM:forward returned -1: Sequence 2 cannot be build.\n"
       ]
      },
      {
       "output_type": "stream",
       "stream": "stderr",
       "text": [
        "GHMM ghmm.py:3746 - forward returned -1: Sequence 3 cannot be build.\n"
       ]
      },
      {
       "output_type": "stream",
       "stream": "stderr",
       "text": [
        "WARNING:GHMM:forward returned -1: Sequence 3 cannot be build.\n"
       ]
      },
      {
       "output_type": "stream",
       "stream": "stderr",
       "text": [
        "GHMM ghmm.py:3746 - forward returned -1: Sequence 5 cannot be build.\n"
       ]
      },
      {
       "output_type": "stream",
       "stream": "stderr",
       "text": [
        "WARNING:GHMM:forward returned -1: Sequence 5 cannot be build.\n"
       ]
      },
      {
       "output_type": "stream",
       "stream": "stderr",
       "text": [
        "GHMM ghmm.py:3746 - forward returned -1: Sequence 8 cannot be build.\n"
       ]
      },
      {
       "output_type": "stream",
       "stream": "stderr",
       "text": [
        "WARNING:GHMM:forward returned -1: Sequence 8 cannot be build.\n"
       ]
      },
      {
       "output_type": "stream",
       "stream": "stderr",
       "text": [
        "GHMM ghmm.py:3746 - forward returned -1: Sequence 10 cannot be build.\n"
       ]
      },
      {
       "output_type": "stream",
       "stream": "stderr",
       "text": [
        "WARNING:GHMM:forward returned -1: Sequence 10 cannot be build.\n"
       ]
      },
      {
       "output_type": "stream",
       "stream": "stderr",
       "text": [
        "GHMM ghmm.py:3746 - forward returned -1: Sequence 1 cannot be build.\n"
       ]
      },
      {
       "output_type": "stream",
       "stream": "stderr",
       "text": [
        "WARNING:GHMM:forward returned -1: Sequence 1 cannot be build.\n"
       ]
      },
      {
       "output_type": "stream",
       "stream": "stderr",
       "text": [
        "GHMM ghmm.py:3746 - forward returned -1: Sequence 2 cannot be build.\n"
       ]
      },
      {
       "output_type": "stream",
       "stream": "stderr",
       "text": [
        "WARNING:GHMM:forward returned -1: Sequence 2 cannot be build.\n"
       ]
      },
      {
       "output_type": "stream",
       "stream": "stderr",
       "text": [
        "GHMM ghmm.py:3746 - forward returned -1: Sequence 3 cannot be build.\n"
       ]
      },
      {
       "output_type": "stream",
       "stream": "stderr",
       "text": [
        "WARNING:GHMM:forward returned -1: Sequence 3 cannot be build.\n"
       ]
      },
      {
       "output_type": "stream",
       "stream": "stderr",
       "text": [
        "GHMM ghmm.py:3746 - forward returned -1: Sequence 5 cannot be build.\n"
       ]
      },
      {
       "output_type": "stream",
       "stream": "stderr",
       "text": [
        "WARNING:GHMM:forward returned -1: Sequence 5 cannot be build.\n"
       ]
      },
      {
       "output_type": "stream",
       "stream": "stderr",
       "text": [
        "GHMM ghmm.py:3746 - forward returned -1: Sequence 8 cannot be build.\n"
       ]
      },
      {
       "output_type": "stream",
       "stream": "stderr",
       "text": [
        "WARNING:GHMM:forward returned -1: Sequence 8 cannot be build.\n"
       ]
      },
      {
       "output_type": "stream",
       "stream": "stderr",
       "text": [
        "GHMM ghmm.py:3746 - forward returned -1: Sequence 10 cannot be build.\n"
       ]
      },
      {
       "output_type": "stream",
       "stream": "stderr",
       "text": [
        "WARNING:GHMM:forward returned -1: Sequence 10 cannot be build.\n"
       ]
      },
      {
       "output_type": "stream",
       "stream": "stderr",
       "text": [
        "GHMM ghmm.py:3746 - forward returned -1: Sequence 1 cannot be build.\n"
       ]
      },
      {
       "output_type": "stream",
       "stream": "stderr",
       "text": [
        "WARNING:GHMM:forward returned -1: Sequence 1 cannot be build.\n"
       ]
      },
      {
       "output_type": "stream",
       "stream": "stderr",
       "text": [
        "GHMM ghmm.py:3746 - forward returned -1: Sequence 2 cannot be build.\n"
       ]
      },
      {
       "output_type": "stream",
       "stream": "stderr",
       "text": [
        "WARNING:GHMM:forward returned -1: Sequence 2 cannot be build.\n"
       ]
      },
      {
       "output_type": "stream",
       "stream": "stderr",
       "text": [
        "GHMM ghmm.py:3746 - forward returned -1: Sequence 3 cannot be build.\n"
       ]
      },
      {
       "output_type": "stream",
       "stream": "stderr",
       "text": [
        "WARNING:GHMM:forward returned -1: Sequence 3 cannot be build.\n"
       ]
      },
      {
       "output_type": "stream",
       "stream": "stderr",
       "text": [
        "GHMM ghmm.py:3746 - forward returned -1: Sequence 5 cannot be build.\n"
       ]
      },
      {
       "output_type": "stream",
       "stream": "stderr",
       "text": [
        "WARNING:GHMM:forward returned -1: Sequence 5 cannot be build.\n"
       ]
      },
      {
       "output_type": "stream",
       "stream": "stderr",
       "text": [
        "GHMM ghmm.py:3746 - forward returned -1: Sequence 8 cannot be build.\n"
       ]
      },
      {
       "output_type": "stream",
       "stream": "stderr",
       "text": [
        "WARNING:GHMM:forward returned -1: Sequence 8 cannot be build.\n"
       ]
      },
      {
       "output_type": "stream",
       "stream": "stderr",
       "text": [
        "GHMM ghmm.py:3746 - forward returned -1: Sequence 10 cannot be build.\n"
       ]
      },
      {
       "output_type": "stream",
       "stream": "stderr",
       "text": [
        "WARNING:GHMM:forward returned -1: Sequence 10 cannot be build.\n"
       ]
      },
      {
       "output_type": "stream",
       "stream": "stderr",
       "text": [
        "GHMM ghmm.py:3746 - forward returned -1: Sequence 1 cannot be build.\n"
       ]
      },
      {
       "output_type": "stream",
       "stream": "stderr",
       "text": [
        "WARNING:GHMM:forward returned -1: Sequence 1 cannot be build.\n"
       ]
      },
      {
       "output_type": "stream",
       "stream": "stderr",
       "text": [
        "GHMM ghmm.py:3746 - forward returned -1: Sequence 2 cannot be build.\n"
       ]
      },
      {
       "output_type": "stream",
       "stream": "stderr",
       "text": [
        "WARNING:GHMM:forward returned -1: Sequence 2 cannot be build.\n"
       ]
      },
      {
       "output_type": "stream",
       "stream": "stderr",
       "text": [
        "GHMM ghmm.py:3746 - forward returned -1: Sequence 3 cannot be build.\n"
       ]
      },
      {
       "output_type": "stream",
       "stream": "stderr",
       "text": [
        "WARNING:GHMM:forward returned -1: Sequence 3 cannot be build.\n"
       ]
      },
      {
       "output_type": "stream",
       "stream": "stderr",
       "text": [
        "GHMM ghmm.py:3746 - forward returned -1: Sequence 5 cannot be build.\n"
       ]
      },
      {
       "output_type": "stream",
       "stream": "stderr",
       "text": [
        "WARNING:GHMM:forward returned -1: Sequence 5 cannot be build.\n"
       ]
      },
      {
       "output_type": "stream",
       "stream": "stderr",
       "text": [
        "GHMM ghmm.py:3746 - forward returned -1: Sequence 8 cannot be build.\n"
       ]
      },
      {
       "output_type": "stream",
       "stream": "stderr",
       "text": [
        "WARNING:GHMM:forward returned -1: Sequence 8 cannot be build.\n"
       ]
      },
      {
       "output_type": "stream",
       "stream": "stderr",
       "text": [
        "GHMM ghmm.py:3746 - forward returned -1: Sequence 10 cannot be build.\n"
       ]
      },
      {
       "output_type": "stream",
       "stream": "stderr",
       "text": [
        "WARNING:GHMM:forward returned -1: Sequence 10 cannot be build.\n"
       ]
      },
      {
       "output_type": "stream",
       "stream": "stderr",
       "text": [
        "GHMM ghmm.py:3746 - forward returned -1: Sequence 1 cannot be build.\n"
       ]
      },
      {
       "output_type": "stream",
       "stream": "stderr",
       "text": [
        "WARNING:GHMM:forward returned -1: Sequence 1 cannot be build.\n"
       ]
      },
      {
       "output_type": "stream",
       "stream": "stderr",
       "text": [
        "GHMM ghmm.py:3746 - forward returned -1: Sequence 2 cannot be build.\n"
       ]
      },
      {
       "output_type": "stream",
       "stream": "stderr",
       "text": [
        "WARNING:GHMM:forward returned -1: Sequence 2 cannot be build.\n"
       ]
      },
      {
       "output_type": "stream",
       "stream": "stderr",
       "text": [
        "GHMM ghmm.py:3746 - forward returned -1: Sequence 3 cannot be build.\n"
       ]
      },
      {
       "output_type": "stream",
       "stream": "stderr",
       "text": [
        "WARNING:GHMM:forward returned -1: Sequence 3 cannot be build.\n"
       ]
      },
      {
       "output_type": "stream",
       "stream": "stderr",
       "text": [
        "GHMM ghmm.py:3746 - forward returned -1: Sequence 5 cannot be build.\n"
       ]
      },
      {
       "output_type": "stream",
       "stream": "stderr",
       "text": [
        "WARNING:GHMM:forward returned -1: Sequence 5 cannot be build.\n"
       ]
      },
      {
       "output_type": "stream",
       "stream": "stderr",
       "text": [
        "GHMM ghmm.py:3746 - forward returned -1: Sequence 8 cannot be build.\n"
       ]
      },
      {
       "output_type": "stream",
       "stream": "stderr",
       "text": [
        "WARNING:GHMM:forward returned -1: Sequence 8 cannot be build.\n"
       ]
      },
      {
       "output_type": "stream",
       "stream": "stderr",
       "text": [
        "GHMM ghmm.py:3746 - forward returned -1: Sequence 10 cannot be build.\n"
       ]
      },
      {
       "output_type": "stream",
       "stream": "stderr",
       "text": [
        "WARNING:GHMM:forward returned -1: Sequence 10 cannot be build.\n"
       ]
      },
      {
       "output_type": "stream",
       "stream": "stderr",
       "text": [
        "GHMM ghmm.py:3746 - forward returned -1: Sequence 1 cannot be build.\n"
       ]
      },
      {
       "output_type": "stream",
       "stream": "stderr",
       "text": [
        "WARNING:GHMM:forward returned -1: Sequence 1 cannot be build.\n"
       ]
      },
      {
       "output_type": "stream",
       "stream": "stderr",
       "text": [
        "GHMM ghmm.py:3746 - forward returned -1: Sequence 2 cannot be build.\n"
       ]
      },
      {
       "output_type": "stream",
       "stream": "stderr",
       "text": [
        "WARNING:GHMM:forward returned -1: Sequence 2 cannot be build.\n"
       ]
      },
      {
       "output_type": "stream",
       "stream": "stderr",
       "text": [
        "GHMM ghmm.py:3746 - forward returned -1: Sequence 3 cannot be build.\n"
       ]
      },
      {
       "output_type": "stream",
       "stream": "stderr",
       "text": [
        "WARNING:GHMM:forward returned -1: Sequence 3 cannot be build.\n"
       ]
      },
      {
       "output_type": "stream",
       "stream": "stderr",
       "text": [
        "GHMM ghmm.py:3746 - forward returned -1: Sequence 5 cannot be build.\n"
       ]
      },
      {
       "output_type": "stream",
       "stream": "stderr",
       "text": [
        "WARNING:GHMM:forward returned -1: Sequence 5 cannot be build.\n"
       ]
      },
      {
       "output_type": "stream",
       "stream": "stderr",
       "text": [
        "GHMM ghmm.py:3746 - forward returned -1: Sequence 8 cannot be build.\n"
       ]
      },
      {
       "output_type": "stream",
       "stream": "stderr",
       "text": [
        "WARNING:GHMM:forward returned -1: Sequence 8 cannot be build.\n"
       ]
      },
      {
       "output_type": "stream",
       "stream": "stderr",
       "text": [
        "GHMM ghmm.py:3746 - forward returned -1: Sequence 10 cannot be build.\n"
       ]
      },
      {
       "output_type": "stream",
       "stream": "stderr",
       "text": [
        "WARNING:GHMM:forward returned -1: Sequence 10 cannot be build.\n"
       ]
      },
      {
       "output_type": "stream",
       "stream": "stderr",
       "text": [
        "GHMM ghmm.py:3746 - forward returned -1: Sequence 0 cannot be build.\n"
       ]
      },
      {
       "output_type": "stream",
       "stream": "stderr",
       "text": [
        "WARNING:GHMM:forward returned -1: Sequence 0 cannot be build.\n"
       ]
      },
      {
       "output_type": "stream",
       "stream": "stderr",
       "text": [
        "GHMM ghmm.py:3746 - forward returned -1: Sequence 1 cannot be build.\n"
       ]
      },
      {
       "output_type": "stream",
       "stream": "stderr",
       "text": [
        "WARNING:GHMM:forward returned -1: Sequence 1 cannot be build.\n"
       ]
      },
      {
       "output_type": "stream",
       "stream": "stderr",
       "text": [
        "GHMM ghmm.py:3746 - forward returned -1: Sequence 2 cannot be build.\n"
       ]
      },
      {
       "output_type": "stream",
       "stream": "stderr",
       "text": [
        "WARNING:GHMM:forward returned -1: Sequence 2 cannot be build.\n"
       ]
      },
      {
       "output_type": "stream",
       "stream": "stderr",
       "text": [
        "GHMM ghmm.py:3746 - forward returned -1: Sequence 3 cannot be build.\n"
       ]
      },
      {
       "output_type": "stream",
       "stream": "stderr",
       "text": [
        "WARNING:GHMM:forward returned -1: Sequence 3 cannot be build.\n"
       ]
      },
      {
       "output_type": "stream",
       "stream": "stderr",
       "text": [
        "GHMM ghmm.py:3746 - forward returned -1: Sequence 4 cannot be build.\n"
       ]
      },
      {
       "output_type": "stream",
       "stream": "stderr",
       "text": [
        "WARNING:GHMM:forward returned -1: Sequence 4 cannot be build.\n"
       ]
      },
      {
       "output_type": "stream",
       "stream": "stderr",
       "text": [
        "GHMM ghmm.py:3746 - forward returned -1: Sequence 5 cannot be build.\n"
       ]
      },
      {
       "output_type": "stream",
       "stream": "stderr",
       "text": [
        "WARNING:GHMM:forward returned -1: Sequence 5 cannot be build.\n"
       ]
      },
      {
       "output_type": "stream",
       "stream": "stderr",
       "text": [
        "GHMM ghmm.py:3746 - forward returned -1: Sequence 6 cannot be build.\n"
       ]
      },
      {
       "output_type": "stream",
       "stream": "stderr",
       "text": [
        "WARNING:GHMM:forward returned -1: Sequence 6 cannot be build.\n"
       ]
      },
      {
       "output_type": "stream",
       "stream": "stderr",
       "text": [
        "GHMM ghmm.py:3746 - forward returned -1: Sequence 7 cannot be build.\n"
       ]
      },
      {
       "output_type": "stream",
       "stream": "stderr",
       "text": [
        "WARNING:GHMM:forward returned -1: Sequence 7 cannot be build.\n"
       ]
      },
      {
       "output_type": "stream",
       "stream": "stderr",
       "text": [
        "GHMM ghmm.py:3746 - forward returned -1: Sequence 8 cannot be build.\n"
       ]
      },
      {
       "output_type": "stream",
       "stream": "stderr",
       "text": [
        "WARNING:GHMM:forward returned -1: Sequence 8 cannot be build.\n"
       ]
      },
      {
       "output_type": "stream",
       "stream": "stderr",
       "text": [
        "GHMM ghmm.py:3746 - forward returned -1: Sequence 9 cannot be build.\n"
       ]
      },
      {
       "output_type": "stream",
       "stream": "stderr",
       "text": [
        "WARNING:GHMM:forward returned -1: Sequence 9 cannot be build.\n"
       ]
      },
      {
       "output_type": "stream",
       "stream": "stderr",
       "text": [
        "GHMM ghmm.py:3746 - forward returned -1: Sequence 10 cannot be build.\n"
       ]
      },
      {
       "output_type": "stream",
       "stream": "stderr",
       "text": [
        "WARNING:GHMM:forward returned -1: Sequence 10 cannot be build.\n"
       ]
      },
      {
       "output_type": "stream",
       "stream": "stderr",
       "text": [
        "GHMM ghmm.py:3746 - forward returned -1: Sequence 11 cannot be build.\n"
       ]
      },
      {
       "output_type": "stream",
       "stream": "stderr",
       "text": [
        "WARNING:GHMM:forward returned -1: Sequence 11 cannot be build.\n"
       ]
      },
      {
       "output_type": "stream",
       "stream": "stderr",
       "text": [
        "GHMM ghmm.py:3746 - forward returned -1: Sequence 0 cannot be build.\n"
       ]
      },
      {
       "output_type": "stream",
       "stream": "stderr",
       "text": [
        "WARNING:GHMM:forward returned -1: Sequence 0 cannot be build.\n"
       ]
      },
      {
       "output_type": "stream",
       "stream": "stderr",
       "text": [
        "GHMM ghmm.py:3746 - forward returned -1: Sequence 1 cannot be build.\n"
       ]
      },
      {
       "output_type": "stream",
       "stream": "stderr",
       "text": [
        "WARNING:GHMM:forward returned -1: Sequence 1 cannot be build.\n"
       ]
      },
      {
       "output_type": "stream",
       "stream": "stderr",
       "text": [
        "GHMM ghmm.py:3746 - forward returned -1: Sequence 2 cannot be build.\n"
       ]
      },
      {
       "output_type": "stream",
       "stream": "stderr",
       "text": [
        "WARNING:GHMM:forward returned -1: Sequence 2 cannot be build.\n"
       ]
      },
      {
       "output_type": "stream",
       "stream": "stderr",
       "text": [
        "GHMM ghmm.py:3746 - forward returned -1: Sequence 3 cannot be build.\n"
       ]
      },
      {
       "output_type": "stream",
       "stream": "stderr",
       "text": [
        "WARNING:GHMM:forward returned -1: Sequence 3 cannot be build.\n"
       ]
      },
      {
       "output_type": "stream",
       "stream": "stderr",
       "text": [
        "GHMM ghmm.py:3746 - forward returned -1: Sequence 4 cannot be build.\n"
       ]
      },
      {
       "output_type": "stream",
       "stream": "stderr",
       "text": [
        "WARNING:GHMM:forward returned -1: Sequence 4 cannot be build.\n"
       ]
      },
      {
       "output_type": "stream",
       "stream": "stderr",
       "text": [
        "GHMM ghmm.py:3746 - forward returned -1: Sequence 5 cannot be build.\n"
       ]
      },
      {
       "output_type": "stream",
       "stream": "stderr",
       "text": [
        "WARNING:GHMM:forward returned -1: Sequence 5 cannot be build.\n"
       ]
      },
      {
       "output_type": "stream",
       "stream": "stderr",
       "text": [
        "GHMM ghmm.py:3746 - forward returned -1: Sequence 6 cannot be build.\n"
       ]
      },
      {
       "output_type": "stream",
       "stream": "stderr",
       "text": [
        "WARNING:GHMM:forward returned -1: Sequence 6 cannot be build.\n"
       ]
      },
      {
       "output_type": "stream",
       "stream": "stderr",
       "text": [
        "GHMM ghmm.py:3746 - forward returned -1: Sequence 7 cannot be build.\n"
       ]
      },
      {
       "output_type": "stream",
       "stream": "stderr",
       "text": [
        "WARNING:GHMM:forward returned -1: Sequence 7 cannot be build.\n"
       ]
      },
      {
       "output_type": "stream",
       "stream": "stderr",
       "text": [
        "GHMM ghmm.py:3746 - forward returned -1: Sequence 8 cannot be build.\n"
       ]
      },
      {
       "output_type": "stream",
       "stream": "stderr",
       "text": [
        "WARNING:GHMM:forward returned -1: Sequence 8 cannot be build.\n"
       ]
      },
      {
       "output_type": "stream",
       "stream": "stderr",
       "text": [
        "GHMM ghmm.py:3746 - forward returned -1: Sequence 9 cannot be build.\n"
       ]
      },
      {
       "output_type": "stream",
       "stream": "stderr",
       "text": [
        "WARNING:GHMM:forward returned -1: Sequence 9 cannot be build.\n"
       ]
      },
      {
       "output_type": "stream",
       "stream": "stderr",
       "text": [
        "GHMM ghmm.py:3746 - forward returned -1: Sequence 10 cannot be build.\n"
       ]
      },
      {
       "output_type": "stream",
       "stream": "stderr",
       "text": [
        "WARNING:GHMM:forward returned -1: Sequence 10 cannot be build.\n"
       ]
      },
      {
       "output_type": "stream",
       "stream": "stderr",
       "text": [
        "GHMM ghmm.py:3746 - forward returned -1: Sequence 11 cannot be build.\n"
       ]
      },
      {
       "output_type": "stream",
       "stream": "stderr",
       "text": [
        "WARNING:GHMM:forward returned -1: Sequence 11 cannot be build.\n"
       ]
      },
      {
       "output_type": "stream",
       "stream": "stderr",
       "text": [
        "GHMM ghmm.py:3746 - forward returned -1: Sequence 0 cannot be build.\n"
       ]
      },
      {
       "output_type": "stream",
       "stream": "stderr",
       "text": [
        "WARNING:GHMM:forward returned -1: Sequence 0 cannot be build.\n"
       ]
      },
      {
       "output_type": "stream",
       "stream": "stderr",
       "text": [
        "GHMM ghmm.py:3746 - forward returned -1: Sequence 1 cannot be build.\n"
       ]
      },
      {
       "output_type": "stream",
       "stream": "stderr",
       "text": [
        "WARNING:GHMM:forward returned -1: Sequence 1 cannot be build.\n"
       ]
      },
      {
       "output_type": "stream",
       "stream": "stderr",
       "text": [
        "GHMM ghmm.py:3746 - forward returned -1: Sequence 2 cannot be build.\n"
       ]
      },
      {
       "output_type": "stream",
       "stream": "stderr",
       "text": [
        "WARNING:GHMM:forward returned -1: Sequence 2 cannot be build.\n"
       ]
      },
      {
       "output_type": "stream",
       "stream": "stderr",
       "text": [
        "GHMM ghmm.py:3746 - forward returned -1: Sequence 3 cannot be build.\n"
       ]
      },
      {
       "output_type": "stream",
       "stream": "stderr",
       "text": [
        "WARNING:GHMM:forward returned -1: Sequence 3 cannot be build.\n"
       ]
      },
      {
       "output_type": "stream",
       "stream": "stderr",
       "text": [
        "GHMM ghmm.py:3746 - forward returned -1: Sequence 4 cannot be build.\n"
       ]
      },
      {
       "output_type": "stream",
       "stream": "stderr",
       "text": [
        "WARNING:GHMM:forward returned -1: Sequence 4 cannot be build.\n"
       ]
      },
      {
       "output_type": "stream",
       "stream": "stderr",
       "text": [
        "GHMM ghmm.py:3746 - forward returned -1: Sequence 5 cannot be build.\n"
       ]
      },
      {
       "output_type": "stream",
       "stream": "stderr",
       "text": [
        "WARNING:GHMM:forward returned -1: Sequence 5 cannot be build.\n"
       ]
      },
      {
       "output_type": "stream",
       "stream": "stderr",
       "text": [
        "GHMM ghmm.py:3746 - forward returned -1: Sequence 6 cannot be build.\n"
       ]
      },
      {
       "output_type": "stream",
       "stream": "stderr",
       "text": [
        "WARNING:GHMM:forward returned -1: Sequence 6 cannot be build.\n"
       ]
      },
      {
       "output_type": "stream",
       "stream": "stderr",
       "text": [
        "GHMM ghmm.py:3746 - forward returned -1: Sequence 7 cannot be build.\n"
       ]
      },
      {
       "output_type": "stream",
       "stream": "stderr",
       "text": [
        "WARNING:GHMM:forward returned -1: Sequence 7 cannot be build.\n"
       ]
      },
      {
       "output_type": "stream",
       "stream": "stderr",
       "text": [
        "GHMM ghmm.py:3746 - forward returned -1: Sequence 8 cannot be build.\n"
       ]
      },
      {
       "output_type": "stream",
       "stream": "stderr",
       "text": [
        "WARNING:GHMM:forward returned -1: Sequence 8 cannot be build.\n"
       ]
      },
      {
       "output_type": "stream",
       "stream": "stderr",
       "text": [
        "GHMM ghmm.py:3746 - forward returned -1: Sequence 9 cannot be build.\n"
       ]
      },
      {
       "output_type": "stream",
       "stream": "stderr",
       "text": [
        "WARNING:GHMM:forward returned -1: Sequence 9 cannot be build.\n"
       ]
      },
      {
       "output_type": "stream",
       "stream": "stderr",
       "text": [
        "GHMM ghmm.py:3746 - forward returned -1: Sequence 10 cannot be build.\n"
       ]
      },
      {
       "output_type": "stream",
       "stream": "stderr",
       "text": [
        "WARNING:GHMM:forward returned -1: Sequence 10 cannot be build.\n"
       ]
      },
      {
       "output_type": "stream",
       "stream": "stderr",
       "text": [
        "GHMM ghmm.py:3746 - forward returned -1: Sequence 11 cannot be build.\n"
       ]
      },
      {
       "output_type": "stream",
       "stream": "stderr",
       "text": [
        "WARNING:GHMM:forward returned -1: Sequence 11 cannot be build.\n"
       ]
      },
      {
       "output_type": "stream",
       "stream": "stderr",
       "text": [
        "GHMM ghmm.py:3746 - forward returned -1: Sequence 0 cannot be build.\n"
       ]
      },
      {
       "output_type": "stream",
       "stream": "stderr",
       "text": [
        "WARNING:GHMM:forward returned -1: Sequence 0 cannot be build.\n"
       ]
      },
      {
       "output_type": "stream",
       "stream": "stderr",
       "text": [
        "GHMM ghmm.py:3746 - forward returned -1: Sequence 1 cannot be build.\n"
       ]
      },
      {
       "output_type": "stream",
       "stream": "stderr",
       "text": [
        "WARNING:GHMM:forward returned -1: Sequence 1 cannot be build.\n"
       ]
      },
      {
       "output_type": "stream",
       "stream": "stderr",
       "text": [
        "GHMM ghmm.py:3746 - forward returned -1: Sequence 2 cannot be build.\n"
       ]
      },
      {
       "output_type": "stream",
       "stream": "stderr",
       "text": [
        "WARNING:GHMM:forward returned -1: Sequence 2 cannot be build.\n"
       ]
      },
      {
       "output_type": "stream",
       "stream": "stderr",
       "text": [
        "GHMM ghmm.py:3746 - forward returned -1: Sequence 3 cannot be build.\n"
       ]
      },
      {
       "output_type": "stream",
       "stream": "stderr",
       "text": [
        "WARNING:GHMM:forward returned -1: Sequence 3 cannot be build.\n"
       ]
      },
      {
       "output_type": "stream",
       "stream": "stderr",
       "text": [
        "GHMM ghmm.py:3746 - forward returned -1: Sequence 4 cannot be build.\n"
       ]
      },
      {
       "output_type": "stream",
       "stream": "stderr",
       "text": [
        "WARNING:GHMM:forward returned -1: Sequence 4 cannot be build.\n"
       ]
      },
      {
       "output_type": "stream",
       "stream": "stderr",
       "text": [
        "GHMM ghmm.py:3746 - forward returned -1: Sequence 5 cannot be build.\n"
       ]
      },
      {
       "output_type": "stream",
       "stream": "stderr",
       "text": [
        "WARNING:GHMM:forward returned -1: Sequence 5 cannot be build.\n"
       ]
      },
      {
       "output_type": "stream",
       "stream": "stderr",
       "text": [
        "GHMM ghmm.py:3746 - forward returned -1: Sequence 6 cannot be build.\n"
       ]
      },
      {
       "output_type": "stream",
       "stream": "stderr",
       "text": [
        "WARNING:GHMM:forward returned -1: Sequence 6 cannot be build.\n"
       ]
      },
      {
       "output_type": "stream",
       "stream": "stderr",
       "text": [
        "GHMM ghmm.py:3746 - forward returned -1: Sequence 7 cannot be build.\n"
       ]
      },
      {
       "output_type": "stream",
       "stream": "stderr",
       "text": [
        "WARNING:GHMM:forward returned -1: Sequence 7 cannot be build.\n"
       ]
      },
      {
       "output_type": "stream",
       "stream": "stderr",
       "text": [
        "GHMM ghmm.py:3746 - forward returned -1: Sequence 8 cannot be build.\n"
       ]
      },
      {
       "output_type": "stream",
       "stream": "stderr",
       "text": [
        "WARNING:GHMM:forward returned -1: Sequence 8 cannot be build.\n"
       ]
      },
      {
       "output_type": "stream",
       "stream": "stderr",
       "text": [
        "GHMM ghmm.py:3746 - forward returned -1: Sequence 9 cannot be build.\n"
       ]
      },
      {
       "output_type": "stream",
       "stream": "stderr",
       "text": [
        "WARNING:GHMM:forward returned -1: Sequence 9 cannot be build.\n"
       ]
      },
      {
       "output_type": "stream",
       "stream": "stderr",
       "text": [
        "GHMM ghmm.py:3746 - forward returned -1: Sequence 10 cannot be build.\n"
       ]
      },
      {
       "output_type": "stream",
       "stream": "stderr",
       "text": [
        "WARNING:GHMM:forward returned -1: Sequence 10 cannot be build.\n"
       ]
      },
      {
       "output_type": "stream",
       "stream": "stderr",
       "text": [
        "GHMM ghmm.py:3746 - forward returned -1: Sequence 11 cannot be build.\n"
       ]
      },
      {
       "output_type": "stream",
       "stream": "stderr",
       "text": [
        "WARNING:GHMM:forward returned -1: Sequence 11 cannot be build.\n"
       ]
      },
      {
       "output_type": "stream",
       "stream": "stderr",
       "text": [
        "GHMM ghmm.py:3746 - forward returned -1: Sequence 0 cannot be build.\n"
       ]
      },
      {
       "output_type": "stream",
       "stream": "stderr",
       "text": [
        "WARNING:GHMM:forward returned -1: Sequence 0 cannot be build.\n"
       ]
      },
      {
       "output_type": "stream",
       "stream": "stderr",
       "text": [
        "GHMM ghmm.py:3746 - forward returned -1: Sequence 1 cannot be build.\n"
       ]
      },
      {
       "output_type": "stream",
       "stream": "stderr",
       "text": [
        "WARNING:GHMM:forward returned -1: Sequence 1 cannot be build.\n"
       ]
      },
      {
       "output_type": "stream",
       "stream": "stderr",
       "text": [
        "GHMM ghmm.py:3746 - forward returned -1: Sequence 2 cannot be build.\n"
       ]
      },
      {
       "output_type": "stream",
       "stream": "stderr",
       "text": [
        "WARNING:GHMM:forward returned -1: Sequence 2 cannot be build.\n"
       ]
      },
      {
       "output_type": "stream",
       "stream": "stderr",
       "text": [
        "GHMM ghmm.py:3746 - forward returned -1: Sequence 3 cannot be build.\n"
       ]
      },
      {
       "output_type": "stream",
       "stream": "stderr",
       "text": [
        "WARNING:GHMM:forward returned -1: Sequence 3 cannot be build.\n"
       ]
      },
      {
       "output_type": "stream",
       "stream": "stderr",
       "text": [
        "GHMM ghmm.py:3746 - forward returned -1: Sequence 4 cannot be build.\n"
       ]
      },
      {
       "output_type": "stream",
       "stream": "stderr",
       "text": [
        "WARNING:GHMM:forward returned -1: Sequence 4 cannot be build.\n"
       ]
      },
      {
       "output_type": "stream",
       "stream": "stderr",
       "text": [
        "GHMM ghmm.py:3746 - forward returned -1: Sequence 5 cannot be build.\n"
       ]
      },
      {
       "output_type": "stream",
       "stream": "stderr",
       "text": [
        "WARNING:GHMM:forward returned -1: Sequence 5 cannot be build.\n"
       ]
      },
      {
       "output_type": "stream",
       "stream": "stderr",
       "text": [
        "GHMM ghmm.py:3746 - forward returned -1: Sequence 6 cannot be build.\n"
       ]
      },
      {
       "output_type": "stream",
       "stream": "stderr",
       "text": [
        "WARNING:GHMM:forward returned -1: Sequence 6 cannot be build.\n"
       ]
      },
      {
       "output_type": "stream",
       "stream": "stderr",
       "text": [
        "GHMM ghmm.py:3746 - forward returned -1: Sequence 7 cannot be build.\n"
       ]
      },
      {
       "output_type": "stream",
       "stream": "stderr",
       "text": [
        "WARNING:GHMM:forward returned -1: Sequence 7 cannot be build.\n"
       ]
      },
      {
       "output_type": "stream",
       "stream": "stderr",
       "text": [
        "GHMM ghmm.py:3746 - forward returned -1: Sequence 8 cannot be build.\n"
       ]
      },
      {
       "output_type": "stream",
       "stream": "stderr",
       "text": [
        "WARNING:GHMM:forward returned -1: Sequence 8 cannot be build.\n"
       ]
      },
      {
       "output_type": "stream",
       "stream": "stderr",
       "text": [
        "GHMM ghmm.py:3746 - forward returned -1: Sequence 9 cannot be build.\n"
       ]
      },
      {
       "output_type": "stream",
       "stream": "stderr",
       "text": [
        "WARNING:GHMM:forward returned -1: Sequence 9 cannot be build.\n"
       ]
      },
      {
       "output_type": "stream",
       "stream": "stderr",
       "text": [
        "GHMM ghmm.py:3746 - forward returned -1: Sequence 10 cannot be build.\n"
       ]
      },
      {
       "output_type": "stream",
       "stream": "stderr",
       "text": [
        "WARNING:GHMM:forward returned -1: Sequence 10 cannot be build.\n"
       ]
      },
      {
       "output_type": "stream",
       "stream": "stderr",
       "text": [
        "GHMM ghmm.py:3746 - forward returned -1: Sequence 11 cannot be build.\n"
       ]
      },
      {
       "output_type": "stream",
       "stream": "stderr",
       "text": [
        "WARNING:GHMM:forward returned -1: Sequence 11 cannot be build.\n"
       ]
      },
      {
       "output_type": "stream",
       "stream": "stderr",
       "text": [
        "GHMM ghmm.py:3746 - forward returned -1: Sequence 0 cannot be build.\n"
       ]
      },
      {
       "output_type": "stream",
       "stream": "stderr",
       "text": [
        "WARNING:GHMM:forward returned -1: Sequence 0 cannot be build.\n"
       ]
      },
      {
       "output_type": "stream",
       "stream": "stderr",
       "text": [
        "GHMM ghmm.py:3746 - forward returned -1: Sequence 1 cannot be build.\n"
       ]
      },
      {
       "output_type": "stream",
       "stream": "stderr",
       "text": [
        "WARNING:GHMM:forward returned -1: Sequence 1 cannot be build.\n"
       ]
      },
      {
       "output_type": "stream",
       "stream": "stderr",
       "text": [
        "GHMM ghmm.py:3746 - forward returned -1: Sequence 2 cannot be build.\n"
       ]
      },
      {
       "output_type": "stream",
       "stream": "stderr",
       "text": [
        "WARNING:GHMM:forward returned -1: Sequence 2 cannot be build.\n"
       ]
      },
      {
       "output_type": "stream",
       "stream": "stderr",
       "text": [
        "GHMM ghmm.py:3746 - forward returned -1: Sequence 3 cannot be build.\n"
       ]
      },
      {
       "output_type": "stream",
       "stream": "stderr",
       "text": [
        "WARNING:GHMM:forward returned -1: Sequence 3 cannot be build.\n"
       ]
      },
      {
       "output_type": "stream",
       "stream": "stderr",
       "text": [
        "GHMM ghmm.py:3746 - forward returned -1: Sequence 4 cannot be build.\n"
       ]
      },
      {
       "output_type": "stream",
       "stream": "stderr",
       "text": [
        "WARNING:GHMM:forward returned -1: Sequence 4 cannot be build.\n"
       ]
      },
      {
       "output_type": "stream",
       "stream": "stderr",
       "text": [
        "GHMM ghmm.py:3746 - forward returned -1: Sequence 5 cannot be build.\n"
       ]
      },
      {
       "output_type": "stream",
       "stream": "stderr",
       "text": [
        "WARNING:GHMM:forward returned -1: Sequence 5 cannot be build.\n"
       ]
      },
      {
       "output_type": "stream",
       "stream": "stderr",
       "text": [
        "GHMM ghmm.py:3746 - forward returned -1: Sequence 6 cannot be build.\n"
       ]
      },
      {
       "output_type": "stream",
       "stream": "stderr",
       "text": [
        "WARNING:GHMM:forward returned -1: Sequence 6 cannot be build.\n"
       ]
      },
      {
       "output_type": "stream",
       "stream": "stderr",
       "text": [
        "GHMM ghmm.py:3746 - forward returned -1: Sequence 7 cannot be build.\n"
       ]
      },
      {
       "output_type": "stream",
       "stream": "stderr",
       "text": [
        "WARNING:GHMM:forward returned -1: Sequence 7 cannot be build.\n"
       ]
      },
      {
       "output_type": "stream",
       "stream": "stderr",
       "text": [
        "GHMM ghmm.py:3746 - forward returned -1: Sequence 8 cannot be build.\n"
       ]
      },
      {
       "output_type": "stream",
       "stream": "stderr",
       "text": [
        "WARNING:GHMM:forward returned -1: Sequence 8 cannot be build.\n"
       ]
      },
      {
       "output_type": "stream",
       "stream": "stderr",
       "text": [
        "GHMM ghmm.py:3746 - forward returned -1: Sequence 9 cannot be build.\n"
       ]
      },
      {
       "output_type": "stream",
       "stream": "stderr",
       "text": [
        "WARNING:GHMM:forward returned -1: Sequence 9 cannot be build.\n"
       ]
      },
      {
       "output_type": "stream",
       "stream": "stderr",
       "text": [
        "GHMM ghmm.py:3746 - forward returned -1: Sequence 10 cannot be build.\n"
       ]
      },
      {
       "output_type": "stream",
       "stream": "stderr",
       "text": [
        "WARNING:GHMM:forward returned -1: Sequence 10 cannot be build.\n"
       ]
      },
      {
       "output_type": "stream",
       "stream": "stderr",
       "text": [
        "GHMM ghmm.py:3746 - forward returned -1: Sequence 11 cannot be build.\n"
       ]
      },
      {
       "output_type": "stream",
       "stream": "stderr",
       "text": [
        "WARNING:GHMM:forward returned -1: Sequence 11 cannot be build.\n"
       ]
      },
      {
       "output_type": "stream",
       "stream": "stderr",
       "text": [
        "GHMM ghmm.py:3746 - forward returned -1: Sequence 1 cannot be build.\n"
       ]
      },
      {
       "output_type": "stream",
       "stream": "stderr",
       "text": [
        "WARNING:GHMM:forward returned -1: Sequence 1 cannot be build.\n"
       ]
      },
      {
       "output_type": "stream",
       "stream": "stderr",
       "text": [
        "GHMM ghmm.py:3746 - forward returned -1: Sequence 2 cannot be build.\n"
       ]
      },
      {
       "output_type": "stream",
       "stream": "stderr",
       "text": [
        "WARNING:GHMM:forward returned -1: Sequence 2 cannot be build.\n"
       ]
      },
      {
       "output_type": "stream",
       "stream": "stderr",
       "text": [
        "GHMM ghmm.py:3746 - forward returned -1: Sequence 3 cannot be build.\n"
       ]
      },
      {
       "output_type": "stream",
       "stream": "stderr",
       "text": [
        "WARNING:GHMM:forward returned -1: Sequence 3 cannot be build.\n"
       ]
      },
      {
       "output_type": "stream",
       "stream": "stderr",
       "text": [
        "GHMM ghmm.py:3746 - forward returned -1: Sequence 5 cannot be build.\n"
       ]
      },
      {
       "output_type": "stream",
       "stream": "stderr",
       "text": [
        "WARNING:GHMM:forward returned -1: Sequence 5 cannot be build.\n"
       ]
      },
      {
       "output_type": "stream",
       "stream": "stderr",
       "text": [
        "GHMM ghmm.py:3746 - forward returned -1: Sequence 8 cannot be build.\n"
       ]
      },
      {
       "output_type": "stream",
       "stream": "stderr",
       "text": [
        "WARNING:GHMM:forward returned -1: Sequence 8 cannot be build.\n"
       ]
      },
      {
       "output_type": "stream",
       "stream": "stderr",
       "text": [
        "GHMM ghmm.py:3746 - forward returned -1: Sequence 10 cannot be build.\n"
       ]
      },
      {
       "output_type": "stream",
       "stream": "stderr",
       "text": [
        "WARNING:GHMM:forward returned -1: Sequence 10 cannot be build.\n"
       ]
      },
      {
       "output_type": "stream",
       "stream": "stderr",
       "text": [
        "GHMM ghmm.py:3746 - forward returned -1: Sequence 1 cannot be build.\n"
       ]
      },
      {
       "output_type": "stream",
       "stream": "stderr",
       "text": [
        "WARNING:GHMM:forward returned -1: Sequence 1 cannot be build.\n"
       ]
      },
      {
       "output_type": "stream",
       "stream": "stderr",
       "text": [
        "GHMM ghmm.py:3746 - forward returned -1: Sequence 2 cannot be build.\n"
       ]
      },
      {
       "output_type": "stream",
       "stream": "stderr",
       "text": [
        "WARNING:GHMM:forward returned -1: Sequence 2 cannot be build.\n"
       ]
      },
      {
       "output_type": "stream",
       "stream": "stderr",
       "text": [
        "GHMM ghmm.py:3746 - forward returned -1: Sequence 3 cannot be build.\n"
       ]
      },
      {
       "output_type": "stream",
       "stream": "stderr",
       "text": [
        "WARNING:GHMM:forward returned -1: Sequence 3 cannot be build.\n"
       ]
      },
      {
       "output_type": "stream",
       "stream": "stderr",
       "text": [
        "GHMM ghmm.py:3746 - forward returned -1: Sequence 5 cannot be build.\n"
       ]
      },
      {
       "output_type": "stream",
       "stream": "stderr",
       "text": [
        "WARNING:GHMM:forward returned -1: Sequence 5 cannot be build.\n"
       ]
      },
      {
       "output_type": "stream",
       "stream": "stderr",
       "text": [
        "GHMM ghmm.py:3746 - forward returned -1: Sequence 8 cannot be build.\n"
       ]
      },
      {
       "output_type": "stream",
       "stream": "stderr",
       "text": [
        "WARNING:GHMM:forward returned -1: Sequence 8 cannot be build.\n"
       ]
      },
      {
       "output_type": "stream",
       "stream": "stderr",
       "text": [
        "GHMM ghmm.py:3746 - forward returned -1: Sequence 10 cannot be build.\n"
       ]
      },
      {
       "output_type": "stream",
       "stream": "stderr",
       "text": [
        "WARNING:GHMM:forward returned -1: Sequence 10 cannot be build.\n"
       ]
      },
      {
       "output_type": "stream",
       "stream": "stderr",
       "text": [
        "GHMM ghmm.py:3746 - forward returned -1: Sequence 1 cannot be build.\n"
       ]
      },
      {
       "output_type": "stream",
       "stream": "stderr",
       "text": [
        "WARNING:GHMM:forward returned -1: Sequence 1 cannot be build.\n"
       ]
      },
      {
       "output_type": "stream",
       "stream": "stderr",
       "text": [
        "GHMM ghmm.py:3746 - forward returned -1: Sequence 2 cannot be build.\n"
       ]
      },
      {
       "output_type": "stream",
       "stream": "stderr",
       "text": [
        "WARNING:GHMM:forward returned -1: Sequence 2 cannot be build.\n"
       ]
      },
      {
       "output_type": "stream",
       "stream": "stderr",
       "text": [
        "GHMM ghmm.py:3746 - forward returned -1: Sequence 3 cannot be build.\n"
       ]
      },
      {
       "output_type": "stream",
       "stream": "stderr",
       "text": [
        "WARNING:GHMM:forward returned -1: Sequence 3 cannot be build.\n"
       ]
      },
      {
       "output_type": "stream",
       "stream": "stderr",
       "text": [
        "GHMM ghmm.py:3746 - forward returned -1: Sequence 5 cannot be build.\n"
       ]
      },
      {
       "output_type": "stream",
       "stream": "stderr",
       "text": [
        "WARNING:GHMM:forward returned -1: Sequence 5 cannot be build.\n"
       ]
      },
      {
       "output_type": "stream",
       "stream": "stderr",
       "text": [
        "GHMM ghmm.py:3746 - forward returned -1: Sequence 8 cannot be build.\n"
       ]
      },
      {
       "output_type": "stream",
       "stream": "stderr",
       "text": [
        "WARNING:GHMM:forward returned -1: Sequence 8 cannot be build.\n"
       ]
      },
      {
       "output_type": "stream",
       "stream": "stderr",
       "text": [
        "GHMM ghmm.py:3746 - forward returned -1: Sequence 10 cannot be build.\n"
       ]
      },
      {
       "output_type": "stream",
       "stream": "stderr",
       "text": [
        "WARNING:GHMM:forward returned -1: Sequence 10 cannot be build.\n"
       ]
      },
      {
       "output_type": "stream",
       "stream": "stderr",
       "text": [
        "GHMM ghmm.py:3746 - forward returned -1: Sequence 0 cannot be build.\n"
       ]
      },
      {
       "output_type": "stream",
       "stream": "stderr",
       "text": [
        "WARNING:GHMM:forward returned -1: Sequence 0 cannot be build.\n"
       ]
      },
      {
       "output_type": "stream",
       "stream": "stderr",
       "text": [
        "GHMM ghmm.py:3746 - forward returned -1: Sequence 1 cannot be build.\n"
       ]
      },
      {
       "output_type": "stream",
       "stream": "stderr",
       "text": [
        "WARNING:GHMM:forward returned -1: Sequence 1 cannot be build.\n"
       ]
      },
      {
       "output_type": "stream",
       "stream": "stderr",
       "text": [
        "GHMM ghmm.py:3746 - forward returned -1: Sequence 2 cannot be build.\n"
       ]
      },
      {
       "output_type": "stream",
       "stream": "stderr",
       "text": [
        "WARNING:GHMM:forward returned -1: Sequence 2 cannot be build.\n"
       ]
      },
      {
       "output_type": "stream",
       "stream": "stderr",
       "text": [
        "GHMM ghmm.py:3746 - forward returned -1: Sequence 3 cannot be build.\n"
       ]
      },
      {
       "output_type": "stream",
       "stream": "stderr",
       "text": [
        "WARNING:GHMM:forward returned -1: Sequence 3 cannot be build.\n"
       ]
      },
      {
       "output_type": "stream",
       "stream": "stderr",
       "text": [
        "GHMM ghmm.py:3746 - forward returned -1: Sequence 4 cannot be build.\n"
       ]
      },
      {
       "output_type": "stream",
       "stream": "stderr",
       "text": [
        "WARNING:GHMM:forward returned -1: Sequence 4 cannot be build.\n"
       ]
      },
      {
       "output_type": "stream",
       "stream": "stderr",
       "text": [
        "GHMM ghmm.py:3746 - forward returned -1: Sequence 5 cannot be build.\n"
       ]
      },
      {
       "output_type": "stream",
       "stream": "stderr",
       "text": [
        "WARNING:GHMM:forward returned -1: Sequence 5 cannot be build.\n"
       ]
      },
      {
       "output_type": "stream",
       "stream": "stderr",
       "text": [
        "GHMM ghmm.py:3746 - forward returned -1: Sequence 6 cannot be build.\n"
       ]
      },
      {
       "output_type": "stream",
       "stream": "stderr",
       "text": [
        "WARNING:GHMM:forward returned -1: Sequence 6 cannot be build.\n"
       ]
      },
      {
       "output_type": "stream",
       "stream": "stderr",
       "text": [
        "GHMM ghmm.py:3746 - forward returned -1: Sequence 7 cannot be build.\n"
       ]
      },
      {
       "output_type": "stream",
       "stream": "stderr",
       "text": [
        "WARNING:GHMM:forward returned -1: Sequence 7 cannot be build.\n"
       ]
      },
      {
       "output_type": "stream",
       "stream": "stderr",
       "text": [
        "GHMM ghmm.py:3746 - forward returned -1: Sequence 8 cannot be build.\n"
       ]
      },
      {
       "output_type": "stream",
       "stream": "stderr",
       "text": [
        "WARNING:GHMM:forward returned -1: Sequence 8 cannot be build.\n"
       ]
      },
      {
       "output_type": "stream",
       "stream": "stderr",
       "text": [
        "GHMM ghmm.py:3746 - forward returned -1: Sequence 9 cannot be build.\n"
       ]
      },
      {
       "output_type": "stream",
       "stream": "stderr",
       "text": [
        "WARNING:GHMM:forward returned -1: Sequence 9 cannot be build.\n"
       ]
      },
      {
       "output_type": "stream",
       "stream": "stderr",
       "text": [
        "GHMM ghmm.py:3746 - forward returned -1: Sequence 10 cannot be build.\n"
       ]
      },
      {
       "output_type": "stream",
       "stream": "stderr",
       "text": [
        "WARNING:GHMM:forward returned -1: Sequence 10 cannot be build.\n"
       ]
      },
      {
       "output_type": "stream",
       "stream": "stderr",
       "text": [
        "GHMM ghmm.py:3746 - forward returned -1: Sequence 11 cannot be build.\n"
       ]
      },
      {
       "output_type": "stream",
       "stream": "stderr",
       "text": [
        "WARNING:GHMM:forward returned -1: Sequence 11 cannot be build.\n"
       ]
      },
      {
       "output_type": "stream",
       "stream": "stderr",
       "text": [
        "GHMM ghmm.py:3746 - forward returned -1: Sequence 0 cannot be build.\n"
       ]
      },
      {
       "output_type": "stream",
       "stream": "stderr",
       "text": [
        "WARNING:GHMM:forward returned -1: Sequence 0 cannot be build.\n"
       ]
      },
      {
       "output_type": "stream",
       "stream": "stderr",
       "text": [
        "GHMM ghmm.py:3746 - forward returned -1: Sequence 1 cannot be build.\n"
       ]
      },
      {
       "output_type": "stream",
       "stream": "stderr",
       "text": [
        "WARNING:GHMM:forward returned -1: Sequence 1 cannot be build.\n"
       ]
      },
      {
       "output_type": "stream",
       "stream": "stderr",
       "text": [
        "GHMM ghmm.py:3746 - forward returned -1: Sequence 2 cannot be build.\n"
       ]
      },
      {
       "output_type": "stream",
       "stream": "stderr",
       "text": [
        "WARNING:GHMM:forward returned -1: Sequence 2 cannot be build.\n"
       ]
      },
      {
       "output_type": "stream",
       "stream": "stderr",
       "text": [
        "GHMM ghmm.py:3746 - forward returned -1: Sequence 3 cannot be build.\n"
       ]
      },
      {
       "output_type": "stream",
       "stream": "stderr",
       "text": [
        "WARNING:GHMM:forward returned -1: Sequence 3 cannot be build.\n"
       ]
      },
      {
       "output_type": "stream",
       "stream": "stderr",
       "text": [
        "GHMM ghmm.py:3746 - forward returned -1: Sequence 4 cannot be build.\n"
       ]
      },
      {
       "output_type": "stream",
       "stream": "stderr",
       "text": [
        "WARNING:GHMM:forward returned -1: Sequence 4 cannot be build.\n"
       ]
      },
      {
       "output_type": "stream",
       "stream": "stderr",
       "text": [
        "GHMM ghmm.py:3746 - forward returned -1: Sequence 5 cannot be build.\n"
       ]
      },
      {
       "output_type": "stream",
       "stream": "stderr",
       "text": [
        "WARNING:GHMM:forward returned -1: Sequence 5 cannot be build.\n"
       ]
      },
      {
       "output_type": "stream",
       "stream": "stderr",
       "text": [
        "GHMM ghmm.py:3746 - forward returned -1: Sequence 6 cannot be build.\n"
       ]
      },
      {
       "output_type": "stream",
       "stream": "stderr",
       "text": [
        "WARNING:GHMM:forward returned -1: Sequence 6 cannot be build.\n"
       ]
      },
      {
       "output_type": "stream",
       "stream": "stderr",
       "text": [
        "GHMM ghmm.py:3746 - forward returned -1: Sequence 7 cannot be build.\n"
       ]
      },
      {
       "output_type": "stream",
       "stream": "stderr",
       "text": [
        "WARNING:GHMM:forward returned -1: Sequence 7 cannot be build.\n"
       ]
      },
      {
       "output_type": "stream",
       "stream": "stderr",
       "text": [
        "GHMM ghmm.py:3746 - forward returned -1: Sequence 8 cannot be build.\n"
       ]
      },
      {
       "output_type": "stream",
       "stream": "stderr",
       "text": [
        "WARNING:GHMM:forward returned -1: Sequence 8 cannot be build.\n"
       ]
      },
      {
       "output_type": "stream",
       "stream": "stderr",
       "text": [
        "GHMM ghmm.py:3746 - forward returned -1: Sequence 9 cannot be build.\n"
       ]
      },
      {
       "output_type": "stream",
       "stream": "stderr",
       "text": [
        "WARNING:GHMM:forward returned -1: Sequence 9 cannot be build.\n"
       ]
      },
      {
       "output_type": "stream",
       "stream": "stderr",
       "text": [
        "GHMM ghmm.py:3746 - forward returned -1: Sequence 10 cannot be build.\n"
       ]
      },
      {
       "output_type": "stream",
       "stream": "stderr",
       "text": [
        "WARNING:GHMM:forward returned -1: Sequence 10 cannot be build.\n"
       ]
      },
      {
       "output_type": "stream",
       "stream": "stderr",
       "text": [
        "GHMM ghmm.py:3746 - forward returned -1: Sequence 11 cannot be build.\n"
       ]
      },
      {
       "output_type": "stream",
       "stream": "stderr",
       "text": [
        "WARNING:GHMM:forward returned -1: Sequence 11 cannot be build.\n"
       ]
      },
      {
       "output_type": "stream",
       "stream": "stderr",
       "text": [
        "GHMM ghmm.py:3746 - forward returned -1: Sequence 0 cannot be build.\n"
       ]
      },
      {
       "output_type": "stream",
       "stream": "stderr",
       "text": [
        "WARNING:GHMM:forward returned -1: Sequence 0 cannot be build.\n"
       ]
      },
      {
       "output_type": "stream",
       "stream": "stderr",
       "text": [
        "GHMM ghmm.py:3746 - forward returned -1: Sequence 1 cannot be build.\n"
       ]
      },
      {
       "output_type": "stream",
       "stream": "stderr",
       "text": [
        "WARNING:GHMM:forward returned -1: Sequence 1 cannot be build.\n"
       ]
      },
      {
       "output_type": "stream",
       "stream": "stderr",
       "text": [
        "GHMM ghmm.py:3746 - forward returned -1: Sequence 2 cannot be build.\n"
       ]
      },
      {
       "output_type": "stream",
       "stream": "stderr",
       "text": [
        "WARNING:GHMM:forward returned -1: Sequence 2 cannot be build.\n"
       ]
      },
      {
       "output_type": "stream",
       "stream": "stderr",
       "text": [
        "GHMM ghmm.py:3746 - forward returned -1: Sequence 3 cannot be build.\n"
       ]
      },
      {
       "output_type": "stream",
       "stream": "stderr",
       "text": [
        "WARNING:GHMM:forward returned -1: Sequence 3 cannot be build.\n"
       ]
      },
      {
       "output_type": "stream",
       "stream": "stderr",
       "text": [
        "GHMM ghmm.py:3746 - forward returned -1: Sequence 4 cannot be build.\n"
       ]
      },
      {
       "output_type": "stream",
       "stream": "stderr",
       "text": [
        "WARNING:GHMM:forward returned -1: Sequence 4 cannot be build.\n"
       ]
      },
      {
       "output_type": "stream",
       "stream": "stderr",
       "text": [
        "GHMM ghmm.py:3746 - forward returned -1: Sequence 5 cannot be build.\n"
       ]
      },
      {
       "output_type": "stream",
       "stream": "stderr",
       "text": [
        "WARNING:GHMM:forward returned -1: Sequence 5 cannot be build.\n"
       ]
      },
      {
       "output_type": "stream",
       "stream": "stderr",
       "text": [
        "GHMM ghmm.py:3746 - forward returned -1: Sequence 6 cannot be build.\n"
       ]
      },
      {
       "output_type": "stream",
       "stream": "stderr",
       "text": [
        "WARNING:GHMM:forward returned -1: Sequence 6 cannot be build.\n"
       ]
      },
      {
       "output_type": "stream",
       "stream": "stderr",
       "text": [
        "GHMM ghmm.py:3746 - forward returned -1: Sequence 7 cannot be build.\n"
       ]
      },
      {
       "output_type": "stream",
       "stream": "stderr",
       "text": [
        "WARNING:GHMM:forward returned -1: Sequence 7 cannot be build.\n"
       ]
      },
      {
       "output_type": "stream",
       "stream": "stderr",
       "text": [
        "GHMM ghmm.py:3746 - forward returned -1: Sequence 8 cannot be build.\n"
       ]
      },
      {
       "output_type": "stream",
       "stream": "stderr",
       "text": [
        "WARNING:GHMM:forward returned -1: Sequence 8 cannot be build.\n"
       ]
      },
      {
       "output_type": "stream",
       "stream": "stderr",
       "text": [
        "GHMM ghmm.py:3746 - forward returned -1: Sequence 9 cannot be build.\n"
       ]
      },
      {
       "output_type": "stream",
       "stream": "stderr",
       "text": [
        "WARNING:GHMM:forward returned -1: Sequence 9 cannot be build.\n"
       ]
      },
      {
       "output_type": "stream",
       "stream": "stderr",
       "text": [
        "GHMM ghmm.py:3746 - forward returned -1: Sequence 10 cannot be build.\n"
       ]
      },
      {
       "output_type": "stream",
       "stream": "stderr",
       "text": [
        "WARNING:GHMM:forward returned -1: Sequence 10 cannot be build.\n"
       ]
      },
      {
       "output_type": "stream",
       "stream": "stderr",
       "text": [
        "GHMM ghmm.py:3746 - forward returned -1: Sequence 11 cannot be build.\n"
       ]
      },
      {
       "output_type": "stream",
       "stream": "stderr",
       "text": [
        "WARNING:GHMM:forward returned -1: Sequence 11 cannot be build.\n"
       ]
      },
      {
       "output_type": "stream",
       "stream": "stderr",
       "text": [
        "GHMM ghmm.py:3746 - forward returned -1: Sequence 0 cannot be build.\n"
       ]
      },
      {
       "output_type": "stream",
       "stream": "stderr",
       "text": [
        "WARNING:GHMM:forward returned -1: Sequence 0 cannot be build.\n"
       ]
      },
      {
       "output_type": "stream",
       "stream": "stderr",
       "text": [
        "GHMM ghmm.py:3746 - forward returned -1: Sequence 1 cannot be build.\n"
       ]
      },
      {
       "output_type": "stream",
       "stream": "stderr",
       "text": [
        "WARNING:GHMM:forward returned -1: Sequence 1 cannot be build.\n"
       ]
      },
      {
       "output_type": "stream",
       "stream": "stderr",
       "text": [
        "GHMM ghmm.py:3746 - forward returned -1: Sequence 2 cannot be build.\n"
       ]
      },
      {
       "output_type": "stream",
       "stream": "stderr",
       "text": [
        "WARNING:GHMM:forward returned -1: Sequence 2 cannot be build.\n"
       ]
      },
      {
       "output_type": "stream",
       "stream": "stderr",
       "text": [
        "GHMM ghmm.py:3746 - forward returned -1: Sequence 3 cannot be build.\n"
       ]
      },
      {
       "output_type": "stream",
       "stream": "stderr",
       "text": [
        "WARNING:GHMM:forward returned -1: Sequence 3 cannot be build.\n"
       ]
      },
      {
       "output_type": "stream",
       "stream": "stderr",
       "text": [
        "GHMM ghmm.py:3746 - forward returned -1: Sequence 4 cannot be build.\n"
       ]
      },
      {
       "output_type": "stream",
       "stream": "stderr",
       "text": [
        "WARNING:GHMM:forward returned -1: Sequence 4 cannot be build.\n"
       ]
      },
      {
       "output_type": "stream",
       "stream": "stderr",
       "text": [
        "GHMM ghmm.py:3746 - forward returned -1: Sequence 5 cannot be build.\n"
       ]
      },
      {
       "output_type": "stream",
       "stream": "stderr",
       "text": [
        "WARNING:GHMM:forward returned -1: Sequence 5 cannot be build.\n"
       ]
      },
      {
       "output_type": "stream",
       "stream": "stderr",
       "text": [
        "GHMM ghmm.py:3746 - forward returned -1: Sequence 6 cannot be build.\n"
       ]
      },
      {
       "output_type": "stream",
       "stream": "stderr",
       "text": [
        "WARNING:GHMM:forward returned -1: Sequence 6 cannot be build.\n"
       ]
      },
      {
       "output_type": "stream",
       "stream": "stderr",
       "text": [
        "GHMM ghmm.py:3746 - forward returned -1: Sequence 7 cannot be build.\n"
       ]
      },
      {
       "output_type": "stream",
       "stream": "stderr",
       "text": [
        "WARNING:GHMM:forward returned -1: Sequence 7 cannot be build.\n"
       ]
      },
      {
       "output_type": "stream",
       "stream": "stderr",
       "text": [
        "GHMM ghmm.py:3746 - forward returned -1: Sequence 8 cannot be build.\n"
       ]
      },
      {
       "output_type": "stream",
       "stream": "stderr",
       "text": [
        "WARNING:GHMM:forward returned -1: Sequence 8 cannot be build.\n"
       ]
      },
      {
       "output_type": "stream",
       "stream": "stderr",
       "text": [
        "GHMM ghmm.py:3746 - forward returned -1: Sequence 9 cannot be build.\n"
       ]
      },
      {
       "output_type": "stream",
       "stream": "stderr",
       "text": [
        "WARNING:GHMM:forward returned -1: Sequence 9 cannot be build.\n"
       ]
      },
      {
       "output_type": "stream",
       "stream": "stderr",
       "text": [
        "GHMM ghmm.py:3746 - forward returned -1: Sequence 10 cannot be build.\n"
       ]
      },
      {
       "output_type": "stream",
       "stream": "stderr",
       "text": [
        "WARNING:GHMM:forward returned -1: Sequence 10 cannot be build.\n"
       ]
      },
      {
       "output_type": "stream",
       "stream": "stderr",
       "text": [
        "GHMM ghmm.py:3746 - forward returned -1: Sequence 11 cannot be build.\n"
       ]
      },
      {
       "output_type": "stream",
       "stream": "stderr",
       "text": [
        "WARNING:GHMM:forward returned -1: Sequence 11 cannot be build.\n"
       ]
      },
      {
       "output_type": "stream",
       "stream": "stderr",
       "text": [
        "GHMM ghmm.py:3746 - forward returned -1: Sequence 0 cannot be build.\n"
       ]
      },
      {
       "output_type": "stream",
       "stream": "stderr",
       "text": [
        "WARNING:GHMM:forward returned -1: Sequence 0 cannot be build.\n"
       ]
      },
      {
       "output_type": "stream",
       "stream": "stderr",
       "text": [
        "GHMM ghmm.py:3746 - forward returned -1: Sequence 1 cannot be build.\n"
       ]
      },
      {
       "output_type": "stream",
       "stream": "stderr",
       "text": [
        "WARNING:GHMM:forward returned -1: Sequence 1 cannot be build.\n"
       ]
      },
      {
       "output_type": "stream",
       "stream": "stderr",
       "text": [
        "GHMM ghmm.py:3746 - forward returned -1: Sequence 2 cannot be build.\n"
       ]
      },
      {
       "output_type": "stream",
       "stream": "stderr",
       "text": [
        "WARNING:GHMM:forward returned -1: Sequence 2 cannot be build.\n"
       ]
      },
      {
       "output_type": "stream",
       "stream": "stderr",
       "text": [
        "GHMM ghmm.py:3746 - forward returned -1: Sequence 3 cannot be build.\n"
       ]
      },
      {
       "output_type": "stream",
       "stream": "stderr",
       "text": [
        "WARNING:GHMM:forward returned -1: Sequence 3 cannot be build.\n"
       ]
      },
      {
       "output_type": "stream",
       "stream": "stderr",
       "text": [
        "GHMM ghmm.py:3746 - forward returned -1: Sequence 4 cannot be build.\n"
       ]
      },
      {
       "output_type": "stream",
       "stream": "stderr",
       "text": [
        "WARNING:GHMM:forward returned -1: Sequence 4 cannot be build.\n"
       ]
      },
      {
       "output_type": "stream",
       "stream": "stderr",
       "text": [
        "GHMM ghmm.py:3746 - forward returned -1: Sequence 5 cannot be build.\n"
       ]
      },
      {
       "output_type": "stream",
       "stream": "stderr",
       "text": [
        "WARNING:GHMM:forward returned -1: Sequence 5 cannot be build.\n"
       ]
      },
      {
       "output_type": "stream",
       "stream": "stderr",
       "text": [
        "GHMM ghmm.py:3746 - forward returned -1: Sequence 6 cannot be build.\n"
       ]
      },
      {
       "output_type": "stream",
       "stream": "stderr",
       "text": [
        "WARNING:GHMM:forward returned -1: Sequence 6 cannot be build.\n"
       ]
      },
      {
       "output_type": "stream",
       "stream": "stderr",
       "text": [
        "GHMM ghmm.py:3746 - forward returned -1: Sequence 7 cannot be build.\n"
       ]
      },
      {
       "output_type": "stream",
       "stream": "stderr",
       "text": [
        "WARNING:GHMM:forward returned -1: Sequence 7 cannot be build.\n"
       ]
      },
      {
       "output_type": "stream",
       "stream": "stderr",
       "text": [
        "GHMM ghmm.py:3746 - forward returned -1: Sequence 8 cannot be build.\n"
       ]
      },
      {
       "output_type": "stream",
       "stream": "stderr",
       "text": [
        "WARNING:GHMM:forward returned -1: Sequence 8 cannot be build.\n"
       ]
      },
      {
       "output_type": "stream",
       "stream": "stderr",
       "text": [
        "GHMM ghmm.py:3746 - forward returned -1: Sequence 9 cannot be build.\n"
       ]
      },
      {
       "output_type": "stream",
       "stream": "stderr",
       "text": [
        "WARNING:GHMM:forward returned -1: Sequence 9 cannot be build.\n"
       ]
      },
      {
       "output_type": "stream",
       "stream": "stderr",
       "text": [
        "GHMM ghmm.py:3746 - forward returned -1: Sequence 10 cannot be build.\n"
       ]
      },
      {
       "output_type": "stream",
       "stream": "stderr",
       "text": [
        "WARNING:GHMM:forward returned -1: Sequence 10 cannot be build.\n"
       ]
      },
      {
       "output_type": "stream",
       "stream": "stderr",
       "text": [
        "GHMM ghmm.py:3746 - forward returned -1: Sequence 11 cannot be build.\n"
       ]
      },
      {
       "output_type": "stream",
       "stream": "stderr",
       "text": [
        "WARNING:GHMM:forward returned -1: Sequence 11 cannot be build.\n"
       ]
      },
      {
       "output_type": "stream",
       "stream": "stderr",
       "text": [
        "GHMM ghmm.py:3746 - forward returned -1: Sequence 0 cannot be build.\n"
       ]
      },
      {
       "output_type": "stream",
       "stream": "stderr",
       "text": [
        "WARNING:GHMM:forward returned -1: Sequence 0 cannot be build.\n"
       ]
      },
      {
       "output_type": "stream",
       "stream": "stderr",
       "text": [
        "GHMM ghmm.py:3746 - forward returned -1: Sequence 1 cannot be build.\n"
       ]
      },
      {
       "output_type": "stream",
       "stream": "stderr",
       "text": [
        "WARNING:GHMM:forward returned -1: Sequence 1 cannot be build.\n"
       ]
      },
      {
       "output_type": "stream",
       "stream": "stderr",
       "text": [
        "GHMM ghmm.py:3746 - forward returned -1: Sequence 2 cannot be build.\n"
       ]
      },
      {
       "output_type": "stream",
       "stream": "stderr",
       "text": [
        "WARNING:GHMM:forward returned -1: Sequence 2 cannot be build.\n"
       ]
      },
      {
       "output_type": "stream",
       "stream": "stderr",
       "text": [
        "GHMM ghmm.py:3746 - forward returned -1: Sequence 3 cannot be build.\n"
       ]
      },
      {
       "output_type": "stream",
       "stream": "stderr",
       "text": [
        "WARNING:GHMM:forward returned -1: Sequence 3 cannot be build.\n"
       ]
      },
      {
       "output_type": "stream",
       "stream": "stderr",
       "text": [
        "GHMM ghmm.py:3746 - forward returned -1: Sequence 4 cannot be build.\n"
       ]
      },
      {
       "output_type": "stream",
       "stream": "stderr",
       "text": [
        "WARNING:GHMM:forward returned -1: Sequence 4 cannot be build.\n"
       ]
      },
      {
       "output_type": "stream",
       "stream": "stderr",
       "text": [
        "GHMM ghmm.py:3746 - forward returned -1: Sequence 5 cannot be build.\n"
       ]
      },
      {
       "output_type": "stream",
       "stream": "stderr",
       "text": [
        "WARNING:GHMM:forward returned -1: Sequence 5 cannot be build.\n"
       ]
      },
      {
       "output_type": "stream",
       "stream": "stderr",
       "text": [
        "GHMM ghmm.py:3746 - forward returned -1: Sequence 6 cannot be build.\n"
       ]
      },
      {
       "output_type": "stream",
       "stream": "stderr",
       "text": [
        "WARNING:GHMM:forward returned -1: Sequence 6 cannot be build.\n"
       ]
      },
      {
       "output_type": "stream",
       "stream": "stderr",
       "text": [
        "GHMM ghmm.py:3746 - forward returned -1: Sequence 7 cannot be build.\n"
       ]
      },
      {
       "output_type": "stream",
       "stream": "stderr",
       "text": [
        "WARNING:GHMM:forward returned -1: Sequence 7 cannot be build.\n"
       ]
      },
      {
       "output_type": "stream",
       "stream": "stderr",
       "text": [
        "GHMM ghmm.py:3746 - forward returned -1: Sequence 8 cannot be build.\n"
       ]
      },
      {
       "output_type": "stream",
       "stream": "stderr",
       "text": [
        "WARNING:GHMM:forward returned -1: Sequence 8 cannot be build.\n"
       ]
      },
      {
       "output_type": "stream",
       "stream": "stderr",
       "text": [
        "GHMM ghmm.py:3746 - forward returned -1: Sequence 9 cannot be build.\n"
       ]
      },
      {
       "output_type": "stream",
       "stream": "stderr",
       "text": [
        "WARNING:GHMM:forward returned -1: Sequence 9 cannot be build.\n"
       ]
      },
      {
       "output_type": "stream",
       "stream": "stderr",
       "text": [
        "GHMM ghmm.py:3746 - forward returned -1: Sequence 10 cannot be build.\n"
       ]
      },
      {
       "output_type": "stream",
       "stream": "stderr",
       "text": [
        "WARNING:GHMM:forward returned -1: Sequence 10 cannot be build.\n"
       ]
      },
      {
       "output_type": "stream",
       "stream": "stderr",
       "text": [
        "GHMM ghmm.py:3746 - forward returned -1: Sequence 11 cannot be build.\n"
       ]
      },
      {
       "output_type": "stream",
       "stream": "stderr",
       "text": [
        "WARNING:GHMM:forward returned -1: Sequence 11 cannot be build.\n"
       ]
      },
      {
       "output_type": "stream",
       "stream": "stderr",
       "text": [
        "GHMM ghmm.py:3746 - forward returned -1: Sequence 1 cannot be build.\n"
       ]
      },
      {
       "output_type": "stream",
       "stream": "stderr",
       "text": [
        "WARNING:GHMM:forward returned -1: Sequence 1 cannot be build.\n"
       ]
      },
      {
       "output_type": "stream",
       "stream": "stderr",
       "text": [
        "GHMM ghmm.py:3746 - forward returned -1: Sequence 2 cannot be build.\n"
       ]
      },
      {
       "output_type": "stream",
       "stream": "stderr",
       "text": [
        "WARNING:GHMM:forward returned -1: Sequence 2 cannot be build.\n"
       ]
      },
      {
       "output_type": "stream",
       "stream": "stderr",
       "text": [
        "GHMM ghmm.py:3746 - forward returned -1: Sequence 3 cannot be build.\n"
       ]
      },
      {
       "output_type": "stream",
       "stream": "stderr",
       "text": [
        "WARNING:GHMM:forward returned -1: Sequence 3 cannot be build.\n"
       ]
      },
      {
       "output_type": "stream",
       "stream": "stderr",
       "text": [
        "GHMM ghmm.py:3746 - forward returned -1: Sequence 5 cannot be build.\n"
       ]
      },
      {
       "output_type": "stream",
       "stream": "stderr",
       "text": [
        "WARNING:GHMM:forward returned -1: Sequence 5 cannot be build.\n"
       ]
      },
      {
       "output_type": "stream",
       "stream": "stderr",
       "text": [
        "GHMM ghmm.py:3746 - forward returned -1: Sequence 8 cannot be build.\n"
       ]
      },
      {
       "output_type": "stream",
       "stream": "stderr",
       "text": [
        "WARNING:GHMM:forward returned -1: Sequence 8 cannot be build.\n"
       ]
      },
      {
       "output_type": "stream",
       "stream": "stderr",
       "text": [
        "GHMM ghmm.py:3746 - forward returned -1: Sequence 10 cannot be build.\n"
       ]
      },
      {
       "output_type": "stream",
       "stream": "stderr",
       "text": [
        "WARNING:GHMM:forward returned -1: Sequence 10 cannot be build.\n"
       ]
      },
      {
       "output_type": "stream",
       "stream": "stderr",
       "text": [
        "GHMM ghmm.py:3746 - forward returned -1: Sequence 1 cannot be build.\n"
       ]
      },
      {
       "output_type": "stream",
       "stream": "stderr",
       "text": [
        "WARNING:GHMM:forward returned -1: Sequence 1 cannot be build.\n"
       ]
      },
      {
       "output_type": "stream",
       "stream": "stderr",
       "text": [
        "GHMM ghmm.py:3746 - forward returned -1: Sequence 2 cannot be build.\n"
       ]
      },
      {
       "output_type": "stream",
       "stream": "stderr",
       "text": [
        "WARNING:GHMM:forward returned -1: Sequence 2 cannot be build.\n"
       ]
      },
      {
       "output_type": "stream",
       "stream": "stderr",
       "text": [
        "GHMM ghmm.py:3746 - forward returned -1: Sequence 3 cannot be build.\n"
       ]
      },
      {
       "output_type": "stream",
       "stream": "stderr",
       "text": [
        "WARNING:GHMM:forward returned -1: Sequence 3 cannot be build.\n"
       ]
      },
      {
       "output_type": "stream",
       "stream": "stderr",
       "text": [
        "GHMM ghmm.py:3746 - forward returned -1: Sequence 5 cannot be build.\n"
       ]
      },
      {
       "output_type": "stream",
       "stream": "stderr",
       "text": [
        "WARNING:GHMM:forward returned -1: Sequence 5 cannot be build.\n"
       ]
      },
      {
       "output_type": "stream",
       "stream": "stderr",
       "text": [
        "GHMM ghmm.py:3746 - forward returned -1: Sequence 8 cannot be build.\n"
       ]
      },
      {
       "output_type": "stream",
       "stream": "stderr",
       "text": [
        "WARNING:GHMM:forward returned -1: Sequence 8 cannot be build.\n"
       ]
      },
      {
       "output_type": "stream",
       "stream": "stderr",
       "text": [
        "GHMM ghmm.py:3746 - forward returned -1: Sequence 10 cannot be build.\n"
       ]
      },
      {
       "output_type": "stream",
       "stream": "stderr",
       "text": [
        "WARNING:GHMM:forward returned -1: Sequence 10 cannot be build.\n"
       ]
      },
      {
       "output_type": "stream",
       "stream": "stderr",
       "text": [
        "GHMM ghmm.py:3746 - forward returned -1: Sequence 1 cannot be build.\n"
       ]
      },
      {
       "output_type": "stream",
       "stream": "stderr",
       "text": [
        "WARNING:GHMM:forward returned -1: Sequence 1 cannot be build.\n"
       ]
      },
      {
       "output_type": "stream",
       "stream": "stderr",
       "text": [
        "GHMM ghmm.py:3746 - forward returned -1: Sequence 2 cannot be build.\n"
       ]
      },
      {
       "output_type": "stream",
       "stream": "stderr",
       "text": [
        "WARNING:GHMM:forward returned -1: Sequence 2 cannot be build.\n"
       ]
      },
      {
       "output_type": "stream",
       "stream": "stderr",
       "text": [
        "GHMM ghmm.py:3746 - forward returned -1: Sequence 3 cannot be build.\n"
       ]
      },
      {
       "output_type": "stream",
       "stream": "stderr",
       "text": [
        "WARNING:GHMM:forward returned -1: Sequence 3 cannot be build.\n"
       ]
      },
      {
       "output_type": "stream",
       "stream": "stderr",
       "text": [
        "GHMM ghmm.py:3746 - forward returned -1: Sequence 5 cannot be build.\n"
       ]
      },
      {
       "output_type": "stream",
       "stream": "stderr",
       "text": [
        "WARNING:GHMM:forward returned -1: Sequence 5 cannot be build.\n"
       ]
      },
      {
       "output_type": "stream",
       "stream": "stderr",
       "text": [
        "GHMM ghmm.py:3746 - forward returned -1: Sequence 8 cannot be build.\n"
       ]
      },
      {
       "output_type": "stream",
       "stream": "stderr",
       "text": [
        "WARNING:GHMM:forward returned -1: Sequence 8 cannot be build.\n"
       ]
      },
      {
       "output_type": "stream",
       "stream": "stderr",
       "text": [
        "GHMM ghmm.py:3746 - forward returned -1: Sequence 10 cannot be build.\n"
       ]
      },
      {
       "output_type": "stream",
       "stream": "stderr",
       "text": [
        "WARNING:GHMM:forward returned -1: Sequence 10 cannot be build.\n"
       ]
      },
      {
       "output_type": "stream",
       "stream": "stderr",
       "text": [
        "GHMM ghmm.py:3746 - forward returned -1: Sequence 0 cannot be build.\n"
       ]
      },
      {
       "output_type": "stream",
       "stream": "stderr",
       "text": [
        "WARNING:GHMM:forward returned -1: Sequence 0 cannot be build.\n"
       ]
      },
      {
       "output_type": "stream",
       "stream": "stderr",
       "text": [
        "GHMM ghmm.py:3746 - forward returned -1: Sequence 1 cannot be build.\n"
       ]
      },
      {
       "output_type": "stream",
       "stream": "stderr",
       "text": [
        "WARNING:GHMM:forward returned -1: Sequence 1 cannot be build.\n"
       ]
      },
      {
       "output_type": "stream",
       "stream": "stderr",
       "text": [
        "GHMM ghmm.py:3746 - forward returned -1: Sequence 2 cannot be build.\n"
       ]
      },
      {
       "output_type": "stream",
       "stream": "stderr",
       "text": [
        "WARNING:GHMM:forward returned -1: Sequence 2 cannot be build.\n"
       ]
      },
      {
       "output_type": "stream",
       "stream": "stderr",
       "text": [
        "GHMM ghmm.py:3746 - forward returned -1: Sequence 3 cannot be build.\n"
       ]
      },
      {
       "output_type": "stream",
       "stream": "stderr",
       "text": [
        "WARNING:GHMM:forward returned -1: Sequence 3 cannot be build.\n"
       ]
      },
      {
       "output_type": "stream",
       "stream": "stderr",
       "text": [
        "GHMM ghmm.py:3746 - forward returned -1: Sequence 4 cannot be build.\n"
       ]
      },
      {
       "output_type": "stream",
       "stream": "stderr",
       "text": [
        "WARNING:GHMM:forward returned -1: Sequence 4 cannot be build.\n"
       ]
      },
      {
       "output_type": "stream",
       "stream": "stderr",
       "text": [
        "GHMM ghmm.py:3746 - forward returned -1: Sequence 5 cannot be build.\n"
       ]
      },
      {
       "output_type": "stream",
       "stream": "stderr",
       "text": [
        "WARNING:GHMM:forward returned -1: Sequence 5 cannot be build.\n"
       ]
      },
      {
       "output_type": "stream",
       "stream": "stderr",
       "text": [
        "GHMM ghmm.py:3746 - forward returned -1: Sequence 6 cannot be build.\n"
       ]
      },
      {
       "output_type": "stream",
       "stream": "stderr",
       "text": [
        "WARNING:GHMM:forward returned -1: Sequence 6 cannot be build.\n"
       ]
      },
      {
       "output_type": "stream",
       "stream": "stderr",
       "text": [
        "GHMM ghmm.py:3746 - forward returned -1: Sequence 7 cannot be build.\n"
       ]
      },
      {
       "output_type": "stream",
       "stream": "stderr",
       "text": [
        "WARNING:GHMM:forward returned -1: Sequence 7 cannot be build.\n"
       ]
      },
      {
       "output_type": "stream",
       "stream": "stderr",
       "text": [
        "GHMM ghmm.py:3746 - forward returned -1: Sequence 8 cannot be build.\n"
       ]
      },
      {
       "output_type": "stream",
       "stream": "stderr",
       "text": [
        "WARNING:GHMM:forward returned -1: Sequence 8 cannot be build.\n"
       ]
      },
      {
       "output_type": "stream",
       "stream": "stderr",
       "text": [
        "GHMM ghmm.py:3746 - forward returned -1: Sequence 9 cannot be build.\n"
       ]
      },
      {
       "output_type": "stream",
       "stream": "stderr",
       "text": [
        "WARNING:GHMM:forward returned -1: Sequence 9 cannot be build.\n"
       ]
      },
      {
       "output_type": "stream",
       "stream": "stderr",
       "text": [
        "GHMM ghmm.py:3746 - forward returned -1: Sequence 10 cannot be build.\n"
       ]
      },
      {
       "output_type": "stream",
       "stream": "stderr",
       "text": [
        "WARNING:GHMM:forward returned -1: Sequence 10 cannot be build.\n"
       ]
      },
      {
       "output_type": "stream",
       "stream": "stderr",
       "text": [
        "GHMM ghmm.py:3746 - forward returned -1: Sequence 11 cannot be build.\n"
       ]
      },
      {
       "output_type": "stream",
       "stream": "stderr",
       "text": [
        "WARNING:GHMM:forward returned -1: Sequence 11 cannot be build.\n"
       ]
      },
      {
       "output_type": "stream",
       "stream": "stderr",
       "text": [
        "GHMM ghmm.py:3746 - forward returned -1: Sequence 0 cannot be build.\n"
       ]
      },
      {
       "output_type": "stream",
       "stream": "stderr",
       "text": [
        "WARNING:GHMM:forward returned -1: Sequence 0 cannot be build.\n"
       ]
      },
      {
       "output_type": "stream",
       "stream": "stderr",
       "text": [
        "GHMM ghmm.py:3746 - forward returned -1: Sequence 1 cannot be build.\n"
       ]
      },
      {
       "output_type": "stream",
       "stream": "stderr",
       "text": [
        "WARNING:GHMM:forward returned -1: Sequence 1 cannot be build.\n"
       ]
      },
      {
       "output_type": "stream",
       "stream": "stderr",
       "text": [
        "GHMM ghmm.py:3746 - forward returned -1: Sequence 2 cannot be build.\n"
       ]
      },
      {
       "output_type": "stream",
       "stream": "stderr",
       "text": [
        "WARNING:GHMM:forward returned -1: Sequence 2 cannot be build.\n"
       ]
      },
      {
       "output_type": "stream",
       "stream": "stderr",
       "text": [
        "GHMM ghmm.py:3746 - forward returned -1: Sequence 3 cannot be build.\n"
       ]
      },
      {
       "output_type": "stream",
       "stream": "stderr",
       "text": [
        "WARNING:GHMM:forward returned -1: Sequence 3 cannot be build.\n"
       ]
      },
      {
       "output_type": "stream",
       "stream": "stderr",
       "text": [
        "GHMM ghmm.py:3746 - forward returned -1: Sequence 4 cannot be build.\n"
       ]
      },
      {
       "output_type": "stream",
       "stream": "stderr",
       "text": [
        "WARNING:GHMM:forward returned -1: Sequence 4 cannot be build.\n"
       ]
      },
      {
       "output_type": "stream",
       "stream": "stderr",
       "text": [
        "GHMM ghmm.py:3746 - forward returned -1: Sequence 5 cannot be build.\n"
       ]
      },
      {
       "output_type": "stream",
       "stream": "stderr",
       "text": [
        "WARNING:GHMM:forward returned -1: Sequence 5 cannot be build.\n"
       ]
      },
      {
       "output_type": "stream",
       "stream": "stderr",
       "text": [
        "GHMM ghmm.py:3746 - forward returned -1: Sequence 6 cannot be build.\n"
       ]
      },
      {
       "output_type": "stream",
       "stream": "stderr",
       "text": [
        "WARNING:GHMM:forward returned -1: Sequence 6 cannot be build.\n"
       ]
      },
      {
       "output_type": "stream",
       "stream": "stderr",
       "text": [
        "GHMM ghmm.py:3746 - forward returned -1: Sequence 7 cannot be build.\n"
       ]
      },
      {
       "output_type": "stream",
       "stream": "stderr",
       "text": [
        "WARNING:GHMM:forward returned -1: Sequence 7 cannot be build.\n"
       ]
      },
      {
       "output_type": "stream",
       "stream": "stderr",
       "text": [
        "GHMM ghmm.py:3746 - forward returned -1: Sequence 8 cannot be build.\n"
       ]
      },
      {
       "output_type": "stream",
       "stream": "stderr",
       "text": [
        "WARNING:GHMM:forward returned -1: Sequence 8 cannot be build.\n"
       ]
      },
      {
       "output_type": "stream",
       "stream": "stderr",
       "text": [
        "GHMM ghmm.py:3746 - forward returned -1: Sequence 9 cannot be build.\n"
       ]
      },
      {
       "output_type": "stream",
       "stream": "stderr",
       "text": [
        "WARNING:GHMM:forward returned -1: Sequence 9 cannot be build.\n"
       ]
      },
      {
       "output_type": "stream",
       "stream": "stderr",
       "text": [
        "GHMM ghmm.py:3746 - forward returned -1: Sequence 10 cannot be build.\n"
       ]
      },
      {
       "output_type": "stream",
       "stream": "stderr",
       "text": [
        "WARNING:GHMM:forward returned -1: Sequence 10 cannot be build.\n"
       ]
      },
      {
       "output_type": "stream",
       "stream": "stderr",
       "text": [
        "GHMM ghmm.py:3746 - forward returned -1: Sequence 11 cannot be build.\n"
       ]
      },
      {
       "output_type": "stream",
       "stream": "stderr",
       "text": [
        "WARNING:GHMM:forward returned -1: Sequence 11 cannot be build.\n"
       ]
      },
      {
       "output_type": "stream",
       "stream": "stderr",
       "text": [
        "GHMM ghmm.py:3746 - forward returned -1: Sequence 0 cannot be build.\n"
       ]
      },
      {
       "output_type": "stream",
       "stream": "stderr",
       "text": [
        "WARNING:GHMM:forward returned -1: Sequence 0 cannot be build.\n"
       ]
      },
      {
       "output_type": "stream",
       "stream": "stderr",
       "text": [
        "GHMM ghmm.py:3746 - forward returned -1: Sequence 1 cannot be build.\n"
       ]
      },
      {
       "output_type": "stream",
       "stream": "stderr",
       "text": [
        "WARNING:GHMM:forward returned -1: Sequence 1 cannot be build.\n"
       ]
      },
      {
       "output_type": "stream",
       "stream": "stderr",
       "text": [
        "GHMM ghmm.py:3746 - forward returned -1: Sequence 2 cannot be build.\n"
       ]
      },
      {
       "output_type": "stream",
       "stream": "stderr",
       "text": [
        "WARNING:GHMM:forward returned -1: Sequence 2 cannot be build.\n"
       ]
      },
      {
       "output_type": "stream",
       "stream": "stderr",
       "text": [
        "GHMM ghmm.py:3746 - forward returned -1: Sequence 3 cannot be build.\n"
       ]
      },
      {
       "output_type": "stream",
       "stream": "stderr",
       "text": [
        "WARNING:GHMM:forward returned -1: Sequence 3 cannot be build.\n"
       ]
      },
      {
       "output_type": "stream",
       "stream": "stderr",
       "text": [
        "GHMM ghmm.py:3746 - forward returned -1: Sequence 4 cannot be build.\n"
       ]
      },
      {
       "output_type": "stream",
       "stream": "stderr",
       "text": [
        "WARNING:GHMM:forward returned -1: Sequence 4 cannot be build.\n"
       ]
      },
      {
       "output_type": "stream",
       "stream": "stderr",
       "text": [
        "GHMM ghmm.py:3746 - forward returned -1: Sequence 5 cannot be build.\n"
       ]
      },
      {
       "output_type": "stream",
       "stream": "stderr",
       "text": [
        "WARNING:GHMM:forward returned -1: Sequence 5 cannot be build.\n"
       ]
      },
      {
       "output_type": "stream",
       "stream": "stderr",
       "text": [
        "GHMM ghmm.py:3746 - forward returned -1: Sequence 6 cannot be build.\n"
       ]
      },
      {
       "output_type": "stream",
       "stream": "stderr",
       "text": [
        "WARNING:GHMM:forward returned -1: Sequence 6 cannot be build.\n"
       ]
      },
      {
       "output_type": "stream",
       "stream": "stderr",
       "text": [
        "GHMM ghmm.py:3746 - forward returned -1: Sequence 7 cannot be build.\n"
       ]
      },
      {
       "output_type": "stream",
       "stream": "stderr",
       "text": [
        "WARNING:GHMM:forward returned -1: Sequence 7 cannot be build.\n"
       ]
      },
      {
       "output_type": "stream",
       "stream": "stderr",
       "text": [
        "GHMM ghmm.py:3746 - forward returned -1: Sequence 8 cannot be build.\n"
       ]
      },
      {
       "output_type": "stream",
       "stream": "stderr",
       "text": [
        "WARNING:GHMM:forward returned -1: Sequence 8 cannot be build.\n"
       ]
      },
      {
       "output_type": "stream",
       "stream": "stderr",
       "text": [
        "GHMM ghmm.py:3746 - forward returned -1: Sequence 9 cannot be build.\n"
       ]
      },
      {
       "output_type": "stream",
       "stream": "stderr",
       "text": [
        "WARNING:GHMM:forward returned -1: Sequence 9 cannot be build.\n"
       ]
      },
      {
       "output_type": "stream",
       "stream": "stderr",
       "text": [
        "GHMM ghmm.py:3746 - forward returned -1: Sequence 10 cannot be build.\n"
       ]
      },
      {
       "output_type": "stream",
       "stream": "stderr",
       "text": [
        "WARNING:GHMM:forward returned -1: Sequence 10 cannot be build.\n"
       ]
      },
      {
       "output_type": "stream",
       "stream": "stderr",
       "text": [
        "GHMM ghmm.py:3746 - forward returned -1: Sequence 11 cannot be build.\n"
       ]
      },
      {
       "output_type": "stream",
       "stream": "stderr",
       "text": [
        "WARNING:GHMM:forward returned -1: Sequence 11 cannot be build.\n"
       ]
      },
      {
       "output_type": "stream",
       "stream": "stdout",
       "text": [
        "Doing 3 state models... \n",
        "\n"
       ]
      },
      {
       "output_type": "stream",
       "stream": "stderr",
       "text": [
        "GHMM ghmm.py:148 - sreestimate.c:ghmm_cmodel_baum_welch(898): NO convergence: log P(-3.722895e+04) < log P-old(-2.355747e+04)! (n = 2)\n"
       ]
      },
      {
       "output_type": "stream",
       "stream": "stderr",
       "text": [
        "WARNING:GHMM:sreestimate.c:ghmm_cmodel_baum_welch(898): NO convergence: log P(-3.722895e+04) < log P-old(-2.355747e+04)! (n = 2)\n"
       ]
      },
      {
       "output_type": "stream",
       "stream": "stderr",
       "text": [
        "GHMM ghmm.py:148 - sreestimate.c:ghmm_cmodel_baum_welch(898): NO convergence: log P(-3.177245e+04) < log P-old(-9.101946e+03)! (n = 2)\n"
       ]
      },
      {
       "output_type": "stream",
       "stream": "stderr",
       "text": [
        "WARNING:GHMM:sreestimate.c:ghmm_cmodel_baum_welch(898): NO convergence: log P(-3.177245e+04) < log P-old(-9.101946e+03)! (n = 2)\n"
       ]
      },
      {
       "output_type": "stream",
       "stream": "stderr",
       "text": [
        "GHMM ghmm.py:148 - sreestimate.c:ghmm_cmodel_baum_welch(898): NO convergence: log P(-9.485938e+03) < log P-old(-9.469118e+03)! (n = 6)\n"
       ]
      },
      {
       "output_type": "stream",
       "stream": "stderr",
       "text": [
        "WARNING:GHMM:sreestimate.c:ghmm_cmodel_baum_welch(898): NO convergence: log P(-9.485938e+03) < log P-old(-9.469118e+03)! (n = 6)\n"
       ]
      },
      {
       "output_type": "stream",
       "stream": "stderr",
       "text": [
        "GHMM ghmm.py:148 - sreestimate.c:ghmm_cmodel_baum_welch(898): NO convergence: log P(-9.461694e+03) < log P-old(-9.417143e+03)! (n = 6)\n"
       ]
      },
      {
       "output_type": "stream",
       "stream": "stderr",
       "text": [
        "WARNING:GHMM:sreestimate.c:ghmm_cmodel_baum_welch(898): NO convergence: log P(-9.461694e+03) < log P-old(-9.417143e+03)! (n = 6)\n"
       ]
      }
     ]
    },
    {
     "cell_type": "code",
     "collapsed": false,
     "input": [],
     "language": "python",
     "metadata": {},
     "outputs": []
    }
   ],
   "metadata": {}
  }
 ]
}