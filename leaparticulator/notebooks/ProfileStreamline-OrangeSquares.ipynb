{
 "cells": [
  {
   "cell_type": "code",
   "execution_count": 1,
   "metadata": {
    "collapsed": false
   },
   "outputs": [
    {
     "data": {
      "text/plain": [
       "['logs/logs/orange_squares/OS1.1.exp.log',\n",
       " 'logs/logs/orange_squares/OS10.1.exp.log',\n",
       " 'logs/logs/orange_squares/OS11.1.exp.log',\n",
       " 'logs/logs/orange_squares/OS13.1.exp.log',\n",
       " 'logs/logs/orange_squares/OS15.1.exp.log',\n",
       " 'logs/logs/orange_squares/OS16.1.exp.log',\n",
       " 'logs/logs/orange_squares/OS17.1.exp.log',\n",
       " 'logs/logs/orange_squares/OS18.1.exp.log',\n",
       " 'logs/logs/orange_squares/OS23.1.exp.log',\n",
       " 'logs/logs/orange_squares/OS19.1.exp.log',\n",
       " 'logs/logs/orange_squares/OS2.1.exp.log',\n",
       " 'logs/logs/orange_squares/OS20.1.exp.log',\n",
       " 'logs/logs/orange_squares/OS21.1.exp.log',\n",
       " 'logs/logs/orange_squares/OS22.1.exp.log',\n",
       " 'logs/logs/orange_squares/OS24.1.exp.log',\n",
       " 'logs/logs/orange_squares/OS25.1.exp.log',\n",
       " 'logs/logs/orange_squares/OS3.1.exp.log',\n",
       " 'logs/logs/orange_squares/OS4.1.exp.log',\n",
       " 'logs/logs/orange_squares/OS5.1.exp.log',\n",
       " 'logs/logs/orange_squares/OS6.1.exp.log',\n",
       " 'logs/logs/orange_squares/OS7.1.exp.log',\n",
       " 'logs/logs/orange_squares/OS8.1.exp.log',\n",
       " 'logs/logs/orange_squares/OS9.1.exp.log']"
      ]
     },
     "execution_count": 1,
     "metadata": {},
     "output_type": "execute_result"
    }
   ],
   "source": [
    "from os import getcwd, chdir\n",
    "from os.path import expanduser, join\n",
    "from glob import glob\n",
    "chdir(expanduser(\"~/Dropbox/ABACUS/Workspace/LeapArticulatorQt\"))\n",
    "prefix = \"logs/logs/orange_squares\"\n",
    "files = glob(join(prefix,'*.*.exp.log'))\n",
    "# files = files[:2]\n",
    "# files = map(lambda x: \"logs/discrete/%s.exp.log\" % x, \"D13200321014.2\".split(\",\"))\n",
    "files"
   ]
  },
  {
   "cell_type": "code",
   "execution_count": 2,
   "metadata": {
    "collapsed": false
   },
   "outputs": [
    {
     "name": "stdout",
     "output_type": "stream",
     "text": [
      "Overwriting ProfileStreamlineNugget.py\n"
     ]
    }
   ],
   "source": [
    "%%writefile ProfileStreamlineNugget.py\n",
    "import sys\n",
    "def do_it(file_id=sys.argv[1], units=sys.argv[2], parallel=sys.argv[3], skip_phases=sys.argv[4:-1],\n",
    "         prefix=sys.argv[-1]):\n",
    "    from leaparticulator.notebooks.StreamlinedDataAnalysisGhmm import analyze_log_file_in_phases_by_condition\n",
    "    from leaparticulator import constants\n",
    "    try:\n",
    "        print \"skip_phase=%s\" % skip_phases\n",
    "        print \"parallel? %s\" % parallel\n",
    "        analyze_log_file_in_phases_by_condition(file_id, nstates=range(2,26), trials=100, iter=1000, \n",
    "                                                parallel=parallel, units=units,\n",
    "                                            skip_phases=skip_phases, prefix=prefix)\n",
    "    except Exception, err:\n",
    "        print err\n",
    "if __name__ == \"__main__\":\n",
    "    do_it()"
   ]
  },
  {
   "cell_type": "code",
   "execution_count": null,
   "metadata": {
    "collapsed": false
   },
   "outputs": [
    {
     "name": "stdout",
     "output_type": "stream",
     "text": [
      "logs/logs/orange_squares/OS1.1.exp.log\n",
      "Multivariate? True\n",
      "Doing file/unit/phase combination no.#6/207: OS1.1, phase2 (unit: amp_and_freq) (cond: 1)\n",
      "\n",
      "skip_phase=['0', '1']\n",
      "parallel? True\n",
      "Starting phase by phase analysis, controlled for conditions (units: amp_and_freq)...\n",
      "Condition 1\n",
      "Saving responses into logs/logs/orange_squares/OS1.1.exp.responses.csv\n",
      "File: logs/logs/orange_squares/OS1.1.exp.responses.csv, Condition: 1\n",
      "logs/logs/orange_squares/OS1.1.exp.responses.freq_and_amp.csv\n",
      "Saving tests into logs/logs/orange_squares/OS1.1.exp.tests.csv\n",
      "Saving images into logs/logs/orange_squares/OS1.1.exp.images.csv\n",
      "Skipping phase#0\n",
      "Skipping phase#1\n",
      "Doing phase#2\n",
      "Sample data: [(516.0606524532387, 0.20906686758478255), (502.6301938903884, 0.20752229857998528), (459.0363282806821, 0.20752536091840001)]\n",
      "Doing 2 state models...\n",
      "Doing 3 state models...\n",
      "Doing 4 state models...\n",
      "Doing 5 state models...\n"
     ]
    }
   ],
   "source": [
    "import warnings, sys\n",
    "warnings.filterwarnings('ignore')\n",
    "from leaparticulator.notebooks.StreamlinedDataAnalysisGhmm import analyze_log_file_in_phases_by_condition\n",
    "from leaparticulator import constants #, GHmmWrapper, gc\n",
    "from itertools import product\n",
    "from subprocess import Popen, PIPE, os, STDOUT\n",
    "from ProfileStreamlineNugget import do_it\n",
    "files_n_units = product(files, [constants.XY, constants.AMP_AND_FREQ, constants.AMP_AND_MEL], range(3))\n",
    "dd = os.getcwd()\n",
    "error = []\n",
    "warning = []\n",
    "output = []\n",
    "# skip = [11,14, 17]\n",
    "# skip = lrange(115,226)\n",
    "skip = []\n",
    "# 11 is a problem, again\n",
    "\n",
    "# skip = range(207)\n",
    "# return\n",
    "p = None\n",
    "from datetime import datetime\n",
    "log_file = open(\"logs/StreamlineLog.%s.log\" % datetime.now(), 'w', 0)\n",
    "for i, (f, unit, phase) in enumerate(files_n_units):\n",
    "        if i <= 4:\n",
    "            continue\n",
    "        print f\n",
    "        ff = f.split(\"/\")[-1][:-8]\n",
    "        cond = ff.split(\".\")[-1]\n",
    "        if cond == \"master\":\n",
    "            cond = \"1\"\n",
    "        multivariate = (\"1\" in cond and phase==2) or (\"2\" in cond and phase==1)\n",
    "#         if i not in [11,14,17]:\n",
    "#             continue\n",
    "        if i in skip: #or not multivariate:\n",
    "            continue\n",
    "        print \"Multivariate?\", multivariate\n",
    "#         if i in skip or i % 3 == 2:#< 11:# or i > 5:\n",
    "#             # 3 (11) was a problem\n",
    "#             continue\n",
    "        status = \"Doing file/unit/phase combination no.#%d/%d: %s, phase%s (unit: %s) (cond: %s)\" % (i+1, len(files)*3*3, ff, phase, unit, cond)\n",
    "        print status\n",
    "        log_file.write(status)\n",
    "#         do_it(ff, unit)\n",
    "#         newcode = code % (ff, unit)\n",
    "        skip_phase = map(str, list(set(range(3)) - set([phase])))\n",
    "#         do_it(ff,unit,False,skip_phase)\n",
    "        p = Popen(('python ProfileStreamlineNugget.py %s %s %s %s %s' % (ff, \n",
    "                                                                      unit,\n",
    "                                                                      True,\n",
    "                                                                      \" \".join(skip_phase),  \n",
    "                                                                      prefix)).split(),\n",
    "                                                                      stdout=PIPE, \n",
    "                                                                      stderr=STDOUT,\n",
    "                                                                      cwd=dd)\n",
    "#         do_it(ff, unit, True, skip_phase, prefix=prefix)\n",
    "        line = \" \"\n",
    "        while line:\n",
    "#             line = p.stdout.readline()\n",
    "#             if not line:\n",
    "#             output.append(line)\n",
    "#             print line.rstrip()\n",
    "            if \"GHMM\" not in str(line):\n",
    "                print line.rstrip()\n",
    "            log_file.write(line)\n",
    "            \n",
    "#             else:\n",
    "#                 warning.append(line)\n",
    "            line = p.stdout.readline()\n",
    "            \n",
    "#             line += \"\\n\" + p.stderr.readline()\n",
    "            # this prevents multivariate models from failing\n",
    "            # when in cluster mode for whatever reason\n",
    "#             if p.stderr:\n",
    "#                 a = \"%s\" % p.stderr.readlines()\n",
    "#                 del a\n",
    "            sys.stdout.flush()\n",
    "        print \"Return code:\", p.returncode\n",
    "#         error = p.stderr.readlines()#communicate()[1]\n",
    "#         print \"OUT\\n\", std\n",
    "#         print \"ERR\\n\", err\n",
    "#         gc.collect()"
   ]
  },
  {
   "cell_type": "code",
   "execution_count": null,
   "metadata": {
    "collapsed": false
   },
   "outputs": [],
   "source": []
  },
  {
   "cell_type": "code",
   "execution_count": null,
   "metadata": {
    "collapsed": true
   },
   "outputs": [],
   "source": []
  },
  {
   "cell_type": "code",
   "execution_count": null,
   "metadata": {
    "collapsed": true
   },
   "outputs": [],
   "source": []
  }
 ],
 "metadata": {
  "kernelspec": {
   "display_name": "Python 2",
   "language": "python",
   "name": "python2"
  },
  "language_info": {
   "codemirror_mode": {
    "name": "ipython",
    "version": 2
   },
   "file_extension": ".py",
   "mimetype": "text/x-python",
   "name": "python",
   "nbconvert_exporter": "python",
   "pygments_lexer": "ipython2",
   "version": "2.7.6"
  }
 },
 "nbformat": 4,
 "nbformat_minor": 0
}
