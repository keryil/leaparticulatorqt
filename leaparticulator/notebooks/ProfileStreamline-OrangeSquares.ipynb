{
 "cells": [
  {
   "cell_type": "code",
   "execution_count": 1,
   "metadata": {
    "collapsed": false
   },
   "outputs": [
    {
     "data": {
      "text/plain": [
       "['/home/kerem/Dropbox/ABACUS/Workspace/LeapArticulatorQt/logs/logs/orange_squares/OS1.1.exp.log',\n",
       " '/home/kerem/Dropbox/ABACUS/Workspace/LeapArticulatorQt/logs/logs/orange_squares/OS13.1.exp.log',\n",
       " '/home/kerem/Dropbox/ABACUS/Workspace/LeapArticulatorQt/logs/logs/orange_squares/OS16.1.exp.log',\n",
       " '/home/kerem/Dropbox/ABACUS/Workspace/LeapArticulatorQt/logs/logs/orange_squares/OS18.1.exp.log',\n",
       " '/home/kerem/Dropbox/ABACUS/Workspace/LeapArticulatorQt/logs/logs/orange_squares/OS19.1.exp.log',\n",
       " '/home/kerem/Dropbox/ABACUS/Workspace/LeapArticulatorQt/logs/logs/orange_squares/OS2.1.exp.log',\n",
       " '/home/kerem/Dropbox/ABACUS/Workspace/LeapArticulatorQt/logs/logs/orange_squares/OS23.1.exp.log',\n",
       " '/home/kerem/Dropbox/ABACUS/Workspace/LeapArticulatorQt/logs/logs/orange_squares/OS24.1.exp.log',\n",
       " '/home/kerem/Dropbox/ABACUS/Workspace/LeapArticulatorQt/logs/logs/orange_squares/OS21.1.exp.log',\n",
       " '/home/kerem/Dropbox/ABACUS/Workspace/LeapArticulatorQt/logs/logs/orange_squares/OS3.1.exp.log',\n",
       " '/home/kerem/Dropbox/ABACUS/Workspace/LeapArticulatorQt/logs/logs/orange_squares/OS7.1.exp.log',\n",
       " '/home/kerem/Dropbox/ABACUS/Workspace/LeapArticulatorQt/logs/logs/orange_squares/OS10.1.exp.log',\n",
       " '/home/kerem/Dropbox/ABACUS/Workspace/LeapArticulatorQt/logs/logs/orange_squares/OS11.1.exp.log',\n",
       " '/home/kerem/Dropbox/ABACUS/Workspace/LeapArticulatorQt/logs/logs/orange_squares/OS15.1.exp.log',\n",
       " '/home/kerem/Dropbox/ABACUS/Workspace/LeapArticulatorQt/logs/logs/orange_squares/OS17.1.exp.log',\n",
       " '/home/kerem/Dropbox/ABACUS/Workspace/LeapArticulatorQt/logs/logs/orange_squares/OS22.1.exp.log',\n",
       " '/home/kerem/Dropbox/ABACUS/Workspace/LeapArticulatorQt/logs/logs/orange_squares/OS25.1.exp.log',\n",
       " '/home/kerem/Dropbox/ABACUS/Workspace/LeapArticulatorQt/logs/logs/orange_squares/OS4.1.exp.log',\n",
       " '/home/kerem/Dropbox/ABACUS/Workspace/LeapArticulatorQt/logs/logs/orange_squares/OS5.1.exp.log',\n",
       " '/home/kerem/Dropbox/ABACUS/Workspace/LeapArticulatorQt/logs/logs/orange_squares/OS6.1.exp.log',\n",
       " '/home/kerem/Dropbox/ABACUS/Workspace/LeapArticulatorQt/logs/logs/orange_squares/OS8.1.exp.log',\n",
       " '/home/kerem/Dropbox/ABACUS/Workspace/LeapArticulatorQt/logs/logs/orange_squares/OS9.1.exp.log',\n",
       " '/home/kerem/Dropbox/ABACUS/Workspace/LeapArticulatorQt/logs/logs/orange_squares/OS20.1.exp.log']"
      ]
     },
     "execution_count": 1,
     "metadata": {},
     "output_type": "execute_result"
    }
   ],
   "source": [
    "from os import getcwd, chdir\n",
    "from os.path import expanduser, join\n",
    "from glob import glob\n",
    "prj_root = expanduser(\"~/Dropbox/ABACUS/Workspace/LeapArticulatorQt\")\n",
    "chdir(prj_root)\n",
    "prefix = \"logs/logs/orange_squares\"\n",
    "files = glob(join(prj_root, prefix,'*.*.exp.log'))\n",
    "# prefix = \"../logs/logs/orange_squares\"\n",
    "# files = files[:2]\n",
    "# files = map(lambda x: \"logs/discrete/%s.exp.log\" % x, \"D13200321014.2\".split(\",\"))\n",
    "files"
   ]
  },
  {
   "cell_type": "code",
   "execution_count": 2,
   "metadata": {
    "collapsed": false
   },
   "outputs": [
    {
     "name": "stdout",
     "output_type": "stream",
     "text": [
      "Overwriting ProfileStreamlineNugget.py\n"
     ]
    }
   ],
   "source": [
    "%%writefile ProfileStreamlineNugget.py\n",
    "import sys\n",
    "def do_it(file_id=sys.argv[1], units=sys.argv[2], parallel=sys.argv[3], skip_phases=sys.argv[4:-1],\n",
    "         prefix=sys.argv[-1]):\n",
    "    from leaparticulator.notebooks.StreamlinedDataAnalysisGhmm import analyze_log_file_in_phases_by_condition\n",
    "    from leaparticulator import constants\n",
    "    try:\n",
    "        print \"skip_phase=%s\" % skip_phases\n",
    "        print \"parallel? %s\" % parallel\n",
    "        print \"prefix=%s\" % prefix\n",
    "        analyze_log_file_in_phases_by_condition(file_id, nstates=range(2,26), trials=100, iter=1000, \n",
    "                                                parallel=parallel, units=units,\n",
    "                                            skip_phases=skip_phases, prefix=prefix)\n",
    "    except Exception, err:\n",
    "        print err\n",
    "if __name__ == \"__main__\":\n",
    "    do_it()"
   ]
  },
  {
   "cell_type": "code",
   "execution_count": 3,
   "metadata": {
    "collapsed": false,
    "scrolled": true
   },
   "outputs": [
    {
     "name": "stdout",
     "output_type": "stream",
     "text": [
      "/shared/Dropbox/ABACUS/Workspace/LeapArticulatorQt\n",
      "**********************************************\n",
      "/home/kerem/Dropbox/ABACUS/Workspace/LeapArticulatorQt/logs/logs/orange_squares/OS1.1.exp.log\n",
      "Multivariate? False\n",
      "Doing file/unit/phase combination no.#1/45: OS1.1, phase0 (unit: xy) (cond: 1)\n",
      "skip_phase=['1', '2']\n",
      "parallel? False\n",
      "prefix=logs/logs/orange_squares\n",
      "Starting phase by phase analysis, controlled for conditions (units: xy)... \n",
      "Working dir: /shared/Dropbox/ABACUS/Workspace/LeapArticulatorQt \n",
      "Condition 1 \n",
      "Doing phase#0 \n",
      "Loading log file: /shared/Dropbox/ABACUS/Workspace/LeapArticulatorQt/logs/logs/orange_squares/OS1.1.exp.log... \n",
      "Loaded. \n",
      "Sample data: [-65.35152435302734, -65.3702392578125, -65.8470458984375] \n",
      "Doing 2 state models... \n"
     ]
    },
    {
     "ename": "KeyboardInterrupt",
     "evalue": "",
     "output_type": "error",
     "traceback": [
      "\u001b[1;31m---------------------------------------------------------------------------\u001b[0m",
      "\u001b[1;31mKeyboardInterrupt\u001b[0m                         Traceback (most recent call last)",
      "\u001b[1;32m<ipython-input-3-b4d31d5a82ed>\u001b[0m in \u001b[0;36m<module>\u001b[1;34m()\u001b[0m\n\u001b[0;32m     50\u001b[0m \u001b[1;31m#         newcode = code % (ff, unit)\u001b[0m\u001b[1;33m\u001b[0m\u001b[1;33m\u001b[0m\u001b[0m\n\u001b[0;32m     51\u001b[0m         \u001b[0mskip_phase\u001b[0m \u001b[1;33m=\u001b[0m \u001b[0mmap\u001b[0m\u001b[1;33m(\u001b[0m\u001b[0mstr\u001b[0m\u001b[1;33m,\u001b[0m \u001b[0mlist\u001b[0m\u001b[1;33m(\u001b[0m\u001b[0mset\u001b[0m\u001b[1;33m(\u001b[0m\u001b[0mrange\u001b[0m\u001b[1;33m(\u001b[0m\u001b[1;36m3\u001b[0m\u001b[1;33m)\u001b[0m\u001b[1;33m)\u001b[0m \u001b[1;33m-\u001b[0m \u001b[0mset\u001b[0m\u001b[1;33m(\u001b[0m\u001b[1;33m[\u001b[0m\u001b[0mphase\u001b[0m\u001b[1;33m]\u001b[0m\u001b[1;33m)\u001b[0m\u001b[1;33m)\u001b[0m\u001b[1;33m)\u001b[0m\u001b[1;33m\u001b[0m\u001b[0m\n\u001b[1;32m---> 52\u001b[1;33m         \u001b[0mdo_it\u001b[0m\u001b[1;33m(\u001b[0m\u001b[0mff\u001b[0m\u001b[1;33m,\u001b[0m\u001b[0munit\u001b[0m\u001b[1;33m,\u001b[0m\u001b[0mFalse\u001b[0m\u001b[1;33m,\u001b[0m\u001b[0mskip_phase\u001b[0m\u001b[1;33m,\u001b[0m \u001b[0mprefix\u001b[0m\u001b[1;33m)\u001b[0m\u001b[1;33m\u001b[0m\u001b[0m\n\u001b[0m\u001b[0;32m     53\u001b[0m \u001b[1;31m#         p = Popen(('python ProfileStreamlineNugget.py %s %s %s %s %s' % (ff,\u001b[0m\u001b[1;33m\u001b[0m\u001b[1;33m\u001b[0m\u001b[0m\n\u001b[0;32m     54\u001b[0m \u001b[1;31m#                                                                       unit,\u001b[0m\u001b[1;33m\u001b[0m\u001b[1;33m\u001b[0m\u001b[0m\n",
      "\u001b[1;32m/shared/Dropbox/ABACUS/Workspace/LeapArticulatorQt/ProfileStreamlineNugget.py\u001b[0m in \u001b[0;36mdo_it\u001b[1;34m(file_id, units, parallel, skip_phases, prefix)\u001b[0m\n\u001b[0;32m     10\u001b[0m         analyze_log_file_in_phases_by_condition(file_id, nstates=range(2,26), trials=100, iter=1000, \n\u001b[0;32m     11\u001b[0m                                                 \u001b[0mparallel\u001b[0m\u001b[1;33m=\u001b[0m\u001b[0mparallel\u001b[0m\u001b[1;33m,\u001b[0m \u001b[0munits\u001b[0m\u001b[1;33m=\u001b[0m\u001b[0munits\u001b[0m\u001b[1;33m,\u001b[0m\u001b[1;33m\u001b[0m\u001b[0m\n\u001b[1;32m---> 12\u001b[1;33m                                             skip_phases=skip_phases, prefix=prefix)\n\u001b[0m\u001b[0;32m     13\u001b[0m     \u001b[1;32mexcept\u001b[0m \u001b[0mException\u001b[0m\u001b[1;33m,\u001b[0m \u001b[0merr\u001b[0m\u001b[1;33m:\u001b[0m\u001b[1;33m\u001b[0m\u001b[0m\n\u001b[0;32m     14\u001b[0m         \u001b[1;32mprint\u001b[0m \u001b[0merr\u001b[0m\u001b[1;33m\u001b[0m\u001b[0m\n",
      "\u001b[1;32m/shared/Dropbox/ABACUS/Workspace/LeapArticulatorQt/leaparticulator/notebooks/StreamlinedDataAnalysisGhmm.pyc\u001b[0m in \u001b[0;36manalyze_log_file_in_phases_by_condition\u001b[1;34m(file_id, nstates, trials, iter, units, parallel, prefix, skip_phases)\u001b[0m\n\u001b[0;32m    720\u001b[0m         \u001b[0mprint_n_flush\u001b[0m\u001b[1;33m(\u001b[0m\u001b[1;34m\"Doing phase#%d\"\u001b[0m \u001b[1;33m%\u001b[0m \u001b[0mi\u001b[0m\u001b[1;33m)\u001b[0m\u001b[1;33m\u001b[0m\u001b[0m\n\u001b[0;32m    721\u001b[0m         results[i] = train_hmm_n_times(file_id, nstates=nstates, trials=trials, iter=iter, phase=i, cond=cond,\n\u001b[1;32m--> 722\u001b[1;33m                                        units=units, parallel=parallel, pickle=True)\n\u001b[0m\u001b[0;32m    723\u001b[0m         \u001b[0mgc\u001b[0m\u001b[1;33m.\u001b[0m\u001b[0mcollect\u001b[0m\u001b[1;33m(\u001b[0m\u001b[1;33m)\u001b[0m\u001b[1;33m\u001b[0m\u001b[0m\n\u001b[0;32m    724\u001b[0m     \u001b[1;32mreturn\u001b[0m \u001b[0mresults\u001b[0m\u001b[1;33m\u001b[0m\u001b[0m\n",
      "\u001b[1;32m/shared/Dropbox/ABACUS/Workspace/LeapArticulatorQt/leaparticulator/notebooks/StreamlinedDataAnalysisGhmm.pyc\u001b[0m in \u001b[0;36mtrain_hmm_n_times\u001b[1;34m(file_id, nstates, trials, iter, pickle, phase, cond, units, parallel, include_practice)\u001b[0m\n\u001b[0;32m    488\u001b[0m \u001b[1;33m\u001b[0m\u001b[0m\n\u001b[0;32m    489\u001b[0m         \u001b[1;32mif\u001b[0m \u001b[1;32mnot\u001b[0m \u001b[0mparallel\u001b[0m\u001b[1;33m:\u001b[0m\u001b[1;33m\u001b[0m\u001b[0m\n\u001b[1;32m--> 490\u001b[1;33m             \u001b[0mhmms\u001b[0m \u001b[1;33m=\u001b[0m \u001b[0mmap\u001b[0m\u001b[1;33m(\u001b[0m\u001b[0mfn\u001b[0m\u001b[1;33m,\u001b[0m\u001b[0margs\u001b[0m\u001b[1;33m)\u001b[0m\u001b[1;31m#[(data,nstates,range_x,range_y)] * trials)\u001b[0m\u001b[1;33m\u001b[0m\u001b[0m\n\u001b[0m\u001b[0;32m    491\u001b[0m         \u001b[1;32melse\u001b[0m\u001b[1;33m:\u001b[0m\u001b[1;33m\u001b[0m\u001b[0m\n\u001b[0;32m    492\u001b[0m             \u001b[0mhmms\u001b[0m \u001b[1;33m=\u001b[0m \u001b[0mlview\u001b[0m\u001b[1;33m.\u001b[0m\u001b[0mmap\u001b[0m\u001b[1;33m(\u001b[0m\u001b[0mfn\u001b[0m\u001b[1;33m,\u001b[0m\u001b[0margs\u001b[0m\u001b[1;33m)\u001b[0m\u001b[1;31m#[(data,nstates,range_x,range_y)] * trials)\u001b[0m\u001b[1;33m\u001b[0m\u001b[0m\n",
      "\u001b[1;32m/shared/Dropbox/ABACUS/Workspace/LeapArticulatorQt/leaparticulator/notebooks/StreamlinedDataAnalysisGhmm.pyc\u001b[0m in \u001b[0;36mfn\u001b[1;34m(args)\u001b[0m\n\u001b[0;32m    371\u001b[0m     \u001b[1;32mfrom\u001b[0m \u001b[0mpickle\u001b[0m \u001b[1;32mimport\u001b[0m \u001b[0mdumps\u001b[0m\u001b[1;33m\u001b[0m\u001b[0m\n\u001b[0;32m    372\u001b[0m     \u001b[0mdata\u001b[0m\u001b[1;33m,\u001b[0m\u001b[0mnstates\u001b[0m\u001b[1;33m,\u001b[0m\u001b[0mrange_x\u001b[0m\u001b[1;33m,\u001b[0m\u001b[0mrange_y\u001b[0m \u001b[1;33m=\u001b[0m \u001b[0margs\u001b[0m\u001b[1;33m\u001b[0m\u001b[0m\n\u001b[1;32m--> 373\u001b[1;33m     \u001b[0mhmm\u001b[0m \u001b[1;33m=\u001b[0m \u001b[0mtrain_hmm_on_set_of_obs\u001b[0m\u001b[1;33m(\u001b[0m\u001b[0mdata\u001b[0m\u001b[1;33m,\u001b[0m\u001b[0mnstates\u001b[0m\u001b[1;33m,\u001b[0m\u001b[0mrange_x\u001b[0m\u001b[1;33m,\u001b[0m\u001b[0mrange_y\u001b[0m\u001b[1;33m)\u001b[0m\u001b[1;33m\u001b[0m\u001b[0m\n\u001b[0m\u001b[0;32m    374\u001b[0m \u001b[1;31m#     print type(hmm)\u001b[0m\u001b[1;33m\u001b[0m\u001b[1;33m\u001b[0m\u001b[0m\n\u001b[0;32m    375\u001b[0m \u001b[1;31m#     return 1\u001b[0m\u001b[1;33m\u001b[0m\u001b[1;33m\u001b[0m\u001b[0m\n",
      "\u001b[1;32m/shared/Dropbox/ABACUS/Workspace/LeapArticulatorQt/leaparticulator/notebooks/GHmmWrapper.pyc\u001b[0m in \u001b[0;36mtrain_hmm_on_set_of_obs\u001b[1;34m(data, nstates, range_x, range_y)\u001b[0m\n\u001b[0;32m    186\u001b[0m         \u001b[0mobs\u001b[0m \u001b[1;33m=\u001b[0m \u001b[0mghmm\u001b[0m\u001b[1;33m.\u001b[0m\u001b[0mSequenceSet\u001b[0m\u001b[1;33m(\u001b[0m\u001b[0mdomain\u001b[0m\u001b[1;33m,\u001b[0m \u001b[1;33m[\u001b[0m\u001b[0mghmm\u001b[0m\u001b[1;33m.\u001b[0m\u001b[0mEmissionSequence\u001b[0m\u001b[1;33m(\u001b[0m\u001b[0mdomain\u001b[0m\u001b[1;33m,\u001b[0m \u001b[0md\u001b[0m\u001b[1;33m)\u001b[0m \u001b[1;32mfor\u001b[0m \u001b[0md\u001b[0m \u001b[1;32min\u001b[0m \u001b[0mdata\u001b[0m\u001b[1;33m]\u001b[0m\u001b[1;33m)\u001b[0m\u001b[1;33m\u001b[0m\u001b[0m\n\u001b[0;32m    187\u001b[0m         \u001b[0mvariance\u001b[0m \u001b[1;33m=\u001b[0m \u001b[0mnp\u001b[0m\u001b[1;33m.\u001b[0m\u001b[0mvar\u001b[0m\u001b[1;33m(\u001b[0m\u001b[1;33m[\u001b[0m\u001b[0mitem\u001b[0m \u001b[1;32mfor\u001b[0m \u001b[0mseq\u001b[0m \u001b[1;32min\u001b[0m \u001b[0mdata\u001b[0m \u001b[1;32mfor\u001b[0m \u001b[0mitem\u001b[0m \u001b[1;32min\u001b[0m \u001b[0mseq\u001b[0m\u001b[1;33m]\u001b[0m\u001b[1;33m)\u001b[0m\u001b[1;33m\u001b[0m\u001b[0m\n\u001b[1;32m--> 188\u001b[1;33m         \u001b[0mmeans\u001b[0m \u001b[1;33m=\u001b[0m \u001b[0mKMeans\u001b[0m\u001b[1;33m(\u001b[0m\u001b[0mn_clusters\u001b[0m\u001b[1;33m=\u001b[0m\u001b[0mnstates\u001b[0m\u001b[1;33m)\u001b[0m\u001b[1;33m.\u001b[0m\u001b[0mfit\u001b[0m\u001b[1;33m(\u001b[0m\u001b[0mdata_np\u001b[0m\u001b[1;33m.\u001b[0m\u001b[0mreshape\u001b[0m\u001b[1;33m(\u001b[0m\u001b[1;33m(\u001b[0m\u001b[0mlen\u001b[0m\u001b[1;33m(\u001b[0m\u001b[0mdata_np\u001b[0m\u001b[1;33m)\u001b[0m\u001b[1;33m,\u001b[0m\u001b[1;36m1\u001b[0m\u001b[1;33m)\u001b[0m\u001b[1;33m)\u001b[0m\u001b[1;33m)\u001b[0m\u001b[1;33m.\u001b[0m\u001b[0mcluster_centers_\u001b[0m\u001b[1;33m\u001b[0m\u001b[0m\n\u001b[0m\u001b[0;32m    189\u001b[0m         \u001b[0mB\u001b[0m \u001b[1;33m=\u001b[0m \u001b[1;33m[\u001b[0m\u001b[1;33m[\u001b[0m\u001b[0mlist\u001b[0m\u001b[1;33m(\u001b[0m\u001b[0mmean\u001b[0m\u001b[1;33m)\u001b[0m\u001b[1;33m[\u001b[0m\u001b[1;36m0\u001b[0m\u001b[1;33m]\u001b[0m\u001b[1;33m,\u001b[0m \u001b[0mvariance\u001b[0m\u001b[1;33m]\u001b[0m \u001b[1;32mfor\u001b[0m \u001b[0mmean\u001b[0m \u001b[1;32min\u001b[0m \u001b[0mmeans\u001b[0m\u001b[1;33m]\u001b[0m\u001b[1;33m\u001b[0m\u001b[0m\n\u001b[0;32m    190\u001b[0m         \u001b[0mdist\u001b[0m \u001b[1;33m=\u001b[0m \u001b[0mghmm\u001b[0m\u001b[1;33m.\u001b[0m\u001b[0mGaussianDistribution\u001b[0m\u001b[1;33m(\u001b[0m\u001b[0mdomain\u001b[0m\u001b[1;33m)\u001b[0m\u001b[1;33m\u001b[0m\u001b[0m\n",
      "\u001b[1;32m/usr/lib64/python2.7/site-packages/sklearn/cluster/k_means_.pyc\u001b[0m in \u001b[0;36mfit\u001b[1;34m(self, X, y)\u001b[0m\n\u001b[0;32m    792\u001b[0m                 \u001b[0mprecompute_distances\u001b[0m\u001b[1;33m=\u001b[0m\u001b[0mself\u001b[0m\u001b[1;33m.\u001b[0m\u001b[0mprecompute_distances\u001b[0m\u001b[1;33m,\u001b[0m\u001b[1;33m\u001b[0m\u001b[0m\n\u001b[0;32m    793\u001b[0m                 \u001b[0mtol\u001b[0m\u001b[1;33m=\u001b[0m\u001b[0mself\u001b[0m\u001b[1;33m.\u001b[0m\u001b[0mtol\u001b[0m\u001b[1;33m,\u001b[0m \u001b[0mrandom_state\u001b[0m\u001b[1;33m=\u001b[0m\u001b[0mrandom_state\u001b[0m\u001b[1;33m,\u001b[0m \u001b[0mcopy_x\u001b[0m\u001b[1;33m=\u001b[0m\u001b[0mself\u001b[0m\u001b[1;33m.\u001b[0m\u001b[0mcopy_x\u001b[0m\u001b[1;33m,\u001b[0m\u001b[1;33m\u001b[0m\u001b[0m\n\u001b[1;32m--> 794\u001b[1;33m                 n_jobs=self.n_jobs)\n\u001b[0m\u001b[0;32m    795\u001b[0m         \u001b[1;32mreturn\u001b[0m \u001b[0mself\u001b[0m\u001b[1;33m\u001b[0m\u001b[0m\n\u001b[0;32m    796\u001b[0m \u001b[1;33m\u001b[0m\u001b[0m\n",
      "\u001b[1;32m/usr/lib64/python2.7/site-packages/sklearn/cluster/k_means_.pyc\u001b[0m in \u001b[0;36mk_means\u001b[1;34m(X, n_clusters, init, precompute_distances, n_init, max_iter, verbose, tol, random_state, copy_x, n_jobs, return_n_iter)\u001b[0m\n\u001b[0;32m    299\u001b[0m                 \u001b[0mX\u001b[0m\u001b[1;33m,\u001b[0m \u001b[0mn_clusters\u001b[0m\u001b[1;33m,\u001b[0m \u001b[0mmax_iter\u001b[0m\u001b[1;33m=\u001b[0m\u001b[0mmax_iter\u001b[0m\u001b[1;33m,\u001b[0m \u001b[0minit\u001b[0m\u001b[1;33m=\u001b[0m\u001b[0minit\u001b[0m\u001b[1;33m,\u001b[0m \u001b[0mverbose\u001b[0m\u001b[1;33m=\u001b[0m\u001b[0mverbose\u001b[0m\u001b[1;33m,\u001b[0m\u001b[1;33m\u001b[0m\u001b[0m\n\u001b[0;32m    300\u001b[0m                 \u001b[0mprecompute_distances\u001b[0m\u001b[1;33m=\u001b[0m\u001b[0mprecompute_distances\u001b[0m\u001b[1;33m,\u001b[0m \u001b[0mtol\u001b[0m\u001b[1;33m=\u001b[0m\u001b[0mtol\u001b[0m\u001b[1;33m,\u001b[0m\u001b[1;33m\u001b[0m\u001b[0m\n\u001b[1;32m--> 301\u001b[1;33m                 x_squared_norms=x_squared_norms, random_state=random_state)\n\u001b[0m\u001b[0;32m    302\u001b[0m             \u001b[1;31m# determine if these results are the best so far\u001b[0m\u001b[1;33m\u001b[0m\u001b[1;33m\u001b[0m\u001b[0m\n\u001b[0;32m    303\u001b[0m             \u001b[1;32mif\u001b[0m \u001b[0mbest_inertia\u001b[0m \u001b[1;32mis\u001b[0m \u001b[0mNone\u001b[0m \u001b[1;32mor\u001b[0m \u001b[0minertia\u001b[0m \u001b[1;33m<\u001b[0m \u001b[0mbest_inertia\u001b[0m\u001b[1;33m:\u001b[0m\u001b[1;33m\u001b[0m\u001b[0m\n",
      "\u001b[1;32m/usr/lib64/python2.7/site-packages/sklearn/cluster/k_means_.pyc\u001b[0m in \u001b[0;36m_kmeans_single\u001b[1;34m(X, n_clusters, x_squared_norms, max_iter, init, verbose, random_state, tol, precompute_distances)\u001b[0m\n\u001b[0;32m    422\u001b[0m             _labels_inertia(X, x_squared_norms, centers,\n\u001b[0;32m    423\u001b[0m                             \u001b[0mprecompute_distances\u001b[0m\u001b[1;33m=\u001b[0m\u001b[0mprecompute_distances\u001b[0m\u001b[1;33m,\u001b[0m\u001b[1;33m\u001b[0m\u001b[0m\n\u001b[1;32m--> 424\u001b[1;33m                             distances=distances)\n\u001b[0m\u001b[0;32m    425\u001b[0m \u001b[1;33m\u001b[0m\u001b[0m\n\u001b[0;32m    426\u001b[0m         \u001b[1;31m# computation of the means is also called the M-step of EM\u001b[0m\u001b[1;33m\u001b[0m\u001b[1;33m\u001b[0m\u001b[0m\n",
      "\u001b[1;32m/usr/lib64/python2.7/site-packages/sklearn/cluster/k_means_.pyc\u001b[0m in \u001b[0;36m_labels_inertia\u001b[1;34m(X, x_squared_norms, centers, precompute_distances, distances)\u001b[0m\n\u001b[0;32m    540\u001b[0m         \u001b[1;32mif\u001b[0m \u001b[0mprecompute_distances\u001b[0m\u001b[1;33m:\u001b[0m\u001b[1;33m\u001b[0m\u001b[0m\n\u001b[0;32m    541\u001b[0m             return _labels_inertia_precompute_dense(X, x_squared_norms,\n\u001b[1;32m--> 542\u001b[1;33m                                                     centers, distances)\n\u001b[0m\u001b[0;32m    543\u001b[0m         inertia = _k_means._assign_labels_array(\n\u001b[0;32m    544\u001b[0m             X, x_squared_norms, centers, labels, distances=distances)\n",
      "\u001b[1;32m/usr/lib64/python2.7/site-packages/sklearn/cluster/k_means_.pyc\u001b[0m in \u001b[0;36m_labels_inertia_precompute_dense\u001b[1;34m(X, x_squared_norms, centers, distances)\u001b[0m\n\u001b[0;32m    477\u001b[0m     \u001b[0mk\u001b[0m \u001b[1;33m=\u001b[0m \u001b[0mcenters\u001b[0m\u001b[1;33m.\u001b[0m\u001b[0mshape\u001b[0m\u001b[1;33m[\u001b[0m\u001b[1;36m0\u001b[0m\u001b[1;33m]\u001b[0m\u001b[1;33m\u001b[0m\u001b[0m\n\u001b[0;32m    478\u001b[0m     all_distances = euclidean_distances(centers, X, x_squared_norms,\n\u001b[1;32m--> 479\u001b[1;33m                                         squared=True)\n\u001b[0m\u001b[0;32m    480\u001b[0m     \u001b[0mlabels\u001b[0m \u001b[1;33m=\u001b[0m \u001b[0mnp\u001b[0m\u001b[1;33m.\u001b[0m\u001b[0mempty\u001b[0m\u001b[1;33m(\u001b[0m\u001b[0mn_samples\u001b[0m\u001b[1;33m,\u001b[0m \u001b[0mdtype\u001b[0m\u001b[1;33m=\u001b[0m\u001b[0mnp\u001b[0m\u001b[1;33m.\u001b[0m\u001b[0mint32\u001b[0m\u001b[1;33m)\u001b[0m\u001b[1;33m\u001b[0m\u001b[0m\n\u001b[0;32m    481\u001b[0m     \u001b[0mlabels\u001b[0m\u001b[1;33m.\u001b[0m\u001b[0mfill\u001b[0m\u001b[1;33m(\u001b[0m\u001b[1;33m-\u001b[0m\u001b[1;36m1\u001b[0m\u001b[1;33m)\u001b[0m\u001b[1;33m\u001b[0m\u001b[0m\n",
      "\u001b[1;32m/usr/lib64/python2.7/site-packages/sklearn/metrics/pairwise.pyc\u001b[0m in \u001b[0;36meuclidean_distances\u001b[1;34m(X, Y, Y_norm_squared, squared)\u001b[0m\n\u001b[0;32m    190\u001b[0m     \u001b[1;31m# well as Y, then you should just pre-compute the output and not even\u001b[0m\u001b[1;33m\u001b[0m\u001b[1;33m\u001b[0m\u001b[0m\n\u001b[0;32m    191\u001b[0m     \u001b[1;31m# call this function.\u001b[0m\u001b[1;33m\u001b[0m\u001b[1;33m\u001b[0m\u001b[0m\n\u001b[1;32m--> 192\u001b[1;33m     \u001b[0mX\u001b[0m\u001b[1;33m,\u001b[0m \u001b[0mY\u001b[0m \u001b[1;33m=\u001b[0m \u001b[0mcheck_pairwise_arrays\u001b[0m\u001b[1;33m(\u001b[0m\u001b[0mX\u001b[0m\u001b[1;33m,\u001b[0m \u001b[0mY\u001b[0m\u001b[1;33m)\u001b[0m\u001b[1;33m\u001b[0m\u001b[0m\n\u001b[0m\u001b[0;32m    193\u001b[0m \u001b[1;33m\u001b[0m\u001b[0m\n\u001b[0;32m    194\u001b[0m     \u001b[1;32mif\u001b[0m \u001b[0mY_norm_squared\u001b[0m \u001b[1;32mis\u001b[0m \u001b[1;32mnot\u001b[0m \u001b[0mNone\u001b[0m\u001b[1;33m:\u001b[0m\u001b[1;33m\u001b[0m\u001b[0m\n",
      "\u001b[1;32m/usr/lib64/python2.7/site-packages/sklearn/metrics/pairwise.pyc\u001b[0m in \u001b[0;36mcheck_pairwise_arrays\u001b[1;34m(X, Y)\u001b[0m\n\u001b[0;32m     89\u001b[0m         \u001b[0mX\u001b[0m \u001b[1;33m=\u001b[0m \u001b[0mY\u001b[0m \u001b[1;33m=\u001b[0m \u001b[0mcheck_array\u001b[0m\u001b[1;33m(\u001b[0m\u001b[0mX\u001b[0m\u001b[1;33m,\u001b[0m \u001b[0maccept_sparse\u001b[0m\u001b[1;33m=\u001b[0m\u001b[1;34m'csr'\u001b[0m\u001b[1;33m,\u001b[0m \u001b[0mdtype\u001b[0m\u001b[1;33m=\u001b[0m\u001b[0mdtype\u001b[0m\u001b[1;33m)\u001b[0m\u001b[1;33m\u001b[0m\u001b[0m\n\u001b[0;32m     90\u001b[0m     \u001b[1;32melse\u001b[0m\u001b[1;33m:\u001b[0m\u001b[1;33m\u001b[0m\u001b[0m\n\u001b[1;32m---> 91\u001b[1;33m         \u001b[0mX\u001b[0m \u001b[1;33m=\u001b[0m \u001b[0mcheck_array\u001b[0m\u001b[1;33m(\u001b[0m\u001b[0mX\u001b[0m\u001b[1;33m,\u001b[0m \u001b[0maccept_sparse\u001b[0m\u001b[1;33m=\u001b[0m\u001b[1;34m'csr'\u001b[0m\u001b[1;33m,\u001b[0m \u001b[0mdtype\u001b[0m\u001b[1;33m=\u001b[0m\u001b[0mdtype\u001b[0m\u001b[1;33m)\u001b[0m\u001b[1;33m\u001b[0m\u001b[0m\n\u001b[0m\u001b[0;32m     92\u001b[0m         \u001b[0mY\u001b[0m \u001b[1;33m=\u001b[0m \u001b[0mcheck_array\u001b[0m\u001b[1;33m(\u001b[0m\u001b[0mY\u001b[0m\u001b[1;33m,\u001b[0m \u001b[0maccept_sparse\u001b[0m\u001b[1;33m=\u001b[0m\u001b[1;34m'csr'\u001b[0m\u001b[1;33m,\u001b[0m \u001b[0mdtype\u001b[0m\u001b[1;33m=\u001b[0m\u001b[0mdtype\u001b[0m\u001b[1;33m)\u001b[0m\u001b[1;33m\u001b[0m\u001b[0m\n\u001b[0;32m     93\u001b[0m     \u001b[1;32mif\u001b[0m \u001b[0mX\u001b[0m\u001b[1;33m.\u001b[0m\u001b[0mshape\u001b[0m\u001b[1;33m[\u001b[0m\u001b[1;36m1\u001b[0m\u001b[1;33m]\u001b[0m \u001b[1;33m!=\u001b[0m \u001b[0mY\u001b[0m\u001b[1;33m.\u001b[0m\u001b[0mshape\u001b[0m\u001b[1;33m[\u001b[0m\u001b[1;36m1\u001b[0m\u001b[1;33m]\u001b[0m\u001b[1;33m:\u001b[0m\u001b[1;33m\u001b[0m\u001b[0m\n",
      "\u001b[1;32m/usr/lib64/python2.7/site-packages/sklearn/utils/validation.pyc\u001b[0m in \u001b[0;36mcheck_array\u001b[1;34m(array, accept_sparse, dtype, order, copy, force_all_finite, ensure_2d, allow_nd, ensure_min_samples, ensure_min_features)\u001b[0m\n\u001b[0;32m    354\u001b[0m     \u001b[0mshape_repr\u001b[0m \u001b[1;33m=\u001b[0m \u001b[0m_shape_repr\u001b[0m\u001b[1;33m(\u001b[0m\u001b[0marray\u001b[0m\u001b[1;33m.\u001b[0m\u001b[0mshape\u001b[0m\u001b[1;33m)\u001b[0m\u001b[1;33m\u001b[0m\u001b[0m\n\u001b[0;32m    355\u001b[0m     \u001b[1;32mif\u001b[0m \u001b[0mensure_min_samples\u001b[0m \u001b[1;33m>\u001b[0m \u001b[1;36m0\u001b[0m\u001b[1;33m:\u001b[0m\u001b[1;33m\u001b[0m\u001b[0m\n\u001b[1;32m--> 356\u001b[1;33m         \u001b[0mn_samples\u001b[0m \u001b[1;33m=\u001b[0m \u001b[0m_num_samples\u001b[0m\u001b[1;33m(\u001b[0m\u001b[0marray\u001b[0m\u001b[1;33m)\u001b[0m\u001b[1;33m\u001b[0m\u001b[0m\n\u001b[0m\u001b[0;32m    357\u001b[0m         \u001b[1;32mif\u001b[0m \u001b[0mn_samples\u001b[0m \u001b[1;33m<\u001b[0m \u001b[0mensure_min_samples\u001b[0m\u001b[1;33m:\u001b[0m\u001b[1;33m\u001b[0m\u001b[0m\n\u001b[0;32m    358\u001b[0m             raise ValueError(\"Found array with %d sample(s) (shape=%s) while a\"\n",
      "\u001b[1;32m/usr/lib64/python2.7/site-packages/sklearn/utils/validation.pyc\u001b[0m in \u001b[0;36m_num_samples\u001b[1;34m(x)\u001b[0m\n\u001b[0;32m    115\u001b[0m             raise TypeError(\"Expected sequence or array-like, got %s\" %\n\u001b[0;32m    116\u001b[0m                             type(x))\n\u001b[1;32m--> 117\u001b[1;33m     \u001b[1;32mif\u001b[0m \u001b[0mhasattr\u001b[0m\u001b[1;33m(\u001b[0m\u001b[0mx\u001b[0m\u001b[1;33m,\u001b[0m \u001b[1;34m'shape'\u001b[0m\u001b[1;33m)\u001b[0m\u001b[1;33m:\u001b[0m\u001b[1;33m\u001b[0m\u001b[0m\n\u001b[0m\u001b[0;32m    118\u001b[0m         \u001b[1;32mif\u001b[0m \u001b[0mlen\u001b[0m\u001b[1;33m(\u001b[0m\u001b[0mx\u001b[0m\u001b[1;33m.\u001b[0m\u001b[0mshape\u001b[0m\u001b[1;33m)\u001b[0m \u001b[1;33m==\u001b[0m \u001b[1;36m0\u001b[0m\u001b[1;33m:\u001b[0m\u001b[1;33m\u001b[0m\u001b[0m\n\u001b[0;32m    119\u001b[0m             raise TypeError(\"Singleton array %r cannot be considered\"\n",
      "\u001b[1;31mKeyboardInterrupt\u001b[0m: "
     ]
    }
   ],
   "source": [
    "%load_ext autoreload\n",
    "%autoreload 2\n",
    "import warnings, sys\n",
    "warnings.filterwarnings('ignore')\n",
    "from leaparticulator.notebooks.StreamlinedDataAnalysisGhmm import analyze_log_file_in_phases_by_condition\n",
    "from leaparticulator import constants #, GHmmWrapper, gc\n",
    "from itertools import product\n",
    "from subprocess import Popen, PIPE, os, STDOUT\n",
    "from ProfileStreamlineNugget import do_it\n",
    "files = files[:5]\n",
    "files_n_units = product(files, [constants.XY, constants.AMP_AND_FREQ, constants.AMP_AND_MEL], range(3))\n",
    "dd = os.getcwd()\n",
    "error = []\n",
    "warning = []\n",
    "output = []\n",
    "# skip = [11,14, 17]\n",
    "# skip = lrange(115,226)\n",
    "skip = []\n",
    "# 11 is a problem, again\n",
    "\n",
    "# skip = range(207)\n",
    "# return\n",
    "p = None\n",
    "from datetime import datetime\n",
    "log_file = open(\"logs/StreamlineLog-OrangeSquares.%s.log\" % datetime.now(), 'w', 0)\n",
    "for i, (f, unit, phase) in enumerate(files_n_units):\n",
    "#         if i <= 13:\n",
    "#             continue\n",
    "        log_file.write(\"**********************************************\")\n",
    "        print \"**********************************************\"\n",
    "        log_file.write(f)\n",
    "        print f\n",
    "        ff = f.split(\"/\")[-1][:-8]\n",
    "        cond = ff.split(\".\")[-1]\n",
    "        if cond == \"master\":\n",
    "            cond = \"1\"\n",
    "        multivariate = (\"1\" in cond and phase==2) or (\"2\" in cond and phase==1)\n",
    "#         if i not in [11,14,17]:\n",
    "#             continue\n",
    "        if i in skip: #or not multivariate:\n",
    "            continue\n",
    "        print \"Multivariate?\", multivariate\n",
    "#         if i in skip or i % 3 == 2:#< 11:# or i > 5:\n",
    "#             # 3 (11) was a problem\n",
    "#             continue\n",
    "        status = \"Doing file/unit/phase combination no.#%d/%d: %s, phase%s (unit: %s) (cond: %s)\" % (i+1, len(files)*3*3, ff, phase, unit, cond)\n",
    "        print status\n",
    "        log_file.write(status)\n",
    "#         do_it(ff, unit)\n",
    "#         newcode = code % (ff, unit)\n",
    "        skip_phase = map(str, list(set(range(3)) - set([phase])))\n",
    "        do_it(ff,unit,False,skip_phase, prefix)\n",
    "#         p = Popen(('python ProfileStreamlineNugget.py %s %s %s %s %s' % (ff, \n",
    "#                                                                       unit,\n",
    "#                                                                       True,\n",
    "#                                                                       \" \".join(skip_phase),  \n",
    "#                                                                       prefix)).split(),\n",
    "#                                                                       stdout=PIPE, \n",
    "#                                                                       stderr=STDOUT,\n",
    "#                                                                       cwd=dd)\n",
    "# #         do_it(ff, unit, True, skip_phase, prefix=prefix)\n",
    "#         line = \" \"\n",
    "#         while line:\n",
    "# #             line = p.stdout.readline()\n",
    "# #             if not line:\n",
    "# #             output.append(line)\n",
    "# #             print line.rstrip()\n",
    "#             if \"GHMM\" not in str(line):\n",
    "#                 print line.rstrip()\n",
    "#             log_file.write(line)\n",
    "            \n",
    "# #             else:\n",
    "# #                 warning.append(line)\n",
    "#             line = p.stdout.readline()\n",
    "            \n",
    "# #             line += \"\\n\" + p.stderr.readline()\n",
    "#             # this prevents multivariate models from failing\n",
    "#             # when in cluster mode for whatever reason\n",
    "# #             if p.stderr:\n",
    "# #                 a = \"%s\" % p.stderr.readlines()\n",
    "# #                 del a\n",
    "#             sys.stdout.flush()\n",
    "#         print \"Return code:\", p.returncode\n",
    "#         error = p.stderr.readlines()#communicate()[1]\n",
    "#         print \"OUT\\n\", std\n",
    "#         print \"ERR\\n\", err\n",
    "#         gc.collect()"
   ]
  },
  {
   "cell_type": "code",
   "execution_count": null,
   "metadata": {
    "collapsed": false
   },
   "outputs": [],
   "source": []
  },
  {
   "cell_type": "code",
   "execution_count": null,
   "metadata": {
    "collapsed": true
   },
   "outputs": [],
   "source": []
  },
  {
   "cell_type": "code",
   "execution_count": null,
   "metadata": {
    "collapsed": true
   },
   "outputs": [],
   "source": []
  }
 ],
 "metadata": {
  "kernelspec": {
   "display_name": "Python 2",
   "language": "python",
   "name": "python2"
  },
  "language_info": {
   "codemirror_mode": {
    "name": "ipython",
    "version": 2
   },
   "file_extension": ".py",
   "mimetype": "text/x-python",
   "name": "python",
   "nbconvert_exporter": "python",
   "pygments_lexer": "ipython2",
   "version": "2.7.6"
  }
 },
 "nbformat": 4,
 "nbformat_minor": 0
}
