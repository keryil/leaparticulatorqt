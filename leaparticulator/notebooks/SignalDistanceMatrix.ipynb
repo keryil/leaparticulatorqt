{
 "metadata": {
  "name": "",
  "signature": "sha256:f4e43d4d24c3cbac1b2a21c551d2eccbe4e6359837da081b703f9edf267f59c5"
 },
 "nbformat": 3,
 "nbformat_minor": 0,
 "worksheets": [
  {
   "cells": [
    {
     "cell_type": "code",
     "collapsed": false,
     "input": [
      "# %load_ext sage\n",
      "import numpy as np\n",
      "import pandas as pd\n",
      "from scipy.spatial.distance import euclidean\n",
      "from ExperimentalData import fromFile, HMM, ViterbiPath, levenshtein\n",
      "files = !ls img/meanings/*_*.png\n",
      "# print files\n",
      "images_phase1 = !ls ~/Dropbox/ABACUS/Workspace/LeapArticulator/img/meanings/5_*.png\n",
      "images_phase2 = !ls ~/Dropbox/ABACUS/Workspace/LeapArticulator/img/meanings/*_[135].png\n",
      "images_phase3 = images_phase2\n",
      "print images_phase1\n",
      "\n",
      "def title(m):\n",
      "    return m.split(\"/\")[-1]\n",
      "\n",
      "def titles(file_list):\n",
      "    return [title(f) for f in file_list]\n",
      "\n",
      "def meaning_to_coordinates(meaning):\n",
      "    return tuple(map(float,meaning.split(\"/\")[-1].split(\".\")[0].split(\"_\")))\n",
      "\n",
      "def distance(m1, m2):\n",
      "#     m1_1, m1_2 = m1.split(\"/\")[-1].split(\".\")[0].split(\"_\")\n",
      "#     m2_1, m2_2 = m2.split(\"/\")[-1].split(\".\")[0].split(\"_\")\n",
      "#     m1_1 = float(m1_1)\n",
      "#     m1_2 = float(m1_2)\n",
      "#     m2_1 = float(m2_1)\n",
      "#     m2_2 = float(m2_2)\n",
      "    return euclidean(meaning_to_coordinates(m1), meaning_to_coordinates(m2))#sqrt((m2_1-m1_1)**2 + (m2_2-m1_2)**2)\n",
      "\n",
      "def distance_matrix(meanings, labels, normalize=False):\n",
      "#     matrix = np.asarray([[distance(m1, m2) for m1 in meanings] for m2 in meanings])\n",
      "    matrix = np.asarray([[distance(m1, m2) for m1 in meanings] for m2 in meanings])\n",
      "    matrix = pd.DataFrame(matrix, index=titles(labels), columns=titles(labels))\n",
      "    if normalize:\n",
      "        maximum = np.max(matrix)\n",
      "        matrix = np.divide(matrix, maximum)\n",
      "#     print meanings\n",
      "#     print matrix\n",
      "    return matrix\n",
      "\n",
      "def viterbi_path(obs, states, start_p, trans_p, emit_p):\n",
      "    V = [{}]\n",
      "    path = {}\n",
      " \n",
      "    # Initialize base cases (t == 0)\n",
      "    for y in states:\n",
      "        V[0][y] = start_p[y] * emit_p[y][obs[0]]\n",
      "        path[y] = [y]\n",
      " \n",
      "    # Run Viterbi for t > 0\n",
      "    for t in range(1, len(obs)):\n",
      "        V.append({})\n",
      "        newpath = {}\n",
      " \n",
      "        for y in states:\n",
      "            (prob, state) = max((V[t-1][y0] * trans_p[y0][y] * emit_p[y][obs[t]], y0) for y0 in states)\n",
      "            V[t][y] = prob\n",
      "            newpath[y] = path[state] + [y]\n",
      " \n",
      "        # Don't need to remember the old paths\n",
      "        path = newpath\n",
      "    n = 0           # if only one element is observed max is sought in the initialization values\n",
      "    if len(obs)!=1:\n",
      "        n = t\n",
      "    print_dptable(V)\n",
      "    (prob, state) = max((V[n][y], y) for y in states)\n",
      "    return (prob, path[state])\n",
      "\n",
      "def pick_lowest_bic(hmms):\n",
      "    hmm, bic = None, 99999999999999\n",
      "    for h in hmms:\n",
      "        if h is None:\n",
      "            continue\n",
      "        if h.bic < bic:\n",
      "            hmm = h\n",
      "            bic = h.bic\n",
      "    if hmm == None:\n",
      "        print f, hmms\n",
      "    return (hmm, bic)\n",
      "\n",
      "def hmm_to_sage_hmm(hmm):\n",
      "    transmat = hmm.transmat\n",
      "    initProb = hmm.initProb\n",
      "    new = hmm.GaussianHiddenMarkovModel()\n",
      "\n",
      "# meaning_matrix = np.asarray([[distance(f, f2) for f2 in files] for f in files])\n",
      "# meaning_matrix = pd.DataFrame(meaning_matrix, index=[title(f) for f in files], columns=[title(f) for f in files])e"
     ],
     "language": "python",
     "metadata": {},
     "outputs": [
      {
       "output_type": "stream",
       "stream": "stdout",
       "text": [
        "['/home/kerem/Dropbox/ABACUS/Workspace/LeapArticulator/img/meanings/5_1.png', '/home/kerem/Dropbox/ABACUS/Workspace/LeapArticulator/img/meanings/5_2.png', '/home/kerem/Dropbox/ABACUS/Workspace/LeapArticulator/img/meanings/5_3.png', '/home/kerem/Dropbox/ABACUS/Workspace/LeapArticulator/img/meanings/5_4.png', '/home/kerem/Dropbox/ABACUS/Workspace/LeapArticulator/img/meanings/5_5.png']\n"
       ]
      }
     ],
     "prompt_number": 21
    },
    {
     "cell_type": "code",
     "collapsed": false,
     "input": [
      "# %load_ext rpy2.ipython\n",
      "files = !ls logs/discrete/D*phase*.*\n",
      "blacklist = ['123R0126514']\n",
      "files = [\".\".join((f.split('.')[:-1])) for f in files]\n",
      "files = filter(lambda x: x.split(\".\")[-1] in ('xy', 'amp_and_freq', 'amp_and_mel'), files)\n",
      "files = filter(lambda x: not any([el in x for el in blacklist]), files)\n",
      "file_to_id = lambda f: \".\".join(f.split('/')[-1].split('.')[:2])\n",
      "files_xy = filter(lambda x: x.split(\".\")[-1] in ('xy',), files)\n",
      "files_amp_and_mel = filter(lambda x: x.split(\".\")[-1] in ('amp_and_mel',), files)\n",
      "files_amp_and_freq = filter(lambda x: x.split(\".\")[-1] in ('amp_and_freq',), files)\n",
      "# for f in files:\n",
      "#     print f\n",
      "# print files\n",
      "ids = [file_to_id(f) for f in files]\n",
      "# print ids\n",
      "print len(files), \"files\"\n",
      "print files_xy[0], files_amp_and_mel[0], files_amp_and_freq[0] \n",
      "print set(ids), len(set(ids))"
     ],
     "language": "python",
     "metadata": {},
     "outputs": [
      {
       "output_type": "stream",
       "stream": "stdout",
       "text": [
        "267 files\n",
        "logs/discrete/D12300130914.1.exp.log.phase0.xy logs/discrete/D12300130914.1.exp.log.phase0.amp_and_mel logs/discrete/D12300130914.1.exp.log.phase0.amp_and_freq\n",
        "set(['D123009131014.1', 'D13200591014.2', 'D123015171014.1', 'D132007131014.2', 'D132009141014.2', 'D12300521014.1', 'D123013151014.1', 'DR123012151014.1r', 'D13200111014.2', 'DR132008131014.2r', 'DR123008101014.1r', 'D132011151014.2', 'DR12300230914.1r', 'DR13200421014.2r', 'D12300130914.1', 'D123011151014.1', 'DR132010141014.2r', 'D123007101014.1', 'DR132012151014.2r', 'DR123014161014.1r', 'DR12300691014.1r', 'DR12300411014.1r', 'DR123010141014.1r', 'DR132014161014.2r', 'DR123016161014.1r', 'DR13200211014.2r', 'D12300311014.1', 'D13200321014.2', 'D132013161014.2', 'DR132006101014.2r']) 30\n"
       ]
      }
     ],
     "prompt_number": 28
    },
    {
     "cell_type": "code",
     "collapsed": false,
     "input": [
      "from rpy2.robjects import r, globalenv, FloatVector, ListVector\n",
      "\n",
      "def is_multivariate(hmm):\n",
      "    return hmm.multivariate\n",
      "#     try:\n",
      "# #         print hmm.means\n",
      "#         iter(hmm.means[0])\n",
      "#         return True\n",
      "#     except:\n",
      "#         return False\n",
      "    \n",
      "def r_list_of_stuff(arr, func, name):\n",
      "    r(\"%s <- list()\" % name)\n",
      "    for i, v in enumerate(arr):\n",
      "        globalenv[\"tmp\"] = func(v)\n",
      "        r(\"%s[[%d]] <- tmp\" % (name, i + 1))\n",
      "    del globalenv[\"tmp\"]\n",
      "    \n",
      "def rhmm_dist_from_hmm(hmm):\n",
      "    print \"rhmm_dist_from_hmm\"\n",
      "    mean = np.asarray(hmm.means)\n",
      "    cov = np.asarray(hmm.variances)\n",
      "#     print cov\n",
      "\n",
      "    command = \"dist <- distributionSet(dis='NORMAL', mean=%s, cov=%s)\"\n",
      "  \n",
      "    globalenv['mean'] = mean \n",
      "    globalenv['covar'] = cov\n",
      "    \n",
      "    if is_multivariate(hmm):\n",
      "        f = lambda x: r.matrix(FloatVector(np.asarray(x).flatten()), nrow=len(x))\n",
      "        r_list_of_stuff(hmm.variances, func=f, name=\"covar\")\n",
      "        f = lambda x: FloatVector(np.asarray(x))\n",
      "        r_list_of_stuff(hmm.means, func=f, name=\"mean\")\n",
      "#         r(\"print(covar)\")\n",
      "#         r(\"print(mean)\")\n",
      "        command = \"dist <- distributionSet(dis='NORMAL', mean=mean, cov=covar)\"\n",
      "    else:\n",
      "        command = \"dist <- distributionSet(dis='NORMAL', mean=as.vector(mean), var=as.vector(covar))\"\n",
      "#     print command\n",
      "    r(command)\n",
      "    return globalenv['dist']\n",
      "\n",
      "def rhmm_from_hmm(hmm):\n",
      "    print \"rhmm_from_hmm\"\n",
      "    from rpy2.robjects import r, globalenv\n",
      "    r(\"rm(list=ls())\")\n",
      "    r(\"source('SampleHMM.R');library('RHmm')\")\n",
      "    hmm_ = hmm\n",
      "    dist = rhmm_dist_from_hmm(hmm_)\n",
      "    globalenv['initProb'] = np.asarray(hmm_.initProb)\n",
      "    globalenv['transMat'] = np.asarray(hmm_.transmat)\n",
      "    command = \"hmm <- HMMSet(initProb=as.vector(initProb), transMat=as.matrix(transMat), distribution=dist)\"\n",
      "#     print command\n",
      "    r(command)\n",
      "#     print r(\"print(hmm)\")\n",
      "    return globalenv['hmm']\n",
      "    \n",
      "def test_rhmm_from_hmm_univariate():\n",
      "    prep=   \"\"\"\n",
      "            source(\"SampleHMM.R\");\n",
      "            list[hmm, d] <- fitHMMtoPhase(file_id=\"1230105514.master\", nStates=9, iter=1000, phase=0, take_vars=c(%s));\n",
      "            \"\"\"\n",
      "    r(prep % (\"'x'\"))\n",
      "    hmm = globalenv['hmm']\n",
      "    a = rhmm_from_hmm(HMM(hmm, [1,2,3,4]))\n",
      "    assert str(hmm[0]) == str(a)\n",
      "    del globalenv['hmm']\n",
      "    \n",
      "def test_rhmm_from_hmm_multivariate():\n",
      "    prep=   \"\"\"\n",
      "            source(\"SampleHMM.R\");\n",
      "            list[hmm, d] <- fitHMMtoPhase(file_id=\"1230105514.master\", nStates=9, iter=1000, phase=1, take_vars=c(%s));\n",
      "            \"\"\"\n",
      "    r(prep % (\"'x','y'\"))\n",
      "    hmm = globalenv['hmm']\n",
      "    a = rhmm_from_hmm(HMM(hmm, [1,2,3,4]))\n",
      "    assert str(hmm[0]) == str(a)\n",
      "    del globalenv['hmm']\n",
      "    "
     ],
     "language": "python",
     "metadata": {},
     "outputs": [],
     "prompt_number": 29
    },
    {
     "cell_type": "code",
     "collapsed": false,
     "input": [
      "%load_ext ipython_nose\n",
      "%nose"
     ],
     "language": "python",
     "metadata": {},
     "outputs": [
      {
       "html": [
        "<div id=\"ipython_nose_88ac0fc8743d4cccb117620d5e1275cd\"></div>"
       ],
       "metadata": {},
       "output_type": "display_data"
      },
      {
       "javascript": [
        "document.ipython_nose_88ac0fc8743d4cccb117620d5e1275cd = $(\"#ipython_nose_88ac0fc8743d4cccb117620d5e1275cd\");"
       ],
       "metadata": {},
       "output_type": "display_data"
      },
      {
       "javascript": [
        "document.ipython_nose_88ac0fc8743d4cccb117620d5e1275cd.append($(\"<span>E</span>\"));"
       ],
       "metadata": {},
       "output_type": "display_data"
      },
      {
       "javascript": [
        "document.ipython_nose_88ac0fc8743d4cccb117620d5e1275cd.append($(\"<span>E</span>\"));"
       ],
       "metadata": {},
       "output_type": "display_data"
      },
      {
       "javascript": [
        "delete document.ipython_nose_88ac0fc8743d4cccb117620d5e1275cd;"
       ],
       "metadata": {},
       "output_type": "display_data"
      },
      {
       "html": [
        "    <style type=\"text/css\">\n",
        "        span.nosefailedfunc {\n",
        "            font-family: monospace;\n",
        "            font-weight: bold;\n",
        "        }\n",
        "        div.noseresults {\n",
        "            width: 100%;\n",
        "        }\n",
        "        div.nosebar {\n",
        "            float: left;\n",
        "            padding: 1ex 0px 1ex 0px;\n",
        "        }\n",
        "        div.nosebar.fail {\n",
        "            background: #ff3019; /* Old browsers */\n",
        "            /* FF3.6+ */\n",
        "            background: -moz-linear-gradient(top, #ff3019 0%, #cf0404 100%);\n",
        "            /* Chrome,Safari4+ */\n",
        "            background: -webkit-gradient(linear, left top, left bottom,\n",
        "                                         color-stop(0%,#ff3019),\n",
        "                                         color-stop(100%,#cf0404));\n",
        "            /* Chrome10+,Safari5.1+ */\n",
        "            background: -webkit-linear-gradient(top, #ff3019 0%,#cf0404 100%);\n",
        "            /* Opera 11.10+ */\n",
        "            background: -o-linear-gradient(top, #ff3019 0%,#cf0404 100%);\n",
        "            /* IE10+ */\n",
        "            background: -ms-linear-gradient(top, #ff3019 0%,#cf0404 100%);\n",
        "            /* W3C */\n",
        "            background: linear-gradient(to bottom, #ff3019 0%,#cf0404 100%);\n",
        "        }\n",
        "        div.nosebar.pass {\n",
        "            background: #52b152;\n",
        "            background: -moz-linear-gradient(top, #52b152 1%, #008a00 100%);\n",
        "            background: -webkit-gradient(linear, left top, left bottom,\n",
        "                                         color-stop(1%,#52b152),\n",
        "                                         color-stop(100%,#008a00));\n",
        "            background: -webkit-linear-gradient(top, #52b152 1%,#008a00 100%);\n",
        "            background: -o-linear-gradient(top, #52b152 1%,#008a00 100%);\n",
        "            background: -ms-linear-gradient(top, #52b152 1%,#008a00 100%);\n",
        "            background: linear-gradient(to bottom, #52b152 1%,#008a00 100%);\n",
        "        }\n",
        "        div.nosebar.skip {\n",
        "            background: #f1e767;\n",
        "            background: -moz-linear-gradient(top, #f1e767 0%, #feb645 100%);\n",
        "            background: -webkit-gradient(linear, left top, left bottom,\n",
        "                                         color-stop(0%,#f1e767),\n",
        "                                         color-stop(100%,#feb645));\n",
        "            background: -webkit-linear-gradient(top, #f1e767 0%,#feb645 100%);\n",
        "            background: -o-linear-gradient(top, #f1e767 0%,#feb645 100%);\n",
        "            background: -ms-linear-gradient(top, #f1e767 0%,#feb645 100%);\n",
        "            background: linear-gradient(to bottom, #f1e767 0%,#feb645 100%);\n",
        "        }\n",
        "        div.nosebar.leftmost {\n",
        "            border-radius: 4px 0 0 4px;\n",
        "        }\n",
        "        div.nosebar.rightmost {\n",
        "            border-radius: 0 4px 4px 0;\n",
        "        }\n",
        "        div.nosefailbanner {\n",
        "            border-radius: 4px 0 0 4px;\n",
        "            border-left: 10px solid #cf0404;\n",
        "            padding: 0.5ex 0em 0.5ex 1em;\n",
        "            margin-top: 1ex;\n",
        "            margin-bottom: 0px;\n",
        "        }\n",
        "        div.nosefailbanner.expanded {\n",
        "            border-radius: 4px 4px 0 0;\n",
        "            border-top: 10px solid #cf0404;\n",
        "        }\n",
        "        pre.nosetraceback {\n",
        "            border-radius: 0 4px 4px 4px;\n",
        "            border-left: 10px solid #cf0404;\n",
        "            padding: 1em;\n",
        "            margin-left: 0px;\n",
        "            margin-top: 0px;\n",
        "            display: none;\n",
        "        }\n",
        "    </style>\n",
        "    \n",
        "    <script>\n",
        "        setTimeout(function () {\n",
        "            $('.nosefailtoggle').bind(\n",
        "                'click',\n",
        "                function () {\n",
        "                    $(\n",
        "                        $(this)\n",
        "                            .parent().toggleClass('expanded')\n",
        "                            .parent()\n",
        "                            .children()\n",
        "                            .filter('.nosetraceback')\n",
        "                    ).toggle();\n",
        "                }\n",
        "            );},\n",
        "            0);\n",
        "    </script>\n",
        "    \n",
        "    <div class=\"noseresults\">\n",
        "      <div class=\"nosebar fail leftmost\" style=\"width: 100%\">\n",
        "          &nbsp;\n",
        "      </div>\n",
        "      <div class=\"nosebar skip\" style=\"width: 0%\">\n",
        "          &nbsp;\n",
        "      </div>\n",
        "      <div class=\"nosebar pass rightmost\" style=\"width: 0%\">\n",
        "          &nbsp;\n",
        "      </div>\n",
        "      0/2 tests passed; 2 failed\n",
        "    </div>\n",
        "    \n",
        "    <div class=\"nosefailure\">\n",
        "        <div class=\"nosefailbanner\">\n",
        "          failed: <span class=\"nosefailedfunc\">__main__.test_rhmm_from_hmm_univariate</span>\n",
        "            [<a class=\"nosefailtoggle\" href=\"#\">toggle traceback</a>]\n",
        "        </div>\n",
        "        <pre class=\"nosetraceback\">Traceback (most recent call last):\n",
        "  File \"/usr/lib64/python2.7/unittest/case.py\", line 331, in run\n",
        "    testMethod()\n",
        "  File \"/usr/lib/python2.7/site-packages/nose/case.py\", line 197, in runTest\n",
        "    self.test(*self.arg)\n",
        "  File \"&lt;<a href=\"#ipython-input-3-077c7d1629a8\">ipython-input-3-077c7d1629a8</a><script>\n",
        "            $(\"div.prompt.input_prompt:contains([3])\")\n",
        "                .attr(\"id\", \"ipython-input-3-077c7d1629a8\");\n",
        "            </script>&gt;\", line 64, in test_rhmm_from_hmm_univariate\n",
        "    r(prep % (\"'x'\"))\n",
        "  File \"/usr/lib64/python2.7/site-packages/rpy2/robjects/__init__.py\", line 253, in __call__\n",
        "    res = self.eval(p)\n",
        "  File \"/usr/lib64/python2.7/site-packages/rpy2/robjects/functions.py\", line 170, in __call__\n",
        "    return super(SignatureTranslatedFunction, self).__call__(*args, **kwargs)\n",
        "  File \"/usr/lib64/python2.7/site-packages/rpy2/robjects/functions.py\", line 100, in __call__\n",
        "    res = super(Function, self).__call__(*new_args, **new_kwargs)\n",
        "RRuntimeError: Error in file(file, \"rt\") : cannot open the connection\n",
        "\n",
        "-------------------- &gt;&gt; begin captured stdout &lt;&lt; ---------------------\n",
        "Loading required package: depmixS4\n",
        "Loading required package: nnet\n",
        "Loading required package: MASS\n",
        "Loading required package: Rsolnp\n",
        "Loading required package: truncnorm\n",
        "Loading required package: parallel\n",
        "Loading required package: data.table\n",
        "data.table 1.9.2  For help type: help(\"data.table\")\n",
        "Loading required package: nlme\n",
        "\n",
        "Attaching package: \\u2018RHmm\\u2019\n",
        "\n",
        "The following objects are masked from \\u2018package:depmixS4\\u2019:\n",
        "\n",
        "    forwardbackward, viterbi\n",
        "\n",
        "Error in file(file, \"rt\") : cannot open the connection\n",
        "In addition: Warning message:\n",
        "In file(file, \"rt\") :\n",
        "  cannot open file 'logs/1230105514.master.exp.images.csv': No such file or directory\n",
        "\n",
        "--------------------- &gt;&gt; end captured stdout &lt;&lt; ----------------------\n",
        "</pre>\n",
        "    </div>\n",
        "    \n",
        "    <div class=\"nosefailure\">\n",
        "        <div class=\"nosefailbanner\">\n",
        "          failed: <span class=\"nosefailedfunc\">__main__.test_rhmm_from_hmm_multivariate</span>\n",
        "            [<a class=\"nosefailtoggle\" href=\"#\">toggle traceback</a>]\n",
        "        </div>\n",
        "        <pre class=\"nosetraceback\">Traceback (most recent call last):\n",
        "  File \"/usr/lib64/python2.7/unittest/case.py\", line 331, in run\n",
        "    testMethod()\n",
        "  File \"/usr/lib/python2.7/site-packages/nose/case.py\", line 197, in runTest\n",
        "    self.test(*self.arg)\n",
        "  File \"&lt;<a href=\"#ipython-input-3-077c7d1629a8\">ipython-input-3-077c7d1629a8</a><script>\n",
        "            $(\"div.prompt.input_prompt:contains([3])\")\n",
        "                .attr(\"id\", \"ipython-input-3-077c7d1629a8\");\n",
        "            </script>&gt;\", line 75, in test_rhmm_from_hmm_multivariate\n",
        "    r(prep % (\"'x','y'\"))\n",
        "  File \"/usr/lib64/python2.7/site-packages/rpy2/robjects/__init__.py\", line 253, in __call__\n",
        "    res = self.eval(p)\n",
        "  File \"/usr/lib64/python2.7/site-packages/rpy2/robjects/functions.py\", line 170, in __call__\n",
        "    return super(SignatureTranslatedFunction, self).__call__(*args, **kwargs)\n",
        "  File \"/usr/lib64/python2.7/site-packages/rpy2/robjects/functions.py\", line 100, in __call__\n",
        "    res = super(Function, self).__call__(*new_args, **new_kwargs)\n",
        "RRuntimeError: Error in file(file, \"rt\") : cannot open the connection\n",
        "\n",
        "-------------------- &gt;&gt; begin captured stdout &lt;&lt; ---------------------\n",
        "Error in file(file, \"rt\") : cannot open the connection\n",
        "In addition: Warning message:\n",
        "In file(file, \"rt\") :\n",
        "  cannot open file 'logs/1230105514.master.exp.images.csv': No such file or directory\n",
        "\n",
        "--------------------- &gt;&gt; end captured stdout &lt;&lt; ----------------------\n",
        "</pre>\n",
        "    </div>\n",
        "    "
       ],
       "metadata": {},
       "output_type": "pyout",
       "prompt_number": 4,
       "text": [
        "0/2 tests passed; 2 failed\n",
        "========\n",
        "__main__.test_rhmm_from_hmm_univariate\n",
        "========\n",
        "Traceback (most recent call last):\n",
        "  File \"/usr/lib64/python2.7/unittest/case.py\", line 331, in run\n",
        "    testMethod()\n",
        "  File \"/usr/lib/python2.7/site-packages/nose/case.py\", line 197, in runTest\n",
        "    self.test(*self.arg)\n",
        "  File \"<ipython-input-3-077c7d1629a8>\", line 64, in test_rhmm_from_hmm_univariate\n",
        "    r(prep % (\"'x'\"))\n",
        "  File \"/usr/lib64/python2.7/site-packages/rpy2/robjects/__init__.py\", line 253, in __call__\n",
        "    res = self.eval(p)\n",
        "  File \"/usr/lib64/python2.7/site-packages/rpy2/robjects/functions.py\", line 170, in __call__\n",
        "    return super(SignatureTranslatedFunction, self).__call__(*args, **kwargs)\n",
        "  File \"/usr/lib64/python2.7/site-packages/rpy2/robjects/functions.py\", line 100, in __call__\n",
        "    res = super(Function, self).__call__(*new_args, **new_kwargs)\n",
        "RRuntimeError: Error in file(file, \"rt\") : cannot open the connection\n",
        "\n",
        "-------------------- >> begin captured stdout << ---------------------\n",
        "Loading required package: depmixS4\n",
        "Loading required package: nnet\n",
        "Loading required package: MASS\n",
        "Loading required package: Rsolnp\n",
        "Loading required package: truncnorm\n",
        "Loading required package: parallel\n",
        "Loading required package: data.table\n",
        "data.table 1.9.2  For help type: help(\"data.table\")\n",
        "Loading required package: nlme\n",
        "\n",
        "Attaching package: \\u2018RHmm\\u2019\n",
        "\n",
        "The following objects are masked from \\u2018package:depmixS4\\u2019:\n",
        "\n",
        "    forwardbackward, viterbi\n",
        "\n",
        "Error in file(file, \"rt\") : cannot open the connection\n",
        "In addition: Warning message:\n",
        "In file(file, \"rt\") :\n",
        "  cannot open file 'logs/1230105514.master.exp.images.csv': No such file or directory\n",
        "\n",
        "--------------------- >> end captured stdout << ----------------------\n",
        "\n",
        "========\n",
        "__main__.test_rhmm_from_hmm_multivariate\n",
        "========\n",
        "Traceback (most recent call last):\n",
        "  File \"/usr/lib64/python2.7/unittest/case.py\", line 331, in run\n",
        "    testMethod()\n",
        "  File \"/usr/lib/python2.7/site-packages/nose/case.py\", line 197, in runTest\n",
        "    self.test(*self.arg)\n",
        "  File \"<ipython-input-3-077c7d1629a8>\", line 75, in test_rhmm_from_hmm_multivariate\n",
        "    r(prep % (\"'x','y'\"))\n",
        "  File \"/usr/lib64/python2.7/site-packages/rpy2/robjects/__init__.py\", line 253, in __call__\n",
        "    res = self.eval(p)\n",
        "  File \"/usr/lib64/python2.7/site-packages/rpy2/robjects/functions.py\", line 170, in __call__\n",
        "    return super(SignatureTranslatedFunction, self).__call__(*args, **kwargs)\n",
        "  File \"/usr/lib64/python2.7/site-packages/rpy2/robjects/functions.py\", line 100, in __call__\n",
        "    res = super(Function, self).__call__(*new_args, **new_kwargs)\n",
        "RRuntimeError: Error in file(file, \"rt\") : cannot open the connection\n",
        "\n",
        "-------------------- >> begin captured stdout << ---------------------\n",
        "Error in file(file, \"rt\") : cannot open the connection\n",
        "In addition: Warning message:\n",
        "In file(file, \"rt\") :\n",
        "  cannot open file 'logs/1230105514.master.exp.images.csv': No such file or directory\n",
        "\n",
        "--------------------- >> end captured stdout << ----------------------\n",
        "\n"
       ]
      }
     ],
     "prompt_number": 4
    },
    {
     "cell_type": "code",
     "collapsed": false,
     "input": [
      "from LeapTheremin import palmToAmpAndFreq,palmToAmpAndMel\n",
      "import Constants\n",
      "def formatTrajectory(trajectory, responses, responses_p, phase, cond, units=Constants.AMP_AND_FREQ):    \n",
      "    multivariate = False\n",
      "    reverse_cond = cond in (\"2r\",\"1r\")\n",
      "    interval = 1\n",
      "    pick_var = 0\n",
      "    phase = int(phase)\n",
      "    if reverse_cond:\n",
      "        interval = -1\n",
      "        pick_var = 1\n",
      "        \n",
      "    if cond in (\"2\",\"2r\"):\n",
      "        if phase == 1:\n",
      "            multivariate = True\n",
      "    else:\n",
      "        if phase == 2:\n",
      "            multivariate = True\n",
      "            \n",
      "    formatData = None\n",
      "#     print \"Multivariate?\", multivariate\n",
      "    \n",
      "    if multivariate:\n",
      "        if units == Constants.XY:\n",
      "            formatData = lambda r, phase: [[frame.get_stabilized_position()[:2][::interval] for frame in rr] for rr in r[\"127.0.0.1\"][str(phase)].values()]\n",
      "        elif units == Constants.AMP_AND_FREQ:\n",
      "            # -interval, because amp_and_freq returns y,x and not x,y. \n",
      "            formatData = lambda r, phase: [palmToAmpAndFreq(frame.get_stabilized_position())[::-interval] for frame in r]\n",
      "        elif units == Constants.AMP_AND_MEL:\n",
      "            # -interval, because amp_and_freq returns y,x and not x,y. \n",
      "            formatData = lambda r, phase: [[palmToAmpAndMel(frame.get_stabilized_position())[::-interval] for frame in rr] for rr in r[\"127.0.0.1\"][str(phase)].values()]\n",
      "    else:\n",
      "        if units == Constants.XY:\n",
      "            formatData = lambda r, phase: [[frame.get_stabilized_position()[pick_var] for frame in rr] for rr in r[\"127.0.0.1\"][str(phase)].values()]\n",
      "        elif units == Constants.AMP_AND_FREQ:\n",
      "            # -interval, because amp_and_freq returns y,x and not x,y. \n",
      "            formatData = lambda r, phase: [[palmToAmpAndFreq(frame.get_stabilized_position())[::-interval][pick_var] for frame in r]]#r] for rr in r[\"127.0.0.1\"][str(phase)].values()]\n",
      "        elif units == Constants.AMP_AND_MEL:\n",
      "            # -interval, because amp_and_freq returns y,x and not x,y. \n",
      "            formatData = lambda r, phase: [[palmToAmpAndMel(frame.get_stabilized_position())[::-interval][pick_var] for frame in rr] for rr in r[\"127.0.0.1\"][str(phase)].values()]\n",
      "    \n",
      "    data = formatData(trajectory,phase)\n",
      "#     print \"len(data)=\", len(data[0])\n",
      "#     data = zip(data[0], data[1], data[2]) # + formatData(responses_p,phase)\n",
      "    return data"
     ],
     "language": "python",
     "metadata": {},
     "outputs": [],
     "prompt_number": 30
    },
    {
     "cell_type": "code",
     "collapsed": false,
     "input": [
      "import warnings\n",
      "warnings.filterwarnings('ignore')\n",
      "from ExperimentalData import stderr_redirected\n",
      "from StreamlinedDataAnalysisGhmm import unpickle_results\n",
      "from itertools import product\n",
      "import skbio\n",
      "from skbio.stats.distance import mantel, DistanceMatrix\n",
      "import jsonpickle\n",
      "import pickle\n",
      "# from BICComparison import pick_lowest_bic\n",
      "\n",
      "ids = list(set(ids))\n",
      "to_log = lambda x: \"logs/discrete/\" + x + \".exp.log\"\n",
      "to_hmm = lambda x: \"logs/discrete/\" + x + \".exp.log\"\n",
      "to_hmm_file = lambda id, phase, units: to_hmm(id) + \".phase\" + phase + \".\" + units\n",
      "to_icon_file = lambda x: to_hmm(x) + \".phase%s\" % phase + \".iconicity\"\n",
      "hmm = None\n",
      "\n",
      "\n",
      "# for each participant\n",
      "for id in ids:\n",
      "    print id\n",
      "    \n",
      "    # determine the experimental condition\n",
      "    cond = id.split(\".\")[1]\n",
      "    units = Constants.AMP_AND_FREQ\n",
      "    if cond == \"master\":\n",
      "        cond = \"1\" \n",
      "    assert cond in (\"1\",\"2\",\"1r\",\"2r\")\n",
      "    \n",
      "    responses_, tests, responses_t_, tests_t, images = fromFile(to_log(id))\n",
      "    responses, tests, responses_t, tests_t, images = responses_['127.0.0.1'], \\\n",
      "                                                     tests['127.0.0.1'], \\\n",
      "                                                     responses_t_['127.0.0.1'], \\\n",
      "                                                     tests_t['127.0.0.1'], images \\\n",
      "    # for each phase\n",
      "    for phase in responses.keys():\n",
      "        print \"Phase/cond/r: %s/%s/%s\" % (phase, cond, cond in (\"2r\",\"1r\")) \n",
      "        # find the relevant images\n",
      "        image_list = images_phase1\n",
      "        if phase == \"1\":\n",
      "            image_list = images_phase2\n",
      "        elif phase == \"2\":\n",
      "            image_list = images_phase3\n",
      "        else:\n",
      "            if phase != \"0\":\n",
      "                print \"What the fuck is a phase %s?!?\" % phase\n",
      "\n",
      "        # compute the meaning distance matrix\n",
      "        meaning_matrix = distance_matrix(image_list, image_list, normalize=False)\n",
      "\n",
      "#         trajectory_matrix_by_prob = meaning_matrix.copy()\n",
      "        trajectory_matrix_by_stateseq = meaning_matrix.copy()\n",
      "        viterbis = {}\n",
      "        print \"Images for the phase are: %s\" % map(title, responses[phase].keys())\n",
      "        # for each image\n",
      "        for image in responses[phase].keys():\n",
      "            # find and fetch the relevant hmm\n",
      "            print title(image)\n",
      "            hmm_file = to_hmm_file(id, phase, \"amp_and_freq\")\n",
      "            results = unpickle_results(hmm_file)\n",
      "            hmm, bic = pick_lowest_bic(results.hmms)\n",
      "            # ...and send it to R\n",
      "#             rhmm_from_hmm(hmm)\n",
      "            \n",
      "            # find the relevant trajectory\n",
      "            trajectory = responses[phase][image]\n",
      "#             print trajectory\n",
      "            command = None\n",
      "            trajectory = formatTrajectory(trajectory, responses_, responses_t_, phase, cond)\n",
      "#             print trajectory[0]\n",
      "#             print \"Is multivariate?\", is_multivariate(hmm)\n",
      "#             if is_multivariate(hmm):\n",
      "#                 trajectory = [frame.get_stabilized_position()[:2] for frame in trajectory]   \n",
      "# #                 trajectory = [FloatVector(frame.get_stabilized_position()[:2]) for frame in trajectory]   \n",
      "# #                 globalenv['trajectory'] = ListVector(trajectory)\n",
      "#             else:\n",
      "#                 trajectory = [frame.get_stabilized_position()[0] for frame in trajectory]   \n",
      "#                 trajectory = [frame.get_stabilized_position()[0] for frame in trajectory]   \n",
      "#                 globalenv['trajectory'] = FloatVector(trajectory)\n",
      "#             print trajectory\n",
      "            # compute the corresponding state sequence            \n",
      "#             globalenv['trajectory'] = ListVector(trajectory)\n",
      "#             print trajectory\n",
      "#             command = \"viterbi(hmm, trajectory)\"\n",
      "            \n",
      "#             viterbi = r(command)\n",
      "#             print pd.DataFrame(hmm.means)\n",
      "#             print np.asarray(hmm.means).shape\n",
      "#             print np.asarray(hmm.means).shape[1]\n",
      "#             with SilentGhmmContext(stdout=sys.stdout):\n",
      "#             with stderr_redirected():\n",
      "            result, likelihood = hmm.viterbi([trajectory])\n",
      "#             print result\n",
      "            import sys;sys.stdout.flush()\n",
      "#             print result\n",
      "            viterbis[title(image)] = result\n",
      "            if len(result) == 0:\n",
      "                print \"Image %s at phase %s didn't yield a viterbi path (id: %s)\" % (title(image), phase, id)\n",
      "#             print ViterbiPath(viterbi)\n",
      "        images = titles(responses[phase])\n",
      "        maximum = 0\n",
      "        for image1, image2 in product(images,images):\n",
      "#             print image1, image2\n",
      "            dist = levenshtein(viterbis[image1], viterbis[image2])\n",
      "            trajectory_matrix_by_stateseq[image1][image2] = dist\n",
      "            maximum = max((maximum, dist))\n",
      "#         print trajectory_matrix_by_stateseq, maximum\n",
      "        trajectory_matrix_by_stateseq = np.divide(trajectory_matrix_by_stateseq, maximum)\n",
      "#         break\n",
      "#         print \"Meaning matrix:\"\n",
      "#         print meaning_matrix\n",
      "#         print \"Signal matrix:\"\n",
      "#         print trajectory_matrix_by_stateseq\n",
      "#         print meaning_matrix.T == meaning_matrix\n",
      "#         print trajectory_matrix_by_stateseq.T == trajectory_matrix_by_stateseq\n",
      "        d1 = DistanceMatrix(meaning_matrix)\n",
      "        d2 = DistanceMatrix(trajectory_matrix_by_stateseq)\n",
      "        coef = mantel(d1, d2, method=\"spearman\")\n",
      "        print d1\n",
      "        print d2\n",
      "        print \"Correlation coefficient:\",coef[0], \"(p=%f)\" % coef[1]\n",
      "        icon_file = to_icon_file(id)\n",
      "        print \"Writing to file: %s\" % icon_file\n",
      "        with open(icon_file, \"wb\") as f:\n",
      "            pickle.dump((d1,d2,coef), f)\n",
      "#             item = str((d1, d2, coef)).decode('cp1252').encode(\"utf-8\")\n",
      "#             f.write(jsonpickle.encode((d1, d2, coef)))\n",
      "        import sys;sys.stdout.flush()\n",
      "#         break\n",
      "#         from time import sleep;sleep(1)"
     ],
     "language": "python",
     "metadata": {},
     "outputs": [
      {
       "output_type": "stream",
       "stream": "stdout",
       "text": [
        "D123009131014.1\n",
        "Phase/cond/r: 1/1/False"
       ]
      },
      {
       "output_type": "stream",
       "stream": "stdout",
       "text": [
        "\n",
        "Images for the phase are: ['1_1.png', '5_5.png', '1_3.png', '5_1.png', '5_3.png', '3_5.png', '3_3.png', '3_1.png', '1_5.png']\n",
        "1_1.png\n"
       ]
      },
      {
       "output_type": "stream",
       "stream": "stdout",
       "text": [
        "5_5.png\n"
       ]
      },
      {
       "output_type": "stream",
       "stream": "stdout",
       "text": [
        "1_3.png\n"
       ]
      },
      {
       "output_type": "stream",
       "stream": "stdout",
       "text": [
        "5_1.png\n"
       ]
      },
      {
       "output_type": "stream",
       "stream": "stdout",
       "text": [
        "5_3.png\n"
       ]
      },
      {
       "output_type": "stream",
       "stream": "stdout",
       "text": [
        "3_5.png\n"
       ]
      },
      {
       "output_type": "stream",
       "stream": "stdout",
       "text": [
        "3_3.png\n"
       ]
      },
      {
       "output_type": "stream",
       "stream": "stdout",
       "text": [
        "3_1.png\n"
       ]
      },
      {
       "output_type": "stream",
       "stream": "stdout",
       "text": [
        "1_5.png\n"
       ]
      },
      {
       "output_type": "stream",
       "stream": "stdout",
       "text": [
        "9x9 distance matrix\n",
        "IDs:\n",
        "0, 1, 2, 3, 4, 5, 6, 7, 8\n",
        "Data:\n",
        "[[ 0.          2.          4.          2.          2.82842712  4.47213595\n",
        "   4.          4.47213595  5.65685425]\n",
        " [ 2.          0.          2.          2.82842712  2.          2.82842712\n",
        "   4.47213595  4.          4.47213595]\n",
        " [ 4.          2.          0.          4.47213595  2.82842712  2.\n",
        "   5.65685425  4.47213595  4.        ]\n",
        " [ 2.          2.82842712  4.47213595  0.          2.          4.          2.\n",
        "   2.82842712  4.47213595]\n",
        " [ 2.82842712  2.          2.82842712  2.          0.          2.\n",
        "   2.82842712  2.          2.82842712]\n",
        " [ 4.47213595  2.82842712  2.          4.          2.          0.\n",
        "   4.47213595  2.82842712  2.        ]\n",
        " [ 4.          4.47213595  5.65685425  2.          2.82842712  4.47213595\n",
        "   0.          2.          4.        ]\n",
        " [ 4.47213595  4.          4.47213595  2.82842712  2.          2.82842712\n",
        "   2.          0.          2.        ]\n",
        " [ 5.65685425  4.47213595  4.          4.47213595  2.82842712  2.          4.\n",
        "   2.          0.        ]]\n",
        "9x9 distance matrix\n",
        "IDs:\n",
        "0, 1, 2, 3, 4, 5, 6, 7, 8\n",
        "Data:\n",
        "[[ 0.          0.88543372  0.93126023  0.85597381  0.9492635   0.9492635\n",
        "   0.87888707  0.90834697  0.91816694]\n",
        " [ 0.88543372  0.          0.70703764  0.92635025  0.77250409  0.70703764\n",
        "   0.92962357  0.91653028  0.70703764]\n",
        " [ 0.93126023  0.70703764  0.          0.92635025  0.85433715  0.61211129\n",
        "   0.93944354  0.91653028  0.42553191]\n",
        " [ 0.85597381  0.92635025  0.92635025  0.          0.92635025  0.92635025\n",
        "   0.70703764  1.          0.92635025]\n",
        " [ 0.9492635   0.77250409  0.85433715  0.92635025  0.          0.85433715\n",
        "   0.95417349  0.95417349  0.85433715]\n",
        " [ 0.9492635   0.70703764  0.61211129  0.92635025  0.85433715  0.\n",
        "   0.95417349  0.98690671  0.58919804]\n",
        " [ 0.87888707  0.92962357  0.93944354  0.70703764  0.95417349  0.95417349\n",
        "   0.          0.94762684  0.93944354]\n",
        " [ 0.90834697  0.91653028  0.91653028  1.          0.95417349  0.98690671\n",
        "   0.94762684  0.          0.93617021]\n",
        " [ 0.91816694  0.70703764  0.42553191  0.92635025  0.85433715  0.58919804\n",
        "   0.93944354  0.93617021  0.        ]]\n",
        "Correlation coefficient: 0.240363424811 (p=0.144000)\n",
        "Writing to file: logs/discrete/D123009131014.1.exp.log.phase1.iconicity\n"
       ]
      },
      {
       "output_type": "stream",
       "stream": "stdout",
       "text": [
        "Phase/cond/r: 0/1/False\n",
        "Images for the phase are: ['5_5.png', '5_4.png', '5_1.png', '5_3.png', '5_2.png']\n",
        "5_5.png\n"
       ]
      },
      {
       "output_type": "stream",
       "stream": "stdout",
       "text": [
        "5_4.png\n"
       ]
      },
      {
       "output_type": "stream",
       "stream": "stdout",
       "text": [
        "5_1.png\n"
       ]
      },
      {
       "output_type": "stream",
       "stream": "stdout",
       "text": [
        "5_3.png\n"
       ]
      },
      {
       "output_type": "stream",
       "stream": "stdout",
       "text": [
        "5_2.png\n"
       ]
      },
      {
       "output_type": "stream",
       "stream": "stdout",
       "text": [
        "5x5 distance matrix\n",
        "IDs:\n",
        "0, 1, 2, 3, 4\n",
        "Data:\n",
        "[[ 0.  1.  2.  3.  4.]\n",
        " [ 1.  0.  1.  2.  3.]\n",
        " [ 2.  1.  0.  1.  2.]\n",
        " [ 3.  2.  1.  0.  1.]\n",
        " [ 4.  3.  2.  1.  0.]]\n",
        "5x5 distance matrix\n",
        "IDs:\n",
        "0, 1, 2, 3, 4\n",
        "Data:\n",
        "[[ 0.          0.34714211  0.36234924  0.89774515  0.31043524]\n",
        " [ 0.34714211  0.          0.38856843  0.90403776  0.37073938]\n",
        " [ 0.36234924  0.38856843  0.          1.          0.36601993]\n",
        " [ 0.89774515  0.90403776  1.          0.          0.95332984]\n",
        " [ 0.31043524  0.37073938  0.36601993  0.95332984  0.        ]]\n",
        "Correlation coefficient: -0.419523539268 (p=0.187000)\n",
        "Writing to file: logs/discrete/D123009131014.1.exp.log.phase0.iconicity\n"
       ]
      },
      {
       "output_type": "stream",
       "stream": "stdout",
       "text": [
        "Phase/cond/r: 2/1/False\n",
        "Images for the phase are: ['1_1.png', '5_5.png', '1_3.png', '5_1.png', '5_3.png', '3_5.png', '3_3.png', '3_1.png', '1_5.png']\n",
        "1_1.png\n"
       ]
      },
      {
       "output_type": "stream",
       "stream": "stdout",
       "text": [
        "5_5.png\n"
       ]
      },
      {
       "output_type": "stream",
       "stream": "stdout",
       "text": [
        "1_3.png\n"
       ]
      },
      {
       "output_type": "stream",
       "stream": "stdout",
       "text": [
        "5_1.png\n"
       ]
      },
      {
       "output_type": "stream",
       "stream": "stdout",
       "text": [
        "5_3.png\n"
       ]
      },
      {
       "output_type": "stream",
       "stream": "stdout",
       "text": [
        "3_5.png\n"
       ]
      },
      {
       "output_type": "stream",
       "stream": "stdout",
       "text": [
        "3_3.png\n"
       ]
      },
      {
       "output_type": "stream",
       "stream": "stdout",
       "text": [
        "3_1.png\n"
       ]
      },
      {
       "output_type": "stream",
       "stream": "stdout",
       "text": [
        "1_5.png\n"
       ]
      },
      {
       "output_type": "stream",
       "stream": "stdout",
       "text": [
        "9x9 distance matrix\n",
        "IDs:\n",
        "0, 1, 2, 3, 4, 5, 6, 7, 8\n",
        "Data:\n",
        "[[ 0.          2.          4.          2.          2.82842712  4.47213595\n",
        "   4.          4.47213595  5.65685425]\n",
        " [ 2.          0.          2.          2.82842712  2.          2.82842712\n",
        "   4.47213595  4.          4.47213595]\n",
        " [ 4.          2.          0.          4.47213595  2.82842712  2.\n",
        "   5.65685425  4.47213595  4.        ]\n",
        " [ 2.          2.82842712  4.47213595  0.          2.          4.          2.\n",
        "   2.82842712  4.47213595]\n",
        " [ 2.82842712  2.          2.82842712  2.          0.          2.\n",
        "   2.82842712  2.          2.82842712]\n",
        " [ 4.47213595  2.82842712  2.          4.          2.          0.\n",
        "   4.47213595  2.82842712  2.        ]\n",
        " [ 4.          4.47213595  5.65685425  2.          2.82842712  4.47213595\n",
        "   0.          2.          4.        ]\n",
        " [ 4.47213595  4.          4.47213595  2.82842712  2.          2.82842712\n",
        "   2.          0.          2.        ]\n",
        " [ 5.65685425  4.47213595  4.          4.47213595  2.82842712  2.          4.\n",
        "   2.          0.        ]]\n",
        "9x9 distance matrix\n",
        "IDs:\n",
        "0, 1, 2, 3, 4, 5, 6, 7, 8\n",
        "Data:\n",
        "[[ 0.          0.54665072  0.89952153  0.67105263  0.57655502  0.73205742\n",
        "   0.57894737  0.58851675  0.58851675]\n",
        " [ 0.54665072  0.          0.73086124  0.73444976  0.47727273  0.71889952\n",
        "   0.534689    0.44976077  0.52511962]\n",
        " [ 0.89952153  0.73086124  0.          0.98684211  0.93779904  0.83732057\n",
        "   0.99282297  1.          0.97727273]\n",
        " [ 0.67105263  0.73444976  0.98684211  0.          0.74282297  0.75956938\n",
        "   0.61602871  0.75        0.75      ]\n",
        " [ 0.57655502  0.47727273  0.93779904  0.74282297  0.          0.75956938\n",
        "   0.39354067  0.30023923  0.44019139]\n",
        " [ 0.73205742  0.71889952  0.83732057  0.75956938  0.75956938  0.\n",
        "   0.75956938  0.75956938  0.70813397]\n",
        " [ 0.57894737  0.534689    0.99282297  0.61602871  0.39354067  0.75956938\n",
        "   0.          0.34090909  0.44019139]\n",
        " [ 0.58851675  0.44976077  1.          0.75        0.30023923  0.75956938\n",
        "   0.34090909  0.          0.44019139]\n",
        " [ 0.58851675  0.52511962  0.97727273  0.75        0.44019139  0.70813397\n",
        "   0.44019139  0.44019139  0.        ]]\n",
        "Correlation coefficient: 0.295477480003 (p=0.073000)\n",
        "Writing to file: logs/discrete/D123009131014.1.exp.log.phase2.iconicity\n"
       ]
      },
      {
       "output_type": "stream",
       "stream": "stdout",
       "text": [
        "D13200591014.2\n",
        "Phase/cond/r: 1/2/False"
       ]
      },
      {
       "output_type": "stream",
       "stream": "stdout",
       "text": [
        "\n",
        "Images for the phase are: ['5_5.png', '1_1.png', '1_3.png', '5_1.png', '5_3.png', '3_5.png', '3_3.png', '3_1.png', '1_5.png']\n",
        "5_5.png\n"
       ]
      },
      {
       "output_type": "stream",
       "stream": "stdout",
       "text": [
        "1_1.png\n"
       ]
      },
      {
       "output_type": "stream",
       "stream": "stdout",
       "text": [
        "1_3.png\n"
       ]
      },
      {
       "output_type": "stream",
       "stream": "stdout",
       "text": [
        "5_1.png\n"
       ]
      },
      {
       "output_type": "stream",
       "stream": "stdout",
       "text": [
        "5_3.png\n"
       ]
      },
      {
       "output_type": "stream",
       "stream": "stdout",
       "text": [
        "3_5.png\n"
       ]
      },
      {
       "output_type": "stream",
       "stream": "stdout",
       "text": [
        "3_3.png\n"
       ]
      },
      {
       "output_type": "stream",
       "stream": "stdout",
       "text": [
        "3_1.png\n"
       ]
      },
      {
       "output_type": "stream",
       "stream": "stdout",
       "text": [
        "1_5.png\n"
       ]
      },
      {
       "output_type": "stream",
       "stream": "stdout",
       "text": [
        "9x9 distance matrix\n",
        "IDs:\n",
        "0, 1, 2, 3, 4, 5, 6, 7, 8\n",
        "Data:\n",
        "[[ 0.          2.          4.          2.          2.82842712  4.47213595\n",
        "   4.          4.47213595  5.65685425]\n",
        " [ 2.          0.          2.          2.82842712  2.          2.82842712\n",
        "   4.47213595  4.          4.47213595]\n",
        " [ 4.          2.          0.          4.47213595  2.82842712  2.\n",
        "   5.65685425  4.47213595  4.        ]\n",
        " [ 2.          2.82842712  4.47213595  0.          2.          4.          2.\n",
        "   2.82842712  4.47213595]\n",
        " [ 2.82842712  2.          2.82842712  2.          0.          2.\n",
        "   2.82842712  2.          2.82842712]\n",
        " [ 4.47213595  2.82842712  2.          4.          2.          0.\n",
        "   4.47213595  2.82842712  2.        ]\n",
        " [ 4.          4.47213595  5.65685425  2.          2.82842712  4.47213595\n",
        "   0.          2.          4.        ]\n",
        " [ 4.47213595  4.          4.47213595  2.82842712  2.          2.82842712\n",
        "   2.          0.          2.        ]\n",
        " [ 5.65685425  4.47213595  4.          4.47213595  2.82842712  2.          4.\n",
        "   2.          0.        ]]\n",
        "9x9 distance matrix\n",
        "IDs:\n",
        "0, 1, 2, 3, 4, 5, 6, 7, 8\n",
        "Data:\n",
        "[[ 0.          0.40686922  0.46895641  0.72126816  0.35931308  0.68031704\n",
        "   0.44517834  0.3989432   0.74240423]\n",
        " [ 0.40686922  0.          0.50858653  0.7001321   0.24438573  0.65521797\n",
        "   0.46895641  0.19815059  1.        ]\n",
        " [ 0.46895641  0.50858653  0.          0.70805812  0.45046235  0.67371202\n",
        "   0.51254954  0.49141347  0.94451783]\n",
        " [ 0.72126816  0.7001321   0.70805812  0.          0.62351387  0.6340819\n",
        "   0.64597094  0.70673712  0.92998679]\n",
        " [ 0.35931308  0.24438573  0.45046235  0.62351387  0.          0.5984148\n",
        "   0.45310436  0.25099075  0.85072655]\n",
        " [ 0.68031704  0.65521797  0.67371202  0.6340819   0.5984148   0.\n",
        "   0.65785997  0.62879789  0.87054161]\n",
        " [ 0.44517834  0.46895641  0.51254954  0.64597094  0.45310436  0.65785997\n",
        "   0.          0.48480845  0.97093791]\n",
        " [ 0.3989432   0.19815059  0.49141347  0.70673712  0.25099075  0.62879789\n",
        "   0.48480845  0.          0.96433289]\n",
        " [ 0.74240423  1.          0.94451783  0.92998679  0.85072655  0.87054161\n",
        "   0.97093791  0.96433289  0.        ]]\n",
        "Correlation coefficient: 0.147729017188 (p=0.440000)\n",
        "Writing to file: logs/discrete/D13200591014.2.exp.log.phase1.iconicity\n"
       ]
      },
      {
       "output_type": "stream",
       "stream": "stdout",
       "text": [
        "Phase/cond/r: 0/2/False\n",
        "Images for the phase are: ['5_5.png', '5_4.png', '5_1.png', '5_3.png', '5_2.png']\n",
        "5_5.png\n"
       ]
      },
      {
       "output_type": "stream",
       "stream": "stdout",
       "text": [
        "5_4.png\n"
       ]
      },
      {
       "output_type": "stream",
       "stream": "stdout",
       "text": [
        "5_1.png\n"
       ]
      },
      {
       "output_type": "stream",
       "stream": "stdout",
       "text": [
        "5_3.png\n"
       ]
      },
      {
       "output_type": "stream",
       "stream": "stdout",
       "text": [
        "5_2.png\n"
       ]
      },
      {
       "output_type": "stream",
       "stream": "stdout",
       "text": [
        "5x5 distance matrix\n",
        "IDs:\n",
        "0, 1, 2, 3, 4\n",
        "Data:\n",
        "[[ 0.  1.  2.  3.  4.]\n",
        " [ 1.  0.  1.  2.  3.]\n",
        " [ 2.  1.  0.  1.  2.]\n",
        " [ 3.  2.  1.  0.  1.]\n",
        " [ 4.  3.  2.  1.  0.]]\n",
        "5x5 distance matrix\n",
        "IDs:\n",
        "0, 1, 2, 3, 4\n",
        "Data:\n",
        "[[ 0.          0.99387755  0.46122449  1.          0.98367347]\n",
        " [ 0.99387755  0.          0.73265306  0.68367347  0.76326531]\n",
        " [ 0.46122449  0.73265306  0.          0.71020408  0.70408163]\n",
        " [ 1.          0.68367347  0.71020408  0.          0.4755102 ]\n",
        " [ 0.98367347  0.76326531  0.70408163  0.4755102   0.        ]]\n",
        "Correlation coefficient: 0.317820863082 (p=0.305000)\n",
        "Writing to file: logs/discrete/D13200591014.2.exp.log.phase0.iconicity\n"
       ]
      },
      {
       "output_type": "stream",
       "stream": "stdout",
       "text": [
        "Phase/cond/r: 2/2/False\n",
        "Images for the phase are: ['5_5.png', '1_1.png', '1_3.png', '1_5.png', '5_3.png', '3_5.png', '3_3.png', '3_1.png', '5_1.png']\n",
        "5_5.png\n"
       ]
      },
      {
       "output_type": "stream",
       "stream": "stdout",
       "text": [
        "1_1.png\n"
       ]
      },
      {
       "output_type": "stream",
       "stream": "stdout",
       "text": [
        "1_3.png\n"
       ]
      },
      {
       "output_type": "stream",
       "stream": "stdout",
       "text": [
        "1_5.png\n"
       ]
      },
      {
       "output_type": "stream",
       "stream": "stdout",
       "text": [
        "5_3.png\n"
       ]
      },
      {
       "output_type": "stream",
       "stream": "stdout",
       "text": [
        "3_5.png\n"
       ]
      },
      {
       "output_type": "stream",
       "stream": "stdout",
       "text": [
        "3_3.png\n"
       ]
      },
      {
       "output_type": "stream",
       "stream": "stdout",
       "text": [
        "3_1.png\n"
       ]
      },
      {
       "output_type": "stream",
       "stream": "stdout",
       "text": [
        "5_1.png\n"
       ]
      },
      {
       "output_type": "stream",
       "stream": "stdout",
       "text": [
        "9x9 distance matrix\n",
        "IDs:\n",
        "0, 1, 2, 3, 4, 5, 6, 7, 8\n",
        "Data:\n",
        "[[ 0.          2.          4.          2.          2.82842712  4.47213595\n",
        "   4.          4.47213595  5.65685425]\n",
        " [ 2.          0.          2.          2.82842712  2.          2.82842712\n",
        "   4.47213595  4.          4.47213595]\n",
        " [ 4.          2.          0.          4.47213595  2.82842712  2.\n",
        "   5.65685425  4.47213595  4.        ]\n",
        " [ 2.          2.82842712  4.47213595  0.          2.          4.          2.\n",
        "   2.82842712  4.47213595]\n",
        " [ 2.82842712  2.          2.82842712  2.          0.          2.\n",
        "   2.82842712  2.          2.82842712]\n",
        " [ 4.47213595  2.82842712  2.          4.          2.          0.\n",
        "   4.47213595  2.82842712  2.        ]\n",
        " [ 4.          4.47213595  5.65685425  2.          2.82842712  4.47213595\n",
        "   0.          2.          4.        ]\n",
        " [ 4.47213595  4.          4.47213595  2.82842712  2.          2.82842712\n",
        "   2.          0.          2.        ]\n",
        " [ 5.65685425  4.47213595  4.          4.47213595  2.82842712  2.          4.\n",
        "   2.          0.        ]]\n",
        "9x9 distance matrix\n",
        "IDs:\n",
        "0, 1, 2, 3, 4, 5, 6, 7, 8\n",
        "Data:\n",
        "[[ 0.          0.37647059  0.61344538  0.67058824  0.41848739  0.88403361\n",
        "   0.42857143  0.37142857  0.81176471]\n",
        " [ 0.37647059  0.          0.57983193  0.80168067  0.29411765  0.99159664\n",
        "   0.60504202  0.20840336  0.94789916]\n",
        " [ 0.61344538  0.57983193  0.          0.81008403  0.63193277  0.98151261\n",
        "   0.6605042   0.57647059  0.59327731]\n",
        " [ 0.67058824  0.80168067  0.81008403  0.          0.7512605   0.8907563\n",
        "   0.59495798  0.71428571  1.        ]\n",
        " [ 0.41848739  0.29411765  0.63193277  0.7512605   0.          0.88739496\n",
        "   0.51428571  0.31428571  0.91092437]\n",
        " [ 0.88403361  0.99159664  0.98151261  0.8907563   0.88739496  0.\n",
        "   0.80168067  0.89411765  0.95798319]\n",
        " [ 0.42857143  0.60504202  0.6605042   0.59495798  0.51428571  0.80168067\n",
        "   0.          0.46890756  0.94957983]\n",
        " [ 0.37142857  0.20840336  0.57647059  0.71428571  0.31428571  0.89411765\n",
        "   0.46890756  0.          0.81512605]\n",
        " [ 0.81176471  0.94789916  0.59327731  1.          0.91092437  0.95798319\n",
        "   0.94957983  0.81512605  0.        ]]\n",
        "Correlation coefficient: 0.116747144096 (p=0.548000)\n",
        "Writing to file: logs/discrete/D13200591014.2.exp.log.phase2.iconicity\n"
       ]
      },
      {
       "output_type": "stream",
       "stream": "stdout",
       "text": [
        "D123015171014.1\n",
        "Phase/cond/r: 1/1/False"
       ]
      },
      {
       "output_type": "stream",
       "stream": "stdout",
       "text": [
        "\n",
        "Images for the phase are: ['5_5.png', '1_1.png', '1_3.png', '5_1.png', '5_3.png', '3_5.png', '3_3.png', '3_1.png', '1_5.png']\n",
        "5_5.png\n"
       ]
      },
      {
       "output_type": "stream",
       "stream": "stdout",
       "text": [
        "1_1.png\n"
       ]
      },
      {
       "output_type": "stream",
       "stream": "stdout",
       "text": [
        "1_3.png\n"
       ]
      },
      {
       "output_type": "stream",
       "stream": "stdout",
       "text": [
        "5_1.png\n"
       ]
      },
      {
       "output_type": "stream",
       "stream": "stdout",
       "text": [
        "5_3.png\n"
       ]
      },
      {
       "output_type": "stream",
       "stream": "stdout",
       "text": [
        "3_5.png\n"
       ]
      },
      {
       "output_type": "stream",
       "stream": "stdout",
       "text": [
        "3_3.png\n"
       ]
      },
      {
       "output_type": "stream",
       "stream": "stdout",
       "text": [
        "3_1.png\n"
       ]
      },
      {
       "output_type": "stream",
       "stream": "stdout",
       "text": [
        "1_5.png\n"
       ]
      },
      {
       "output_type": "stream",
       "stream": "stdout",
       "text": [
        "9x9 distance matrix\n",
        "IDs:\n",
        "0, 1, 2, 3, 4, 5, 6, 7, 8\n",
        "Data:\n",
        "[[ 0.          2.          4.          2.          2.82842712  4.47213595\n",
        "   4.          4.47213595  5.65685425]\n",
        " [ 2.          0.          2.          2.82842712  2.          2.82842712\n",
        "   4.47213595  4.          4.47213595]\n",
        " [ 4.          2.          0.          4.47213595  2.82842712  2.\n",
        "   5.65685425  4.47213595  4.        ]\n",
        " [ 2.          2.82842712  4.47213595  0.          2.          4.          2.\n",
        "   2.82842712  4.47213595]\n",
        " [ 2.82842712  2.          2.82842712  2.          0.          2.\n",
        "   2.82842712  2.          2.82842712]\n",
        " [ 4.47213595  2.82842712  2.          4.          2.          0.\n",
        "   4.47213595  2.82842712  2.        ]\n",
        " [ 4.          4.47213595  5.65685425  2.          2.82842712  4.47213595\n",
        "   0.          2.          4.        ]\n",
        " [ 4.47213595  4.          4.47213595  2.82842712  2.          2.82842712\n",
        "   2.          0.          2.        ]\n",
        " [ 5.65685425  4.47213595  4.          4.47213595  2.82842712  2.          4.\n",
        "   2.          0.        ]]\n",
        "9x9 distance matrix\n",
        "IDs:\n",
        "0, 1, 2, 3, 4, 5, 6, 7, 8\n",
        "Data:\n",
        "[[ 0.          0.89662447  0.6814346   0.60337553  0.9092827   0.79957806\n",
        "   0.50632911  0.69620253  0.592827  ]\n",
        " [ 0.89662447  0.          0.87974684  0.89662447  0.72995781  1.\n",
        "   0.89662447  0.79113924  0.89662447]\n",
        " [ 0.6814346   0.87974684  0.          0.67088608  0.89029536  0.66666667\n",
        "   0.69198312  0.66455696  0.45780591]\n",
        " [ 0.60337553  0.89662447  0.67088608  0.          0.85232068  0.56540084\n",
        "   0.55696203  0.71308017  0.66455696]\n",
        " [ 0.9092827   0.72995781  0.89029536  0.85232068  0.          0.89240506\n",
        "   0.87552743  0.80801688  0.87763713]\n",
        " [ 0.79957806  1.          0.66666667  0.56540084  0.89240506  0.\n",
        "   0.87974684  0.82700422  0.78902954]\n",
        " [ 0.50632911  0.89662447  0.69198312  0.55696203  0.87552743  0.87974684\n",
        "   0.          0.50632911  0.36075949]\n",
        " [ 0.69620253  0.79113924  0.66455696  0.71308017  0.80801688  0.82700422\n",
        "   0.50632911  0.          0.48945148]\n",
        " [ 0.592827    0.89662447  0.45780591  0.66455696  0.87763713  0.78902954\n",
        "   0.36075949  0.48945148  0.        ]]\n",
        "Correlation coefficient: -0.0908883288738 (p=0.660000)\n",
        "Writing to file: logs/discrete/D123015171014.1.exp.log.phase1.iconicity\n"
       ]
      },
      {
       "output_type": "stream",
       "stream": "stdout",
       "text": [
        "Phase/cond/r: 0/1/False\n",
        "Images for the phase are: ['5_5.png', '5_4.png', '5_1.png', '5_3.png', '5_2.png']\n",
        "5_5.png\n"
       ]
      },
      {
       "output_type": "stream",
       "stream": "stdout",
       "text": [
        "5_4.png\n"
       ]
      },
      {
       "output_type": "stream",
       "stream": "stdout",
       "text": [
        "5_1.png\n"
       ]
      },
      {
       "output_type": "stream",
       "stream": "stdout",
       "text": [
        "5_3.png\n"
       ]
      },
      {
       "output_type": "stream",
       "stream": "stdout",
       "text": [
        "5_2.png\n"
       ]
      },
      {
       "output_type": "stream",
       "stream": "stdout",
       "text": [
        "5x5 distance matrix\n",
        "IDs:\n",
        "0, 1, 2, 3, 4\n",
        "Data:\n",
        "[[ 0.  1.  2.  3.  4.]\n",
        " [ 1.  0.  1.  2.  3.]\n",
        " [ 2.  1.  0.  1.  2.]\n",
        " [ 3.  2.  1.  0.  1.]\n",
        " [ 4.  3.  2.  1.  0.]]\n",
        "5x5 distance matrix\n",
        "IDs:\n",
        "0, 1, 2, 3, 4\n",
        "Data:\n",
        "[[ 0.          0.86526946  0.68562874  0.36227545  0.2739521 ]\n",
        " [ 0.86526946  0.          0.87724551  0.8757485   1.        ]\n",
        " [ 0.68562874  0.87724551  0.          0.74251497  0.87275449]\n",
        " [ 0.36227545  0.8757485   0.74251497  0.          0.50449102]\n",
        " [ 0.2739521   1.          0.87275449  0.50449102  0.        ]]\n",
        "Correlation coefficient: -0.241543855942 (p=0.600000)\n",
        "Writing to file: logs/discrete/D123015171014.1.exp.log.phase0.iconicity\n"
       ]
      },
      {
       "output_type": "stream",
       "stream": "stdout",
       "text": [
        "Phase/cond/r: 2/1/False\n",
        "Images for the phase are: ['5_5.png', '1_1.png', '1_3.png', '5_1.png', '5_3.png', '3_5.png', '3_3.png', '3_1.png', '1_5.png']\n",
        "5_5.png\n"
       ]
      },
      {
       "output_type": "stream",
       "stream": "stdout",
       "text": [
        "1_1.png\n"
       ]
      },
      {
       "output_type": "stream",
       "stream": "stdout",
       "text": [
        "1_3.png\n"
       ]
      },
      {
       "output_type": "stream",
       "stream": "stdout",
       "text": [
        "5_1.png\n"
       ]
      },
      {
       "output_type": "stream",
       "stream": "stdout",
       "text": [
        "5_3.png\n"
       ]
      },
      {
       "output_type": "stream",
       "stream": "stdout",
       "text": [
        "3_5.png\n"
       ]
      },
      {
       "output_type": "stream",
       "stream": "stdout",
       "text": [
        "3_3.png\n"
       ]
      },
      {
       "output_type": "stream",
       "stream": "stdout",
       "text": [
        "3_1.png\n"
       ]
      },
      {
       "output_type": "stream",
       "stream": "stdout",
       "text": [
        "1_5.png\n"
       ]
      },
      {
       "output_type": "stream",
       "stream": "stdout",
       "text": [
        "9x9 distance matrix\n",
        "IDs:\n",
        "0, 1, 2, 3, 4, 5, 6, 7, 8\n",
        "Data:\n",
        "[[ 0.          2.          4.          2.          2.82842712  4.47213595\n",
        "   4.          4.47213595  5.65685425]\n",
        " [ 2.          0.          2.          2.82842712  2.          2.82842712\n",
        "   4.47213595  4.          4.47213595]\n",
        " [ 4.          2.          0.          4.47213595  2.82842712  2.\n",
        "   5.65685425  4.47213595  4.        ]\n",
        " [ 2.          2.82842712  4.47213595  0.          2.          4.          2.\n",
        "   2.82842712  4.47213595]\n",
        " [ 2.82842712  2.          2.82842712  2.          0.          2.\n",
        "   2.82842712  2.          2.82842712]\n",
        " [ 4.47213595  2.82842712  2.          4.          2.          0.\n",
        "   4.47213595  2.82842712  2.        ]\n",
        " [ 4.          4.47213595  5.65685425  2.          2.82842712  4.47213595\n",
        "   0.          2.          4.        ]\n",
        " [ 4.47213595  4.          4.47213595  2.82842712  2.          2.82842712\n",
        "   2.          0.          2.        ]\n",
        " [ 5.65685425  4.47213595  4.          4.47213595  2.82842712  2.          4.\n",
        "   2.          0.        ]]\n",
        "9x9 distance matrix\n",
        "IDs:\n",
        "0, 1, 2, 3, 4, 5, 6, 7, 8\n",
        "Data:\n",
        "[[ 0.          0.91917973  0.84800965  0.37394451  0.67189385  0.66586248\n",
        "   0.57056695  0.64656212  0.61278649]\n",
        " [ 0.91917973  0.          0.88178528  0.92159228  0.66224367  0.90952955\n",
        "   1.          0.98431846  0.98793727]\n",
        " [ 0.84800965  0.88178528  0.          0.92400483  0.86248492  0.93968637\n",
        "   0.96139928  0.9517491   0.98069964]\n",
        " [ 0.37394451  0.92159228  0.92400483  0.          0.54885404  0.59831122\n",
        "   0.26899879  0.39806996  0.37032569]\n",
        " [ 0.67189385  0.66224367  0.86248492  0.54885404  0.          0.64414958\n",
        "   0.57056695  0.47527141  0.58262967]\n",
        " [ 0.66586248  0.90952955  0.93968637  0.59831122  0.64414958  0.\n",
        "   0.64535585  0.67551267  0.46079614]\n",
        " [ 0.57056695  1.          0.96139928  0.26899879  0.57056695  0.64535585\n",
        "   0.          0.23401689  0.29433052]\n",
        " [ 0.64656212  0.98431846  0.9517491   0.39806996  0.47527141  0.67551267\n",
        "   0.23401689  0.          0.28950543]\n",
        " [ 0.61278649  0.98793727  0.98069964  0.37032569  0.58262967  0.46079614\n",
        "   0.29433052  0.28950543  0.        ]]\n",
        "Correlation coefficient: 0.401966533716 (p=0.010000)\n",
        "Writing to file: logs/discrete/D123015171014.1.exp.log.phase2.iconicity\n"
       ]
      },
      {
       "output_type": "stream",
       "stream": "stdout",
       "text": [
        "D132007131014.2\n",
        "Phase/cond/r: 1/2/False"
       ]
      },
      {
       "output_type": "stream",
       "stream": "stdout",
       "text": [
        "\n",
        "Images for the phase are: ['5_5.png', '1_1.png', '1_3.png', '1_5.png', '5_3.png', '3_5.png', '3_3.png', '3_1.png', '5_1.png']\n",
        "5_5.png\n"
       ]
      },
      {
       "output_type": "stream",
       "stream": "stdout",
       "text": [
        "1_1.png\n"
       ]
      },
      {
       "output_type": "stream",
       "stream": "stdout",
       "text": [
        "1_3.png\n"
       ]
      },
      {
       "output_type": "stream",
       "stream": "stdout",
       "text": [
        "1_5.png\n"
       ]
      },
      {
       "output_type": "stream",
       "stream": "stdout",
       "text": [
        "5_3.png\n"
       ]
      },
      {
       "output_type": "stream",
       "stream": "stdout",
       "text": [
        "3_5.png\n"
       ]
      },
      {
       "output_type": "stream",
       "stream": "stdout",
       "text": [
        "3_3.png\n"
       ]
      },
      {
       "output_type": "stream",
       "stream": "stdout",
       "text": [
        "3_1.png\n"
       ]
      },
      {
       "output_type": "stream",
       "stream": "stdout",
       "text": [
        "5_1.png\n"
       ]
      },
      {
       "output_type": "stream",
       "stream": "stdout",
       "text": [
        "9x9 distance matrix\n",
        "IDs:\n",
        "0, 1, 2, 3, 4, 5, 6, 7, 8\n",
        "Data:\n",
        "[[ 0.          2.          4.          2.          2.82842712  4.47213595\n",
        "   4.          4.47213595  5.65685425]\n",
        " [ 2.          0.          2.          2.82842712  2.          2.82842712\n",
        "   4.47213595  4.          4.47213595]\n",
        " [ 4.          2.          0.          4.47213595  2.82842712  2.\n",
        "   5.65685425  4.47213595  4.        ]\n",
        " [ 2.          2.82842712  4.47213595  0.          2.          4.          2.\n",
        "   2.82842712  4.47213595]\n",
        " [ 2.82842712  2.          2.82842712  2.          0.          2.\n",
        "   2.82842712  2.          2.82842712]\n",
        " [ 4.47213595  2.82842712  2.          4.          2.          0.\n",
        "   4.47213595  2.82842712  2.        ]\n",
        " [ 4.          4.47213595  5.65685425  2.          2.82842712  4.47213595\n",
        "   0.          2.          4.        ]\n",
        " [ 4.47213595  4.          4.47213595  2.82842712  2.          2.82842712\n",
        "   2.          0.          2.        ]\n",
        " [ 5.65685425  4.47213595  4.          4.47213595  2.82842712  2.          4.\n",
        "   2.          0.        ]]\n",
        "9x9 distance matrix\n",
        "IDs:\n",
        "0, 1, 2, 3, 4, 5, 6, 7, 8\n",
        "Data:\n",
        "[[ 0.          0.96118299  0.92236599  0.93345656  0.89463956  0.98151571\n",
        "   0.91312384  0.88539741  1.        ]\n",
        " [ 0.96118299  0.          0.83179298  0.84842884  0.80591497  0.80221811\n",
        "   0.69316081  0.81146026  0.8207024 ]\n",
        " [ 0.92236599  0.83179298  0.          0.40295749  0.32902033  0.3715342\n",
        "   0.52310536  0.60443623  0.59704251]\n",
        " [ 0.93345656  0.84842884  0.40295749  0.          0.39556377  0.37707948\n",
        "   0.50831793  0.56192237  0.61182994]\n",
        " [ 0.89463956  0.80591497  0.32902033  0.39556377  0.          0.29574861\n",
        "   0.48983364  0.52680222  0.65988909]\n",
        " [ 0.98151571  0.80221811  0.3715342   0.37707948  0.29574861  0.\n",
        "   0.48428835  0.64879852  0.59149723]\n",
        " [ 0.91312384  0.69316081  0.52310536  0.50831793  0.48983364  0.48428835\n",
        "   0.          0.65064695  0.56561922]\n",
        " [ 0.88539741  0.81146026  0.60443623  0.56192237  0.52680222  0.64879852\n",
        "   0.65064695  0.          0.72828096]\n",
        " [ 1.          0.8207024   0.59704251  0.61182994  0.65988909  0.59149723\n",
        "   0.56561922  0.72828096  0.        ]]\n",
        "Correlation coefficient: 0.14891615821 (p=0.433000)\n",
        "Writing to file: logs/discrete/D132007131014.2.exp.log.phase1.iconicity\n"
       ]
      },
      {
       "output_type": "stream",
       "stream": "stdout",
       "text": [
        "Phase/cond/r: 0/2/False\n",
        "Images for the phase are: ['5_5.png', '5_4.png', '5_1.png', '5_3.png', '5_2.png']\n",
        "5_5.png\n"
       ]
      },
      {
       "output_type": "stream",
       "stream": "stdout",
       "text": [
        "5_4.png\n"
       ]
      },
      {
       "output_type": "stream",
       "stream": "stdout",
       "text": [
        "5_1.png\n"
       ]
      },
      {
       "output_type": "stream",
       "stream": "stdout",
       "text": [
        "5_3.png\n"
       ]
      },
      {
       "output_type": "stream",
       "stream": "stdout",
       "text": [
        "5_2.png\n"
       ]
      },
      {
       "output_type": "stream",
       "stream": "stdout",
       "text": [
        "5x5 distance matrix\n",
        "IDs:\n",
        "0, 1, 2, 3, 4\n",
        "Data:\n",
        "[[ 0.  1.  2.  3.  4.]\n",
        " [ 1.  0.  1.  2.  3.]\n",
        " [ 2.  1.  0.  1.  2.]\n",
        " [ 3.  2.  1.  0.  1.]\n",
        " [ 4.  3.  2.  1.  0.]]\n",
        "5x5 distance matrix\n",
        "IDs:\n",
        "0, 1, 2, 3, 4\n",
        "Data:\n",
        "[[ 0.          0.86649215  0.94240838  0.62565445  0.73298429]\n",
        " [ 0.86649215  0.          1.          0.67801047  0.66753927]\n",
        " [ 0.94240838  1.          0.          0.87434555  0.76439791]\n",
        " [ 0.62565445  0.67801047  0.87434555  0.          0.5078534 ]\n",
        " [ 0.73298429  0.66753927  0.76439791  0.5078534   0.        ]]\n",
        "Correlation coefficient: -0.394097870222 (p=0.246000)\n",
        "Writing to file: logs/discrete/D132007131014.2.exp.log.phase0.iconicity\n"
       ]
      },
      {
       "output_type": "stream",
       "stream": "stdout",
       "text": [
        "Phase/cond/r: 2/2/False\n",
        "Images for the phase are: ['5_5.png', '1_1.png', '1_3.png', '1_5.png', '5_3.png', '3_5.png', '3_3.png', '3_1.png', '5_1.png']\n",
        "5_5.png\n"
       ]
      },
      {
       "output_type": "stream",
       "stream": "stdout",
       "text": [
        "1_1.png\n"
       ]
      },
      {
       "output_type": "stream",
       "stream": "stdout",
       "text": [
        "1_3.png\n"
       ]
      },
      {
       "output_type": "stream",
       "stream": "stdout",
       "text": [
        "1_5.png\n"
       ]
      },
      {
       "output_type": "stream",
       "stream": "stdout",
       "text": [
        "5_3.png\n"
       ]
      },
      {
       "output_type": "stream",
       "stream": "stdout",
       "text": [
        "3_5.png\n"
       ]
      },
      {
       "output_type": "stream",
       "stream": "stdout",
       "text": [
        "3_3.png\n"
       ]
      },
      {
       "output_type": "stream",
       "stream": "stdout",
       "text": [
        "3_1.png\n"
       ]
      },
      {
       "output_type": "stream",
       "stream": "stdout",
       "text": [
        "5_1.png\n"
       ]
      },
      {
       "output_type": "stream",
       "stream": "stdout",
       "text": [
        "9x9 distance matrix\n",
        "IDs:\n",
        "0, 1, 2, 3, 4, 5, 6, 7, 8\n",
        "Data:\n",
        "[[ 0.          2.          4.          2.          2.82842712  4.47213595\n",
        "   4.          4.47213595  5.65685425]\n",
        " [ 2.          0.          2.          2.82842712  2.          2.82842712\n",
        "   4.47213595  4.          4.47213595]\n",
        " [ 4.          2.          0.          4.47213595  2.82842712  2.\n",
        "   5.65685425  4.47213595  4.        ]\n",
        " [ 2.          2.82842712  4.47213595  0.          2.          4.          2.\n",
        "   2.82842712  4.47213595]\n",
        " [ 2.82842712  2.          2.82842712  2.          0.          2.\n",
        "   2.82842712  2.          2.82842712]\n",
        " [ 4.47213595  2.82842712  2.          4.          2.          0.\n",
        "   4.47213595  2.82842712  2.        ]\n",
        " [ 4.          4.47213595  5.65685425  2.          2.82842712  4.47213595\n",
        "   0.          2.          4.        ]\n",
        " [ 4.47213595  4.          4.47213595  2.82842712  2.          2.82842712\n",
        "   2.          0.          2.        ]\n",
        " [ 5.65685425  4.47213595  4.          4.47213595  2.82842712  2.          4.\n",
        "   2.          0.        ]]\n",
        "9x9 distance matrix\n",
        "IDs:\n",
        "0, 1, 2, 3, 4, 5, 6, 7, 8\n",
        "Data:\n",
        "[[ 0.          0.78292683  0.84146341  0.81463415  0.94878049  1.\n",
        "   0.85121951  0.7097561   0.89756098]\n",
        " [ 0.78292683  0.          0.6902439   0.7195122   0.7902439   0.83414634\n",
        "   0.65365854  0.56829268  0.75121951]\n",
        " [ 0.84146341  0.6902439   0.          0.48780488  0.46341463  0.43414634\n",
        "   0.54634146  0.55121951  0.26585366]\n",
        " [ 0.81463415  0.7195122   0.48780488  0.          0.42195122  0.4         0.6\n",
        "   0.43414634  0.39268293]\n",
        " [ 0.94878049  0.7902439   0.46341463  0.42195122  0.          0.35121951\n",
        "   0.55853659  0.59756098  0.42926829]\n",
        " [ 1.          0.83414634  0.43414634  0.4         0.35121951  0.\n",
        "   0.69512195  0.6195122   0.30731707]\n",
        " [ 0.85121951  0.65365854  0.54634146  0.6         0.55853659  0.69512195\n",
        "   0.          0.66829268  0.6195122 ]\n",
        " [ 0.7097561   0.56829268  0.55121951  0.43414634  0.59756098  0.6195122\n",
        "   0.66829268  0.          0.53902439]\n",
        " [ 0.89756098  0.75121951  0.26585366  0.39268293  0.42926829  0.30731707\n",
        "   0.6195122   0.53902439  0.        ]]\n",
        "Correlation coefficient: 0.156781027724 (p=0.382000)\n",
        "Writing to file: logs/discrete/D132007131014.2.exp.log.phase2.iconicity\n"
       ]
      },
      {
       "output_type": "stream",
       "stream": "stdout",
       "text": [
        "D132009141014.2\n",
        "Phase/cond/r: 1/2/False"
       ]
      },
      {
       "output_type": "stream",
       "stream": "stdout",
       "text": [
        "\n",
        "Images for the phase are: ['5_5.png', '1_1.png', '1_3.png', '1_5.png', '5_3.png', '3_5.png', '3_3.png', '3_1.png', '5_1.png']\n",
        "5_5.png\n"
       ]
      },
      {
       "output_type": "stream",
       "stream": "stdout",
       "text": [
        "1_1.png\n"
       ]
      },
      {
       "output_type": "stream",
       "stream": "stdout",
       "text": [
        "1_3.png\n"
       ]
      },
      {
       "output_type": "stream",
       "stream": "stdout",
       "text": [
        "1_5.png\n"
       ]
      },
      {
       "output_type": "stream",
       "stream": "stdout",
       "text": [
        "5_3.png\n"
       ]
      },
      {
       "output_type": "stream",
       "stream": "stdout",
       "text": [
        "3_5.png\n"
       ]
      },
      {
       "output_type": "stream",
       "stream": "stdout",
       "text": [
        "3_3.png\n"
       ]
      },
      {
       "output_type": "stream",
       "stream": "stdout",
       "text": [
        "3_1.png\n"
       ]
      },
      {
       "output_type": "stream",
       "stream": "stdout",
       "text": [
        "5_1.png\n"
       ]
      },
      {
       "output_type": "stream",
       "stream": "stdout",
       "text": [
        "9x9 distance matrix\n",
        "IDs:\n",
        "0, 1, 2, 3, 4, 5, 6, 7, 8\n",
        "Data:\n",
        "[[ 0.          2.          4.          2.          2.82842712  4.47213595\n",
        "   4.          4.47213595  5.65685425]\n",
        " [ 2.          0.          2.          2.82842712  2.          2.82842712\n",
        "   4.47213595  4.          4.47213595]\n",
        " [ 4.          2.          0.          4.47213595  2.82842712  2.\n",
        "   5.65685425  4.47213595  4.        ]\n",
        " [ 2.          2.82842712  4.47213595  0.          2.          4.          2.\n",
        "   2.82842712  4.47213595]\n",
        " [ 2.82842712  2.          2.82842712  2.          0.          2.\n",
        "   2.82842712  2.          2.82842712]\n",
        " [ 4.47213595  2.82842712  2.          4.          2.          0.\n",
        "   4.47213595  2.82842712  2.        ]\n",
        " [ 4.          4.47213595  5.65685425  2.          2.82842712  4.47213595\n",
        "   0.          2.          4.        ]\n",
        " [ 4.47213595  4.          4.47213595  2.82842712  2.          2.82842712\n",
        "   2.          0.          2.        ]\n",
        " [ 5.65685425  4.47213595  4.          4.47213595  2.82842712  2.          4.\n",
        "   2.          0.        ]]\n",
        "9x9 distance matrix\n",
        "IDs:\n",
        "0, 1, 2, 3, 4, 5, 6, 7, 8\n",
        "Data:\n",
        "[[ 0.          1.          0.85555556  0.93333333  0.73888889  0.86111111\n",
        "   0.82777778  0.90555556  0.92222222]\n",
        " [ 1.          0.          0.74444444  0.71666667  0.82777778  0.37222222\n",
        "   0.56111111  0.5         0.72777778]\n",
        " [ 0.85555556  0.74444444  0.          0.68333333  0.75555556  0.70555556\n",
        "   0.7         0.6         0.85      ]\n",
        " [ 0.93333333  0.71666667  0.68333333  0.          0.80555556  0.71666667\n",
        "   0.78333333  0.60555556  0.96111111]\n",
        " [ 0.73888889  0.82777778  0.75555556  0.80555556  0.          0.95555556\n",
        "   0.91666667  0.81111111  0.85555556]\n",
        " [ 0.86111111  0.37222222  0.70555556  0.71666667  0.95555556  0.\n",
        "   0.69444444  0.47222222  0.73333333]\n",
        " [ 0.82777778  0.56111111  0.7         0.78333333  0.91666667  0.69444444\n",
        "   0.          0.68333333  0.65555556]\n",
        " [ 0.90555556  0.5         0.6         0.60555556  0.81111111  0.47222222\n",
        "   0.68333333  0.          0.81111111]\n",
        " [ 0.92222222  0.72777778  0.85        0.96111111  0.85555556  0.73333333\n",
        "   0.65555556  0.81111111  0.        ]]\n",
        "Correlation coefficient: -0.152555193891 (p=0.417000)\n",
        "Writing to file: logs/discrete/D132009141014.2.exp.log.phase1.iconicity\n"
       ]
      },
      {
       "output_type": "stream",
       "stream": "stdout",
       "text": [
        "Phase/cond/r: 0/2/False\n",
        "Images for the phase are: ['5_5.png', '5_4.png', '5_1.png', '5_3.png', '5_2.png']\n",
        "5_5.png\n"
       ]
      },
      {
       "output_type": "stream",
       "stream": "stdout",
       "text": [
        "5_4.png\n"
       ]
      },
      {
       "output_type": "stream",
       "stream": "stdout",
       "text": [
        "5_1.png\n"
       ]
      },
      {
       "output_type": "stream",
       "stream": "stdout",
       "text": [
        "5_3.png\n"
       ]
      },
      {
       "output_type": "stream",
       "stream": "stdout",
       "text": [
        "5_2.png\n"
       ]
      },
      {
       "output_type": "stream",
       "stream": "stdout",
       "text": [
        "5x5 distance matrix\n",
        "IDs:\n",
        "0, 1, 2, 3, 4\n",
        "Data:\n",
        "[[ 0.  1.  2.  3.  4.]\n",
        " [ 1.  0.  1.  2.  3.]\n",
        " [ 2.  1.  0.  1.  2.]\n",
        " [ 3.  2.  1.  0.  1.]\n",
        " [ 4.  3.  2.  1.  0.]]\n",
        "5x5 distance matrix\n",
        "IDs:\n",
        "0, 1, 2, 3, 4\n",
        "Data:\n",
        "[[ 0.          1.          0.89823009  0.96902655  0.7920354 ]\n",
        " [ 1.          0.          0.44247788  0.05309735  0.81858407]\n",
        " [ 0.89823009  0.44247788  0.          0.45132743  0.7079646 ]\n",
        " [ 0.96902655  0.05309735  0.45132743  0.          0.81858407]\n",
        " [ 0.7920354   0.81858407  0.7079646   0.81858407  0.        ]]\n",
        "Correlation coefficient: 0.140266876874 (p=0.730000)\n",
        "Writing to file: logs/discrete/D132009141014.2.exp.log.phase0.iconicity\n"
       ]
      },
      {
       "output_type": "stream",
       "stream": "stdout",
       "text": [
        "Phase/cond/r: 2/2/False\n",
        "Images for the phase are: ['5_5.png', '1_1.png', '1_3.png', '5_1.png', '5_3.png', '3_5.png', '3_3.png', '3_1.png', '1_5.png']\n",
        "5_5.png\n"
       ]
      },
      {
       "output_type": "stream",
       "stream": "stdout",
       "text": [
        "1_1.png\n"
       ]
      },
      {
       "output_type": "stream",
       "stream": "stdout",
       "text": [
        "1_3.png\n"
       ]
      },
      {
       "output_type": "stream",
       "stream": "stdout",
       "text": [
        "5_1.png\n"
       ]
      },
      {
       "output_type": "stream",
       "stream": "stdout",
       "text": [
        "5_3.png\n"
       ]
      },
      {
       "output_type": "stream",
       "stream": "stdout",
       "text": [
        "3_5.png\n"
       ]
      },
      {
       "output_type": "stream",
       "stream": "stdout",
       "text": [
        "3_3.png\n"
       ]
      },
      {
       "output_type": "stream",
       "stream": "stdout",
       "text": [
        "3_1.png\n"
       ]
      },
      {
       "output_type": "stream",
       "stream": "stdout",
       "text": [
        "1_5.png\n"
       ]
      },
      {
       "output_type": "stream",
       "stream": "stdout",
       "text": [
        "9x9 distance matrix\n",
        "IDs:\n",
        "0, 1, 2, 3, 4, 5, 6, 7, 8\n",
        "Data:\n",
        "[[ 0.          2.          4.          2.          2.82842712  4.47213595\n",
        "   4.          4.47213595  5.65685425]\n",
        " [ 2.          0.          2.          2.82842712  2.          2.82842712\n",
        "   4.47213595  4.          4.47213595]\n",
        " [ 4.          2.          0.          4.47213595  2.82842712  2.\n",
        "   5.65685425  4.47213595  4.        ]\n",
        " [ 2.          2.82842712  4.47213595  0.          2.          4.          2.\n",
        "   2.82842712  4.47213595]\n",
        " [ 2.82842712  2.          2.82842712  2.          0.          2.\n",
        "   2.82842712  2.          2.82842712]\n",
        " [ 4.47213595  2.82842712  2.          4.          2.          0.\n",
        "   4.47213595  2.82842712  2.        ]\n",
        " [ 4.          4.47213595  5.65685425  2.          2.82842712  4.47213595\n",
        "   0.          2.          4.        ]\n",
        " [ 4.47213595  4.          4.47213595  2.82842712  2.          2.82842712\n",
        "   2.          0.          2.        ]\n",
        " [ 5.65685425  4.47213595  4.          4.47213595  2.82842712  2.          4.\n",
        "   2.          0.        ]]\n",
        "9x9 distance matrix\n",
        "IDs:\n",
        "0, 1, 2, 3, 4, 5, 6, 7, 8\n",
        "Data:\n",
        "[[ 0.          1.          0.9702381   0.93452381  0.75595238  0.75595238\n",
        "   0.82142857  0.94642857  0.82142857]\n",
        " [ 1.          0.          0.5         0.13095238  0.41666667  0.55952381\n",
        "   0.42857143  0.3452381   0.75595238]\n",
        " [ 0.9702381   0.5         0.          0.4702381   0.41071429  0.64285714\n",
        "   0.58333333  0.3452381   0.69047619]\n",
        " [ 0.93452381  0.13095238  0.4702381   0.          0.33333333  0.5952381\n",
        "   0.4047619   0.2797619   0.67261905]\n",
        " [ 0.75595238  0.41666667  0.41071429  0.33333333  0.          0.60714286\n",
        "   0.39285714  0.35714286  0.55357143]\n",
        " [ 0.75595238  0.55952381  0.64285714  0.5952381   0.60714286  0.\n",
        "   0.30357143  0.48214286  0.75595238]\n",
        " [ 0.82142857  0.42857143  0.58333333  0.4047619   0.39285714  0.30357143\n",
        "   0.          0.41071429  0.70833333]\n",
        " [ 0.94642857  0.3452381   0.3452381   0.2797619   0.35714286  0.48214286\n",
        "   0.41071429  0.          0.69047619]\n",
        " [ 0.82142857  0.75595238  0.69047619  0.67261905  0.55357143  0.75595238\n",
        "   0.70833333  0.69047619  0.        ]]\n",
        "Correlation coefficient: 0.128556054938 (p=0.500000)\n",
        "Writing to file: logs/discrete/D132009141014.2.exp.log.phase2.iconicity\n"
       ]
      },
      {
       "output_type": "stream",
       "stream": "stdout",
       "text": [
        "D12300521014.1\n",
        "Phase/cond/r: 1/1/False"
       ]
      },
      {
       "output_type": "stream",
       "stream": "stdout",
       "text": [
        "\n",
        "Images for the phase are: ['1_1.png', '5_5.png', '1_3.png', '5_1.png', '5_3.png', '3_5.png', '3_3.png', '3_1.png', '1_5.png']\n",
        "1_1.png\n"
       ]
      },
      {
       "output_type": "stream",
       "stream": "stdout",
       "text": [
        "5_5.png\n"
       ]
      },
      {
       "output_type": "stream",
       "stream": "stdout",
       "text": [
        "1_3.png\n"
       ]
      },
      {
       "output_type": "stream",
       "stream": "stdout",
       "text": [
        "5_1.png\n"
       ]
      },
      {
       "output_type": "stream",
       "stream": "stdout",
       "text": [
        "5_3.png\n"
       ]
      },
      {
       "output_type": "stream",
       "stream": "stdout",
       "text": [
        "3_5.png\n"
       ]
      },
      {
       "output_type": "stream",
       "stream": "stdout",
       "text": [
        "3_3.png\n"
       ]
      },
      {
       "output_type": "stream",
       "stream": "stdout",
       "text": [
        "3_1.png\n"
       ]
      },
      {
       "output_type": "stream",
       "stream": "stdout",
       "text": [
        "1_5.png\n"
       ]
      },
      {
       "output_type": "stream",
       "stream": "stdout",
       "text": [
        "9x9 distance matrix\n",
        "IDs:\n",
        "0, 1, 2, 3, 4, 5, 6, 7, 8\n",
        "Data:\n",
        "[[ 0.          2.          4.          2.          2.82842712  4.47213595\n",
        "   4.          4.47213595  5.65685425]\n",
        " [ 2.          0.          2.          2.82842712  2.          2.82842712\n",
        "   4.47213595  4.          4.47213595]\n",
        " [ 4.          2.          0.          4.47213595  2.82842712  2.\n",
        "   5.65685425  4.47213595  4.        ]\n",
        " [ 2.          2.82842712  4.47213595  0.          2.          4.          2.\n",
        "   2.82842712  4.47213595]\n",
        " [ 2.82842712  2.          2.82842712  2.          0.          2.\n",
        "   2.82842712  2.          2.82842712]\n",
        " [ 4.47213595  2.82842712  2.          4.          2.          0.\n",
        "   4.47213595  2.82842712  2.        ]\n",
        " [ 4.          4.47213595  5.65685425  2.          2.82842712  4.47213595\n",
        "   0.          2.          4.        ]\n",
        " [ 4.47213595  4.          4.47213595  2.82842712  2.          2.82842712\n",
        "   2.          0.          2.        ]\n",
        " [ 5.65685425  4.47213595  4.          4.47213595  2.82842712  2.          4.\n",
        "   2.          0.        ]]\n",
        "9x9 distance matrix\n",
        "IDs:\n",
        "0, 1, 2, 3, 4, 5, 6, 7, 8\n",
        "Data:\n",
        "[[ 0.          0.8295082   0.66448087  0.73989071  0.82185792  0.69726776\n",
        "   0.62295082  1.          0.69071038]\n",
        " [ 0.8295082   0.          0.8295082   0.8295082   0.81857923  0.8295082\n",
        "   0.78142077  0.70163934  0.81202186]\n",
        " [ 0.66448087  0.8295082   0.          0.73989071  0.82185792  0.66666667\n",
        "   0.55519126  1.          0.66010929]\n",
        " [ 0.73989071  0.8295082   0.73989071  0.          0.66885246  0.72131148\n",
        "   0.71584699  1.          0.73989071]\n",
        " [ 0.82185792  0.81857923  0.82185792  0.66885246  0.          0.77923497\n",
        "   0.7704918   0.7989071   0.79453552]\n",
        " [ 0.69726776  0.8295082   0.66666667  0.72131148  0.77923497  0.\n",
        "   0.67322404  1.          0.67978142]\n",
        " [ 0.62295082  0.78142077  0.55519126  0.71584699  0.7704918   0.67322404\n",
        "   0.          0.93879781  0.64699454]\n",
        " [ 1.          0.70163934  1.          1.          0.7989071   1.\n",
        "   0.93879781  0.          0.9442623 ]\n",
        " [ 0.69071038  0.81202186  0.66010929  0.73989071  0.79453552  0.67978142\n",
        "   0.64699454  0.9442623   0.        ]]\n",
        "Correlation coefficient: -0.24530885488 (p=0.138000)\n",
        "Writing to file: logs/discrete/D12300521014.1.exp.log.phase1.iconicity\n"
       ]
      },
      {
       "output_type": "stream",
       "stream": "stdout",
       "text": [
        "Phase/cond/r: 0/1/False\n",
        "Images for the phase are: ['5_5.png', '5_4.png', '5_1.png', '5_3.png', '5_2.png']\n",
        "5_5.png\n"
       ]
      },
      {
       "output_type": "stream",
       "stream": "stdout",
       "text": [
        "5_4.png\n"
       ]
      },
      {
       "output_type": "stream",
       "stream": "stdout",
       "text": [
        "5_1.png\n"
       ]
      },
      {
       "output_type": "stream",
       "stream": "stdout",
       "text": [
        "5_3.png\n"
       ]
      },
      {
       "output_type": "stream",
       "stream": "stdout",
       "text": [
        "5_2.png\n"
       ]
      },
      {
       "output_type": "stream",
       "stream": "stdout",
       "text": [
        "5x5 distance matrix\n",
        "IDs:\n",
        "0, 1, 2, 3, 4\n",
        "Data:\n",
        "[[ 0.  1.  2.  3.  4.]\n",
        " [ 1.  0.  1.  2.  3.]\n",
        " [ 2.  1.  0.  1.  2.]\n",
        " [ 3.  2.  1.  0.  1.]\n",
        " [ 4.  3.  2.  1.  0.]]\n",
        "5x5 distance matrix\n",
        "IDs:\n",
        "0, 1, 2, 3, 4\n",
        "Data:\n",
        "[[ 0.          0.85908529  0.81334981  1.          0.97775031]\n",
        " [ 0.85908529  0.          0.78615575  0.73671199  0.77750309]\n",
        " [ 0.81334981  0.78615575  0.          0.74660074  0.66749073]\n",
        " [ 1.          0.73671199  0.74660074  0.          0.74660074]\n",
        " [ 0.97775031  0.77750309  0.66749073  0.74660074  0.        ]]\n",
        "Correlation coefficient: 0.350667192185 (p=0.318000)\n",
        "Writing to file: logs/discrete/D12300521014.1.exp.log.phase0.iconicity\n"
       ]
      },
      {
       "output_type": "stream",
       "stream": "stdout",
       "text": [
        "Phase/cond/r: 2/1/False\n",
        "Images for the phase are: ['5_5.png', '1_1.png', '1_3.png', '1_5.png', '5_3.png', '3_5.png', '3_3.png', '3_1.png', '5_1.png']\n",
        "5_5.png\n"
       ]
      },
      {
       "output_type": "stream",
       "stream": "stdout",
       "text": [
        "1_1.png\n"
       ]
      },
      {
       "output_type": "stream",
       "stream": "stdout",
       "text": [
        "1_3.png\n"
       ]
      },
      {
       "output_type": "stream",
       "stream": "stdout",
       "text": [
        "1_5.png\n"
       ]
      },
      {
       "output_type": "stream",
       "stream": "stdout",
       "text": [
        "5_3.png\n"
       ]
      },
      {
       "output_type": "stream",
       "stream": "stdout",
       "text": [
        "3_5.png\n"
       ]
      },
      {
       "output_type": "stream",
       "stream": "stdout",
       "text": [
        "3_3.png\n"
       ]
      },
      {
       "output_type": "stream",
       "stream": "stdout",
       "text": [
        "3_1.png\n"
       ]
      },
      {
       "output_type": "stream",
       "stream": "stdout",
       "text": [
        "5_1.png\n"
       ]
      },
      {
       "output_type": "stream",
       "stream": "stdout",
       "text": [
        "9x9 distance matrix\n",
        "IDs:\n",
        "0, 1, 2, 3, 4, 5, 6, 7, 8\n",
        "Data:\n",
        "[[ 0.          2.          4.          2.          2.82842712  4.47213595\n",
        "   4.          4.47213595  5.65685425]\n",
        " [ 2.          0.          2.          2.82842712  2.          2.82842712\n",
        "   4.47213595  4.          4.47213595]\n",
        " [ 4.          2.          0.          4.47213595  2.82842712  2.\n",
        "   5.65685425  4.47213595  4.        ]\n",
        " [ 2.          2.82842712  4.47213595  0.          2.          4.          2.\n",
        "   2.82842712  4.47213595]\n",
        " [ 2.82842712  2.          2.82842712  2.          0.          2.\n",
        "   2.82842712  2.          2.82842712]\n",
        " [ 4.47213595  2.82842712  2.          4.          2.          0.\n",
        "   4.47213595  2.82842712  2.        ]\n",
        " [ 4.          4.47213595  5.65685425  2.          2.82842712  4.47213595\n",
        "   0.          2.          4.        ]\n",
        " [ 4.47213595  4.          4.47213595  2.82842712  2.          2.82842712\n",
        "   2.          0.          2.        ]\n",
        " [ 5.65685425  4.47213595  4.          4.47213595  2.82842712  2.          4.\n",
        "   2.          0.        ]]\n",
        "9x9 distance matrix\n",
        "IDs:\n",
        "0, 1, 2, 3, 4, 5, 6, 7, 8\n",
        "Data:\n",
        "[[ 0.          0.78032787  0.53551913  0.92349727  0.82404372  0.93989071\n",
        "   0.67868852  0.52459016  0.68743169]\n",
        " [ 0.78032787  0.          0.78032787  1.          0.73333333  0.93989071\n",
        "   0.78032787  0.7726776   0.78032787]\n",
        " [ 0.53551913  0.78032787  0.          0.96393443  0.82404372  0.93989071\n",
        "   0.72786885  0.53551913  0.64918033]\n",
        " [ 0.92349727  1.          0.96393443  0.          0.98688525  0.88415301\n",
        "   0.70054645  1.          1.        ]\n",
        " [ 0.82404372  0.73333333  0.82404372  0.98688525  0.          0.93989071\n",
        "   0.82404372  0.67322404  0.81967213]\n",
        " [ 0.93989071  0.93989071  0.93989071  0.88415301  0.93989071  0.\n",
        "   0.90054645  0.93989071  0.90601093]\n",
        " [ 0.67868852  0.78032787  0.72786885  0.70054645  0.82404372  0.90054645\n",
        "   0.          0.74863388  0.74863388]\n",
        " [ 0.52459016  0.7726776   0.53551913  1.          0.67322404  0.93989071\n",
        "   0.74863388  0.          0.68743169]\n",
        " [ 0.68743169  0.78032787  0.64918033  1.          0.81967213  0.90601093\n",
        "   0.74863388  0.68743169  0.        ]]\n",
        "Correlation coefficient: -0.153176691685 (p=0.407000)\n",
        "Writing to file: logs/discrete/D12300521014.1.exp.log.phase2.iconicity\n"
       ]
      },
      {
       "output_type": "stream",
       "stream": "stdout",
       "text": [
        "D123013151014.1\n",
        "Phase/cond/r: 1/1/False"
       ]
      },
      {
       "output_type": "stream",
       "stream": "stdout",
       "text": [
        "\n",
        "Images for the phase are: ['5_5.png', '1_1.png', '1_3.png', '5_1.png', '5_3.png', '3_5.png', '3_3.png', '3_1.png', '1_5.png']\n",
        "5_5.png\n"
       ]
      },
      {
       "output_type": "stream",
       "stream": "stdout",
       "text": [
        "1_1.png\n"
       ]
      },
      {
       "output_type": "stream",
       "stream": "stdout",
       "text": [
        "1_3.png\n"
       ]
      },
      {
       "output_type": "stream",
       "stream": "stdout",
       "text": [
        "5_1.png\n"
       ]
      },
      {
       "output_type": "stream",
       "stream": "stdout",
       "text": [
        "5_3.png\n"
       ]
      },
      {
       "output_type": "stream",
       "stream": "stdout",
       "text": [
        "3_5.png\n"
       ]
      },
      {
       "output_type": "stream",
       "stream": "stdout",
       "text": [
        "3_3.png\n"
       ]
      },
      {
       "output_type": "stream",
       "stream": "stdout",
       "text": [
        "3_1.png\n"
       ]
      },
      {
       "output_type": "stream",
       "stream": "stdout",
       "text": [
        "1_5.png\n"
       ]
      },
      {
       "output_type": "stream",
       "stream": "stdout",
       "text": [
        "9x9 distance matrix\n",
        "IDs:\n",
        "0, 1, 2, 3, 4, 5, 6, 7, 8\n",
        "Data:\n",
        "[[ 0.          2.          4.          2.          2.82842712  4.47213595\n",
        "   4.          4.47213595  5.65685425]\n",
        " [ 2.          0.          2.          2.82842712  2.          2.82842712\n",
        "   4.47213595  4.          4.47213595]\n",
        " [ 4.          2.          0.          4.47213595  2.82842712  2.\n",
        "   5.65685425  4.47213595  4.        ]\n",
        " [ 2.          2.82842712  4.47213595  0.          2.          4.          2.\n",
        "   2.82842712  4.47213595]\n",
        " [ 2.82842712  2.          2.82842712  2.          0.          2.\n",
        "   2.82842712  2.          2.82842712]\n",
        " [ 4.47213595  2.82842712  2.          4.          2.          0.\n",
        "   4.47213595  2.82842712  2.        ]\n",
        " [ 4.          4.47213595  5.65685425  2.          2.82842712  4.47213595\n",
        "   0.          2.          4.        ]\n",
        " [ 4.47213595  4.          4.47213595  2.82842712  2.          2.82842712\n",
        "   2.          0.          2.        ]\n",
        " [ 5.65685425  4.47213595  4.          4.47213595  2.82842712  2.          4.\n",
        "   2.          0.        ]]\n",
        "9x9 distance matrix\n",
        "IDs:\n",
        "0, 1, 2, 3, 4, 5, 6, 7, 8\n",
        "Data:\n",
        "[[ 0.          0.52342488  0.85137318  0.44588045  0.55896607  0.50726979\n",
        "   0.33602585  0.54281099  0.65266559]\n",
        " [ 0.52342488  0.          0.83844911  0.38287561  0.34894992  0.41195477\n",
        "   0.44103393  0.32956381  0.60904685]\n",
        " [ 0.85137318  0.83844911  0.          0.96607431  1.          0.80452342\n",
        "   0.90306947  0.8917609   0.64297254]\n",
        " [ 0.44588045  0.38287561  0.96607431  0.          0.25201939  0.33279483\n",
        "   0.31502423  0.38772213  0.6365105 ]\n",
        " [ 0.55896607  0.34894992  1.          0.25201939  0.          0.3812601\n",
        "   0.43457189  0.26171244  0.68497577]\n",
        " [ 0.50726979  0.41195477  0.80452342  0.33279483  0.3812601   0.\n",
        "   0.39095315  0.37156704  0.55573506]\n",
        " [ 0.33602585  0.44103393  0.90306947  0.31502423  0.43457189  0.39095315\n",
        "   0.          0.4361874   0.59289176]\n",
        " [ 0.54281099  0.32956381  0.8917609   0.38772213  0.26171244  0.37156704\n",
        "   0.4361874   0.          0.59773829]\n",
        " [ 0.65266559  0.60904685  0.64297254  0.6365105   0.68497577  0.55573506\n",
        "   0.59289176  0.59773829  0.        ]]\n",
        "Correlation coefficient: 0.352346267193 (p=0.023000)\n",
        "Writing to file: logs/discrete/D123013151014.1.exp.log.phase1.iconicity\n"
       ]
      },
      {
       "output_type": "stream",
       "stream": "stdout",
       "text": [
        "Phase/cond/r: 0/1/False\n",
        "Images for the phase are: ['5_5.png', '5_4.png', '5_1.png', '5_3.png', '5_2.png']\n",
        "5_5.png\n"
       ]
      },
      {
       "output_type": "stream",
       "stream": "stdout",
       "text": [
        "5_4.png\n"
       ]
      },
      {
       "output_type": "stream",
       "stream": "stdout",
       "text": [
        "5_1.png\n"
       ]
      },
      {
       "output_type": "stream",
       "stream": "stdout",
       "text": [
        "5_3.png\n"
       ]
      },
      {
       "output_type": "stream",
       "stream": "stdout",
       "text": [
        "5_2.png\n"
       ]
      },
      {
       "output_type": "stream",
       "stream": "stdout",
       "text": [
        "5x5 distance matrix\n",
        "IDs:\n",
        "0, 1, 2, 3, 4\n",
        "Data:\n",
        "[[ 0.  1.  2.  3.  4.]\n",
        " [ 1.  0.  1.  2.  3.]\n",
        " [ 2.  1.  0.  1.  2.]\n",
        " [ 3.  2.  1.  0.  1.]\n",
        " [ 4.  3.  2.  1.  0.]]\n",
        "5x5 distance matrix\n",
        "IDs:\n",
        "0, 1, 2, 3, 4\n",
        "Data:\n",
        "[[ 0.          0.80339806  0.95873786  1.          0.72572816]\n",
        " [ 0.80339806  0.          0.53883495  0.52912621  0.37621359]\n",
        " [ 0.95873786  0.53883495  0.          0.33737864  0.39563107]\n",
        " [ 1.          0.52912621  0.33737864  0.          0.46359223]\n",
        " [ 0.72572816  0.37621359  0.39563107  0.46359223  0.        ]]\n",
        "Correlation coefficient: 0.241543855942 (p=0.578000)\n",
        "Writing to file: logs/discrete/D123013151014.1.exp.log.phase0.iconicity\n"
       ]
      },
      {
       "output_type": "stream",
       "stream": "stdout",
       "text": [
        "Phase/cond/r: 2/1/False\n",
        "Images for the phase are: ['1_1.png', '5_5.png', '1_3.png', '5_1.png', '5_3.png', '3_5.png', '3_3.png', '3_1.png', '1_5.png']\n",
        "1_1.png\n"
       ]
      },
      {
       "output_type": "stream",
       "stream": "stdout",
       "text": [
        "5_5.png\n"
       ]
      },
      {
       "output_type": "stream",
       "stream": "stdout",
       "text": [
        "1_3.png\n"
       ]
      },
      {
       "output_type": "stream",
       "stream": "stdout",
       "text": [
        "5_1.png\n"
       ]
      },
      {
       "output_type": "stream",
       "stream": "stdout",
       "text": [
        "5_3.png\n"
       ]
      },
      {
       "output_type": "stream",
       "stream": "stdout",
       "text": [
        "3_5.png\n"
       ]
      },
      {
       "output_type": "stream",
       "stream": "stdout",
       "text": [
        "3_3.png\n"
       ]
      },
      {
       "output_type": "stream",
       "stream": "stdout",
       "text": [
        "3_1.png\n"
       ]
      },
      {
       "output_type": "stream",
       "stream": "stdout",
       "text": [
        "1_5.png\n"
       ]
      },
      {
       "output_type": "stream",
       "stream": "stdout",
       "text": [
        "9x9 distance matrix\n",
        "IDs:\n",
        "0, 1, 2, 3, 4, 5, 6, 7, 8\n",
        "Data:\n",
        "[[ 0.          2.          4.          2.          2.82842712  4.47213595\n",
        "   4.          4.47213595  5.65685425]\n",
        " [ 2.          0.          2.          2.82842712  2.          2.82842712\n",
        "   4.47213595  4.          4.47213595]\n",
        " [ 4.          2.          0.          4.47213595  2.82842712  2.\n",
        "   5.65685425  4.47213595  4.        ]\n",
        " [ 2.          2.82842712  4.47213595  0.          2.          4.          2.\n",
        "   2.82842712  4.47213595]\n",
        " [ 2.82842712  2.          2.82842712  2.          0.          2.\n",
        "   2.82842712  2.          2.82842712]\n",
        " [ 4.47213595  2.82842712  2.          4.          2.          0.\n",
        "   4.47213595  2.82842712  2.        ]\n",
        " [ 4.          4.47213595  5.65685425  2.          2.82842712  4.47213595\n",
        "   0.          2.          4.        ]\n",
        " [ 4.47213595  4.          4.47213595  2.82842712  2.          2.82842712\n",
        "   2.          0.          2.        ]\n",
        " [ 5.65685425  4.47213595  4.          4.47213595  2.82842712  2.          4.\n",
        "   2.          0.        ]]\n",
        "9x9 distance matrix\n",
        "IDs:\n",
        "0, 1, 2, 3, 4, 5, 6, 7, 8\n",
        "Data:\n",
        "[[ 0.          0.85559175  0.79913138  0.69163952  0.77307275  0.67643865\n",
        "   0.4864278   0.79913138  0.60477742]\n",
        " [ 0.85559175  0.          0.89359392  0.86970684  0.68403909  0.80998914\n",
        "   0.85667752  0.71335505  0.71009772]\n",
        " [ 0.79913138  0.89359392  0.          1.          0.94896851  0.91965255\n",
        "   0.97176982  0.98914224  0.64495114]\n",
        " [ 0.69163952  0.86970684  1.          0.          0.2616721   0.30618893\n",
        "   0.44299674  0.52334419  0.50380022]\n",
        " [ 0.77307275  0.68403909  0.94896851  0.2616721   0.          0.28338762\n",
        "   0.53311618  0.44191097  0.48859935]\n",
        " [ 0.67643865  0.80998914  0.91965255  0.30618893  0.28338762  0.\n",
        "   0.46036916  0.42562432  0.37024973]\n",
        " [ 0.4864278   0.85667752  0.97176982  0.44299674  0.53311618  0.46036916\n",
        "   0.          0.54614549  0.5092291 ]\n",
        " [ 0.79913138  0.71335505  0.98914224  0.52334419  0.44191097  0.42562432\n",
        "   0.54614549  0.          0.50488599]\n",
        " [ 0.60477742  0.71009772  0.64495114  0.50380022  0.48859935  0.37024973\n",
        "   0.5092291   0.50488599  0.        ]]\n",
        "Correlation coefficient: 0.28575126727 (p=0.092000)\n",
        "Writing to file: logs/discrete/D123013151014.1.exp.log.phase2.iconicity\n"
       ]
      },
      {
       "output_type": "stream",
       "stream": "stdout",
       "text": [
        "DR123012151014.1r\n",
        "Phase/cond/r: 1/1r/True"
       ]
      },
      {
       "output_type": "stream",
       "stream": "stdout",
       "text": [
        "\n",
        "Images for the phase are: ['5_5.png', '1_1.png', '1_3.png', '1_5.png', '5_3.png', '3_5.png', '3_3.png', '3_1.png', '5_1.png']\n",
        "5_5.png\n"
       ]
      },
      {
       "output_type": "stream",
       "stream": "stdout",
       "text": [
        "1_1.png\n"
       ]
      },
      {
       "output_type": "stream",
       "stream": "stdout",
       "text": [
        "1_3.png\n"
       ]
      },
      {
       "output_type": "stream",
       "stream": "stdout",
       "text": [
        "1_5.png\n"
       ]
      },
      {
       "output_type": "stream",
       "stream": "stdout",
       "text": [
        "5_3.png\n"
       ]
      },
      {
       "output_type": "stream",
       "stream": "stdout",
       "text": [
        "3_5.png\n"
       ]
      },
      {
       "output_type": "stream",
       "stream": "stdout",
       "text": [
        "3_3.png\n"
       ]
      },
      {
       "output_type": "stream",
       "stream": "stdout",
       "text": [
        "3_1.png\n"
       ]
      },
      {
       "output_type": "stream",
       "stream": "stdout",
       "text": [
        "5_1.png\n"
       ]
      },
      {
       "output_type": "stream",
       "stream": "stdout",
       "text": [
        "9x9 distance matrix\n",
        "IDs:\n",
        "0, 1, 2, 3, 4, 5, 6, 7, 8\n",
        "Data:\n",
        "[[ 0.          2.          4.          2.          2.82842712  4.47213595\n",
        "   4.          4.47213595  5.65685425]\n",
        " [ 2.          0.          2.          2.82842712  2.          2.82842712\n",
        "   4.47213595  4.          4.47213595]\n",
        " [ 4.          2.          0.          4.47213595  2.82842712  2.\n",
        "   5.65685425  4.47213595  4.        ]\n",
        " [ 2.          2.82842712  4.47213595  0.          2.          4.          2.\n",
        "   2.82842712  4.47213595]\n",
        " [ 2.82842712  2.          2.82842712  2.          0.          2.\n",
        "   2.82842712  2.          2.82842712]\n",
        " [ 4.47213595  2.82842712  2.          4.          2.          0.\n",
        "   4.47213595  2.82842712  2.        ]\n",
        " [ 4.          4.47213595  5.65685425  2.          2.82842712  4.47213595\n",
        "   0.          2.          4.        ]\n",
        " [ 4.47213595  4.          4.47213595  2.82842712  2.          2.82842712\n",
        "   2.          0.          2.        ]\n",
        " [ 5.65685425  4.47213595  4.          4.47213595  2.82842712  2.          4.\n",
        "   2.          0.        ]]\n",
        "9x9 distance matrix\n",
        "IDs:\n",
        "0, 1, 2, 3, 4, 5, 6, 7, 8\n",
        "Data:\n",
        "[[ 0.          0.5352518   0.75107914  0.53309353  0.4352518   0.83956835\n",
        "   0.47625899  0.44748201  0.47841727]\n",
        " [ 0.5352518   0.          0.80143885  0.73597122  0.72805755  0.89568345\n",
        "   0.75755396  0.70935252  0.69928058]\n",
        " [ 0.75107914  0.80143885  0.          0.81726619  0.81726619  1.\n",
        "   0.69064748  0.8057554   0.81726619]\n",
        " [ 0.53309353  0.73597122  0.81726619  0.          0.31582734  0.72805755\n",
        "   0.57338129  0.53597122  0.57338129]\n",
        " [ 0.4352518   0.72805755  0.81726619  0.31582734  0.          0.83597122\n",
        "   0.37122302  0.3323741   0.37122302]\n",
        " [ 0.83956835  0.89568345  1.          0.72805755  0.83597122  0.\n",
        "   0.99640288  0.97841727  0.98848921]\n",
        " [ 0.47625899  0.75755396  0.69064748  0.57338129  0.37122302  0.99640288\n",
        "   0.          0.17266187  0.3647482 ]\n",
        " [ 0.44748201  0.70935252  0.8057554   0.53597122  0.3323741   0.97841727\n",
        "   0.17266187  0.          0.34460432]\n",
        " [ 0.47841727  0.69928058  0.81726619  0.57338129  0.37122302  0.98848921\n",
        "   0.3647482   0.34460432  0.        ]]\n",
        "Correlation coefficient: 0.156831509429 (p=0.398000)\n",
        "Writing to file: logs/discrete/DR123012151014.1r.exp.log.phase1.iconicity\n"
       ]
      },
      {
       "output_type": "stream",
       "stream": "stdout",
       "text": [
        "Phase/cond/r: 0/1r/True\n",
        "Images for the phase are: ['5_5.png', '5_4.png', '5_1.png', '5_3.png', '5_2.png']\n",
        "5_5.png\n"
       ]
      },
      {
       "output_type": "stream",
       "stream": "stdout",
       "text": [
        "5_4.png\n"
       ]
      },
      {
       "output_type": "stream",
       "stream": "stdout",
       "text": [
        "5_1.png\n"
       ]
      },
      {
       "output_type": "stream",
       "stream": "stdout",
       "text": [
        "5_3.png\n"
       ]
      },
      {
       "output_type": "stream",
       "stream": "stdout",
       "text": [
        "5_2.png\n"
       ]
      },
      {
       "output_type": "stream",
       "stream": "stdout",
       "text": [
        "5x5 distance matrix\n",
        "IDs:\n",
        "0, 1, 2, 3, 4\n",
        "Data:\n",
        "[[ 0.  1.  2.  3.  4.]\n",
        " [ 1.  0.  1.  2.  3.]\n",
        " [ 2.  1.  0.  1.  2.]\n",
        " [ 3.  2.  1.  0.  1.]\n",
        " [ 4.  3.  2.  1.  0.]]\n",
        "5x5 distance matrix\n",
        "IDs:\n",
        "0, 1, 2, 3, 4\n",
        "Data:\n",
        "[[ 0.          1.          0.82543103  0.81681034  0.82543103]\n",
        " [ 1.          0.          1.          1.          1.        ]\n",
        " [ 0.82543103  1.          0.          0.47701149  0.57902299]\n",
        " [ 0.81681034  1.          0.47701149  0.          0.57902299]\n",
        " [ 0.82543103  1.          0.57902299  0.57902299  0.        ]]\n",
        "Correlation coefficient: 0.118817705157 (p=0.892000)\n",
        "Writing to file: logs/discrete/DR123012151014.1r.exp.log.phase0.iconicity\n"
       ]
      },
      {
       "output_type": "stream",
       "stream": "stdout",
       "text": [
        "Phase/cond/r: 2/1r/True\n",
        "Images for the phase are: ['1_1.png', '5_5.png', '1_3.png', '5_1.png', '5_3.png', '3_5.png', '3_3.png', '3_1.png', '1_5.png']\n",
        "1_1.png\n"
       ]
      },
      {
       "output_type": "stream",
       "stream": "stdout",
       "text": [
        "5_5.png\n"
       ]
      },
      {
       "output_type": "stream",
       "stream": "stdout",
       "text": [
        "1_3.png\n"
       ]
      },
      {
       "output_type": "stream",
       "stream": "stdout",
       "text": [
        "5_1.png\n"
       ]
      },
      {
       "output_type": "stream",
       "stream": "stdout",
       "text": [
        "5_3.png\n"
       ]
      },
      {
       "output_type": "stream",
       "stream": "stdout",
       "text": [
        "3_5.png\n"
       ]
      },
      {
       "output_type": "stream",
       "stream": "stdout",
       "text": [
        "3_3.png\n"
       ]
      },
      {
       "output_type": "stream",
       "stream": "stdout",
       "text": [
        "3_1.png\n"
       ]
      },
      {
       "output_type": "stream",
       "stream": "stdout",
       "text": [
        "1_5.png\n"
       ]
      },
      {
       "output_type": "stream",
       "stream": "stdout",
       "text": [
        "9x9 distance matrix\n",
        "IDs:\n",
        "0, 1, 2, 3, 4, 5, 6, 7, 8\n",
        "Data:\n",
        "[[ 0.          2.          4.          2.          2.82842712  4.47213595\n",
        "   4.          4.47213595  5.65685425]\n",
        " [ 2.          0.          2.          2.82842712  2.          2.82842712\n",
        "   4.47213595  4.          4.47213595]\n",
        " [ 4.          2.          0.          4.47213595  2.82842712  2.\n",
        "   5.65685425  4.47213595  4.        ]\n",
        " [ 2.          2.82842712  4.47213595  0.          2.          4.          2.\n",
        "   2.82842712  4.47213595]\n",
        " [ 2.82842712  2.          2.82842712  2.          0.          2.\n",
        "   2.82842712  2.          2.82842712]\n",
        " [ 4.47213595  2.82842712  2.          4.          2.          0.\n",
        "   4.47213595  2.82842712  2.        ]\n",
        " [ 4.          4.47213595  5.65685425  2.          2.82842712  4.47213595\n",
        "   0.          2.          4.        ]\n",
        " [ 4.47213595  4.          4.47213595  2.82842712  2.          2.82842712\n",
        "   2.          0.          2.        ]\n",
        " [ 5.65685425  4.47213595  4.          4.47213595  2.82842712  2.          4.\n",
        "   2.          0.        ]]\n",
        "9x9 distance matrix\n",
        "IDs:\n",
        "0, 1, 2, 3, 4, 5, 6, 7, 8\n",
        "Data:\n",
        "[[ 0.          0.85714286  0.97785161  0.80620155  0.79623477  0.77740864\n",
        "   0.58803987  0.85714286  0.83499446]\n",
        " [ 0.85714286  0.          1.          0.75747508  0.64119601  0.45293466\n",
        "   0.38981174  0.28239203  0.41638981]\n",
        " [ 0.97785161  1.          0.          0.91362126  0.99557032  0.9047619\n",
        "   0.98117386  1.          0.83056478]\n",
        " [ 0.80620155  0.75747508  0.91362126  0.          0.75747508  0.50498339\n",
        "   0.66002215  0.75747508  0.57475083]\n",
        " [ 0.79623477  0.64119601  0.99557032  0.75747508  0.          0.74972315\n",
        "   0.66777409  0.66555925  0.74972315]\n",
        " [ 0.77740864  0.45293466  0.9047619   0.50498339  0.74972315  0.\n",
        "   0.42303433  0.45293466  0.3255814 ]\n",
        " [ 0.58803987  0.38981174  0.98117386  0.66002215  0.66777409  0.42303433\n",
        "   0.          0.38981174  0.41638981]\n",
        " [ 0.85714286  0.28239203  1.          0.75747508  0.66555925  0.45293466\n",
        "   0.38981174  0.          0.41638981]\n",
        " [ 0.83499446  0.41638981  0.83056478  0.57475083  0.74972315  0.3255814\n",
        "   0.41638981  0.41638981  0.        ]]\n",
        "Correlation coefficient: 0.0920859788882 (p=0.610000)\n",
        "Writing to file: logs/discrete/DR123012151014.1r.exp.log.phase2.iconicity\n"
       ]
      },
      {
       "output_type": "stream",
       "stream": "stdout",
       "text": [
        "D13200111014.2\n",
        "Phase/cond/r: 1/2/False"
       ]
      },
      {
       "output_type": "stream",
       "stream": "stdout",
       "text": [
        "\n",
        "Images for the phase are: ['1_1.png', '5_5.png', '1_3.png', '5_1.png', '5_3.png', '3_5.png', '3_3.png', '3_1.png', '1_5.png']\n",
        "1_1.png\n"
       ]
      },
      {
       "output_type": "stream",
       "stream": "stdout",
       "text": [
        "5_5.png\n"
       ]
      },
      {
       "output_type": "stream",
       "stream": "stdout",
       "text": [
        "1_3.png\n"
       ]
      },
      {
       "output_type": "stream",
       "stream": "stdout",
       "text": [
        "5_1.png\n"
       ]
      },
      {
       "output_type": "stream",
       "stream": "stdout",
       "text": [
        "5_3.png\n"
       ]
      },
      {
       "output_type": "stream",
       "stream": "stdout",
       "text": [
        "3_5.png\n"
       ]
      },
      {
       "output_type": "stream",
       "stream": "stdout",
       "text": [
        "3_3.png\n"
       ]
      },
      {
       "output_type": "stream",
       "stream": "stdout",
       "text": [
        "3_1.png\n"
       ]
      },
      {
       "output_type": "stream",
       "stream": "stdout",
       "text": [
        "1_5.png\n"
       ]
      },
      {
       "output_type": "stream",
       "stream": "stdout",
       "text": [
        "9x9 distance matrix\n",
        "IDs:\n",
        "0, 1, 2, 3, 4, 5, 6, 7, 8\n",
        "Data:\n",
        "[[ 0.          2.          4.          2.          2.82842712  4.47213595\n",
        "   4.          4.47213595  5.65685425]\n",
        " [ 2.          0.          2.          2.82842712  2.          2.82842712\n",
        "   4.47213595  4.          4.47213595]\n",
        " [ 4.          2.          0.          4.47213595  2.82842712  2.\n",
        "   5.65685425  4.47213595  4.        ]\n",
        " [ 2.          2.82842712  4.47213595  0.          2.          4.          2.\n",
        "   2.82842712  4.47213595]\n",
        " [ 2.82842712  2.          2.82842712  2.          0.          2.\n",
        "   2.82842712  2.          2.82842712]\n",
        " [ 4.47213595  2.82842712  2.          4.          2.          0.\n",
        "   4.47213595  2.82842712  2.        ]\n",
        " [ 4.          4.47213595  5.65685425  2.          2.82842712  4.47213595\n",
        "   0.          2.          4.        ]\n",
        " [ 4.47213595  4.          4.47213595  2.82842712  2.          2.82842712\n",
        "   2.          0.          2.        ]\n",
        " [ 5.65685425  4.47213595  4.          4.47213595  2.82842712  2.          4.\n",
        "   2.          0.        ]]\n",
        "9x9 distance matrix\n",
        "IDs:\n",
        "0, 1, 2, 3, 4, 5, 6, 7, 8\n",
        "Data:\n",
        "[[ 0.          0.77828746  0.77828746  0.67278287  0.77828746  0.77828746\n",
        "   0.82874618  0.77828746  0.77828746]\n",
        " [ 0.77828746  0.          0.66972477  0.66972477  0.66972477  0.66972477\n",
        "   1.          0.57492355  0.66972477]\n",
        " [ 0.77828746  0.66972477  0.          0.5         0.5         0.48012232\n",
        "   1.          0.5         0.40061162]\n",
        " [ 0.67278287  0.66972477  0.5         0.          0.35626911  0.22477064\n",
        "   0.86238532  0.22477064  0.37003058]\n",
        " [ 0.77828746  0.66972477  0.5         0.35626911  0.          0.35626911\n",
        "   1.          0.3470948   0.37003058]\n",
        " [ 0.77828746  0.66972477  0.48012232  0.22477064  0.35626911  0.          1.\n",
        "   0.18042813  0.35015291]\n",
        " [ 0.82874618  1.          1.          0.86238532  1.          1.          0.\n",
        "   1.          1.        ]\n",
        " [ 0.77828746  0.57492355  0.5         0.22477064  0.3470948   0.18042813\n",
        "   1.          0.          0.37003058]\n",
        " [ 0.77828746  0.66972477  0.40061162  0.37003058  0.37003058  0.35015291\n",
        "   1.          0.37003058  0.        ]]\n",
        "Correlation coefficient: 0.301774941623 (p=0.075000)\n",
        "Writing to file: logs/discrete/D13200111014.2.exp.log.phase1.iconicity\n"
       ]
      },
      {
       "output_type": "stream",
       "stream": "stdout",
       "text": [
        "Phase/cond/r: 0/2/False\n",
        "Images for the phase are: ['5_5.png', '5_4.png', '5_1.png', '5_3.png', '5_2.png']\n",
        "5_5.png\n"
       ]
      },
      {
       "output_type": "stream",
       "stream": "stdout",
       "text": [
        "5_4.png\n"
       ]
      },
      {
       "output_type": "stream",
       "stream": "stdout",
       "text": [
        "5_1.png\n"
       ]
      },
      {
       "output_type": "stream",
       "stream": "stdout",
       "text": [
        "5_3.png\n"
       ]
      },
      {
       "output_type": "stream",
       "stream": "stdout",
       "text": [
        "5_2.png\n"
       ]
      },
      {
       "output_type": "stream",
       "stream": "stdout",
       "text": [
        "5x5 distance matrix\n",
        "IDs:\n",
        "0, 1, 2, 3, 4\n",
        "Data:\n",
        "[[ 0.  1.  2.  3.  4.]\n",
        " [ 1.  0.  1.  2.  3.]\n",
        " [ 2.  1.  0.  1.  2.]\n",
        " [ 3.  2.  1.  0.  1.]\n",
        " [ 4.  3.  2.  1.  0.]]\n",
        "5x5 distance matrix\n",
        "IDs:\n",
        "0, 1, 2, 3, 4\n",
        "Data:\n",
        "[[ 0.          0.58373984  0.58373984  0.99512195  0.78699187]\n",
        " [ 0.58373984  0.          0.50731707  1.          0.78699187]\n",
        " [ 0.58373984  0.50731707  0.          1.          0.78699187]\n",
        " [ 0.99512195  1.          1.          0.          1.        ]\n",
        " [ 0.78699187  0.78699187  0.78699187  1.          0.        ]]\n",
        "Correlation coefficient: 0.0294174202707 (p=0.926000)\n",
        "Writing to file: logs/discrete/D13200111014.2.exp.log.phase0.iconicity\n"
       ]
      },
      {
       "output_type": "stream",
       "stream": "stdout",
       "text": [
        "Phase/cond/r: 2/2/False\n",
        "Images for the phase are: ['5_5.png', '1_1.png', '1_3.png', '5_1.png', '5_3.png', '3_5.png', '3_3.png', '3_1.png', '1_5.png']\n",
        "5_5.png\n"
       ]
      },
      {
       "output_type": "stream",
       "stream": "stdout",
       "text": [
        "1_1.png\n"
       ]
      },
      {
       "output_type": "stream",
       "stream": "stdout",
       "text": [
        "1_3.png\n"
       ]
      },
      {
       "output_type": "stream",
       "stream": "stdout",
       "text": [
        "5_1.png\n"
       ]
      },
      {
       "output_type": "stream",
       "stream": "stdout",
       "text": [
        "5_3.png\n"
       ]
      },
      {
       "output_type": "stream",
       "stream": "stdout",
       "text": [
        "3_5.png\n"
       ]
      },
      {
       "output_type": "stream",
       "stream": "stdout",
       "text": [
        "3_3.png\n"
       ]
      },
      {
       "output_type": "stream",
       "stream": "stdout",
       "text": [
        "3_1.png\n"
       ]
      },
      {
       "output_type": "stream",
       "stream": "stdout",
       "text": [
        "1_5.png\n"
       ]
      },
      {
       "output_type": "stream",
       "stream": "stdout",
       "text": [
        "9x9 distance matrix\n",
        "IDs:\n",
        "0, 1, 2, 3, 4, 5, 6, 7, 8\n",
        "Data:\n",
        "[[ 0.          2.          4.          2.          2.82842712  4.47213595\n",
        "   4.          4.47213595  5.65685425]\n",
        " [ 2.          0.          2.          2.82842712  2.          2.82842712\n",
        "   4.47213595  4.          4.47213595]\n",
        " [ 4.          2.          0.          4.47213595  2.82842712  2.\n",
        "   5.65685425  4.47213595  4.        ]\n",
        " [ 2.          2.82842712  4.47213595  0.          2.          4.          2.\n",
        "   2.82842712  4.47213595]\n",
        " [ 2.82842712  2.          2.82842712  2.          0.          2.\n",
        "   2.82842712  2.          2.82842712]\n",
        " [ 4.47213595  2.82842712  2.          4.          2.          0.\n",
        "   4.47213595  2.82842712  2.        ]\n",
        " [ 4.          4.47213595  5.65685425  2.          2.82842712  4.47213595\n",
        "   0.          2.          4.        ]\n",
        " [ 4.47213595  4.          4.47213595  2.82842712  2.          2.82842712\n",
        "   2.          0.          2.        ]\n",
        " [ 5.65685425  4.47213595  4.          4.47213595  2.82842712  2.          4.\n",
        "   2.          0.        ]]\n",
        "9x9 distance matrix\n",
        "IDs:\n",
        "0, 1, 2, 3, 4, 5, 6, 7, 8\n",
        "Data:\n",
        "[[ 0.          0.92375367  0.81524927  0.83577713  0.92375367  0.92375367\n",
        "   0.76246334  0.91495601  0.92375367]\n",
        " [ 0.92375367  0.          0.84164223  0.88269795  0.88269795  0.88269795\n",
        "   1.          0.60703812  0.88269795]\n",
        " [ 0.81524927  0.84164223  0.          0.61583578  0.68621701  0.51612903\n",
        "   0.79178886  0.60410557  0.42228739]\n",
        " [ 0.83577713  0.88269795  0.61583578  0.          0.68621701  0.36656891\n",
        "   0.92961877  0.51612903  0.57184751]\n",
        " [ 0.92375367  0.88269795  0.68621701  0.68621701  0.          0.68621701\n",
        "   1.          0.68621701  0.68621701]\n",
        " [ 0.92375367  0.88269795  0.51612903  0.36656891  0.68621701  0.          1.\n",
        "   0.51612903  0.4516129 ]\n",
        " [ 0.76246334  1.          0.79178886  0.92961877  1.          1.          0.\n",
        "   0.89442815  1.        ]\n",
        " [ 0.91495601  0.60703812  0.60410557  0.51612903  0.68621701  0.51612903\n",
        "   0.89442815  0.          0.57184751]\n",
        " [ 0.92375367  0.88269795  0.42228739  0.57184751  0.68621701  0.4516129\n",
        "   1.          0.57184751  0.        ]]\n",
        "Correlation coefficient: 0.141706855767 (p=0.461000)\n",
        "Writing to file: logs/discrete/D13200111014.2.exp.log.phase2.iconicity\n"
       ]
      },
      {
       "output_type": "stream",
       "stream": "stdout",
       "text": [
        "DR132008131014.2r\n",
        "Phase/cond/r: 1/2r/True"
       ]
      },
      {
       "output_type": "stream",
       "stream": "stdout",
       "text": [
        "\n",
        "Images for the phase are: ['1_1.png', '5_5.png', '1_3.png', '5_1.png', '5_3.png', '3_5.png', '3_3.png', '3_1.png', '1_5.png']\n",
        "1_1.png\n"
       ]
      },
      {
       "output_type": "stream",
       "stream": "stdout",
       "text": [
        "5_5.png\n"
       ]
      },
      {
       "output_type": "stream",
       "stream": "stdout",
       "text": [
        "1_3.png\n"
       ]
      },
      {
       "output_type": "stream",
       "stream": "stdout",
       "text": [
        "5_1.png\n"
       ]
      },
      {
       "output_type": "stream",
       "stream": "stdout",
       "text": [
        "5_3.png\n"
       ]
      },
      {
       "output_type": "stream",
       "stream": "stdout",
       "text": [
        "3_5.png\n"
       ]
      },
      {
       "output_type": "stream",
       "stream": "stdout",
       "text": [
        "3_3.png\n"
       ]
      },
      {
       "output_type": "stream",
       "stream": "stdout",
       "text": [
        "3_1.png\n"
       ]
      },
      {
       "output_type": "stream",
       "stream": "stdout",
       "text": [
        "1_5.png\n"
       ]
      },
      {
       "output_type": "stream",
       "stream": "stdout",
       "text": [
        "9x9 distance matrix\n",
        "IDs:\n",
        "0, 1, 2, 3, 4, 5, 6, 7, 8\n",
        "Data:\n",
        "[[ 0.          2.          4.          2.          2.82842712  4.47213595\n",
        "   4.          4.47213595  5.65685425]\n",
        " [ 2.          0.          2.          2.82842712  2.          2.82842712\n",
        "   4.47213595  4.          4.47213595]\n",
        " [ 4.          2.          0.          4.47213595  2.82842712  2.\n",
        "   5.65685425  4.47213595  4.        ]\n",
        " [ 2.          2.82842712  4.47213595  0.          2.          4.          2.\n",
        "   2.82842712  4.47213595]\n",
        " [ 2.82842712  2.          2.82842712  2.          0.          2.\n",
        "   2.82842712  2.          2.82842712]\n",
        " [ 4.47213595  2.82842712  2.          4.          2.          0.\n",
        "   4.47213595  2.82842712  2.        ]\n",
        " [ 4.          4.47213595  5.65685425  2.          2.82842712  4.47213595\n",
        "   0.          2.          4.        ]\n",
        " [ 4.47213595  4.          4.47213595  2.82842712  2.          2.82842712\n",
        "   2.          0.          2.        ]\n",
        " [ 5.65685425  4.47213595  4.          4.47213595  2.82842712  2.          4.\n",
        "   2.          0.        ]]\n",
        "9x9 distance matrix\n",
        "IDs:\n",
        "0, 1, 2, 3, 4, 5, 6, 7, 8\n",
        "Data:\n",
        "[[ 0.          0.74978939  0.78264532  0.70008425  0.96040438  0.74052233\n",
        "   0.73715249  0.73462511  0.75063184]\n",
        " [ 0.74978939  0.          0.39764111  0.41364785  0.94776748  0.41364785\n",
        "   0.40775063  0.62763269  0.41364785]\n",
        " [ 0.78264532  0.39764111  0.          0.35804549  0.9957877   0.07497894\n",
        "   0.30328559  0.67902275  0.06149958]\n",
        " [ 0.70008425  0.41364785  0.35804549  0.          0.94608256  0.35973041\n",
        "   0.33445661  0.67312553  0.35973041]\n",
        " [ 0.96040438  0.94776748  0.9957877   0.94608256  0.          1.\n",
        "   0.9747262   0.9452401   1.        ]\n",
        " [ 0.74052233  0.41364785  0.07497894  0.35973041  1.          0.\n",
        "   0.30328559  0.67396799  0.01347936]\n",
        " [ 0.73715249  0.40775063  0.30328559  0.33445661  0.9747262   0.30328559\n",
        "   0.          0.63689975  0.30328559]\n",
        " [ 0.73462511  0.62763269  0.67902275  0.67312553  0.9452401   0.67396799\n",
        "   0.63689975  0.          0.68660489]\n",
        " [ 0.75063184  0.41364785  0.06149958  0.35973041  1.          0.01347936\n",
        "   0.30328559  0.68660489  0.        ]]\n",
        "Correlation coefficient: -0.222586792186 (p=0.228000)\n",
        "Writing to file: logs/discrete/DR132008131014.2r.exp.log.phase1.iconicity\n"
       ]
      },
      {
       "output_type": "stream",
       "stream": "stdout",
       "text": [
        "Phase/cond/r: 0/2r/True\n",
        "Images for the phase are: ['5_5.png', '5_4.png', '5_1.png', '5_3.png', '5_2.png']\n",
        "5_5.png\n"
       ]
      },
      {
       "output_type": "stream",
       "stream": "stdout",
       "text": [
        "5_4.png\n"
       ]
      },
      {
       "output_type": "stream",
       "stream": "stdout",
       "text": [
        "5_1.png\n"
       ]
      },
      {
       "output_type": "stream",
       "stream": "stdout",
       "text": [
        "5_3.png\n"
       ]
      },
      {
       "output_type": "stream",
       "stream": "stdout",
       "text": [
        "5_2.png\n"
       ]
      },
      {
       "output_type": "stream",
       "stream": "stdout",
       "text": [
        "5x5 distance matrix\n",
        "IDs:\n",
        "0, 1, 2, 3, 4\n",
        "Data:\n",
        "[[ 0.  1.  2.  3.  4.]\n",
        " [ 1.  0.  1.  2.  3.]\n",
        " [ 2.  1.  0.  1.  2.]\n",
        " [ 3.  2.  1.  0.  1.]\n",
        " [ 4.  3.  2.  1.  0.]]\n",
        "5x5 distance matrix\n",
        "IDs:\n",
        "0, 1, 2, 3, 4\n",
        "Data:\n",
        "[[ 0.          0.39299611  0.84306096  0.59143969  0.29312581]\n",
        " [ 0.39299611  0.          0.8767834   0.62775616  0.42671855]\n",
        " [ 0.84306096  0.8767834   0.          0.82749676  1.        ]\n",
        " [ 0.59143969  0.62775616  0.82749676  0.          0.62775616]\n",
        " [ 0.29312581  0.42671855  1.          0.62775616  0.        ]]\n",
        "Correlation coefficient: -0.423988514187 (p=0.129000)\n",
        "Writing to file: logs/discrete/DR132008131014.2r.exp.log.phase0.iconicity\n"
       ]
      },
      {
       "output_type": "stream",
       "stream": "stdout",
       "text": [
        "Phase/cond/r: 2/2r/True\n",
        "Images for the phase are: ['5_5.png', '1_1.png', '1_3.png', '5_1.png', '5_3.png', '3_5.png', '3_3.png', '3_1.png', '1_5.png']\n",
        "5_5.png\n"
       ]
      },
      {
       "output_type": "stream",
       "stream": "stdout",
       "text": [
        "1_1.png\n"
       ]
      },
      {
       "output_type": "stream",
       "stream": "stdout",
       "text": [
        "1_3.png\n"
       ]
      },
      {
       "output_type": "stream",
       "stream": "stdout",
       "text": [
        "5_1.png\n"
       ]
      },
      {
       "output_type": "stream",
       "stream": "stdout",
       "text": [
        "5_3.png\n"
       ]
      },
      {
       "output_type": "stream",
       "stream": "stdout",
       "text": [
        "3_5.png\n"
       ]
      },
      {
       "output_type": "stream",
       "stream": "stdout",
       "text": [
        "3_3.png\n"
       ]
      },
      {
       "output_type": "stream",
       "stream": "stdout",
       "text": [
        "3_1.png\n"
       ]
      },
      {
       "output_type": "stream",
       "stream": "stdout",
       "text": [
        "1_5.png\n"
       ]
      },
      {
       "output_type": "stream",
       "stream": "stdout",
       "text": [
        "9x9 distance matrix\n",
        "IDs:\n",
        "0, 1, 2, 3, 4, 5, 6, 7, 8\n",
        "Data:\n",
        "[[ 0.          2.          4.          2.          2.82842712  4.47213595\n",
        "   4.          4.47213595  5.65685425]\n",
        " [ 2.          0.          2.          2.82842712  2.          2.82842712\n",
        "   4.47213595  4.          4.47213595]\n",
        " [ 4.          2.          0.          4.47213595  2.82842712  2.\n",
        "   5.65685425  4.47213595  4.        ]\n",
        " [ 2.          2.82842712  4.47213595  0.          2.          4.          2.\n",
        "   2.82842712  4.47213595]\n",
        " [ 2.82842712  2.          2.82842712  2.          0.          2.\n",
        "   2.82842712  2.          2.82842712]\n",
        " [ 4.47213595  2.82842712  2.          4.          2.          0.\n",
        "   4.47213595  2.82842712  2.        ]\n",
        " [ 4.          4.47213595  5.65685425  2.          2.82842712  4.47213595\n",
        "   0.          2.          4.        ]\n",
        " [ 4.47213595  4.          4.47213595  2.82842712  2.          2.82842712\n",
        "   2.          0.          2.        ]\n",
        " [ 5.65685425  4.47213595  4.          4.47213595  2.82842712  2.          4.\n",
        "   2.          0.        ]]\n",
        "9x9 distance matrix\n",
        "IDs:\n",
        "0, 1, 2, 3, 4, 5, 6, 7, 8\n",
        "Data:\n",
        "[[ 0.          0.48581998  0.50678175  0.52404439  0.50924784  0.48828607\n",
        "   0.71393342  0.86313194  0.50184957]\n",
        " [ 0.48581998  0.          0.3810111   0.48212084  0.58692972  0.39334155\n",
        "   0.66831073  0.84710234  0.41307028]\n",
        " [ 0.50678175  0.3810111   0.          0.52651048  0.67077682  0.06905055\n",
        "   0.71763255  0.95314427  0.10604192]\n",
        " [ 0.52404439  0.48212084  0.52651048  0.          0.62885327  0.53020962\n",
        "   0.63995068  0.8865598   0.54007398]\n",
        " [ 0.50924784  0.58692972  0.67077682  0.62885327  0.          0.65721332\n",
        "   0.73366215  0.86189889  0.62638718]\n",
        " [ 0.48828607  0.39334155  0.06905055  0.53020962  0.65721332  0.\n",
        "   0.71516646  0.95067818  0.11467324]\n",
        " [ 0.71393342  0.66831073  0.71763255  0.63995068  0.73366215  0.71516646\n",
        "   0.          1.          0.73366215]\n",
        " [ 0.86313194  0.84710234  0.95314427  0.8865598   0.86189889  0.95067818\n",
        "   1.          0.          0.98273736]\n",
        " [ 0.50184957  0.41307028  0.10604192  0.54007398  0.62638718  0.11467324\n",
        "   0.73366215  0.98273736  0.        ]]\n",
        "Correlation coefficient: 0.0636923485445 (p=0.742000)\n",
        "Writing to file: logs/discrete/DR132008131014.2r.exp.log.phase2.iconicity\n"
       ]
      },
      {
       "output_type": "stream",
       "stream": "stdout",
       "text": [
        "DR123008101014.1r\n",
        "Phase/cond/r: 1/1r/True"
       ]
      },
      {
       "output_type": "stream",
       "stream": "stdout",
       "text": [
        "\n",
        "Images for the phase are: ['5_5.png', '1_1.png', '1_3.png', '1_5.png', '5_3.png', '3_5.png', '3_3.png', '3_1.png', '5_1.png']\n",
        "5_5.png\n"
       ]
      },
      {
       "output_type": "stream",
       "stream": "stdout",
       "text": [
        "1_1.png\n"
       ]
      },
      {
       "output_type": "stream",
       "stream": "stdout",
       "text": [
        "1_3.png\n"
       ]
      },
      {
       "output_type": "stream",
       "stream": "stdout",
       "text": [
        "1_5.png\n"
       ]
      },
      {
       "output_type": "stream",
       "stream": "stdout",
       "text": [
        "5_3.png\n"
       ]
      },
      {
       "output_type": "stream",
       "stream": "stdout",
       "text": [
        "3_5.png\n"
       ]
      },
      {
       "output_type": "stream",
       "stream": "stdout",
       "text": [
        "3_3.png\n"
       ]
      },
      {
       "output_type": "stream",
       "stream": "stdout",
       "text": [
        "3_1.png\n"
       ]
      },
      {
       "output_type": "stream",
       "stream": "stdout",
       "text": [
        "5_1.png\n"
       ]
      },
      {
       "output_type": "stream",
       "stream": "stdout",
       "text": [
        "9x9 distance matrix\n",
        "IDs:\n",
        "0, 1, 2, 3, 4, 5, 6, 7, 8\n",
        "Data:\n",
        "[[ 0.          2.          4.          2.          2.82842712  4.47213595\n",
        "   4.          4.47213595  5.65685425]\n",
        " [ 2.          0.          2.          2.82842712  2.          2.82842712\n",
        "   4.47213595  4.          4.47213595]\n",
        " [ 4.          2.          0.          4.47213595  2.82842712  2.\n",
        "   5.65685425  4.47213595  4.        ]\n",
        " [ 2.          2.82842712  4.47213595  0.          2.          4.          2.\n",
        "   2.82842712  4.47213595]\n",
        " [ 2.82842712  2.          2.82842712  2.          0.          2.\n",
        "   2.82842712  2.          2.82842712]\n",
        " [ 4.47213595  2.82842712  2.          4.          2.          0.\n",
        "   4.47213595  2.82842712  2.        ]\n",
        " [ 4.          4.47213595  5.65685425  2.          2.82842712  4.47213595\n",
        "   0.          2.          4.        ]\n",
        " [ 4.47213595  4.          4.47213595  2.82842712  2.          2.82842712\n",
        "   2.          0.          2.        ]\n",
        " [ 5.65685425  4.47213595  4.          4.47213595  2.82842712  2.          4.\n",
        "   2.          0.        ]]\n",
        "9x9 distance matrix\n",
        "IDs:\n",
        "0, 1, 2, 3, 4, 5, 6, 7, 8\n",
        "Data:\n",
        "[[ 0.          0.87554905  0.92532943  0.9136164   0.89019034  0.96339678\n",
        "   0.63836018  0.72913616  1.        ]\n",
        " [ 0.87554905  0.          0.74524158  0.69399707  0.70278184  0.73060029\n",
        "   0.64128843  0.51537335  0.75256223]\n",
        " [ 0.92532943  0.74524158  0.          0.29136164  0.2942899   0.29575403\n",
        "   0.64421669  0.50073206  0.29575403]\n",
        " [ 0.9136164   0.69399707  0.29136164  0.          0.24011713  0.20204978\n",
        "   0.57540264  0.45827233  0.20644217]\n",
        " [ 0.89019034  0.70278184  0.2942899   0.24011713  0.          0.24158126\n",
        "   0.54026354  0.42313324  0.238653  ]\n",
        " [ 0.96339678  0.73060029  0.29575403  0.20204978  0.24158126  0.\n",
        "   0.64860908  0.50366032  0.18740849]\n",
        " [ 0.63836018  0.64128843  0.64421669  0.57540264  0.54026354  0.64860908\n",
        "   0.          0.48609078  0.60614934]\n",
        " [ 0.72913616  0.51537335  0.50073206  0.45827233  0.42313324  0.50366032\n",
        "   0.48609078  0.          0.49633968]\n",
        " [ 1.          0.75256223  0.29575403  0.20644217  0.238653    0.18740849\n",
        "   0.60614934  0.49633968  0.        ]]\n",
        "Correlation coefficient: 0.218202805765 (p=0.232000)\n",
        "Writing to file: logs/discrete/DR123008101014.1r.exp.log.phase1.iconicity\n"
       ]
      },
      {
       "output_type": "stream",
       "stream": "stdout",
       "text": [
        "Phase/cond/r: 0/1r/True\n",
        "Images for the phase are: ['5_5.png', '5_4.png', '5_1.png', '5_3.png', '5_2.png']\n",
        "5_5.png\n"
       ]
      },
      {
       "output_type": "stream",
       "stream": "stdout",
       "text": [
        "5_4.png\n"
       ]
      },
      {
       "output_type": "stream",
       "stream": "stdout",
       "text": [
        "5_1.png\n"
       ]
      },
      {
       "output_type": "stream",
       "stream": "stdout",
       "text": [
        "5_3.png\n"
       ]
      },
      {
       "output_type": "stream",
       "stream": "stdout",
       "text": [
        "5_2.png\n"
       ]
      },
      {
       "output_type": "stream",
       "stream": "stdout",
       "text": [
        "5x5 distance matrix\n",
        "IDs:\n",
        "0, 1, 2, 3, 4\n",
        "Data:\n",
        "[[ 0.  1.  2.  3.  4.]\n",
        " [ 1.  0.  1.  2.  3.]\n",
        " [ 2.  1.  0.  1.  2.]\n",
        " [ 3.  2.  1.  0.  1.]\n",
        " [ 4.  3.  2.  1.  0.]]\n",
        "5x5 distance matrix\n",
        "IDs:\n",
        "0, 1, 2, 3, 4\n",
        "Data:\n",
        "[[ 0.          1.          0.83061889  1.          0.7752443 ]\n",
        " [ 1.          0.          0.65798046  0.87296417  0.81433225]\n",
        " [ 0.83061889  0.65798046  0.          0.65798046  0.71009772]\n",
        " [ 1.          0.87296417  0.65798046  0.          0.68078176]\n",
        " [ 0.7752443   0.81433225  0.71009772  0.68078176  0.        ]]\n",
        "Correlation coefficient: 0.40929886681 (p=0.238000)\n",
        "Writing to file: logs/discrete/DR123008101014.1r.exp.log.phase0.iconicity\n"
       ]
      },
      {
       "output_type": "stream",
       "stream": "stdout",
       "text": [
        "Phase/cond/r: 2/1r/True\n",
        "Images for the phase are: ['1_1.png', '5_5.png', '1_3.png', '1_5.png', '5_3.png', '3_5.png', '3_3.png', '3_1.png', '5_1.png']\n",
        "1_1.png\n"
       ]
      },
      {
       "output_type": "stream",
       "stream": "stdout",
       "text": [
        "5_5.png\n"
       ]
      },
      {
       "output_type": "stream",
       "stream": "stdout",
       "text": [
        "1_3.png\n"
       ]
      },
      {
       "output_type": "stream",
       "stream": "stdout",
       "text": [
        "1_5.png\n"
       ]
      },
      {
       "output_type": "stream",
       "stream": "stdout",
       "text": [
        "5_3.png\n"
       ]
      },
      {
       "output_type": "stream",
       "stream": "stdout",
       "text": [
        "3_5.png\n"
       ]
      },
      {
       "output_type": "stream",
       "stream": "stdout",
       "text": [
        "3_3.png\n"
       ]
      },
      {
       "output_type": "stream",
       "stream": "stdout",
       "text": [
        "3_1.png\n"
       ]
      },
      {
       "output_type": "stream",
       "stream": "stdout",
       "text": [
        "5_1.png\n"
       ]
      },
      {
       "output_type": "stream",
       "stream": "stdout",
       "text": [
        "9x9 distance matrix\n",
        "IDs:\n",
        "0, 1, 2, 3, 4, 5, 6, 7, 8\n",
        "Data:\n",
        "[[ 0.          2.          4.          2.          2.82842712  4.47213595\n",
        "   4.          4.47213595  5.65685425]\n",
        " [ 2.          0.          2.          2.82842712  2.          2.82842712\n",
        "   4.47213595  4.          4.47213595]\n",
        " [ 4.          2.          0.          4.47213595  2.82842712  2.\n",
        "   5.65685425  4.47213595  4.        ]\n",
        " [ 2.          2.82842712  4.47213595  0.          2.          4.          2.\n",
        "   2.82842712  4.47213595]\n",
        " [ 2.82842712  2.          2.82842712  2.          0.          2.\n",
        "   2.82842712  2.          2.82842712]\n",
        " [ 4.47213595  2.82842712  2.          4.          2.          0.\n",
        "   4.47213595  2.82842712  2.        ]\n",
        " [ 4.          4.47213595  5.65685425  2.          2.82842712  4.47213595\n",
        "   0.          2.          4.        ]\n",
        " [ 4.47213595  4.          4.47213595  2.82842712  2.          2.82842712\n",
        "   2.          0.          2.        ]\n",
        " [ 5.65685425  4.47213595  4.          4.47213595  2.82842712  2.          4.\n",
        "   2.          0.        ]]\n",
        "9x9 distance matrix\n",
        "IDs:\n",
        "0, 1, 2, 3, 4, 5, 6, 7, 8\n",
        "Data:\n",
        "[[ 0.          0.86039454  0.86494689  0.75569044  0.83611533  0.86494689\n",
        "   0.68437026  0.71320182  0.86494689]\n",
        " [ 0.86039454  0.          1.          0.94385432  0.94385432  1.\n",
        "   0.86798179  0.784522    1.        ]\n",
        " [ 0.86494689  1.          0.          0.28224583  0.323217    0.12594841\n",
        "   0.64188164  0.61001517  0.1107739 ]\n",
        " [ 0.75569044  0.94385432  0.28224583  0.          0.323217    0.28224583\n",
        "   0.5508346   0.45978756  0.28224583]\n",
        " [ 0.83611533  0.94385432  0.323217    0.323217    0.          0.323217\n",
        "   0.62215478  0.50986343  0.323217  ]\n",
        " [ 0.86494689  1.          0.12594841  0.28224583  0.323217    0.\n",
        "   0.64188164  0.61001517  0.12594841]\n",
        " [ 0.68437026  0.86798179  0.64188164  0.5508346   0.62215478  0.64188164\n",
        "   0.          0.62063733  0.64188164]\n",
        " [ 0.71320182  0.784522    0.61001517  0.45978756  0.50986343  0.61001517\n",
        "   0.62063733  0.          0.61001517]\n",
        " [ 0.86494689  1.          0.1107739   0.28224583  0.323217    0.12594841\n",
        "   0.64188164  0.61001517  0.        ]]\n",
        "Correlation coefficient: 0.165212016799 (p=0.397000)\n",
        "Writing to file: logs/discrete/DR123008101014.1r.exp.log.phase2.iconicity\n"
       ]
      },
      {
       "output_type": "stream",
       "stream": "stdout",
       "text": [
        "D132011151014.2\n",
        "Phase/cond/r: 1/2/False"
       ]
      },
      {
       "output_type": "stream",
       "stream": "stdout",
       "text": [
        "\n",
        "Images for the phase are: ['5_5.png', '1_1.png', '1_3.png', '5_1.png', '5_3.png', '3_5.png', '3_3.png', '3_1.png', '1_5.png']\n",
        "5_5.png\n"
       ]
      },
      {
       "output_type": "stream",
       "stream": "stdout",
       "text": [
        "1_1.png\n"
       ]
      },
      {
       "output_type": "stream",
       "stream": "stdout",
       "text": [
        "1_3.png\n"
       ]
      },
      {
       "output_type": "stream",
       "stream": "stdout",
       "text": [
        "5_1.png\n"
       ]
      },
      {
       "output_type": "stream",
       "stream": "stdout",
       "text": [
        "5_3.png\n"
       ]
      },
      {
       "output_type": "stream",
       "stream": "stdout",
       "text": [
        "3_5.png\n"
       ]
      },
      {
       "output_type": "stream",
       "stream": "stdout",
       "text": [
        "3_3.png\n"
       ]
      },
      {
       "output_type": "stream",
       "stream": "stdout",
       "text": [
        "3_1.png\n"
       ]
      },
      {
       "output_type": "stream",
       "stream": "stdout",
       "text": [
        "1_5.png\n"
       ]
      },
      {
       "output_type": "stream",
       "stream": "stdout",
       "text": [
        "9x9 distance matrix\n",
        "IDs:\n",
        "0, 1, 2, 3, 4, 5, 6, 7, 8\n",
        "Data:\n",
        "[[ 0.          2.          4.          2.          2.82842712  4.47213595\n",
        "   4.          4.47213595  5.65685425]\n",
        " [ 2.          0.          2.          2.82842712  2.          2.82842712\n",
        "   4.47213595  4.          4.47213595]\n",
        " [ 4.          2.          0.          4.47213595  2.82842712  2.\n",
        "   5.65685425  4.47213595  4.        ]\n",
        " [ 2.          2.82842712  4.47213595  0.          2.          4.          2.\n",
        "   2.82842712  4.47213595]\n",
        " [ 2.82842712  2.          2.82842712  2.          0.          2.\n",
        "   2.82842712  2.          2.82842712]\n",
        " [ 4.47213595  2.82842712  2.          4.          2.          0.\n",
        "   4.47213595  2.82842712  2.        ]\n",
        " [ 4.          4.47213595  5.65685425  2.          2.82842712  4.47213595\n",
        "   0.          2.          4.        ]\n",
        " [ 4.47213595  4.          4.47213595  2.82842712  2.          2.82842712\n",
        "   2.          0.          2.        ]\n",
        " [ 5.65685425  4.47213595  4.          4.47213595  2.82842712  2.          4.\n",
        "   2.          0.        ]]\n",
        "9x9 distance matrix\n",
        "IDs:\n",
        "0, 1, 2, 3, 4, 5, 6, 7, 8\n",
        "Data:\n",
        "[[ 0.          0.88225256  0.81825939  0.89931741  0.98208191  1.\n",
        "   0.99061433  0.98549488  0.99317406]\n",
        " [ 0.88225256  0.          0.71075085  0.87030717  0.87883959  0.82849829\n",
        "   0.8387372   0.84812287  0.87116041]\n",
        " [ 0.81825939  0.71075085  0.          0.92320819  0.91467577  0.67320819\n",
        "   0.66808874  0.67406143  0.68430034]\n",
        " [ 0.89931741  0.87030717  0.92320819  0.          0.86860068  0.9778157\n",
        "   0.98293515  0.89846416  0.98293515]\n",
        " [ 0.98208191  0.87883959  0.91467577  0.86860068  0.          0.95221843\n",
        "   0.91296928  0.91467577  0.96416382]\n",
        " [ 1.          0.82849829  0.67320819  0.9778157   0.95221843  0.\n",
        "   0.39590444  0.60750853  0.67918089]\n",
        " [ 0.99061433  0.8387372   0.66808874  0.98293515  0.91296928  0.39590444\n",
        "   0.          0.58959044  0.68430034]\n",
        " [ 0.98549488  0.84812287  0.67406143  0.89846416  0.91467577  0.60750853\n",
        "   0.58959044  0.          0.68430034]\n",
        " [ 0.99317406  0.87116041  0.68430034  0.98293515  0.96416382  0.67918089\n",
        "   0.68430034  0.68430034  0.        ]]\n",
        "Correlation coefficient: 0.144185248142 (p=0.423000)\n",
        "Writing to file: logs/discrete/D132011151014.2.exp.log.phase1.iconicity\n"
       ]
      },
      {
       "output_type": "stream",
       "stream": "stdout",
       "text": [
        "Phase/cond/r: 0/2/False\n",
        "Images for the phase are: ['5_5.png', '5_4.png', '5_1.png', '5_3.png', '5_2.png']\n",
        "5_5.png\n"
       ]
      },
      {
       "output_type": "stream",
       "stream": "stdout",
       "text": [
        "5_4.png\n"
       ]
      },
      {
       "output_type": "stream",
       "stream": "stdout",
       "text": [
        "5_1.png\n"
       ]
      },
      {
       "output_type": "stream",
       "stream": "stdout",
       "text": [
        "5_3.png\n"
       ]
      },
      {
       "output_type": "stream",
       "stream": "stdout",
       "text": [
        "5_2.png\n"
       ]
      },
      {
       "output_type": "stream",
       "stream": "stdout",
       "text": [
        "5x5 distance matrix\n",
        "IDs:\n",
        "0, 1, 2, 3, 4\n",
        "Data:\n",
        "[[ 0.  1.  2.  3.  4.]\n",
        " [ 1.  0.  1.  2.  3.]\n",
        " [ 2.  1.  0.  1.  2.]\n",
        " [ 3.  2.  1.  0.  1.]\n",
        " [ 4.  3.  2.  1.  0.]]\n",
        "5x5 distance matrix\n",
        "IDs:\n",
        "0, 1, 2, 3, 4\n",
        "Data:\n",
        "[[ 0.          1.          0.92963464  0.9458728   0.9391069 ]\n",
        " [ 1.          0.          0.92692828  0.94316644  0.76725304]\n",
        " [ 0.92963464  0.92692828  0.          0.51826793  0.56156969]\n",
        " [ 0.9458728   0.94316644  0.51826793  0.          0.55751015]\n",
        " [ 0.9391069   0.76725304  0.56156969  0.55751015  0.        ]]\n",
        "Correlation coefficient: 0.317820863082 (p=0.379000)\n",
        "Writing to file: logs/discrete/D132011151014.2.exp.log.phase0.iconicity\n"
       ]
      },
      {
       "output_type": "stream",
       "stream": "stdout",
       "text": [
        "Phase/cond/r: 2/2/False\n",
        "Images for the phase are: ['5_5.png', '1_1.png', '1_3.png', '1_5.png', '5_3.png', '3_5.png', '3_3.png', '3_1.png', '5_1.png']\n",
        "5_5.png\n"
       ]
      },
      {
       "output_type": "stream",
       "stream": "stdout",
       "text": [
        "1_1.png\n"
       ]
      },
      {
       "output_type": "stream",
       "stream": "stdout",
       "text": [
        "1_3.png\n"
       ]
      },
      {
       "output_type": "stream",
       "stream": "stdout",
       "text": [
        "1_5.png\n"
       ]
      },
      {
       "output_type": "stream",
       "stream": "stdout",
       "text": [
        "5_3.png\n"
       ]
      },
      {
       "output_type": "stream",
       "stream": "stdout",
       "text": [
        "3_5.png\n"
       ]
      },
      {
       "output_type": "stream",
       "stream": "stdout",
       "text": [
        "3_3.png\n"
       ]
      },
      {
       "output_type": "stream",
       "stream": "stdout",
       "text": [
        "3_1.png\n"
       ]
      },
      {
       "output_type": "stream",
       "stream": "stdout",
       "text": [
        "5_1.png\n"
       ]
      },
      {
       "output_type": "stream",
       "stream": "stdout",
       "text": [
        "9x9 distance matrix\n",
        "IDs:\n",
        "0, 1, 2, 3, 4, 5, 6, 7, 8\n",
        "Data:\n",
        "[[ 0.          2.          4.          2.          2.82842712  4.47213595\n",
        "   4.          4.47213595  5.65685425]\n",
        " [ 2.          0.          2.          2.82842712  2.          2.82842712\n",
        "   4.47213595  4.          4.47213595]\n",
        " [ 4.          2.          0.          4.47213595  2.82842712  2.\n",
        "   5.65685425  4.47213595  4.        ]\n",
        " [ 2.          2.82842712  4.47213595  0.          2.          4.          2.\n",
        "   2.82842712  4.47213595]\n",
        " [ 2.82842712  2.          2.82842712  2.          0.          2.\n",
        "   2.82842712  2.          2.82842712]\n",
        " [ 4.47213595  2.82842712  2.          4.          2.          0.\n",
        "   4.47213595  2.82842712  2.        ]\n",
        " [ 4.          4.47213595  5.65685425  2.          2.82842712  4.47213595\n",
        "   0.          2.          4.        ]\n",
        " [ 4.47213595  4.          4.47213595  2.82842712  2.          2.82842712\n",
        "   2.          0.          2.        ]\n",
        " [ 5.65685425  4.47213595  4.          4.47213595  2.82842712  2.          4.\n",
        "   2.          0.        ]]\n",
        "9x9 distance matrix\n",
        "IDs:\n",
        "0, 1, 2, 3, 4, 5, 6, 7, 8\n",
        "Data:\n",
        "[[ 0.          0.62213439  0.52885375  0.90118577  0.64743083  0.57628458\n",
        "   0.57944664  0.75256917  0.69407115]\n",
        " [ 0.62213439  0.          0.64980237  0.89249012  0.69090909  0.71699605\n",
        "   0.72964427  0.68932806  0.73596838]\n",
        " [ 0.52885375  0.64980237  0.          0.94387352  0.5826087   0.54150198\n",
        "   0.53992095  0.74940711  0.71699605]\n",
        " [ 0.90118577  0.89249012  0.94387352  0.          0.93833992  0.96521739\n",
        "   0.98498024  0.91146245  1.        ]\n",
        " [ 0.64743083  0.69090909  0.5826087   0.93833992  0.          0.61264822\n",
        "   0.65059289  0.61185771  0.73675889]\n",
        " [ 0.57628458  0.71699605  0.54150198  0.96521739  0.61264822  0.\n",
        "   0.5770751   0.73438735  0.5312253 ]\n",
        " [ 0.57944664  0.72964427  0.53992095  0.98498024  0.65059289  0.5770751\n",
        "   0.          0.76679842  0.75098814]\n",
        " [ 0.75256917  0.68932806  0.74940711  0.91146245  0.61185771  0.73438735\n",
        "   0.76679842  0.          0.76679842]\n",
        " [ 0.69407115  0.73596838  0.71699605  1.          0.73675889  0.5312253\n",
        "   0.75098814  0.76679842  0.        ]]\n",
        "Correlation coefficient: -0.00279253738949 (p=0.986000)\n",
        "Writing to file: logs/discrete/D132011151014.2.exp.log.phase2.iconicity\n"
       ]
      },
      {
       "output_type": "stream",
       "stream": "stdout",
       "text": [
        "DR12300230914.1r\n",
        "Phase/cond/r: 1/1r/True"
       ]
      },
      {
       "output_type": "stream",
       "stream": "stdout",
       "text": [
        "\n",
        "Images for the phase are: ['5_5.png', '1_1.png', '1_3.png', '5_1.png', '5_3.png', '3_5.png', '3_3.png', '3_1.png', '1_5.png']\n",
        "5_5.png\n"
       ]
      },
      {
       "output_type": "stream",
       "stream": "stdout",
       "text": [
        "1_1.png\n"
       ]
      },
      {
       "output_type": "stream",
       "stream": "stdout",
       "text": [
        "1_3.png\n"
       ]
      },
      {
       "output_type": "stream",
       "stream": "stdout",
       "text": [
        "5_1.png\n"
       ]
      },
      {
       "output_type": "stream",
       "stream": "stdout",
       "text": [
        "5_3.png\n"
       ]
      },
      {
       "output_type": "stream",
       "stream": "stdout",
       "text": [
        "3_5.png\n"
       ]
      },
      {
       "output_type": "stream",
       "stream": "stdout",
       "text": [
        "3_3.png\n"
       ]
      },
      {
       "output_type": "stream",
       "stream": "stdout",
       "text": [
        "3_1.png\n"
       ]
      },
      {
       "output_type": "stream",
       "stream": "stdout",
       "text": [
        "1_5.png\n"
       ]
      },
      {
       "output_type": "stream",
       "stream": "stdout",
       "text": [
        "9x9 distance matrix\n",
        "IDs:\n",
        "0, 1, 2, 3, 4, 5, 6, 7, 8\n",
        "Data:\n",
        "[[ 0.          2.          4.          2.          2.82842712  4.47213595\n",
        "   4.          4.47213595  5.65685425]\n",
        " [ 2.          0.          2.          2.82842712  2.          2.82842712\n",
        "   4.47213595  4.          4.47213595]\n",
        " [ 4.          2.          0.          4.47213595  2.82842712  2.\n",
        "   5.65685425  4.47213595  4.        ]\n",
        " [ 2.          2.82842712  4.47213595  0.          2.          4.          2.\n",
        "   2.82842712  4.47213595]\n",
        " [ 2.82842712  2.          2.82842712  2.          0.          2.\n",
        "   2.82842712  2.          2.82842712]\n",
        " [ 4.47213595  2.82842712  2.          4.          2.          0.\n",
        "   4.47213595  2.82842712  2.        ]\n",
        " [ 4.          4.47213595  5.65685425  2.          2.82842712  4.47213595\n",
        "   0.          2.          4.        ]\n",
        " [ 4.47213595  4.          4.47213595  2.82842712  2.          2.82842712\n",
        "   2.          0.          2.        ]\n",
        " [ 5.65685425  4.47213595  4.          4.47213595  2.82842712  2.          4.\n",
        "   2.          0.        ]]\n",
        "9x9 distance matrix\n",
        "IDs:\n",
        "0, 1, 2, 3, 4, 5, 6, 7, 8\n",
        "Data:\n",
        "[[ 0.          0.58664085  0.82381413  0.7231365   0.85672798  0.61277832\n",
        "   0.62245886  0.63697967  0.63697967]\n",
        " [ 0.58664085  0.          0.84027106  0.53242982  0.74733785  0.29235237\n",
        "   0.33301065  0.56340755  0.31945789]\n",
        " [ 0.82381413  0.84027106  0.          0.85091965  0.95934172  0.84123911\n",
        "   0.84414327  0.82768635  0.72120039]\n",
        " [ 0.7231365   0.53242982  0.85091965  0.          1.          0.54017425\n",
        "   0.43465634  0.69893514  0.54017425]\n",
        " [ 0.85672798  0.74733785  0.95934172  1.          0.          0.90029042\n",
        "   0.90029042  0.81510165  0.89254598]\n",
        " [ 0.61277832  0.29235237  0.84123911  0.54017425  0.90029042  0.\n",
        "   0.27783156  0.6447241   0.30106486]\n",
        " [ 0.62245886  0.33301065  0.84414327  0.43465634  0.90029042  0.27783156\n",
        "   0.          0.59728945  0.33204259]\n",
        " [ 0.63697967  0.56340755  0.82768635  0.69893514  0.81510165  0.6447241\n",
        "   0.59728945  0.          0.64762827]\n",
        " [ 0.63697967  0.31945789  0.72120039  0.54017425  0.89254598  0.30106486\n",
        "   0.33204259  0.64762827  0.        ]]\n",
        "Correlation coefficient: -0.223151399184 (p=0.216000)\n",
        "Writing to file: logs/discrete/DR12300230914.1r.exp.log.phase1.iconicity\n"
       ]
      },
      {
       "output_type": "stream",
       "stream": "stdout",
       "text": [
        "Phase/cond/r: 0/1r/True\n",
        "Images for the phase are: ['5_5.png', '5_4.png', '5_1.png', '5_3.png', '5_2.png']\n",
        "5_5.png\n"
       ]
      },
      {
       "output_type": "stream",
       "stream": "stdout",
       "text": [
        "5_4.png\n"
       ]
      },
      {
       "output_type": "stream",
       "stream": "stdout",
       "text": [
        "5_1.png\n"
       ]
      },
      {
       "output_type": "stream",
       "stream": "stdout",
       "text": [
        "5_3.png\n"
       ]
      },
      {
       "output_type": "stream",
       "stream": "stdout",
       "text": [
        "5_2.png\n"
       ]
      },
      {
       "output_type": "stream",
       "stream": "stdout",
       "text": [
        "5x5 distance matrix\n",
        "IDs:\n",
        "0, 1, 2, 3, 4\n",
        "Data:\n",
        "[[ 0.  1.  2.  3.  4.]\n",
        " [ 1.  0.  1.  2.  3.]\n",
        " [ 2.  1.  0.  1.  2.]\n",
        " [ 3.  2.  1.  0.  1.]\n",
        " [ 4.  3.  2.  1.  0.]]\n",
        "5x5 distance matrix\n",
        "IDs:\n",
        "0, 1, 2, 3, 4\n",
        "Data:\n",
        "[[ 0.          1.          0.83055976  0.61573374  0.72768533]\n",
        " [ 1.          0.          0.54614221  0.82299546  0.94099849]\n",
        " [ 0.83055976  0.54614221  0.          0.73676248  0.8698941 ]\n",
        " [ 0.61573374  0.82299546  0.73676248  0.          0.65355522]\n",
        " [ 0.72768533  0.94099849  0.8698941   0.65355522  0.        ]]\n",
        "Correlation coefficient: 0.0572077553547 (p=0.822000)\n",
        "Writing to file: logs/discrete/DR12300230914.1r.exp.log.phase0.iconicity\n"
       ]
      },
      {
       "output_type": "stream",
       "stream": "stdout",
       "text": [
        "Phase/cond/r: 2/1r/True\n",
        "Images for the phase are: ['1_1.png', '5_5.png', '1_3.png', '5_1.png', '5_3.png', '3_5.png', '3_3.png', '3_1.png', '1_5.png']\n",
        "1_1.png\n"
       ]
      },
      {
       "ename": "IOError",
       "evalue": "[Errno 2] No such file or directory: 'logs/discrete/DR12300230914.1r.exp.log.phase2.amp_and_freq.hmms'",
       "output_type": "pyerr",
       "traceback": [
        "\u001b[1;31m---------------------------------------------------------------------------\u001b[0m\n\u001b[1;31mIOError\u001b[0m                                   Traceback (most recent call last)",
        "\u001b[1;32m<ipython-input-33-44db48158626>\u001b[0m in \u001b[0;36m<module>\u001b[1;34m()\u001b[0m\n\u001b[0;32m     55\u001b[0m             \u001b[1;32mprint\u001b[0m \u001b[0mtitle\u001b[0m\u001b[1;33m(\u001b[0m\u001b[0mimage\u001b[0m\u001b[1;33m)\u001b[0m\u001b[1;33m\u001b[0m\u001b[0m\n\u001b[0;32m     56\u001b[0m             \u001b[0mhmm_file\u001b[0m \u001b[1;33m=\u001b[0m \u001b[0mto_hmm_file\u001b[0m\u001b[1;33m(\u001b[0m\u001b[0mid\u001b[0m\u001b[1;33m,\u001b[0m \u001b[0mphase\u001b[0m\u001b[1;33m,\u001b[0m \u001b[1;34m\"amp_and_freq\"\u001b[0m\u001b[1;33m)\u001b[0m\u001b[1;33m\u001b[0m\u001b[0m\n\u001b[1;32m---> 57\u001b[1;33m             \u001b[0mresults\u001b[0m \u001b[1;33m=\u001b[0m \u001b[0munpickle_results\u001b[0m\u001b[1;33m(\u001b[0m\u001b[0mhmm_file\u001b[0m\u001b[1;33m)\u001b[0m\u001b[1;33m\u001b[0m\u001b[0m\n\u001b[0m\u001b[0;32m     58\u001b[0m             \u001b[0mhmm\u001b[0m\u001b[1;33m,\u001b[0m \u001b[0mbic\u001b[0m \u001b[1;33m=\u001b[0m \u001b[0mpick_lowest_bic\u001b[0m\u001b[1;33m(\u001b[0m\u001b[0mresults\u001b[0m\u001b[1;33m.\u001b[0m\u001b[0mhmms\u001b[0m\u001b[1;33m)\u001b[0m\u001b[1;33m\u001b[0m\u001b[0m\n\u001b[0;32m     59\u001b[0m             \u001b[1;31m# ...and send it to R\u001b[0m\u001b[1;33m\u001b[0m\u001b[1;33m\u001b[0m\u001b[0m\n",
        "\u001b[1;32m/shared/Dropbox/ABACUS/Workspace/LeapArticulator/StreamlinedDataAnalysisGhmm.pyc\u001b[0m in \u001b[0;36munpickle_results\u001b[1;34m(filename_log, phase, units)\u001b[0m\n\u001b[0;32m    463\u001b[0m         \u001b[1;32melse\u001b[0m\u001b[1;33m:\u001b[0m\u001b[1;33m\u001b[0m\u001b[0m\n\u001b[0;32m    464\u001b[0m             \u001b[0mextension\u001b[0m \u001b[1;33m=\u001b[0m \u001b[1;34m\".phase%d.hmms\"\u001b[0m \u001b[1;33m%\u001b[0m \u001b[1;33m(\u001b[0m\u001b[0mphase\u001b[0m\u001b[1;33m)\u001b[0m\u001b[1;33m\u001b[0m\u001b[0m\n\u001b[1;32m--> 465\u001b[1;33m     \u001b[1;32mwith\u001b[0m \u001b[0mopen\u001b[0m\u001b[1;33m(\u001b[0m\u001b[0mfilename_log\u001b[0m \u001b[1;33m+\u001b[0m \u001b[0mextension\u001b[0m\u001b[1;33m,\u001b[0m \u001b[1;34m\"r\"\u001b[0m\u001b[1;33m)\u001b[0m \u001b[1;32mas\u001b[0m \u001b[0mf\u001b[0m\u001b[1;33m:\u001b[0m\u001b[1;33m\u001b[0m\u001b[0m\n\u001b[0m\u001b[0;32m    466\u001b[0m         \u001b[0mhmms\u001b[0m \u001b[1;33m=\u001b[0m  \u001b[0mjsonpickle\u001b[0m\u001b[1;33m.\u001b[0m\u001b[0mdecode\u001b[0m\u001b[1;33m(\u001b[0m\u001b[0mf\u001b[0m\u001b[1;33m.\u001b[0m\u001b[0mreadline\u001b[0m\u001b[1;33m(\u001b[0m\u001b[1;33m)\u001b[0m\u001b[1;33m.\u001b[0m\u001b[0mrstrip\u001b[0m\u001b[1;33m(\u001b[0m\u001b[1;33m)\u001b[0m\u001b[1;33m)\u001b[0m\u001b[1;33m\u001b[0m\u001b[0m\n\u001b[0;32m    467\u001b[0m         \u001b[0mds\u001b[0m \u001b[1;33m=\u001b[0m  \u001b[0mjsonpickle\u001b[0m\u001b[1;33m.\u001b[0m\u001b[0mdecode\u001b[0m\u001b[1;33m(\u001b[0m\u001b[0mf\u001b[0m\u001b[1;33m.\u001b[0m\u001b[0mreadline\u001b[0m\u001b[1;33m(\u001b[0m\u001b[1;33m)\u001b[0m\u001b[1;33m.\u001b[0m\u001b[0mrstrip\u001b[0m\u001b[1;33m(\u001b[0m\u001b[1;33m)\u001b[0m\u001b[1;33m)\u001b[0m\u001b[1;33m\u001b[0m\u001b[0m\n",
        "\u001b[1;31mIOError\u001b[0m: [Errno 2] No such file or directory: 'logs/discrete/DR12300230914.1r.exp.log.phase2.amp_and_freq.hmms'"
       ]
      }
     ],
     "prompt_number": 33
    },
    {
     "cell_type": "code",
     "collapsed": false,
     "input": [
      "ids[-1]"
     ],
     "language": "python",
     "metadata": {},
     "outputs": [
      {
       "metadata": {},
       "output_type": "pyout",
       "prompt_number": 20,
       "text": [
        "'1230105514.master'"
       ]
      }
     ],
     "prompt_number": 20
    },
    {
     "cell_type": "code",
     "collapsed": false,
     "input": [
      "%load_ext sage\n",
      "from random import random\n",
      "states = 3\n",
      "transmat = np.asarray([[.2,.3,.5],[.3, .6, .1], [.5, .3, .2]])\n",
      "initProb = np.asarray([.3,.3,.4])\n",
      "means = np.asarray([(i,i) for i in range(states)])\n",
      "spreads = np.asarray([[[i,i],[i,i]] for i in range(states)])\n",
      "print \"Transmat\", transmat\n",
      "print \"Init\", initProb\n",
      "print \"Mean\", means\n",
      "print \"Spread\", spreads\n",
      "x = [[mean, spread] for mean, spread in zip(means, spreads)]\n",
      "print x\n",
      "hmm.GaussianHiddenMarkovModel(transmat, x, initProb)"
     ],
     "language": "python",
     "metadata": {},
     "outputs": [
      {
       "output_type": "stream",
       "stream": "stdout",
       "text": [
        "The sage extension is already loaded. To reload it, use:\n",
        "  %reload_ext sage\n",
        "Transmat [[ 0.2  0.3  0.5]\n",
        " [ 0.3  0.6  0.1]\n",
        " [ 0.5  0.3  0.2]]\n",
        "Init [ 0.3  0.3  0.4]\n",
        "Mean [[0 0]\n",
        " [1 1]\n",
        " [2 2]]\n",
        "Spread [[[0 0]\n",
        "  [0 0]]\n",
        "\n",
        " [[1 1]\n",
        "  [1 1]]\n",
        "\n",
        " [[2 2]\n",
        "  [2 2]]]\n",
        "[[array([0, 0]), array([[0, 0],\n",
        "       [0, 0]])], [array([1, 1]), array([[1, 1],\n",
        "       [1, 1]])], [array([2, 2]), array([[2, 2],\n",
        "       [2, 2]])]]\n"
       ]
      },
      {
       "ename": "TypeError",
       "evalue": "only length-1 arrays can be converted to Python scalars",
       "output_type": "pyerr",
       "traceback": [
        "\u001b[1;31m---------------------------------------------------------------------------\u001b[0m\n\u001b[1;31mTypeError\u001b[0m                                 Traceback (most recent call last)",
        "\u001b[1;32m<ipython-input-16-e114e5e1839a>\u001b[0m in \u001b[0;36m<module>\u001b[1;34m()\u001b[0m\n\u001b[0;32m     12\u001b[0m \u001b[0mx\u001b[0m \u001b[1;33m=\u001b[0m \u001b[1;33m[\u001b[0m\u001b[1;33m[\u001b[0m\u001b[0mmean\u001b[0m\u001b[1;33m,\u001b[0m \u001b[0mspread\u001b[0m\u001b[1;33m]\u001b[0m \u001b[1;32mfor\u001b[0m \u001b[0mmean\u001b[0m\u001b[1;33m,\u001b[0m \u001b[0mspread\u001b[0m \u001b[1;32min\u001b[0m \u001b[0mzip\u001b[0m\u001b[1;33m(\u001b[0m\u001b[0mmeans\u001b[0m\u001b[1;33m,\u001b[0m \u001b[0mspreads\u001b[0m\u001b[1;33m)\u001b[0m\u001b[1;33m]\u001b[0m\u001b[1;33m\u001b[0m\u001b[0m\n\u001b[0;32m     13\u001b[0m \u001b[1;32mprint\u001b[0m \u001b[0mx\u001b[0m\u001b[1;33m\u001b[0m\u001b[0m\n\u001b[1;32m---> 14\u001b[1;33m \u001b[0mhmm\u001b[0m\u001b[1;33m.\u001b[0m\u001b[0mGaussianHiddenMarkovModel\u001b[0m\u001b[1;33m(\u001b[0m\u001b[0mtransmat\u001b[0m\u001b[1;33m,\u001b[0m \u001b[0mx\u001b[0m\u001b[1;33m,\u001b[0m \u001b[0minitProb\u001b[0m\u001b[1;33m)\u001b[0m\u001b[1;33m\u001b[0m\u001b[0m\n\u001b[0m",
        "\u001b[1;32m/home/kerem/sage/local/lib/python2.7/site-packages/sage/stats/hmm/chmm.so\u001b[0m in \u001b[0;36msage.stats.hmm.chmm.GaussianHiddenMarkovModel.__init__ (build/cythonized/sage/stats/hmm/chmm.c:1646)\u001b[1;34m()\u001b[0m\n",
        "\u001b[1;32m/home/kerem/sage/local/lib/python2.7/site-packages/sage/finance/time_series.so\u001b[0m in \u001b[0;36msage.finance.time_series.TimeSeries.__init__ (build/cythonized/sage/finance/time_series.c:3737)\u001b[1;34m()\u001b[0m\n",
        "\u001b[1;31mTypeError\u001b[0m: only length-1 arrays can be converted to Python scalars"
       ]
      }
     ],
     "prompt_number": 16
    },
    {
     "cell_type": "code",
     "collapsed": false,
     "input": [
      "from LeapTheremin import palmToAmpAndFreq, freqToMel\n",
      "import numpy as np"
     ],
     "language": "python",
     "metadata": {},
     "outputs": []
    },
    {
     "cell_type": "code",
     "collapsed": false,
     "input": [
      "grid_x = np.linspace(-250,250,30)\n",
      "grid_y = np.linspace(1,500,30)\n",
      "grid_z = grid_y"
     ],
     "language": "python",
     "metadata": {},
     "outputs": []
    },
    {
     "cell_type": "code",
     "collapsed": false,
     "input": [
      "from itertools import product\n",
      "f = figure()\n",
      "x, y, z = zip(*[i for i in product(grid_x, grid_y, grid_z)])\n",
      "scatter(x,y,s=2,color='blue')\n",
      "f.suptitle('XY Projection')\n",
      "figure().suptitle('Amplitude/Frequency Projection')\n",
      "y, x = zip(*[palmToAmpAndFreq(i) for i in product(grid_x, grid_y, grid_z)])\n",
      "scatter(x,y,s=2,color='blue')\n",
      "\n",
      "figure().suptitle('Amplitude/MelFrequency Projection')\n",
      "x = [freqToMel(xx) for xx in x]\n",
      "scatter(x,y,s=2,color='blue')"
     ],
     "language": "python",
     "metadata": {},
     "outputs": []
    },
    {
     "cell_type": "code",
     "collapsed": false,
     "input": [
      "%matplotlib qt\n",
      "from matplotlib import pylab\n",
      "from LeapTheremin import palmToAmpAndFreq\n",
      "pylab.figure()\n",
      "id = \"132R0128514.2r\"\n",
      "responses, tests, responses_t, tests_t, images = fromFile(to_log(id))\n",
      "responses = responses['127.0.0.1']\n",
      "hmm_file = to_hmm_file(id, phase, \"amp_and_freq\")\n",
      "results = unpickle_results(hmm_file)\n",
      "hmm, bic = pick_lowest_bic(results.hmms)\n",
      "print hmm.means\n",
      "reload(HMMPlotting)\n",
      "HMMPlotting.plot_hmm(hmm.means, hmm.transmat, hmm.variances)\n",
      "# data = [f.get_stabilized_position() for f in responses['1'][\"./img/meanings/3_5.png\"]]\n",
      "data = HMMPlotting.to_trajectory_object([v for v in responses['1'].values()], units=\"amp_and_freq\")\n",
      "# print data\n",
      "HMMPlotting.plot_trajectories(data)\n",
      "pylab.show()"
     ],
     "language": "python",
     "metadata": {},
     "outputs": [
      {
       "output_type": "stream",
       "stream": "stdout",
       "text": [
        "[(453.17045364897325, 0.5809908336423609), (594.297067342512, 0.5946998339276591), (768.3679276588274, 0.5803813574517238), (821.2643821255696, 0.5265176442513116), (852.7837368947498, 0.5970188082770583), (645.3037138741748, 0.45157612718960427), (508.7052015331955, 0.6266944593587013), (510.999669336263, 0.3667939065249422)]\n",
        "[(0.0, 0.0, 0.0), (0.1, 0.05, 0.03333333333333333), (0.2, 0.1, 0.06666666666666667), (0.3, 0.15, 0.1), (0.4, 0.2, 0.13333333333333333), (0.5, 0.25, 0.16666666666666666), (0.6, 0.3, 0.2), (0.7, 0.35, 0.23333333333333334), (0.8, 0.4, 0.26666666666666666), (0.9, 0.45, 0.3)]\n",
        "Means of the state: [453.17045364897325, 0.5809908336423609]"
       ]
      },
      {
       "output_type": "stream",
       "stream": "stdout",
       "text": [
        "\n",
        "Angle: [[-0.12250574]]\n",
        "State0 is (0.0, 0.0, 0.0)\n",
        "Means of the state: [594.297067342512, 0.5946998339276591]\n",
        "Angle: [[ 0.03023629]]\n",
        "State1 is (0.1, 0.05, 0.03333333333333333)\n",
        "Means of the state: [768.3679276588274, 0.5803813574517238]\n",
        "Angle: [[-0.0194461]]\n",
        "State2 is (0.2, 0.1, 0.06666666666666667)\n",
        "Means of the state: [821.2643821255696, 0.5265176442513116]\n",
        "Angle: [[ 0.0067428]]\n",
        "State3 is (0.3, 0.15, 0.1)\n",
        "Means of the state: [852.7837368947498, 0.5970188082770583]\n",
        "Angle: [[-0.0018764]]\n",
        "State4 is (0.4, 0.2, 0.13333333333333333)\n",
        "Means of the state: [645.3037138741748, 0.45157612718960427]\n",
        "Angle: [[ 0.05185438]]\n",
        "State5 is (0.5, 0.25, 0.16666666666666666)\n",
        "Means of the state: [508.7052015331955, 0.6266944593587013]\n",
        "Angle: [[-0.08656481]]\n",
        "State6 is (0.6, 0.3, 0.2)\n",
        "Means of the state: [510.999669336263, 0.3667939065249422]\n",
        "Angle: [[-0.01649549]]\n",
        "State7 is (0.7, 0.35, 0.23333333333333334)\n"
       ]
      },
      {
       "ename": "NameError",
       "evalue": "global name 'hidden_states' is not defined",
       "output_type": "pyerr",
       "traceback": [
        "\u001b[1;31m---------------------------------------------------------------------------\u001b[0m\n\u001b[1;31mNameError\u001b[0m                                 Traceback (most recent call last)",
        "\u001b[1;32m<ipython-input-137-f8108ab1a7d8>\u001b[0m in \u001b[0;36m<module>\u001b[1;34m()\u001b[0m\n\u001b[0;32m     15\u001b[0m \u001b[0mdata\u001b[0m \u001b[1;33m=\u001b[0m \u001b[0mHMMPlotting\u001b[0m\u001b[1;33m.\u001b[0m\u001b[0mto_trajectory_object\u001b[0m\u001b[1;33m(\u001b[0m\u001b[1;33m[\u001b[0m\u001b[0mv\u001b[0m \u001b[1;32mfor\u001b[0m \u001b[0mv\u001b[0m \u001b[1;32min\u001b[0m \u001b[0mresponses\u001b[0m\u001b[1;33m[\u001b[0m\u001b[1;34m'1'\u001b[0m\u001b[1;33m]\u001b[0m\u001b[1;33m.\u001b[0m\u001b[0mvalues\u001b[0m\u001b[1;33m(\u001b[0m\u001b[1;33m)\u001b[0m\u001b[1;33m]\u001b[0m\u001b[1;33m,\u001b[0m \u001b[0munits\u001b[0m\u001b[1;33m=\u001b[0m\u001b[1;34m\"amp_and_freq\"\u001b[0m\u001b[1;33m)\u001b[0m\u001b[1;33m\u001b[0m\u001b[0m\n\u001b[0;32m     16\u001b[0m \u001b[1;31m# print data\u001b[0m\u001b[1;33m\u001b[0m\u001b[1;33m\u001b[0m\u001b[0m\n\u001b[1;32m---> 17\u001b[1;33m \u001b[0mHMMPlotting\u001b[0m\u001b[1;33m.\u001b[0m\u001b[0mplot_trajectories\u001b[0m\u001b[1;33m(\u001b[0m\u001b[0mdata\u001b[0m\u001b[1;33m)\u001b[0m\u001b[1;33m\u001b[0m\u001b[0m\n\u001b[0m\u001b[0;32m     18\u001b[0m \u001b[0mpylab\u001b[0m\u001b[1;33m.\u001b[0m\u001b[0mshow\u001b[0m\u001b[1;33m(\u001b[0m\u001b[1;33m)\u001b[0m\u001b[1;33m\u001b[0m\u001b[0m\n",
        "\u001b[1;32m/shared/Dropbox/ABACUS/Workspace/LeapArticulator/HMMPlotting.py\u001b[0m in \u001b[0;36mplot_trajectories\u001b[1;34m(trajectories)\u001b[0m\n\u001b[0;32m    124\u001b[0m         \u001b[0mstate_counts\u001b[0m \u001b[1;33m=\u001b[0m \u001b[0mdefaultdict\u001b[0m\u001b[1;33m(\u001b[0m\u001b[0mint\u001b[0m\u001b[1;33m)\u001b[0m\u001b[1;33m\u001b[0m\u001b[0m\n\u001b[0;32m    125\u001b[0m         \u001b[1;32mfor\u001b[0m \u001b[0mx\u001b[0m\u001b[1;33m,\u001b[0m\u001b[0my\u001b[0m \u001b[1;32min\u001b[0m \u001b[0mtrajectory\u001b[0m\u001b[1;33m.\u001b[0m\u001b[0mdata\u001b[0m\u001b[1;33m:\u001b[0m\u001b[1;33m\u001b[0m\u001b[0m\n\u001b[1;32m--> 126\u001b[1;33m             \u001b[0mstate\u001b[0m \u001b[1;33m=\u001b[0m \u001b[0mhidden_states\u001b[0m\u001b[1;33m[\u001b[0m\u001b[0mcounter\u001b[0m\u001b[1;33m]\u001b[0m\u001b[1;33m\u001b[0m\u001b[0m\n\u001b[0m\u001b[0;32m    127\u001b[0m             \u001b[0mstate_counts\u001b[0m\u001b[1;33m[\u001b[0m\u001b[0mstate\u001b[0m\u001b[1;33m]\u001b[0m \u001b[1;33m+=\u001b[0m \u001b[1;36m1\u001b[0m\u001b[1;33m\u001b[0m\u001b[0m\n\u001b[0;32m    128\u001b[0m             \u001b[0mtrajectory_in_state_space\u001b[0m\u001b[1;33m.\u001b[0m\u001b[0mappend\u001b[0m\u001b[1;33m(\u001b[0m\u001b[0mtuple\u001b[0m\u001b[1;33m(\u001b[0m\u001b[0mmodel\u001b[0m\u001b[1;33m.\u001b[0m\u001b[0mmeans_\u001b[0m\u001b[1;33m[\u001b[0m\u001b[0mstate\u001b[0m\u001b[1;33m]\u001b[0m\u001b[1;33m)\u001b[0m\u001b[1;33m)\u001b[0m\u001b[1;33m\u001b[0m\u001b[0m\n",
        "\u001b[1;31mNameError\u001b[0m: global name 'hidden_states' is not defined"
       ]
      }
     ],
     "prompt_number": 137
    },
    {
     "cell_type": "code",
     "collapsed": false,
     "input": [
      "results = unpickle_results(\"logs/ghmm/132R0128514.2r.exp.log.phase1\")"
     ],
     "language": "python",
     "metadata": {},
     "outputs": [],
     "prompt_number": 6
    },
    {
     "cell_type": "code",
     "collapsed": false,
     "input": [
      "responses, test_results, responses_practice, test_results_practice, images = fromFile(\"logs/132R0128514.2r.exp.log\")"
     ],
     "language": "python",
     "metadata": {},
     "outputs": [],
     "prompt_number": 33
    },
    {
     "cell_type": "code",
     "collapsed": false,
     "input": [
      "import pandas as pd\n",
      "len(responses['127.0.0.1']['1']['./img/meanings/1_1.png'])"
     ],
     "language": "python",
     "metadata": {},
     "outputs": [
      {
       "metadata": {},
       "output_type": "pyout",
       "prompt_number": 77,
       "text": [
        "67"
       ]
      }
     ],
     "prompt_number": 77
    },
    {
     "cell_type": "code",
     "collapsed": false,
     "input": [],
     "language": "python",
     "metadata": {},
     "outputs": []
    }
   ],
   "metadata": {}
  }
 ]
}