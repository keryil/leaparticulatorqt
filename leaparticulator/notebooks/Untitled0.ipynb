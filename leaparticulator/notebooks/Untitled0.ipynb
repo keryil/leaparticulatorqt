{
 "metadata": {
  "name": "",
  "signature": "sha256:ed37c18ebca6be263e88a18dfa977ce428e7fdae5365b376cee99f5a1c6a58c0"
 },
 "nbformat": 3,
 "nbformat_minor": 0,
 "worksheets": [
  {
   "cells": [
    {
     "cell_type": "code",
     "collapsed": false,
     "input": [
      "import ghmm"
     ],
     "language": "python",
     "metadata": {},
     "outputs": [
      {
       "ename": "ImportError",
       "evalue": "No module named ghmm",
       "output_type": "pyerr",
       "traceback": [
        "\u001b[1;31m---------------------------------------------------------------------------\u001b[0m\n\u001b[1;31mImportError\u001b[0m                               Traceback (most recent call last)",
        "\u001b[1;32m<ipython-input-1-8b8d4b08bb46>\u001b[0m in \u001b[0;36m<module>\u001b[1;34m()\u001b[0m\n\u001b[1;32m----> 1\u001b[1;33m \u001b[1;32mimport\u001b[0m \u001b[0mghmm\u001b[0m\u001b[1;33m\u001b[0m\u001b[0m\n\u001b[0m",
        "\u001b[1;31mImportError\u001b[0m: No module named ghmm"
       ]
      }
     ],
     "prompt_number": 1
    },
    {
     "cell_type": "code",
     "collapsed": false,
     "input": [
      "%matplotlib inline\n",
      "import matplotlib.pyplot as plt\n",
      "import numpy as np\n",
      "import pymc as pm"
     ],
     "language": "python",
     "metadata": {},
     "outputs": [],
     "prompt_number": 10
    },
    {
     "cell_type": "code",
     "collapsed": false,
     "input": [
      "data_x = np.linspace(0,100,100)\n",
      "true_a = 5.\n",
      "true_b = 2.\n",
      "data_y = data_x * true_a + true_b\n",
      "data_y = map(lambda x: x + np.random.normal(0,75.), data_y)\n",
      "print data_x, data_y"
     ],
     "language": "python",
     "metadata": {},
     "outputs": [
      {
       "output_type": "stream",
       "stream": "stdout",
       "text": [
        "[   0.            1.01010101    2.02020202    3.03030303    4.04040404\n",
        "    5.05050505    6.06060606    7.07070707    8.08080808    9.09090909\n",
        "   10.1010101    11.11111111   12.12121212   13.13131313   14.14141414\n",
        "   15.15151515   16.16161616   17.17171717   18.18181818   19.19191919\n",
        "   20.2020202    21.21212121   22.22222222   23.23232323   24.24242424\n",
        "   25.25252525   26.26262626   27.27272727   28.28282828   29.29292929\n",
        "   30.3030303    31.31313131   32.32323232   33.33333333   34.34343434\n",
        "   35.35353535   36.36363636   37.37373737   38.38383838   39.39393939\n",
        "   40.4040404    41.41414141   42.42424242   43.43434343   44.44444444\n",
        "   45.45454545   46.46464646   47.47474747   48.48484848   49.49494949\n",
        "   50.50505051   51.51515152   52.52525253   53.53535354   54.54545455\n",
        "   55.55555556   56.56565657   57.57575758   58.58585859   59.5959596\n",
        "   60.60606061   61.61616162   62.62626263   63.63636364   64.64646465\n",
        "   65.65656566   66.66666667   67.67676768   68.68686869   69.6969697\n",
        "   70.70707071   71.71717172   72.72727273   73.73737374   74.74747475\n",
        "   75.75757576   76.76767677   77.77777778   78.78787879   79.7979798\n",
        "   80.80808081   81.81818182   82.82828283   83.83838384   84.84848485\n",
        "   85.85858586   86.86868687   87.87878788   88.88888889   89.8989899\n",
        "   90.90909091   91.91919192   92.92929293   93.93939394   94.94949495\n",
        "   95.95959596   96.96969697   97.97979798   98.98989899  100.        ] [-5.8018720749555861, 37.175952023429595, 100.68832336583179, -78.2560979709789, -82.915139242896416, 138.28646769934642, 43.17100307891878, 41.135668936963185, -30.665182204640793, 93.95196161370751, 104.13687658027033, 56.48455839834849, 146.32420955209344, 151.34205288906571, 57.027774581082781, 116.89965176985362, 83.190695997333719, 134.26167478500497, 186.37610239534462, 14.137626771882381, 141.26279941292927, 92.100185118041324, 56.468074905245501, 55.52060356758814, 222.61246796096168, 227.76069797121264, 198.16984071523257, 216.16329398831255, 166.10478927705765, 73.265811144332034, 264.61955238444523, 212.03118079879133, 132.55034032989735, 199.23586077589357, 280.86480853559704, 377.41126762987119, 33.683567560435961, 100.79917637201126, 261.86129683571312, 157.44777748446293, 175.87389532192367, 111.73647041250463, 371.49411272179373, 154.21007395310568, 218.52195882282155, 258.74412780282159, 266.66592068991599, 419.69645251099053, 192.61386189050751, 154.1092547939553, 252.44052596246453, 239.52872643896561, 220.45244003661821, 337.31070104101218, 339.14131213212573, 222.61005695797823, 215.04061393228309, 467.10453715647111, 231.94551934090944, 273.23541299144898, 323.71734403646457, 324.79512518863066, 359.78168973038544, 296.76039653179402, 284.90436700606608, 359.87639344541259, 375.38345490987575, 292.25623846015691, 336.8381603967436, 256.62213007878347, 308.93501506788959, 400.4623597098302, 368.83327855227481, 404.2630999032819, 350.68479161538744, 492.44306594709496, 329.62865652529769, 290.55571403134775, 386.14593498564363, 383.24206933513955, 346.92297932022331, 386.39252784854864, 356.30924962008913, 225.76940628003524, 494.50372137447641, 464.86751908119606, 542.61692579267537, 504.79160394883371, 516.73894354856782, 377.46383788047444, 499.60307041761604, 327.55164619813524, 485.32363283318733, 475.06966203980511, 495.22797497274007, 584.47070807361388, 576.704238004123, 501.45059127348992, 489.08768248364589, 420.14488294778693]\n"
       ]
      }
     ],
     "prompt_number": 31
    },
    {
     "cell_type": "code",
     "collapsed": false,
     "input": [
      "plt.scatter(data_x, data_y)"
     ],
     "language": "python",
     "metadata": {},
     "outputs": [
      {
       "metadata": {},
       "output_type": "pyout",
       "prompt_number": 32,
       "text": [
        "<matplotlib.collections.PathCollection at 0x10ba75f10>"
       ]
      },
      {
       "metadata": {},
       "output_type": "display_data",
       "png": "[encoded data removed]",
       "text": [
        "<matplotlib.figure.Figure at 0x10b556e10>"
       ]
      }
     ],
     "prompt_number": 32
    },
    {
     "cell_type": "code",
     "collapsed": false,
     "input": [
      "import pymc as pm\n",
      "alpha = pm.Uniform(\"alpha\", -10,10)\n",
      "beta = pm.Uniform(\"beta\", -10,10)\n",
      "y = pm.Normal(\"y\", alpha * data_x + beta)"
     ],
     "language": "python",
     "metadata": {},
     "outputs": [
      {
       "ename": "ValueError",
       "evalue": "No value given for parent tau",
       "output_type": "pyerr",
       "traceback": [
        "\u001b[0;31m---------------------------------------------------------------------------\u001b[0m\n\u001b[0;31mValueError\u001b[0m                                Traceback (most recent call last)",
        "\u001b[0;32m<ipython-input-37-ecf3031e6caa>\u001b[0m in \u001b[0;36m<module>\u001b[0;34m()\u001b[0m\n\u001b[1;32m      2\u001b[0m \u001b[0malpha\u001b[0m \u001b[0;34m=\u001b[0m \u001b[0mpm\u001b[0m\u001b[0;34m.\u001b[0m\u001b[0mUniform\u001b[0m\u001b[0;34m(\u001b[0m\u001b[0;34m\"alpha\"\u001b[0m\u001b[0;34m,\u001b[0m \u001b[0;34m-\u001b[0m\u001b[0;36m10\u001b[0m\u001b[0;34m,\u001b[0m\u001b[0;36m10\u001b[0m\u001b[0;34m)\u001b[0m\u001b[0;34m\u001b[0m\u001b[0m\n\u001b[1;32m      3\u001b[0m \u001b[0mbeta\u001b[0m \u001b[0;34m=\u001b[0m \u001b[0mpm\u001b[0m\u001b[0;34m.\u001b[0m\u001b[0mUniform\u001b[0m\u001b[0;34m(\u001b[0m\u001b[0;34m\"beta\"\u001b[0m\u001b[0;34m,\u001b[0m \u001b[0;34m-\u001b[0m\u001b[0;36m10\u001b[0m\u001b[0;34m,\u001b[0m\u001b[0;36m10\u001b[0m\u001b[0;34m)\u001b[0m\u001b[0;34m\u001b[0m\u001b[0m\n\u001b[0;32m----> 4\u001b[0;31m \u001b[0my\u001b[0m \u001b[0;34m=\u001b[0m \u001b[0mpm\u001b[0m\u001b[0;34m.\u001b[0m\u001b[0mNormal\u001b[0m\u001b[0;34m(\u001b[0m\u001b[0;34m\"y\"\u001b[0m\u001b[0;34m,\u001b[0m \u001b[0malpha\u001b[0m \u001b[0;34m*\u001b[0m \u001b[0mdata_x\u001b[0m \u001b[0;34m+\u001b[0m \u001b[0mbeta\u001b[0m\u001b[0;34m)\u001b[0m\u001b[0;34m\u001b[0m\u001b[0m\n\u001b[0m",
        "\u001b[0;32m/usr/local/lib/python2.7/site-packages/pymc/distributions.pyc\u001b[0m in \u001b[0;36m__init__\u001b[0;34m(self, *args, **kwds)\u001b[0m\n\u001b[1;32m    224\u001b[0m                             \u001b[0mparents\u001b[0m\u001b[0;34m[\u001b[0m\u001b[0mk\u001b[0m\u001b[0;34m]\u001b[0m \u001b[0;34m=\u001b[0m \u001b[0mparents_default\u001b[0m\u001b[0;34m[\u001b[0m\u001b[0mk\u001b[0m\u001b[0;34m]\u001b[0m\u001b[0;34m\u001b[0m\u001b[0m\n\u001b[1;32m    225\u001b[0m                         \u001b[0;32melse\u001b[0m\u001b[0;34m:\u001b[0m\u001b[0;34m\u001b[0m\u001b[0m\n\u001b[0;32m--> 226\u001b[0;31m                             \u001b[0;32mraise\u001b[0m \u001b[0mValueError\u001b[0m\u001b[0;34m(\u001b[0m\u001b[0;34m'No value given for parent '\u001b[0m \u001b[0;34m+\u001b[0m \u001b[0mk\u001b[0m\u001b[0;34m)\u001b[0m\u001b[0;34m\u001b[0m\u001b[0m\n\u001b[0m\u001b[1;32m    227\u001b[0m                 \u001b[0;32melif\u001b[0m \u001b[0mk\u001b[0m \u001b[0;32min\u001b[0m \u001b[0marg_dict_out\u001b[0m\u001b[0;34m.\u001b[0m\u001b[0mkeys\u001b[0m\u001b[0;34m(\u001b[0m\u001b[0;34m)\u001b[0m\u001b[0;34m:\u001b[0m\u001b[0;34m\u001b[0m\u001b[0m\n\u001b[1;32m    228\u001b[0m                     \u001b[0;32mtry\u001b[0m\u001b[0;34m:\u001b[0m\u001b[0;34m\u001b[0m\u001b[0m\n",
        "\u001b[0;31mValueError\u001b[0m: No value given for parent tau"
       ]
      }
     ],
     "prompt_number": 37
    },
    {
     "cell_type": "code",
     "collapsed": false,
     "input": [
      "alpha"
     ],
     "language": "python",
     "metadata": {},
     "outputs": [
      {
       "metadata": {},
       "output_type": "pyout",
       "prompt_number": 35,
       "text": [
        "<pymc.distributions.Uniform 'alpha' at 0x10baa9bd0>"
       ]
      }
     ],
     "prompt_number": 35
    }
   ],
   "metadata": {}
  }
 ]
}