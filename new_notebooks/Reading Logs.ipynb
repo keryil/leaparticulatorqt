{
 "cells": [
  {
   "cell_type": "code",
   "execution_count": 1,
   "metadata": {
    "collapsed": true,
    "pycharm": {
     "is_executing": false
    }
   },
   "outputs": [],
   "source": [
    "from leaparticulator.data.functions import fromFile"
   ]
  },
  {
   "cell_type": "code",
   "execution_count": 3,
   "outputs": [
    {
     "name": "stdout",
     "text": [
      "../leaparticulator/test/test_data/123R0126514.1r.exp.log - OK\n",
      "Phase 0 starts at round 0\n",
      "Phase 1 starts at round 4\n",
      "Phase 2 starts at round 17\n",
      "Phase 3 starts at round 23\n",
      "Phase 4 starts at round 28\n",
      "Phase 5 starts at round 39\n",
      "Phase 6 starts at round 49\n",
      "Phase 7 starts at round 59\n",
      "../leaparticulator/test/test_data/P2P-160203.170804.REALDATA.1.exp.log - OK\n",
      "../leaparticulator/test/test_data/FL4.1.exp.log - NOK\n",
      "unhashable type: 'dict'\n",
      "Phase 0 starts at round 0\n",
      "Phase 1 starts at round 4\n",
      "Phase 2 starts at round 11\n",
      "Phase 3 starts at round 41\n",
      "Phase 4 starts at round 47\n",
      "Phase 5 starts at round 58\n",
      "Phase 6 starts at round 66\n",
      "Phase 7 starts at round 75\n",
      "../leaparticulator/test/test_data/P2P-160209.144607.realdata.1.exp.log - OK\n",
      "../leaparticulator/test/test_data/OS3.1.exp.log - NOK\n",
      "unhashable type: 'dict'\n",
      "Phase 0 starts at round 0\n",
      "Phase 1 starts at round 4\n",
      "Phase 2 starts at round 12\n",
      "Phase 3 starts at round 17\n",
      "Phase 4 starts at round 28\n",
      "Phase 5 starts at round 38\n",
      "Phase 6 starts at round 48\n",
      "Phase 7 starts at round 53\n",
      "../leaparticulator/test/test_data/P2P-160204.121143.1.exp.log - OK\n",
      "../leaparticulator/test/test_data/DUR3.1.exp.log - NOK\n",
      "unhashable type: 'dict'\n",
      "../leaparticulator/test/test_data/D12300130914.1.exp.log - OK\n"
     ],
     "output_type": "stream"
    }
   ],
   "source": [
    "# let's try each test file\n",
    "from glob import glob\n",
    "for file in glob(\"../leaparticulator/test/test_data/*.exp.log\"):\n",
    "    try:\n",
    "        fromFile(file)\n",
    "        print(\"{} - OK\".format(file))\n",
    "    except Exception as err:\n",
    "        print(\"{} - NOK\".format(file))\n",
    "        print(err)"
   ],
   "metadata": {
    "collapsed": false,
    "pycharm": {
     "name": "#%%\n",
     "is_executing": false
    }
   }
  },
  {
   "cell_type": "code",
   "execution_count": null,
   "outputs": [],
   "source": [
    "\n"
   ],
   "metadata": {
    "collapsed": false,
    "pycharm": {
     "name": "#%%\n"
    }
   }
  }
 ],
 "metadata": {
  "kernelspec": {
   "display_name": "Python 3",
   "language": "python",
   "name": "python3"
  },
  "language_info": {
   "codemirror_mode": {
    "name": "ipython",
    "version": 2
   },
   "file_extension": ".py",
   "mimetype": "text/x-python",
   "name": "python",
   "nbconvert_exporter": "python",
   "pygments_lexer": "ipython2",
   "version": "2.7.6"
  },
  "pycharm": {
   "stem_cell": {
    "cell_type": "raw",
    "source": [],
    "metadata": {
     "collapsed": false
    }
   }
  }
 },
 "nbformat": 4,
 "nbformat_minor": 0
}