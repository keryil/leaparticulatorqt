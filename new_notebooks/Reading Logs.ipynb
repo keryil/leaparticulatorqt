{
 "cells": [
  {
   "cell_type": "code",
   "execution_count": 1,
   "metadata": {
    "collapsed": true
   },
   "outputs": [],
   "source": [
    "%load_ext autoreload\n",
    "%autoreload 2\n",
    "from leaparticulator.data.functions import fromFile, toPandas_p2p, logToPandasFrame"
   ]
  },
  {
   "cell_type": "code",
   "execution_count": 2,
   "outputs": [
    {
     "name": "stdout",
     "output_type": "stream",
     "text": [
      "********\n",
      "../leaparticulator/test/test_data/123R0126514.1r.exp.log - OK\n",
      "********\n",
      "No QT, P2PClient functioning as a library.\n",
      "No QT, P2PServer functioning as a library.\n",
      "Phase 0 starts at round 0\n",
      "Phase 1 starts at round 4\n",
      "Phase 2 starts at round 17\n",
      "Phase 3 starts at round 23\n",
      "Phase 4 starts at round 28\n",
      "Phase 5 starts at round 39\n",
      "Phase 6 starts at round 49\n",
      "Phase 7 starts at round 59\n",
      "../leaparticulator/test/test_data/P2P-160203.170804.REALDATA.1.exp.log - OK\n",
      "********\n",
      "../leaparticulator/test/test_data/FL4.1.exp.log - OK\n",
      "********\n",
      "Phase 0 starts at round 0\n",
      "Phase 1 starts at round 4\n",
      "Phase 2 starts at round 11\n",
      "Phase 3 starts at round 41\n",
      "Phase 4 starts at round 47\n",
      "Phase 5 starts at round 58\n",
      "Phase 6 starts at round 66\n",
      "Phase 7 starts at round 75\n",
      "../leaparticulator/test/test_data/P2P-160209.144607.realdata.1.exp.log - OK\n",
      "********\n",
      "../leaparticulator/test/test_data/OS3.1.exp.log - OK\n",
      "********\n",
      "Phase 0 starts at round 0\n",
      "Phase 1 starts at round 4\n",
      "Phase 2 starts at round 12\n",
      "Phase 3 starts at round 17\n",
      "Phase 4 starts at round 28\n",
      "Phase 5 starts at round 38\n",
      "Phase 6 starts at round 48\n",
      "Phase 7 starts at round 53\n",
      "../leaparticulator/test/test_data/P2P-160204.121143.1.exp.log - OK\n",
      "********\n",
      "../leaparticulator/test/test_data/DUR3.1.exp.log - OK\n",
      "********\n",
      "../leaparticulator/test/test_data/D12300130914.1.exp.log - OK\n"
     ]
    }
   ],
   "source": [
    "# let's try each test file\n",
    "from glob import glob\n",
    "problematic = []\n",
    "log_files = glob(\"../leaparticulator/test/test_data/*.exp.log\")\n",
    "\n",
    "for file in log_files:\n",
    "    try:\n",
    "        print(\"********\")\n",
    "        fromFile(file)\n",
    "        print(\"{} - OK\".format(file))\n",
    "    except Exception as err:\n",
    "        print(\"{} - NOK\".format(file))\n",
    "        print(\"Error:\", err)\n",
    "        problematic.append(file)"
   ],
   "metadata": {
    "collapsed": false,
    "pycharm": {
     "name": "#%%\n"
    }
   }
  },
  {
   "cell_type": "code",
   "execution_count": 3,
   "outputs": [],
   "source": [
    "assert problematic == []"
   ],
   "metadata": {
    "collapsed": false,
    "pycharm": {
     "name": "#%%\n"
    }
   }
  },
  {
   "cell_type": "markdown",
   "source": [
    "So we can read all kinds of log files. Now let's see what's in them."
   ],
   "metadata": {
    "collapsed": false
   }
  },
  {
   "cell_type": "markdown",
   "source": [
    "## First look"
   ],
   "metadata": {
    "collapsed": false
   }
  },
  {
   "cell_type": "code",
   "execution_count": 4,
   "outputs": [
    {
     "name": "stdout",
     "output_type": "stream",
     "text": [
      "../leaparticulator/test/test_data/123R0126514.1r.exp.log\n"
     ]
    },
    {
     "data": {
      "text/plain": "    phase                 meaning frame_index          x          y practice\n0       0  ./img/meanings/5_1.png           0 -43.263535  57.194641    False\n1       0  ./img/meanings/5_1.png           1 -44.603676  57.812473    False\n2       0  ./img/meanings/5_1.png           2 -45.634258  58.301491    False\n3       0  ./img/meanings/5_1.png           3 -46.350517  58.644554    False\n4       0  ./img/meanings/5_1.png           4 -46.881664  58.852596    False\n..    ...                     ...         ...        ...        ...      ...\n624     2  ./img/meanings/5_3.png          53  50.215015  43.704559    False\n625     2  ./img/meanings/5_3.png          54  51.060139  44.578503    False\n626     2  ./img/meanings/5_3.png          55  51.717567  45.257095    False\n627     2  ./img/meanings/5_3.png          56  52.143185  45.697960    False\n628     2  ./img/meanings/5_3.png          57  52.155552  45.841789    False\n\n[629 rows x 6 columns]",
      "text/html": "<div>\n<style scoped>\n    .dataframe tbody tr th:only-of-type {\n        vertical-align: middle;\n    }\n\n    .dataframe tbody tr th {\n        vertical-align: top;\n    }\n\n    .dataframe thead th {\n        text-align: right;\n    }\n</style>\n<table border=\"1\" class=\"dataframe\">\n  <thead>\n    <tr style=\"text-align: right;\">\n      <th></th>\n      <th>phase</th>\n      <th>meaning</th>\n      <th>frame_index</th>\n      <th>x</th>\n      <th>y</th>\n      <th>practice</th>\n    </tr>\n  </thead>\n  <tbody>\n    <tr>\n      <th>0</th>\n      <td>0</td>\n      <td>./img/meanings/5_1.png</td>\n      <td>0</td>\n      <td>-43.263535</td>\n      <td>57.194641</td>\n      <td>False</td>\n    </tr>\n    <tr>\n      <th>1</th>\n      <td>0</td>\n      <td>./img/meanings/5_1.png</td>\n      <td>1</td>\n      <td>-44.603676</td>\n      <td>57.812473</td>\n      <td>False</td>\n    </tr>\n    <tr>\n      <th>2</th>\n      <td>0</td>\n      <td>./img/meanings/5_1.png</td>\n      <td>2</td>\n      <td>-45.634258</td>\n      <td>58.301491</td>\n      <td>False</td>\n    </tr>\n    <tr>\n      <th>3</th>\n      <td>0</td>\n      <td>./img/meanings/5_1.png</td>\n      <td>3</td>\n      <td>-46.350517</td>\n      <td>58.644554</td>\n      <td>False</td>\n    </tr>\n    <tr>\n      <th>4</th>\n      <td>0</td>\n      <td>./img/meanings/5_1.png</td>\n      <td>4</td>\n      <td>-46.881664</td>\n      <td>58.852596</td>\n      <td>False</td>\n    </tr>\n    <tr>\n      <th>...</th>\n      <td>...</td>\n      <td>...</td>\n      <td>...</td>\n      <td>...</td>\n      <td>...</td>\n      <td>...</td>\n    </tr>\n    <tr>\n      <th>624</th>\n      <td>2</td>\n      <td>./img/meanings/5_3.png</td>\n      <td>53</td>\n      <td>50.215015</td>\n      <td>43.704559</td>\n      <td>False</td>\n    </tr>\n    <tr>\n      <th>625</th>\n      <td>2</td>\n      <td>./img/meanings/5_3.png</td>\n      <td>54</td>\n      <td>51.060139</td>\n      <td>44.578503</td>\n      <td>False</td>\n    </tr>\n    <tr>\n      <th>626</th>\n      <td>2</td>\n      <td>./img/meanings/5_3.png</td>\n      <td>55</td>\n      <td>51.717567</td>\n      <td>45.257095</td>\n      <td>False</td>\n    </tr>\n    <tr>\n      <th>627</th>\n      <td>2</td>\n      <td>./img/meanings/5_3.png</td>\n      <td>56</td>\n      <td>52.143185</td>\n      <td>45.697960</td>\n      <td>False</td>\n    </tr>\n    <tr>\n      <th>628</th>\n      <td>2</td>\n      <td>./img/meanings/5_3.png</td>\n      <td>57</td>\n      <td>52.155552</td>\n      <td>45.841789</td>\n      <td>False</td>\n    </tr>\n  </tbody>\n</table>\n<p>629 rows × 6 columns</p>\n</div>"
     },
     "execution_count": 4,
     "metadata": {},
     "output_type": "execute_result"
    }
   ],
   "source": [
    "file = log_files[0]\n",
    "print(file)\n",
    "logToPandasFrame(file)"
   ],
   "metadata": {
    "collapsed": false,
    "pycharm": {
     "name": "#%%\n"
    }
   }
  },
  {
   "cell_type": "code",
   "execution_count": 6,
   "outputs": [
    {
     "name": "stdout",
     "output_type": "stream",
     "text": [
      "Phase 7 ends at round 61\n",
      "Phase 6 ends at round 58\n",
      "Phase 5 ends at round 48\n",
      "Phase 4 ends at round 38\n",
      "Phase 3 ends at round 27\n",
      "Phase 2 ends at round 22\n",
      "Phase 1 ends at round 16\n",
      "Phase 0 ends at round 3\n"
     ]
    }
   ],
   "source": [
    "response, question = toPandas_p2p(log_files[1])"
   ],
   "metadata": {
    "collapsed": false,
    "pycharm": {
     "name": "#%%\n"
    }
   }
  },
  {
   "cell_type": "code",
   "execution_count": 7,
   "outputs": [
    {
     "data": {
      "text/plain": "      round                  client  phase               image  data_index  \\\n0         2  client2@134.184.26.163      0  P2PMeaning(13.png)           0   \n1         2  client2@134.184.26.163      0  P2PMeaning(13.png)           1   \n2         2  client2@134.184.26.163      0  P2PMeaning(13.png)           2   \n3         2  client2@134.184.26.163      0  P2PMeaning(13.png)           3   \n4         2  client2@134.184.26.163      0  P2PMeaning(13.png)           4   \n...     ...                     ...    ...                 ...         ...   \n2193     61  client1@134.184.26.158      7  P2PMeaning(14.png)          59   \n2194     61  client1@134.184.26.158      7  P2PMeaning(14.png)          60   \n2195     61  client1@134.184.26.158      7  P2PMeaning(14.png)          61   \n2196     61  client1@134.184.26.158      7  P2PMeaning(14.png)          62   \n2197     61  client1@134.184.26.158      7  P2PMeaning(14.png)          63   \n\n              x           y           z   frequency         mel  amplitude  \n0    -61.054424  147.723846   80.504654  235.972896  327.398778   0.195286  \n1    -61.009716  147.725311   80.519234  236.030854  327.468563   0.195284  \n2    -60.963333  147.726852   80.534225  236.090999  327.540976   0.195282  \n3    -60.916161  147.728561   80.549179  236.152183  327.614636   0.195280  \n4    -60.868298  147.730453   80.564087  236.214279  327.689388   0.195278  \n...         ...         ...         ...         ...         ...        ...  \n2193  26.985188   45.823460  113.011047  382.727768  491.548105   0.407285  \n2194  27.142107   45.507999  113.751602  383.057809  491.891587   0.408537  \n2195  27.171337   45.213264  114.375175  383.119319  491.955590   0.409713  \n2196  27.137342   44.921883  114.955032  383.047784  491.881155   0.410884  \n2197  27.069052   44.631081  115.513725  382.904120  491.731652   0.412061  \n\n[2198 rows x 11 columns]",
      "text/html": "<div>\n<style scoped>\n    .dataframe tbody tr th:only-of-type {\n        vertical-align: middle;\n    }\n\n    .dataframe tbody tr th {\n        vertical-align: top;\n    }\n\n    .dataframe thead th {\n        text-align: right;\n    }\n</style>\n<table border=\"1\" class=\"dataframe\">\n  <thead>\n    <tr style=\"text-align: right;\">\n      <th></th>\n      <th>round</th>\n      <th>client</th>\n      <th>phase</th>\n      <th>image</th>\n      <th>data_index</th>\n      <th>x</th>\n      <th>y</th>\n      <th>z</th>\n      <th>frequency</th>\n      <th>mel</th>\n      <th>amplitude</th>\n    </tr>\n  </thead>\n  <tbody>\n    <tr>\n      <th>0</th>\n      <td>2</td>\n      <td>client2@134.184.26.163</td>\n      <td>0</td>\n      <td>P2PMeaning(13.png)</td>\n      <td>0</td>\n      <td>-61.054424</td>\n      <td>147.723846</td>\n      <td>80.504654</td>\n      <td>235.972896</td>\n      <td>327.398778</td>\n      <td>0.195286</td>\n    </tr>\n    <tr>\n      <th>1</th>\n      <td>2</td>\n      <td>client2@134.184.26.163</td>\n      <td>0</td>\n      <td>P2PMeaning(13.png)</td>\n      <td>1</td>\n      <td>-61.009716</td>\n      <td>147.725311</td>\n      <td>80.519234</td>\n      <td>236.030854</td>\n      <td>327.468563</td>\n      <td>0.195284</td>\n    </tr>\n    <tr>\n      <th>2</th>\n      <td>2</td>\n      <td>client2@134.184.26.163</td>\n      <td>0</td>\n      <td>P2PMeaning(13.png)</td>\n      <td>2</td>\n      <td>-60.963333</td>\n      <td>147.726852</td>\n      <td>80.534225</td>\n      <td>236.090999</td>\n      <td>327.540976</td>\n      <td>0.195282</td>\n    </tr>\n    <tr>\n      <th>3</th>\n      <td>2</td>\n      <td>client2@134.184.26.163</td>\n      <td>0</td>\n      <td>P2PMeaning(13.png)</td>\n      <td>3</td>\n      <td>-60.916161</td>\n      <td>147.728561</td>\n      <td>80.549179</td>\n      <td>236.152183</td>\n      <td>327.614636</td>\n      <td>0.195280</td>\n    </tr>\n    <tr>\n      <th>4</th>\n      <td>2</td>\n      <td>client2@134.184.26.163</td>\n      <td>0</td>\n      <td>P2PMeaning(13.png)</td>\n      <td>4</td>\n      <td>-60.868298</td>\n      <td>147.730453</td>\n      <td>80.564087</td>\n      <td>236.214279</td>\n      <td>327.689388</td>\n      <td>0.195278</td>\n    </tr>\n    <tr>\n      <th>...</th>\n      <td>...</td>\n      <td>...</td>\n      <td>...</td>\n      <td>...</td>\n      <td>...</td>\n      <td>...</td>\n      <td>...</td>\n      <td>...</td>\n      <td>...</td>\n      <td>...</td>\n      <td>...</td>\n    </tr>\n    <tr>\n      <th>2193</th>\n      <td>61</td>\n      <td>client1@134.184.26.158</td>\n      <td>7</td>\n      <td>P2PMeaning(14.png)</td>\n      <td>59</td>\n      <td>26.985188</td>\n      <td>45.823460</td>\n      <td>113.011047</td>\n      <td>382.727768</td>\n      <td>491.548105</td>\n      <td>0.407285</td>\n    </tr>\n    <tr>\n      <th>2194</th>\n      <td>61</td>\n      <td>client1@134.184.26.158</td>\n      <td>7</td>\n      <td>P2PMeaning(14.png)</td>\n      <td>60</td>\n      <td>27.142107</td>\n      <td>45.507999</td>\n      <td>113.751602</td>\n      <td>383.057809</td>\n      <td>491.891587</td>\n      <td>0.408537</td>\n    </tr>\n    <tr>\n      <th>2195</th>\n      <td>61</td>\n      <td>client1@134.184.26.158</td>\n      <td>7</td>\n      <td>P2PMeaning(14.png)</td>\n      <td>61</td>\n      <td>27.171337</td>\n      <td>45.213264</td>\n      <td>114.375175</td>\n      <td>383.119319</td>\n      <td>491.955590</td>\n      <td>0.409713</td>\n    </tr>\n    <tr>\n      <th>2196</th>\n      <td>61</td>\n      <td>client1@134.184.26.158</td>\n      <td>7</td>\n      <td>P2PMeaning(14.png)</td>\n      <td>62</td>\n      <td>27.137342</td>\n      <td>44.921883</td>\n      <td>114.955032</td>\n      <td>383.047784</td>\n      <td>491.881155</td>\n      <td>0.410884</td>\n    </tr>\n    <tr>\n      <th>2197</th>\n      <td>61</td>\n      <td>client1@134.184.26.158</td>\n      <td>7</td>\n      <td>P2PMeaning(14.png)</td>\n      <td>63</td>\n      <td>27.069052</td>\n      <td>44.631081</td>\n      <td>115.513725</td>\n      <td>382.904120</td>\n      <td>491.731652</td>\n      <td>0.412061</td>\n    </tr>\n  </tbody>\n</table>\n<p>2198 rows × 11 columns</p>\n</div>"
     },
     "execution_count": 7,
     "metadata": {},
     "output_type": "execute_result"
    }
   ],
   "source": [
    "response"
   ],
   "metadata": {
    "collapsed": false,
    "pycharm": {
     "name": "#%%\n"
    }
   }
  },
  {
   "cell_type": "code",
   "execution_count": 8,
   "outputs": [
    {
     "data": {
      "text/plain": "                    client  phase  \\\n0   client1@134.184.26.158      0   \n1   client2@134.184.26.163      0   \n2   client1@134.184.26.158      0   \n3   client2@134.184.26.163      0   \n4   client1@134.184.26.158      1   \n..                     ...    ...   \n57  client2@134.184.26.163      6   \n58  client1@134.184.26.158      6   \n59  client2@134.184.26.163      7   \n60  client1@134.184.26.158      7   \n61  client2@134.184.26.163      7   \n\n                                               image0  \\\n0                                  P2PMeaning(11.png)   \n1                                  P2PMeaning(13.png)   \n2                                  P2PMeaning(11.png)   \n3   [{\"py/object\": \"leaparticulator.data.frame.Lea...   \n4                                   P2PMeaning(7.png)   \n..                                                ...   \n57  [{\"py/object\": \"leaparticulator.data.frame.Lea...   \n58                                 P2PMeaning(12.png)   \n59                                  P2PMeaning(5.png)   \n60                                  P2PMeaning(4.png)   \n61  [{\"py/object\": \"leaparticulator.data.frame.Lea...   \n\n                                               image1  \\\n0   [{\"py/object\": \"leaparticulator.data.frame.Lea...   \n1   [{\"py/object\": \"leaparticulator.data.frame.Lea...   \n2   [{\"py/object\": \"leaparticulator.data.frame.Lea...   \n3                                  P2PMeaning(13.png)   \n4                                   P2PMeaning(5.png)   \n..                                                ...   \n57                                  P2PMeaning(7.png)   \n58                                  P2PMeaning(7.png)   \n59  [{\"py/object\": \"leaparticulator.data.frame.Lea...   \n60                                  P2PMeaning(1.png)   \n61                                  P2PMeaning(4.png)   \n\n                                               image2  \\\n0                                                None   \n1                                                None   \n2                                                None   \n3                                                None   \n4   [{\"py/object\": \"leaparticulator.data.frame.Lea...   \n..                                                ...   \n57                                  P2PMeaning(5.png)   \n58                                  P2PMeaning(2.png)   \n59                                 P2PMeaning(15.png)   \n60  [{\"py/object\": \"leaparticulator.data.frame.Lea...   \n61                                  P2PMeaning(8.png)   \n\n                                               image3              answer  \\\n0                                                None  P2PMeaning(13.png)   \n1                                                None  P2PMeaning(11.png)   \n2                                                None  P2PMeaning(13.png)   \n3                                                None  P2PMeaning(11.png)   \n4                                  P2PMeaning(13.png)  P2PMeaning(11.png)   \n..                                                ...                 ...   \n57                                  P2PMeaning(8.png)  P2PMeaning(12.png)   \n58  [{\"py/object\": \"leaparticulator.data.frame.Lea...   P2PMeaning(1.png)   \n59                                  P2PMeaning(2.png)  P2PMeaning(11.png)   \n60                                  P2PMeaning(5.png)  P2PMeaning(14.png)   \n61                                 P2PMeaning(12.png)  P2PMeaning(14.png)   \n\n          given_answer  success  \n0   P2PMeaning(13.png)     True  \n1   P2PMeaning(11.png)     True  \n2   P2PMeaning(13.png)     True  \n3   P2PMeaning(11.png)     True  \n4   P2PMeaning(11.png)     True  \n..                 ...      ...  \n57  P2PMeaning(12.png)     True  \n58   P2PMeaning(1.png)     True  \n59  P2PMeaning(11.png)     True  \n60  P2PMeaning(14.png)     True  \n61  P2PMeaning(14.png)     True  \n\n[62 rows x 9 columns]",
      "text/html": "<div>\n<style scoped>\n    .dataframe tbody tr th:only-of-type {\n        vertical-align: middle;\n    }\n\n    .dataframe tbody tr th {\n        vertical-align: top;\n    }\n\n    .dataframe thead th {\n        text-align: right;\n    }\n</style>\n<table border=\"1\" class=\"dataframe\">\n  <thead>\n    <tr style=\"text-align: right;\">\n      <th></th>\n      <th>client</th>\n      <th>phase</th>\n      <th>image0</th>\n      <th>image1</th>\n      <th>image2</th>\n      <th>image3</th>\n      <th>answer</th>\n      <th>given_answer</th>\n      <th>success</th>\n    </tr>\n  </thead>\n  <tbody>\n    <tr>\n      <th>0</th>\n      <td>client1@134.184.26.158</td>\n      <td>0</td>\n      <td>P2PMeaning(11.png)</td>\n      <td>[{\"py/object\": \"leaparticulator.data.frame.Lea...</td>\n      <td>None</td>\n      <td>None</td>\n      <td>P2PMeaning(13.png)</td>\n      <td>P2PMeaning(13.png)</td>\n      <td>True</td>\n    </tr>\n    <tr>\n      <th>1</th>\n      <td>client2@134.184.26.163</td>\n      <td>0</td>\n      <td>P2PMeaning(13.png)</td>\n      <td>[{\"py/object\": \"leaparticulator.data.frame.Lea...</td>\n      <td>None</td>\n      <td>None</td>\n      <td>P2PMeaning(11.png)</td>\n      <td>P2PMeaning(11.png)</td>\n      <td>True</td>\n    </tr>\n    <tr>\n      <th>2</th>\n      <td>client1@134.184.26.158</td>\n      <td>0</td>\n      <td>P2PMeaning(11.png)</td>\n      <td>[{\"py/object\": \"leaparticulator.data.frame.Lea...</td>\n      <td>None</td>\n      <td>None</td>\n      <td>P2PMeaning(13.png)</td>\n      <td>P2PMeaning(13.png)</td>\n      <td>True</td>\n    </tr>\n    <tr>\n      <th>3</th>\n      <td>client2@134.184.26.163</td>\n      <td>0</td>\n      <td>[{\"py/object\": \"leaparticulator.data.frame.Lea...</td>\n      <td>P2PMeaning(13.png)</td>\n      <td>None</td>\n      <td>None</td>\n      <td>P2PMeaning(11.png)</td>\n      <td>P2PMeaning(11.png)</td>\n      <td>True</td>\n    </tr>\n    <tr>\n      <th>4</th>\n      <td>client1@134.184.26.158</td>\n      <td>1</td>\n      <td>P2PMeaning(7.png)</td>\n      <td>P2PMeaning(5.png)</td>\n      <td>[{\"py/object\": \"leaparticulator.data.frame.Lea...</td>\n      <td>P2PMeaning(13.png)</td>\n      <td>P2PMeaning(11.png)</td>\n      <td>P2PMeaning(11.png)</td>\n      <td>True</td>\n    </tr>\n    <tr>\n      <th>...</th>\n      <td>...</td>\n      <td>...</td>\n      <td>...</td>\n      <td>...</td>\n      <td>...</td>\n      <td>...</td>\n      <td>...</td>\n      <td>...</td>\n      <td>...</td>\n    </tr>\n    <tr>\n      <th>57</th>\n      <td>client2@134.184.26.163</td>\n      <td>6</td>\n      <td>[{\"py/object\": \"leaparticulator.data.frame.Lea...</td>\n      <td>P2PMeaning(7.png)</td>\n      <td>P2PMeaning(5.png)</td>\n      <td>P2PMeaning(8.png)</td>\n      <td>P2PMeaning(12.png)</td>\n      <td>P2PMeaning(12.png)</td>\n      <td>True</td>\n    </tr>\n    <tr>\n      <th>58</th>\n      <td>client1@134.184.26.158</td>\n      <td>6</td>\n      <td>P2PMeaning(12.png)</td>\n      <td>P2PMeaning(7.png)</td>\n      <td>P2PMeaning(2.png)</td>\n      <td>[{\"py/object\": \"leaparticulator.data.frame.Lea...</td>\n      <td>P2PMeaning(1.png)</td>\n      <td>P2PMeaning(1.png)</td>\n      <td>True</td>\n    </tr>\n    <tr>\n      <th>59</th>\n      <td>client2@134.184.26.163</td>\n      <td>7</td>\n      <td>P2PMeaning(5.png)</td>\n      <td>[{\"py/object\": \"leaparticulator.data.frame.Lea...</td>\n      <td>P2PMeaning(15.png)</td>\n      <td>P2PMeaning(2.png)</td>\n      <td>P2PMeaning(11.png)</td>\n      <td>P2PMeaning(11.png)</td>\n      <td>True</td>\n    </tr>\n    <tr>\n      <th>60</th>\n      <td>client1@134.184.26.158</td>\n      <td>7</td>\n      <td>P2PMeaning(4.png)</td>\n      <td>P2PMeaning(1.png)</td>\n      <td>[{\"py/object\": \"leaparticulator.data.frame.Lea...</td>\n      <td>P2PMeaning(5.png)</td>\n      <td>P2PMeaning(14.png)</td>\n      <td>P2PMeaning(14.png)</td>\n      <td>True</td>\n    </tr>\n    <tr>\n      <th>61</th>\n      <td>client2@134.184.26.163</td>\n      <td>7</td>\n      <td>[{\"py/object\": \"leaparticulator.data.frame.Lea...</td>\n      <td>P2PMeaning(4.png)</td>\n      <td>P2PMeaning(8.png)</td>\n      <td>P2PMeaning(12.png)</td>\n      <td>P2PMeaning(14.png)</td>\n      <td>P2PMeaning(14.png)</td>\n      <td>True</td>\n    </tr>\n  </tbody>\n</table>\n<p>62 rows × 9 columns</p>\n</div>"
     },
     "execution_count": 8,
     "metadata": {},
     "output_type": "execute_result"
    }
   ],
   "source": [
    "question"
   ],
   "metadata": {
    "collapsed": false,
    "pycharm": {
     "name": "#%%\n"
    }
   }
  },
  {
   "cell_type": "code",
   "execution_count": 19,
   "outputs": [
    {
     "name": "stdout",
     "output_type": "stream",
     "text": [
      "Phase 0 starts at round 0\n",
      "Phase 1 starts at round 4\n",
      "Phase 2 starts at round 17\n",
      "Phase 3 starts at round 23\n",
      "Phase 4 starts at round 28\n",
      "Phase 5 starts at round 39\n",
      "Phase 6 starts at round 49\n",
      "Phase 7 starts at round 59\n"
     ]
    }
   ],
   "source": [
    "ret = fromFile(log_files[1])\n"
   ],
   "metadata": {
    "collapsed": false,
    "pycharm": {
     "name": "#%%\n"
    }
   }
  },
  {
   "cell_type": "code",
   "execution_count": 26,
   "outputs": [
    {
     "data": {
      "text/plain": "[P2PMeaning(11.png),\n P2PMeaning(13.png),\n P2PMeaning(5.png),\n P2PMeaning(7.png),\n P2PMeaning(2.png),\n P2PMeaning(6.png),\n P2PMeaning(15.png),\n P2PMeaning(12.png),\n P2PMeaning(9.png),\n P2PMeaning(10.png),\n P2PMeaning(8.png),\n P2PMeaning(4.png),\n P2PMeaning(3.png),\n P2PMeaning(1.png),\n P2PMeaning(14.png)]"
     },
     "execution_count": 26,
     "metadata": {},
     "output_type": "execute_result"
    }
   ],
   "source": [
    "ret.images"
   ],
   "metadata": {
    "collapsed": false,
    "pycharm": {
     "name": "#%%\n"
    }
   }
  },
  {
   "cell_type": "code",
   "execution_count": 31,
   "outputs": [
    {
     "data": {
      "text/plain": "{'P2PMeaning(11.png)': None,\n 'P2PMeaning(13.png)': None,\n 'P2PMeaning(5.png)': [LeapFrame(21.14,54.25,94.72),\n  LeapFrame(21.13,54.25,94.71),\n  LeapFrame(21.05,54.28,94.67),\n  LeapFrame(20.77,54.37,94.50),\n  LeapFrame(18.60,55.21,92.55),\n  LeapFrame(16.44,56.10,90.43),\n  LeapFrame(13.30,57.45,87.31),\n  LeapFrame(9.80,58.98,83.98),\n  LeapFrame(5.93,60.70,80.38),\n  LeapFrame(1.37,62.72,76.39),\n  LeapFrame(-9.95,67.65,67.87),\n  LeapFrame(-14.34,69.52,64.65),\n  LeapFrame(-18.33,71.11,61.96),\n  LeapFrame(-21.82,72.29,59.54),\n  LeapFrame(-24.86,73.32,57.62),\n  LeapFrame(-27.47,74.30,56.14),\n  LeapFrame(-29.54,75.33,54.91),\n  LeapFrame(-31.04,76.15,53.85),\n  LeapFrame(-32.04,76.72,53.04),\n  LeapFrame(-32.63,77.19,52.44),\n  LeapFrame(-32.95,77.57,52.05),\n  LeapFrame(-33.06,77.88,51.86),\n  LeapFrame(-32.92,78.13,51.82),\n  LeapFrame(-32.41,78.29,51.93),\n  LeapFrame(-31.59,78.35,52.30),\n  LeapFrame(-30.51,78.34,52.76),\n  LeapFrame(-29.23,78.22,53.28),\n  LeapFrame(-27.89,77.92,53.97),\n  LeapFrame(-26.42,77.60,54.71),\n  LeapFrame(-25.08,77.24,55.45),\n  LeapFrame(-23.55,76.87,56.18),\n  LeapFrame(-21.81,76.47,57.04),\n  LeapFrame(-20.02,75.94,58.15),\n  LeapFrame(-18.15,75.33,59.31),\n  LeapFrame(-16.35,74.63,60.71),\n  LeapFrame(-14.54,73.89,62.14),\n  LeapFrame(-12.84,73.02,63.85),\n  LeapFrame(-11.15,72.17,65.61),\n  LeapFrame(-9.53,71.27,67.47),\n  LeapFrame(-7.87,70.28,69.58),\n  LeapFrame(-6.23,69.37,71.62),\n  LeapFrame(-4.57,68.48,73.77),\n  LeapFrame(-2.88,67.52,76.07),\n  LeapFrame(-1.29,66.65,78.27),\n  LeapFrame(0.17,65.80,80.45),\n  LeapFrame(1.56,65.02,82.46),\n  LeapFrame(2.88,64.32,84.36),\n  LeapFrame(4.17,63.55,86.18),\n  LeapFrame(5.43,62.78,87.91),\n  LeapFrame(6.64,62.00,89.59),\n  LeapFrame(7.77,61.29,91.18),\n  LeapFrame(8.84,60.61,92.75),\n  LeapFrame(9.71,60.10,94.13),\n  LeapFrame(10.41,59.80,95.30),\n  LeapFrame(10.95,59.54,96.25),\n  LeapFrame(11.38,59.48,97.08),\n  LeapFrame(11.75,59.35,97.76),\n  LeapFrame(12.13,59.13,98.45),\n  LeapFrame(12.55,58.75,99.29),\n  LeapFrame(13.03,58.31,100.22),\n  LeapFrame(13.48,57.86,101.15),\n  LeapFrame(13.95,57.37,102.13),\n  LeapFrame(14.50,56.75,103.25)],\n 'P2PMeaning(7.png)': None,\n 'P2PMeaning(2.png)': [LeapFrame(31.24,72.47,95.34),\n  LeapFrame(31.23,72.46,95.32),\n  LeapFrame(31.17,72.43,95.24),\n  LeapFrame(30.96,72.36,94.99),\n  LeapFrame(29.00,71.90,92.92),\n  LeapFrame(26.20,71.36,90.21),\n  LeapFrame(20.79,70.55,85.50),\n  LeapFrame(14.41,69.78,80.54),\n  LeapFrame(6.87,69.02,75.45),\n  LeapFrame(-2.03,68.21,70.30),\n  LeapFrame(-12.10,67.36,65.40),\n  LeapFrame(-23.53,66.39,60.95),\n  LeapFrame(-35.66,65.33,57.15),\n  LeapFrame(-47.93,64.73,54.46),\n  LeapFrame(-59.94,64.04,53.00),\n  LeapFrame(-70.36,62.75,52.78),\n  LeapFrame(-78.96,61.35,52.92),\n  LeapFrame(-85.97,61.49,53.34),\n  LeapFrame(-91.11,62.57,53.46),\n  LeapFrame(-93.52,63.87,53.37),\n  LeapFrame(-94.28,64.61,52.85),\n  LeapFrame(-93.35,65.45,51.88),\n  LeapFrame(-90.55,66.70,50.54),\n  LeapFrame(-86.14,68.03,49.08),\n  LeapFrame(-78.34,68.75,46.23),\n  LeapFrame(-70.57,70.20,42.81),\n  LeapFrame(-58.84,74.62,55.99),\n  LeapFrame(-58.26,74.61,55.88),\n  LeapFrame(-54.41,75.10,55.39),\n  LeapFrame(-28.80,76.82,58.54),\n  LeapFrame(-27.91,76.72,58.59),\n  LeapFrame(-24.22,76.80,58.97),\n  LeapFrame(-18.06,77.30,59.76),\n  LeapFrame(-10.17,77.09,61.83),\n  LeapFrame(-2.42,75.47,64.05),\n  LeapFrame(4.90,73.79,67.03),\n  LeapFrame(11.30,72.36,70.40),\n  LeapFrame(16.77,71.52,73.76),\n  LeapFrame(21.46,71.68,77.17),\n  LeapFrame(24.84,71.00,79.94),\n  LeapFrame(27.45,70.04,82.22),\n  LeapFrame(29.57,69.15,84.18),\n  LeapFrame(30.96,68.09,85.69),\n  LeapFrame(32.22,67.36,87.36),\n  LeapFrame(33.35,67.12,89.17),\n  LeapFrame(34.16,66.68,90.71),\n  LeapFrame(34.37,66.13,91.99),\n  LeapFrame(34.31,65.71,93.01),\n  LeapFrame(34.23,65.59,93.79),\n  LeapFrame(34.21,65.58,94.33),\n  LeapFrame(34.24,65.56,94.74),\n  LeapFrame(34.34,65.61,95.09),\n  LeapFrame(34.57,65.70,95.46),\n  LeapFrame(34.87,65.85,95.86),\n  LeapFrame(35.12,66.16,96.31),\n  LeapFrame(35.44,66.67,96.80)],\n 'P2PMeaning(6.png)': None}"
     },
     "execution_count": 31,
     "metadata": {},
     "output_type": "execute_result"
    }
   ],
   "source": [
    "ret.responses['client1@134.184.26.158'][2]"
   ],
   "metadata": {
    "collapsed": false,
    "pycharm": {
     "name": "#%%\n"
    }
   }
  },
  {
   "cell_type": "code",
   "execution_count": null,
   "outputs": [],
   "source": [
    "\n"
   ],
   "metadata": {
    "collapsed": false,
    "pycharm": {
     "name": "#%%\n"
    }
   }
  }
 ],
 "metadata": {
  "kernelspec": {
   "display_name": "Python 3",
   "language": "python",
   "name": "python3"
  },
  "language_info": {
   "codemirror_mode": {
    "name": "ipython",
    "version": 2
   },
   "file_extension": ".py",
   "mimetype": "text/x-python",
   "name": "python",
   "nbconvert_exporter": "python",
   "pygments_lexer": "ipython2",
   "version": "2.7.6"
  }
 },
 "nbformat": 4,
 "nbformat_minor": 0
}