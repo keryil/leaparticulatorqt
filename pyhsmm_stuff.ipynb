{
 "metadata": {
  "name": "",
  "signature": "sha256:3804bb7abb861af80304db753d0979c84a76cfb8fc98aec67259884c51850494"
 },
 "nbformat": 3,
 "nbformat_minor": 0,
 "worksheets": [
  {
   "cells": [
    {
     "cell_type": "code",
     "collapsed": false,
     "input": [
      "import urllib2\n",
      "import numpy as np\n",
      "data = urllib2.urlopen(\"https://raw.githubusercontent.com/mattjj/pyhsmm/master/examples/example-data.txt\")\n",
      "data = np.loadtxt(data)\n",
      "# plt.plot(data[:,0],data[:,1],'kx')"
     ],
     "language": "python",
     "metadata": {},
     "outputs": [],
     "prompt_number": 1
    },
    {
     "cell_type": "code",
     "collapsed": false,
     "input": [
      "%matplotlib inline\n",
      "from pyhsmm.util.plot import pca_project_data, pca, project_data\n",
      "component = pca(data,2)\n",
      "plt.plot(np.dot(data, component.T)[:,0])\n",
      "# pca_project_data(data,1)"
     ],
     "language": "python",
     "metadata": {},
     "outputs": [
      {
       "metadata": {},
       "output_type": "pyout",
       "prompt_number": 2,
       "text": [
        "[<matplotlib.lines.Line2D at 0x4f10cd0>]"
       ]
      },
      {
       "metadata": {},
       "output_type": "display_data",
       "png": "[encoded data removed]",
       "text": [
        "<matplotlib.figure.Figure at 0x4758310>"
       ]
      }
     ],
     "prompt_number": 2
    },
    {
     "cell_type": "code",
     "collapsed": false,
     "input": [
      "import pyhsmm\n",
      "import pyhsmm.basic.distributions as distributions\n",
      "\n",
      "obs_dim = 2\n",
      "Nmax = 25\n",
      "\n",
      "obs_hypparams = {'mu_0':np.zeros(obs_dim),\n",
      "                'sigma_0':np.eye(obs_dim),\n",
      "                'kappa_0':0.3,\n",
      "                'nu_0':obs_dim+5}\n",
      "dur_hypparams = {'alpha_0':2*30,\n",
      "                 'beta_0':2}\n",
      "\n",
      "obs_distns = [distributions.Gaussian(**obs_hypparams) for state in range(Nmax)]\n",
      "dur_distns = [distributions.PoissonDuration(**dur_hypparams) for state in range(Nmax)]\n",
      "\n"
     ],
     "language": "python",
     "metadata": {},
     "outputs": [
      {
       "output_type": "stream",
       "stream": "stderr",
       "text": [
        "/usr/lib/python2.7/site-packages/pyhsmm/basic/pybasicbayes/distributions.py:254: FutureWarning: comparison to `None` will result in an elementwise object comparison in the future.\n",
        "  if (mu,sigma) == (None,None) and None not in (mu_0,sigma_0,kappa_0,nu_0):\n"
       ]
      }
     ],
     "prompt_number": 3
    },
    {
     "cell_type": "code",
     "collapsed": false,
     "input": [
      "posteriormodel = pyhsmm.models.WeakLimitHDPHSMM(\n",
      "        alpha=6.,gamma=6., # better to sample over these; see concentration-resampling.py\n",
      "        init_state_concentration=6., # pretty inconsequential\n",
      "        obs_distns=obs_distns,\n",
      "        dur_distns=dur_distns)\n",
      "posteriormodel.add_data(data,trunc=60)\n",
      "from copy import deepcopy\n",
      "models = []\n",
      "for idx in range(150):\n",
      "    posteriormodel.resample_model()\n",
      "    print \"Resample #%i done\" % idx\n",
      "    if (idx+1) % 50 == 0:\n",
      "        models.append(deepcopy(posteriormodel))"
     ],
     "language": "python",
     "metadata": {},
     "outputs": [
      {
       "output_type": "stream",
       "stream": "stdout",
       "text": [
        "Resample #0 done\n",
        "Resample #1 done"
       ]
      },
      {
       "output_type": "stream",
       "stream": "stdout",
       "text": [
        "\n",
        "Resample #2 done"
       ]
      },
      {
       "output_type": "stream",
       "stream": "stdout",
       "text": [
        "\n",
        "Resample #3 done"
       ]
      },
      {
       "output_type": "stream",
       "stream": "stdout",
       "text": [
        "\n",
        "Resample #4 done"
       ]
      },
      {
       "output_type": "stream",
       "stream": "stdout",
       "text": [
        "\n",
        "Resample #5 done"
       ]
      },
      {
       "output_type": "stream",
       "stream": "stdout",
       "text": [
        "\n",
        "Resample #6 done"
       ]
      },
      {
       "output_type": "stream",
       "stream": "stdout",
       "text": [
        "\n",
        "Resample #7 done"
       ]
      },
      {
       "output_type": "stream",
       "stream": "stdout",
       "text": [
        "\n",
        "Resample #8 done"
       ]
      },
      {
       "output_type": "stream",
       "stream": "stdout",
       "text": [
        "\n",
        "Resample #9 done"
       ]
      },
      {
       "output_type": "stream",
       "stream": "stdout",
       "text": [
        "\n",
        "Resample #10 done"
       ]
      },
      {
       "output_type": "stream",
       "stream": "stdout",
       "text": [
        "\n",
        "Resample #11 done"
       ]
      },
      {
       "output_type": "stream",
       "stream": "stdout",
       "text": [
        "\n",
        "Resample #12 done"
       ]
      },
      {
       "output_type": "stream",
       "stream": "stdout",
       "text": [
        "\n",
        "Resample #13 done"
       ]
      },
      {
       "output_type": "stream",
       "stream": "stdout",
       "text": [
        "\n",
        "Resample #14 done"
       ]
      },
      {
       "output_type": "stream",
       "stream": "stdout",
       "text": [
        "\n",
        "Resample #15 done"
       ]
      },
      {
       "output_type": "stream",
       "stream": "stdout",
       "text": [
        "\n",
        "Resample #16 done"
       ]
      },
      {
       "output_type": "stream",
       "stream": "stdout",
       "text": [
        "\n",
        "Resample #17 done"
       ]
      },
      {
       "output_type": "stream",
       "stream": "stdout",
       "text": [
        "\n",
        "Resample #18 done"
       ]
      },
      {
       "output_type": "stream",
       "stream": "stdout",
       "text": [
        "\n",
        "Resample #19 done"
       ]
      },
      {
       "output_type": "stream",
       "stream": "stdout",
       "text": [
        "\n",
        "Resample #20 done"
       ]
      },
      {
       "output_type": "stream",
       "stream": "stdout",
       "text": [
        "\n",
        "Resample #21 done"
       ]
      },
      {
       "output_type": "stream",
       "stream": "stdout",
       "text": [
        "\n",
        "Resample #22 done"
       ]
      },
      {
       "output_type": "stream",
       "stream": "stdout",
       "text": [
        "\n",
        "Resample #23 done"
       ]
      },
      {
       "output_type": "stream",
       "stream": "stdout",
       "text": [
        "\n",
        "Resample #24 done"
       ]
      },
      {
       "output_type": "stream",
       "stream": "stdout",
       "text": [
        "\n",
        "Resample #25 done"
       ]
      },
      {
       "output_type": "stream",
       "stream": "stdout",
       "text": [
        "\n",
        "Resample #26 done"
       ]
      },
      {
       "output_type": "stream",
       "stream": "stdout",
       "text": [
        "\n",
        "Resample #27 done"
       ]
      },
      {
       "output_type": "stream",
       "stream": "stdout",
       "text": [
        "\n",
        "Resample #28 done"
       ]
      },
      {
       "output_type": "stream",
       "stream": "stdout",
       "text": [
        "\n",
        "Resample #29 done"
       ]
      },
      {
       "output_type": "stream",
       "stream": "stdout",
       "text": [
        "\n",
        "Resample #30 done"
       ]
      },
      {
       "output_type": "stream",
       "stream": "stdout",
       "text": [
        "\n",
        "Resample #31 done"
       ]
      },
      {
       "output_type": "stream",
       "stream": "stdout",
       "text": [
        "\n",
        "Resample #32 done"
       ]
      },
      {
       "output_type": "stream",
       "stream": "stdout",
       "text": [
        "\n",
        "Resample #33 done"
       ]
      },
      {
       "output_type": "stream",
       "stream": "stdout",
       "text": [
        "\n",
        "Resample #34 done"
       ]
      },
      {
       "output_type": "stream",
       "stream": "stdout",
       "text": [
        "\n",
        "Resample #35 done"
       ]
      },
      {
       "output_type": "stream",
       "stream": "stdout",
       "text": [
        "\n",
        "Resample #36 done"
       ]
      },
      {
       "output_type": "stream",
       "stream": "stdout",
       "text": [
        "\n",
        "Resample #37 done"
       ]
      },
      {
       "output_type": "stream",
       "stream": "stdout",
       "text": [
        "\n",
        "Resample #38 done"
       ]
      },
      {
       "output_type": "stream",
       "stream": "stdout",
       "text": [
        "\n",
        "Resample #39 done"
       ]
      },
      {
       "output_type": "stream",
       "stream": "stdout",
       "text": [
        "\n",
        "Resample #40 done"
       ]
      },
      {
       "output_type": "stream",
       "stream": "stdout",
       "text": [
        "\n",
        "Resample #41 done"
       ]
      },
      {
       "output_type": "stream",
       "stream": "stdout",
       "text": [
        "\n",
        "Resample #42 done"
       ]
      },
      {
       "output_type": "stream",
       "stream": "stdout",
       "text": [
        "\n",
        "Resample #43 done"
       ]
      },
      {
       "output_type": "stream",
       "stream": "stdout",
       "text": [
        "\n",
        "Resample #44 done"
       ]
      },
      {
       "output_type": "stream",
       "stream": "stdout",
       "text": [
        "\n",
        "Resample #45 done"
       ]
      },
      {
       "output_type": "stream",
       "stream": "stdout",
       "text": [
        "\n",
        "Resample #46 done"
       ]
      },
      {
       "output_type": "stream",
       "stream": "stdout",
       "text": [
        "\n",
        "Resample #47 done"
       ]
      },
      {
       "output_type": "stream",
       "stream": "stdout",
       "text": [
        "\n",
        "Resample #48 done"
       ]
      },
      {
       "output_type": "stream",
       "stream": "stdout",
       "text": [
        "\n",
        "Resample #49 done"
       ]
      },
      {
       "output_type": "stream",
       "stream": "stdout",
       "text": [
        "\n",
        "Resample #50 done"
       ]
      },
      {
       "output_type": "stream",
       "stream": "stdout",
       "text": [
        "\n",
        "Resample #51 done"
       ]
      },
      {
       "output_type": "stream",
       "stream": "stdout",
       "text": [
        "\n",
        "Resample #52 done"
       ]
      },
      {
       "output_type": "stream",
       "stream": "stdout",
       "text": [
        "\n",
        "Resample #53 done"
       ]
      },
      {
       "output_type": "stream",
       "stream": "stdout",
       "text": [
        "\n",
        "Resample #54 done"
       ]
      },
      {
       "output_type": "stream",
       "stream": "stdout",
       "text": [
        "\n",
        "Resample #55 done"
       ]
      },
      {
       "output_type": "stream",
       "stream": "stdout",
       "text": [
        "\n",
        "Resample #56 done"
       ]
      },
      {
       "output_type": "stream",
       "stream": "stdout",
       "text": [
        "\n",
        "Resample #57 done"
       ]
      },
      {
       "output_type": "stream",
       "stream": "stdout",
       "text": [
        "\n",
        "Resample #58 done"
       ]
      },
      {
       "output_type": "stream",
       "stream": "stdout",
       "text": [
        "\n",
        "Resample #59 done"
       ]
      },
      {
       "output_type": "stream",
       "stream": "stdout",
       "text": [
        "\n",
        "Resample #60 done"
       ]
      },
      {
       "output_type": "stream",
       "stream": "stdout",
       "text": [
        "\n",
        "Resample #61 done"
       ]
      },
      {
       "output_type": "stream",
       "stream": "stdout",
       "text": [
        "\n",
        "Resample #62 done"
       ]
      },
      {
       "output_type": "stream",
       "stream": "stdout",
       "text": [
        "\n",
        "Resample #63 done"
       ]
      },
      {
       "output_type": "stream",
       "stream": "stdout",
       "text": [
        "\n",
        "Resample #64 done"
       ]
      },
      {
       "output_type": "stream",
       "stream": "stdout",
       "text": [
        "\n",
        "Resample #65 done"
       ]
      },
      {
       "output_type": "stream",
       "stream": "stdout",
       "text": [
        "\n",
        "Resample #66 done"
       ]
      },
      {
       "output_type": "stream",
       "stream": "stdout",
       "text": [
        "\n",
        "Resample #67 done"
       ]
      },
      {
       "output_type": "stream",
       "stream": "stdout",
       "text": [
        "\n",
        "Resample #68 done"
       ]
      },
      {
       "output_type": "stream",
       "stream": "stdout",
       "text": [
        "\n",
        "Resample #69 done"
       ]
      },
      {
       "output_type": "stream",
       "stream": "stdout",
       "text": [
        "\n",
        "Resample #70 done"
       ]
      },
      {
       "output_type": "stream",
       "stream": "stdout",
       "text": [
        "\n",
        "Resample #71 done"
       ]
      },
      {
       "output_type": "stream",
       "stream": "stdout",
       "text": [
        "\n",
        "Resample #72 done"
       ]
      },
      {
       "output_type": "stream",
       "stream": "stdout",
       "text": [
        "\n",
        "Resample #73 done"
       ]
      },
      {
       "output_type": "stream",
       "stream": "stdout",
       "text": [
        "\n",
        "Resample #74 done"
       ]
      },
      {
       "output_type": "stream",
       "stream": "stdout",
       "text": [
        "\n",
        "Resample #75 done"
       ]
      },
      {
       "output_type": "stream",
       "stream": "stdout",
       "text": [
        "\n",
        "Resample #76 done"
       ]
      },
      {
       "output_type": "stream",
       "stream": "stdout",
       "text": [
        "\n",
        "Resample #77 done"
       ]
      },
      {
       "output_type": "stream",
       "stream": "stdout",
       "text": [
        "\n",
        "Resample #78 done"
       ]
      },
      {
       "output_type": "stream",
       "stream": "stdout",
       "text": [
        "\n",
        "Resample #79 done"
       ]
      },
      {
       "output_type": "stream",
       "stream": "stdout",
       "text": [
        "\n",
        "Resample #80 done"
       ]
      },
      {
       "output_type": "stream",
       "stream": "stdout",
       "text": [
        "\n",
        "Resample #81 done"
       ]
      },
      {
       "output_type": "stream",
       "stream": "stdout",
       "text": [
        "\n",
        "Resample #82 done"
       ]
      },
      {
       "output_type": "stream",
       "stream": "stdout",
       "text": [
        "\n",
        "Resample #83 done"
       ]
      },
      {
       "output_type": "stream",
       "stream": "stdout",
       "text": [
        "\n",
        "Resample #84 done"
       ]
      },
      {
       "output_type": "stream",
       "stream": "stdout",
       "text": [
        "\n",
        "Resample #85 done"
       ]
      },
      {
       "output_type": "stream",
       "stream": "stdout",
       "text": [
        "\n",
        "Resample #86 done"
       ]
      },
      {
       "output_type": "stream",
       "stream": "stdout",
       "text": [
        "\n",
        "Resample #87 done"
       ]
      },
      {
       "output_type": "stream",
       "stream": "stdout",
       "text": [
        "\n",
        "Resample #88 done"
       ]
      },
      {
       "output_type": "stream",
       "stream": "stdout",
       "text": [
        "\n",
        "Resample #89 done"
       ]
      },
      {
       "output_type": "stream",
       "stream": "stdout",
       "text": [
        "\n",
        "Resample #90 done"
       ]
      },
      {
       "output_type": "stream",
       "stream": "stdout",
       "text": [
        "\n",
        "Resample #91 done"
       ]
      },
      {
       "output_type": "stream",
       "stream": "stdout",
       "text": [
        "\n",
        "Resample #92 done"
       ]
      },
      {
       "output_type": "stream",
       "stream": "stdout",
       "text": [
        "\n",
        "Resample #93 done"
       ]
      },
      {
       "output_type": "stream",
       "stream": "stdout",
       "text": [
        "\n",
        "Resample #94 done"
       ]
      },
      {
       "output_type": "stream",
       "stream": "stdout",
       "text": [
        "\n",
        "Resample #95 done"
       ]
      },
      {
       "output_type": "stream",
       "stream": "stdout",
       "text": [
        "\n",
        "Resample #96 done"
       ]
      },
      {
       "output_type": "stream",
       "stream": "stdout",
       "text": [
        "\n",
        "Resample #97 done"
       ]
      },
      {
       "output_type": "stream",
       "stream": "stdout",
       "text": [
        "\n",
        "Resample #98 done"
       ]
      },
      {
       "output_type": "stream",
       "stream": "stdout",
       "text": [
        "\n",
        "Resample #99 done"
       ]
      },
      {
       "output_type": "stream",
       "stream": "stdout",
       "text": [
        "\n",
        "Resample #100 done"
       ]
      },
      {
       "output_type": "stream",
       "stream": "stdout",
       "text": [
        "\n",
        "Resample #101 done"
       ]
      },
      {
       "output_type": "stream",
       "stream": "stdout",
       "text": [
        "\n",
        "Resample #102 done"
       ]
      },
      {
       "output_type": "stream",
       "stream": "stdout",
       "text": [
        "\n",
        "Resample #103 done"
       ]
      },
      {
       "output_type": "stream",
       "stream": "stdout",
       "text": [
        "\n",
        "Resample #104 done"
       ]
      },
      {
       "output_type": "stream",
       "stream": "stdout",
       "text": [
        "\n",
        "Resample #105 done"
       ]
      },
      {
       "output_type": "stream",
       "stream": "stdout",
       "text": [
        "\n",
        "Resample #106 done"
       ]
      },
      {
       "output_type": "stream",
       "stream": "stdout",
       "text": [
        "\n",
        "Resample #107 done"
       ]
      },
      {
       "output_type": "stream",
       "stream": "stdout",
       "text": [
        "\n",
        "Resample #108 done"
       ]
      },
      {
       "output_type": "stream",
       "stream": "stdout",
       "text": [
        "\n",
        "Resample #109 done"
       ]
      },
      {
       "output_type": "stream",
       "stream": "stdout",
       "text": [
        "\n",
        "Resample #110 done"
       ]
      },
      {
       "output_type": "stream",
       "stream": "stdout",
       "text": [
        "\n",
        "Resample #111 done"
       ]
      },
      {
       "output_type": "stream",
       "stream": "stdout",
       "text": [
        "\n",
        "Resample #112 done"
       ]
      },
      {
       "output_type": "stream",
       "stream": "stdout",
       "text": [
        "\n",
        "Resample #113 done"
       ]
      },
      {
       "output_type": "stream",
       "stream": "stdout",
       "text": [
        "\n",
        "Resample #114 done"
       ]
      },
      {
       "output_type": "stream",
       "stream": "stdout",
       "text": [
        "\n",
        "Resample #115 done"
       ]
      },
      {
       "output_type": "stream",
       "stream": "stdout",
       "text": [
        "\n",
        "Resample #116 done"
       ]
      },
      {
       "output_type": "stream",
       "stream": "stdout",
       "text": [
        "\n",
        "Resample #117 done"
       ]
      },
      {
       "output_type": "stream",
       "stream": "stdout",
       "text": [
        "\n",
        "Resample #118 done"
       ]
      },
      {
       "output_type": "stream",
       "stream": "stdout",
       "text": [
        "\n",
        "Resample #119 done"
       ]
      },
      {
       "output_type": "stream",
       "stream": "stdout",
       "text": [
        "\n",
        "Resample #120 done"
       ]
      },
      {
       "output_type": "stream",
       "stream": "stdout",
       "text": [
        "\n",
        "Resample #121 done"
       ]
      },
      {
       "output_type": "stream",
       "stream": "stdout",
       "text": [
        "\n",
        "Resample #122 done"
       ]
      },
      {
       "output_type": "stream",
       "stream": "stdout",
       "text": [
        "\n",
        "Resample #123 done"
       ]
      },
      {
       "output_type": "stream",
       "stream": "stdout",
       "text": [
        "\n",
        "Resample #124 done"
       ]
      },
      {
       "output_type": "stream",
       "stream": "stdout",
       "text": [
        "\n",
        "Resample #125 done"
       ]
      },
      {
       "output_type": "stream",
       "stream": "stdout",
       "text": [
        "\n",
        "Resample #126 done"
       ]
      },
      {
       "output_type": "stream",
       "stream": "stdout",
       "text": [
        "\n",
        "Resample #127 done"
       ]
      },
      {
       "output_type": "stream",
       "stream": "stdout",
       "text": [
        "\n",
        "Resample #128 done"
       ]
      },
      {
       "output_type": "stream",
       "stream": "stdout",
       "text": [
        "\n",
        "Resample #129 done"
       ]
      },
      {
       "output_type": "stream",
       "stream": "stdout",
       "text": [
        "\n",
        "Resample #130 done"
       ]
      },
      {
       "output_type": "stream",
       "stream": "stdout",
       "text": [
        "\n",
        "Resample #131 done"
       ]
      },
      {
       "output_type": "stream",
       "stream": "stdout",
       "text": [
        "\n",
        "Resample #132 done"
       ]
      },
      {
       "output_type": "stream",
       "stream": "stdout",
       "text": [
        "\n",
        "Resample #133 done"
       ]
      },
      {
       "output_type": "stream",
       "stream": "stdout",
       "text": [
        "\n",
        "Resample #134 done"
       ]
      },
      {
       "output_type": "stream",
       "stream": "stdout",
       "text": [
        "\n",
        "Resample #135 done"
       ]
      },
      {
       "output_type": "stream",
       "stream": "stdout",
       "text": [
        "\n",
        "Resample #136 done"
       ]
      },
      {
       "output_type": "stream",
       "stream": "stdout",
       "text": [
        "\n",
        "Resample #137 done"
       ]
      },
      {
       "output_type": "stream",
       "stream": "stdout",
       "text": [
        "\n",
        "Resample #138 done"
       ]
      },
      {
       "output_type": "stream",
       "stream": "stdout",
       "text": [
        "\n",
        "Resample #139 done"
       ]
      },
      {
       "output_type": "stream",
       "stream": "stdout",
       "text": [
        "\n",
        "Resample #140 done"
       ]
      },
      {
       "output_type": "stream",
       "stream": "stdout",
       "text": [
        "\n",
        "Resample #141 done"
       ]
      },
      {
       "output_type": "stream",
       "stream": "stdout",
       "text": [
        "\n",
        "Resample #142 done"
       ]
      },
      {
       "output_type": "stream",
       "stream": "stdout",
       "text": [
        "\n",
        "Resample #143 done"
       ]
      },
      {
       "output_type": "stream",
       "stream": "stdout",
       "text": [
        "\n",
        "Resample #144 done"
       ]
      },
      {
       "output_type": "stream",
       "stream": "stdout",
       "text": [
        "\n",
        "Resample #145 done"
       ]
      },
      {
       "output_type": "stream",
       "stream": "stdout",
       "text": [
        "\n",
        "Resample #146 done"
       ]
      },
      {
       "output_type": "stream",
       "stream": "stdout",
       "text": [
        "\n",
        "Resample #147 done"
       ]
      },
      {
       "output_type": "stream",
       "stream": "stdout",
       "text": [
        "\n",
        "Resample #148 done"
       ]
      },
      {
       "output_type": "stream",
       "stream": "stdout",
       "text": [
        "\n",
        "Resample #149 done"
       ]
      },
      {
       "output_type": "stream",
       "stream": "stdout",
       "text": [
        "\n"
       ]
      }
     ],
     "prompt_number": 5
    },
    {
     "cell_type": "code",
     "collapsed": false,
     "input": [
      "%matplotlib qt\n",
      "for idx, model in enumerate(models):\n",
      "    print \"**************\"\n",
      "    fig = plt.figure()\n",
      "    plt.clf()\n",
      "    model.plot()\n",
      "    print model.states_list[0].trans_matrix\n",
      "    plt.gcf().suptitle('HDP-HSMM sampled after %d iterations' % (50*(idx+1)))\n",
      "#     plt.gcf().suptitle('HDP-HSMM sampled after 150 iterations')"
     ],
     "language": "python",
     "metadata": {},
     "outputs": [
      {
       "output_type": "stream",
       "stream": "stdout",
       "text": [
        "**************\n",
        "[[  0.00000000e+000   2.77652107e-001   0.00000000e+000   0.00000000e+000\n",
        "    5.10484057e-029   0.00000000e+000   2.68750417e-003   3.36327102e-007\n",
        "    3.25165728e-001   0.00000000e+000   1.05184515e-015   9.17169424e-002\n",
        "    0.00000000e+000   0.00000000e+000   1.83702533e-008   2.16301874e-168\n",
        "    6.45780143e-002   2.32910538e-001   0.00000000e+000   0.00000000e+000\n",
        "    0.00000000e+000   0.00000000e+000   5.28881149e-003   6.24657119e-136\n",
        "    4.01333055e-070]\n",
        " [  4.25201980e-024   0.00000000e+000   0.00000000e+000   1.43267997e-150\n",
        "    4.25596122e-038   0.00000000e+000   4.37816096e-001   8.83520641e-003\n",
        "    3.63475791e-001   0.00000000e+000   1.60808603e-006   4.28588414e-002\n",
        "    0.00000000e+000   0.00000000e+000   5.18242645e-004   4.82005751e-033\n",
        "    2.20433277e-002   1.15077936e-001   0.00000000e+000   0.00000000e+000\n",
        "    0.00000000e+000   0.00000000e+000   9.37295072e-003   9.43163642e-122\n",
        "    1.85566180e-019]\n",
        " [  0.00000000e+000   4.56792229e-002   0.00000000e+000   4.66034780e-067\n",
        "    1.17460720e-030   0.00000000e+000   1.93411956e-002   2.08388166e-014\n",
        "    5.57713594e-001   0.00000000e+000   1.28297309e-010   1.67336641e-001\n",
        "    0.00000000e+000   0.00000000e+000   3.86689687e-004   0.00000000e+000\n",
        "    3.45542401e-002   1.39933887e-001   0.00000000e+000   0.00000000e+000\n",
        "    1.24450494e-002   0.00000000e+000   2.26094807e-002   1.78519290e-049\n",
        "    1.89286843e-173]\n",
        " [  3.51859918e-290   2.60878715e-001   2.59050657e-234   0.00000000e+000\n",
        "    1.77110414e-019   0.00000000e+000   1.62171430e-001   2.41626936e-002\n",
        "    3.38505306e-001   0.00000000e+000   1.21743165e-005   3.81464777e-002\n",
        "    0.00000000e+000   0.00000000e+000   3.72662455e-007   2.87968192e-014\n",
        "    1.28946384e-001   1.28724403e-002   0.00000000e+000   0.00000000e+000\n",
        "    0.00000000e+000   0.00000000e+000   3.43040066e-002   1.72374495e-175\n",
        "    5.32687817e-087]\n",
        " [  0.00000000e+000   2.30863385e-001   0.00000000e+000   6.95920407e-194\n",
        "    0.00000000e+000   0.00000000e+000   4.46832646e-001   4.06283359e-028\n",
        "    1.42510068e-001   0.00000000e+000   3.13777091e-002   2.94095000e-003\n",
        "    3.48507039e-280   3.58203640e-089   7.02911345e-014   9.32054615e-202\n",
        "    3.08181654e-002   1.04319682e-001   0.00000000e+000   0.00000000e+000\n",
        "    7.18980700e-189   1.16817235e-186   1.03373943e-002   2.96247061e-074\n",
        "    5.40395652e-085]\n",
        " [  1.32547194e-039   7.42985407e-003   0.00000000e+000   0.00000000e+000\n",
        "    5.84434876e-069   0.00000000e+000   2.95727253e-002   4.13599335e-013\n",
        "    1.70295475e-001   0.00000000e+000   1.09288324e-002   6.80808477e-001\n",
        "    5.11665970e-012   0.00000000e+000   2.56375330e-005   1.09990663e-189\n",
        "    8.78595079e-002   3.10547021e-003   0.00000000e+000   0.00000000e+000\n",
        "    1.35961363e-136   0.00000000e+000   9.97402100e-003   1.90824802e-214\n",
        "    6.29131713e-194]\n",
        " [  0.00000000e+000   1.73385163e-001   0.00000000e+000   0.00000000e+000\n",
        "    3.71212797e-184   0.00000000e+000   0.00000000e+000   6.23406326e-027\n",
        "    1.78778309e-001   0.00000000e+000   1.24860413e-002   4.17368333e-002\n",
        "    0.00000000e+000   0.00000000e+000   3.54939271e-007   3.31858105e-005\n",
        "    1.36061285e-002   5.32685434e-001   0.00000000e+000   0.00000000e+000\n",
        "    3.12367031e-220   0.00000000e+000   4.72885509e-002   1.12108574e-237\n",
        "    4.34680756e-076]\n",
        " [  3.11939962e-136   3.36101793e-001   0.00000000e+000   1.91087840e-289\n",
        "    1.02635386e-202   0.00000000e+000   2.25201996e-001   0.00000000e+000\n",
        "    1.03385641e-001   0.00000000e+000   5.31025256e-015   4.37753928e-003\n",
        "    3.67909960e-014   0.00000000e+000   2.51581474e-006   9.94160970e-081\n",
        "    2.67065840e-001   6.00410837e-003   0.00000000e+000   0.00000000e+000\n",
        "    0.00000000e+000   0.00000000e+000   5.78605656e-002   6.11681461e-148\n",
        "    9.73415384e-072]\n",
        " [  3.79958551e-061   7.09479986e-002   1.54669294e-082   0.00000000e+000\n",
        "    6.24668324e-121   0.00000000e+000   1.70315855e-001   4.05140543e-011\n",
        "    0.00000000e+000   0.00000000e+000   8.34855917e-012   6.53705307e-002\n",
        "    0.00000000e+000   0.00000000e+000   3.35018470e-009   1.09728969e-060\n",
        "    6.71402576e-001   1.97838411e-002   0.00000000e+000   0.00000000e+000\n",
        "    0.00000000e+000   0.00000000e+000   2.17919583e-003   1.02349189e-055\n",
        "    5.91807746e-056]\n",
        " [  0.00000000e+000   1.29168050e-001   0.00000000e+000   2.69662713e-005\n",
        "    5.18613666e-010   0.00000000e+000   2.59652472e-002   4.02415960e-025\n",
        "    2.72421308e-001   0.00000000e+000   1.59702555e-011   7.14195400e-002\n",
        "    7.67986925e-213   0.00000000e+000   5.06796074e-002   1.46605158e-041\n",
        "    3.30518694e-001   2.38490235e-002   0.00000000e+000   0.00000000e+000\n",
        "    2.86222363e-244   0.00000000e+000   9.59515621e-002   3.68284482e-010\n",
        "    2.45924171e-033]\n",
        " [  2.12203174e-087   1.22059152e-001   0.00000000e+000   0.00000000e+000\n",
        "    5.75570695e-085   0.00000000e+000   1.65981770e-001   3.51028210e-006\n",
        "    3.41681903e-001   0.00000000e+000   0.00000000e+000   3.37746824e-002\n",
        "    0.00000000e+000   0.00000000e+000   1.43244735e-013   4.23616153e-064\n",
        "    1.07832331e-001   9.40298478e-003   0.00000000e+000   0.00000000e+000\n",
        "    5.17111456e-175   0.00000000e+000   2.19263667e-001   1.55986384e-101\n",
        "    7.96789593e-087]\n",
        " [  0.00000000e+000   2.11208033e-001   0.00000000e+000   1.27525212e-241\n",
        "    3.29418096e-188   0.00000000e+000   5.89419643e-003   1.62743900e-095\n",
        "    2.70480309e-001   0.00000000e+000   8.52173726e-006   0.00000000e+000\n",
        "    1.73733528e-221   0.00000000e+000   2.97372009e-009   1.54453590e-043\n",
        "    1.53036148e-002   4.80233884e-004   0.00000000e+000   0.00000000e+000\n",
        "    0.00000000e+000   0.00000000e+000   4.96625088e-001   1.29516147e-030\n",
        "    5.54459882e-277]\n",
        " [  0.00000000e+000   5.26057648e-002   0.00000000e+000   3.85114053e-098\n",
        "    2.14029972e-097   0.00000000e+000   7.86032430e-003   1.11807509e-006\n",
        "    1.89929205e-001   0.00000000e+000   3.59831855e-002   2.27193217e-002\n",
        "    0.00000000e+000   0.00000000e+000   3.58005921e-012   4.02984930e-006\n",
        "    6.18868169e-001   6.42759369e-002   0.00000000e+000   0.00000000e+000\n",
        "    1.98617169e-134   0.00000000e+000   7.75294568e-003   1.34666630e-056\n",
        "    2.51340058e-108]\n",
        " [  0.00000000e+000   7.58708440e-002   0.00000000e+000   1.80783045e-240\n",
        "    3.05335975e-162   0.00000000e+000   1.54771240e-001   2.30814608e-006\n",
        "    4.76252762e-002   0.00000000e+000   1.03234386e-004   3.97800082e-002\n",
        "    0.00000000e+000   0.00000000e+000   8.03523737e-016   8.71037376e-043\n",
        "    5.32976122e-001   2.30983039e-003   0.00000000e+000   0.00000000e+000\n",
        "    0.00000000e+000   5.85149981e-044   5.07045229e-004   6.07231921e-050\n",
        "    1.46054091e-001]\n",
        " [  0.00000000e+000   8.56524661e-002   0.00000000e+000   0.00000000e+000\n",
        "    1.04425207e-227   0.00000000e+000   1.08672420e-001   2.96415994e-005\n",
        "    3.14142389e-002   0.00000000e+000   1.73049809e-020   5.58973372e-001\n",
        "    6.88038945e-282   0.00000000e+000   0.00000000e+000   6.48018683e-050\n",
        "    1.32187481e-002   1.38270034e-001   0.00000000e+000   0.00000000e+000\n",
        "    6.10670750e-128   0.00000000e+000   6.37690794e-002   0.00000000e+000\n",
        "    8.18296666e-130]\n",
        " [  3.04619398e-133   6.05536382e-002   0.00000000e+000   0.00000000e+000\n",
        "    8.16649117e-088   0.00000000e+000   1.45565650e-001   3.42725283e-008\n",
        "    2.74301601e-001   0.00000000e+000   4.47495352e-008   4.96947718e-002\n",
        "    0.00000000e+000   0.00000000e+000   2.17989823e-033   0.00000000e+000\n",
        "    3.15662989e-001   5.43878380e-002   0.00000000e+000   0.00000000e+000\n",
        "    0.00000000e+000   0.00000000e+000   9.98334326e-002   2.63956392e-147\n",
        "    6.85832308e-013]\n",
        " [  8.89318163e-323   2.71191723e-001   0.00000000e+000   0.00000000e+000\n",
        "    0.00000000e+000   0.00000000e+000   1.39511430e-001   5.48865411e-006\n",
        "    4.40352773e-001   0.00000000e+000   2.93710785e-015   5.60703189e-002\n",
        "    0.00000000e+000   0.00000000e+000   4.87041501e-010   3.16603376e-088\n",
        "    0.00000000e+000   3.13263777e-003   0.00000000e+000   0.00000000e+000\n",
        "    2.01254439e-080   0.00000000e+000   8.97356277e-002   5.00985525e-249\n",
        "    5.45919435e-049]\n",
        " [  0.00000000e+000   9.33006751e-003   0.00000000e+000   0.00000000e+000\n",
        "    6.33768994e-166   3.27527158e-122   1.71174216e-001   7.73239731e-089\n",
        "    5.43052105e-001   0.00000000e+000   1.60211337e-013   2.07123413e-001\n",
        "    2.74997199e-222   0.00000000e+000   2.60313676e-006   9.58401949e-014\n",
        "    6.56675828e-002   0.00000000e+000   0.00000000e+000   0.00000000e+000\n",
        "    0.00000000e+000   0.00000000e+000   3.65000189e-003   0.00000000e+000\n",
        "    1.06170801e-008]\n",
        " [  1.96653275e-253   2.61828955e-002   0.00000000e+000   8.22504294e-285\n",
        "    3.79477630e-047   0.00000000e+000   2.76812982e-001   2.64607845e-041\n",
        "    8.30633938e-002   0.00000000e+000   1.68436671e-003   1.21658797e-001\n",
        "    1.58749232e-098   0.00000000e+000   5.06280432e-002   0.00000000e+000\n",
        "    1.51290890e-001   2.88661719e-001   0.00000000e+000   0.00000000e+000\n",
        "    0.00000000e+000   0.00000000e+000   1.69130994e-005   2.62730038e-017\n",
        "    1.48219694e-322]\n",
        " [  1.55788716e-299   2.75854113e-001   0.00000000e+000   0.00000000e+000\n",
        "    3.21139149e-015   0.00000000e+000   1.10007220e-001   1.13639146e-005\n",
        "    3.65450267e-001   0.00000000e+000   2.33571099e-011   1.61320526e-001\n",
        "    0.00000000e+000   0.00000000e+000   9.75150416e-003   6.00694078e-033\n",
        "    4.02178139e-002   3.71002084e-002   0.00000000e+000   0.00000000e+000\n",
        "    7.33235414e-154   0.00000000e+000   2.86983545e-004   7.74897396e-154\n",
        "    2.52753712e-050]\n",
        " [  5.05912248e-197   1.33882200e-002   0.00000000e+000   2.42410012e-071\n",
        "    2.06273995e-048   0.00000000e+000   6.17097207e-002   1.43539678e-006\n",
        "    3.39521081e-001   0.00000000e+000   3.57215404e-002   2.88777104e-001\n",
        "    0.00000000e+000   0.00000000e+000   1.06740303e-009   9.59087422e-021\n",
        "    1.16028829e-002   1.66783243e-001   0.00000000e+000   0.00000000e+000\n",
        "    0.00000000e+000   0.00000000e+000   8.24947718e-002   1.54980180e-113\n",
        "    2.43765831e-054]\n",
        " [  0.00000000e+000   8.36308698e-002   0.00000000e+000   0.00000000e+000\n",
        "    0.00000000e+000   0.00000000e+000   1.02906833e-001   3.02111580e-007\n",
        "    3.01012985e-001   0.00000000e+000   4.35335261e-009   2.38001667e-001\n",
        "    6.17501752e-015   0.00000000e+000   4.52463087e-012   1.25148252e-042\n",
        "    1.33952379e-001   9.77742650e-002   0.00000000e+000   0.00000000e+000\n",
        "    0.00000000e+000   0.00000000e+000   4.27206955e-002   9.88131292e-324\n",
        "    8.08798894e-125]\n",
        " [  0.00000000e+000   4.21766190e-001   0.00000000e+000   3.08059511e-130\n",
        "    8.16269840e-043   0.00000000e+000   1.90284909e-001   1.67035421e-010\n",
        "    9.81617465e-003   0.00000000e+000   6.71096679e-007   2.72320046e-001\n",
        "    2.71893470e-014   0.00000000e+000   9.28873876e-003   5.08049531e-048\n",
        "    8.78390292e-002   8.68424110e-003   0.00000000e+000   0.00000000e+000\n",
        "    3.18909541e-308   0.00000000e+000   0.00000000e+000   8.48253715e-026\n",
        "    1.71098528e-083]\n",
        " [  3.46980841e-030   1.13237154e-001   0.00000000e+000   2.74106234e-152\n",
        "    2.40741645e-067   0.00000000e+000   3.62499899e-001   2.95272666e-019\n",
        "    4.04626138e-001   0.00000000e+000   3.56022714e-008   3.67140530e-002\n",
        "    0.00000000e+000   0.00000000e+000   2.47706782e-028   1.37941109e-056\n",
        "    6.81165688e-003   5.73853266e-002   0.00000000e+000   0.00000000e+000\n",
        "    0.00000000e+000   0.00000000e+000   1.87257366e-002   0.00000000e+000\n",
        "    2.24473658e-031]\n",
        " [  6.66092090e-108   3.64406110e-002   1.82167117e-108   7.30322640e-083\n",
        "    6.14469444e-320   0.00000000e+000   1.17958228e-001   1.42878884e-015\n",
        "    3.11404146e-001   0.00000000e+000   4.43415912e-011   2.27169871e-001\n",
        "    0.00000000e+000   0.00000000e+000   4.68167971e-015   4.24589877e-025\n",
        "    1.65771630e-001   1.38933538e-001   0.00000000e+000   0.00000000e+000\n",
        "    0.00000000e+000   0.00000000e+000   2.32197642e-003   2.90563131e-044\n",
        "    0.00000000e+000]]"
       ]
      },
      {
       "output_type": "stream",
       "stream": "stdout",
       "text": [
        "\n",
        "**************\n",
        "[[  0.00000000e+000   3.42828364e-001   1.52594395e-002   0.00000000e+000\n",
        "    1.48220011e-194   0.00000000e+000   1.56752880e-002   7.59124148e-214\n",
        "    1.37254361e-001   4.61001609e-073   8.07404869e-051   1.30176806e-001\n",
        "    1.13659155e-082   3.39165878e-004   2.25643764e-002   0.00000000e+000\n",
        "    1.42803037e-001   1.29182949e-082   8.20361446e-024   0.00000000e+000\n",
        "    0.00000000e+000   1.06164281e-001   8.69348812e-002   0.00000000e+000\n",
        "    0.00000000e+000]\n",
        " [  2.29783234e-041   0.00000000e+000   2.92500278e-028   0.00000000e+000\n",
        "    2.19544129e-177   0.00000000e+000   4.59072702e-001   1.60714042e-149\n",
        "    4.27955600e-001   3.38521425e-028   4.85163871e-004   8.22917862e-002\n",
        "    4.62916117e-006   9.72241121e-021   2.52965196e-005   0.00000000e+000\n",
        "    2.20357592e-003   0.00000000e+000   1.54453565e-261   0.00000000e+000\n",
        "    0.00000000e+000   8.33506601e-014   2.79612454e-002   0.00000000e+000\n",
        "    0.00000000e+000]\n",
        " [  1.20518205e-006   1.13739731e-001   0.00000000e+000   0.00000000e+000\n",
        "    4.12479632e-100   0.00000000e+000   4.93411666e-002   7.18899281e-271\n",
        "    5.47166094e-001   4.29544030e-018   4.10273411e-022   1.10933932e-001\n",
        "    0.00000000e+000   2.40700314e-005   4.30477658e-002   0.00000000e+000\n",
        "    1.17994254e-001   0.00000000e+000   1.02461936e-041   0.00000000e+000\n",
        "    0.00000000e+000   5.32102172e-010   1.77517805e-002   0.00000000e+000\n",
        "    0.00000000e+000]\n",
        " [  4.60218160e-004   2.54838446e-001   1.38282046e-013   0.00000000e+000\n",
        "    8.07444392e-084   0.00000000e+000   4.34859189e-001   1.50948737e-028\n",
        "    6.39132589e-002   3.55307923e-004   2.19828506e-021   3.29537550e-002\n",
        "    5.98290666e-182   1.10992433e-009   1.31480149e-007   0.00000000e+000\n",
        "    8.97604241e-002   1.33681667e-122   3.74987950e-058   0.00000000e+000\n",
        "    0.00000000e+000   2.47593953e-006   1.22856793e-001   0.00000000e+000\n",
        "    0.00000000e+000]\n",
        " [  3.48039961e-019   7.16850829e-002   6.81495571e-003   0.00000000e+000\n",
        "    0.00000000e+000   0.00000000e+000   1.95397144e-002   0.00000000e+000\n",
        "    3.14031424e-001   1.23747359e-073   4.36260313e-010   1.53108945e-001\n",
        "    0.00000000e+000   3.65476071e-020   3.29128588e-006   0.00000000e+000\n",
        "    3.40577540e-001   1.56912995e-110   4.23732244e-002   0.00000000e+000\n",
        "    0.00000000e+000   1.61438158e-031   5.18658219e-002   0.00000000e+000\n",
        "    0.00000000e+000]\n",
        " [  1.26683050e-061   3.03527681e-001   6.74472272e-006   0.00000000e+000\n",
        "    2.44541388e-028   0.00000000e+000   4.65654295e-001   5.87562329e-198\n",
        "    2.47253869e-002   8.14457303e-004   6.20489575e-040   8.40147103e-003\n",
        "    2.20729848e-289   4.28265903e-015   5.01006926e-003   0.00000000e+000\n",
        "    7.41828942e-002   0.00000000e+000   2.87589070e-084   0.00000000e+000\n",
        "    0.00000000e+000   5.38352838e-032   1.17677000e-001   0.00000000e+000\n",
        "    0.00000000e+000]\n",
        " [  1.75798861e-012   5.99287725e-001   1.77843083e-005   0.00000000e+000\n",
        "    6.30372038e-025   2.11141205e-117   0.00000000e+000   1.31555663e-188\n",
        "    2.16099076e-001   3.94470272e-027   7.08715595e-070   7.85810720e-002\n",
        "    2.50210072e-074   1.52125036e-017   7.41101906e-003   0.00000000e+000\n",
        "    8.65355826e-002   1.30248343e-300   1.58225410e-040   0.00000000e+000\n",
        "    0.00000000e+000   1.64000146e-023   1.20677405e-002   0.00000000e+000\n",
        "    0.00000000e+000]\n",
        " [  1.17591841e-014   9.83311358e-002   9.09305153e-032   0.00000000e+000\n",
        "    4.78022452e-091   1.27244870e-116   5.17640188e-002   0.00000000e+000\n",
        "    3.03789754e-001   3.58095528e-127   1.73055691e-023   8.50998309e-004\n",
        "    2.11433889e-284   3.24495175e-005   3.09095188e-003   0.00000000e+000\n",
        "    4.30443368e-001   8.66605522e-265   3.35131228e-137   0.00000000e+000\n",
        "    0.00000000e+000   2.61076987e-008   1.11697298e-001   0.00000000e+000\n",
        "    0.00000000e+000]\n",
        " [  4.87699262e-006   1.52219553e-001   2.49881583e-017   0.00000000e+000\n",
        "    2.89630874e-033   0.00000000e+000   2.56550358e-002   5.02207795e-051\n",
        "    0.00000000e+000   9.10738503e-039   1.15087387e-039   9.89522991e-002\n",
        "    4.73005778e-156   2.59889482e-036   1.47226784e-004   0.00000000e+000\n",
        "    6.64833573e-001   2.35471380e-018   1.87654274e-077   0.00000000e+000\n",
        "    0.00000000e+000   3.16597672e-009   5.81874312e-002   0.00000000e+000\n",
        "    0.00000000e+000]\n",
        " [  2.57822432e-015   1.23227912e-001   1.19412453e-039   0.00000000e+000\n",
        "    2.14388396e-015   9.75138867e-207   4.93967050e-002   0.00000000e+000\n",
        "    2.86787754e-001   0.00000000e+000   9.90019797e-034   6.45950426e-003\n",
        "    0.00000000e+000   1.60556483e-013   3.58729799e-004   0.00000000e+000\n",
        "    1.84210112e-001   9.50066733e-114   1.72003672e-018   0.00000000e+000\n",
        "    0.00000000e+000   1.53068532e-001   1.96490751e-001   0.00000000e+000\n",
        "    0.00000000e+000]\n",
        " [  4.11640917e-030   1.39260178e-001   1.22102360e-022   0.00000000e+000\n",
        "    3.19165736e-011   0.00000000e+000   2.24100763e-002   7.56031539e-098\n",
        "    8.80168421e-002   6.08209704e-076   0.00000000e+000   4.20560200e-004\n",
        "    3.62904370e-280   1.03955071e-009   7.46146292e-003   0.00000000e+000\n",
        "    1.28959793e-001   1.91828118e-192   6.54111447e-013   0.00000000e+000\n",
        "    0.00000000e+000   2.40571460e-004   6.13230514e-001   0.00000000e+000\n",
        "    0.00000000e+000]\n",
        " [  1.37005654e-009   4.29431119e-002   6.32663908e-007   0.00000000e+000\n",
        "    7.78682485e-178   2.41763504e-032   3.37738075e-002   1.41973322e-136\n",
        "    1.55178514e-002   6.13631393e-010   6.20938236e-009   0.00000000e+000\n",
        "    0.00000000e+000   1.23601305e-004   6.92033193e-007   0.00000000e+000\n",
        "    4.42448350e-003   0.00000000e+000   3.39655162e-221   0.00000000e+000\n",
        "    0.00000000e+000   2.97747450e-003   9.00238337e-001   0.00000000e+000\n",
        "    7.74528746e-163]\n",
        " [  1.02560853e-006   6.64491428e-002   1.21712133e-044   0.00000000e+000\n",
        "    5.77288755e-012   0.00000000e+000   4.24356262e-002   6.81327006e-084\n",
        "    2.29964736e-001   6.84889125e-028   6.23804125e-083   1.49341796e-002\n",
        "    0.00000000e+000   3.60211313e-010   2.37734800e-003   0.00000000e+000\n",
        "    7.10812122e-002   4.29354286e-166   4.13357986e-115   6.83361847e-053\n",
        "    0.00000000e+000   1.12951657e-027   5.72756729e-001   0.00000000e+000\n",
        "    0.00000000e+000]\n",
        " [  6.60238550e-005   2.24837841e-001   1.06104644e-025   0.00000000e+000\n",
        "    6.02081948e-015   0.00000000e+000   7.49544242e-003   0.00000000e+000\n",
        "    1.69058241e-001   3.78212737e-073   2.46540752e-060   1.13955617e-004\n",
        "    3.58934278e-268   0.00000000e+000   1.18516092e-010   0.00000000e+000\n",
        "    4.57435912e-001   0.00000000e+000   3.93183274e-030   0.00000000e+000\n",
        "    0.00000000e+000   2.47051198e-018   1.40992585e-001   0.00000000e+000\n",
        "    0.00000000e+000]\n",
        " [  8.14605224e-037   1.26191887e-001   1.98205589e-013   0.00000000e+000\n",
        "    8.23349079e-077   0.00000000e+000   4.44848992e-002   4.13593275e-106\n",
        "    1.26753903e-001   3.52557543e-064   1.15908005e-043   2.30705268e-001\n",
        "    0.00000000e+000   1.33497093e-024   0.00000000e+000   0.00000000e+000\n",
        "    2.77469185e-001   1.40359428e-124   6.56167358e-084   0.00000000e+000\n",
        "    0.00000000e+000   7.39625174e-005   1.94320895e-001   0.00000000e+000\n",
        "    0.00000000e+000]\n",
        " [  1.02675229e-024   1.97391631e-002   9.35755349e-033   0.00000000e+000\n",
        "    1.64499713e-064   4.48063311e-094   2.68114449e-001   5.93174366e-315\n",
        "    4.91849748e-002   5.51743185e-005   1.92191881e-042   2.79084904e-001\n",
        "    0.00000000e+000   5.05605356e-003   9.43279014e-006   0.00000000e+000\n",
        "    3.27690654e-001   1.20307648e-267   3.05587816e-023   0.00000000e+000\n",
        "    0.00000000e+000   1.36758577e-008   5.10651798e-002   0.00000000e+000\n",
        "    0.00000000e+000]\n",
        " [  3.64887907e-003   2.80531028e-001   1.45887233e-016   0.00000000e+000\n",
        "    1.61174244e-013   0.00000000e+000   1.76688893e-001   0.00000000e+000\n",
        "    2.83050708e-001   2.69003021e-006   1.83463598e-047   7.58233795e-002\n",
        "    0.00000000e+000   1.45216424e-007   1.83141295e-005   0.00000000e+000\n",
        "    0.00000000e+000   1.96345714e-127   8.85523239e-029   0.00000000e+000\n",
        "    0.00000000e+000   4.15757776e-016   1.80235963e-001   0.00000000e+000\n",
        "    0.00000000e+000]\n",
        " [  7.71955187e-007   2.83329996e-001   8.07976768e-009   0.00000000e+000\n",
        "    2.07782227e-004   0.00000000e+000   1.98089225e-002   6.98444289e-049\n",
        "    1.53760983e-001   3.50849377e-062   2.57127161e-056   1.75664332e-001\n",
        "    3.51026988e-135   5.26205639e-026   4.51800556e-004   0.00000000e+000\n",
        "    2.79578214e-001   0.00000000e+000   6.25013576e-295   0.00000000e+000\n",
        "    0.00000000e+000   2.14334862e-012   8.71971900e-002   0.00000000e+000\n",
        "    0.00000000e+000]\n",
        " [  2.35277515e-038   2.50432776e-001   3.95146682e-029   0.00000000e+000\n",
        "    5.26376615e-041   1.53803299e-254   7.10585695e-003   5.89880910e-142\n",
        "    4.59166440e-001   1.51683789e-199   1.30638475e-024   2.68210697e-002\n",
        "    1.88003994e-116   6.31749155e-020   4.01754205e-003   0.00000000e+000\n",
        "    1.90414392e-001   9.74643970e-015   0.00000000e+000   0.00000000e+000\n",
        "    0.00000000e+000   1.05955776e-014   6.20419236e-002   0.00000000e+000\n",
        "    0.00000000e+000]\n",
        " [  3.46131457e-024   1.92778755e-001   3.05120014e-030   0.00000000e+000\n",
        "    1.27357479e-021   2.46077082e-218   1.01968581e-002   6.24974830e-204\n",
        "    2.93988715e-001   2.77902187e-023   1.78826309e-036   4.37404797e-002\n",
        "    0.00000000e+000   4.33624718e-021   9.88641759e-018   0.00000000e+000\n",
        "    3.50249313e-001   4.99563848e-244   1.64384793e-268   0.00000000e+000\n",
        "    0.00000000e+000   1.47441856e-005   1.09031134e-001   0.00000000e+000\n",
        "    2.91713751e-186]\n",
        " [  2.37825251e-001   1.99206600e-002   9.03936154e-006   0.00000000e+000\n",
        "    4.12931233e-217   1.00080085e-136   1.74380065e-001   1.07280739e-178\n",
        "    8.89682842e-002   6.30739375e-017   2.77241063e-016   2.53235002e-001\n",
        "    2.27674721e-140   5.24394545e-002   1.83221126e-005   0.00000000e+000\n",
        "    1.36383869e-001   2.49055613e-164   6.31283752e-080   0.00000000e+000\n",
        "    0.00000000e+000   1.61568357e-013   3.68200533e-002   0.00000000e+000\n",
        "    0.00000000e+000]\n",
        " [  6.26548527e-021   3.03477205e-001   4.86820203e-004   0.00000000e+000\n",
        "    3.44487921e-110   0.00000000e+000   2.86478150e-002   2.70121299e-035\n",
        "    9.55776423e-002   1.25387034e-002   5.18211505e-002   1.12508036e-001\n",
        "    0.00000000e+000   1.14391132e-003   7.43388494e-019   0.00000000e+000\n",
        "    2.71341842e-001   2.54231256e-162   2.90033987e-022   0.00000000e+000\n",
        "    0.00000000e+000   0.00000000e+000   1.22456874e-001   0.00000000e+000\n",
        "    0.00000000e+000]\n",
        " [  9.02904379e-023   5.15902037e-001   7.32303722e-027   0.00000000e+000\n",
        "    3.16684242e-012   3.93167632e-222   2.03787827e-003   5.40954592e-309\n",
        "    9.31845797e-002   3.77265718e-192   2.33587297e-008   2.10116442e-001\n",
        "    0.00000000e+000   6.12606485e-075   5.53658244e-004   0.00000000e+000\n",
        "    1.78186249e-001   0.00000000e+000   8.82846738e-146   0.00000000e+000\n",
        "    0.00000000e+000   1.91333217e-005   0.00000000e+000   0.00000000e+000\n",
        "    0.00000000e+000]\n",
        " [  1.69787200e-006   4.53707337e-001   8.13207648e-059   0.00000000e+000\n",
        "    2.36161725e-010   6.05139877e-044   3.77713300e-002   5.49323682e-078\n",
        "    1.22765689e-001   1.04724167e-058   6.85107183e-015   2.39785050e-001\n",
        "    3.31796153e-005   3.25463600e-003   8.13058584e-003   0.00000000e+000\n",
        "    7.85847742e-002   0.00000000e+000   4.42202078e-049   0.00000000e+000\n",
        "    0.00000000e+000   5.83902144e-003   5.01266987e-002   0.00000000e+000\n",
        "    0.00000000e+000]\n",
        " [  9.74368976e-004   7.73592776e-002   2.81819654e-004   0.00000000e+000\n",
        "    6.83004563e-004   0.00000000e+000   5.76051851e-002   4.40533466e-190\n",
        "    1.99911850e-002   2.34764107e-012   1.15881148e-052   6.36498594e-003\n",
        "    0.00000000e+000   2.33041042e-032   5.45016997e-006   0.00000000e+000\n",
        "    6.18494915e-001   8.63944825e-163   9.81026126e-096   0.00000000e+000\n",
        "    0.00000000e+000   2.99525165e-007   2.18239508e-001   0.00000000e+000\n",
        "    0.00000000e+000]]"
       ]
      },
      {
       "output_type": "stream",
       "stream": "stdout",
       "text": [
        "\n",
        "**************\n",
        "[[  0.00000000e+000   3.02066011e-001   0.00000000e+000   1.75465754e-071\n",
        "    0.00000000e+000   0.00000000e+000   8.68939010e-002   4.73557684e-037\n",
        "    1.50013033e-001   0.00000000e+000   1.57802210e-189   3.40383222e-001\n",
        "    7.25645808e-012   0.00000000e+000   1.00861567e-056   1.24539810e-014\n",
        "    1.61355951e-003   1.84164259e-080   2.33588393e-201   0.00000000e+000\n",
        "    7.39884493e-030   3.11662548e-005   1.18999107e-001   0.00000000e+000\n",
        "    1.04296717e-015]\n",
        " [  9.25584759e-029   0.00000000e+000   0.00000000e+000   6.78243154e-039\n",
        "    0.00000000e+000   0.00000000e+000   5.18820097e-001   6.09325916e-008\n",
        "    1.53722622e-001   0.00000000e+000   1.76168610e-049   9.06472530e-002\n",
        "    3.32001082e-007   0.00000000e+000   5.92807469e-007   2.04206268e-005\n",
        "    1.14673572e-001   0.00000000e+000   2.37143368e-048   0.00000000e+000\n",
        "    1.73279304e-019   2.45577244e-003   1.19659277e-001   2.79717323e-048\n",
        "    4.28837952e-160]\n",
        " [  3.33951927e-003   3.82331826e-001   0.00000000e+000   1.59209730e-061\n",
        "    0.00000000e+000   0.00000000e+000   1.01834553e-002   1.10236826e-243\n",
        "    2.04888638e-002   0.00000000e+000   0.00000000e+000   4.66972961e-002\n",
        "    9.49291761e-002   0.00000000e+000   1.32830764e-023   3.68149859e-027\n",
        "    1.73827001e-001   3.44645125e-076   3.06704973e-100   2.40269763e-023\n",
        "    7.57114824e-066   3.02894117e-002   2.37913450e-001   0.00000000e+000\n",
        "    1.45701633e-199]\n",
        " [  1.10007039e-023   6.83678514e-001   0.00000000e+000   0.00000000e+000\n",
        "    0.00000000e+000   0.00000000e+000   1.38604127e-001   0.00000000e+000\n",
        "    8.58239461e-002   0.00000000e+000   0.00000000e+000   2.50869930e-002\n",
        "    1.43402503e-004   0.00000000e+000   3.63930938e-023   2.08823278e-018\n",
        "    6.93625985e-003   4.47366970e-305   1.90137454e-069   0.00000000e+000\n",
        "    7.73907274e-040   1.26559938e-008   5.97267449e-002   2.34899708e-235\n",
        "    3.06219232e-015]\n",
        " [  3.66247299e-016   5.56462713e-001   0.00000000e+000   8.69656729e-106\n",
        "    0.00000000e+000   0.00000000e+000   1.06846290e-002   6.26728843e-182\n",
        "    3.28818691e-002   0.00000000e+000   2.12956780e-052   4.60705788e-003\n",
        "    1.03142334e-008   0.00000000e+000   3.34725782e-038   4.25110496e-003\n",
        "    1.16114023e-002   1.32826612e-113   1.77533710e-175   9.83177772e-125\n",
        "    5.66440679e-035   2.84035162e-015   3.79501213e-001   1.03689190e-220\n",
        "    2.20829339e-203]\n",
        " [  1.39720877e-056   9.95356025e-002   0.00000000e+000   3.39747057e-021\n",
        "    0.00000000e+000   0.00000000e+000   5.59804781e-003   0.00000000e+000\n",
        "    5.54244074e-001   0.00000000e+000   1.19215765e-104   1.78261103e-001\n",
        "    2.07213421e-006   0.00000000e+000   3.47966916e-069   1.09580706e-006\n",
        "    4.67716697e-002   1.20070170e-173   1.02727993e-009   0.00000000e+000\n",
        "    5.18309859e-052   6.36252904e-008   1.15586270e-001   4.93473092e-081\n",
        "    7.26786703e-144]\n",
        " [  1.37881125e-008   4.83030306e-001   0.00000000e+000   1.54664147e-038\n",
        "    0.00000000e+000   0.00000000e+000   0.00000000e+000   2.40111133e-059\n",
        "    2.84665322e-001   0.00000000e+000   1.31413686e-272   2.28165794e-001\n",
        "    4.86170982e-009   0.00000000e+000   4.20641525e-059   1.10311959e-003\n",
        "    1.24984164e-004   0.00000000e+000   6.25981392e-065   0.00000000e+000\n",
        "    1.99943552e-032   1.03350731e-005   2.90012097e-003   3.21142670e-322\n",
        "    1.11966034e-165]\n",
        " [  1.68668843e-007   5.37955346e-001   0.00000000e+000   1.58256336e-037\n",
        "    0.00000000e+000   0.00000000e+000   3.20325380e-001   0.00000000e+000\n",
        "    7.11301628e-002   0.00000000e+000   0.00000000e+000   3.20602131e-002\n",
        "    5.16995313e-032   0.00000000e+000   2.86665690e-006   1.70805481e-006\n",
        "    3.39630626e-003   3.31313093e-061   3.79447045e-068   0.00000000e+000\n",
        "    1.55444570e-020   1.01790223e-009   3.51278481e-002   3.42789509e-079\n",
        "    9.58125447e-162]\n",
        " [  1.67594661e-033   3.24312256e-001   0.00000000e+000   1.21855501e-028\n",
        "    0.00000000e+000   0.00000000e+000   5.26243672e-004   0.00000000e+000\n",
        "    0.00000000e+000   0.00000000e+000   7.65975255e-234   1.04276820e-001\n",
        "    6.04583371e-005   0.00000000e+000   6.41441368e-048   1.01854015e-005\n",
        "    5.28312469e-001   0.00000000e+000   1.11300099e-009   0.00000000e+000\n",
        "    3.07441289e-055   6.61576863e-018   4.25015666e-002   3.93853463e-017\n",
        "    1.90230457e-014]\n",
        " [  1.73863518e-044   1.76269623e-001   0.00000000e+000   5.32236598e-041\n",
        "    0.00000000e+000   0.00000000e+000   2.13447312e-002   2.42846718e-298\n",
        "    1.82259833e-001   0.00000000e+000   8.79383071e-130   2.26696661e-001\n",
        "    1.34105970e-010   0.00000000e+000   4.30542068e-030   2.40517290e-022\n",
        "    2.65328748e-001   0.00000000e+000   4.86017796e-173   0.00000000e+000\n",
        "    3.06270171e-038   2.00115549e-022   1.28100404e-001   7.82968812e-043\n",
        "    1.59526469e-094]\n",
        " [  1.90793335e-051   2.55826969e-001   0.00000000e+000   6.76171208e-013\n",
        "    0.00000000e+000   0.00000000e+000   3.71325137e-003   3.09655120e-160\n",
        "    4.90957883e-001   0.00000000e+000   0.00000000e+000   1.17158283e-004\n",
        "    1.89134583e-013   0.00000000e+000   5.28621216e-025   2.41688045e-008\n",
        "    7.53411271e-003   0.00000000e+000   0.00000000e+000   0.00000000e+000\n",
        "    4.94980739e-060   1.13691771e-001   1.28158831e-001   3.67934559e-068\n",
        "    2.59659230e-011]\n",
        " [  5.17560775e-046   1.27701235e-001   0.00000000e+000   1.12921867e-048\n",
        "    0.00000000e+000   0.00000000e+000   4.88589332e-004   0.00000000e+000\n",
        "    7.91263034e-002   0.00000000e+000   2.34079749e-074   0.00000000e+000\n",
        "    4.91769332e-010   0.00000000e+000   7.50825315e-063   6.44153121e-015\n",
        "    7.67663114e-003   1.74328972e-064   1.35789659e-041   0.00000000e+000\n",
        "    6.74065491e-055   6.61440527e-012   7.85007241e-001   9.65514614e-072\n",
        "    5.04374773e-074]\n",
        " [  6.18796711e-031   2.32787521e-001   0.00000000e+000   4.04502634e-229\n",
        "    0.00000000e+000   0.00000000e+000   2.05670242e-002   0.00000000e+000\n",
        "    1.39600131e-001   0.00000000e+000   2.97135013e-044   8.69794447e-004\n",
        "    0.00000000e+000   0.00000000e+000   2.77480785e-048   7.07811973e-011\n",
        "    8.32106292e-002   0.00000000e+000   0.00000000e+000   0.00000000e+000\n",
        "    1.11000586e-051   4.71384106e-002   4.75826490e-001   1.41937768e-197\n",
        "    4.59020163e-085]\n",
        " [  3.05300758e-013   7.53093789e-001   0.00000000e+000   1.38281013e-014\n",
        "    0.00000000e+000   0.00000000e+000   1.50136960e-002   0.00000000e+000\n",
        "    4.36137796e-002   0.00000000e+000   2.62503494e-176   2.63254909e-004\n",
        "    5.18087743e-007   0.00000000e+000   1.66798312e-067   2.01925849e-002\n",
        "    1.39371349e-002   0.00000000e+000   1.67074147e-093   5.54248437e-202\n",
        "    7.00020729e-008   1.98935062e-002   1.33991667e-001   1.25041664e-064\n",
        "    2.30800254e-096]\n",
        " [  2.11923424e-041   3.44491235e-001   0.00000000e+000   1.78964151e-011\n",
        "    0.00000000e+000   0.00000000e+000   3.69065635e-002   1.30511457e-010\n",
        "    4.37897685e-001   0.00000000e+000   9.25094070e-122   4.15471559e-002\n",
        "    3.93946875e-017   0.00000000e+000   0.00000000e+000   6.74389400e-003\n",
        "    4.09825461e-002   0.00000000e+000   2.38255773e-050   0.00000000e+000\n",
        "    4.29134490e-013   2.00152587e-003   8.94293942e-002   0.00000000e+000\n",
        "    2.14516951e-022]\n",
        " [  1.78112872e-014   6.39398322e-001   0.00000000e+000   2.88675916e-060\n",
        "    0.00000000e+000   0.00000000e+000   1.06269013e-002   0.00000000e+000\n",
        "    1.39069609e-001   0.00000000e+000   8.52150059e-100   9.10835414e-002\n",
        "    2.64383197e-045   0.00000000e+000   7.45524905e-017   0.00000000e+000\n",
        "    6.77505360e-002   3.07587701e-289   2.86166170e-029   2.02604159e-122\n",
        "    9.78045138e-006   2.20610478e-002   3.00002618e-002   0.00000000e+000\n",
        "    2.59600974e-312]\n",
        " [  1.49454547e-007   3.90458702e-001   0.00000000e+000   7.02949420e-054\n",
        "    0.00000000e+000   0.00000000e+000   2.59887056e-001   3.75168944e-090\n",
        "    2.58533685e-001   0.00000000e+000   0.00000000e+000   3.10601074e-003\n",
        "    1.40867508e-003   0.00000000e+000   7.97626668e-053   2.81660513e-006\n",
        "    0.00000000e+000   2.26231735e-050   4.34456363e-073   1.50436924e-101\n",
        "    4.22593148e-025   6.69560312e-003   7.99073014e-002   0.00000000e+000\n",
        "    5.23258447e-110]\n",
        " [  4.60449439e-021   1.34640942e-001   0.00000000e+000   4.94549538e-125\n",
        "    0.00000000e+000   0.00000000e+000   1.04507771e-002   2.23095489e-005\n",
        "    3.14592459e-001   0.00000000e+000   4.67423796e-016   4.62078528e-001\n",
        "    7.71359108e-052   0.00000000e+000   4.66996595e-020   2.12106721e-007\n",
        "    5.06212480e-002   0.00000000e+000   0.00000000e+000   0.00000000e+000\n",
        "    3.70015618e-033   6.33051794e-038   2.75935181e-002   7.17520289e-009\n",
        "    8.13060943e-061]\n",
        " [  1.72333091e-002   3.04475291e-001   2.92080626e-194   1.57741167e-003\n",
        "    0.00000000e+000   8.27808723e-066   7.31370750e-002   1.10535195e-216\n",
        "    9.80268882e-002   0.00000000e+000   3.68368200e-032   2.75235785e-001\n",
        "    1.12402037e-037   0.00000000e+000   7.24475767e-052   8.43924172e-016\n",
        "    1.31992606e-001   1.83778990e-040   0.00000000e+000   2.49011500e-129\n",
        "    1.35982555e-022   5.90915669e-004   9.77307178e-002   5.38249139e-212\n",
        "    3.23352048e-022]\n",
        " [  9.31880458e-018   3.01471145e-001   0.00000000e+000   2.86614245e-061\n",
        "    0.00000000e+000   0.00000000e+000   8.50776966e-004   0.00000000e+000\n",
        "    4.84604807e-001   0.00000000e+000   3.40226571e-217   2.05995806e-002\n",
        "    1.59269415e-015   0.00000000e+000   7.17238911e-007   2.05143242e-006\n",
        "    1.28699845e-001   5.58276163e-105   2.96670768e-268   0.00000000e+000\n",
        "    3.15914601e-022   1.41599859e-004   6.36294768e-002   0.00000000e+000\n",
        "    9.97590392e-069]\n",
        " [  1.59540703e-016   4.59401237e-001   0.00000000e+000   6.63031544e-075\n",
        "    0.00000000e+000   0.00000000e+000   1.03402469e-001   3.28147190e-241\n",
        "    2.89970832e-001   0.00000000e+000   8.65388697e-016   1.92252602e-002\n",
        "    8.67152712e-030   0.00000000e+000   2.55079869e-023   1.36136544e-007\n",
        "    1.04500347e-002   0.00000000e+000   2.15674110e-022   0.00000000e+000\n",
        "    0.00000000e+000   4.23257375e-005   1.17507705e-001   1.46688980e-022\n",
        "    7.82953218e-130]\n",
        " [  9.51191642e-003   4.11978876e-001   0.00000000e+000   5.68426126e-206\n",
        "    0.00000000e+000   1.81879715e-102   1.14803303e-001   8.99987092e-018\n",
        "    3.35136023e-001   0.00000000e+000   1.13715649e-068   1.04760301e-001\n",
        "    3.40999525e-013   0.00000000e+000   1.90922003e-028   1.26852672e-002\n",
        "    2.82311876e-003   5.86340845e-259   5.18362744e-093   3.76235120e-038\n",
        "    6.75057284e-021   0.00000000e+000   8.30119565e-003   3.45845952e-323\n",
        "    3.71965064e-021]\n",
        " [  1.61541984e-002   4.74063403e-001   0.00000000e+000   2.22440654e-118\n",
        "    0.00000000e+000   0.00000000e+000   4.36742359e-003   2.20045189e-007\n",
        "    1.70964675e-001   0.00000000e+000   3.81807899e-150   2.67646373e-001\n",
        "    3.24801648e-009   0.00000000e+000   1.09136042e-081   3.22619691e-015\n",
        "    5.14440244e-002   5.83811146e-124   6.02550514e-048   0.00000000e+000\n",
        "    2.02335114e-104   2.73469611e-005   0.00000000e+000   1.53323323e-002\n",
        "    2.74558396e-077]\n",
        " [  3.45233207e-084   5.09836239e-001   0.00000000e+000   1.07177868e-096\n",
        "    0.00000000e+000   0.00000000e+000   5.04207973e-002   0.00000000e+000\n",
        "    1.27279907e-001   0.00000000e+000   0.00000000e+000   4.90023368e-002\n",
        "    1.14593828e-005   0.00000000e+000   7.28938594e-053   1.64713874e-002\n",
        "    2.20432109e-001   0.00000000e+000   1.75792866e-121   0.00000000e+000\n",
        "    2.62500926e-049   2.81724111e-003   2.11219499e-002   0.00000000e+000\n",
        "    2.60657390e-003]\n",
        " [  1.93269357e-102   3.68356736e-001   0.00000000e+000   1.29101890e-037\n",
        "    0.00000000e+000   0.00000000e+000   3.39961994e-003   0.00000000e+000\n",
        "    4.67735668e-001   0.00000000e+000   2.70046466e-307   1.13542371e-003\n",
        "    6.63386348e-066   0.00000000e+000   3.58698882e-017   1.25619317e-012\n",
        "    5.50898659e-002   3.33829911e-007   1.59067458e-003   0.00000000e+000\n",
        "    3.03293444e-039   5.80190490e-002   4.46726293e-002   6.36433104e-201\n",
        "    0.00000000e+000]]"
       ]
      },
      {
       "output_type": "stream",
       "stream": "stdout",
       "text": [
        "\n"
       ]
      }
     ],
     "prompt_number": 20
    },
    {
     "cell_type": "code",
     "collapsed": false,
     "input": [],
     "language": "python",
     "metadata": {},
     "outputs": [],
     "prompt_number": 19
    },
    {
     "cell_type": "code",
     "collapsed": false,
     "input": [],
     "language": "python",
     "metadata": {},
     "outputs": []
    }
   ],
   "metadata": {}
  }
 ]
}